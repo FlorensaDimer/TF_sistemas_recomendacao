{
 "cells": [
  {
   "cell_type": "markdown",
   "metadata": {},
   "source": [
    "# Sugestão de cidade do Estado do Rio Grande do Sul pelo Índice de Criminalidade\n",
    "### Para o trabalho final da disciplina de Sistemas Operacionais foi escolhido os bancos de dados Índice de Criminalidade (RS, 2023) e Estimativas Populacionais (RS, 2022). Os dados são reais e estão disponíveis no portal Dados Abertos RS do Estado do Rio Grande do Sul.\n",
    "###  O objetivo principal é analisar como o algoritmo k-means irá agrupar as cidades. Com este resultado, será possível responder: \"Quais as cidades o algoritmo sugere?\". De acordo com a resposta, futuramente seria possível o desenvolvimento de uma aplicação real de sugestão de cidade.\n",
    "\n",
    "Indíce de Criminalidade no RS: [https://dados.rs.gov.br/dataset/indicadores-criminais-de-2023](https://dados.rs.gov.br/dataset/indicadores-criminais-de-2023)\n",
    "\n",
    "Estimativas Populacionais no RS: [https://dados.rs.gov.br/dataset/dee-4259/resource/ce259dd9-c479-4a18-90b3-40098e6deb26](https://dados.rs.gov.br/dataset/dee-4259/resource/ce259dd9-c479-4a18-90b3-40098e6deb26)"
   ]
  },
  {
   "cell_type": "markdown",
   "metadata": {},
   "source": [
    "## Pré-processamento\n",
    "### Houve a necessidade de realizar o pré-processamento dos dados, pois foram disponibilizados em planilhas Excel com formatações diversas."
   ]
  },
  {
   "cell_type": "code",
   "execution_count": 1,
   "metadata": {},
   "outputs": [],
   "source": [
    "import pandas as pd"
   ]
  },
  {
   "cell_type": "markdown",
   "metadata": {},
   "source": [
    "#### Abertura dos arquivos de criminalidade por cidade em cada mês."
   ]
  },
  {
   "cell_type": "code",
   "execution_count": 2,
   "metadata": {},
   "outputs": [
    {
     "data": {
      "text/html": [
       "<div>\n",
       "<style scoped>\n",
       "    .dataframe tbody tr th:only-of-type {\n",
       "        vertical-align: middle;\n",
       "    }\n",
       "\n",
       "    .dataframe tbody tr th {\n",
       "        vertical-align: top;\n",
       "    }\n",
       "\n",
       "    .dataframe thead th {\n",
       "        text-align: right;\n",
       "    }\n",
       "</style>\n",
       "<table border=\"1\" class=\"dataframe\">\n",
       "  <thead>\n",
       "    <tr style=\"text-align: right;\">\n",
       "      <th></th>\n",
       "      <th>municipios</th>\n",
       "      <th>ibge</th>\n",
       "      <th>homicidio_doloso</th>\n",
       "      <th>total_vitimas_homicidio_doloso</th>\n",
       "      <th>latrocinio</th>\n",
       "      <th>furtos</th>\n",
       "      <th>abigeato</th>\n",
       "      <th>furto_veiculo</th>\n",
       "      <th>roubos</th>\n",
       "      <th>roubo_veiculo</th>\n",
       "      <th>estelionato</th>\n",
       "      <th>delitos_armas_municoes</th>\n",
       "      <th>entorpecente_posse</th>\n",
       "      <th>entorpecente_trafico</th>\n",
       "      <th>vitimas_latrocinio</th>\n",
       "      <th>vitimas_lesao_corporal_morte</th>\n",
       "      <th>total_vitimas_crimes_violentos</th>\n",
       "    </tr>\n",
       "  </thead>\n",
       "  <tbody>\n",
       "    <tr>\n",
       "      <th>0</th>\n",
       "      <td>acegua</td>\n",
       "      <td>4300034</td>\n",
       "      <td>0</td>\n",
       "      <td>0</td>\n",
       "      <td>0</td>\n",
       "      <td>20</td>\n",
       "      <td>8</td>\n",
       "      <td>0</td>\n",
       "      <td>3</td>\n",
       "      <td>0</td>\n",
       "      <td>27</td>\n",
       "      <td>4</td>\n",
       "      <td>3</td>\n",
       "      <td>0</td>\n",
       "      <td>0</td>\n",
       "      <td>0</td>\n",
       "      <td>0</td>\n",
       "    </tr>\n",
       "    <tr>\n",
       "      <th>1</th>\n",
       "      <td>agua santa</td>\n",
       "      <td>4300059</td>\n",
       "      <td>1</td>\n",
       "      <td>1</td>\n",
       "      <td>0</td>\n",
       "      <td>20</td>\n",
       "      <td>3</td>\n",
       "      <td>4</td>\n",
       "      <td>1</td>\n",
       "      <td>0</td>\n",
       "      <td>13</td>\n",
       "      <td>2</td>\n",
       "      <td>0</td>\n",
       "      <td>0</td>\n",
       "      <td>0</td>\n",
       "      <td>0</td>\n",
       "      <td>2</td>\n",
       "    </tr>\n",
       "    <tr>\n",
       "      <th>2</th>\n",
       "      <td>agudo</td>\n",
       "      <td>4300109</td>\n",
       "      <td>1</td>\n",
       "      <td>1</td>\n",
       "      <td>0</td>\n",
       "      <td>102</td>\n",
       "      <td>2</td>\n",
       "      <td>2</td>\n",
       "      <td>3</td>\n",
       "      <td>1</td>\n",
       "      <td>51</td>\n",
       "      <td>3</td>\n",
       "      <td>7</td>\n",
       "      <td>10</td>\n",
       "      <td>0</td>\n",
       "      <td>0</td>\n",
       "      <td>1</td>\n",
       "    </tr>\n",
       "    <tr>\n",
       "      <th>3</th>\n",
       "      <td>ajuricaba</td>\n",
       "      <td>4300208</td>\n",
       "      <td>0</td>\n",
       "      <td>0</td>\n",
       "      <td>0</td>\n",
       "      <td>26</td>\n",
       "      <td>1</td>\n",
       "      <td>0</td>\n",
       "      <td>1</td>\n",
       "      <td>0</td>\n",
       "      <td>28</td>\n",
       "      <td>2</td>\n",
       "      <td>3</td>\n",
       "      <td>0</td>\n",
       "      <td>0</td>\n",
       "      <td>0</td>\n",
       "      <td>0</td>\n",
       "    </tr>\n",
       "    <tr>\n",
       "      <th>4</th>\n",
       "      <td>alecrim</td>\n",
       "      <td>4300307</td>\n",
       "      <td>1</td>\n",
       "      <td>1</td>\n",
       "      <td>0</td>\n",
       "      <td>36</td>\n",
       "      <td>10</td>\n",
       "      <td>0</td>\n",
       "      <td>2</td>\n",
       "      <td>0</td>\n",
       "      <td>17</td>\n",
       "      <td>10</td>\n",
       "      <td>0</td>\n",
       "      <td>4</td>\n",
       "      <td>0</td>\n",
       "      <td>0</td>\n",
       "      <td>1</td>\n",
       "    </tr>\n",
       "  </tbody>\n",
       "</table>\n",
       "</div>"
      ],
      "text/plain": [
       "   municipios     ibge  homicidio_doloso  total_vitimas_homicidio_doloso  \\\n",
       "0      acegua  4300034                 0                               0   \n",
       "1  agua santa  4300059                 1                               1   \n",
       "2       agudo  4300109                 1                               1   \n",
       "3   ajuricaba  4300208                 0                               0   \n",
       "4     alecrim  4300307                 1                               1   \n",
       "\n",
       "   latrocinio  furtos  abigeato  furto_veiculo  roubos  roubo_veiculo  \\\n",
       "0           0      20         8              0       3              0   \n",
       "1           0      20         3              4       1              0   \n",
       "2           0     102         2              2       3              1   \n",
       "3           0      26         1              0       1              0   \n",
       "4           0      36        10              0       2              0   \n",
       "\n",
       "   estelionato  delitos_armas_municoes  entorpecente_posse  \\\n",
       "0           27                       4                   3   \n",
       "1           13                       2                   0   \n",
       "2           51                       3                   7   \n",
       "3           28                       2                   3   \n",
       "4           17                      10                   0   \n",
       "\n",
       "   entorpecente_trafico  vitimas_latrocinio  vitimas_lesao_corporal_morte  \\\n",
       "0                     0                   0                             0   \n",
       "1                     0                   0                             0   \n",
       "2                    10                   0                             0   \n",
       "3                     0                   0                             0   \n",
       "4                     4                   0                             0   \n",
       "\n",
       "   total_vitimas_crimes_violentos  \n",
       "0                               0  \n",
       "1                               2  \n",
       "2                               1  \n",
       "3                               0  \n",
       "4                               1  "
      ]
     },
     "execution_count": 2,
     "metadata": {},
     "output_type": "execute_result"
    }
   ],
   "source": [
    "# Lendo os arquivos csv e concatenando em um único dataframe\n",
    "meses = ['janeiro', 'fevereiro', 'marco', 'abril', 'maio', 'junho', 'julho', 'agosto', 'setembro', 'outubro', 'novembro', 'dezembro']\n",
    "\n",
    "dfs = []\n",
    "\n",
    "for mes in meses:\n",
    "        arquivo = pd.read_csv(f'data\\\\tocsv\\\\{mes}.csv', delimiter=';')\n",
    "        dfs.append(arquivo)\n",
    "\n",
    "df = pd.concat(dfs, ignore_index=True)\n",
    "\n",
    "df_criminal = df.groupby(['municipios', 'ibge']).sum().reset_index()\n",
    "\n",
    "\n",
    "df.to_csv('data\\\\tocsv\\\\total.csv', sep=';', index=False)\n",
    "\n",
    "df_criminal.head()\n"
   ]
  },
  {
   "cell_type": "markdown",
   "metadata": {},
   "source": [
    "#### Abertura do arquivo de quantidade de população por cidade em cada ano."
   ]
  },
  {
   "cell_type": "code",
   "execution_count": 3,
   "metadata": {},
   "outputs": [
    {
     "name": "stdout",
     "output_type": "stream",
     "text": [
      "<class 'pandas.core.frame.DataFrame'>\n",
      "RangeIndex: 497 entries, 0 to 496\n",
      "Data columns (total 16 columns):\n",
      " #   Column      Non-Null Count  Dtype  \n",
      "---  ------      --------------  -----  \n",
      " 0   municipios  497 non-null    object \n",
      " 1   ibge        497 non-null    int64  \n",
      " 2   latitude    497 non-null    float64\n",
      " 3   longitude   497 non-null    float64\n",
      " 4   2010        497 non-null    int32  \n",
      " 5   2011        497 non-null    int32  \n",
      " 6   2012        497 non-null    int32  \n",
      " 7   2013        497 non-null    int32  \n",
      " 8   2014        497 non-null    int32  \n",
      " 9   2015        497 non-null    int32  \n",
      " 10  2016        497 non-null    int32  \n",
      " 11  2017        497 non-null    int32  \n",
      " 12  2018        497 non-null    int32  \n",
      " 13  2019        497 non-null    int32  \n",
      " 14  2020        497 non-null    int32  \n",
      " 15  2021        497 non-null    int32  \n",
      "dtypes: float64(2), int32(12), int64(1), object(1)\n",
      "memory usage: 39.0+ KB\n"
     ]
    }
   ],
   "source": [
    "# Lendo o arquivo de população\n",
    "df_pop = pd.read_csv('data\\\\tocsv\\\\populacao.csv', delimiter=';')\n",
    "\n",
    "# Substituindo os valores de '.' e '-' por 0 e convertendo para inteiro\n",
    "for coluna in df_pop.columns[4:]:\n",
    "    df_pop[coluna] = df_pop[coluna].str.replace('.', '').str.replace('-', '0').astype(int)\n",
    "\n",
    "df_pop.info()\n"
   ]
  },
  {
   "cell_type": "markdown",
   "metadata": {},
   "source": [
    "### União dos dois banco de dados"
   ]
  },
  {
   "cell_type": "code",
   "execution_count": 4,
   "metadata": {},
   "outputs": [
    {
     "name": "stdout",
     "output_type": "stream",
     "text": [
      "<class 'pandas.core.frame.DataFrame'>\n",
      "RangeIndex: 497 entries, 0 to 496\n",
      "Data columns (total 31 columns):\n",
      " #   Column                          Non-Null Count  Dtype  \n",
      "---  ------                          --------------  -----  \n",
      " 0   municipios                      497 non-null    object \n",
      " 1   ibge                            497 non-null    int64  \n",
      " 2   homicidio_doloso                497 non-null    int64  \n",
      " 3   total_vitimas_homicidio_doloso  497 non-null    int64  \n",
      " 4   latrocinio                      497 non-null    int64  \n",
      " 5   furtos                          497 non-null    int64  \n",
      " 6   abigeato                        497 non-null    int64  \n",
      " 7   furto_veiculo                   497 non-null    int64  \n",
      " 8   roubos                          497 non-null    int64  \n",
      " 9   roubo_veiculo                   497 non-null    int64  \n",
      " 10  estelionato                     497 non-null    int64  \n",
      " 11  delitos_armas_municoes          497 non-null    int64  \n",
      " 12  entorpecente_posse              497 non-null    int64  \n",
      " 13  entorpecente_trafico            497 non-null    int64  \n",
      " 14  vitimas_latrocinio              497 non-null    int64  \n",
      " 15  vitimas_lesao_corporal_morte    497 non-null    int64  \n",
      " 16  total_vitimas_crimes_violentos  497 non-null    int64  \n",
      " 17  latitude                        497 non-null    float64\n",
      " 18  longitude                       497 non-null    float64\n",
      " 19  2010                            497 non-null    int32  \n",
      " 20  2011                            497 non-null    int32  \n",
      " 21  2012                            497 non-null    int32  \n",
      " 22  2013                            497 non-null    int32  \n",
      " 23  2014                            497 non-null    int32  \n",
      " 24  2015                            497 non-null    int32  \n",
      " 25  2016                            497 non-null    int32  \n",
      " 26  2017                            497 non-null    int32  \n",
      " 27  2018                            497 non-null    int32  \n",
      " 28  2019                            497 non-null    int32  \n",
      " 29  2020                            497 non-null    int32  \n",
      " 30  2021                            497 non-null    int32  \n",
      "dtypes: float64(2), int32(12), int64(16), object(1)\n",
      "memory usage: 97.2+ KB\n"
     ]
    }
   ],
   "source": [
    "# O merge é feito com base na coluna ibge como forma de chave estrangeira com o método inner\n",
    "df_merged = pd.merge(df_criminal, df_pop, how = 'inner', on = 'ibge').drop(columns=['municipios_y'])\n",
    "df_merged.rename(columns={'municipios_x': 'municipios'}, inplace=True)\n",
    "\n",
    "df_merged.info()"
   ]
  },
  {
   "cell_type": "markdown",
   "metadata": {},
   "source": [
    "### Cálculo da taxa de criminalidade a cada 1000 mil habitantes.\n",
    " Para que os dados das grandes cidades, com numerosa população, não tenham impacto nas análises estatísticas, calculasse a taxa de criminalidade percapita. Assim a comparação entre Índice de Criminalidade e População mantém a proporcionalidade."
   ]
  },
  {
   "cell_type": "code",
   "execution_count": 5,
   "metadata": {},
   "outputs": [],
   "source": [
    "# Lista das colunas que precisam ser calculadas\n",
    "colunas_taxa = df_criminal.columns[2:]\n",
    "\n",
    "# Calculando a taxa de criminalidade para cada mês\n",
    "for coluna_taxa in colunas_taxa:\n",
    "    for coluna_pop in df_pop.columns[4:]:\n",
    "            \n",
    "            # Calculando a taxa de criminalidade por 100.000 habitantes\n",
    "            df_merged[f'taxa_{coluna_taxa}'] = df_criminal[coluna_taxa] / df_pop[coluna_pop] * 100000\n",
    "\n",
    "# Salvando o dataframe em um arquivo csv\n",
    "df_merged.to_csv('data\\\\tocsv\\\\dados_criminalidade_população.csv', sep=';', index=False)\n",
    "\n",
    "#df_merged.info()\n"
   ]
  },
  {
   "cell_type": "markdown",
   "metadata": {},
   "source": [
    "### Normalização dos dados"
   ]
  },
  {
   "cell_type": "code",
   "execution_count": 6,
   "metadata": {},
   "outputs": [],
   "source": [
    "from sklearn.preprocessing import StandardScaler"
   ]
  },
  {
   "cell_type": "code",
   "execution_count": 7,
   "metadata": {},
   "outputs": [
    {
     "data": {
      "text/html": [
       "<div>\n",
       "<style scoped>\n",
       "    .dataframe tbody tr th:only-of-type {\n",
       "        vertical-align: middle;\n",
       "    }\n",
       "\n",
       "    .dataframe tbody tr th {\n",
       "        vertical-align: top;\n",
       "    }\n",
       "\n",
       "    .dataframe thead th {\n",
       "        text-align: right;\n",
       "    }\n",
       "</style>\n",
       "<table border=\"1\" class=\"dataframe\">\n",
       "  <thead>\n",
       "    <tr style=\"text-align: right;\">\n",
       "      <th></th>\n",
       "      <th>ibge</th>\n",
       "      <th>taxa_homicidio_doloso</th>\n",
       "      <th>taxa_total_vitimas_homicidio_doloso</th>\n",
       "      <th>taxa_latrocinio</th>\n",
       "      <th>taxa_furtos</th>\n",
       "      <th>taxa_abigeato</th>\n",
       "      <th>taxa_furto_veiculo</th>\n",
       "      <th>taxa_roubos</th>\n",
       "      <th>taxa_roubo_veiculo</th>\n",
       "      <th>taxa_estelionato</th>\n",
       "      <th>taxa_delitos_armas_municoes</th>\n",
       "      <th>taxa_entorpecente_posse</th>\n",
       "      <th>taxa_entorpecente_trafico</th>\n",
       "      <th>taxa_vitimas_latrocinio</th>\n",
       "      <th>taxa_vitimas_lesao_corporal_morte</th>\n",
       "      <th>taxa_total_vitimas_crimes_violentos</th>\n",
       "    </tr>\n",
       "    <tr>\n",
       "      <th>municipios</th>\n",
       "      <th></th>\n",
       "      <th></th>\n",
       "      <th></th>\n",
       "      <th></th>\n",
       "      <th></th>\n",
       "      <th></th>\n",
       "      <th></th>\n",
       "      <th></th>\n",
       "      <th></th>\n",
       "      <th></th>\n",
       "      <th></th>\n",
       "      <th></th>\n",
       "      <th></th>\n",
       "      <th></th>\n",
       "      <th></th>\n",
       "      <th></th>\n",
       "    </tr>\n",
       "  </thead>\n",
       "  <tbody>\n",
       "    <tr>\n",
       "      <th>acegua</th>\n",
       "      <td>4300034</td>\n",
       "      <td>0.000000</td>\n",
       "      <td>0.000000</td>\n",
       "      <td>0.0</td>\n",
       "      <td>443.951165</td>\n",
       "      <td>177.580466</td>\n",
       "      <td>0.000000</td>\n",
       "      <td>66.592675</td>\n",
       "      <td>0.000000</td>\n",
       "      <td>599.334073</td>\n",
       "      <td>88.790233</td>\n",
       "      <td>66.592675</td>\n",
       "      <td>0.000000</td>\n",
       "      <td>0.0</td>\n",
       "      <td>0.0</td>\n",
       "      <td>0.000000</td>\n",
       "    </tr>\n",
       "    <tr>\n",
       "      <th>agua santa</th>\n",
       "      <td>4300059</td>\n",
       "      <td>23.496241</td>\n",
       "      <td>23.496241</td>\n",
       "      <td>0.0</td>\n",
       "      <td>469.924812</td>\n",
       "      <td>70.488722</td>\n",
       "      <td>93.984962</td>\n",
       "      <td>23.496241</td>\n",
       "      <td>0.000000</td>\n",
       "      <td>305.451128</td>\n",
       "      <td>46.992481</td>\n",
       "      <td>0.000000</td>\n",
       "      <td>0.000000</td>\n",
       "      <td>0.0</td>\n",
       "      <td>0.0</td>\n",
       "      <td>46.992481</td>\n",
       "    </tr>\n",
       "    <tr>\n",
       "      <th>agudo</th>\n",
       "      <td>4300109</td>\n",
       "      <td>6.019745</td>\n",
       "      <td>6.019745</td>\n",
       "      <td>0.0</td>\n",
       "      <td>614.013966</td>\n",
       "      <td>12.039490</td>\n",
       "      <td>12.039490</td>\n",
       "      <td>18.059234</td>\n",
       "      <td>6.019745</td>\n",
       "      <td>307.006983</td>\n",
       "      <td>18.059234</td>\n",
       "      <td>42.138213</td>\n",
       "      <td>60.197448</td>\n",
       "      <td>0.0</td>\n",
       "      <td>0.0</td>\n",
       "      <td>6.019745</td>\n",
       "    </tr>\n",
       "    <tr>\n",
       "      <th>ajuricaba</th>\n",
       "      <td>4300208</td>\n",
       "      <td>0.000000</td>\n",
       "      <td>0.000000</td>\n",
       "      <td>0.0</td>\n",
       "      <td>349.133879</td>\n",
       "      <td>13.428226</td>\n",
       "      <td>0.000000</td>\n",
       "      <td>13.428226</td>\n",
       "      <td>0.000000</td>\n",
       "      <td>375.990332</td>\n",
       "      <td>26.856452</td>\n",
       "      <td>40.284678</td>\n",
       "      <td>0.000000</td>\n",
       "      <td>0.0</td>\n",
       "      <td>0.0</td>\n",
       "      <td>0.000000</td>\n",
       "    </tr>\n",
       "    <tr>\n",
       "      <th>alecrim</th>\n",
       "      <td>4300307</td>\n",
       "      <td>15.617679</td>\n",
       "      <td>15.617679</td>\n",
       "      <td>0.0</td>\n",
       "      <td>562.236452</td>\n",
       "      <td>156.176792</td>\n",
       "      <td>0.000000</td>\n",
       "      <td>31.235358</td>\n",
       "      <td>0.000000</td>\n",
       "      <td>265.500547</td>\n",
       "      <td>156.176792</td>\n",
       "      <td>0.000000</td>\n",
       "      <td>62.470717</td>\n",
       "      <td>0.0</td>\n",
       "      <td>0.0</td>\n",
       "      <td>15.617679</td>\n",
       "    </tr>\n",
       "  </tbody>\n",
       "</table>\n",
       "</div>"
      ],
      "text/plain": [
       "               ibge  taxa_homicidio_doloso  \\\n",
       "municipios                                   \n",
       "acegua      4300034               0.000000   \n",
       "agua santa  4300059              23.496241   \n",
       "agudo       4300109               6.019745   \n",
       "ajuricaba   4300208               0.000000   \n",
       "alecrim     4300307              15.617679   \n",
       "\n",
       "            taxa_total_vitimas_homicidio_doloso  taxa_latrocinio  taxa_furtos  \\\n",
       "municipios                                                                      \n",
       "acegua                                 0.000000              0.0   443.951165   \n",
       "agua santa                            23.496241              0.0   469.924812   \n",
       "agudo                                  6.019745              0.0   614.013966   \n",
       "ajuricaba                              0.000000              0.0   349.133879   \n",
       "alecrim                               15.617679              0.0   562.236452   \n",
       "\n",
       "            taxa_abigeato  taxa_furto_veiculo  taxa_roubos  \\\n",
       "municipios                                                   \n",
       "acegua         177.580466            0.000000    66.592675   \n",
       "agua santa      70.488722           93.984962    23.496241   \n",
       "agudo           12.039490           12.039490    18.059234   \n",
       "ajuricaba       13.428226            0.000000    13.428226   \n",
       "alecrim        156.176792            0.000000    31.235358   \n",
       "\n",
       "            taxa_roubo_veiculo  taxa_estelionato  taxa_delitos_armas_municoes  \\\n",
       "municipios                                                                      \n",
       "acegua                0.000000        599.334073                    88.790233   \n",
       "agua santa            0.000000        305.451128                    46.992481   \n",
       "agudo                 6.019745        307.006983                    18.059234   \n",
       "ajuricaba             0.000000        375.990332                    26.856452   \n",
       "alecrim               0.000000        265.500547                   156.176792   \n",
       "\n",
       "            taxa_entorpecente_posse  taxa_entorpecente_trafico  \\\n",
       "municipios                                                       \n",
       "acegua                    66.592675                   0.000000   \n",
       "agua santa                 0.000000                   0.000000   \n",
       "agudo                     42.138213                  60.197448   \n",
       "ajuricaba                 40.284678                   0.000000   \n",
       "alecrim                    0.000000                  62.470717   \n",
       "\n",
       "            taxa_vitimas_latrocinio  taxa_vitimas_lesao_corporal_morte  \\\n",
       "municipios                                                               \n",
       "acegua                          0.0                                0.0   \n",
       "agua santa                      0.0                                0.0   \n",
       "agudo                           0.0                                0.0   \n",
       "ajuricaba                       0.0                                0.0   \n",
       "alecrim                         0.0                                0.0   \n",
       "\n",
       "            taxa_total_vitimas_crimes_violentos  \n",
       "municipios                                       \n",
       "acegua                                 0.000000  \n",
       "agua santa                            46.992481  \n",
       "agudo                                  6.019745  \n",
       "ajuricaba                              0.000000  \n",
       "alecrim                               15.617679  "
      ]
     },
     "execution_count": 7,
     "metadata": {},
     "output_type": "execute_result"
    }
   ],
   "source": [
    "# Lista das colunas extras que não são necessárias\n",
    "colunas_extras = df_merged.columns[2:-15]\n",
    "\n",
    "# Removendo as colunas extras\n",
    "df_taxa = df_merged.drop(colunas_extras, axis=1)\n",
    "\n",
    "df_taxa.set_index('municipios', inplace=True)\n",
    "\n",
    "# Salvando o dataframe em um arquivo csv\n",
    "df_taxa.to_csv('data\\\\tocsv\\\\dados_taxa_criminalidade.csv', sep=';', index=False)\n",
    "\n",
    "df_taxa.head()\n",
    "\n"
   ]
  },
  {
   "cell_type": "code",
   "execution_count": 8,
   "metadata": {},
   "outputs": [
    {
     "data": {
      "text/html": [
       "<div>\n",
       "<style scoped>\n",
       "    .dataframe tbody tr th:only-of-type {\n",
       "        vertical-align: middle;\n",
       "    }\n",
       "\n",
       "    .dataframe tbody tr th {\n",
       "        vertical-align: top;\n",
       "    }\n",
       "\n",
       "    .dataframe thead th {\n",
       "        text-align: right;\n",
       "    }\n",
       "</style>\n",
       "<table border=\"1\" class=\"dataframe\">\n",
       "  <thead>\n",
       "    <tr style=\"text-align: right;\">\n",
       "      <th></th>\n",
       "      <th>taxa_homicidio_doloso</th>\n",
       "      <th>taxa_total_vitimas_homicidio_doloso</th>\n",
       "      <th>taxa_latrocinio</th>\n",
       "      <th>taxa_furtos</th>\n",
       "      <th>taxa_abigeato</th>\n",
       "      <th>taxa_furto_veiculo</th>\n",
       "      <th>taxa_roubos</th>\n",
       "      <th>taxa_roubo_veiculo</th>\n",
       "      <th>taxa_estelionato</th>\n",
       "      <th>taxa_delitos_armas_municoes</th>\n",
       "      <th>taxa_entorpecente_posse</th>\n",
       "      <th>taxa_entorpecente_trafico</th>\n",
       "      <th>taxa_vitimas_latrocinio</th>\n",
       "      <th>taxa_vitimas_lesao_corporal_morte</th>\n",
       "      <th>taxa_total_vitimas_crimes_violentos</th>\n",
       "    </tr>\n",
       "    <tr>\n",
       "      <th>municipios</th>\n",
       "      <th></th>\n",
       "      <th></th>\n",
       "      <th></th>\n",
       "      <th></th>\n",
       "      <th></th>\n",
       "      <th></th>\n",
       "      <th></th>\n",
       "      <th></th>\n",
       "      <th></th>\n",
       "      <th></th>\n",
       "      <th></th>\n",
       "      <th></th>\n",
       "      <th></th>\n",
       "      <th></th>\n",
       "      <th></th>\n",
       "    </tr>\n",
       "  </thead>\n",
       "  <tbody>\n",
       "    <tr>\n",
       "      <th>acegua</th>\n",
       "      <td>-0.667278</td>\n",
       "      <td>-0.662982</td>\n",
       "      <td>-0.148096</td>\n",
       "      <td>-0.577293</td>\n",
       "      <td>0.767363</td>\n",
       "      <td>-1.069329</td>\n",
       "      <td>0.166330</td>\n",
       "      <td>-0.452223</td>\n",
       "      <td>0.466024</td>\n",
       "      <td>0.248269</td>\n",
       "      <td>-0.355126</td>\n",
       "      <td>-0.849788</td>\n",
       "      <td>-0.148096</td>\n",
       "      <td>-0.118741</td>\n",
       "      <td>-0.734935</td>\n",
       "    </tr>\n",
       "    <tr>\n",
       "      <th>agua santa</th>\n",
       "      <td>1.041006</td>\n",
       "      <td>0.952049</td>\n",
       "      <td>-0.148096</td>\n",
       "      <td>-0.517225</td>\n",
       "      <td>-0.070088</td>\n",
       "      <td>1.614715</td>\n",
       "      <td>-0.312287</td>\n",
       "      <td>-0.452223</td>\n",
       "      <td>-0.696525</td>\n",
       "      <td>-0.290999</td>\n",
       "      <td>-0.883722</td>\n",
       "      <td>-0.849788</td>\n",
       "      <td>-0.148096</td>\n",
       "      <td>-0.118741</td>\n",
       "      <td>1.998682</td>\n",
       "    </tr>\n",
       "    <tr>\n",
       "      <th>agudo</th>\n",
       "      <td>-0.229615</td>\n",
       "      <td>-0.249211</td>\n",
       "      <td>-0.148096</td>\n",
       "      <td>-0.183993</td>\n",
       "      <td>-0.527157</td>\n",
       "      <td>-0.725502</td>\n",
       "      <td>-0.372669</td>\n",
       "      <td>-0.072440</td>\n",
       "      <td>-0.690371</td>\n",
       "      <td>-0.664292</td>\n",
       "      <td>-0.549240</td>\n",
       "      <td>-0.114174</td>\n",
       "      <td>-0.148096</td>\n",
       "      <td>-0.118741</td>\n",
       "      <td>-0.384758</td>\n",
       "    </tr>\n",
       "    <tr>\n",
       "      <th>ajuricaba</th>\n",
       "      <td>-0.667278</td>\n",
       "      <td>-0.662982</td>\n",
       "      <td>-0.148096</td>\n",
       "      <td>-0.796575</td>\n",
       "      <td>-0.516297</td>\n",
       "      <td>-1.069329</td>\n",
       "      <td>-0.424100</td>\n",
       "      <td>-0.452223</td>\n",
       "      <td>-0.417485</td>\n",
       "      <td>-0.550791</td>\n",
       "      <td>-0.563952</td>\n",
       "      <td>-0.849788</td>\n",
       "      <td>-0.148096</td>\n",
       "      <td>-0.118741</td>\n",
       "      <td>-0.734935</td>\n",
       "    </tr>\n",
       "    <tr>\n",
       "      <th>alecrim</th>\n",
       "      <td>0.468199</td>\n",
       "      <td>0.410511</td>\n",
       "      <td>-0.148096</td>\n",
       "      <td>-0.303737</td>\n",
       "      <td>0.599988</td>\n",
       "      <td>-1.069329</td>\n",
       "      <td>-0.226339</td>\n",
       "      <td>-0.452223</td>\n",
       "      <td>-0.854563</td>\n",
       "      <td>1.117681</td>\n",
       "      <td>-0.883722</td>\n",
       "      <td>-0.086395</td>\n",
       "      <td>-0.148096</td>\n",
       "      <td>-0.118741</td>\n",
       "      <td>0.173567</td>\n",
       "    </tr>\n",
       "  </tbody>\n",
       "</table>\n",
       "</div>"
      ],
      "text/plain": [
       "            taxa_homicidio_doloso  taxa_total_vitimas_homicidio_doloso  \\\n",
       "municipios                                                               \n",
       "acegua                  -0.667278                            -0.662982   \n",
       "agua santa               1.041006                             0.952049   \n",
       "agudo                   -0.229615                            -0.249211   \n",
       "ajuricaba               -0.667278                            -0.662982   \n",
       "alecrim                  0.468199                             0.410511   \n",
       "\n",
       "            taxa_latrocinio  taxa_furtos  taxa_abigeato  taxa_furto_veiculo  \\\n",
       "municipios                                                                    \n",
       "acegua            -0.148096    -0.577293       0.767363           -1.069329   \n",
       "agua santa        -0.148096    -0.517225      -0.070088            1.614715   \n",
       "agudo             -0.148096    -0.183993      -0.527157           -0.725502   \n",
       "ajuricaba         -0.148096    -0.796575      -0.516297           -1.069329   \n",
       "alecrim           -0.148096    -0.303737       0.599988           -1.069329   \n",
       "\n",
       "            taxa_roubos  taxa_roubo_veiculo  taxa_estelionato  \\\n",
       "municipios                                                      \n",
       "acegua         0.166330           -0.452223          0.466024   \n",
       "agua santa    -0.312287           -0.452223         -0.696525   \n",
       "agudo         -0.372669           -0.072440         -0.690371   \n",
       "ajuricaba     -0.424100           -0.452223         -0.417485   \n",
       "alecrim       -0.226339           -0.452223         -0.854563   \n",
       "\n",
       "            taxa_delitos_armas_municoes  taxa_entorpecente_posse  \\\n",
       "municipios                                                         \n",
       "acegua                         0.248269                -0.355126   \n",
       "agua santa                    -0.290999                -0.883722   \n",
       "agudo                         -0.664292                -0.549240   \n",
       "ajuricaba                     -0.550791                -0.563952   \n",
       "alecrim                        1.117681                -0.883722   \n",
       "\n",
       "            taxa_entorpecente_trafico  taxa_vitimas_latrocinio  \\\n",
       "municipios                                                       \n",
       "acegua                      -0.849788                -0.148096   \n",
       "agua santa                  -0.849788                -0.148096   \n",
       "agudo                       -0.114174                -0.148096   \n",
       "ajuricaba                   -0.849788                -0.148096   \n",
       "alecrim                     -0.086395                -0.148096   \n",
       "\n",
       "            taxa_vitimas_lesao_corporal_morte  \\\n",
       "municipios                                      \n",
       "acegua                              -0.118741   \n",
       "agua santa                          -0.118741   \n",
       "agudo                               -0.118741   \n",
       "ajuricaba                           -0.118741   \n",
       "alecrim                             -0.118741   \n",
       "\n",
       "            taxa_total_vitimas_crimes_violentos  \n",
       "municipios                                       \n",
       "acegua                                -0.734935  \n",
       "agua santa                             1.998682  \n",
       "agudo                                 -0.384758  \n",
       "ajuricaba                             -0.734935  \n",
       "alecrim                                0.173567  "
      ]
     },
     "execution_count": 8,
     "metadata": {},
     "output_type": "execute_result"
    }
   ],
   "source": [
    "# Selecionando somente as colunas do tipo float\n",
    "df_taxa.drop(['ibge'], axis='columns', inplace=True)\n",
    "\n",
    "# Normalizando os dados média 0 e desvio padrão 1\n",
    "scaler = StandardScaler(with_std=True, with_mean=True)\n",
    "data_scaled = pd.DataFrame(scaler.fit_transform(df_taxa), columns=df_taxa.columns, index=df_taxa.index)\n",
    "\n",
    "data_scaled.head()"
   ]
  },
  {
   "cell_type": "markdown",
   "metadata": {},
   "source": [
    "## Redução de Dimensionalidade\n",
    "### O dataset agora tem dados suficientes para ranquear as cidades em mais seguras e não seguras com dados proporcionais a população. Entretanto, existem muitas colunas. A alta dimensionalidade deixará o processo de aprendizado confuso criando um sobreajuste nos dados. Então é aplicado o PCA, uma técnida de redução de dimensionalidade.\n",
    "### Para fins de demonstração, será usado somente uma amostra de 20 cidades.\n",
    "\n"
   ]
  },
  {
   "cell_type": "code",
   "execution_count": 9,
   "metadata": {},
   "outputs": [
    {
     "name": "stdout",
     "output_type": "stream",
     "text": [
      "<class 'pandas.core.frame.DataFrame'>\n",
      "Index: 50 entries, viadutos to sagrada familia\n",
      "Data columns (total 15 columns):\n",
      " #   Column                               Non-Null Count  Dtype  \n",
      "---  ------                               --------------  -----  \n",
      " 0   taxa_homicidio_doloso                50 non-null     float64\n",
      " 1   taxa_total_vitimas_homicidio_doloso  50 non-null     float64\n",
      " 2   taxa_latrocinio                      50 non-null     float64\n",
      " 3   taxa_furtos                          50 non-null     float64\n",
      " 4   taxa_abigeato                        50 non-null     float64\n",
      " 5   taxa_furto_veiculo                   50 non-null     float64\n",
      " 6   taxa_roubos                          50 non-null     float64\n",
      " 7   taxa_roubo_veiculo                   50 non-null     float64\n",
      " 8   taxa_estelionato                     50 non-null     float64\n",
      " 9   taxa_delitos_armas_municoes          50 non-null     float64\n",
      " 10  taxa_entorpecente_posse              50 non-null     float64\n",
      " 11  taxa_entorpecente_trafico            50 non-null     float64\n",
      " 12  taxa_vitimas_latrocinio              50 non-null     float64\n",
      " 13  taxa_vitimas_lesao_corporal_morte    50 non-null     float64\n",
      " 14  taxa_total_vitimas_crimes_violentos  50 non-null     float64\n",
      "dtypes: float64(15)\n",
      "memory usage: 6.2+ KB\n"
     ]
    }
   ],
   "source": [
    "# Selecionando 20 linhas aleatórias\n",
    "df_sample= data_scaled.sample(n=50, axis=0, random_state=42)\n",
    "\n",
    "df_sample.info()\n"
   ]
  },
  {
   "cell_type": "code",
   "execution_count": 10,
   "metadata": {},
   "outputs": [],
   "source": [
    "import numpy as np\n",
    "\n",
    "from statsmodels.datasets import get_rdataset\n",
    "from sklearn.decomposition import PCA\n"
   ]
  },
  {
   "cell_type": "code",
   "execution_count": 11,
   "metadata": {},
   "outputs": [
    {
     "data": {
      "text/plain": [
       "15"
      ]
     },
     "execution_count": 11,
     "metadata": {},
     "output_type": "execute_result"
    }
   ],
   "source": [
    "# Aplicando a PCA\n",
    "pca = PCA()\n",
    "components = pca.fit_transform(df_sample)\n",
    "\n",
    "components.shape[1]"
   ]
  },
  {
   "cell_type": "code",
   "execution_count": 12,
   "metadata": {},
   "outputs": [
    {
     "data": {
      "text/plain": [
       "array([4.47098635e-01, 2.32033748e-01, 8.44082114e-02, 5.04889539e-02,\n",
       "       4.27235110e-02, 3.16276294e-02, 2.96811723e-02, 2.64778045e-02,\n",
       "       2.25440246e-02, 1.69125929e-02, 1.13581028e-02, 2.73685904e-03,\n",
       "       1.71629956e-03, 1.92455252e-04, 1.22165798e-33])"
      ]
     },
     "execution_count": 12,
     "metadata": {},
     "output_type": "execute_result"
    }
   ],
   "source": [
    "# Analise de como os componentes estão explicando os dados com a variância explicada\n",
    "pca.explained_variance_ratio_"
   ]
  },
  {
   "cell_type": "code",
   "execution_count": 13,
   "metadata": {},
   "outputs": [],
   "source": [
    "import plotly.express as px\n",
    "import plotly.offline as py\n",
    "import plotly.graph_objects as go"
   ]
  },
  {
   "cell_type": "code",
   "execution_count": 14,
   "metadata": {},
   "outputs": [
    {
     "data": {
      "application/vnd.plotly.v1+json": {
       "config": {
        "plotlyServerURL": "https://plot.ly"
       },
       "data": [
        {
         "fillpattern": {
          "shape": ""
         },
         "hovertemplate": "Componentes Principais=%{x}<br>Variância Explicada Acumulada=%{y}<extra></extra>",
         "legendgroup": "",
         "line": {
          "color": "#636efa"
         },
         "marker": {
          "symbol": "circle"
         },
         "mode": "lines",
         "name": "",
         "orientation": "v",
         "showlegend": false,
         "stackgroup": "1",
         "type": "scatter",
         "x": [
          1,
          2,
          3,
          4,
          5,
          6,
          7,
          8,
          9,
          10,
          11,
          12,
          13,
          14,
          15
         ],
         "xaxis": "x",
         "y": [
          0.44709863533258387,
          0.6791323832874416,
          0.763540594665124,
          0.814029548614179,
          0.856753059570158,
          0.8883806889263018,
          0.9180618612677459,
          0.9445396658107283,
          0.9670836904401,
          0.9839962833485946,
          0.9953543861437064,
          0.9980912451862306,
          0.9998075447478063,
          1.0000000000000002,
          1.0000000000000002
         ],
         "yaxis": "y"
        }
       ],
       "layout": {
        "legend": {
         "tracegroupgap": 0
        },
        "margin": {
         "t": 60
        },
        "template": {
         "data": {
          "bar": [
           {
            "error_x": {
             "color": "#2a3f5f"
            },
            "error_y": {
             "color": "#2a3f5f"
            },
            "marker": {
             "line": {
              "color": "#E5ECF6",
              "width": 0.5
             },
             "pattern": {
              "fillmode": "overlay",
              "size": 10,
              "solidity": 0.2
             }
            },
            "type": "bar"
           }
          ],
          "barpolar": [
           {
            "marker": {
             "line": {
              "color": "#E5ECF6",
              "width": 0.5
             },
             "pattern": {
              "fillmode": "overlay",
              "size": 10,
              "solidity": 0.2
             }
            },
            "type": "barpolar"
           }
          ],
          "carpet": [
           {
            "aaxis": {
             "endlinecolor": "#2a3f5f",
             "gridcolor": "white",
             "linecolor": "white",
             "minorgridcolor": "white",
             "startlinecolor": "#2a3f5f"
            },
            "baxis": {
             "endlinecolor": "#2a3f5f",
             "gridcolor": "white",
             "linecolor": "white",
             "minorgridcolor": "white",
             "startlinecolor": "#2a3f5f"
            },
            "type": "carpet"
           }
          ],
          "choropleth": [
           {
            "colorbar": {
             "outlinewidth": 0,
             "ticks": ""
            },
            "type": "choropleth"
           }
          ],
          "contour": [
           {
            "colorbar": {
             "outlinewidth": 0,
             "ticks": ""
            },
            "colorscale": [
             [
              0,
              "#0d0887"
             ],
             [
              0.1111111111111111,
              "#46039f"
             ],
             [
              0.2222222222222222,
              "#7201a8"
             ],
             [
              0.3333333333333333,
              "#9c179e"
             ],
             [
              0.4444444444444444,
              "#bd3786"
             ],
             [
              0.5555555555555556,
              "#d8576b"
             ],
             [
              0.6666666666666666,
              "#ed7953"
             ],
             [
              0.7777777777777778,
              "#fb9f3a"
             ],
             [
              0.8888888888888888,
              "#fdca26"
             ],
             [
              1,
              "#f0f921"
             ]
            ],
            "type": "contour"
           }
          ],
          "contourcarpet": [
           {
            "colorbar": {
             "outlinewidth": 0,
             "ticks": ""
            },
            "type": "contourcarpet"
           }
          ],
          "heatmap": [
           {
            "colorbar": {
             "outlinewidth": 0,
             "ticks": ""
            },
            "colorscale": [
             [
              0,
              "#0d0887"
             ],
             [
              0.1111111111111111,
              "#46039f"
             ],
             [
              0.2222222222222222,
              "#7201a8"
             ],
             [
              0.3333333333333333,
              "#9c179e"
             ],
             [
              0.4444444444444444,
              "#bd3786"
             ],
             [
              0.5555555555555556,
              "#d8576b"
             ],
             [
              0.6666666666666666,
              "#ed7953"
             ],
             [
              0.7777777777777778,
              "#fb9f3a"
             ],
             [
              0.8888888888888888,
              "#fdca26"
             ],
             [
              1,
              "#f0f921"
             ]
            ],
            "type": "heatmap"
           }
          ],
          "heatmapgl": [
           {
            "colorbar": {
             "outlinewidth": 0,
             "ticks": ""
            },
            "colorscale": [
             [
              0,
              "#0d0887"
             ],
             [
              0.1111111111111111,
              "#46039f"
             ],
             [
              0.2222222222222222,
              "#7201a8"
             ],
             [
              0.3333333333333333,
              "#9c179e"
             ],
             [
              0.4444444444444444,
              "#bd3786"
             ],
             [
              0.5555555555555556,
              "#d8576b"
             ],
             [
              0.6666666666666666,
              "#ed7953"
             ],
             [
              0.7777777777777778,
              "#fb9f3a"
             ],
             [
              0.8888888888888888,
              "#fdca26"
             ],
             [
              1,
              "#f0f921"
             ]
            ],
            "type": "heatmapgl"
           }
          ],
          "histogram": [
           {
            "marker": {
             "pattern": {
              "fillmode": "overlay",
              "size": 10,
              "solidity": 0.2
             }
            },
            "type": "histogram"
           }
          ],
          "histogram2d": [
           {
            "colorbar": {
             "outlinewidth": 0,
             "ticks": ""
            },
            "colorscale": [
             [
              0,
              "#0d0887"
             ],
             [
              0.1111111111111111,
              "#46039f"
             ],
             [
              0.2222222222222222,
              "#7201a8"
             ],
             [
              0.3333333333333333,
              "#9c179e"
             ],
             [
              0.4444444444444444,
              "#bd3786"
             ],
             [
              0.5555555555555556,
              "#d8576b"
             ],
             [
              0.6666666666666666,
              "#ed7953"
             ],
             [
              0.7777777777777778,
              "#fb9f3a"
             ],
             [
              0.8888888888888888,
              "#fdca26"
             ],
             [
              1,
              "#f0f921"
             ]
            ],
            "type": "histogram2d"
           }
          ],
          "histogram2dcontour": [
           {
            "colorbar": {
             "outlinewidth": 0,
             "ticks": ""
            },
            "colorscale": [
             [
              0,
              "#0d0887"
             ],
             [
              0.1111111111111111,
              "#46039f"
             ],
             [
              0.2222222222222222,
              "#7201a8"
             ],
             [
              0.3333333333333333,
              "#9c179e"
             ],
             [
              0.4444444444444444,
              "#bd3786"
             ],
             [
              0.5555555555555556,
              "#d8576b"
             ],
             [
              0.6666666666666666,
              "#ed7953"
             ],
             [
              0.7777777777777778,
              "#fb9f3a"
             ],
             [
              0.8888888888888888,
              "#fdca26"
             ],
             [
              1,
              "#f0f921"
             ]
            ],
            "type": "histogram2dcontour"
           }
          ],
          "mesh3d": [
           {
            "colorbar": {
             "outlinewidth": 0,
             "ticks": ""
            },
            "type": "mesh3d"
           }
          ],
          "parcoords": [
           {
            "line": {
             "colorbar": {
              "outlinewidth": 0,
              "ticks": ""
             }
            },
            "type": "parcoords"
           }
          ],
          "pie": [
           {
            "automargin": true,
            "type": "pie"
           }
          ],
          "scatter": [
           {
            "fillpattern": {
             "fillmode": "overlay",
             "size": 10,
             "solidity": 0.2
            },
            "type": "scatter"
           }
          ],
          "scatter3d": [
           {
            "line": {
             "colorbar": {
              "outlinewidth": 0,
              "ticks": ""
             }
            },
            "marker": {
             "colorbar": {
              "outlinewidth": 0,
              "ticks": ""
             }
            },
            "type": "scatter3d"
           }
          ],
          "scattercarpet": [
           {
            "marker": {
             "colorbar": {
              "outlinewidth": 0,
              "ticks": ""
             }
            },
            "type": "scattercarpet"
           }
          ],
          "scattergeo": [
           {
            "marker": {
             "colorbar": {
              "outlinewidth": 0,
              "ticks": ""
             }
            },
            "type": "scattergeo"
           }
          ],
          "scattergl": [
           {
            "marker": {
             "colorbar": {
              "outlinewidth": 0,
              "ticks": ""
             }
            },
            "type": "scattergl"
           }
          ],
          "scattermapbox": [
           {
            "marker": {
             "colorbar": {
              "outlinewidth": 0,
              "ticks": ""
             }
            },
            "type": "scattermapbox"
           }
          ],
          "scatterpolar": [
           {
            "marker": {
             "colorbar": {
              "outlinewidth": 0,
              "ticks": ""
             }
            },
            "type": "scatterpolar"
           }
          ],
          "scatterpolargl": [
           {
            "marker": {
             "colorbar": {
              "outlinewidth": 0,
              "ticks": ""
             }
            },
            "type": "scatterpolargl"
           }
          ],
          "scatterternary": [
           {
            "marker": {
             "colorbar": {
              "outlinewidth": 0,
              "ticks": ""
             }
            },
            "type": "scatterternary"
           }
          ],
          "surface": [
           {
            "colorbar": {
             "outlinewidth": 0,
             "ticks": ""
            },
            "colorscale": [
             [
              0,
              "#0d0887"
             ],
             [
              0.1111111111111111,
              "#46039f"
             ],
             [
              0.2222222222222222,
              "#7201a8"
             ],
             [
              0.3333333333333333,
              "#9c179e"
             ],
             [
              0.4444444444444444,
              "#bd3786"
             ],
             [
              0.5555555555555556,
              "#d8576b"
             ],
             [
              0.6666666666666666,
              "#ed7953"
             ],
             [
              0.7777777777777778,
              "#fb9f3a"
             ],
             [
              0.8888888888888888,
              "#fdca26"
             ],
             [
              1,
              "#f0f921"
             ]
            ],
            "type": "surface"
           }
          ],
          "table": [
           {
            "cells": {
             "fill": {
              "color": "#EBF0F8"
             },
             "line": {
              "color": "white"
             }
            },
            "header": {
             "fill": {
              "color": "#C8D4E3"
             },
             "line": {
              "color": "white"
             }
            },
            "type": "table"
           }
          ]
         },
         "layout": {
          "annotationdefaults": {
           "arrowcolor": "#2a3f5f",
           "arrowhead": 0,
           "arrowwidth": 1
          },
          "autotypenumbers": "strict",
          "coloraxis": {
           "colorbar": {
            "outlinewidth": 0,
            "ticks": ""
           }
          },
          "colorscale": {
           "diverging": [
            [
             0,
             "#8e0152"
            ],
            [
             0.1,
             "#c51b7d"
            ],
            [
             0.2,
             "#de77ae"
            ],
            [
             0.3,
             "#f1b6da"
            ],
            [
             0.4,
             "#fde0ef"
            ],
            [
             0.5,
             "#f7f7f7"
            ],
            [
             0.6,
             "#e6f5d0"
            ],
            [
             0.7,
             "#b8e186"
            ],
            [
             0.8,
             "#7fbc41"
            ],
            [
             0.9,
             "#4d9221"
            ],
            [
             1,
             "#276419"
            ]
           ],
           "sequential": [
            [
             0,
             "#0d0887"
            ],
            [
             0.1111111111111111,
             "#46039f"
            ],
            [
             0.2222222222222222,
             "#7201a8"
            ],
            [
             0.3333333333333333,
             "#9c179e"
            ],
            [
             0.4444444444444444,
             "#bd3786"
            ],
            [
             0.5555555555555556,
             "#d8576b"
            ],
            [
             0.6666666666666666,
             "#ed7953"
            ],
            [
             0.7777777777777778,
             "#fb9f3a"
            ],
            [
             0.8888888888888888,
             "#fdca26"
            ],
            [
             1,
             "#f0f921"
            ]
           ],
           "sequentialminus": [
            [
             0,
             "#0d0887"
            ],
            [
             0.1111111111111111,
             "#46039f"
            ],
            [
             0.2222222222222222,
             "#7201a8"
            ],
            [
             0.3333333333333333,
             "#9c179e"
            ],
            [
             0.4444444444444444,
             "#bd3786"
            ],
            [
             0.5555555555555556,
             "#d8576b"
            ],
            [
             0.6666666666666666,
             "#ed7953"
            ],
            [
             0.7777777777777778,
             "#fb9f3a"
            ],
            [
             0.8888888888888888,
             "#fdca26"
            ],
            [
             1,
             "#f0f921"
            ]
           ]
          },
          "colorway": [
           "#636efa",
           "#EF553B",
           "#00cc96",
           "#ab63fa",
           "#FFA15A",
           "#19d3f3",
           "#FF6692",
           "#B6E880",
           "#FF97FF",
           "#FECB52"
          ],
          "font": {
           "color": "#2a3f5f"
          },
          "geo": {
           "bgcolor": "white",
           "lakecolor": "white",
           "landcolor": "#E5ECF6",
           "showlakes": true,
           "showland": true,
           "subunitcolor": "white"
          },
          "hoverlabel": {
           "align": "left"
          },
          "hovermode": "closest",
          "mapbox": {
           "style": "light"
          },
          "paper_bgcolor": "white",
          "plot_bgcolor": "#E5ECF6",
          "polar": {
           "angularaxis": {
            "gridcolor": "white",
            "linecolor": "white",
            "ticks": ""
           },
           "bgcolor": "#E5ECF6",
           "radialaxis": {
            "gridcolor": "white",
            "linecolor": "white",
            "ticks": ""
           }
          },
          "scene": {
           "xaxis": {
            "backgroundcolor": "#E5ECF6",
            "gridcolor": "white",
            "gridwidth": 2,
            "linecolor": "white",
            "showbackground": true,
            "ticks": "",
            "zerolinecolor": "white"
           },
           "yaxis": {
            "backgroundcolor": "#E5ECF6",
            "gridcolor": "white",
            "gridwidth": 2,
            "linecolor": "white",
            "showbackground": true,
            "ticks": "",
            "zerolinecolor": "white"
           },
           "zaxis": {
            "backgroundcolor": "#E5ECF6",
            "gridcolor": "white",
            "gridwidth": 2,
            "linecolor": "white",
            "showbackground": true,
            "ticks": "",
            "zerolinecolor": "white"
           }
          },
          "shapedefaults": {
           "line": {
            "color": "#2a3f5f"
           }
          },
          "ternary": {
           "aaxis": {
            "gridcolor": "white",
            "linecolor": "white",
            "ticks": ""
           },
           "baxis": {
            "gridcolor": "white",
            "linecolor": "white",
            "ticks": ""
           },
           "bgcolor": "#E5ECF6",
           "caxis": {
            "gridcolor": "white",
            "linecolor": "white",
            "ticks": ""
           }
          },
          "title": {
           "x": 0.05
          },
          "xaxis": {
           "automargin": true,
           "gridcolor": "white",
           "linecolor": "white",
           "ticks": "",
           "title": {
            "standoff": 15
           },
           "zerolinecolor": "white",
           "zerolinewidth": 2
          },
          "yaxis": {
           "automargin": true,
           "gridcolor": "white",
           "linecolor": "white",
           "ticks": "",
           "title": {
            "standoff": 15
           },
           "zerolinecolor": "white",
           "zerolinewidth": 2
          }
         }
        },
        "xaxis": {
         "anchor": "y",
         "domain": [
          0,
          1
         ],
         "title": {
          "text": "Componentes Principais"
         }
        },
        "yaxis": {
         "anchor": "x",
         "domain": [
          0,
          1
         ],
         "title": {
          "text": "Variância Explicada Acumulada"
         }
        }
       }
      }
     },
     "metadata": {},
     "output_type": "display_data"
    }
   ],
   "source": [
    "# Plotando o gráfico da variância explicada acumulada\n",
    "px.area(\n",
    "    x=range(1, pca.explained_variance_ratio_.cumsum().shape[0] + 1),\n",
    "    y=pca.explained_variance_ratio_.cumsum(),\n",
    "    labels={\"x\": \"Componentes Principais\", \"y\": \"Variância Explicada Acumulada\"}\n",
    ")\n"
   ]
  },
  {
   "cell_type": "code",
   "execution_count": 15,
   "metadata": {},
   "outputs": [
    {
     "data": {
      "text/plain": [
       "4"
      ]
     },
     "execution_count": 15,
     "metadata": {},
     "output_type": "execute_result"
    }
   ],
   "source": [
    "n = 4\n",
    "\n",
    "# Aplicando a PCA com n componentes\n",
    "pca = PCA(n_components=n)\n",
    "components = pca.fit_transform(df_sample)\n",
    "\n",
    "components.shape[1]"
   ]
  },
  {
   "cell_type": "markdown",
   "metadata": {},
   "source": [
    "### Dataframe agora utilizando os componentes principais para explicar os dados de criminalidade nas cidades"
   ]
  },
  {
   "cell_type": "code",
   "execution_count": 16,
   "metadata": {},
   "outputs": [
    {
     "data": {
      "text/html": [
       "<div>\n",
       "<style scoped>\n",
       "    .dataframe tbody tr th:only-of-type {\n",
       "        vertical-align: middle;\n",
       "    }\n",
       "\n",
       "    .dataframe tbody tr th {\n",
       "        vertical-align: top;\n",
       "    }\n",
       "\n",
       "    .dataframe thead th {\n",
       "        text-align: right;\n",
       "    }\n",
       "</style>\n",
       "<table border=\"1\" class=\"dataframe\">\n",
       "  <thead>\n",
       "    <tr style=\"text-align: right;\">\n",
       "      <th></th>\n",
       "      <th>PC1</th>\n",
       "      <th>PC2</th>\n",
       "      <th>PC3</th>\n",
       "      <th>PC4</th>\n",
       "    </tr>\n",
       "    <tr>\n",
       "      <th>municipios</th>\n",
       "      <th></th>\n",
       "      <th></th>\n",
       "      <th></th>\n",
       "      <th></th>\n",
       "    </tr>\n",
       "  </thead>\n",
       "  <tbody>\n",
       "    <tr>\n",
       "      <th>viadutos</th>\n",
       "      <td>-0.403146</td>\n",
       "      <td>-1.293090</td>\n",
       "      <td>-0.369115</td>\n",
       "      <td>-0.129705</td>\n",
       "    </tr>\n",
       "    <tr>\n",
       "      <th>campos borges</th>\n",
       "      <td>-1.880347</td>\n",
       "      <td>0.920654</td>\n",
       "      <td>-0.470550</td>\n",
       "      <td>0.089534</td>\n",
       "    </tr>\n",
       "    <tr>\n",
       "      <th>lajeado</th>\n",
       "      <td>1.997878</td>\n",
       "      <td>-0.197637</td>\n",
       "      <td>1.876114</td>\n",
       "      <td>-0.041748</td>\n",
       "    </tr>\n",
       "    <tr>\n",
       "      <th>gaurama</th>\n",
       "      <td>-0.938699</td>\n",
       "      <td>-1.055184</td>\n",
       "      <td>-0.201905</td>\n",
       "      <td>0.941618</td>\n",
       "    </tr>\n",
       "    <tr>\n",
       "      <th>macambara</th>\n",
       "      <td>-2.294945</td>\n",
       "      <td>-0.375069</td>\n",
       "      <td>0.391376</td>\n",
       "      <td>0.873373</td>\n",
       "    </tr>\n",
       "  </tbody>\n",
       "</table>\n",
       "</div>"
      ],
      "text/plain": [
       "                    PC1       PC2       PC3       PC4\n",
       "municipios                                           \n",
       "viadutos      -0.403146 -1.293090 -0.369115 -0.129705\n",
       "campos borges -1.880347  0.920654 -0.470550  0.089534\n",
       "lajeado        1.997878 -0.197637  1.876114 -0.041748\n",
       "gaurama       -0.938699 -1.055184 -0.201905  0.941618\n",
       "macambara     -2.294945 -0.375069  0.391376  0.873373"
      ]
     },
     "execution_count": 16,
     "metadata": {},
     "output_type": "execute_result"
    }
   ],
   "source": [
    "df_pca = pd.DataFrame(data = components, columns = ['PC1', 'PC2', 'PC3', 'PC4'])\n",
    "df_pca['municipios'] = df_sample.index\n",
    "df_pca.set_index('municipios', inplace=True)\n",
    "df_pca.head()"
   ]
  },
  {
   "cell_type": "code",
   "execution_count": 17,
   "metadata": {},
   "outputs": [
    {
     "data": {
      "application/vnd.plotly.v1+json": {
       "config": {
        "plotlyServerURL": "https://plot.ly"
       },
       "data": [
        {
         "diagonal": {
          "visible": false
         },
         "dimensions": [
          {
           "axis": {
            "matches": true
           },
           "label": "PC1",
           "values": [
            -0.4031460869516257
           ]
          },
          {
           "axis": {
            "matches": true
           },
           "label": "PC2",
           "values": [
            -1.2930902641458448
           ]
          },
          {
           "axis": {
            "matches": true
           },
           "label": "PC3",
           "values": [
            -0.36911455806449467
           ]
          },
          {
           "axis": {
            "matches": true
           },
           "label": "PC4",
           "values": [
            -0.12970498257497853
           ]
          }
         ],
         "hovertemplate": "municipios=viadutos<br>%{xaxis.title.text}=%{x}<br>%{yaxis.title.text}=%{y}<extra></extra>",
         "legendgroup": "viadutos",
         "marker": {
          "color": "#636efa",
          "symbol": "circle"
         },
         "name": "viadutos",
         "showlegend": true,
         "type": "splom"
        },
        {
         "diagonal": {
          "visible": false
         },
         "dimensions": [
          {
           "axis": {
            "matches": true
           },
           "label": "PC1",
           "values": [
            -1.8803467578764925
           ]
          },
          {
           "axis": {
            "matches": true
           },
           "label": "PC2",
           "values": [
            0.9206536913493217
           ]
          },
          {
           "axis": {
            "matches": true
           },
           "label": "PC3",
           "values": [
            -0.47055016734012245
           ]
          },
          {
           "axis": {
            "matches": true
           },
           "label": "PC4",
           "values": [
            0.08953449720484233
           ]
          }
         ],
         "hovertemplate": "municipios=campos borges<br>%{xaxis.title.text}=%{x}<br>%{yaxis.title.text}=%{y}<extra></extra>",
         "legendgroup": "campos borges",
         "marker": {
          "color": "#EF553B",
          "symbol": "circle"
         },
         "name": "campos borges",
         "showlegend": true,
         "type": "splom"
        },
        {
         "diagonal": {
          "visible": false
         },
         "dimensions": [
          {
           "axis": {
            "matches": true
           },
           "label": "PC1",
           "values": [
            1.997878158921359
           ]
          },
          {
           "axis": {
            "matches": true
           },
           "label": "PC2",
           "values": [
            -0.19763738157817623
           ]
          },
          {
           "axis": {
            "matches": true
           },
           "label": "PC3",
           "values": [
            1.8761144752891872
           ]
          },
          {
           "axis": {
            "matches": true
           },
           "label": "PC4",
           "values": [
            -0.041747930616483776
           ]
          }
         ],
         "hovertemplate": "municipios=lajeado<br>%{xaxis.title.text}=%{x}<br>%{yaxis.title.text}=%{y}<extra></extra>",
         "legendgroup": "lajeado",
         "marker": {
          "color": "#00cc96",
          "symbol": "circle"
         },
         "name": "lajeado",
         "showlegend": true,
         "type": "splom"
        },
        {
         "diagonal": {
          "visible": false
         },
         "dimensions": [
          {
           "axis": {
            "matches": true
           },
           "label": "PC1",
           "values": [
            -0.9386993085537594
           ]
          },
          {
           "axis": {
            "matches": true
           },
           "label": "PC2",
           "values": [
            -1.0551840569753552
           ]
          },
          {
           "axis": {
            "matches": true
           },
           "label": "PC3",
           "values": [
            -0.20190470276789252
           ]
          },
          {
           "axis": {
            "matches": true
           },
           "label": "PC4",
           "values": [
            0.9416177268414899
           ]
          }
         ],
         "hovertemplate": "municipios=gaurama<br>%{xaxis.title.text}=%{x}<br>%{yaxis.title.text}=%{y}<extra></extra>",
         "legendgroup": "gaurama",
         "marker": {
          "color": "#ab63fa",
          "symbol": "circle"
         },
         "name": "gaurama",
         "showlegend": true,
         "type": "splom"
        },
        {
         "diagonal": {
          "visible": false
         },
         "dimensions": [
          {
           "axis": {
            "matches": true
           },
           "label": "PC1",
           "values": [
            -2.2949449682305176
           ]
          },
          {
           "axis": {
            "matches": true
           },
           "label": "PC2",
           "values": [
            -0.37506876560709224
           ]
          },
          {
           "axis": {
            "matches": true
           },
           "label": "PC3",
           "values": [
            0.39137561893672623
           ]
          },
          {
           "axis": {
            "matches": true
           },
           "label": "PC4",
           "values": [
            0.8733733669890097
           ]
          }
         ],
         "hovertemplate": "municipios=macambara<br>%{xaxis.title.text}=%{x}<br>%{yaxis.title.text}=%{y}<extra></extra>",
         "legendgroup": "macambara",
         "marker": {
          "color": "#FFA15A",
          "symbol": "circle"
         },
         "name": "macambara",
         "showlegend": true,
         "type": "splom"
        },
        {
         "diagonal": {
          "visible": false
         },
         "dimensions": [
          {
           "axis": {
            "matches": true
           },
           "label": "PC1",
           "values": [
            -1.9341283289215316
           ]
          },
          {
           "axis": {
            "matches": true
           },
           "label": "PC2",
           "values": [
            0.402443740804368
           ]
          },
          {
           "axis": {
            "matches": true
           },
           "label": "PC3",
           "values": [
            0.6746117605117428
           ]
          },
          {
           "axis": {
            "matches": true
           },
           "label": "PC4",
           "values": [
            -1.109676997608347
           ]
          }
         ],
         "hovertemplate": "municipios=selbach<br>%{xaxis.title.text}=%{x}<br>%{yaxis.title.text}=%{y}<extra></extra>",
         "legendgroup": "selbach",
         "marker": {
          "color": "#19d3f3",
          "symbol": "circle"
         },
         "name": "selbach",
         "showlegend": true,
         "type": "splom"
        },
        {
         "diagonal": {
          "visible": false
         },
         "dimensions": [
          {
           "axis": {
            "matches": true
           },
           "label": "PC1",
           "values": [
            -0.2174601621018794
           ]
          },
          {
           "axis": {
            "matches": true
           },
           "label": "PC2",
           "values": [
            1.8227827049932877
           ]
          },
          {
           "axis": {
            "matches": true
           },
           "label": "PC3",
           "values": [
            0.06940277258394922
           ]
          },
          {
           "axis": {
            "matches": true
           },
           "label": "PC4",
           "values": [
            0.19660943071046783
           ]
          }
         ],
         "hovertemplate": "municipios=estancia velha<br>%{xaxis.title.text}=%{x}<br>%{yaxis.title.text}=%{y}<extra></extra>",
         "legendgroup": "estancia velha",
         "marker": {
          "color": "#FF6692",
          "symbol": "circle"
         },
         "name": "estancia velha",
         "showlegend": true,
         "type": "splom"
        },
        {
         "diagonal": {
          "visible": false
         },
         "dimensions": [
          {
           "axis": {
            "matches": true
           },
           "label": "PC1",
           "values": [
            -1.5368855522687501
           ]
          },
          {
           "axis": {
            "matches": true
           },
           "label": "PC2",
           "values": [
            0.17210004859752728
           ]
          },
          {
           "axis": {
            "matches": true
           },
           "label": "PC3",
           "values": [
            0.4579839210324447
           ]
          },
          {
           "axis": {
            "matches": true
           },
           "label": "PC4",
           "values": [
            -1.6275492741083968
           ]
          }
         ],
         "hovertemplate": "municipios=braga<br>%{xaxis.title.text}=%{x}<br>%{yaxis.title.text}=%{y}<extra></extra>",
         "legendgroup": "braga",
         "marker": {
          "color": "#B6E880",
          "symbol": "circle"
         },
         "name": "braga",
         "showlegend": true,
         "type": "splom"
        },
        {
         "diagonal": {
          "visible": false
         },
         "dimensions": [
          {
           "axis": {
            "matches": true
           },
           "label": "PC1",
           "values": [
            -1.5025190671406727
           ]
          },
          {
           "axis": {
            "matches": true
           },
           "label": "PC2",
           "values": [
            0.9947003333816123
           ]
          },
          {
           "axis": {
            "matches": true
           },
           "label": "PC3",
           "values": [
            0.4462220597350116
           ]
          },
          {
           "axis": {
            "matches": true
           },
           "label": "PC4",
           "values": [
            1.1438873788600936
           ]
          }
         ],
         "hovertemplate": "municipios=pontao<br>%{xaxis.title.text}=%{x}<br>%{yaxis.title.text}=%{y}<extra></extra>",
         "legendgroup": "pontao",
         "marker": {
          "color": "#FF97FF",
          "symbol": "circle"
         },
         "name": "pontao",
         "showlegend": true,
         "type": "splom"
        },
        {
         "diagonal": {
          "visible": false
         },
         "dimensions": [
          {
           "axis": {
            "matches": true
           },
           "label": "PC1",
           "values": [
            -3.12353644016901
           ]
          },
          {
           "axis": {
            "matches": true
           },
           "label": "PC2",
           "values": [
            -0.17419909008315515
           ]
          },
          {
           "axis": {
            "matches": true
           },
           "label": "PC3",
           "values": [
            -0.6247320602510937
           ]
          },
          {
           "axis": {
            "matches": true
           },
           "label": "PC4",
           "values": [
            0.3130465243620112
           ]
          }
         ],
         "hovertemplate": "municipios=alto alegre<br>%{xaxis.title.text}=%{x}<br>%{yaxis.title.text}=%{y}<extra></extra>",
         "legendgroup": "alto alegre",
         "marker": {
          "color": "#FECB52",
          "symbol": "circle"
         },
         "name": "alto alegre",
         "showlegend": true,
         "type": "splom"
        },
        {
         "diagonal": {
          "visible": false
         },
         "dimensions": [
          {
           "axis": {
            "matches": true
           },
           "label": "PC1",
           "values": [
            -2.8734213459253795
           ]
          },
          {
           "axis": {
            "matches": true
           },
           "label": "PC2",
           "values": [
            -0.02925739259088381
           ]
          },
          {
           "axis": {
            "matches": true
           },
           "label": "PC3",
           "values": [
            -0.4748261148678856
           ]
          },
          {
           "axis": {
            "matches": true
           },
           "label": "PC4",
           "values": [
            -0.37353902967704095
           ]
          }
         ],
         "hovertemplate": "municipios=charrua<br>%{xaxis.title.text}=%{x}<br>%{yaxis.title.text}=%{y}<extra></extra>",
         "legendgroup": "charrua",
         "marker": {
          "color": "#636efa",
          "symbol": "circle"
         },
         "name": "charrua",
         "showlegend": true,
         "type": "splom"
        },
        {
         "diagonal": {
          "visible": false
         },
         "dimensions": [
          {
           "axis": {
            "matches": true
           },
           "label": "PC1",
           "values": [
            -2.1089878631936654
           ]
          },
          {
           "axis": {
            "matches": true
           },
           "label": "PC2",
           "values": [
            -0.1910740431050315
           ]
          },
          {
           "axis": {
            "matches": true
           },
           "label": "PC3",
           "values": [
            0.4867958761534527
           ]
          },
          {
           "axis": {
            "matches": true
           },
           "label": "PC4",
           "values": [
            0.11592551033463978
           ]
          }
         ],
         "hovertemplate": "municipios=morro redondo<br>%{xaxis.title.text}=%{x}<br>%{yaxis.title.text}=%{y}<extra></extra>",
         "legendgroup": "morro redondo",
         "marker": {
          "color": "#EF553B",
          "symbol": "circle"
         },
         "name": "morro redondo",
         "showlegend": true,
         "type": "splom"
        },
        {
         "diagonal": {
          "visible": false
         },
         "dimensions": [
          {
           "axis": {
            "matches": true
           },
           "label": "PC1",
           "values": [
            0.1581882626460746
           ]
          },
          {
           "axis": {
            "matches": true
           },
           "label": "PC2",
           "values": [
            -2.2496825082142764
           ]
          },
          {
           "axis": {
            "matches": true
           },
           "label": "PC3",
           "values": [
            -2.1573996983249386
           ]
          },
          {
           "axis": {
            "matches": true
           },
           "label": "PC4",
           "values": [
            -0.3520970499975989
           ]
          }
         ],
         "hovertemplate": "municipios=rondinha<br>%{xaxis.title.text}=%{x}<br>%{yaxis.title.text}=%{y}<extra></extra>",
         "legendgroup": "rondinha",
         "marker": {
          "color": "#00cc96",
          "symbol": "circle"
         },
         "name": "rondinha",
         "showlegend": true,
         "type": "splom"
        },
        {
         "diagonal": {
          "visible": false
         },
         "dimensions": [
          {
           "axis": {
            "matches": true
           },
           "label": "PC1",
           "values": [
            -0.5529671142148248
           ]
          },
          {
           "axis": {
            "matches": true
           },
           "label": "PC2",
           "values": [
            -0.46654533737917303
           ]
          },
          {
           "axis": {
            "matches": true
           },
           "label": "PC3",
           "values": [
            0.790470019811397
           ]
          },
          {
           "axis": {
            "matches": true
           },
           "label": "PC4",
           "values": [
            1.437312033750463
           ]
          }
         ],
         "hovertemplate": "municipios=horizontina<br>%{xaxis.title.text}=%{x}<br>%{yaxis.title.text}=%{y}<extra></extra>",
         "legendgroup": "horizontina",
         "marker": {
          "color": "#ab63fa",
          "symbol": "circle"
         },
         "name": "horizontina",
         "showlegend": true,
         "type": "splom"
        },
        {
         "diagonal": {
          "visible": false
         },
         "dimensions": [
          {
           "axis": {
            "matches": true
           },
           "label": "PC1",
           "values": [
            0.3916052482469439
           ]
          },
          {
           "axis": {
            "matches": true
           },
           "label": "PC2",
           "values": [
            -2.121707893288287
           ]
          },
          {
           "axis": {
            "matches": true
           },
           "label": "PC3",
           "values": [
            -1.122382287906355
           ]
          },
          {
           "axis": {
            "matches": true
           },
           "label": "PC4",
           "values": [
            1.6571405235360086
           ]
          }
         ],
         "hovertemplate": "municipios=cerro largo<br>%{xaxis.title.text}=%{x}<br>%{yaxis.title.text}=%{y}<extra></extra>",
         "legendgroup": "cerro largo",
         "marker": {
          "color": "#FFA15A",
          "symbol": "circle"
         },
         "name": "cerro largo",
         "showlegend": true,
         "type": "splom"
        },
        {
         "diagonal": {
          "visible": false
         },
         "dimensions": [
          {
           "axis": {
            "matches": true
           },
           "label": "PC1",
           "values": [
            -2.1487402312841613
           ]
          },
          {
           "axis": {
            "matches": true
           },
           "label": "PC2",
           "values": [
            0.45479289058838956
           ]
          },
          {
           "axis": {
            "matches": true
           },
           "label": "PC3",
           "values": [
            0.433145474683122
           ]
          },
          {
           "axis": {
            "matches": true
           },
           "label": "PC4",
           "values": [
            0.45037742986968476
           ]
          }
         ],
         "hovertemplate": "municipios=sao paulo das missoes<br>%{xaxis.title.text}=%{x}<br>%{yaxis.title.text}=%{y}<extra></extra>",
         "legendgroup": "sao paulo das missoes",
         "marker": {
          "color": "#19d3f3",
          "symbol": "circle"
         },
         "name": "sao paulo das missoes",
         "showlegend": true,
         "type": "splom"
        },
        {
         "diagonal": {
          "visible": false
         },
         "dimensions": [
          {
           "axis": {
            "matches": true
           },
           "label": "PC1",
           "values": [
            7.424857231463878
           ]
          },
          {
           "axis": {
            "matches": true
           },
           "label": "PC2",
           "values": [
            -0.9256957359186023
           ]
          },
          {
           "axis": {
            "matches": true
           },
           "label": "PC3",
           "values": [
            1.277114908762563
           ]
          },
          {
           "axis": {
            "matches": true
           },
           "label": "PC4",
           "values": [
            -1.518493423698134
           ]
          }
         ],
         "hovertemplate": "municipios=tramandai<br>%{xaxis.title.text}=%{x}<br>%{yaxis.title.text}=%{y}<extra></extra>",
         "legendgroup": "tramandai",
         "marker": {
          "color": "#FF6692",
          "symbol": "circle"
         },
         "name": "tramandai",
         "showlegend": true,
         "type": "splom"
        },
        {
         "diagonal": {
          "visible": false
         },
         "dimensions": [
          {
           "axis": {
            "matches": true
           },
           "label": "PC1",
           "values": [
            4.469603152940832
           ]
          },
          {
           "axis": {
            "matches": true
           },
           "label": "PC2",
           "values": [
            -1.5953605142680791
           ]
          },
          {
           "axis": {
            "matches": true
           },
           "label": "PC3",
           "values": [
            -0.23402554451659247
           ]
          },
          {
           "axis": {
            "matches": true
           },
           "label": "PC4",
           "values": [
            2.5538871089342785
           ]
          }
         ],
         "hovertemplate": "municipios=balneario pinhal<br>%{xaxis.title.text}=%{x}<br>%{yaxis.title.text}=%{y}<extra></extra>",
         "legendgroup": "balneario pinhal",
         "marker": {
          "color": "#B6E880",
          "symbol": "circle"
         },
         "name": "balneario pinhal",
         "showlegend": true,
         "type": "splom"
        },
        {
         "diagonal": {
          "visible": false
         },
         "dimensions": [
          {
           "axis": {
            "matches": true
           },
           "label": "PC1",
           "values": [
            -1.3347737842888445
           ]
          },
          {
           "axis": {
            "matches": true
           },
           "label": "PC2",
           "values": [
            0.19846398135619808
           ]
          },
          {
           "axis": {
            "matches": true
           },
           "label": "PC3",
           "values": [
            1.3140273556962654
           ]
          },
          {
           "axis": {
            "matches": true
           },
           "label": "PC4",
           "values": [
            -0.13806543747962877
           ]
          }
         ],
         "hovertemplate": "municipios=dona francisca<br>%{xaxis.title.text}=%{x}<br>%{yaxis.title.text}=%{y}<extra></extra>",
         "legendgroup": "dona francisca",
         "marker": {
          "color": "#FF97FF",
          "symbol": "circle"
         },
         "name": "dona francisca",
         "showlegend": true,
         "type": "splom"
        },
        {
         "diagonal": {
          "visible": false
         },
         "dimensions": [
          {
           "axis": {
            "matches": true
           },
           "label": "PC1",
           "values": [
            -1.8048891280909538
           ]
          },
          {
           "axis": {
            "matches": true
           },
           "label": "PC2",
           "values": [
            1.106315774866216
           ]
          },
          {
           "axis": {
            "matches": true
           },
           "label": "PC3",
           "values": [
            -0.22620749255364564
           ]
          },
          {
           "axis": {
            "matches": true
           },
           "label": "PC4",
           "values": [
            0.35699420457034275
           ]
          }
         ],
         "hovertemplate": "municipios=vila flores<br>%{xaxis.title.text}=%{x}<br>%{yaxis.title.text}=%{y}<extra></extra>",
         "legendgroup": "vila flores",
         "marker": {
          "color": "#FECB52",
          "symbol": "circle"
         },
         "name": "vila flores",
         "showlegend": true,
         "type": "splom"
        },
        {
         "diagonal": {
          "visible": false
         },
         "dimensions": [
          {
           "axis": {
            "matches": true
           },
           "label": "PC1",
           "values": [
            -1.7590926772276578
           ]
          },
          {
           "axis": {
            "matches": true
           },
           "label": "PC2",
           "values": [
            -0.22160331333853484
           ]
          },
          {
           "axis": {
            "matches": true
           },
           "label": "PC3",
           "values": [
            0.6616501982164148
           ]
          },
          {
           "axis": {
            "matches": true
           },
           "label": "PC4",
           "values": [
            -0.8929945156299876
           ]
          }
         ],
         "hovertemplate": "municipios=muliterno<br>%{xaxis.title.text}=%{x}<br>%{yaxis.title.text}=%{y}<extra></extra>",
         "legendgroup": "muliterno",
         "marker": {
          "color": "#636efa",
          "symbol": "circle"
         },
         "name": "muliterno",
         "showlegend": true,
         "type": "splom"
        },
        {
         "diagonal": {
          "visible": false
         },
         "dimensions": [
          {
           "axis": {
            "matches": true
           },
           "label": "PC1",
           "values": [
            -1.9327801305149068
           ]
          },
          {
           "axis": {
            "matches": true
           },
           "label": "PC2",
           "values": [
            0.25913567785796315
           ]
          },
          {
           "axis": {
            "matches": true
           },
           "label": "PC3",
           "values": [
            0.5981542846519178
           ]
          },
          {
           "axis": {
            "matches": true
           },
           "label": "PC4",
           "values": [
            -0.06341464603501372
           ]
          }
         ],
         "hovertemplate": "municipios=novo tiradentes<br>%{xaxis.title.text}=%{x}<br>%{yaxis.title.text}=%{y}<extra></extra>",
         "legendgroup": "novo tiradentes",
         "marker": {
          "color": "#EF553B",
          "symbol": "circle"
         },
         "name": "novo tiradentes",
         "showlegend": true,
         "type": "splom"
        },
        {
         "diagonal": {
          "visible": false
         },
         "dimensions": [
          {
           "axis": {
            "matches": true
           },
           "label": "PC1",
           "values": [
            -1.6523504248036243
           ]
          },
          {
           "axis": {
            "matches": true
           },
           "label": "PC2",
           "values": [
            1.7825437409006564
           ]
          },
          {
           "axis": {
            "matches": true
           },
           "label": "PC3",
           "values": [
            -0.9444714803738293
           ]
          },
          {
           "axis": {
            "matches": true
           },
           "label": "PC4",
           "values": [
            -0.10986378503897634
           ]
          }
         ],
         "hovertemplate": "municipios=vista alegre<br>%{xaxis.title.text}=%{x}<br>%{yaxis.title.text}=%{y}<extra></extra>",
         "legendgroup": "vista alegre",
         "marker": {
          "color": "#00cc96",
          "symbol": "circle"
         },
         "name": "vista alegre",
         "showlegend": true,
         "type": "splom"
        },
        {
         "diagonal": {
          "visible": false
         },
         "dimensions": [
          {
           "axis": {
            "matches": true
           },
           "label": "PC1",
           "values": [
            2.2350811363464222
           ]
          },
          {
           "axis": {
            "matches": true
           },
           "label": "PC2",
           "values": [
            -2.3870768481298454
           ]
          },
          {
           "axis": {
            "matches": true
           },
           "label": "PC3",
           "values": [
            1.2732091795381693
           ]
          },
          {
           "axis": {
            "matches": true
           },
           "label": "PC4",
           "values": [
            0.19531876682722332
           ]
          }
         ],
         "hovertemplate": "municipios=campo novo<br>%{xaxis.title.text}=%{x}<br>%{yaxis.title.text}=%{y}<extra></extra>",
         "legendgroup": "campo novo",
         "marker": {
          "color": "#ab63fa",
          "symbol": "circle"
         },
         "name": "campo novo",
         "showlegend": true,
         "type": "splom"
        },
        {
         "diagonal": {
          "visible": false
         },
         "dimensions": [
          {
           "axis": {
            "matches": true
           },
           "label": "PC1",
           "values": [
            -2.0884155492732193
           ]
          },
          {
           "axis": {
            "matches": true
           },
           "label": "PC2",
           "values": [
            -0.3739866143806945
           ]
          },
          {
           "axis": {
            "matches": true
           },
           "label": "PC3",
           "values": [
            0.06764682380281219
           ]
          },
          {
           "axis": {
            "matches": true
           },
           "label": "PC4",
           "values": [
            0.6578427569348583
           ]
          }
         ],
         "hovertemplate": "municipios=caibate<br>%{xaxis.title.text}=%{x}<br>%{yaxis.title.text}=%{y}<extra></extra>",
         "legendgroup": "caibate",
         "marker": {
          "color": "#FFA15A",
          "symbol": "circle"
         },
         "name": "caibate",
         "showlegend": true,
         "type": "splom"
        },
        {
         "diagonal": {
          "visible": false
         },
         "dimensions": [
          {
           "axis": {
            "matches": true
           },
           "label": "PC1",
           "values": [
            3.623346870067339
           ]
          },
          {
           "axis": {
            "matches": true
           },
           "label": "PC2",
           "values": [
            -3.7195630896134135
           ]
          },
          {
           "axis": {
            "matches": true
           },
           "label": "PC3",
           "values": [
            -2.356980153914732
           ]
          },
          {
           "axis": {
            "matches": true
           },
           "label": "PC4",
           "values": [
            -0.5375501967415021
           ]
          }
         ],
         "hovertemplate": "municipios=caseiros<br>%{xaxis.title.text}=%{x}<br>%{yaxis.title.text}=%{y}<extra></extra>",
         "legendgroup": "caseiros",
         "marker": {
          "color": "#19d3f3",
          "symbol": "circle"
         },
         "name": "caseiros",
         "showlegend": true,
         "type": "splom"
        },
        {
         "diagonal": {
          "visible": false
         },
         "dimensions": [
          {
           "axis": {
            "matches": true
           },
           "label": "PC1",
           "values": [
            3.715938571645242
           ]
          },
          {
           "axis": {
            "matches": true
           },
           "label": "PC2",
           "values": [
            -3.073151000035698
           ]
          },
          {
           "axis": {
            "matches": true
           },
           "label": "PC3",
           "values": [
            -1.3940774001437704
           ]
          },
          {
           "axis": {
            "matches": true
           },
           "label": "PC4",
           "values": [
            1.0031639280267093
           ]
          }
         ],
         "hovertemplate": "municipios=santa vitoria do palmar<br>%{xaxis.title.text}=%{x}<br>%{yaxis.title.text}=%{y}<extra></extra>",
         "legendgroup": "santa vitoria do palmar",
         "marker": {
          "color": "#FF6692",
          "symbol": "circle"
         },
         "name": "santa vitoria do palmar",
         "showlegend": true,
         "type": "splom"
        },
        {
         "diagonal": {
          "visible": false
         },
         "dimensions": [
          {
           "axis": {
            "matches": true
           },
           "label": "PC1",
           "values": [
            -0.7461282364500909
           ]
          },
          {
           "axis": {
            "matches": true
           },
           "label": "PC2",
           "values": [
            0.38613424507558697
           ]
          },
          {
           "axis": {
            "matches": true
           },
           "label": "PC3",
           "values": [
            0.551459063535161
           ]
          },
          {
           "axis": {
            "matches": true
           },
           "label": "PC4",
           "values": [
            0.3870771609782079
           ]
          }
         ],
         "hovertemplate": "municipios=vera cruz<br>%{xaxis.title.text}=%{x}<br>%{yaxis.title.text}=%{y}<extra></extra>",
         "legendgroup": "vera cruz",
         "marker": {
          "color": "#B6E880",
          "symbol": "circle"
         },
         "name": "vera cruz",
         "showlegend": true,
         "type": "splom"
        },
        {
         "diagonal": {
          "visible": false
         },
         "dimensions": [
          {
           "axis": {
            "matches": true
           },
           "label": "PC1",
           "values": [
            2.1442524771495735
           ]
          },
          {
           "axis": {
            "matches": true
           },
           "label": "PC2",
           "values": [
            -0.27040856530316487
           ]
          },
          {
           "axis": {
            "matches": true
           },
           "label": "PC3",
           "values": [
            3.7876082657081067
           ]
          },
          {
           "axis": {
            "matches": true
           },
           "label": "PC4",
           "values": [
            0.3687355414569925
           ]
          }
         ],
         "hovertemplate": "municipios=canela<br>%{xaxis.title.text}=%{x}<br>%{yaxis.title.text}=%{y}<extra></extra>",
         "legendgroup": "canela",
         "marker": {
          "color": "#FF97FF",
          "symbol": "circle"
         },
         "name": "canela",
         "showlegend": true,
         "type": "splom"
        },
        {
         "diagonal": {
          "visible": false
         },
         "dimensions": [
          {
           "axis": {
            "matches": true
           },
           "label": "PC1",
           "values": [
            0.9817931327473952
           ]
          },
          {
           "axis": {
            "matches": true
           },
           "label": "PC2",
           "values": [
            -0.23930799414219225
           ]
          },
          {
           "axis": {
            "matches": true
           },
           "label": "PC3",
           "values": [
            -2.5551980112579655
           ]
          },
          {
           "axis": {
            "matches": true
           },
           "label": "PC4",
           "values": [
            -0.7861231576898724
           ]
          }
         ],
         "hovertemplate": "municipios=campestre da serra<br>%{xaxis.title.text}=%{x}<br>%{yaxis.title.text}=%{y}<extra></extra>",
         "legendgroup": "campestre da serra",
         "marker": {
          "color": "#FECB52",
          "symbol": "circle"
         },
         "name": "campestre da serra",
         "showlegend": true,
         "type": "splom"
        },
        {
         "diagonal": {
          "visible": false
         },
         "dimensions": [
          {
           "axis": {
            "matches": true
           },
           "label": "PC1",
           "values": [
            1.3305136252282692
           ]
          },
          {
           "axis": {
            "matches": true
           },
           "label": "PC2",
           "values": [
            -0.9976069392431938
           ]
          },
          {
           "axis": {
            "matches": true
           },
           "label": "PC3",
           "values": [
            0.19429305746202782
           ]
          },
          {
           "axis": {
            "matches": true
           },
           "label": "PC4",
           "values": [
            -0.9288631148947362
           ]
          }
         ],
         "hovertemplate": "municipios=tapes<br>%{xaxis.title.text}=%{x}<br>%{yaxis.title.text}=%{y}<extra></extra>",
         "legendgroup": "tapes",
         "marker": {
          "color": "#636efa",
          "symbol": "circle"
         },
         "name": "tapes",
         "showlegend": true,
         "type": "splom"
        },
        {
         "diagonal": {
          "visible": false
         },
         "dimensions": [
          {
           "axis": {
            "matches": true
           },
           "label": "PC1",
           "values": [
            0.7002638262540283
           ]
          },
          {
           "axis": {
            "matches": true
           },
           "label": "PC2",
           "values": [
            -0.5377239921171759
           ]
          },
          {
           "axis": {
            "matches": true
           },
           "label": "PC3",
           "values": [
            -0.298327285162839
           ]
          },
          {
           "axis": {
            "matches": true
           },
           "label": "PC4",
           "values": [
            -0.19833532996784536
           ]
          }
         ],
         "hovertemplate": "municipios=candiota<br>%{xaxis.title.text}=%{x}<br>%{yaxis.title.text}=%{y}<extra></extra>",
         "legendgroup": "candiota",
         "marker": {
          "color": "#EF553B",
          "symbol": "circle"
         },
         "name": "candiota",
         "showlegend": true,
         "type": "splom"
        },
        {
         "diagonal": {
          "visible": false
         },
         "dimensions": [
          {
           "axis": {
            "matches": true
           },
           "label": "PC1",
           "values": [
            3.3005179845426773
           ]
          },
          {
           "axis": {
            "matches": true
           },
           "label": "PC2",
           "values": [
            -0.031773131056399895
           ]
          },
          {
           "axis": {
            "matches": true
           },
           "label": "PC3",
           "values": [
            2.0815891593654214
           ]
          },
          {
           "axis": {
            "matches": true
           },
           "label": "PC4",
           "values": [
            0.12453867288453738
           ]
          }
         ],
         "hovertemplate": "municipios=eldorado do sul<br>%{xaxis.title.text}=%{x}<br>%{yaxis.title.text}=%{y}<extra></extra>",
         "legendgroup": "eldorado do sul",
         "marker": {
          "color": "#00cc96",
          "symbol": "circle"
         },
         "name": "eldorado do sul",
         "showlegend": true,
         "type": "splom"
        },
        {
         "diagonal": {
          "visible": false
         },
         "dimensions": [
          {
           "axis": {
            "matches": true
           },
           "label": "PC1",
           "values": [
            -1.6366587388505371
           ]
          },
          {
           "axis": {
            "matches": true
           },
           "label": "PC2",
           "values": [
            -0.1342893331425615
           ]
          },
          {
           "axis": {
            "matches": true
           },
           "label": "PC3",
           "values": [
            -0.012769202853482115
           ]
          },
          {
           "axis": {
            "matches": true
           },
           "label": "PC4",
           "values": [
            0.3300438913948646
           ]
          }
         ],
         "hovertemplate": "municipios=agudo<br>%{xaxis.title.text}=%{x}<br>%{yaxis.title.text}=%{y}<extra></extra>",
         "legendgroup": "agudo",
         "marker": {
          "color": "#ab63fa",
          "symbol": "circle"
         },
         "name": "agudo",
         "showlegend": true,
         "type": "splom"
        },
        {
         "diagonal": {
          "visible": false
         },
         "dimensions": [
          {
           "axis": {
            "matches": true
           },
           "label": "PC1",
           "values": [
            -1.9655047664068765
           ]
          },
          {
           "axis": {
            "matches": true
           },
           "label": "PC2",
           "values": [
            -0.2565266809016657
           ]
          },
          {
           "axis": {
            "matches": true
           },
           "label": "PC3",
           "values": [
            -0.06878636268937695
           ]
          },
          {
           "axis": {
            "matches": true
           },
           "label": "PC4",
           "values": [
            -1.0598337532224866
           ]
          }
         ],
         "hovertemplate": "municipios=progresso<br>%{xaxis.title.text}=%{x}<br>%{yaxis.title.text}=%{y}<extra></extra>",
         "legendgroup": "progresso",
         "marker": {
          "color": "#FFA15A",
          "symbol": "circle"
         },
         "name": "progresso",
         "showlegend": true,
         "type": "splom"
        },
        {
         "diagonal": {
          "visible": false
         },
         "dimensions": [
          {
           "axis": {
            "matches": true
           },
           "label": "PC1",
           "values": [
            5.580622678956365
           ]
          },
          {
           "axis": {
            "matches": true
           },
           "label": "PC2",
           "values": [
            4.6132417480807915
           ]
          },
          {
           "axis": {
            "matches": true
           },
           "label": "PC3",
           "values": [
            0.34375937906168524
           ]
          },
          {
           "axis": {
            "matches": true
           },
           "label": "PC4",
           "values": [
            -0.39078438583080943
           ]
          }
         ],
         "hovertemplate": "municipios=canoas<br>%{xaxis.title.text}=%{x}<br>%{yaxis.title.text}=%{y}<extra></extra>",
         "legendgroup": "canoas",
         "marker": {
          "color": "#19d3f3",
          "symbol": "circle"
         },
         "name": "canoas",
         "showlegend": true,
         "type": "splom"
        },
        {
         "diagonal": {
          "visible": false
         },
         "dimensions": [
          {
           "axis": {
            "matches": true
           },
           "label": "PC1",
           "values": [
            2.779622215584135
           ]
          },
          {
           "axis": {
            "matches": true
           },
           "label": "PC2",
           "values": [
            -3.090352178502352
           ]
          },
          {
           "axis": {
            "matches": true
           },
           "label": "PC3",
           "values": [
            -0.5727557181081694
           ]
          },
          {
           "axis": {
            "matches": true
           },
           "label": "PC4",
           "values": [
            -0.8172085004814637
           ]
          }
         ],
         "hovertemplate": "municipios=irai<br>%{xaxis.title.text}=%{x}<br>%{yaxis.title.text}=%{y}<extra></extra>",
         "legendgroup": "irai",
         "marker": {
          "color": "#FF6692",
          "symbol": "circle"
         },
         "name": "irai",
         "showlegend": true,
         "type": "splom"
        },
        {
         "diagonal": {
          "visible": false
         },
         "dimensions": [
          {
           "axis": {
            "matches": true
           },
           "label": "PC1",
           "values": [
            -1.6853270192002832
           ]
          },
          {
           "axis": {
            "matches": true
           },
           "label": "PC2",
           "values": [
            1.3522509027385041
           ]
          },
          {
           "axis": {
            "matches": true
           },
           "label": "PC3",
           "values": [
            -1.041976537510604
           ]
          },
          {
           "axis": {
            "matches": true
           },
           "label": "PC4",
           "values": [
            -0.6198243244624565
           ]
          }
         ],
         "hovertemplate": "municipios=gramado dos loureiros<br>%{xaxis.title.text}=%{x}<br>%{yaxis.title.text}=%{y}<extra></extra>",
         "legendgroup": "gramado dos loureiros",
         "marker": {
          "color": "#B6E880",
          "symbol": "circle"
         },
         "name": "gramado dos loureiros",
         "showlegend": true,
         "type": "splom"
        },
        {
         "diagonal": {
          "visible": false
         },
         "dimensions": [
          {
           "axis": {
            "matches": true
           },
           "label": "PC1",
           "values": [
            2.3940652158572036
           ]
          },
          {
           "axis": {
            "matches": true
           },
           "label": "PC2",
           "values": [
            -2.002712431770976
           ]
          },
          {
           "axis": {
            "matches": true
           },
           "label": "PC3",
           "values": [
            -0.20079812037859537
           ]
          },
          {
           "axis": {
            "matches": true
           },
           "label": "PC4",
           "values": [
            -0.9967057177223324
           ]
          }
         ],
         "hovertemplate": "municipios=soledade<br>%{xaxis.title.text}=%{x}<br>%{yaxis.title.text}=%{y}<extra></extra>",
         "legendgroup": "soledade",
         "marker": {
          "color": "#FF97FF",
          "symbol": "circle"
         },
         "name": "soledade",
         "showlegend": true,
         "type": "splom"
        },
        {
         "diagonal": {
          "visible": false
         },
         "dimensions": [
          {
           "axis": {
            "matches": true
           },
           "label": "PC1",
           "values": [
            2.8222865895266156
           ]
          },
          {
           "axis": {
            "matches": true
           },
           "label": "PC2",
           "values": [
            3.624894469321265
           ]
          },
          {
           "axis": {
            "matches": true
           },
           "label": "PC3",
           "values": [
            0.292951193711166
           ]
          },
          {
           "axis": {
            "matches": true
           },
           "label": "PC4",
           "values": [
            -0.12342899180597976
           ]
          }
         ],
         "hovertemplate": "municipios=novo hamburgo<br>%{xaxis.title.text}=%{x}<br>%{yaxis.title.text}=%{y}<extra></extra>",
         "legendgroup": "novo hamburgo",
         "marker": {
          "color": "#FECB52",
          "symbol": "circle"
         },
         "name": "novo hamburgo",
         "showlegend": true,
         "type": "splom"
        },
        {
         "diagonal": {
          "visible": false
         },
         "dimensions": [
          {
           "axis": {
            "matches": true
           },
           "label": "PC1",
           "values": [
            -2.1703605512590816
           ]
          },
          {
           "axis": {
            "matches": true
           },
           "label": "PC2",
           "values": [
            0.047332678748511256
           ]
          },
          {
           "axis": {
            "matches": true
           },
           "label": "PC3",
           "values": [
            0.21966421857164398
           ]
          },
          {
           "axis": {
            "matches": true
           },
           "label": "PC4",
           "values": [
            -0.8011068739256395
           ]
          }
         ],
         "hovertemplate": "municipios=ibarama<br>%{xaxis.title.text}=%{x}<br>%{yaxis.title.text}=%{y}<extra></extra>",
         "legendgroup": "ibarama",
         "marker": {
          "color": "#636efa",
          "symbol": "circle"
         },
         "name": "ibarama",
         "showlegend": true,
         "type": "splom"
        },
        {
         "diagonal": {
          "visible": false
         },
         "dimensions": [
          {
           "axis": {
            "matches": true
           },
           "label": "PC1",
           "values": [
            -0.15120580866661254
           ]
          },
          {
           "axis": {
            "matches": true
           },
           "label": "PC2",
           "values": [
            4.75542705840966
           ]
          },
          {
           "axis": {
            "matches": true
           },
           "label": "PC3",
           "values": [
            -1.5663360116051412
           ]
          },
          {
           "axis": {
            "matches": true
           },
           "label": "PC4",
           "values": [
            1.3588111912832073
           ]
          }
         ],
         "hovertemplate": "municipios=tabai<br>%{xaxis.title.text}=%{x}<br>%{yaxis.title.text}=%{y}<extra></extra>",
         "legendgroup": "tabai",
         "marker": {
          "color": "#EF553B",
          "symbol": "circle"
         },
         "name": "tabai",
         "showlegend": true,
         "type": "splom"
        },
        {
         "diagonal": {
          "visible": false
         },
         "dimensions": [
          {
           "axis": {
            "matches": true
           },
           "label": "PC1",
           "values": [
            -2.195636942606698
           ]
          },
          {
           "axis": {
            "matches": true
           },
           "label": "PC2",
           "values": [
            -0.05189934475423784
           ]
          },
          {
           "axis": {
            "matches": true
           },
           "label": "PC3",
           "values": [
            -0.27383903598508147
           ]
          },
          {
           "axis": {
            "matches": true
           },
           "label": "PC4",
           "values": [
            -0.6302906985687946
           ]
          }
         ],
         "hovertemplate": "municipios=barao do triunfo<br>%{xaxis.title.text}=%{x}<br>%{yaxis.title.text}=%{y}<extra></extra>",
         "legendgroup": "barao do triunfo",
         "marker": {
          "color": "#00cc96",
          "symbol": "circle"
         },
         "name": "barao do triunfo",
         "showlegend": true,
         "type": "splom"
        },
        {
         "diagonal": {
          "visible": false
         },
         "dimensions": [
          {
           "axis": {
            "matches": true
           },
           "label": "PC1",
           "values": [
            -0.40147556100906245
           ]
          },
          {
           "axis": {
            "matches": true
           },
           "label": "PC2",
           "values": [
            -1.1784660844090482
           ]
          },
          {
           "axis": {
            "matches": true
           },
           "label": "PC3",
           "values": [
            0.1819106836280804
           ]
          },
          {
           "axis": {
            "matches": true
           },
           "label": "PC4",
           "values": [
            1.0239168488851917
           ]
          }
         ],
         "hovertemplate": "municipios=pinheiro machado<br>%{xaxis.title.text}=%{x}<br>%{yaxis.title.text}=%{y}<extra></extra>",
         "legendgroup": "pinheiro machado",
         "marker": {
          "color": "#ab63fa",
          "symbol": "circle"
         },
         "name": "pinheiro machado",
         "showlegend": true,
         "type": "splom"
        },
        {
         "diagonal": {
          "visible": false
         },
         "dimensions": [
          {
           "axis": {
            "matches": true
           },
           "label": "PC1",
           "values": [
            -2.0036831793102894
           ]
          },
          {
           "axis": {
            "matches": true
           },
           "label": "PC2",
           "values": [
            0.09851344095918768
           ]
          },
          {
           "axis": {
            "matches": true
           },
           "label": "PC3",
           "values": [
            0.4566175010424321
           ]
          },
          {
           "axis": {
            "matches": true
           },
           "label": "PC4",
           "values": [
            0.7389002772236883
           ]
          }
         ],
         "hovertemplate": "municipios=acegua<br>%{xaxis.title.text}=%{x}<br>%{yaxis.title.text}=%{y}<extra></extra>",
         "legendgroup": "acegua",
         "marker": {
          "color": "#FFA15A",
          "symbol": "circle"
         },
         "name": "acegua",
         "showlegend": true,
         "type": "splom"
        },
        {
         "diagonal": {
          "visible": false
         },
         "dimensions": [
          {
           "axis": {
            "matches": true
           },
           "label": "PC1",
           "values": [
            5.866101113631793
           ]
          },
          {
           "axis": {
            "matches": true
           },
           "label": "PC2",
           "values": [
            5.9014619886639315
           ]
          },
          {
           "axis": {
            "matches": true
           },
           "label": "PC3",
           "values": [
            -1.8496257378948686
           ]
          },
          {
           "axis": {
            "matches": true
           },
           "label": "PC4",
           "values": [
            -0.1631205337686704
           ]
          }
         ],
         "hovertemplate": "municipios=alvorada<br>%{xaxis.title.text}=%{x}<br>%{yaxis.title.text}=%{y}<extra></extra>",
         "legendgroup": "alvorada",
         "marker": {
          "color": "#19d3f3",
          "symbol": "circle"
         },
         "name": "alvorada",
         "showlegend": true,
         "type": "splom"
        },
        {
         "diagonal": {
          "visible": false
         },
         "dimensions": [
          {
           "axis": {
            "matches": true
           },
           "label": "PC1",
           "values": [
            -2.2824815582065483
           ]
          },
          {
           "axis": {
            "matches": true
           },
           "label": "PC2",
           "values": [
            -0.21650065504987445
           ]
          },
          {
           "axis": {
            "matches": true
           },
           "label": "PC3",
           "values": [
            -0.10123536739042135
           ]
          },
          {
           "axis": {
            "matches": true
           },
           "label": "PC4",
           "values": [
            -1.4652866521737589
           ]
          }
         ],
         "hovertemplate": "municipios=protasio alves<br>%{xaxis.title.text}=%{x}<br>%{yaxis.title.text}=%{y}<extra></extra>",
         "legendgroup": "protasio alves",
         "marker": {
          "color": "#FF6692",
          "symbol": "circle"
         },
         "name": "protasio alves",
         "showlegend": true,
         "type": "splom"
        },
        {
         "diagonal": {
          "visible": false
         },
         "dimensions": [
          {
           "axis": {
            "matches": true
           },
           "label": "PC1",
           "values": [
            -0.284187078311012
           ]
          },
          {
           "axis": {
            "matches": true
           },
           "label": "PC2",
           "values": [
            0.3198786419122811
           ]
          },
          {
           "axis": {
            "matches": true
           },
           "label": "PC3",
           "values": [
            0.014195022278230641
           ]
          },
          {
           "axis": {
            "matches": true
           },
           "label": "PC4",
           "values": [
            0.27509141925929786
           ]
          }
         ],
         "hovertemplate": "municipios=garibaldi<br>%{xaxis.title.text}=%{x}<br>%{yaxis.title.text}=%{y}<extra></extra>",
         "legendgroup": "garibaldi",
         "marker": {
          "color": "#B6E880",
          "symbol": "circle"
         },
         "name": "garibaldi",
         "showlegend": true,
         "type": "splom"
        },
        {
         "diagonal": {
          "visible": false
         },
         "dimensions": [
          {
           "axis": {
            "matches": true
           },
           "label": "PC1",
           "values": [
            -1.8331007831001778
           ]
          },
          {
           "axis": {
            "matches": true
           },
           "label": "PC2",
           "values": [
            0.35288672735152693
           ]
          },
          {
           "axis": {
            "matches": true
           },
           "label": "PC3",
           "values": [
            0.22664969489059597
           ]
          },
          {
           "axis": {
            "matches": true
           },
           "label": "PC4",
           "values": [
            -0.24114582258886785
           ]
          }
         ],
         "hovertemplate": "municipios=capao do leao<br>%{xaxis.title.text}=%{x}<br>%{yaxis.title.text}=%{y}<extra></extra>",
         "legendgroup": "capao do leao",
         "marker": {
          "color": "#FF97FF",
          "symbol": "circle"
         },
         "name": "capao do leao",
         "showlegend": true,
         "type": "splom"
        },
        {
         "diagonal": {
          "visible": false
         },
         "dimensions": [
          {
           "axis": {
            "matches": true
           },
           "label": "PC1",
           "values": [
            -2.4727023473473984
           ]
          },
          {
           "axis": {
            "matches": true
           },
           "label": "PC2",
           "values": [
            -0.10850330691179916
           ]
          },
          {
           "axis": {
            "matches": true
           },
           "label": "PC3",
           "values": [
            -0.05030291679783216
           ]
          },
          {
           "axis": {
            "matches": true
           },
           "label": "PC4",
           "values": [
            -0.47639106480830706
           ]
          }
         ],
         "hovertemplate": "municipios=sagrada familia<br>%{xaxis.title.text}=%{x}<br>%{yaxis.title.text}=%{y}<extra></extra>",
         "legendgroup": "sagrada familia",
         "marker": {
          "color": "#FECB52",
          "symbol": "circle"
         },
         "name": "sagrada familia",
         "showlegend": true,
         "type": "splom"
        }
       ],
       "layout": {
        "dragmode": "select",
        "legend": {
         "title": {
          "text": "municipios"
         },
         "tracegroupgap": 0
        },
        "template": {
         "data": {
          "bar": [
           {
            "error_x": {
             "color": "#2a3f5f"
            },
            "error_y": {
             "color": "#2a3f5f"
            },
            "marker": {
             "line": {
              "color": "#E5ECF6",
              "width": 0.5
             },
             "pattern": {
              "fillmode": "overlay",
              "size": 10,
              "solidity": 0.2
             }
            },
            "type": "bar"
           }
          ],
          "barpolar": [
           {
            "marker": {
             "line": {
              "color": "#E5ECF6",
              "width": 0.5
             },
             "pattern": {
              "fillmode": "overlay",
              "size": 10,
              "solidity": 0.2
             }
            },
            "type": "barpolar"
           }
          ],
          "carpet": [
           {
            "aaxis": {
             "endlinecolor": "#2a3f5f",
             "gridcolor": "white",
             "linecolor": "white",
             "minorgridcolor": "white",
             "startlinecolor": "#2a3f5f"
            },
            "baxis": {
             "endlinecolor": "#2a3f5f",
             "gridcolor": "white",
             "linecolor": "white",
             "minorgridcolor": "white",
             "startlinecolor": "#2a3f5f"
            },
            "type": "carpet"
           }
          ],
          "choropleth": [
           {
            "colorbar": {
             "outlinewidth": 0,
             "ticks": ""
            },
            "type": "choropleth"
           }
          ],
          "contour": [
           {
            "colorbar": {
             "outlinewidth": 0,
             "ticks": ""
            },
            "colorscale": [
             [
              0,
              "#0d0887"
             ],
             [
              0.1111111111111111,
              "#46039f"
             ],
             [
              0.2222222222222222,
              "#7201a8"
             ],
             [
              0.3333333333333333,
              "#9c179e"
             ],
             [
              0.4444444444444444,
              "#bd3786"
             ],
             [
              0.5555555555555556,
              "#d8576b"
             ],
             [
              0.6666666666666666,
              "#ed7953"
             ],
             [
              0.7777777777777778,
              "#fb9f3a"
             ],
             [
              0.8888888888888888,
              "#fdca26"
             ],
             [
              1,
              "#f0f921"
             ]
            ],
            "type": "contour"
           }
          ],
          "contourcarpet": [
           {
            "colorbar": {
             "outlinewidth": 0,
             "ticks": ""
            },
            "type": "contourcarpet"
           }
          ],
          "heatmap": [
           {
            "colorbar": {
             "outlinewidth": 0,
             "ticks": ""
            },
            "colorscale": [
             [
              0,
              "#0d0887"
             ],
             [
              0.1111111111111111,
              "#46039f"
             ],
             [
              0.2222222222222222,
              "#7201a8"
             ],
             [
              0.3333333333333333,
              "#9c179e"
             ],
             [
              0.4444444444444444,
              "#bd3786"
             ],
             [
              0.5555555555555556,
              "#d8576b"
             ],
             [
              0.6666666666666666,
              "#ed7953"
             ],
             [
              0.7777777777777778,
              "#fb9f3a"
             ],
             [
              0.8888888888888888,
              "#fdca26"
             ],
             [
              1,
              "#f0f921"
             ]
            ],
            "type": "heatmap"
           }
          ],
          "heatmapgl": [
           {
            "colorbar": {
             "outlinewidth": 0,
             "ticks": ""
            },
            "colorscale": [
             [
              0,
              "#0d0887"
             ],
             [
              0.1111111111111111,
              "#46039f"
             ],
             [
              0.2222222222222222,
              "#7201a8"
             ],
             [
              0.3333333333333333,
              "#9c179e"
             ],
             [
              0.4444444444444444,
              "#bd3786"
             ],
             [
              0.5555555555555556,
              "#d8576b"
             ],
             [
              0.6666666666666666,
              "#ed7953"
             ],
             [
              0.7777777777777778,
              "#fb9f3a"
             ],
             [
              0.8888888888888888,
              "#fdca26"
             ],
             [
              1,
              "#f0f921"
             ]
            ],
            "type": "heatmapgl"
           }
          ],
          "histogram": [
           {
            "marker": {
             "pattern": {
              "fillmode": "overlay",
              "size": 10,
              "solidity": 0.2
             }
            },
            "type": "histogram"
           }
          ],
          "histogram2d": [
           {
            "colorbar": {
             "outlinewidth": 0,
             "ticks": ""
            },
            "colorscale": [
             [
              0,
              "#0d0887"
             ],
             [
              0.1111111111111111,
              "#46039f"
             ],
             [
              0.2222222222222222,
              "#7201a8"
             ],
             [
              0.3333333333333333,
              "#9c179e"
             ],
             [
              0.4444444444444444,
              "#bd3786"
             ],
             [
              0.5555555555555556,
              "#d8576b"
             ],
             [
              0.6666666666666666,
              "#ed7953"
             ],
             [
              0.7777777777777778,
              "#fb9f3a"
             ],
             [
              0.8888888888888888,
              "#fdca26"
             ],
             [
              1,
              "#f0f921"
             ]
            ],
            "type": "histogram2d"
           }
          ],
          "histogram2dcontour": [
           {
            "colorbar": {
             "outlinewidth": 0,
             "ticks": ""
            },
            "colorscale": [
             [
              0,
              "#0d0887"
             ],
             [
              0.1111111111111111,
              "#46039f"
             ],
             [
              0.2222222222222222,
              "#7201a8"
             ],
             [
              0.3333333333333333,
              "#9c179e"
             ],
             [
              0.4444444444444444,
              "#bd3786"
             ],
             [
              0.5555555555555556,
              "#d8576b"
             ],
             [
              0.6666666666666666,
              "#ed7953"
             ],
             [
              0.7777777777777778,
              "#fb9f3a"
             ],
             [
              0.8888888888888888,
              "#fdca26"
             ],
             [
              1,
              "#f0f921"
             ]
            ],
            "type": "histogram2dcontour"
           }
          ],
          "mesh3d": [
           {
            "colorbar": {
             "outlinewidth": 0,
             "ticks": ""
            },
            "type": "mesh3d"
           }
          ],
          "parcoords": [
           {
            "line": {
             "colorbar": {
              "outlinewidth": 0,
              "ticks": ""
             }
            },
            "type": "parcoords"
           }
          ],
          "pie": [
           {
            "automargin": true,
            "type": "pie"
           }
          ],
          "scatter": [
           {
            "fillpattern": {
             "fillmode": "overlay",
             "size": 10,
             "solidity": 0.2
            },
            "type": "scatter"
           }
          ],
          "scatter3d": [
           {
            "line": {
             "colorbar": {
              "outlinewidth": 0,
              "ticks": ""
             }
            },
            "marker": {
             "colorbar": {
              "outlinewidth": 0,
              "ticks": ""
             }
            },
            "type": "scatter3d"
           }
          ],
          "scattercarpet": [
           {
            "marker": {
             "colorbar": {
              "outlinewidth": 0,
              "ticks": ""
             }
            },
            "type": "scattercarpet"
           }
          ],
          "scattergeo": [
           {
            "marker": {
             "colorbar": {
              "outlinewidth": 0,
              "ticks": ""
             }
            },
            "type": "scattergeo"
           }
          ],
          "scattergl": [
           {
            "marker": {
             "colorbar": {
              "outlinewidth": 0,
              "ticks": ""
             }
            },
            "type": "scattergl"
           }
          ],
          "scattermapbox": [
           {
            "marker": {
             "colorbar": {
              "outlinewidth": 0,
              "ticks": ""
             }
            },
            "type": "scattermapbox"
           }
          ],
          "scatterpolar": [
           {
            "marker": {
             "colorbar": {
              "outlinewidth": 0,
              "ticks": ""
             }
            },
            "type": "scatterpolar"
           }
          ],
          "scatterpolargl": [
           {
            "marker": {
             "colorbar": {
              "outlinewidth": 0,
              "ticks": ""
             }
            },
            "type": "scatterpolargl"
           }
          ],
          "scatterternary": [
           {
            "marker": {
             "colorbar": {
              "outlinewidth": 0,
              "ticks": ""
             }
            },
            "type": "scatterternary"
           }
          ],
          "surface": [
           {
            "colorbar": {
             "outlinewidth": 0,
             "ticks": ""
            },
            "colorscale": [
             [
              0,
              "#0d0887"
             ],
             [
              0.1111111111111111,
              "#46039f"
             ],
             [
              0.2222222222222222,
              "#7201a8"
             ],
             [
              0.3333333333333333,
              "#9c179e"
             ],
             [
              0.4444444444444444,
              "#bd3786"
             ],
             [
              0.5555555555555556,
              "#d8576b"
             ],
             [
              0.6666666666666666,
              "#ed7953"
             ],
             [
              0.7777777777777778,
              "#fb9f3a"
             ],
             [
              0.8888888888888888,
              "#fdca26"
             ],
             [
              1,
              "#f0f921"
             ]
            ],
            "type": "surface"
           }
          ],
          "table": [
           {
            "cells": {
             "fill": {
              "color": "#EBF0F8"
             },
             "line": {
              "color": "white"
             }
            },
            "header": {
             "fill": {
              "color": "#C8D4E3"
             },
             "line": {
              "color": "white"
             }
            },
            "type": "table"
           }
          ]
         },
         "layout": {
          "annotationdefaults": {
           "arrowcolor": "#2a3f5f",
           "arrowhead": 0,
           "arrowwidth": 1
          },
          "autotypenumbers": "strict",
          "coloraxis": {
           "colorbar": {
            "outlinewidth": 0,
            "ticks": ""
           }
          },
          "colorscale": {
           "diverging": [
            [
             0,
             "#8e0152"
            ],
            [
             0.1,
             "#c51b7d"
            ],
            [
             0.2,
             "#de77ae"
            ],
            [
             0.3,
             "#f1b6da"
            ],
            [
             0.4,
             "#fde0ef"
            ],
            [
             0.5,
             "#f7f7f7"
            ],
            [
             0.6,
             "#e6f5d0"
            ],
            [
             0.7,
             "#b8e186"
            ],
            [
             0.8,
             "#7fbc41"
            ],
            [
             0.9,
             "#4d9221"
            ],
            [
             1,
             "#276419"
            ]
           ],
           "sequential": [
            [
             0,
             "#0d0887"
            ],
            [
             0.1111111111111111,
             "#46039f"
            ],
            [
             0.2222222222222222,
             "#7201a8"
            ],
            [
             0.3333333333333333,
             "#9c179e"
            ],
            [
             0.4444444444444444,
             "#bd3786"
            ],
            [
             0.5555555555555556,
             "#d8576b"
            ],
            [
             0.6666666666666666,
             "#ed7953"
            ],
            [
             0.7777777777777778,
             "#fb9f3a"
            ],
            [
             0.8888888888888888,
             "#fdca26"
            ],
            [
             1,
             "#f0f921"
            ]
           ],
           "sequentialminus": [
            [
             0,
             "#0d0887"
            ],
            [
             0.1111111111111111,
             "#46039f"
            ],
            [
             0.2222222222222222,
             "#7201a8"
            ],
            [
             0.3333333333333333,
             "#9c179e"
            ],
            [
             0.4444444444444444,
             "#bd3786"
            ],
            [
             0.5555555555555556,
             "#d8576b"
            ],
            [
             0.6666666666666666,
             "#ed7953"
            ],
            [
             0.7777777777777778,
             "#fb9f3a"
            ],
            [
             0.8888888888888888,
             "#fdca26"
            ],
            [
             1,
             "#f0f921"
            ]
           ]
          },
          "colorway": [
           "#636efa",
           "#EF553B",
           "#00cc96",
           "#ab63fa",
           "#FFA15A",
           "#19d3f3",
           "#FF6692",
           "#B6E880",
           "#FF97FF",
           "#FECB52"
          ],
          "font": {
           "color": "#2a3f5f"
          },
          "geo": {
           "bgcolor": "white",
           "lakecolor": "white",
           "landcolor": "#E5ECF6",
           "showlakes": true,
           "showland": true,
           "subunitcolor": "white"
          },
          "hoverlabel": {
           "align": "left"
          },
          "hovermode": "closest",
          "mapbox": {
           "style": "light"
          },
          "paper_bgcolor": "white",
          "plot_bgcolor": "#E5ECF6",
          "polar": {
           "angularaxis": {
            "gridcolor": "white",
            "linecolor": "white",
            "ticks": ""
           },
           "bgcolor": "#E5ECF6",
           "radialaxis": {
            "gridcolor": "white",
            "linecolor": "white",
            "ticks": ""
           }
          },
          "scene": {
           "xaxis": {
            "backgroundcolor": "#E5ECF6",
            "gridcolor": "white",
            "gridwidth": 2,
            "linecolor": "white",
            "showbackground": true,
            "ticks": "",
            "zerolinecolor": "white"
           },
           "yaxis": {
            "backgroundcolor": "#E5ECF6",
            "gridcolor": "white",
            "gridwidth": 2,
            "linecolor": "white",
            "showbackground": true,
            "ticks": "",
            "zerolinecolor": "white"
           },
           "zaxis": {
            "backgroundcolor": "#E5ECF6",
            "gridcolor": "white",
            "gridwidth": 2,
            "linecolor": "white",
            "showbackground": true,
            "ticks": "",
            "zerolinecolor": "white"
           }
          },
          "shapedefaults": {
           "line": {
            "color": "#2a3f5f"
           }
          },
          "ternary": {
           "aaxis": {
            "gridcolor": "white",
            "linecolor": "white",
            "ticks": ""
           },
           "baxis": {
            "gridcolor": "white",
            "linecolor": "white",
            "ticks": ""
           },
           "bgcolor": "#E5ECF6",
           "caxis": {
            "gridcolor": "white",
            "linecolor": "white",
            "ticks": ""
           }
          },
          "title": {
           "x": 0.05
          },
          "xaxis": {
           "automargin": true,
           "gridcolor": "white",
           "linecolor": "white",
           "ticks": "",
           "title": {
            "standoff": 15
           },
           "zerolinecolor": "white",
           "zerolinewidth": 2
          },
          "yaxis": {
           "automargin": true,
           "gridcolor": "white",
           "linecolor": "white",
           "ticks": "",
           "title": {
            "standoff": 15
           },
           "zerolinecolor": "white",
           "zerolinewidth": 2
          }
         }
        },
        "title": {
         "text": "Taxa Total de Variancia Explicada por 4 PC: 81.40%"
        }
       }
      }
     },
     "metadata": {},
     "output_type": "display_data"
    },
    {
     "data": {
      "text/plain": [
       "' Foi utilizado a biblioteca Plotly para a visualização dos dados. Documentação do gráfico PCA: https://plotly.com/python/pca-visualization/'"
      ]
     },
     "execution_count": 17,
     "metadata": {},
     "output_type": "execute_result"
    }
   ],
   "source": [
    "total_var = pca.explained_variance_ratio_.sum() * 100\n",
    "\n",
    "fig = px.scatter_matrix(\n",
    "    df_pca,\n",
    "    title=f'Taxa Total de Variancia Explicada por 4 PC: {total_var:.2f}%',\n",
    "    dimensions=df_pca.columns,\n",
    "    color=df_pca.index,\n",
    ")\n",
    "fig.update_traces(diagonal_visible=False)\n",
    "fig.show()\n",
    "\n",
    "\"\"\" Foi utilizado a biblioteca Plotly para a visualização dos dados. Documentação do gráfico PCA: https://plotly.com/python/pca-visualization/\"\"\""
   ]
  },
  {
   "cell_type": "code",
   "execution_count": 18,
   "metadata": {},
   "outputs": [
    {
     "data": {
      "application/vnd.plotly.v1+json": {
       "config": {
        "plotlyServerURL": "https://plot.ly"
       },
       "data": [
        {
         "hovertemplate": "Município=viadutos<br>PC1=%{x}<br>PC2=%{y}<extra></extra>",
         "legendgroup": "viadutos",
         "marker": {
          "color": "#636efa",
          "symbol": "circle"
         },
         "mode": "markers",
         "name": "viadutos",
         "orientation": "v",
         "showlegend": true,
         "type": "scatter",
         "x": [
          -0.4031460869516257
         ],
         "xaxis": "x",
         "y": [
          -1.2930902641458448
         ],
         "yaxis": "y"
        },
        {
         "hovertemplate": "Município=campos borges<br>PC1=%{x}<br>PC2=%{y}<extra></extra>",
         "legendgroup": "campos borges",
         "marker": {
          "color": "#EF553B",
          "symbol": "circle"
         },
         "mode": "markers",
         "name": "campos borges",
         "orientation": "v",
         "showlegend": true,
         "type": "scatter",
         "x": [
          -1.8803467578764925
         ],
         "xaxis": "x",
         "y": [
          0.9206536913493217
         ],
         "yaxis": "y"
        },
        {
         "hovertemplate": "Município=lajeado<br>PC1=%{x}<br>PC2=%{y}<extra></extra>",
         "legendgroup": "lajeado",
         "marker": {
          "color": "#00cc96",
          "symbol": "circle"
         },
         "mode": "markers",
         "name": "lajeado",
         "orientation": "v",
         "showlegend": true,
         "type": "scatter",
         "x": [
          1.997878158921359
         ],
         "xaxis": "x",
         "y": [
          -0.19763738157817623
         ],
         "yaxis": "y"
        },
        {
         "hovertemplate": "Município=gaurama<br>PC1=%{x}<br>PC2=%{y}<extra></extra>",
         "legendgroup": "gaurama",
         "marker": {
          "color": "#ab63fa",
          "symbol": "circle"
         },
         "mode": "markers",
         "name": "gaurama",
         "orientation": "v",
         "showlegend": true,
         "type": "scatter",
         "x": [
          -0.9386993085537594
         ],
         "xaxis": "x",
         "y": [
          -1.0551840569753552
         ],
         "yaxis": "y"
        },
        {
         "hovertemplate": "Município=macambara<br>PC1=%{x}<br>PC2=%{y}<extra></extra>",
         "legendgroup": "macambara",
         "marker": {
          "color": "#FFA15A",
          "symbol": "circle"
         },
         "mode": "markers",
         "name": "macambara",
         "orientation": "v",
         "showlegend": true,
         "type": "scatter",
         "x": [
          -2.2949449682305176
         ],
         "xaxis": "x",
         "y": [
          -0.37506876560709224
         ],
         "yaxis": "y"
        },
        {
         "hovertemplate": "Município=selbach<br>PC1=%{x}<br>PC2=%{y}<extra></extra>",
         "legendgroup": "selbach",
         "marker": {
          "color": "#19d3f3",
          "symbol": "circle"
         },
         "mode": "markers",
         "name": "selbach",
         "orientation": "v",
         "showlegend": true,
         "type": "scatter",
         "x": [
          -1.9341283289215316
         ],
         "xaxis": "x",
         "y": [
          0.402443740804368
         ],
         "yaxis": "y"
        },
        {
         "hovertemplate": "Município=estancia velha<br>PC1=%{x}<br>PC2=%{y}<extra></extra>",
         "legendgroup": "estancia velha",
         "marker": {
          "color": "#FF6692",
          "symbol": "circle"
         },
         "mode": "markers",
         "name": "estancia velha",
         "orientation": "v",
         "showlegend": true,
         "type": "scatter",
         "x": [
          -0.2174601621018794
         ],
         "xaxis": "x",
         "y": [
          1.8227827049932877
         ],
         "yaxis": "y"
        },
        {
         "hovertemplate": "Município=braga<br>PC1=%{x}<br>PC2=%{y}<extra></extra>",
         "legendgroup": "braga",
         "marker": {
          "color": "#B6E880",
          "symbol": "circle"
         },
         "mode": "markers",
         "name": "braga",
         "orientation": "v",
         "showlegend": true,
         "type": "scatter",
         "x": [
          -1.5368855522687501
         ],
         "xaxis": "x",
         "y": [
          0.17210004859752728
         ],
         "yaxis": "y"
        },
        {
         "hovertemplate": "Município=pontao<br>PC1=%{x}<br>PC2=%{y}<extra></extra>",
         "legendgroup": "pontao",
         "marker": {
          "color": "#FF97FF",
          "symbol": "circle"
         },
         "mode": "markers",
         "name": "pontao",
         "orientation": "v",
         "showlegend": true,
         "type": "scatter",
         "x": [
          -1.5025190671406727
         ],
         "xaxis": "x",
         "y": [
          0.9947003333816123
         ],
         "yaxis": "y"
        },
        {
         "hovertemplate": "Município=alto alegre<br>PC1=%{x}<br>PC2=%{y}<extra></extra>",
         "legendgroup": "alto alegre",
         "marker": {
          "color": "#FECB52",
          "symbol": "circle"
         },
         "mode": "markers",
         "name": "alto alegre",
         "orientation": "v",
         "showlegend": true,
         "type": "scatter",
         "x": [
          -3.12353644016901
         ],
         "xaxis": "x",
         "y": [
          -0.17419909008315515
         ],
         "yaxis": "y"
        },
        {
         "hovertemplate": "Município=charrua<br>PC1=%{x}<br>PC2=%{y}<extra></extra>",
         "legendgroup": "charrua",
         "marker": {
          "color": "#636efa",
          "symbol": "circle"
         },
         "mode": "markers",
         "name": "charrua",
         "orientation": "v",
         "showlegend": true,
         "type": "scatter",
         "x": [
          -2.8734213459253795
         ],
         "xaxis": "x",
         "y": [
          -0.02925739259088381
         ],
         "yaxis": "y"
        },
        {
         "hovertemplate": "Município=morro redondo<br>PC1=%{x}<br>PC2=%{y}<extra></extra>",
         "legendgroup": "morro redondo",
         "marker": {
          "color": "#EF553B",
          "symbol": "circle"
         },
         "mode": "markers",
         "name": "morro redondo",
         "orientation": "v",
         "showlegend": true,
         "type": "scatter",
         "x": [
          -2.1089878631936654
         ],
         "xaxis": "x",
         "y": [
          -0.1910740431050315
         ],
         "yaxis": "y"
        },
        {
         "hovertemplate": "Município=rondinha<br>PC1=%{x}<br>PC2=%{y}<extra></extra>",
         "legendgroup": "rondinha",
         "marker": {
          "color": "#00cc96",
          "symbol": "circle"
         },
         "mode": "markers",
         "name": "rondinha",
         "orientation": "v",
         "showlegend": true,
         "type": "scatter",
         "x": [
          0.1581882626460746
         ],
         "xaxis": "x",
         "y": [
          -2.2496825082142764
         ],
         "yaxis": "y"
        },
        {
         "hovertemplate": "Município=horizontina<br>PC1=%{x}<br>PC2=%{y}<extra></extra>",
         "legendgroup": "horizontina",
         "marker": {
          "color": "#ab63fa",
          "symbol": "circle"
         },
         "mode": "markers",
         "name": "horizontina",
         "orientation": "v",
         "showlegend": true,
         "type": "scatter",
         "x": [
          -0.5529671142148248
         ],
         "xaxis": "x",
         "y": [
          -0.46654533737917303
         ],
         "yaxis": "y"
        },
        {
         "hovertemplate": "Município=cerro largo<br>PC1=%{x}<br>PC2=%{y}<extra></extra>",
         "legendgroup": "cerro largo",
         "marker": {
          "color": "#FFA15A",
          "symbol": "circle"
         },
         "mode": "markers",
         "name": "cerro largo",
         "orientation": "v",
         "showlegend": true,
         "type": "scatter",
         "x": [
          0.3916052482469439
         ],
         "xaxis": "x",
         "y": [
          -2.121707893288287
         ],
         "yaxis": "y"
        },
        {
         "hovertemplate": "Município=sao paulo das missoes<br>PC1=%{x}<br>PC2=%{y}<extra></extra>",
         "legendgroup": "sao paulo das missoes",
         "marker": {
          "color": "#19d3f3",
          "symbol": "circle"
         },
         "mode": "markers",
         "name": "sao paulo das missoes",
         "orientation": "v",
         "showlegend": true,
         "type": "scatter",
         "x": [
          -2.1487402312841613
         ],
         "xaxis": "x",
         "y": [
          0.45479289058838956
         ],
         "yaxis": "y"
        },
        {
         "hovertemplate": "Município=tramandai<br>PC1=%{x}<br>PC2=%{y}<extra></extra>",
         "legendgroup": "tramandai",
         "marker": {
          "color": "#FF6692",
          "symbol": "circle"
         },
         "mode": "markers",
         "name": "tramandai",
         "orientation": "v",
         "showlegend": true,
         "type": "scatter",
         "x": [
          7.424857231463878
         ],
         "xaxis": "x",
         "y": [
          -0.9256957359186023
         ],
         "yaxis": "y"
        },
        {
         "hovertemplate": "Município=balneario pinhal<br>PC1=%{x}<br>PC2=%{y}<extra></extra>",
         "legendgroup": "balneario pinhal",
         "marker": {
          "color": "#B6E880",
          "symbol": "circle"
         },
         "mode": "markers",
         "name": "balneario pinhal",
         "orientation": "v",
         "showlegend": true,
         "type": "scatter",
         "x": [
          4.469603152940832
         ],
         "xaxis": "x",
         "y": [
          -1.5953605142680791
         ],
         "yaxis": "y"
        },
        {
         "hovertemplate": "Município=dona francisca<br>PC1=%{x}<br>PC2=%{y}<extra></extra>",
         "legendgroup": "dona francisca",
         "marker": {
          "color": "#FF97FF",
          "symbol": "circle"
         },
         "mode": "markers",
         "name": "dona francisca",
         "orientation": "v",
         "showlegend": true,
         "type": "scatter",
         "x": [
          -1.3347737842888445
         ],
         "xaxis": "x",
         "y": [
          0.19846398135619808
         ],
         "yaxis": "y"
        },
        {
         "hovertemplate": "Município=vila flores<br>PC1=%{x}<br>PC2=%{y}<extra></extra>",
         "legendgroup": "vila flores",
         "marker": {
          "color": "#FECB52",
          "symbol": "circle"
         },
         "mode": "markers",
         "name": "vila flores",
         "orientation": "v",
         "showlegend": true,
         "type": "scatter",
         "x": [
          -1.8048891280909538
         ],
         "xaxis": "x",
         "y": [
          1.106315774866216
         ],
         "yaxis": "y"
        },
        {
         "hovertemplate": "Município=muliterno<br>PC1=%{x}<br>PC2=%{y}<extra></extra>",
         "legendgroup": "muliterno",
         "marker": {
          "color": "#636efa",
          "symbol": "circle"
         },
         "mode": "markers",
         "name": "muliterno",
         "orientation": "v",
         "showlegend": true,
         "type": "scatter",
         "x": [
          -1.7590926772276578
         ],
         "xaxis": "x",
         "y": [
          -0.22160331333853484
         ],
         "yaxis": "y"
        },
        {
         "hovertemplate": "Município=novo tiradentes<br>PC1=%{x}<br>PC2=%{y}<extra></extra>",
         "legendgroup": "novo tiradentes",
         "marker": {
          "color": "#EF553B",
          "symbol": "circle"
         },
         "mode": "markers",
         "name": "novo tiradentes",
         "orientation": "v",
         "showlegend": true,
         "type": "scatter",
         "x": [
          -1.9327801305149068
         ],
         "xaxis": "x",
         "y": [
          0.25913567785796315
         ],
         "yaxis": "y"
        },
        {
         "hovertemplate": "Município=vista alegre<br>PC1=%{x}<br>PC2=%{y}<extra></extra>",
         "legendgroup": "vista alegre",
         "marker": {
          "color": "#00cc96",
          "symbol": "circle"
         },
         "mode": "markers",
         "name": "vista alegre",
         "orientation": "v",
         "showlegend": true,
         "type": "scatter",
         "x": [
          -1.6523504248036243
         ],
         "xaxis": "x",
         "y": [
          1.7825437409006564
         ],
         "yaxis": "y"
        },
        {
         "hovertemplate": "Município=campo novo<br>PC1=%{x}<br>PC2=%{y}<extra></extra>",
         "legendgroup": "campo novo",
         "marker": {
          "color": "#ab63fa",
          "symbol": "circle"
         },
         "mode": "markers",
         "name": "campo novo",
         "orientation": "v",
         "showlegend": true,
         "type": "scatter",
         "x": [
          2.2350811363464222
         ],
         "xaxis": "x",
         "y": [
          -2.3870768481298454
         ],
         "yaxis": "y"
        },
        {
         "hovertemplate": "Município=caibate<br>PC1=%{x}<br>PC2=%{y}<extra></extra>",
         "legendgroup": "caibate",
         "marker": {
          "color": "#FFA15A",
          "symbol": "circle"
         },
         "mode": "markers",
         "name": "caibate",
         "orientation": "v",
         "showlegend": true,
         "type": "scatter",
         "x": [
          -2.0884155492732193
         ],
         "xaxis": "x",
         "y": [
          -0.3739866143806945
         ],
         "yaxis": "y"
        },
        {
         "hovertemplate": "Município=caseiros<br>PC1=%{x}<br>PC2=%{y}<extra></extra>",
         "legendgroup": "caseiros",
         "marker": {
          "color": "#19d3f3",
          "symbol": "circle"
         },
         "mode": "markers",
         "name": "caseiros",
         "orientation": "v",
         "showlegend": true,
         "type": "scatter",
         "x": [
          3.623346870067339
         ],
         "xaxis": "x",
         "y": [
          -3.7195630896134135
         ],
         "yaxis": "y"
        },
        {
         "hovertemplate": "Município=santa vitoria do palmar<br>PC1=%{x}<br>PC2=%{y}<extra></extra>",
         "legendgroup": "santa vitoria do palmar",
         "marker": {
          "color": "#FF6692",
          "symbol": "circle"
         },
         "mode": "markers",
         "name": "santa vitoria do palmar",
         "orientation": "v",
         "showlegend": true,
         "type": "scatter",
         "x": [
          3.715938571645242
         ],
         "xaxis": "x",
         "y": [
          -3.073151000035698
         ],
         "yaxis": "y"
        },
        {
         "hovertemplate": "Município=vera cruz<br>PC1=%{x}<br>PC2=%{y}<extra></extra>",
         "legendgroup": "vera cruz",
         "marker": {
          "color": "#B6E880",
          "symbol": "circle"
         },
         "mode": "markers",
         "name": "vera cruz",
         "orientation": "v",
         "showlegend": true,
         "type": "scatter",
         "x": [
          -0.7461282364500909
         ],
         "xaxis": "x",
         "y": [
          0.38613424507558697
         ],
         "yaxis": "y"
        },
        {
         "hovertemplate": "Município=canela<br>PC1=%{x}<br>PC2=%{y}<extra></extra>",
         "legendgroup": "canela",
         "marker": {
          "color": "#FF97FF",
          "symbol": "circle"
         },
         "mode": "markers",
         "name": "canela",
         "orientation": "v",
         "showlegend": true,
         "type": "scatter",
         "x": [
          2.1442524771495735
         ],
         "xaxis": "x",
         "y": [
          -0.27040856530316487
         ],
         "yaxis": "y"
        },
        {
         "hovertemplate": "Município=campestre da serra<br>PC1=%{x}<br>PC2=%{y}<extra></extra>",
         "legendgroup": "campestre da serra",
         "marker": {
          "color": "#FECB52",
          "symbol": "circle"
         },
         "mode": "markers",
         "name": "campestre da serra",
         "orientation": "v",
         "showlegend": true,
         "type": "scatter",
         "x": [
          0.9817931327473952
         ],
         "xaxis": "x",
         "y": [
          -0.23930799414219225
         ],
         "yaxis": "y"
        },
        {
         "hovertemplate": "Município=tapes<br>PC1=%{x}<br>PC2=%{y}<extra></extra>",
         "legendgroup": "tapes",
         "marker": {
          "color": "#636efa",
          "symbol": "circle"
         },
         "mode": "markers",
         "name": "tapes",
         "orientation": "v",
         "showlegend": true,
         "type": "scatter",
         "x": [
          1.3305136252282692
         ],
         "xaxis": "x",
         "y": [
          -0.9976069392431938
         ],
         "yaxis": "y"
        },
        {
         "hovertemplate": "Município=candiota<br>PC1=%{x}<br>PC2=%{y}<extra></extra>",
         "legendgroup": "candiota",
         "marker": {
          "color": "#EF553B",
          "symbol": "circle"
         },
         "mode": "markers",
         "name": "candiota",
         "orientation": "v",
         "showlegend": true,
         "type": "scatter",
         "x": [
          0.7002638262540283
         ],
         "xaxis": "x",
         "y": [
          -0.5377239921171759
         ],
         "yaxis": "y"
        },
        {
         "hovertemplate": "Município=eldorado do sul<br>PC1=%{x}<br>PC2=%{y}<extra></extra>",
         "legendgroup": "eldorado do sul",
         "marker": {
          "color": "#00cc96",
          "symbol": "circle"
         },
         "mode": "markers",
         "name": "eldorado do sul",
         "orientation": "v",
         "showlegend": true,
         "type": "scatter",
         "x": [
          3.3005179845426773
         ],
         "xaxis": "x",
         "y": [
          -0.031773131056399895
         ],
         "yaxis": "y"
        },
        {
         "hovertemplate": "Município=agudo<br>PC1=%{x}<br>PC2=%{y}<extra></extra>",
         "legendgroup": "agudo",
         "marker": {
          "color": "#ab63fa",
          "symbol": "circle"
         },
         "mode": "markers",
         "name": "agudo",
         "orientation": "v",
         "showlegend": true,
         "type": "scatter",
         "x": [
          -1.6366587388505371
         ],
         "xaxis": "x",
         "y": [
          -0.1342893331425615
         ],
         "yaxis": "y"
        },
        {
         "hovertemplate": "Município=progresso<br>PC1=%{x}<br>PC2=%{y}<extra></extra>",
         "legendgroup": "progresso",
         "marker": {
          "color": "#FFA15A",
          "symbol": "circle"
         },
         "mode": "markers",
         "name": "progresso",
         "orientation": "v",
         "showlegend": true,
         "type": "scatter",
         "x": [
          -1.9655047664068765
         ],
         "xaxis": "x",
         "y": [
          -0.2565266809016657
         ],
         "yaxis": "y"
        },
        {
         "hovertemplate": "Município=canoas<br>PC1=%{x}<br>PC2=%{y}<extra></extra>",
         "legendgroup": "canoas",
         "marker": {
          "color": "#19d3f3",
          "symbol": "circle"
         },
         "mode": "markers",
         "name": "canoas",
         "orientation": "v",
         "showlegend": true,
         "type": "scatter",
         "x": [
          5.580622678956365
         ],
         "xaxis": "x",
         "y": [
          4.6132417480807915
         ],
         "yaxis": "y"
        },
        {
         "hovertemplate": "Município=irai<br>PC1=%{x}<br>PC2=%{y}<extra></extra>",
         "legendgroup": "irai",
         "marker": {
          "color": "#FF6692",
          "symbol": "circle"
         },
         "mode": "markers",
         "name": "irai",
         "orientation": "v",
         "showlegend": true,
         "type": "scatter",
         "x": [
          2.779622215584135
         ],
         "xaxis": "x",
         "y": [
          -3.090352178502352
         ],
         "yaxis": "y"
        },
        {
         "hovertemplate": "Município=gramado dos loureiros<br>PC1=%{x}<br>PC2=%{y}<extra></extra>",
         "legendgroup": "gramado dos loureiros",
         "marker": {
          "color": "#B6E880",
          "symbol": "circle"
         },
         "mode": "markers",
         "name": "gramado dos loureiros",
         "orientation": "v",
         "showlegend": true,
         "type": "scatter",
         "x": [
          -1.6853270192002832
         ],
         "xaxis": "x",
         "y": [
          1.3522509027385041
         ],
         "yaxis": "y"
        },
        {
         "hovertemplate": "Município=soledade<br>PC1=%{x}<br>PC2=%{y}<extra></extra>",
         "legendgroup": "soledade",
         "marker": {
          "color": "#FF97FF",
          "symbol": "circle"
         },
         "mode": "markers",
         "name": "soledade",
         "orientation": "v",
         "showlegend": true,
         "type": "scatter",
         "x": [
          2.3940652158572036
         ],
         "xaxis": "x",
         "y": [
          -2.002712431770976
         ],
         "yaxis": "y"
        },
        {
         "hovertemplate": "Município=novo hamburgo<br>PC1=%{x}<br>PC2=%{y}<extra></extra>",
         "legendgroup": "novo hamburgo",
         "marker": {
          "color": "#FECB52",
          "symbol": "circle"
         },
         "mode": "markers",
         "name": "novo hamburgo",
         "orientation": "v",
         "showlegend": true,
         "type": "scatter",
         "x": [
          2.8222865895266156
         ],
         "xaxis": "x",
         "y": [
          3.624894469321265
         ],
         "yaxis": "y"
        },
        {
         "hovertemplate": "Município=ibarama<br>PC1=%{x}<br>PC2=%{y}<extra></extra>",
         "legendgroup": "ibarama",
         "marker": {
          "color": "#636efa",
          "symbol": "circle"
         },
         "mode": "markers",
         "name": "ibarama",
         "orientation": "v",
         "showlegend": true,
         "type": "scatter",
         "x": [
          -2.1703605512590816
         ],
         "xaxis": "x",
         "y": [
          0.047332678748511256
         ],
         "yaxis": "y"
        },
        {
         "hovertemplate": "Município=tabai<br>PC1=%{x}<br>PC2=%{y}<extra></extra>",
         "legendgroup": "tabai",
         "marker": {
          "color": "#EF553B",
          "symbol": "circle"
         },
         "mode": "markers",
         "name": "tabai",
         "orientation": "v",
         "showlegend": true,
         "type": "scatter",
         "x": [
          -0.15120580866661254
         ],
         "xaxis": "x",
         "y": [
          4.75542705840966
         ],
         "yaxis": "y"
        },
        {
         "hovertemplate": "Município=barao do triunfo<br>PC1=%{x}<br>PC2=%{y}<extra></extra>",
         "legendgroup": "barao do triunfo",
         "marker": {
          "color": "#00cc96",
          "symbol": "circle"
         },
         "mode": "markers",
         "name": "barao do triunfo",
         "orientation": "v",
         "showlegend": true,
         "type": "scatter",
         "x": [
          -2.195636942606698
         ],
         "xaxis": "x",
         "y": [
          -0.05189934475423784
         ],
         "yaxis": "y"
        },
        {
         "hovertemplate": "Município=pinheiro machado<br>PC1=%{x}<br>PC2=%{y}<extra></extra>",
         "legendgroup": "pinheiro machado",
         "marker": {
          "color": "#ab63fa",
          "symbol": "circle"
         },
         "mode": "markers",
         "name": "pinheiro machado",
         "orientation": "v",
         "showlegend": true,
         "type": "scatter",
         "x": [
          -0.40147556100906245
         ],
         "xaxis": "x",
         "y": [
          -1.1784660844090482
         ],
         "yaxis": "y"
        },
        {
         "hovertemplate": "Município=acegua<br>PC1=%{x}<br>PC2=%{y}<extra></extra>",
         "legendgroup": "acegua",
         "marker": {
          "color": "#FFA15A",
          "symbol": "circle"
         },
         "mode": "markers",
         "name": "acegua",
         "orientation": "v",
         "showlegend": true,
         "type": "scatter",
         "x": [
          -2.0036831793102894
         ],
         "xaxis": "x",
         "y": [
          0.09851344095918768
         ],
         "yaxis": "y"
        },
        {
         "hovertemplate": "Município=alvorada<br>PC1=%{x}<br>PC2=%{y}<extra></extra>",
         "legendgroup": "alvorada",
         "marker": {
          "color": "#19d3f3",
          "symbol": "circle"
         },
         "mode": "markers",
         "name": "alvorada",
         "orientation": "v",
         "showlegend": true,
         "type": "scatter",
         "x": [
          5.866101113631793
         ],
         "xaxis": "x",
         "y": [
          5.9014619886639315
         ],
         "yaxis": "y"
        },
        {
         "hovertemplate": "Município=protasio alves<br>PC1=%{x}<br>PC2=%{y}<extra></extra>",
         "legendgroup": "protasio alves",
         "marker": {
          "color": "#FF6692",
          "symbol": "circle"
         },
         "mode": "markers",
         "name": "protasio alves",
         "orientation": "v",
         "showlegend": true,
         "type": "scatter",
         "x": [
          -2.2824815582065483
         ],
         "xaxis": "x",
         "y": [
          -0.21650065504987445
         ],
         "yaxis": "y"
        },
        {
         "hovertemplate": "Município=garibaldi<br>PC1=%{x}<br>PC2=%{y}<extra></extra>",
         "legendgroup": "garibaldi",
         "marker": {
          "color": "#B6E880",
          "symbol": "circle"
         },
         "mode": "markers",
         "name": "garibaldi",
         "orientation": "v",
         "showlegend": true,
         "type": "scatter",
         "x": [
          -0.284187078311012
         ],
         "xaxis": "x",
         "y": [
          0.3198786419122811
         ],
         "yaxis": "y"
        },
        {
         "hovertemplate": "Município=capao do leao<br>PC1=%{x}<br>PC2=%{y}<extra></extra>",
         "legendgroup": "capao do leao",
         "marker": {
          "color": "#FF97FF",
          "symbol": "circle"
         },
         "mode": "markers",
         "name": "capao do leao",
         "orientation": "v",
         "showlegend": true,
         "type": "scatter",
         "x": [
          -1.8331007831001778
         ],
         "xaxis": "x",
         "y": [
          0.35288672735152693
         ],
         "yaxis": "y"
        },
        {
         "hovertemplate": "Município=sagrada familia<br>PC1=%{x}<br>PC2=%{y}<extra></extra>",
         "legendgroup": "sagrada familia",
         "marker": {
          "color": "#FECB52",
          "symbol": "circle"
         },
         "mode": "markers",
         "name": "sagrada familia",
         "orientation": "v",
         "showlegend": true,
         "type": "scatter",
         "x": [
          -2.4727023473473984
         ],
         "xaxis": "x",
         "y": [
          -0.10850330691179916
         ],
         "yaxis": "y"
        }
       ],
       "layout": {
        "annotations": [
         {
          "arrowhead": 2,
          "arrowsize": 2,
          "ax": 0,
          "axref": "x",
          "ay": 0,
          "ayref": "y",
          "showarrow": true,
          "x": 0.9156637519281924,
          "xanchor": "right",
          "y": -0.5258170657976414,
          "yanchor": "top"
         },
         {
          "ax": 0,
          "ay": 0,
          "text": "taxa_homicidio_doloso",
          "x": 0.9156637519281924,
          "xanchor": "center",
          "y": -0.5258170657976414,
          "yanchor": "bottom",
          "yshift": 5
         },
         {
          "arrowhead": 2,
          "arrowsize": 2,
          "ax": 0,
          "axref": "x",
          "ay": 0,
          "ayref": "y",
          "showarrow": true,
          "x": 0.9360204945168992,
          "xanchor": "right",
          "y": -0.516003538399322,
          "yanchor": "top"
         },
         {
          "ax": 0,
          "ay": 0,
          "text": "taxa_total_vitimas_homicidio_doloso",
          "x": 0.9360204945168992,
          "xanchor": "center",
          "y": -0.516003538399322,
          "yanchor": "bottom",
          "yshift": 5
         },
         {
          "arrowhead": 2,
          "arrowsize": 2,
          "ax": 0,
          "axref": "x",
          "ay": 0,
          "ayref": "y",
          "showarrow": true,
          "x": 0.11565339687319874,
          "xanchor": "right",
          "y": -0.12988815077017024,
          "yanchor": "top"
         },
         {
          "ax": 0,
          "ay": 0,
          "text": "taxa_latrocinio",
          "x": 0.11565339687319874,
          "xanchor": "center",
          "y": -0.12988815077017024,
          "yanchor": "bottom",
          "yshift": 5
         },
         {
          "arrowhead": 2,
          "arrowsize": 2,
          "ax": 0,
          "axref": "x",
          "ay": 0,
          "ayref": "y",
          "showarrow": true,
          "x": 0.8466056664607806,
          "xanchor": "right",
          "y": -0.2667091824796513,
          "yanchor": "top"
         },
         {
          "ax": 0,
          "ay": 0,
          "text": "taxa_furtos",
          "x": 0.8466056664607806,
          "xanchor": "center",
          "y": -0.2667091824796513,
          "yanchor": "bottom",
          "yshift": 5
         },
         {
          "arrowhead": 2,
          "arrowsize": 2,
          "ax": 0,
          "axref": "x",
          "ay": 0,
          "ayref": "y",
          "showarrow": true,
          "x": -0.09632613277398162,
          "xanchor": "right",
          "y": -0.1599633354318165,
          "yanchor": "top"
         },
         {
          "ax": 0,
          "ay": 0,
          "text": "taxa_abigeato",
          "x": -0.09632613277398162,
          "xanchor": "center",
          "y": -0.1599633354318165,
          "yanchor": "bottom",
          "yshift": 5
         },
         {
          "arrowhead": 2,
          "arrowsize": 2,
          "ax": 0,
          "axref": "x",
          "ay": 0,
          "ayref": "y",
          "showarrow": true,
          "x": 0.569680754924619,
          "xanchor": "right",
          "y": 0.24563366210657822,
          "yanchor": "top"
         },
         {
          "ax": 0,
          "ay": 0,
          "text": "taxa_furto_veiculo",
          "x": 0.569680754924619,
          "xanchor": "center",
          "y": 0.24563366210657822,
          "yanchor": "bottom",
          "yshift": 5
         },
         {
          "arrowhead": 2,
          "arrowsize": 2,
          "ax": 0,
          "axref": "x",
          "ay": 0,
          "ayref": "y",
          "showarrow": true,
          "x": 1.02118228279414,
          "xanchor": "right",
          "y": 0.7962777781635645,
          "yanchor": "top"
         },
         {
          "ax": 0,
          "ay": 0,
          "text": "taxa_roubos",
          "x": 1.02118228279414,
          "xanchor": "center",
          "y": 0.7962777781635645,
          "yanchor": "bottom",
          "yshift": 5
         },
         {
          "arrowhead": 2,
          "arrowsize": 2,
          "ax": 0,
          "axref": "x",
          "ay": 0,
          "ayref": "y",
          "showarrow": true,
          "x": 0.6343543575840878,
          "xanchor": "right",
          "y": 1.251758343705885,
          "yanchor": "top"
         },
         {
          "ax": 0,
          "ay": 0,
          "text": "taxa_roubo_veiculo",
          "x": 0.6343543575840878,
          "xanchor": "center",
          "y": 1.251758343705885,
          "yanchor": "bottom",
          "yshift": 5
         },
         {
          "arrowhead": 2,
          "arrowsize": 2,
          "ax": 0,
          "axref": "x",
          "ay": 0,
          "ayref": "y",
          "showarrow": true,
          "x": 0.7271845047191235,
          "xanchor": "right",
          "y": 0.19893947089701677,
          "yanchor": "top"
         },
         {
          "ax": 0,
          "ay": 0,
          "text": "taxa_estelionato",
          "x": 0.7271845047191235,
          "xanchor": "center",
          "y": 0.19893947089701677,
          "yanchor": "bottom",
          "yshift": 5
         },
         {
          "arrowhead": 2,
          "arrowsize": 2,
          "ax": 0,
          "axref": "x",
          "ay": 0,
          "ayref": "y",
          "showarrow": true,
          "x": 0.09200541870812717,
          "xanchor": "right",
          "y": -0.2628079212270447,
          "yanchor": "top"
         },
         {
          "ax": 0,
          "ay": 0,
          "text": "taxa_delitos_armas_municoes",
          "x": 0.09200541870812717,
          "xanchor": "center",
          "y": -0.2628079212270447,
          "yanchor": "bottom",
          "yshift": 5
         },
         {
          "arrowhead": 2,
          "arrowsize": 2,
          "ax": 0,
          "axref": "x",
          "ay": 0,
          "ayref": "y",
          "showarrow": true,
          "x": 0.6224231045357561,
          "xanchor": "right",
          "y": -0.14508418030812334,
          "yanchor": "top"
         },
         {
          "ax": 0,
          "ay": 0,
          "text": "taxa_entorpecente_posse",
          "x": 0.6224231045357561,
          "xanchor": "center",
          "y": -0.14508418030812334,
          "yanchor": "bottom",
          "yshift": 5
         },
         {
          "arrowhead": 2,
          "arrowsize": 2,
          "ax": 0,
          "axref": "x",
          "ay": 0,
          "ayref": "y",
          "showarrow": true,
          "x": 0.7217485750214987,
          "xanchor": "right",
          "y": -0.07913062876936651,
          "yanchor": "top"
         },
         {
          "ax": 0,
          "ay": 0,
          "text": "taxa_entorpecente_trafico",
          "x": 0.7217485750214987,
          "xanchor": "center",
          "y": -0.07913062876936651,
          "yanchor": "bottom",
          "yshift": 5
         },
         {
          "arrowhead": 2,
          "arrowsize": 2,
          "ax": 0,
          "axref": "x",
          "ay": 0,
          "ayref": "y",
          "showarrow": true,
          "x": 0.11565339687319864,
          "xanchor": "right",
          "y": -0.12988815077017013,
          "yanchor": "top"
         },
         {
          "ax": 0,
          "ay": 0,
          "text": "taxa_vitimas_latrocinio",
          "x": 0.11565339687319864,
          "xanchor": "center",
          "y": -0.12988815077017013,
          "yanchor": "bottom",
          "yshift": 5
         },
         {
          "arrowhead": 2,
          "arrowsize": 2,
          "ax": 0,
          "axref": "x",
          "ay": 0,
          "ayref": "y",
          "showarrow": true,
          "x": 0.09393298584633356,
          "xanchor": "right",
          "y": 0.00889646937206825,
          "yanchor": "top"
         },
         {
          "ax": 0,
          "ay": 0,
          "text": "taxa_vitimas_lesao_corporal_morte",
          "x": 0.09393298584633356,
          "xanchor": "center",
          "y": 0.00889646937206825,
          "yanchor": "bottom",
          "yshift": 5
         },
         {
          "arrowhead": 2,
          "arrowsize": 2,
          "ax": 0,
          "axref": "x",
          "ay": 0,
          "ayref": "y",
          "showarrow": true,
          "x": 0.9152878995546123,
          "xanchor": "right",
          "y": -0.5639176076550756,
          "yanchor": "top"
         },
         {
          "ax": 0,
          "ay": 0,
          "text": "taxa_total_vitimas_crimes_violentos",
          "x": 0.9152878995546123,
          "xanchor": "center",
          "y": -0.5639176076550756,
          "yanchor": "bottom",
          "yshift": 5
         }
        ],
        "legend": {
         "title": {
          "text": "Município"
         },
         "tracegroupgap": 0
        },
        "template": {
         "data": {
          "bar": [
           {
            "error_x": {
             "color": "#2a3f5f"
            },
            "error_y": {
             "color": "#2a3f5f"
            },
            "marker": {
             "line": {
              "color": "#E5ECF6",
              "width": 0.5
             },
             "pattern": {
              "fillmode": "overlay",
              "size": 10,
              "solidity": 0.2
             }
            },
            "type": "bar"
           }
          ],
          "barpolar": [
           {
            "marker": {
             "line": {
              "color": "#E5ECF6",
              "width": 0.5
             },
             "pattern": {
              "fillmode": "overlay",
              "size": 10,
              "solidity": 0.2
             }
            },
            "type": "barpolar"
           }
          ],
          "carpet": [
           {
            "aaxis": {
             "endlinecolor": "#2a3f5f",
             "gridcolor": "white",
             "linecolor": "white",
             "minorgridcolor": "white",
             "startlinecolor": "#2a3f5f"
            },
            "baxis": {
             "endlinecolor": "#2a3f5f",
             "gridcolor": "white",
             "linecolor": "white",
             "minorgridcolor": "white",
             "startlinecolor": "#2a3f5f"
            },
            "type": "carpet"
           }
          ],
          "choropleth": [
           {
            "colorbar": {
             "outlinewidth": 0,
             "ticks": ""
            },
            "type": "choropleth"
           }
          ],
          "contour": [
           {
            "colorbar": {
             "outlinewidth": 0,
             "ticks": ""
            },
            "colorscale": [
             [
              0,
              "#0d0887"
             ],
             [
              0.1111111111111111,
              "#46039f"
             ],
             [
              0.2222222222222222,
              "#7201a8"
             ],
             [
              0.3333333333333333,
              "#9c179e"
             ],
             [
              0.4444444444444444,
              "#bd3786"
             ],
             [
              0.5555555555555556,
              "#d8576b"
             ],
             [
              0.6666666666666666,
              "#ed7953"
             ],
             [
              0.7777777777777778,
              "#fb9f3a"
             ],
             [
              0.8888888888888888,
              "#fdca26"
             ],
             [
              1,
              "#f0f921"
             ]
            ],
            "type": "contour"
           }
          ],
          "contourcarpet": [
           {
            "colorbar": {
             "outlinewidth": 0,
             "ticks": ""
            },
            "type": "contourcarpet"
           }
          ],
          "heatmap": [
           {
            "colorbar": {
             "outlinewidth": 0,
             "ticks": ""
            },
            "colorscale": [
             [
              0,
              "#0d0887"
             ],
             [
              0.1111111111111111,
              "#46039f"
             ],
             [
              0.2222222222222222,
              "#7201a8"
             ],
             [
              0.3333333333333333,
              "#9c179e"
             ],
             [
              0.4444444444444444,
              "#bd3786"
             ],
             [
              0.5555555555555556,
              "#d8576b"
             ],
             [
              0.6666666666666666,
              "#ed7953"
             ],
             [
              0.7777777777777778,
              "#fb9f3a"
             ],
             [
              0.8888888888888888,
              "#fdca26"
             ],
             [
              1,
              "#f0f921"
             ]
            ],
            "type": "heatmap"
           }
          ],
          "heatmapgl": [
           {
            "colorbar": {
             "outlinewidth": 0,
             "ticks": ""
            },
            "colorscale": [
             [
              0,
              "#0d0887"
             ],
             [
              0.1111111111111111,
              "#46039f"
             ],
             [
              0.2222222222222222,
              "#7201a8"
             ],
             [
              0.3333333333333333,
              "#9c179e"
             ],
             [
              0.4444444444444444,
              "#bd3786"
             ],
             [
              0.5555555555555556,
              "#d8576b"
             ],
             [
              0.6666666666666666,
              "#ed7953"
             ],
             [
              0.7777777777777778,
              "#fb9f3a"
             ],
             [
              0.8888888888888888,
              "#fdca26"
             ],
             [
              1,
              "#f0f921"
             ]
            ],
            "type": "heatmapgl"
           }
          ],
          "histogram": [
           {
            "marker": {
             "pattern": {
              "fillmode": "overlay",
              "size": 10,
              "solidity": 0.2
             }
            },
            "type": "histogram"
           }
          ],
          "histogram2d": [
           {
            "colorbar": {
             "outlinewidth": 0,
             "ticks": ""
            },
            "colorscale": [
             [
              0,
              "#0d0887"
             ],
             [
              0.1111111111111111,
              "#46039f"
             ],
             [
              0.2222222222222222,
              "#7201a8"
             ],
             [
              0.3333333333333333,
              "#9c179e"
             ],
             [
              0.4444444444444444,
              "#bd3786"
             ],
             [
              0.5555555555555556,
              "#d8576b"
             ],
             [
              0.6666666666666666,
              "#ed7953"
             ],
             [
              0.7777777777777778,
              "#fb9f3a"
             ],
             [
              0.8888888888888888,
              "#fdca26"
             ],
             [
              1,
              "#f0f921"
             ]
            ],
            "type": "histogram2d"
           }
          ],
          "histogram2dcontour": [
           {
            "colorbar": {
             "outlinewidth": 0,
             "ticks": ""
            },
            "colorscale": [
             [
              0,
              "#0d0887"
             ],
             [
              0.1111111111111111,
              "#46039f"
             ],
             [
              0.2222222222222222,
              "#7201a8"
             ],
             [
              0.3333333333333333,
              "#9c179e"
             ],
             [
              0.4444444444444444,
              "#bd3786"
             ],
             [
              0.5555555555555556,
              "#d8576b"
             ],
             [
              0.6666666666666666,
              "#ed7953"
             ],
             [
              0.7777777777777778,
              "#fb9f3a"
             ],
             [
              0.8888888888888888,
              "#fdca26"
             ],
             [
              1,
              "#f0f921"
             ]
            ],
            "type": "histogram2dcontour"
           }
          ],
          "mesh3d": [
           {
            "colorbar": {
             "outlinewidth": 0,
             "ticks": ""
            },
            "type": "mesh3d"
           }
          ],
          "parcoords": [
           {
            "line": {
             "colorbar": {
              "outlinewidth": 0,
              "ticks": ""
             }
            },
            "type": "parcoords"
           }
          ],
          "pie": [
           {
            "automargin": true,
            "type": "pie"
           }
          ],
          "scatter": [
           {
            "fillpattern": {
             "fillmode": "overlay",
             "size": 10,
             "solidity": 0.2
            },
            "type": "scatter"
           }
          ],
          "scatter3d": [
           {
            "line": {
             "colorbar": {
              "outlinewidth": 0,
              "ticks": ""
             }
            },
            "marker": {
             "colorbar": {
              "outlinewidth": 0,
              "ticks": ""
             }
            },
            "type": "scatter3d"
           }
          ],
          "scattercarpet": [
           {
            "marker": {
             "colorbar": {
              "outlinewidth": 0,
              "ticks": ""
             }
            },
            "type": "scattercarpet"
           }
          ],
          "scattergeo": [
           {
            "marker": {
             "colorbar": {
              "outlinewidth": 0,
              "ticks": ""
             }
            },
            "type": "scattergeo"
           }
          ],
          "scattergl": [
           {
            "marker": {
             "colorbar": {
              "outlinewidth": 0,
              "ticks": ""
             }
            },
            "type": "scattergl"
           }
          ],
          "scattermapbox": [
           {
            "marker": {
             "colorbar": {
              "outlinewidth": 0,
              "ticks": ""
             }
            },
            "type": "scattermapbox"
           }
          ],
          "scatterpolar": [
           {
            "marker": {
             "colorbar": {
              "outlinewidth": 0,
              "ticks": ""
             }
            },
            "type": "scatterpolar"
           }
          ],
          "scatterpolargl": [
           {
            "marker": {
             "colorbar": {
              "outlinewidth": 0,
              "ticks": ""
             }
            },
            "type": "scatterpolargl"
           }
          ],
          "scatterternary": [
           {
            "marker": {
             "colorbar": {
              "outlinewidth": 0,
              "ticks": ""
             }
            },
            "type": "scatterternary"
           }
          ],
          "surface": [
           {
            "colorbar": {
             "outlinewidth": 0,
             "ticks": ""
            },
            "colorscale": [
             [
              0,
              "#0d0887"
             ],
             [
              0.1111111111111111,
              "#46039f"
             ],
             [
              0.2222222222222222,
              "#7201a8"
             ],
             [
              0.3333333333333333,
              "#9c179e"
             ],
             [
              0.4444444444444444,
              "#bd3786"
             ],
             [
              0.5555555555555556,
              "#d8576b"
             ],
             [
              0.6666666666666666,
              "#ed7953"
             ],
             [
              0.7777777777777778,
              "#fb9f3a"
             ],
             [
              0.8888888888888888,
              "#fdca26"
             ],
             [
              1,
              "#f0f921"
             ]
            ],
            "type": "surface"
           }
          ],
          "table": [
           {
            "cells": {
             "fill": {
              "color": "#EBF0F8"
             },
             "line": {
              "color": "white"
             }
            },
            "header": {
             "fill": {
              "color": "#C8D4E3"
             },
             "line": {
              "color": "white"
             }
            },
            "type": "table"
           }
          ]
         },
         "layout": {
          "annotationdefaults": {
           "arrowcolor": "#2a3f5f",
           "arrowhead": 0,
           "arrowwidth": 1
          },
          "autotypenumbers": "strict",
          "coloraxis": {
           "colorbar": {
            "outlinewidth": 0,
            "ticks": ""
           }
          },
          "colorscale": {
           "diverging": [
            [
             0,
             "#8e0152"
            ],
            [
             0.1,
             "#c51b7d"
            ],
            [
             0.2,
             "#de77ae"
            ],
            [
             0.3,
             "#f1b6da"
            ],
            [
             0.4,
             "#fde0ef"
            ],
            [
             0.5,
             "#f7f7f7"
            ],
            [
             0.6,
             "#e6f5d0"
            ],
            [
             0.7,
             "#b8e186"
            ],
            [
             0.8,
             "#7fbc41"
            ],
            [
             0.9,
             "#4d9221"
            ],
            [
             1,
             "#276419"
            ]
           ],
           "sequential": [
            [
             0,
             "#0d0887"
            ],
            [
             0.1111111111111111,
             "#46039f"
            ],
            [
             0.2222222222222222,
             "#7201a8"
            ],
            [
             0.3333333333333333,
             "#9c179e"
            ],
            [
             0.4444444444444444,
             "#bd3786"
            ],
            [
             0.5555555555555556,
             "#d8576b"
            ],
            [
             0.6666666666666666,
             "#ed7953"
            ],
            [
             0.7777777777777778,
             "#fb9f3a"
            ],
            [
             0.8888888888888888,
             "#fdca26"
            ],
            [
             1,
             "#f0f921"
            ]
           ],
           "sequentialminus": [
            [
             0,
             "#0d0887"
            ],
            [
             0.1111111111111111,
             "#46039f"
            ],
            [
             0.2222222222222222,
             "#7201a8"
            ],
            [
             0.3333333333333333,
             "#9c179e"
            ],
            [
             0.4444444444444444,
             "#bd3786"
            ],
            [
             0.5555555555555556,
             "#d8576b"
            ],
            [
             0.6666666666666666,
             "#ed7953"
            ],
            [
             0.7777777777777778,
             "#fb9f3a"
            ],
            [
             0.8888888888888888,
             "#fdca26"
            ],
            [
             1,
             "#f0f921"
            ]
           ]
          },
          "colorway": [
           "#636efa",
           "#EF553B",
           "#00cc96",
           "#ab63fa",
           "#FFA15A",
           "#19d3f3",
           "#FF6692",
           "#B6E880",
           "#FF97FF",
           "#FECB52"
          ],
          "font": {
           "color": "#2a3f5f"
          },
          "geo": {
           "bgcolor": "white",
           "lakecolor": "white",
           "landcolor": "#E5ECF6",
           "showlakes": true,
           "showland": true,
           "subunitcolor": "white"
          },
          "hoverlabel": {
           "align": "left"
          },
          "hovermode": "closest",
          "mapbox": {
           "style": "light"
          },
          "paper_bgcolor": "white",
          "plot_bgcolor": "#E5ECF6",
          "polar": {
           "angularaxis": {
            "gridcolor": "white",
            "linecolor": "white",
            "ticks": ""
           },
           "bgcolor": "#E5ECF6",
           "radialaxis": {
            "gridcolor": "white",
            "linecolor": "white",
            "ticks": ""
           }
          },
          "scene": {
           "xaxis": {
            "backgroundcolor": "#E5ECF6",
            "gridcolor": "white",
            "gridwidth": 2,
            "linecolor": "white",
            "showbackground": true,
            "ticks": "",
            "zerolinecolor": "white"
           },
           "yaxis": {
            "backgroundcolor": "#E5ECF6",
            "gridcolor": "white",
            "gridwidth": 2,
            "linecolor": "white",
            "showbackground": true,
            "ticks": "",
            "zerolinecolor": "white"
           },
           "zaxis": {
            "backgroundcolor": "#E5ECF6",
            "gridcolor": "white",
            "gridwidth": 2,
            "linecolor": "white",
            "showbackground": true,
            "ticks": "",
            "zerolinecolor": "white"
           }
          },
          "shapedefaults": {
           "line": {
            "color": "#2a3f5f"
           }
          },
          "ternary": {
           "aaxis": {
            "gridcolor": "white",
            "linecolor": "white",
            "ticks": ""
           },
           "baxis": {
            "gridcolor": "white",
            "linecolor": "white",
            "ticks": ""
           },
           "bgcolor": "#E5ECF6",
           "caxis": {
            "gridcolor": "white",
            "linecolor": "white",
            "ticks": ""
           }
          },
          "title": {
           "x": 0.05
          },
          "xaxis": {
           "automargin": true,
           "gridcolor": "white",
           "linecolor": "white",
           "ticks": "",
           "title": {
            "standoff": 15
           },
           "zerolinecolor": "white",
           "zerolinewidth": 2
          },
          "yaxis": {
           "automargin": true,
           "gridcolor": "white",
           "linecolor": "white",
           "ticks": "",
           "title": {
            "standoff": 15
           },
           "zerolinecolor": "white",
           "zerolinewidth": 2
          }
         }
        },
        "title": {
         "text": "Taxa Total de Variancia Explicada por 2 PC: 67.91%"
        },
        "xaxis": {
         "anchor": "y",
         "domain": [
          0,
          1
         ],
         "title": {
          "text": "PC1"
         }
        },
        "yaxis": {
         "anchor": "x",
         "autorange": "reversed",
         "domain": [
          0,
          1
         ],
         "title": {
          "text": "PC2"
         }
        }
       }
      }
     },
     "metadata": {},
     "output_type": "display_data"
    },
    {
     "data": {
      "text/plain": [
       "' Foi utilizado a biblioteca Plotly para a visualização dos dados. Documentação do gráfico PCA: https://plotly.com/python/pca-visualization/'"
      ]
     },
     "execution_count": 18,
     "metadata": {},
     "output_type": "execute_result"
    }
   ],
   "source": [
    "total_var_2 = pca.explained_variance_ratio_[:2].sum() * 100\n",
    "total_var_2\n",
    "\n",
    "# Calculando as cargas dos componentes\n",
    "loadings = pca.components_.T * np.sqrt(pca.explained_variance_)\n",
    "\n",
    "# Plotando o gráfico de dispersão com os componentes principais\n",
    "fig = px.scatter(\n",
    "    components, x=0, y=1, color=df_pca.index,\n",
    "    labels={'0': 'PC1', '1': 'PC2', 'color': 'Município'},\n",
    "    title=f'Taxa Total de Variancia Explicada por 2 PC: {total_var_2:.2f}%')\n",
    "\n",
    "features = df_sample.columns\n",
    "\n",
    "# Adicionando os vetores de carga ao gráfico\n",
    "for i, feature in enumerate(features):\n",
    "    fig.add_annotation(\n",
    "        ax=0, ay=0,\n",
    "        axref=\"x\", ayref=\"y\",\n",
    "        x=loadings[i, 0],\n",
    "        y=loadings[i, 1],\n",
    "        showarrow=True,\n",
    "        arrowsize=2,\n",
    "        arrowhead=2,\n",
    "        xanchor=\"right\",\n",
    "        yanchor=\"top\"\n",
    "    )\n",
    "    \n",
    "    fig.add_annotation(\n",
    "        x=loadings[i, 0],\n",
    "        y=loadings[i, 1],\n",
    "        ax=0, ay=0,\n",
    "        xanchor=\"center\",\n",
    "        yanchor=\"bottom\",\n",
    "        text=feature,\n",
    "        yshift=5,\n",
    "    )\n",
    "# Invertendo o eixo y para que o gráfico fique na posição correta    \n",
    "fig.update_yaxes(autorange=\"reversed\")\n",
    "fig.show()\n",
    "\n",
    "\"\"\" Foi utilizado a biblioteca Plotly para a visualização dos dados. Documentação do gráfico PCA: https://plotly.com/python/pca-visualization/\"\"\""
   ]
  },
  {
   "cell_type": "code",
   "execution_count": 19,
   "metadata": {},
   "outputs": [
    {
     "data": {
      "text/plain": [
       "\" i, j = 0, 1 # which components\\nscale_arrow = s_ = 2\\ncomponents[:,1] *= -1\\npca.components_[1] *= -1 # flip the y-axis\\nfig, ax = plt.subplots(1, 1, figsize=(8, 8))\\nax.scatter(components[:,0], components[:,1])\\nax.set_xlabel('PC%d' % (i+1))\\nax.set_ylabel('PC%d' % (j+1))\\nfor k in range(pca.components_.shape[1]):\\n    ax.arrow(0, 0, s_*pca.components_[i,k], s_*pca.components_[j,k])\\n    ax.text(s_*pca.components_[i,k],\\n            s_*pca.components_[j,k],\\n            df_sample.columns[k]) \""
      ]
     },
     "execution_count": 19,
     "metadata": {},
     "output_type": "execute_result"
    }
   ],
   "source": [
    "\"\"\" i, j = 0, 1 # which components\n",
    "scale_arrow = s_ = 2\n",
    "components[:,1] *= -1\n",
    "pca.components_[1] *= -1 # flip the y-axis\n",
    "fig, ax = plt.subplots(1, 1, figsize=(8, 8))\n",
    "ax.scatter(components[:,0], components[:,1])\n",
    "ax.set_xlabel('PC%d' % (i+1))\n",
    "ax.set_ylabel('PC%d' % (j+1))\n",
    "for k in range(pca.components_.shape[1]):\n",
    "    ax.arrow(0, 0, s_*pca.components_[i,k], s_*pca.components_[j,k])\n",
    "    ax.text(s_*pca.components_[i,k],\n",
    "            s_*pca.components_[j,k],\n",
    "            df_sample.columns[k]) \"\"\""
   ]
  },
  {
   "cell_type": "markdown",
   "metadata": {},
   "source": [
    "## K-means com dados brutos de taxa"
   ]
  },
  {
   "cell_type": "code",
   "execution_count": 20,
   "metadata": {},
   "outputs": [],
   "source": [
    "from sklearn import cluster"
   ]
  },
  {
   "cell_type": "code",
   "execution_count": 21,
   "metadata": {},
   "outputs": [],
   "source": [
    "import matplotlib.pyplot as plt\n",
    "%matplotlib inline"
   ]
  },
  {
   "cell_type": "code",
   "execution_count": 22,
   "metadata": {},
   "outputs": [
    {
     "data": {
      "text/plain": [
       "[715.578611336438,\n",
       " 466.11205480452367,\n",
       " 354.245706296042,\n",
       " 306.8649564752308,\n",
       " 275.67409058476125,\n",
       " 243.95647656820728,\n",
       " 226.28176970536217,\n",
       " 200.66658221421739,\n",
       " 188.08711234826194]"
      ]
     },
     "execution_count": 22,
     "metadata": {},
     "output_type": "execute_result"
    }
   ],
   "source": [
    "# Aplicando o método de Elbow para encontrar o número de clusters\n",
    "clusters = np.arange(1,10,1)\n",
    "\n",
    "SSE = []\n",
    "for k in clusters:\n",
    "    k_means = cluster.KMeans(n_clusters=k, init='k-means++', n_init=25, max_iter=300 , random_state=42)\n",
    "    k_means.fit(df_sample)\n",
    "    SSE.append(k_means.inertia_)\n",
    "\n",
    "SSE"
   ]
  },
  {
   "cell_type": "code",
   "execution_count": 23,
   "metadata": {},
   "outputs": [
    {
     "data": {
      "text/plain": [
       "Text(0, 0.5, 'SSE')"
      ]
     },
     "execution_count": 23,
     "metadata": {},
     "output_type": "execute_result"
    },
    {
     "data": {
      "image/png": "[encoded data removed]",
      "text/plain": [
       "<Figure size 640x480 with 1 Axes>"
      ]
     },
     "metadata": {},
     "output_type": "display_data"
    }
   ],
   "source": [
    "# Plotando o gráfico do método de Elbow\n",
    "plt.plot(clusters, SSE)\n",
    "plt.xlabel('Number of Clusters')\n",
    "plt.ylabel('SSE')"
   ]
  },
  {
   "cell_type": "code",
   "execution_count": 24,
   "metadata": {},
   "outputs": [],
   "source": [
    "from sklearn.metrics import silhouette_samples, silhouette_score"
   ]
  },
  {
   "cell_type": "code",
   "execution_count": 25,
   "metadata": {},
   "outputs": [
    {
     "data": {
      "text/plain": [
       "[0.39918478833505716,\n",
       " 0.38001569953135295,\n",
       " 0.3509412860953289,\n",
       " 0.21339861177218247,\n",
       " 0.23134942133687467,\n",
       " 0.21272691529215862,\n",
       " 0.21953415498184525,\n",
       " 0.14184395722778992,\n",
       " 0.1732350339957565,\n",
       " 0.17193499280061722,\n",
       " 0.1861130012023671,\n",
       " 0.1534103474685473,\n",
       " 0.14241824655357402,\n",
       " 0.15620928212203028,\n",
       " 0.15688722425026908]"
      ]
     },
     "execution_count": 25,
     "metadata": {},
     "output_type": "execute_result"
    }
   ],
   "source": [
    "# Aplicando o método de Silhouette para encontrar o número de clusters\n",
    "clusters = np.arange(2,17,1)\n",
    "SC = []\n",
    "for k in clusters:\n",
    "    k_means = cluster.KMeans(n_clusters=k, init='k-means++', n_init=25, max_iter=300, random_state=42)\n",
    "    k_means.fit(df_sample)\n",
    "    SC.append(silhouette_score(df_sample, k_means.labels_))\n",
    "SC"
   ]
  },
  {
   "cell_type": "code",
   "execution_count": 26,
   "metadata": {},
   "outputs": [
    {
     "data": {
      "text/plain": [
       "Text(0, 0.5, 'SC')"
      ]
     },
     "execution_count": 26,
     "metadata": {},
     "output_type": "execute_result"
    },
    {
     "data": {
      "image/png": "[encoded data removed]",
      "text/plain": [
       "<Figure size 640x480 with 1 Axes>"
      ]
     },
     "metadata": {},
     "output_type": "display_data"
    }
   ],
   "source": [
    "# Plotando o gráfico do método de Silhouette\n",
    "plt.plot(clusters, SC)\n",
    "plt.xlabel('Number of Clusters')\n",
    "plt.ylabel('SC')"
   ]
  },
  {
   "cell_type": "code",
   "execution_count": 27,
   "metadata": {},
   "outputs": [
    {
     "data": {
      "text/html": [
       "<style>#sk-container-id-1 {\n",
       "  /* Definition of color scheme common for light and dark mode */\n",
       "  --sklearn-color-text: black;\n",
       "  --sklearn-color-line: gray;\n",
       "  /* Definition of color scheme for unfitted estimators */\n",
       "  --sklearn-color-unfitted-level-0: #fff5e6;\n",
       "  --sklearn-color-unfitted-level-1: #f6e4d2;\n",
       "  --sklearn-color-unfitted-level-2: #ffe0b3;\n",
       "  --sklearn-color-unfitted-level-3: chocolate;\n",
       "  /* Definition of color scheme for fitted estimators */\n",
       "  --sklearn-color-fitted-level-0: #f0f8ff;\n",
       "  --sklearn-color-fitted-level-1: #d4ebff;\n",
       "  --sklearn-color-fitted-level-2: #b3dbfd;\n",
       "  --sklearn-color-fitted-level-3: cornflowerblue;\n",
       "\n",
       "  /* Specific color for light theme */\n",
       "  --sklearn-color-text-on-default-background: var(--sg-text-color, var(--theme-code-foreground, var(--jp-content-font-color1, black)));\n",
       "  --sklearn-color-background: var(--sg-background-color, var(--theme-background, var(--jp-layout-color0, white)));\n",
       "  --sklearn-color-border-box: var(--sg-text-color, var(--theme-code-foreground, var(--jp-content-font-color1, black)));\n",
       "  --sklearn-color-icon: #696969;\n",
       "\n",
       "  @media (prefers-color-scheme: dark) {\n",
       "    /* Redefinition of color scheme for dark theme */\n",
       "    --sklearn-color-text-on-default-background: var(--sg-text-color, var(--theme-code-foreground, var(--jp-content-font-color1, white)));\n",
       "    --sklearn-color-background: var(--sg-background-color, var(--theme-background, var(--jp-layout-color0, #111)));\n",
       "    --sklearn-color-border-box: var(--sg-text-color, var(--theme-code-foreground, var(--jp-content-font-color1, white)));\n",
       "    --sklearn-color-icon: #878787;\n",
       "  }\n",
       "}\n",
       "\n",
       "#sk-container-id-1 {\n",
       "  color: var(--sklearn-color-text);\n",
       "}\n",
       "\n",
       "#sk-container-id-1 pre {\n",
       "  padding: 0;\n",
       "}\n",
       "\n",
       "#sk-container-id-1 input.sk-hidden--visually {\n",
       "  border: 0;\n",
       "  clip: rect(1px 1px 1px 1px);\n",
       "  clip: rect(1px, 1px, 1px, 1px);\n",
       "  height: 1px;\n",
       "  margin: -1px;\n",
       "  overflow: hidden;\n",
       "  padding: 0;\n",
       "  position: absolute;\n",
       "  width: 1px;\n",
       "}\n",
       "\n",
       "#sk-container-id-1 div.sk-dashed-wrapped {\n",
       "  border: 1px dashed var(--sklearn-color-line);\n",
       "  margin: 0 0.4em 0.5em 0.4em;\n",
       "  box-sizing: border-box;\n",
       "  padding-bottom: 0.4em;\n",
       "  background-color: var(--sklearn-color-background);\n",
       "}\n",
       "\n",
       "#sk-container-id-1 div.sk-container {\n",
       "  /* jupyter's `normalize.less` sets `[hidden] { display: none; }`\n",
       "     but bootstrap.min.css set `[hidden] { display: none !important; }`\n",
       "     so we also need the `!important` here to be able to override the\n",
       "     default hidden behavior on the sphinx rendered scikit-learn.org.\n",
       "     See: https://github.com/scikit-learn/scikit-learn/issues/21755 */\n",
       "  display: inline-block !important;\n",
       "  position: relative;\n",
       "}\n",
       "\n",
       "#sk-container-id-1 div.sk-text-repr-fallback {\n",
       "  display: none;\n",
       "}\n",
       "\n",
       "div.sk-parallel-item,\n",
       "div.sk-serial,\n",
       "div.sk-item {\n",
       "  /* draw centered vertical line to link estimators */\n",
       "  background-image: linear-gradient(var(--sklearn-color-text-on-default-background), var(--sklearn-color-text-on-default-background));\n",
       "  background-size: 2px 100%;\n",
       "  background-repeat: no-repeat;\n",
       "  background-position: center center;\n",
       "}\n",
       "\n",
       "/* Parallel-specific style estimator block */\n",
       "\n",
       "#sk-container-id-1 div.sk-parallel-item::after {\n",
       "  content: \"\";\n",
       "  width: 100%;\n",
       "  border-bottom: 2px solid var(--sklearn-color-text-on-default-background);\n",
       "  flex-grow: 1;\n",
       "}\n",
       "\n",
       "#sk-container-id-1 div.sk-parallel {\n",
       "  display: flex;\n",
       "  align-items: stretch;\n",
       "  justify-content: center;\n",
       "  background-color: var(--sklearn-color-background);\n",
       "  position: relative;\n",
       "}\n",
       "\n",
       "#sk-container-id-1 div.sk-parallel-item {\n",
       "  display: flex;\n",
       "  flex-direction: column;\n",
       "}\n",
       "\n",
       "#sk-container-id-1 div.sk-parallel-item:first-child::after {\n",
       "  align-self: flex-end;\n",
       "  width: 50%;\n",
       "}\n",
       "\n",
       "#sk-container-id-1 div.sk-parallel-item:last-child::after {\n",
       "  align-self: flex-start;\n",
       "  width: 50%;\n",
       "}\n",
       "\n",
       "#sk-container-id-1 div.sk-parallel-item:only-child::after {\n",
       "  width: 0;\n",
       "}\n",
       "\n",
       "/* Serial-specific style estimator block */\n",
       "\n",
       "#sk-container-id-1 div.sk-serial {\n",
       "  display: flex;\n",
       "  flex-direction: column;\n",
       "  align-items: center;\n",
       "  background-color: var(--sklearn-color-background);\n",
       "  padding-right: 1em;\n",
       "  padding-left: 1em;\n",
       "}\n",
       "\n",
       "\n",
       "/* Toggleable style: style used for estimator/Pipeline/ColumnTransformer box that is\n",
       "clickable and can be expanded/collapsed.\n",
       "- Pipeline and ColumnTransformer use this feature and define the default style\n",
       "- Estimators will overwrite some part of the style using the `sk-estimator` class\n",
       "*/\n",
       "\n",
       "/* Pipeline and ColumnTransformer style (default) */\n",
       "\n",
       "#sk-container-id-1 div.sk-toggleable {\n",
       "  /* Default theme specific background. It is overwritten whether we have a\n",
       "  specific estimator or a Pipeline/ColumnTransformer */\n",
       "  background-color: var(--sklearn-color-background);\n",
       "}\n",
       "\n",
       "/* Toggleable label */\n",
       "#sk-container-id-1 label.sk-toggleable__label {\n",
       "  cursor: pointer;\n",
       "  display: block;\n",
       "  width: 100%;\n",
       "  margin-bottom: 0;\n",
       "  padding: 0.5em;\n",
       "  box-sizing: border-box;\n",
       "  text-align: center;\n",
       "}\n",
       "\n",
       "#sk-container-id-1 label.sk-toggleable__label-arrow:before {\n",
       "  /* Arrow on the left of the label */\n",
       "  content: \"▸\";\n",
       "  float: left;\n",
       "  margin-right: 0.25em;\n",
       "  color: var(--sklearn-color-icon);\n",
       "}\n",
       "\n",
       "#sk-container-id-1 label.sk-toggleable__label-arrow:hover:before {\n",
       "  color: var(--sklearn-color-text);\n",
       "}\n",
       "\n",
       "/* Toggleable content - dropdown */\n",
       "\n",
       "#sk-container-id-1 div.sk-toggleable__content {\n",
       "  max-height: 0;\n",
       "  max-width: 0;\n",
       "  overflow: hidden;\n",
       "  text-align: left;\n",
       "  /* unfitted */\n",
       "  background-color: var(--sklearn-color-unfitted-level-0);\n",
       "}\n",
       "\n",
       "#sk-container-id-1 div.sk-toggleable__content.fitted {\n",
       "  /* fitted */\n",
       "  background-color: var(--sklearn-color-fitted-level-0);\n",
       "}\n",
       "\n",
       "#sk-container-id-1 div.sk-toggleable__content pre {\n",
       "  margin: 0.2em;\n",
       "  border-radius: 0.25em;\n",
       "  color: var(--sklearn-color-text);\n",
       "  /* unfitted */\n",
       "  background-color: var(--sklearn-color-unfitted-level-0);\n",
       "}\n",
       "\n",
       "#sk-container-id-1 div.sk-toggleable__content.fitted pre {\n",
       "  /* unfitted */\n",
       "  background-color: var(--sklearn-color-fitted-level-0);\n",
       "}\n",
       "\n",
       "#sk-container-id-1 input.sk-toggleable__control:checked~div.sk-toggleable__content {\n",
       "  /* Expand drop-down */\n",
       "  max-height: 200px;\n",
       "  max-width: 100%;\n",
       "  overflow: auto;\n",
       "}\n",
       "\n",
       "#sk-container-id-1 input.sk-toggleable__control:checked~label.sk-toggleable__label-arrow:before {\n",
       "  content: \"▾\";\n",
       "}\n",
       "\n",
       "/* Pipeline/ColumnTransformer-specific style */\n",
       "\n",
       "#sk-container-id-1 div.sk-label input.sk-toggleable__control:checked~label.sk-toggleable__label {\n",
       "  color: var(--sklearn-color-text);\n",
       "  background-color: var(--sklearn-color-unfitted-level-2);\n",
       "}\n",
       "\n",
       "#sk-container-id-1 div.sk-label.fitted input.sk-toggleable__control:checked~label.sk-toggleable__label {\n",
       "  background-color: var(--sklearn-color-fitted-level-2);\n",
       "}\n",
       "\n",
       "/* Estimator-specific style */\n",
       "\n",
       "/* Colorize estimator box */\n",
       "#sk-container-id-1 div.sk-estimator input.sk-toggleable__control:checked~label.sk-toggleable__label {\n",
       "  /* unfitted */\n",
       "  background-color: var(--sklearn-color-unfitted-level-2);\n",
       "}\n",
       "\n",
       "#sk-container-id-1 div.sk-estimator.fitted input.sk-toggleable__control:checked~label.sk-toggleable__label {\n",
       "  /* fitted */\n",
       "  background-color: var(--sklearn-color-fitted-level-2);\n",
       "}\n",
       "\n",
       "#sk-container-id-1 div.sk-label label.sk-toggleable__label,\n",
       "#sk-container-id-1 div.sk-label label {\n",
       "  /* The background is the default theme color */\n",
       "  color: var(--sklearn-color-text-on-default-background);\n",
       "}\n",
       "\n",
       "/* On hover, darken the color of the background */\n",
       "#sk-container-id-1 div.sk-label:hover label.sk-toggleable__label {\n",
       "  color: var(--sklearn-color-text);\n",
       "  background-color: var(--sklearn-color-unfitted-level-2);\n",
       "}\n",
       "\n",
       "/* Label box, darken color on hover, fitted */\n",
       "#sk-container-id-1 div.sk-label.fitted:hover label.sk-toggleable__label.fitted {\n",
       "  color: var(--sklearn-color-text);\n",
       "  background-color: var(--sklearn-color-fitted-level-2);\n",
       "}\n",
       "\n",
       "/* Estimator label */\n",
       "\n",
       "#sk-container-id-1 div.sk-label label {\n",
       "  font-family: monospace;\n",
       "  font-weight: bold;\n",
       "  display: inline-block;\n",
       "  line-height: 1.2em;\n",
       "}\n",
       "\n",
       "#sk-container-id-1 div.sk-label-container {\n",
       "  text-align: center;\n",
       "}\n",
       "\n",
       "/* Estimator-specific */\n",
       "#sk-container-id-1 div.sk-estimator {\n",
       "  font-family: monospace;\n",
       "  border: 1px dotted var(--sklearn-color-border-box);\n",
       "  border-radius: 0.25em;\n",
       "  box-sizing: border-box;\n",
       "  margin-bottom: 0.5em;\n",
       "  /* unfitted */\n",
       "  background-color: var(--sklearn-color-unfitted-level-0);\n",
       "}\n",
       "\n",
       "#sk-container-id-1 div.sk-estimator.fitted {\n",
       "  /* fitted */\n",
       "  background-color: var(--sklearn-color-fitted-level-0);\n",
       "}\n",
       "\n",
       "/* on hover */\n",
       "#sk-container-id-1 div.sk-estimator:hover {\n",
       "  /* unfitted */\n",
       "  background-color: var(--sklearn-color-unfitted-level-2);\n",
       "}\n",
       "\n",
       "#sk-container-id-1 div.sk-estimator.fitted:hover {\n",
       "  /* fitted */\n",
       "  background-color: var(--sklearn-color-fitted-level-2);\n",
       "}\n",
       "\n",
       "/* Specification for estimator info (e.g. \"i\" and \"?\") */\n",
       "\n",
       "/* Common style for \"i\" and \"?\" */\n",
       "\n",
       ".sk-estimator-doc-link,\n",
       "a:link.sk-estimator-doc-link,\n",
       "a:visited.sk-estimator-doc-link {\n",
       "  float: right;\n",
       "  font-size: smaller;\n",
       "  line-height: 1em;\n",
       "  font-family: monospace;\n",
       "  background-color: var(--sklearn-color-background);\n",
       "  border-radius: 1em;\n",
       "  height: 1em;\n",
       "  width: 1em;\n",
       "  text-decoration: none !important;\n",
       "  margin-left: 1ex;\n",
       "  /* unfitted */\n",
       "  border: var(--sklearn-color-unfitted-level-1) 1pt solid;\n",
       "  color: var(--sklearn-color-unfitted-level-1);\n",
       "}\n",
       "\n",
       ".sk-estimator-doc-link.fitted,\n",
       "a:link.sk-estimator-doc-link.fitted,\n",
       "a:visited.sk-estimator-doc-link.fitted {\n",
       "  /* fitted */\n",
       "  border: var(--sklearn-color-fitted-level-1) 1pt solid;\n",
       "  color: var(--sklearn-color-fitted-level-1);\n",
       "}\n",
       "\n",
       "/* On hover */\n",
       "div.sk-estimator:hover .sk-estimator-doc-link:hover,\n",
       ".sk-estimator-doc-link:hover,\n",
       "div.sk-label-container:hover .sk-estimator-doc-link:hover,\n",
       ".sk-estimator-doc-link:hover {\n",
       "  /* unfitted */\n",
       "  background-color: var(--sklearn-color-unfitted-level-3);\n",
       "  color: var(--sklearn-color-background);\n",
       "  text-decoration: none;\n",
       "}\n",
       "\n",
       "div.sk-estimator.fitted:hover .sk-estimator-doc-link.fitted:hover,\n",
       ".sk-estimator-doc-link.fitted:hover,\n",
       "div.sk-label-container:hover .sk-estimator-doc-link.fitted:hover,\n",
       ".sk-estimator-doc-link.fitted:hover {\n",
       "  /* fitted */\n",
       "  background-color: var(--sklearn-color-fitted-level-3);\n",
       "  color: var(--sklearn-color-background);\n",
       "  text-decoration: none;\n",
       "}\n",
       "\n",
       "/* Span, style for the box shown on hovering the info icon */\n",
       ".sk-estimator-doc-link span {\n",
       "  display: none;\n",
       "  z-index: 9999;\n",
       "  position: relative;\n",
       "  font-weight: normal;\n",
       "  right: .2ex;\n",
       "  padding: .5ex;\n",
       "  margin: .5ex;\n",
       "  width: min-content;\n",
       "  min-width: 20ex;\n",
       "  max-width: 50ex;\n",
       "  color: var(--sklearn-color-text);\n",
       "  box-shadow: 2pt 2pt 4pt #999;\n",
       "  /* unfitted */\n",
       "  background: var(--sklearn-color-unfitted-level-0);\n",
       "  border: .5pt solid var(--sklearn-color-unfitted-level-3);\n",
       "}\n",
       "\n",
       ".sk-estimator-doc-link.fitted span {\n",
       "  /* fitted */\n",
       "  background: var(--sklearn-color-fitted-level-0);\n",
       "  border: var(--sklearn-color-fitted-level-3);\n",
       "}\n",
       "\n",
       ".sk-estimator-doc-link:hover span {\n",
       "  display: block;\n",
       "}\n",
       "\n",
       "/* \"?\"-specific style due to the `<a>` HTML tag */\n",
       "\n",
       "#sk-container-id-1 a.estimator_doc_link {\n",
       "  float: right;\n",
       "  font-size: 1rem;\n",
       "  line-height: 1em;\n",
       "  font-family: monospace;\n",
       "  background-color: var(--sklearn-color-background);\n",
       "  border-radius: 1rem;\n",
       "  height: 1rem;\n",
       "  width: 1rem;\n",
       "  text-decoration: none;\n",
       "  /* unfitted */\n",
       "  color: var(--sklearn-color-unfitted-level-1);\n",
       "  border: var(--sklearn-color-unfitted-level-1) 1pt solid;\n",
       "}\n",
       "\n",
       "#sk-container-id-1 a.estimator_doc_link.fitted {\n",
       "  /* fitted */\n",
       "  border: var(--sklearn-color-fitted-level-1) 1pt solid;\n",
       "  color: var(--sklearn-color-fitted-level-1);\n",
       "}\n",
       "\n",
       "/* On hover */\n",
       "#sk-container-id-1 a.estimator_doc_link:hover {\n",
       "  /* unfitted */\n",
       "  background-color: var(--sklearn-color-unfitted-level-3);\n",
       "  color: var(--sklearn-color-background);\n",
       "  text-decoration: none;\n",
       "}\n",
       "\n",
       "#sk-container-id-1 a.estimator_doc_link.fitted:hover {\n",
       "  /* fitted */\n",
       "  background-color: var(--sklearn-color-fitted-level-3);\n",
       "}\n",
       "</style><div id=\"sk-container-id-1\" class=\"sk-top-container\"><div class=\"sk-text-repr-fallback\"><pre>KMeans(n_clusters=2, n_init=25, random_state=42)</pre><b>In a Jupyter environment, please rerun this cell to show the HTML representation or trust the notebook. <br />On GitHub, the HTML representation is unable to render, please try loading this page with nbviewer.org.</b></div><div class=\"sk-container\" hidden><div class=\"sk-item\"><div class=\"sk-estimator fitted sk-toggleable\"><input class=\"sk-toggleable__control sk-hidden--visually\" id=\"sk-estimator-id-1\" type=\"checkbox\" checked><label for=\"sk-estimator-id-1\" class=\"sk-toggleable__label fitted sk-toggleable__label-arrow fitted\">&nbsp;&nbsp;KMeans<a class=\"sk-estimator-doc-link fitted\" rel=\"noreferrer\" target=\"_blank\" href=\"https://scikit-learn.org/1.4/modules/generated/sklearn.cluster.KMeans.html\">?<span>Documentation for KMeans</span></a><span class=\"sk-estimator-doc-link fitted\">i<span>Fitted</span></span></label><div class=\"sk-toggleable__content fitted\"><pre>KMeans(n_clusters=2, n_init=25, random_state=42)</pre></div> </div></div></div></div>"
      ],
      "text/plain": [
       "KMeans(n_clusters=2, n_init=25, random_state=42)"
      ]
     },
     "execution_count": 27,
     "metadata": {},
     "output_type": "execute_result"
    }
   ],
   "source": [
    "k = 2\n",
    "\n",
    "# Aplicando o KMeans com k clusters\n",
    "k_means = cluster.KMeans(n_clusters=k, init='k-means++', n_init=25, max_iter=300, random_state=42)\n",
    "k_means.fit(df_sample)"
   ]
  },
  {
   "cell_type": "code",
   "execution_count": 28,
   "metadata": {},
   "outputs": [
    {
     "data": {
      "image/png": "[encoded data removed]",
      "text/plain": [
       "<Figure size 640x480 with 1 Axes>"
      ]
     },
     "metadata": {},
     "output_type": "display_data"
    }
   ],
   "source": [
    "# Contar a ocorrência de cada cluster\n",
    "contagem = np.bincount(k_means.labels_)\n",
    "\n",
    "# Plotar o gráfico de barras\n",
    "plt.bar(range(len(contagem)), np.sort(contagem), tick_label=range(len(contagem)))\n",
    "plt.xlabel('Cluster')\n",
    "plt.ylabel('Número de Municípios')\n",
    "plt.title('Contagem de Municípios em Cada Cluster')\n",
    "plt.show()"
   ]
  },
  {
   "cell_type": "markdown",
   "metadata": {},
   "source": [
    "## K-means com PCA"
   ]
  },
  {
   "cell_type": "code",
   "execution_count": 29,
   "metadata": {},
   "outputs": [
    {
     "data": {
      "text/plain": [
       "[582.5021339841612,\n",
       " 333.7085388602998,\n",
       " 222.79993994639702,\n",
       " 176.72351785165563,\n",
       " 150.13416290882685,\n",
       " 127.03455819155009,\n",
       " 106.2412547461585,\n",
       " 92.61655383969811,\n",
       " 81.60954861353399,\n",
       " 70.31455508427152,\n",
       " 62.327585655193765,\n",
       " 54.13070463491001,\n",
       " 49.94542221648783,\n",
       " 42.673611394202275]"
      ]
     },
     "execution_count": 29,
     "metadata": {},
     "output_type": "execute_result"
    }
   ],
   "source": [
    "# Aplicando o método de Elbow para encontrar o número de clusters\n",
    "clusters = np.arange(1,15,1)\n",
    "\n",
    "SSE = []\n",
    "for k in clusters:\n",
    "    k_means = cluster.KMeans(n_clusters=k, init='k-means++', n_init=25, max_iter=300, random_state=42)\n",
    "    k_means.fit(df_pca)\n",
    "    SSE.append(k_means.inertia_)\n",
    "\n",
    "SSE"
   ]
  },
  {
   "cell_type": "code",
   "execution_count": 30,
   "metadata": {},
   "outputs": [
    {
     "data": {
      "text/plain": [
       "Text(0, 0.5, 'SSE')"
      ]
     },
     "execution_count": 30,
     "metadata": {},
     "output_type": "execute_result"
    },
    {
     "data": {
      "image/png": "[encoded data removed]",
      "text/plain": [
       "<Figure size 640x480 with 1 Axes>"
      ]
     },
     "metadata": {},
     "output_type": "display_data"
    }
   ],
   "source": [
    "# Plotando o gráfico do método de Elbow\n",
    "plt.plot(clusters, SSE)\n",
    "plt.xlabel('Number of Clusters')\n",
    "plt.ylabel('SSE')"
   ]
  },
  {
   "cell_type": "code",
   "execution_count": 31,
   "metadata": {},
   "outputs": [
    {
     "data": {
      "text/plain": [
       "[0.47744196206251,\n",
       " 0.4767801401773442,\n",
       " 0.45180399974635704,\n",
       " 0.3495958137411752,\n",
       " 0.35971612228365374,\n",
       " 0.3694917319139911,\n",
       " 0.28364876803976335,\n",
       " 0.23555793276565878,\n",
       " 0.2898805767884477,\n",
       " 0.288348220773209,\n",
       " 0.25859736866527805,\n",
       " 0.2645716249193012]"
      ]
     },
     "execution_count": 31,
     "metadata": {},
     "output_type": "execute_result"
    }
   ],
   "source": [
    "# Aplicando o método de Silhouette para encontrar o número de clusters\n",
    "clusters = np.arange(2,14,1)\n",
    "SC = []\n",
    "for k in clusters:\n",
    "    k_means = cluster.KMeans(n_clusters=k, init='k-means++', n_init=25, random_state=123)\n",
    "    k_means.fit(df_pca)\n",
    "    SC.append(silhouette_score(df_pca, k_means.labels_))\n",
    "SC"
   ]
  },
  {
   "cell_type": "code",
   "execution_count": 32,
   "metadata": {},
   "outputs": [
    {
     "data": {
      "text/plain": [
       "Text(0, 0.5, 'SC')"
      ]
     },
     "execution_count": 32,
     "metadata": {},
     "output_type": "execute_result"
    },
    {
     "data": {
      "image/png": "[encoded data removed]",
      "text/plain": [
       "<Figure size 640x480 with 1 Axes>"
      ]
     },
     "metadata": {},
     "output_type": "display_data"
    }
   ],
   "source": [
    "# Plotando o gráfico do método de Silhouette\n",
    "plt.plot(clusters, SC)\n",
    "plt.xlabel('Number of Clusters')\n",
    "plt.ylabel('SC')"
   ]
  },
  {
   "cell_type": "code",
   "execution_count": 33,
   "metadata": {},
   "outputs": [
    {
     "data": {
      "text/html": [
       "<style>#sk-container-id-2 {\n",
       "  /* Definition of color scheme common for light and dark mode */\n",
       "  --sklearn-color-text: black;\n",
       "  --sklearn-color-line: gray;\n",
       "  /* Definition of color scheme for unfitted estimators */\n",
       "  --sklearn-color-unfitted-level-0: #fff5e6;\n",
       "  --sklearn-color-unfitted-level-1: #f6e4d2;\n",
       "  --sklearn-color-unfitted-level-2: #ffe0b3;\n",
       "  --sklearn-color-unfitted-level-3: chocolate;\n",
       "  /* Definition of color scheme for fitted estimators */\n",
       "  --sklearn-color-fitted-level-0: #f0f8ff;\n",
       "  --sklearn-color-fitted-level-1: #d4ebff;\n",
       "  --sklearn-color-fitted-level-2: #b3dbfd;\n",
       "  --sklearn-color-fitted-level-3: cornflowerblue;\n",
       "\n",
       "  /* Specific color for light theme */\n",
       "  --sklearn-color-text-on-default-background: var(--sg-text-color, var(--theme-code-foreground, var(--jp-content-font-color1, black)));\n",
       "  --sklearn-color-background: var(--sg-background-color, var(--theme-background, var(--jp-layout-color0, white)));\n",
       "  --sklearn-color-border-box: var(--sg-text-color, var(--theme-code-foreground, var(--jp-content-font-color1, black)));\n",
       "  --sklearn-color-icon: #696969;\n",
       "\n",
       "  @media (prefers-color-scheme: dark) {\n",
       "    /* Redefinition of color scheme for dark theme */\n",
       "    --sklearn-color-text-on-default-background: var(--sg-text-color, var(--theme-code-foreground, var(--jp-content-font-color1, white)));\n",
       "    --sklearn-color-background: var(--sg-background-color, var(--theme-background, var(--jp-layout-color0, #111)));\n",
       "    --sklearn-color-border-box: var(--sg-text-color, var(--theme-code-foreground, var(--jp-content-font-color1, white)));\n",
       "    --sklearn-color-icon: #878787;\n",
       "  }\n",
       "}\n",
       "\n",
       "#sk-container-id-2 {\n",
       "  color: var(--sklearn-color-text);\n",
       "}\n",
       "\n",
       "#sk-container-id-2 pre {\n",
       "  padding: 0;\n",
       "}\n",
       "\n",
       "#sk-container-id-2 input.sk-hidden--visually {\n",
       "  border: 0;\n",
       "  clip: rect(1px 1px 1px 1px);\n",
       "  clip: rect(1px, 1px, 1px, 1px);\n",
       "  height: 1px;\n",
       "  margin: -1px;\n",
       "  overflow: hidden;\n",
       "  padding: 0;\n",
       "  position: absolute;\n",
       "  width: 1px;\n",
       "}\n",
       "\n",
       "#sk-container-id-2 div.sk-dashed-wrapped {\n",
       "  border: 1px dashed var(--sklearn-color-line);\n",
       "  margin: 0 0.4em 0.5em 0.4em;\n",
       "  box-sizing: border-box;\n",
       "  padding-bottom: 0.4em;\n",
       "  background-color: var(--sklearn-color-background);\n",
       "}\n",
       "\n",
       "#sk-container-id-2 div.sk-container {\n",
       "  /* jupyter's `normalize.less` sets `[hidden] { display: none; }`\n",
       "     but bootstrap.min.css set `[hidden] { display: none !important; }`\n",
       "     so we also need the `!important` here to be able to override the\n",
       "     default hidden behavior on the sphinx rendered scikit-learn.org.\n",
       "     See: https://github.com/scikit-learn/scikit-learn/issues/21755 */\n",
       "  display: inline-block !important;\n",
       "  position: relative;\n",
       "}\n",
       "\n",
       "#sk-container-id-2 div.sk-text-repr-fallback {\n",
       "  display: none;\n",
       "}\n",
       "\n",
       "div.sk-parallel-item,\n",
       "div.sk-serial,\n",
       "div.sk-item {\n",
       "  /* draw centered vertical line to link estimators */\n",
       "  background-image: linear-gradient(var(--sklearn-color-text-on-default-background), var(--sklearn-color-text-on-default-background));\n",
       "  background-size: 2px 100%;\n",
       "  background-repeat: no-repeat;\n",
       "  background-position: center center;\n",
       "}\n",
       "\n",
       "/* Parallel-specific style estimator block */\n",
       "\n",
       "#sk-container-id-2 div.sk-parallel-item::after {\n",
       "  content: \"\";\n",
       "  width: 100%;\n",
       "  border-bottom: 2px solid var(--sklearn-color-text-on-default-background);\n",
       "  flex-grow: 1;\n",
       "}\n",
       "\n",
       "#sk-container-id-2 div.sk-parallel {\n",
       "  display: flex;\n",
       "  align-items: stretch;\n",
       "  justify-content: center;\n",
       "  background-color: var(--sklearn-color-background);\n",
       "  position: relative;\n",
       "}\n",
       "\n",
       "#sk-container-id-2 div.sk-parallel-item {\n",
       "  display: flex;\n",
       "  flex-direction: column;\n",
       "}\n",
       "\n",
       "#sk-container-id-2 div.sk-parallel-item:first-child::after {\n",
       "  align-self: flex-end;\n",
       "  width: 50%;\n",
       "}\n",
       "\n",
       "#sk-container-id-2 div.sk-parallel-item:last-child::after {\n",
       "  align-self: flex-start;\n",
       "  width: 50%;\n",
       "}\n",
       "\n",
       "#sk-container-id-2 div.sk-parallel-item:only-child::after {\n",
       "  width: 0;\n",
       "}\n",
       "\n",
       "/* Serial-specific style estimator block */\n",
       "\n",
       "#sk-container-id-2 div.sk-serial {\n",
       "  display: flex;\n",
       "  flex-direction: column;\n",
       "  align-items: center;\n",
       "  background-color: var(--sklearn-color-background);\n",
       "  padding-right: 1em;\n",
       "  padding-left: 1em;\n",
       "}\n",
       "\n",
       "\n",
       "/* Toggleable style: style used for estimator/Pipeline/ColumnTransformer box that is\n",
       "clickable and can be expanded/collapsed.\n",
       "- Pipeline and ColumnTransformer use this feature and define the default style\n",
       "- Estimators will overwrite some part of the style using the `sk-estimator` class\n",
       "*/\n",
       "\n",
       "/* Pipeline and ColumnTransformer style (default) */\n",
       "\n",
       "#sk-container-id-2 div.sk-toggleable {\n",
       "  /* Default theme specific background. It is overwritten whether we have a\n",
       "  specific estimator or a Pipeline/ColumnTransformer */\n",
       "  background-color: var(--sklearn-color-background);\n",
       "}\n",
       "\n",
       "/* Toggleable label */\n",
       "#sk-container-id-2 label.sk-toggleable__label {\n",
       "  cursor: pointer;\n",
       "  display: block;\n",
       "  width: 100%;\n",
       "  margin-bottom: 0;\n",
       "  padding: 0.5em;\n",
       "  box-sizing: border-box;\n",
       "  text-align: center;\n",
       "}\n",
       "\n",
       "#sk-container-id-2 label.sk-toggleable__label-arrow:before {\n",
       "  /* Arrow on the left of the label */\n",
       "  content: \"▸\";\n",
       "  float: left;\n",
       "  margin-right: 0.25em;\n",
       "  color: var(--sklearn-color-icon);\n",
       "}\n",
       "\n",
       "#sk-container-id-2 label.sk-toggleable__label-arrow:hover:before {\n",
       "  color: var(--sklearn-color-text);\n",
       "}\n",
       "\n",
       "/* Toggleable content - dropdown */\n",
       "\n",
       "#sk-container-id-2 div.sk-toggleable__content {\n",
       "  max-height: 0;\n",
       "  max-width: 0;\n",
       "  overflow: hidden;\n",
       "  text-align: left;\n",
       "  /* unfitted */\n",
       "  background-color: var(--sklearn-color-unfitted-level-0);\n",
       "}\n",
       "\n",
       "#sk-container-id-2 div.sk-toggleable__content.fitted {\n",
       "  /* fitted */\n",
       "  background-color: var(--sklearn-color-fitted-level-0);\n",
       "}\n",
       "\n",
       "#sk-container-id-2 div.sk-toggleable__content pre {\n",
       "  margin: 0.2em;\n",
       "  border-radius: 0.25em;\n",
       "  color: var(--sklearn-color-text);\n",
       "  /* unfitted */\n",
       "  background-color: var(--sklearn-color-unfitted-level-0);\n",
       "}\n",
       "\n",
       "#sk-container-id-2 div.sk-toggleable__content.fitted pre {\n",
       "  /* unfitted */\n",
       "  background-color: var(--sklearn-color-fitted-level-0);\n",
       "}\n",
       "\n",
       "#sk-container-id-2 input.sk-toggleable__control:checked~div.sk-toggleable__content {\n",
       "  /* Expand drop-down */\n",
       "  max-height: 200px;\n",
       "  max-width: 100%;\n",
       "  overflow: auto;\n",
       "}\n",
       "\n",
       "#sk-container-id-2 input.sk-toggleable__control:checked~label.sk-toggleable__label-arrow:before {\n",
       "  content: \"▾\";\n",
       "}\n",
       "\n",
       "/* Pipeline/ColumnTransformer-specific style */\n",
       "\n",
       "#sk-container-id-2 div.sk-label input.sk-toggleable__control:checked~label.sk-toggleable__label {\n",
       "  color: var(--sklearn-color-text);\n",
       "  background-color: var(--sklearn-color-unfitted-level-2);\n",
       "}\n",
       "\n",
       "#sk-container-id-2 div.sk-label.fitted input.sk-toggleable__control:checked~label.sk-toggleable__label {\n",
       "  background-color: var(--sklearn-color-fitted-level-2);\n",
       "}\n",
       "\n",
       "/* Estimator-specific style */\n",
       "\n",
       "/* Colorize estimator box */\n",
       "#sk-container-id-2 div.sk-estimator input.sk-toggleable__control:checked~label.sk-toggleable__label {\n",
       "  /* unfitted */\n",
       "  background-color: var(--sklearn-color-unfitted-level-2);\n",
       "}\n",
       "\n",
       "#sk-container-id-2 div.sk-estimator.fitted input.sk-toggleable__control:checked~label.sk-toggleable__label {\n",
       "  /* fitted */\n",
       "  background-color: var(--sklearn-color-fitted-level-2);\n",
       "}\n",
       "\n",
       "#sk-container-id-2 div.sk-label label.sk-toggleable__label,\n",
       "#sk-container-id-2 div.sk-label label {\n",
       "  /* The background is the default theme color */\n",
       "  color: var(--sklearn-color-text-on-default-background);\n",
       "}\n",
       "\n",
       "/* On hover, darken the color of the background */\n",
       "#sk-container-id-2 div.sk-label:hover label.sk-toggleable__label {\n",
       "  color: var(--sklearn-color-text);\n",
       "  background-color: var(--sklearn-color-unfitted-level-2);\n",
       "}\n",
       "\n",
       "/* Label box, darken color on hover, fitted */\n",
       "#sk-container-id-2 div.sk-label.fitted:hover label.sk-toggleable__label.fitted {\n",
       "  color: var(--sklearn-color-text);\n",
       "  background-color: var(--sklearn-color-fitted-level-2);\n",
       "}\n",
       "\n",
       "/* Estimator label */\n",
       "\n",
       "#sk-container-id-2 div.sk-label label {\n",
       "  font-family: monospace;\n",
       "  font-weight: bold;\n",
       "  display: inline-block;\n",
       "  line-height: 1.2em;\n",
       "}\n",
       "\n",
       "#sk-container-id-2 div.sk-label-container {\n",
       "  text-align: center;\n",
       "}\n",
       "\n",
       "/* Estimator-specific */\n",
       "#sk-container-id-2 div.sk-estimator {\n",
       "  font-family: monospace;\n",
       "  border: 1px dotted var(--sklearn-color-border-box);\n",
       "  border-radius: 0.25em;\n",
       "  box-sizing: border-box;\n",
       "  margin-bottom: 0.5em;\n",
       "  /* unfitted */\n",
       "  background-color: var(--sklearn-color-unfitted-level-0);\n",
       "}\n",
       "\n",
       "#sk-container-id-2 div.sk-estimator.fitted {\n",
       "  /* fitted */\n",
       "  background-color: var(--sklearn-color-fitted-level-0);\n",
       "}\n",
       "\n",
       "/* on hover */\n",
       "#sk-container-id-2 div.sk-estimator:hover {\n",
       "  /* unfitted */\n",
       "  background-color: var(--sklearn-color-unfitted-level-2);\n",
       "}\n",
       "\n",
       "#sk-container-id-2 div.sk-estimator.fitted:hover {\n",
       "  /* fitted */\n",
       "  background-color: var(--sklearn-color-fitted-level-2);\n",
       "}\n",
       "\n",
       "/* Specification for estimator info (e.g. \"i\" and \"?\") */\n",
       "\n",
       "/* Common style for \"i\" and \"?\" */\n",
       "\n",
       ".sk-estimator-doc-link,\n",
       "a:link.sk-estimator-doc-link,\n",
       "a:visited.sk-estimator-doc-link {\n",
       "  float: right;\n",
       "  font-size: smaller;\n",
       "  line-height: 1em;\n",
       "  font-family: monospace;\n",
       "  background-color: var(--sklearn-color-background);\n",
       "  border-radius: 1em;\n",
       "  height: 1em;\n",
       "  width: 1em;\n",
       "  text-decoration: none !important;\n",
       "  margin-left: 1ex;\n",
       "  /* unfitted */\n",
       "  border: var(--sklearn-color-unfitted-level-1) 1pt solid;\n",
       "  color: var(--sklearn-color-unfitted-level-1);\n",
       "}\n",
       "\n",
       ".sk-estimator-doc-link.fitted,\n",
       "a:link.sk-estimator-doc-link.fitted,\n",
       "a:visited.sk-estimator-doc-link.fitted {\n",
       "  /* fitted */\n",
       "  border: var(--sklearn-color-fitted-level-1) 1pt solid;\n",
       "  color: var(--sklearn-color-fitted-level-1);\n",
       "}\n",
       "\n",
       "/* On hover */\n",
       "div.sk-estimator:hover .sk-estimator-doc-link:hover,\n",
       ".sk-estimator-doc-link:hover,\n",
       "div.sk-label-container:hover .sk-estimator-doc-link:hover,\n",
       ".sk-estimator-doc-link:hover {\n",
       "  /* unfitted */\n",
       "  background-color: var(--sklearn-color-unfitted-level-3);\n",
       "  color: var(--sklearn-color-background);\n",
       "  text-decoration: none;\n",
       "}\n",
       "\n",
       "div.sk-estimator.fitted:hover .sk-estimator-doc-link.fitted:hover,\n",
       ".sk-estimator-doc-link.fitted:hover,\n",
       "div.sk-label-container:hover .sk-estimator-doc-link.fitted:hover,\n",
       ".sk-estimator-doc-link.fitted:hover {\n",
       "  /* fitted */\n",
       "  background-color: var(--sklearn-color-fitted-level-3);\n",
       "  color: var(--sklearn-color-background);\n",
       "  text-decoration: none;\n",
       "}\n",
       "\n",
       "/* Span, style for the box shown on hovering the info icon */\n",
       ".sk-estimator-doc-link span {\n",
       "  display: none;\n",
       "  z-index: 9999;\n",
       "  position: relative;\n",
       "  font-weight: normal;\n",
       "  right: .2ex;\n",
       "  padding: .5ex;\n",
       "  margin: .5ex;\n",
       "  width: min-content;\n",
       "  min-width: 20ex;\n",
       "  max-width: 50ex;\n",
       "  color: var(--sklearn-color-text);\n",
       "  box-shadow: 2pt 2pt 4pt #999;\n",
       "  /* unfitted */\n",
       "  background: var(--sklearn-color-unfitted-level-0);\n",
       "  border: .5pt solid var(--sklearn-color-unfitted-level-3);\n",
       "}\n",
       "\n",
       ".sk-estimator-doc-link.fitted span {\n",
       "  /* fitted */\n",
       "  background: var(--sklearn-color-fitted-level-0);\n",
       "  border: var(--sklearn-color-fitted-level-3);\n",
       "}\n",
       "\n",
       ".sk-estimator-doc-link:hover span {\n",
       "  display: block;\n",
       "}\n",
       "\n",
       "/* \"?\"-specific style due to the `<a>` HTML tag */\n",
       "\n",
       "#sk-container-id-2 a.estimator_doc_link {\n",
       "  float: right;\n",
       "  font-size: 1rem;\n",
       "  line-height: 1em;\n",
       "  font-family: monospace;\n",
       "  background-color: var(--sklearn-color-background);\n",
       "  border-radius: 1rem;\n",
       "  height: 1rem;\n",
       "  width: 1rem;\n",
       "  text-decoration: none;\n",
       "  /* unfitted */\n",
       "  color: var(--sklearn-color-unfitted-level-1);\n",
       "  border: var(--sklearn-color-unfitted-level-1) 1pt solid;\n",
       "}\n",
       "\n",
       "#sk-container-id-2 a.estimator_doc_link.fitted {\n",
       "  /* fitted */\n",
       "  border: var(--sklearn-color-fitted-level-1) 1pt solid;\n",
       "  color: var(--sklearn-color-fitted-level-1);\n",
       "}\n",
       "\n",
       "/* On hover */\n",
       "#sk-container-id-2 a.estimator_doc_link:hover {\n",
       "  /* unfitted */\n",
       "  background-color: var(--sklearn-color-unfitted-level-3);\n",
       "  color: var(--sklearn-color-background);\n",
       "  text-decoration: none;\n",
       "}\n",
       "\n",
       "#sk-container-id-2 a.estimator_doc_link.fitted:hover {\n",
       "  /* fitted */\n",
       "  background-color: var(--sklearn-color-fitted-level-3);\n",
       "}\n",
       "</style><div id=\"sk-container-id-2\" class=\"sk-top-container\"><div class=\"sk-text-repr-fallback\"><pre>KMeans(n_clusters=3, n_init=25, random_state=123)</pre><b>In a Jupyter environment, please rerun this cell to show the HTML representation or trust the notebook. <br />On GitHub, the HTML representation is unable to render, please try loading this page with nbviewer.org.</b></div><div class=\"sk-container\" hidden><div class=\"sk-item\"><div class=\"sk-estimator fitted sk-toggleable\"><input class=\"sk-toggleable__control sk-hidden--visually\" id=\"sk-estimator-id-2\" type=\"checkbox\" checked><label for=\"sk-estimator-id-2\" class=\"sk-toggleable__label fitted sk-toggleable__label-arrow fitted\">&nbsp;&nbsp;KMeans<a class=\"sk-estimator-doc-link fitted\" rel=\"noreferrer\" target=\"_blank\" href=\"https://scikit-learn.org/1.4/modules/generated/sklearn.cluster.KMeans.html\">?<span>Documentation for KMeans</span></a><span class=\"sk-estimator-doc-link fitted\">i<span>Fitted</span></span></label><div class=\"sk-toggleable__content fitted\"><pre>KMeans(n_clusters=3, n_init=25, random_state=123)</pre></div> </div></div></div></div>"
      ],
      "text/plain": [
       "KMeans(n_clusters=3, n_init=25, random_state=123)"
      ]
     },
     "execution_count": 33,
     "metadata": {},
     "output_type": "execute_result"
    }
   ],
   "source": [
    "k = 3\n",
    "\n",
    "# Aplicando o KMeans com n clusters\n",
    "k_means = cluster.KMeans(n_clusters=k, init='k-means++', n_init=25, random_state=123)\n",
    "k_means.fit(df_pca)"
   ]
  },
  {
   "cell_type": "code",
   "execution_count": 34,
   "metadata": {},
   "outputs": [
    {
     "data": {
      "image/png": "[encoded data removed]",
      "text/plain": [
       "<Figure size 640x480 with 1 Axes>"
      ]
     },
     "metadata": {},
     "output_type": "display_data"
    }
   ],
   "source": [
    "# Plotar o gráfico de barras para contagem de municípios em cada cluster\n",
    "\n",
    "# Contar a ocorrência de cada cluster\n",
    "contagem = np.bincount(k_means.labels_)\n",
    "\n",
    "plt.bar(range(len(contagem)), np.sort(contagem), tick_label=range(len(contagem)))\n",
    "plt.xlabel('Cluster')\n",
    "plt.ylabel('Número de Municípios')\n",
    "plt.title('Contagem de Municípios em Cada Cluster')\n",
    "plt.show()"
   ]
  },
  {
   "cell_type": "code",
   "execution_count": 35,
   "metadata": {},
   "outputs": [
    {
     "data": {
      "text/html": [
       "<div>\n",
       "<style scoped>\n",
       "    .dataframe tbody tr th:only-of-type {\n",
       "        vertical-align: middle;\n",
       "    }\n",
       "\n",
       "    .dataframe tbody tr th {\n",
       "        vertical-align: top;\n",
       "    }\n",
       "\n",
       "    .dataframe thead th {\n",
       "        text-align: right;\n",
       "    }\n",
       "</style>\n",
       "<table border=\"1\" class=\"dataframe\">\n",
       "  <thead>\n",
       "    <tr style=\"text-align: right;\">\n",
       "      <th></th>\n",
       "      <th>PC1</th>\n",
       "      <th>PC2</th>\n",
       "      <th>PC3</th>\n",
       "      <th>PC4</th>\n",
       "      <th>cluster</th>\n",
       "    </tr>\n",
       "    <tr>\n",
       "      <th>municipios</th>\n",
       "      <th></th>\n",
       "      <th></th>\n",
       "      <th></th>\n",
       "      <th></th>\n",
       "      <th></th>\n",
       "    </tr>\n",
       "  </thead>\n",
       "  <tbody>\n",
       "    <tr>\n",
       "      <th>viadutos</th>\n",
       "      <td>-0.403146</td>\n",
       "      <td>-1.293090</td>\n",
       "      <td>-0.369115</td>\n",
       "      <td>-0.129705</td>\n",
       "      <td>0</td>\n",
       "    </tr>\n",
       "    <tr>\n",
       "      <th>campos borges</th>\n",
       "      <td>-1.880347</td>\n",
       "      <td>0.920654</td>\n",
       "      <td>-0.470550</td>\n",
       "      <td>0.089534</td>\n",
       "      <td>0</td>\n",
       "    </tr>\n",
       "    <tr>\n",
       "      <th>lajeado</th>\n",
       "      <td>1.997878</td>\n",
       "      <td>-0.197637</td>\n",
       "      <td>1.876114</td>\n",
       "      <td>-0.041748</td>\n",
       "      <td>1</td>\n",
       "    </tr>\n",
       "    <tr>\n",
       "      <th>gaurama</th>\n",
       "      <td>-0.938699</td>\n",
       "      <td>-1.055184</td>\n",
       "      <td>-0.201905</td>\n",
       "      <td>0.941618</td>\n",
       "      <td>0</td>\n",
       "    </tr>\n",
       "    <tr>\n",
       "      <th>macambara</th>\n",
       "      <td>-2.294945</td>\n",
       "      <td>-0.375069</td>\n",
       "      <td>0.391376</td>\n",
       "      <td>0.873373</td>\n",
       "      <td>0</td>\n",
       "    </tr>\n",
       "  </tbody>\n",
       "</table>\n",
       "</div>"
      ],
      "text/plain": [
       "                    PC1       PC2       PC3       PC4  cluster\n",
       "municipios                                                    \n",
       "viadutos      -0.403146 -1.293090 -0.369115 -0.129705        0\n",
       "campos borges -1.880347  0.920654 -0.470550  0.089534        0\n",
       "lajeado        1.997878 -0.197637  1.876114 -0.041748        1\n",
       "gaurama       -0.938699 -1.055184 -0.201905  0.941618        0\n",
       "macambara     -2.294945 -0.375069  0.391376  0.873373        0"
      ]
     },
     "execution_count": 35,
     "metadata": {},
     "output_type": "execute_result"
    }
   ],
   "source": [
    "# Salvando os clusters no dataframe\n",
    "labels = k_means.labels_\n",
    "df_pca['cluster'] = labels\n",
    "\n",
    "# Salvando o dataframe em um arquivo csv\n",
    "df_pca.to_csv('data\\\\tocsv\\\\clusterizado.csv', sep=',', index=False)\n",
    "\n",
    "df_pca.head()"
   ]
  },
  {
   "cell_type": "code",
   "execution_count": 36,
   "metadata": {},
   "outputs": [
    {
     "data": {
      "application/vnd.plotly.v1+json": {
       "config": {
        "plotlyServerURL": "https://plot.ly"
       },
       "data": [
        {
         "marker": {
          "color": [
           0,
           0,
           1,
           0,
           0,
           0,
           0,
           0,
           0,
           0,
           0,
           0,
           1,
           0,
           1,
           0,
           1,
           1,
           0,
           0,
           0,
           0,
           0,
           1,
           0,
           1,
           1,
           0,
           1,
           1,
           1,
           1,
           1,
           0,
           0,
           2,
           1,
           0,
           1,
           2,
           0,
           2,
           0,
           0,
           0,
           2,
           0,
           0,
           0,
           0
          ],
          "colorscale": [
           [
            0,
            "rgb(243, 203, 211)"
           ],
           [
            0.16666666666666666,
            "rgb(234, 169, 189)"
           ],
           [
            0.3333333333333333,
            "rgb(221, 136, 172)"
           ],
           [
            0.5,
            "rgb(202, 105, 157)"
           ],
           [
            0.6666666666666666,
            "rgb(177, 77, 142)"
           ],
           [
            0.8333333333333334,
            "rgb(145, 53, 125)"
           ],
           [
            1,
            "rgb(108, 33, 103)"
           ]
          ],
          "opacity": 0.8,
          "size": 5
         },
         "mode": "markers",
         "text": [
          "acegua",
          "agua santa",
          "agudo",
          "ajuricaba",
          "alecrim",
          "alegrete",
          "alegria",
          "almirante tamandare do sul",
          "alpestre",
          "alto alegre",
          "alto feliz",
          "alvorada",
          "amaral ferrador",
          "ametista do sul",
          "andre da rocha",
          "anta gorda",
          "antonio prado",
          "arambare",
          "ararica",
          "aratiba",
          "arroio do meio",
          "arroio do padre",
          "arroio do sal",
          "arroio do tigre",
          "arroio dos ratos",
          "arroio grande",
          "arvorezinha",
          "augusto pestana",
          "aurea",
          "bage",
          "balneario pinhal",
          "barao",
          "barao de cotegipe",
          "barao do triunfo",
          "barra do guarita",
          "barra do quarai",
          "barra do ribeiro",
          "barra do rio azul",
          "barra funda",
          "barracao",
          "barros cassal",
          "benjamin constant do sul",
          "bento goncalves",
          "boa vista das missoes",
          "boa vista do burica",
          "boa vista do cadeado",
          "boa vista do incra",
          "boa vista do sul",
          "bom jesus",
          "bom principio",
          "bom progresso",
          "bom retiro do sul",
          "boqueirao do leao",
          "bossoroca",
          "bozano",
          "braga",
          "brochier",
          "butia",
          "cacapava do sul",
          "cacequi",
          "cachoeira do sul",
          "cachoeirinha",
          "cacique doble",
          "caibate",
          "caicara",
          "camaqua",
          "camargo",
          "cambara do sul",
          "campestre da serra",
          "campina das missoes",
          "campinas do sul",
          "campo bom",
          "campo novo",
          "campos borges",
          "candelaria",
          "candido godoi",
          "candiota",
          "canela",
          "cangucu",
          "canoas",
          "canudos do vale",
          "capao bonito do sul",
          "capao da canoa",
          "capao do cipo",
          "capao do leao",
          "capela de santana",
          "capitao",
          "capivari do sul",
          "caraa",
          "carazinho",
          "carlos barbosa",
          "carlos gomes",
          "casca",
          "caseiros",
          "catuipe",
          "caxias do sul",
          "centenario",
          "cerrito",
          "cerro branco",
          "cerro grande",
          "cerro grande do sul",
          "cerro largo",
          "chapada",
          "charqueadas",
          "charrua",
          "chiapetta",
          "chui",
          "chuvisca",
          "cidreira",
          "ciriaco",
          "colinas",
          "colorado",
          "condor",
          "constantina",
          "coqueiro baixo",
          "coqueiros do sul",
          "coronel barros",
          "coronel bicaco",
          "coronel pilar",
          "cotipora",
          "coxilha",
          "crissiumal",
          "cristal",
          "cristal do sul",
          "cruz alta",
          "cruzaltense",
          "cruzeiro do sul",
          "david canabarro",
          "derrubadas",
          "dezesseis de novembro",
          "dilermando de aguiar",
          "dois irmaos",
          "dois irmaos das missoes",
          "dois lajeados",
          "dom feliciano",
          "dom pedrito",
          "dom pedro de alcantara",
          "dona francisca",
          "doutor ricardo",
          "dr mauricio cardoso",
          "eldorado do sul",
          "encantado",
          "encruzilhada do sul",
          "engenho velho",
          "entre ijuis",
          "entre rios do sul",
          "erebango",
          "erechim",
          "ernestina",
          "erval grande",
          "erval seco",
          "esmeralda",
          "esperanca do sul",
          "espumoso",
          "estacao",
          "estancia velha",
          "esteio",
          "estrela",
          "estrela velha",
          "eugenio de castro",
          "fagundes varela",
          "farroupilha",
          "faxinal do soturno",
          "faxinalzinho",
          "fazenda vila nova",
          "feliz",
          "flores da cunha",
          "floriano peixoto",
          "fontoura xavier",
          "formigueiro",
          "forquetinha",
          "fortaleza dos valos",
          "frederico westphalen",
          "garibaldi",
          "garruchos",
          "gaurama",
          "general camara",
          "gentil",
          "getulio vargas",
          "girua",
          "glorinha",
          "gramado",
          "gramado dos loureiros",
          "gramado xavier",
          "gravatai",
          "guabiju",
          "guaiba",
          "guapore",
          "guarani das missoes",
          "harmonia",
          "herval",
          "herveiras",
          "horizontina",
          "hulha negra",
          "humaita",
          "ibarama",
          "ibiaca",
          "ibiraiaras",
          "ibirapuita",
          "ibiruba",
          "igrejinha",
          "ijui",
          "ilopolis",
          "imbe",
          "imigrante",
          "independencia",
          "inhacora",
          "ipe",
          "ipiranga do sul",
          "irai",
          "itaara",
          "itacurubi",
          "itapuca",
          "itaqui",
          "itati",
          "itatiba do sul",
          "ivora",
          "ivoti",
          "jaboticaba",
          "jacuizinho",
          "jacutinga",
          "jaguarao",
          "jaguari",
          "jaquirana",
          "jari",
          "joia",
          "julio de castilhos",
          "lagoa bonita do sul",
          "lagoa dos tres cantos",
          "lagoa vermelha",
          "lagoao",
          "lajeado",
          "lajeado do bugre",
          "lavras do sul",
          "liberato salzano",
          "lindolfo collor",
          "linha nova",
          "macambara",
          "machadinho",
          "mampituba",
          "manoel viana",
          "maquine",
          "marata",
          "marau",
          "marcelino ramos",
          "mariana pimentel",
          "mariano moro",
          "marques de souza",
          "mata",
          "mato castelhano",
          "mato leitao",
          "mato queimado",
          "maximiliano de almeida",
          "minas do leao",
          "miraguai",
          "montauri",
          "monte alegre dos campos",
          "monte belo do sul",
          "montenegro",
          "mormaco",
          "morrinhos do sul",
          "morro redondo",
          "morro reuter",
          "mostardas",
          "mucum",
          "muitos capoes",
          "muliterno",
          "nao-me-toque",
          "nicolau vergueiro",
          "nonoai",
          "nova alvorada",
          "nova araca",
          "nova bassano",
          "nova boa vista",
          "nova brescia",
          "nova candelaria",
          "nova esperanca do sul",
          "nova hartz",
          "nova padua",
          "nova palma",
          "nova petropolis",
          "nova prata",
          "nova ramada",
          "nova roma do sul",
          "nova santa rita",
          "novo barreiro",
          "novo cabrais",
          "novo hamburgo",
          "novo machado",
          "novo tiradentes",
          "novo xingu",
          "osorio",
          "paim filho",
          "palmares do sul",
          "palmeira das missoes",
          "palmitinho",
          "panambi",
          "pantano grande",
          "parai",
          "paraiso do sul",
          "pareci novo",
          "parobe",
          "passa sete",
          "passo do sobrado",
          "passo fundo",
          "paulo bento",
          "paverama",
          "pedras altas",
          "pedro osorio",
          "pejucara",
          "pelotas",
          "picada cafe",
          "pinhal",
          "pinhal da serra",
          "pinhal grande",
          "pinheirinho do vale",
          "pinheiro machado",
          "pinto bandeira",
          "pirapo",
          "piratini",
          "planalto",
          "poco das antas",
          "pontao",
          "ponte preta",
          "portao",
          "porto alegre",
          "porto lucena",
          "porto maua",
          "porto vera cruz",
          "porto xavier",
          "pouso novo",
          "presidente lucena",
          "progresso",
          "protasio alves",
          "putinga",
          "quarai",
          "quatro irmaos",
          "quevedos",
          "quinze de novembro",
          "redentora",
          "relvado",
          "restinga seca",
          "rio dos indios",
          "rio grande",
          "rio pardo",
          "riozinho",
          "roca sales",
          "rodeio bonito",
          "rolador",
          "rolante",
          "ronda alta",
          "rondinha",
          "roque gonzales",
          "rosario do sul",
          "sagrada familia",
          "saldanha marinho",
          "salto do jacui",
          "salvador das missoes",
          "salvador do sul",
          "sananduva",
          "santa barbara do sul",
          "santa cecilia do sul",
          "santa clara do sul",
          "santa cruz do sul",
          "santa margarida do sul",
          "santa maria",
          "santa maria do herval",
          "santa rosa",
          "santa tereza",
          "santa vitoria do palmar",
          "santana da boa vista",
          "santana do livramento",
          "santiago",
          "santo angelo",
          "santo antonio da patrulha",
          "santo antonio das missoes",
          "santo antonio do palma",
          "santo antonio do planalto",
          "santo augusto",
          "santo cristo",
          "santo expedito do sul",
          "sao borja",
          "sao domingos do sul",
          "sao francisco de assis",
          "sao francisco de paula",
          "sao gabriel",
          "sao jeronimo",
          "sao joao da urtiga",
          "sao joao do polesine",
          "sao jorge",
          "sao jose das missoes",
          "sao jose do herval",
          "sao jose do hortencio",
          "sao jose do inhacora",
          "sao jose do norte",
          "sao jose do ouro",
          "sao jose do sul",
          "sao jose dos ausentes",
          "sao leopoldo",
          "sao lourenco do sul",
          "sao luiz gonzaga",
          "sao marcos",
          "sao martinho",
          "sao martinho da serra",
          "sao miguel das missoes",
          "sao nicolau",
          "sao paulo das missoes",
          "sao pedro da serra",
          "sao pedro das missoes",
          "sao pedro do butia",
          "sao pedro do sul",
          "sao sebastiao do cai",
          "sao sepe",
          "sao valentim",
          "sao valentim do sul",
          "sao valerio do sul",
          "sao vendelino",
          "sao vicente do sul",
          "sapiranga",
          "sapucaia do sul",
          "sarandi",
          "seberi",
          "sede nova",
          "segredo",
          "selbach",
          "senador salgado filho",
          "sentinela do sul",
          "serafina correa",
          "serio",
          "sertao",
          "sertao santana",
          "sete de setembro",
          "severiano de almeida",
          "silveira martins",
          "sinimbu",
          "sobradinho",
          "soledade",
          "tabai",
          "tapejara",
          "tapera",
          "tapes",
          "taquara",
          "taquari",
          "taquarucu do sul",
          "tavares",
          "tenente portela",
          "terra de areia",
          "teutonia",
          "tio hugo",
          "tiradentes do sul",
          "toropi",
          "torres",
          "tramandai",
          "travesseiro",
          "tres arroios",
          "tres cachoeiras",
          "tres coroas",
          "tres de maio",
          "tres forquilhas",
          "tres palmeiras",
          "tres passos",
          "trindade do sul",
          "triunfo",
          "tucunduva",
          "tunas",
          "tupanci do sul",
          "tupancireta",
          "tupandi",
          "tuparendi",
          "turucu",
          "ubiretama",
          "uniao da serra",
          "unistalda",
          "uruguaiana",
          "vacaria",
          "vale do sol",
          "vale real",
          "vale verde",
          "vanini",
          "venancio aires",
          "vera cruz",
          "veranopolis",
          "vespasiano correa",
          "viadutos",
          "viamao",
          "vicente dutra",
          "victor graeff",
          "vila flores",
          "vila langaro",
          "vila maria",
          "vila nova do sul",
          "vista alegre",
          "vista alegre do prata",
          "vista gaucha",
          "vitoria das missoes",
          "westfalia",
          "xangri-la",
          "acegua",
          "agua santa",
          "agudo",
          "ajuricaba",
          "alecrim",
          "alegrete",
          "alegria",
          "almirante tamandare do sul",
          "alpestre",
          "alto alegre",
          "alto feliz",
          "alvorada",
          "amaral ferrador",
          "ametista do sul",
          "andre da rocha",
          "anta gorda",
          "antonio prado",
          "arambare",
          "ararica",
          "aratiba",
          "arroio do meio",
          "arroio do padre",
          "arroio do sal",
          "arroio do tigre",
          "arroio dos ratos",
          "arroio grande",
          "arvorezinha",
          "augusto pestana",
          "aurea",
          "bage",
          "balneario pinhal",
          "barao",
          "barao de cotegipe",
          "barao do triunfo",
          "barra do guarita",
          "barra do quarai",
          "barra do ribeiro",
          "barra do rio azul",
          "barra funda",
          "barracao",
          "barros cassal",
          "benjamin constant do sul",
          "bento goncalves",
          "boa vista das missoes",
          "boa vista do burica",
          "boa vista do cadeado",
          "boa vista do incra",
          "boa vista do sul",
          "bom jesus",
          "bom principio",
          "bom progresso",
          "bom retiro do sul",
          "boqueirao do leao",
          "bossoroca",
          "bozano",
          "braga",
          "brochier",
          "butia",
          "cacapava do sul",
          "cacequi",
          "cachoeira do sul",
          "cachoeirinha",
          "cacique doble",
          "caibate",
          "caicara",
          "camaqua",
          "camargo",
          "cambara do sul",
          "campestre da serra",
          "campina das missoes",
          "campinas do sul",
          "campo bom",
          "campo novo",
          "campos borges",
          "candelaria",
          "candido godoi",
          "candiota",
          "canela",
          "cangucu",
          "canoas",
          "canudos do vale",
          "capao bonito do sul",
          "capao da canoa",
          "capao do cipo",
          "capao do leao",
          "capela de santana",
          "capitao",
          "capivari do sul",
          "caraa",
          "carazinho",
          "carlos barbosa",
          "carlos gomes",
          "casca",
          "caseiros",
          "catuipe",
          "caxias do sul",
          "centenario",
          "cerrito",
          "cerro branco",
          "cerro grande",
          "cerro grande do sul",
          "cerro largo",
          "chapada",
          "charqueadas",
          "charrua",
          "chiapetta",
          "chui",
          "chuvisca",
          "cidreira",
          "ciriaco",
          "colinas",
          "colorado",
          "condor",
          "constantina",
          "coqueiro baixo",
          "coqueiros do sul",
          "coronel barros",
          "coronel bicaco",
          "coronel pilar",
          "cotipora",
          "coxilha",
          "crissiumal",
          "cristal",
          "cristal do sul",
          "cruz alta",
          "cruzaltense",
          "cruzeiro do sul",
          "david canabarro",
          "derrubadas",
          "dezesseis de novembro",
          "dilermando de aguiar",
          "dois irmaos",
          "dois irmaos das missoes",
          "dois lajeados",
          "dom feliciano",
          "dom pedrito",
          "dom pedro de alcantara",
          "dona francisca",
          "doutor ricardo",
          "dr mauricio cardoso",
          "eldorado do sul",
          "encantado",
          "encruzilhada do sul",
          "engenho velho",
          "entre ijuis",
          "entre rios do sul",
          "erebango",
          "erechim",
          "ernestina",
          "erval grande",
          "erval seco",
          "esmeralda",
          "esperanca do sul",
          "espumoso",
          "estacao",
          "estancia velha",
          "esteio",
          "estrela",
          "estrela velha",
          "eugenio de castro",
          "fagundes varela",
          "farroupilha",
          "faxinal do soturno",
          "faxinalzinho",
          "fazenda vila nova",
          "feliz",
          "flores da cunha",
          "floriano peixoto",
          "fontoura xavier",
          "formigueiro",
          "forquetinha",
          "fortaleza dos valos",
          "frederico westphalen",
          "garibaldi",
          "garruchos",
          "gaurama",
          "general camara",
          "gentil",
          "getulio vargas",
          "girua",
          "glorinha",
          "gramado",
          "gramado dos loureiros",
          "gramado xavier",
          "gravatai",
          "guabiju",
          "guaiba",
          "guapore",
          "guarani das missoes",
          "harmonia",
          "herval",
          "herveiras",
          "horizontina",
          "hulha negra",
          "humaita",
          "ibarama",
          "ibiaca",
          "ibiraiaras",
          "ibirapuita",
          "ibiruba",
          "igrejinha",
          "ijui",
          "ilopolis",
          "imbe",
          "imigrante",
          "independencia",
          "inhacora",
          "ipe",
          "ipiranga do sul",
          "irai",
          "itaara",
          "itacurubi",
          "itapuca",
          "itaqui",
          "itati",
          "itatiba do sul",
          "ivora",
          "ivoti",
          "jaboticaba",
          "jacuizinho",
          "jacutinga",
          "jaguarao",
          "jaguari",
          "jaquirana",
          "jari",
          "joia",
          "julio de castilhos",
          "lagoa bonita do sul",
          "lagoa dos tres cantos",
          "lagoa vermelha",
          "lagoao",
          "lajeado",
          "lajeado do bugre",
          "lavras do sul",
          "liberato salzano",
          "lindolfo collor",
          "linha nova",
          "macambara",
          "machadinho",
          "mampituba",
          "manoel viana",
          "maquine",
          "marata",
          "marau",
          "marcelino ramos",
          "mariana pimentel",
          "mariano moro",
          "marques de souza",
          "mata",
          "mato castelhano",
          "mato leitao",
          "mato queimado",
          "maximiliano de almeida",
          "minas do leao",
          "miraguai",
          "montauri",
          "monte alegre dos campos",
          "monte belo do sul",
          "montenegro",
          "mormaco",
          "morrinhos do sul",
          "morro redondo",
          "morro reuter",
          "mostardas",
          "mucum",
          "muitos capoes",
          "muliterno",
          "nao-me-toque",
          "nicolau vergueiro",
          "nonoai",
          "nova alvorada",
          "nova araca",
          "nova bassano",
          "nova boa vista",
          "nova brescia",
          "nova candelaria",
          "nova esperanca do sul",
          "nova hartz",
          "nova padua",
          "nova palma",
          "nova petropolis",
          "nova prata",
          "nova ramada",
          "nova roma do sul",
          "nova santa rita",
          "novo barreiro",
          "novo cabrais",
          "novo hamburgo",
          "novo machado",
          "novo tiradentes",
          "novo xingu",
          "osorio",
          "paim filho",
          "palmares do sul",
          "palmeira das missoes",
          "palmitinho",
          "panambi",
          "pantano grande",
          "parai",
          "paraiso do sul",
          "pareci novo",
          "parobe",
          "passa sete",
          "passo do sobrado",
          "passo fundo",
          "paulo bento",
          "paverama",
          "pedras altas",
          "pedro osorio",
          "pejucara",
          "pelotas",
          "picada cafe",
          "pinhal",
          "pinhal da serra",
          "pinhal grande",
          "pinheirinho do vale",
          "pinheiro machado",
          "pinto bandeira",
          "pirapo",
          "piratini",
          "planalto",
          "poco das antas",
          "pontao",
          "ponte preta",
          "portao",
          "porto alegre",
          "porto lucena",
          "porto maua",
          "porto vera cruz",
          "porto xavier",
          "pouso novo",
          "presidente lucena",
          "progresso",
          "protasio alves",
          "putinga",
          "quarai",
          "quatro irmaos",
          "quevedos",
          "quinze de novembro",
          "redentora",
          "relvado",
          "restinga seca",
          "rio dos indios",
          "rio grande",
          "rio pardo",
          "riozinho",
          "roca sales",
          "rodeio bonito",
          "rolador",
          "rolante",
          "ronda alta",
          "rondinha",
          "roque gonzales",
          "rosario do sul",
          "sagrada familia",
          "saldanha marinho",
          "salto do jacui",
          "salvador das missoes",
          "salvador do sul",
          "sananduva",
          "santa barbara do sul",
          "santa cecilia do sul",
          "santa clara do sul",
          "santa cruz do sul",
          "santa margarida do sul",
          "santa maria",
          "santa maria do herval",
          "santa rosa",
          "santa tereza",
          "santa vitoria do palmar",
          "santana da boa vista",
          "santana do livramento",
          "santiago",
          "santo angelo",
          "santo antonio da patrulha",
          "santo antonio das missoes",
          "santo antonio do palma",
          "santo antonio do planalto",
          "santo augusto",
          "santo cristo",
          "santo expedito do sul",
          "sao borja",
          "sao domingos do sul",
          "sao francisco de assis",
          "sao francisco de paula",
          "sao gabriel",
          "sao jeronimo",
          "sao joao da urtiga",
          "sao joao do polesine",
          "sao jorge",
          "sao jose das missoes",
          "sao jose do herval",
          "sao jose do hortencio",
          "sao jose do inhacora",
          "sao jose do norte",
          "sao jose do ouro",
          "sao jose do sul",
          "sao jose dos ausentes",
          "sao leopoldo",
          "sao lourenco do sul",
          "sao luiz gonzaga",
          "sao marcos",
          "sao martinho",
          "sao martinho da serra",
          "sao miguel das missoes",
          "sao nicolau",
          "sao paulo das missoes",
          "sao pedro da serra",
          "sao pedro das missoes",
          "sao pedro do butia",
          "sao pedro do sul",
          "sao sebastiao do cai",
          "sao sepe",
          "sao valentim",
          "sao valentim do sul",
          "sao valerio do sul",
          "sao vendelino",
          "sao vicente do sul",
          "sapiranga",
          "sapucaia do sul",
          "sarandi",
          "seberi",
          "sede nova",
          "segredo",
          "selbach",
          "senador salgado filho",
          "sentinela do sul",
          "serafina correa",
          "serio",
          "sertao",
          "sertao santana",
          "sete de setembro",
          "severiano de almeida",
          "silveira martins",
          "sinimbu",
          "sobradinho",
          "soledade",
          "tabai",
          "tapejara",
          "tapera",
          "tapes",
          "taquara",
          "taquari",
          "taquarucu do sul",
          "tavares",
          "tenente portela",
          "terra de areia",
          "teutonia",
          "tio hugo",
          "tiradentes do sul",
          "toropi",
          "torres",
          "tramandai",
          "travesseiro",
          "tres arroios",
          "tres cachoeiras",
          "tres coroas",
          "tres de maio",
          "tres forquilhas",
          "tres palmeiras",
          "tres passos",
          "trindade do sul",
          "triunfo",
          "tucunduva",
          "tunas",
          "tupanci do sul",
          "tupancireta",
          "tupandi",
          "tuparendi",
          "turucu",
          "ubiretama",
          "uniao da serra",
          "unistalda",
          "uruguaiana",
          "vacaria",
          "vale do sol",
          "vale real",
          "vale verde",
          "vanini",
          "venancio aires",
          "vera cruz",
          "veranopolis",
          "vespasiano correa",
          "viadutos",
          "viamao",
          "vicente dutra",
          "victor graeff",
          "vila flores",
          "vila langaro",
          "vila maria",
          "vila nova do sul",
          "vista alegre",
          "vista alegre do prata",
          "vista gaucha",
          "vitoria das missoes",
          "westfalia",
          "xangri-la",
          "acegua",
          "agua santa",
          "agudo",
          "ajuricaba",
          "alecrim",
          "alegrete",
          "alegria",
          "almirante tamandare do sul",
          "alpestre",
          "alto alegre",
          "alto feliz",
          "alvorada",
          "amaral ferrador",
          "ametista do sul",
          "andre da rocha",
          "anta gorda",
          "antonio prado",
          "arambare",
          "ararica",
          "aratiba",
          "arroio do meio",
          "arroio do padre",
          "arroio do sal",
          "arroio do tigre",
          "arroio dos ratos",
          "arroio grande",
          "arvorezinha",
          "augusto pestana",
          "aurea",
          "bage",
          "balneario pinhal",
          "barao",
          "barao de cotegipe",
          "barao do triunfo",
          "barra do guarita",
          "barra do quarai",
          "barra do ribeiro",
          "barra do rio azul",
          "barra funda",
          "barracao",
          "barros cassal",
          "benjamin constant do sul",
          "bento goncalves",
          "boa vista das missoes",
          "boa vista do burica",
          "boa vista do cadeado",
          "boa vista do incra",
          "boa vista do sul",
          "bom jesus",
          "bom principio",
          "bom progresso",
          "bom retiro do sul",
          "boqueirao do leao",
          "bossoroca",
          "bozano",
          "braga",
          "brochier",
          "butia",
          "cacapava do sul",
          "cacequi",
          "cachoeira do sul",
          "cachoeirinha",
          "cacique doble",
          "caibate",
          "caicara",
          "camaqua",
          "camargo",
          "cambara do sul",
          "campestre da serra",
          "campina das missoes",
          "campinas do sul",
          "campo bom",
          "campo novo",
          "campos borges",
          "candelaria",
          "candido godoi",
          "candiota",
          "canela",
          "cangucu",
          "canoas",
          "canudos do vale",
          "capao bonito do sul",
          "capao da canoa",
          "capao do cipo",
          "capao do leao",
          "capela de santana",
          "capitao",
          "capivari do sul",
          "caraa",
          "carazinho",
          "carlos barbosa",
          "carlos gomes",
          "casca",
          "caseiros",
          "catuipe",
          "caxias do sul",
          "centenario",
          "cerrito",
          "cerro branco",
          "cerro grande",
          "cerro grande do sul",
          "cerro largo",
          "chapada",
          "charqueadas",
          "charrua",
          "chiapetta",
          "chui",
          "chuvisca",
          "cidreira",
          "ciriaco",
          "colinas",
          "colorado",
          "condor",
          "constantina",
          "coqueiro baixo",
          "coqueiros do sul",
          "coronel barros",
          "coronel bicaco",
          "coronel pilar",
          "cotipora",
          "coxilha",
          "crissiumal",
          "cristal",
          "cristal do sul",
          "cruz alta",
          "cruzaltense",
          "cruzeiro do sul",
          "david canabarro",
          "derrubadas",
          "dezesseis de novembro",
          "dilermando de aguiar",
          "dois irmaos",
          "dois irmaos das missoes",
          "dois lajeados",
          "dom feliciano",
          "dom pedrito",
          "dom pedro de alcantara",
          "dona francisca",
          "doutor ricardo",
          "dr mauricio cardoso",
          "eldorado do sul",
          "encantado",
          "encruzilhada do sul",
          "engenho velho",
          "entre ijuis",
          "entre rios do sul",
          "erebango",
          "erechim",
          "ernestina",
          "erval grande",
          "erval seco",
          "esmeralda",
          "esperanca do sul",
          "espumoso",
          "estacao",
          "estancia velha",
          "esteio",
          "estrela",
          "estrela velha",
          "eugenio de castro",
          "fagundes varela",
          "farroupilha",
          "faxinal do soturno",
          "faxinalzinho",
          "fazenda vila nova",
          "feliz",
          "flores da cunha",
          "floriano peixoto",
          "fontoura xavier",
          "formigueiro",
          "forquetinha",
          "fortaleza dos valos",
          "frederico westphalen",
          "garibaldi",
          "garruchos",
          "gaurama",
          "general camara",
          "gentil",
          "getulio vargas",
          "girua",
          "glorinha",
          "gramado",
          "gramado dos loureiros",
          "gramado xavier",
          "gravatai",
          "guabiju",
          "guaiba",
          "guapore",
          "guarani das missoes",
          "harmonia",
          "herval",
          "herveiras",
          "horizontina",
          "hulha negra",
          "humaita",
          "ibarama",
          "ibiaca",
          "ibiraiaras",
          "ibirapuita",
          "ibiruba",
          "igrejinha",
          "ijui",
          "ilopolis",
          "imbe",
          "imigrante",
          "independencia",
          "inhacora",
          "ipe",
          "ipiranga do sul",
          "irai",
          "itaara",
          "itacurubi",
          "itapuca",
          "itaqui",
          "itati",
          "itatiba do sul",
          "ivora",
          "ivoti",
          "jaboticaba",
          "jacuizinho",
          "jacutinga",
          "jaguarao",
          "jaguari",
          "jaquirana",
          "jari",
          "joia",
          "julio de castilhos",
          "lagoa bonita do sul",
          "lagoa dos tres cantos",
          "lagoa vermelha",
          "lagoao",
          "lajeado",
          "lajeado do bugre",
          "lavras do sul",
          "liberato salzano",
          "lindolfo collor",
          "linha nova",
          "macambara",
          "machadinho",
          "mampituba",
          "manoel viana",
          "maquine",
          "marata",
          "marau",
          "marcelino ramos",
          "mariana pimentel",
          "mariano moro",
          "marques de souza",
          "mata",
          "mato castelhano",
          "mato leitao",
          "mato queimado",
          "maximiliano de almeida",
          "minas do leao",
          "miraguai",
          "montauri",
          "monte alegre dos campos",
          "monte belo do sul",
          "montenegro",
          "mormaco",
          "morrinhos do sul",
          "morro redondo",
          "morro reuter",
          "mostardas",
          "mucum",
          "muitos capoes",
          "muliterno",
          "nao-me-toque",
          "nicolau vergueiro",
          "nonoai",
          "nova alvorada",
          "nova araca",
          "nova bassano",
          "nova boa vista",
          "nova brescia",
          "nova candelaria",
          "nova esperanca do sul",
          "nova hartz",
          "nova padua",
          "nova palma",
          "nova petropolis",
          "nova prata",
          "nova ramada",
          "nova roma do sul",
          "nova santa rita",
          "novo barreiro",
          "novo cabrais",
          "novo hamburgo",
          "novo machado",
          "novo tiradentes",
          "novo xingu",
          "osorio",
          "paim filho",
          "palmares do sul",
          "palmeira das missoes",
          "palmitinho",
          "panambi",
          "pantano grande",
          "parai",
          "paraiso do sul",
          "pareci novo",
          "parobe",
          "passa sete",
          "passo do sobrado",
          "passo fundo",
          "paulo bento",
          "paverama",
          "pedras altas",
          "pedro osorio",
          "pejucara",
          "pelotas",
          "picada cafe",
          "pinhal",
          "pinhal da serra",
          "pinhal grande",
          "pinheirinho do vale",
          "pinheiro machado",
          "pinto bandeira",
          "pirapo",
          "piratini",
          "planalto",
          "poco das antas",
          "pontao",
          "ponte preta",
          "portao",
          "porto alegre",
          "porto lucena",
          "porto maua",
          "porto vera cruz",
          "porto xavier",
          "pouso novo",
          "presidente lucena",
          "progresso",
          "protasio alves",
          "putinga",
          "quarai",
          "quatro irmaos",
          "quevedos",
          "quinze de novembro",
          "redentora",
          "relvado",
          "restinga seca",
          "rio dos indios",
          "rio grande",
          "rio pardo",
          "riozinho",
          "roca sales",
          "rodeio bonito",
          "rolador",
          "rolante",
          "ronda alta",
          "rondinha",
          "roque gonzales",
          "rosario do sul",
          "sagrada familia",
          "saldanha marinho",
          "salto do jacui",
          "salvador das missoes",
          "salvador do sul",
          "sananduva",
          "santa barbara do sul",
          "santa cecilia do sul",
          "santa clara do sul",
          "santa cruz do sul",
          "santa margarida do sul",
          "santa maria",
          "santa maria do herval",
          "santa rosa",
          "santa tereza",
          "santa vitoria do palmar",
          "santana da boa vista",
          "santana do livramento",
          "santiago",
          "santo angelo",
          "santo antonio da patrulha",
          "santo antonio das missoes",
          "santo antonio do palma",
          "santo antonio do planalto",
          "santo augusto",
          "santo cristo",
          "santo expedito do sul",
          "sao borja",
          "sao domingos do sul",
          "sao francisco de assis",
          "sao francisco de paula",
          "sao gabriel",
          "sao jeronimo",
          "sao joao da urtiga",
          "sao joao do polesine",
          "sao jorge",
          "sao jose das missoes",
          "sao jose do herval",
          "sao jose do hortencio",
          "sao jose do inhacora",
          "sao jose do norte",
          "sao jose do ouro",
          "sao jose do sul",
          "sao jose dos ausentes",
          "sao leopoldo",
          "sao lourenco do sul",
          "sao luiz gonzaga",
          "sao marcos",
          "sao martinho",
          "sao martinho da serra",
          "sao miguel das missoes",
          "sao nicolau",
          "sao paulo das missoes",
          "sao pedro da serra",
          "sao pedro das missoes",
          "sao pedro do butia",
          "sao pedro do sul",
          "sao sebastiao do cai",
          "sao sepe",
          "sao valentim",
          "sao valentim do sul",
          "sao valerio do sul",
          "sao vendelino",
          "sao vicente do sul",
          "sapiranga",
          "sapucaia do sul",
          "sarandi",
          "seberi",
          "sede nova",
          "segredo",
          "selbach",
          "senador salgado filho",
          "sentinela do sul",
          "serafina correa",
          "serio",
          "sertao",
          "sertao santana",
          "sete de setembro",
          "severiano de almeida",
          "silveira martins",
          "sinimbu",
          "sobradinho",
          "soledade",
          "tabai",
          "tapejara",
          "tapera",
          "tapes",
          "taquara",
          "taquari",
          "taquarucu do sul",
          "tavares",
          "tenente portela",
          "terra de areia",
          "teutonia",
          "tio hugo",
          "tiradentes do sul",
          "toropi",
          "torres",
          "tramandai",
          "travesseiro",
          "tres arroios",
          "tres cachoeiras",
          "tres coroas",
          "tres de maio",
          "tres forquilhas",
          "tres palmeiras",
          "tres passos",
          "trindade do sul",
          "triunfo",
          "tucunduva",
          "tunas",
          "tupanci do sul",
          "tupancireta",
          "tupandi",
          "tuparendi",
          "turucu",
          "ubiretama",
          "uniao da serra",
          "unistalda",
          "uruguaiana",
          "vacaria",
          "vale do sol",
          "vale real",
          "vale verde",
          "vanini",
          "venancio aires",
          "vera cruz",
          "veranopolis",
          "vespasiano correa",
          "viadutos",
          "viamao",
          "vicente dutra",
          "victor graeff",
          "vila flores",
          "vila langaro",
          "vila maria",
          "vila nova do sul",
          "vista alegre",
          "vista alegre do prata",
          "vista gaucha",
          "vitoria das missoes",
          "westfalia",
          "xangri-la",
          "acegua",
          "agua santa",
          "agudo",
          "ajuricaba",
          "alecrim",
          "alegrete",
          "alegria",
          "almirante tamandare do sul",
          "alpestre",
          "alto alegre",
          "alto feliz",
          "alvorada",
          "amaral ferrador",
          "ametista do sul",
          "andre da rocha",
          "anta gorda",
          "antonio prado",
          "arambare",
          "ararica",
          "aratiba",
          "arroio do meio",
          "arroio do padre",
          "arroio do sal",
          "arroio do tigre",
          "arroio dos ratos",
          "arroio grande",
          "arvorezinha",
          "augusto pestana",
          "aurea",
          "bage",
          "balneario pinhal",
          "barao",
          "barao de cotegipe",
          "barao do triunfo",
          "barra do guarita",
          "barra do quarai",
          "barra do ribeiro",
          "barra do rio azul",
          "barra funda",
          "barracao",
          "barros cassal",
          "benjamin constant do sul",
          "bento goncalves",
          "boa vista das missoes",
          "boa vista do burica",
          "boa vista do cadeado",
          "boa vista do incra",
          "boa vista do sul",
          "bom jesus",
          "bom principio",
          "bom progresso",
          "bom retiro do sul",
          "boqueirao do leao",
          "bossoroca",
          "bozano",
          "braga",
          "brochier",
          "butia",
          "cacapava do sul",
          "cacequi",
          "cachoeira do sul",
          "cachoeirinha",
          "cacique doble",
          "caibate",
          "caicara",
          "camaqua",
          "camargo",
          "cambara do sul",
          "campestre da serra",
          "campina das missoes",
          "campinas do sul",
          "campo bom",
          "campo novo",
          "campos borges",
          "candelaria",
          "candido godoi",
          "candiota",
          "canela",
          "cangucu",
          "canoas",
          "canudos do vale",
          "capao bonito do sul",
          "capao da canoa",
          "capao do cipo",
          "capao do leao",
          "capela de santana",
          "capitao",
          "capivari do sul",
          "caraa",
          "carazinho",
          "carlos barbosa",
          "carlos gomes",
          "casca",
          "caseiros",
          "catuipe",
          "caxias do sul",
          "centenario",
          "cerrito",
          "cerro branco",
          "cerro grande",
          "cerro grande do sul",
          "cerro largo",
          "chapada",
          "charqueadas",
          "charrua",
          "chiapetta",
          "chui",
          "chuvisca",
          "cidreira",
          "ciriaco",
          "colinas",
          "colorado",
          "condor",
          "constantina",
          "coqueiro baixo",
          "coqueiros do sul",
          "coronel barros",
          "coronel bicaco",
          "coronel pilar",
          "cotipora",
          "coxilha",
          "crissiumal",
          "cristal",
          "cristal do sul",
          "cruz alta",
          "cruzaltense",
          "cruzeiro do sul",
          "david canabarro",
          "derrubadas",
          "dezesseis de novembro",
          "dilermando de aguiar",
          "dois irmaos",
          "dois irmaos das missoes",
          "dois lajeados",
          "dom feliciano",
          "dom pedrito",
          "dom pedro de alcantara",
          "dona francisca",
          "doutor ricardo",
          "dr mauricio cardoso",
          "eldorado do sul",
          "encantado",
          "encruzilhada do sul",
          "engenho velho",
          "entre ijuis",
          "entre rios do sul",
          "erebango",
          "erechim",
          "ernestina",
          "erval grande",
          "erval seco",
          "esmeralda",
          "esperanca do sul",
          "espumoso",
          "estacao",
          "estancia velha",
          "esteio",
          "estrela",
          "estrela velha",
          "eugenio de castro",
          "fagundes varela",
          "farroupilha",
          "faxinal do soturno",
          "faxinalzinho",
          "fazenda vila nova",
          "feliz",
          "flores da cunha",
          "floriano peixoto",
          "fontoura xavier",
          "formigueiro",
          "forquetinha",
          "fortaleza dos valos",
          "frederico westphalen",
          "garibaldi",
          "garruchos",
          "gaurama",
          "general camara",
          "gentil",
          "getulio vargas",
          "girua",
          "glorinha",
          "gramado",
          "gramado dos loureiros",
          "gramado xavier",
          "gravatai",
          "guabiju",
          "guaiba",
          "guapore",
          "guarani das missoes",
          "harmonia",
          "herval",
          "herveiras",
          "horizontina",
          "hulha negra",
          "humaita",
          "ibarama",
          "ibiaca",
          "ibiraiaras",
          "ibirapuita",
          "ibiruba",
          "igrejinha",
          "ijui",
          "ilopolis",
          "imbe",
          "imigrante",
          "independencia",
          "inhacora",
          "ipe",
          "ipiranga do sul",
          "irai",
          "itaara",
          "itacurubi",
          "itapuca",
          "itaqui",
          "itati",
          "itatiba do sul",
          "ivora",
          "ivoti",
          "jaboticaba",
          "jacuizinho",
          "jacutinga",
          "jaguarao",
          "jaguari",
          "jaquirana",
          "jari",
          "joia",
          "julio de castilhos",
          "lagoa bonita do sul",
          "lagoa dos tres cantos",
          "lagoa vermelha",
          "lagoao",
          "lajeado",
          "lajeado do bugre",
          "lavras do sul",
          "liberato salzano",
          "lindolfo collor",
          "linha nova",
          "macambara",
          "machadinho",
          "mampituba",
          "manoel viana",
          "maquine",
          "marata",
          "marau",
          "marcelino ramos",
          "mariana pimentel",
          "mariano moro",
          "marques de souza",
          "mata",
          "mato castelhano",
          "mato leitao",
          "mato queimado",
          "maximiliano de almeida",
          "minas do leao",
          "miraguai",
          "montauri",
          "monte alegre dos campos",
          "monte belo do sul",
          "montenegro",
          "mormaco",
          "morrinhos do sul",
          "morro redondo",
          "morro reuter",
          "mostardas",
          "mucum",
          "muitos capoes",
          "muliterno",
          "nao-me-toque",
          "nicolau vergueiro",
          "nonoai",
          "nova alvorada",
          "nova araca",
          "nova bassano",
          "nova boa vista",
          "nova brescia",
          "nova candelaria",
          "nova esperanca do sul",
          "nova hartz",
          "nova padua",
          "nova palma",
          "nova petropolis",
          "nova prata",
          "nova ramada",
          "nova roma do sul",
          "nova santa rita",
          "novo barreiro",
          "novo cabrais",
          "novo hamburgo",
          "novo machado",
          "novo tiradentes",
          "novo xingu",
          "osorio",
          "paim filho",
          "palmares do sul",
          "palmeira das missoes",
          "palmitinho",
          "panambi",
          "pantano grande",
          "parai",
          "paraiso do sul",
          "pareci novo",
          "parobe",
          "passa sete",
          "passo do sobrado",
          "passo fundo",
          "paulo bento",
          "paverama",
          "pedras altas",
          "pedro osorio",
          "pejucara",
          "pelotas",
          "picada cafe",
          "pinhal",
          "pinhal da serra",
          "pinhal grande",
          "pinheirinho do vale",
          "pinheiro machado",
          "pinto bandeira",
          "pirapo",
          "piratini",
          "planalto",
          "poco das antas",
          "pontao",
          "ponte preta",
          "portao",
          "porto alegre",
          "porto lucena",
          "porto maua",
          "porto vera cruz",
          "porto xavier",
          "pouso novo",
          "presidente lucena",
          "progresso",
          "protasio alves",
          "putinga",
          "quarai",
          "quatro irmaos",
          "quevedos",
          "quinze de novembro",
          "redentora",
          "relvado",
          "restinga seca",
          "rio dos indios",
          "rio grande",
          "rio pardo",
          "riozinho",
          "roca sales",
          "rodeio bonito",
          "rolador",
          "rolante",
          "ronda alta",
          "rondinha",
          "roque gonzales",
          "rosario do sul",
          "sagrada familia",
          "saldanha marinho",
          "salto do jacui",
          "salvador das missoes",
          "salvador do sul",
          "sananduva",
          "santa barbara do sul",
          "santa cecilia do sul",
          "santa clara do sul",
          "santa cruz do sul",
          "santa margarida do sul",
          "santa maria",
          "santa maria do herval",
          "santa rosa",
          "santa tereza",
          "santa vitoria do palmar",
          "santana da boa vista",
          "santana do livramento",
          "santiago",
          "santo angelo",
          "santo antonio da patrulha",
          "santo antonio das missoes",
          "santo antonio do palma",
          "santo antonio do planalto",
          "santo augusto",
          "santo cristo",
          "santo expedito do sul",
          "sao borja",
          "sao domingos do sul",
          "sao francisco de assis",
          "sao francisco de paula",
          "sao gabriel",
          "sao jeronimo",
          "sao joao da urtiga",
          "sao joao do polesine",
          "sao jorge",
          "sao jose das missoes",
          "sao jose do herval",
          "sao jose do hortencio",
          "sao jose do inhacora",
          "sao jose do norte",
          "sao jose do ouro",
          "sao jose do sul",
          "sao jose dos ausentes",
          "sao leopoldo",
          "sao lourenco do sul",
          "sao luiz gonzaga",
          "sao marcos",
          "sao martinho",
          "sao martinho da serra",
          "sao miguel das missoes",
          "sao nicolau",
          "sao paulo das missoes",
          "sao pedro da serra",
          "sao pedro das missoes",
          "sao pedro do butia",
          "sao pedro do sul",
          "sao sebastiao do cai",
          "sao sepe",
          "sao valentim",
          "sao valentim do sul",
          "sao valerio do sul",
          "sao vendelino",
          "sao vicente do sul",
          "sapiranga",
          "sapucaia do sul",
          "sarandi",
          "seberi",
          "sede nova",
          "segredo",
          "selbach",
          "senador salgado filho",
          "sentinela do sul",
          "serafina correa",
          "serio",
          "sertao",
          "sertao santana",
          "sete de setembro",
          "severiano de almeida",
          "silveira martins",
          "sinimbu",
          "sobradinho",
          "soledade",
          "tabai",
          "tapejara",
          "tapera",
          "tapes",
          "taquara",
          "taquari",
          "taquarucu do sul",
          "tavares",
          "tenente portela",
          "terra de areia",
          "teutonia",
          "tio hugo",
          "tiradentes do sul",
          "toropi",
          "torres",
          "tramandai",
          "travesseiro",
          "tres arroios",
          "tres cachoeiras",
          "tres coroas",
          "tres de maio",
          "tres forquilhas",
          "tres palmeiras",
          "tres passos",
          "trindade do sul",
          "triunfo",
          "tucunduva",
          "tunas",
          "tupanci do sul",
          "tupancireta",
          "tupandi",
          "tuparendi",
          "turucu",
          "ubiretama",
          "uniao da serra",
          "unistalda",
          "uruguaiana",
          "vacaria",
          "vale do sol",
          "vale real",
          "vale verde",
          "vanini",
          "venancio aires",
          "vera cruz",
          "veranopolis",
          "vespasiano correa",
          "viadutos",
          "viamao",
          "vicente dutra",
          "victor graeff",
          "vila flores",
          "vila langaro",
          "vila maria",
          "vila nova do sul",
          "vista alegre",
          "vista alegre do prata",
          "vista gaucha",
          "vitoria das missoes",
          "westfalia",
          "xangri-la",
          "acegua",
          "agua santa",
          "agudo",
          "ajuricaba",
          "alecrim",
          "alegrete",
          "alegria",
          "almirante tamandare do sul",
          "alpestre",
          "alto alegre",
          "alto feliz",
          "alvorada",
          "amaral ferrador",
          "ametista do sul",
          "andre da rocha",
          "anta gorda",
          "antonio prado",
          "arambare",
          "ararica",
          "aratiba",
          "arroio do meio",
          "arroio do padre",
          "arroio do sal",
          "arroio do tigre",
          "arroio dos ratos",
          "arroio grande",
          "arvorezinha",
          "augusto pestana",
          "aurea",
          "bage",
          "balneario pinhal",
          "barao",
          "barao de cotegipe",
          "barao do triunfo",
          "barra do guarita",
          "barra do quarai",
          "barra do ribeiro",
          "barra do rio azul",
          "barra funda",
          "barracao",
          "barros cassal",
          "benjamin constant do sul",
          "bento goncalves",
          "boa vista das missoes",
          "boa vista do burica",
          "boa vista do cadeado",
          "boa vista do incra",
          "boa vista do sul",
          "bom jesus",
          "bom principio",
          "bom progresso",
          "bom retiro do sul",
          "boqueirao do leao",
          "bossoroca",
          "bozano",
          "braga",
          "brochier",
          "butia",
          "cacapava do sul",
          "cacequi",
          "cachoeira do sul",
          "cachoeirinha",
          "cacique doble",
          "caibate",
          "caicara",
          "camaqua",
          "camargo",
          "cambara do sul",
          "campestre da serra",
          "campina das missoes",
          "campinas do sul",
          "campo bom",
          "campo novo",
          "campos borges",
          "candelaria",
          "candido godoi",
          "candiota",
          "canela",
          "cangucu",
          "canoas",
          "canudos do vale",
          "capao bonito do sul",
          "capao da canoa",
          "capao do cipo",
          "capao do leao",
          "capela de santana",
          "capitao",
          "capivari do sul",
          "caraa",
          "carazinho",
          "carlos barbosa",
          "carlos gomes",
          "casca",
          "caseiros",
          "catuipe",
          "caxias do sul",
          "centenario",
          "cerrito",
          "cerro branco",
          "cerro grande",
          "cerro grande do sul",
          "cerro largo",
          "chapada",
          "charqueadas",
          "charrua",
          "chiapetta",
          "chui",
          "chuvisca",
          "cidreira",
          "ciriaco",
          "colinas",
          "colorado",
          "condor",
          "constantina",
          "coqueiro baixo",
          "coqueiros do sul",
          "coronel barros",
          "coronel bicaco",
          "coronel pilar",
          "cotipora",
          "coxilha",
          "crissiumal",
          "cristal",
          "cristal do sul",
          "cruz alta",
          "cruzaltense",
          "cruzeiro do sul",
          "david canabarro",
          "derrubadas",
          "dezesseis de novembro",
          "dilermando de aguiar",
          "dois irmaos",
          "dois irmaos das missoes",
          "dois lajeados",
          "dom feliciano",
          "dom pedrito",
          "dom pedro de alcantara",
          "dona francisca",
          "doutor ricardo",
          "dr mauricio cardoso",
          "eldorado do sul",
          "encantado",
          "encruzilhada do sul",
          "engenho velho",
          "entre ijuis",
          "entre rios do sul",
          "erebango",
          "erechim",
          "ernestina",
          "erval grande",
          "erval seco",
          "esmeralda",
          "esperanca do sul",
          "espumoso",
          "estacao",
          "estancia velha",
          "esteio",
          "estrela",
          "estrela velha",
          "eugenio de castro",
          "fagundes varela",
          "farroupilha",
          "faxinal do soturno",
          "faxinalzinho",
          "fazenda vila nova",
          "feliz",
          "flores da cunha",
          "floriano peixoto",
          "fontoura xavier",
          "formigueiro",
          "forquetinha",
          "fortaleza dos valos",
          "frederico westphalen",
          "garibaldi",
          "garruchos",
          "gaurama",
          "general camara",
          "gentil",
          "getulio vargas",
          "girua",
          "glorinha",
          "gramado",
          "gramado dos loureiros",
          "gramado xavier",
          "gravatai",
          "guabiju",
          "guaiba",
          "guapore",
          "guarani das missoes",
          "harmonia",
          "herval",
          "herveiras",
          "horizontina",
          "hulha negra",
          "humaita",
          "ibarama",
          "ibiaca",
          "ibiraiaras",
          "ibirapuita",
          "ibiruba",
          "igrejinha",
          "ijui",
          "ilopolis",
          "imbe",
          "imigrante",
          "independencia",
          "inhacora",
          "ipe",
          "ipiranga do sul",
          "irai",
          "itaara",
          "itacurubi",
          "itapuca",
          "itaqui",
          "itati",
          "itatiba do sul",
          "ivora",
          "ivoti",
          "jaboticaba",
          "jacuizinho",
          "jacutinga",
          "jaguarao",
          "jaguari",
          "jaquirana",
          "jari",
          "joia",
          "julio de castilhos",
          "lagoa bonita do sul",
          "lagoa dos tres cantos",
          "lagoa vermelha",
          "lagoao",
          "lajeado",
          "lajeado do bugre",
          "lavras do sul",
          "liberato salzano",
          "lindolfo collor",
          "linha nova",
          "macambara",
          "machadinho",
          "mampituba",
          "manoel viana",
          "maquine",
          "marata",
          "marau",
          "marcelino ramos",
          "mariana pimentel",
          "mariano moro",
          "marques de souza",
          "mata",
          "mato castelhano",
          "mato leitao",
          "mato queimado",
          "maximiliano de almeida",
          "minas do leao",
          "miraguai",
          "montauri",
          "monte alegre dos campos",
          "monte belo do sul",
          "montenegro",
          "mormaco",
          "morrinhos do sul",
          "morro redondo",
          "morro reuter",
          "mostardas",
          "mucum",
          "muitos capoes",
          "muliterno",
          "nao-me-toque",
          "nicolau vergueiro",
          "nonoai",
          "nova alvorada",
          "nova araca",
          "nova bassano",
          "nova boa vista",
          "nova brescia",
          "nova candelaria",
          "nova esperanca do sul",
          "nova hartz",
          "nova padua",
          "nova palma",
          "nova petropolis",
          "nova prata",
          "nova ramada",
          "nova roma do sul",
          "nova santa rita",
          "novo barreiro",
          "novo cabrais",
          "novo hamburgo",
          "novo machado",
          "novo tiradentes",
          "novo xingu",
          "osorio",
          "paim filho",
          "palmares do sul",
          "palmeira das missoes",
          "palmitinho",
          "panambi",
          "pantano grande",
          "parai",
          "paraiso do sul",
          "pareci novo",
          "parobe",
          "passa sete",
          "passo do sobrado",
          "passo fundo",
          "paulo bento",
          "paverama",
          "pedras altas",
          "pedro osorio",
          "pejucara",
          "pelotas",
          "picada cafe",
          "pinhal",
          "pinhal da serra",
          "pinhal grande",
          "pinheirinho do vale",
          "pinheiro machado",
          "pinto bandeira",
          "pirapo",
          "piratini",
          "planalto",
          "poco das antas",
          "pontao",
          "ponte preta",
          "portao",
          "porto alegre",
          "porto lucena",
          "porto maua",
          "porto vera cruz",
          "porto xavier",
          "pouso novo",
          "presidente lucena",
          "progresso",
          "protasio alves",
          "putinga",
          "quarai",
          "quatro irmaos",
          "quevedos",
          "quinze de novembro",
          "redentora",
          "relvado",
          "restinga seca",
          "rio dos indios",
          "rio grande",
          "rio pardo",
          "riozinho",
          "roca sales",
          "rodeio bonito",
          "rolador",
          "rolante",
          "ronda alta",
          "rondinha",
          "roque gonzales",
          "rosario do sul",
          "sagrada familia",
          "saldanha marinho",
          "salto do jacui",
          "salvador das missoes",
          "salvador do sul",
          "sananduva",
          "santa barbara do sul",
          "santa cecilia do sul",
          "santa clara do sul",
          "santa cruz do sul",
          "santa margarida do sul",
          "santa maria",
          "santa maria do herval",
          "santa rosa",
          "santa tereza",
          "santa vitoria do palmar",
          "santana da boa vista",
          "santana do livramento",
          "santiago",
          "santo angelo",
          "santo antonio da patrulha",
          "santo antonio das missoes",
          "santo antonio do palma",
          "santo antonio do planalto",
          "santo augusto",
          "santo cristo",
          "santo expedito do sul",
          "sao borja",
          "sao domingos do sul",
          "sao francisco de assis",
          "sao francisco de paula",
          "sao gabriel",
          "sao jeronimo",
          "sao joao da urtiga",
          "sao joao do polesine",
          "sao jorge",
          "sao jose das missoes",
          "sao jose do herval",
          "sao jose do hortencio",
          "sao jose do inhacora",
          "sao jose do norte",
          "sao jose do ouro",
          "sao jose do sul",
          "sao jose dos ausentes",
          "sao leopoldo",
          "sao lourenco do sul",
          "sao luiz gonzaga",
          "sao marcos",
          "sao martinho",
          "sao martinho da serra",
          "sao miguel das missoes",
          "sao nicolau",
          "sao paulo das missoes",
          "sao pedro da serra",
          "sao pedro das missoes",
          "sao pedro do butia",
          "sao pedro do sul",
          "sao sebastiao do cai",
          "sao sepe",
          "sao valentim",
          "sao valentim do sul",
          "sao valerio do sul",
          "sao vendelino",
          "sao vicente do sul",
          "sapiranga",
          "sapucaia do sul",
          "sarandi",
          "seberi",
          "sede nova",
          "segredo",
          "selbach",
          "senador salgado filho",
          "sentinela do sul",
          "serafina correa",
          "serio",
          "sertao",
          "sertao santana",
          "sete de setembro",
          "severiano de almeida",
          "silveira martins",
          "sinimbu",
          "sobradinho",
          "soledade",
          "tabai",
          "tapejara",
          "tapera",
          "tapes",
          "taquara",
          "taquari",
          "taquarucu do sul",
          "tavares",
          "tenente portela",
          "terra de areia",
          "teutonia",
          "tio hugo",
          "tiradentes do sul",
          "toropi",
          "torres",
          "tramandai",
          "travesseiro",
          "tres arroios",
          "tres cachoeiras",
          "tres coroas",
          "tres de maio",
          "tres forquilhas",
          "tres palmeiras",
          "tres passos",
          "trindade do sul",
          "triunfo",
          "tucunduva",
          "tunas",
          "tupanci do sul",
          "tupancireta",
          "tupandi",
          "tuparendi",
          "turucu",
          "ubiretama",
          "uniao da serra",
          "unistalda",
          "uruguaiana",
          "vacaria",
          "vale do sol",
          "vale real",
          "vale verde",
          "vanini",
          "venancio aires",
          "vera cruz",
          "veranopolis",
          "vespasiano correa",
          "viadutos",
          "viamao",
          "vicente dutra",
          "victor graeff",
          "vila flores",
          "vila langaro",
          "vila maria",
          "vila nova do sul",
          "vista alegre",
          "vista alegre do prata",
          "vista gaucha",
          "vitoria das missoes",
          "westfalia",
          "xangri-la",
          "acegua",
          "agua santa",
          "agudo",
          "ajuricaba",
          "alecrim",
          "alegrete",
          "alegria",
          "almirante tamandare do sul",
          "alpestre",
          "alto alegre",
          "alto feliz",
          "alvorada",
          "amaral ferrador",
          "ametista do sul",
          "andre da rocha",
          "anta gorda",
          "antonio prado",
          "arambare",
          "ararica",
          "aratiba",
          "arroio do meio",
          "arroio do padre",
          "arroio do sal",
          "arroio do tigre",
          "arroio dos ratos",
          "arroio grande",
          "arvorezinha",
          "augusto pestana",
          "aurea",
          "bage",
          "balneario pinhal",
          "barao",
          "barao de cotegipe",
          "barao do triunfo",
          "barra do guarita",
          "barra do quarai",
          "barra do ribeiro",
          "barra do rio azul",
          "barra funda",
          "barracao",
          "barros cassal",
          "benjamin constant do sul",
          "bento goncalves",
          "boa vista das missoes",
          "boa vista do burica",
          "boa vista do cadeado",
          "boa vista do incra",
          "boa vista do sul",
          "bom jesus",
          "bom principio",
          "bom progresso",
          "bom retiro do sul",
          "boqueirao do leao",
          "bossoroca",
          "bozano",
          "braga",
          "brochier",
          "butia",
          "cacapava do sul",
          "cacequi",
          "cachoeira do sul",
          "cachoeirinha",
          "cacique doble",
          "caibate",
          "caicara",
          "camaqua",
          "camargo",
          "cambara do sul",
          "campestre da serra",
          "campina das missoes",
          "campinas do sul",
          "campo bom",
          "campo novo",
          "campos borges",
          "candelaria",
          "candido godoi",
          "candiota",
          "canela",
          "cangucu",
          "canoas",
          "canudos do vale",
          "capao bonito do sul",
          "capao da canoa",
          "capao do cipo",
          "capao do leao",
          "capela de santana",
          "capitao",
          "capivari do sul",
          "caraa",
          "carazinho",
          "carlos barbosa",
          "carlos gomes",
          "casca",
          "caseiros",
          "catuipe",
          "caxias do sul",
          "centenario",
          "cerrito",
          "cerro branco",
          "cerro grande",
          "cerro grande do sul",
          "cerro largo",
          "chapada",
          "charqueadas",
          "charrua",
          "chiapetta",
          "chui",
          "chuvisca",
          "cidreira",
          "ciriaco",
          "colinas",
          "colorado",
          "condor",
          "constantina",
          "coqueiro baixo",
          "coqueiros do sul",
          "coronel barros",
          "coronel bicaco",
          "coronel pilar",
          "cotipora",
          "coxilha",
          "crissiumal",
          "cristal",
          "cristal do sul",
          "cruz alta",
          "cruzaltense",
          "cruzeiro do sul",
          "david canabarro",
          "derrubadas",
          "dezesseis de novembro",
          "dilermando de aguiar",
          "dois irmaos",
          "dois irmaos das missoes",
          "dois lajeados",
          "dom feliciano",
          "dom pedrito",
          "dom pedro de alcantara",
          "dona francisca",
          "doutor ricardo",
          "dr mauricio cardoso",
          "eldorado do sul",
          "encantado",
          "encruzilhada do sul",
          "engenho velho",
          "entre ijuis",
          "entre rios do sul",
          "erebango",
          "erechim",
          "ernestina",
          "erval grande",
          "erval seco",
          "esmeralda",
          "esperanca do sul",
          "espumoso",
          "estacao",
          "estancia velha",
          "esteio",
          "estrela",
          "estrela velha",
          "eugenio de castro",
          "fagundes varela",
          "farroupilha",
          "faxinal do soturno",
          "faxinalzinho",
          "fazenda vila nova",
          "feliz",
          "flores da cunha",
          "floriano peixoto",
          "fontoura xavier",
          "formigueiro",
          "forquetinha",
          "fortaleza dos valos",
          "frederico westphalen",
          "garibaldi",
          "garruchos",
          "gaurama",
          "general camara",
          "gentil",
          "getulio vargas",
          "girua",
          "glorinha",
          "gramado",
          "gramado dos loureiros",
          "gramado xavier",
          "gravatai",
          "guabiju",
          "guaiba",
          "guapore",
          "guarani das missoes",
          "harmonia",
          "herval",
          "herveiras",
          "horizontina",
          "hulha negra",
          "humaita",
          "ibarama",
          "ibiaca",
          "ibiraiaras",
          "ibirapuita",
          "ibiruba",
          "igrejinha",
          "ijui",
          "ilopolis",
          "imbe",
          "imigrante",
          "independencia",
          "inhacora",
          "ipe",
          "ipiranga do sul",
          "irai",
          "itaara",
          "itacurubi",
          "itapuca",
          "itaqui",
          "itati",
          "itatiba do sul",
          "ivora",
          "ivoti",
          "jaboticaba",
          "jacuizinho",
          "jacutinga",
          "jaguarao",
          "jaguari",
          "jaquirana",
          "jari",
          "joia",
          "julio de castilhos",
          "lagoa bonita do sul",
          "lagoa dos tres cantos",
          "lagoa vermelha",
          "lagoao",
          "lajeado",
          "lajeado do bugre",
          "lavras do sul",
          "liberato salzano",
          "lindolfo collor",
          "linha nova",
          "macambara",
          "machadinho",
          "mampituba",
          "manoel viana",
          "maquine",
          "marata",
          "marau",
          "marcelino ramos",
          "mariana pimentel",
          "mariano moro",
          "marques de souza",
          "mata",
          "mato castelhano",
          "mato leitao",
          "mato queimado",
          "maximiliano de almeida",
          "minas do leao",
          "miraguai",
          "montauri",
          "monte alegre dos campos",
          "monte belo do sul",
          "montenegro",
          "mormaco",
          "morrinhos do sul",
          "morro redondo",
          "morro reuter",
          "mostardas",
          "mucum",
          "muitos capoes",
          "muliterno",
          "nao-me-toque",
          "nicolau vergueiro",
          "nonoai",
          "nova alvorada",
          "nova araca",
          "nova bassano",
          "nova boa vista",
          "nova brescia",
          "nova candelaria",
          "nova esperanca do sul",
          "nova hartz",
          "nova padua",
          "nova palma",
          "nova petropolis",
          "nova prata",
          "nova ramada",
          "nova roma do sul",
          "nova santa rita",
          "novo barreiro",
          "novo cabrais",
          "novo hamburgo",
          "novo machado",
          "novo tiradentes",
          "novo xingu",
          "osorio",
          "paim filho",
          "palmares do sul",
          "palmeira das missoes",
          "palmitinho",
          "panambi",
          "pantano grande",
          "parai",
          "paraiso do sul",
          "pareci novo",
          "parobe",
          "passa sete",
          "passo do sobrado",
          "passo fundo",
          "paulo bento",
          "paverama",
          "pedras altas",
          "pedro osorio",
          "pejucara",
          "pelotas",
          "picada cafe",
          "pinhal",
          "pinhal da serra",
          "pinhal grande",
          "pinheirinho do vale",
          "pinheiro machado",
          "pinto bandeira",
          "pirapo",
          "piratini",
          "planalto",
          "poco das antas",
          "pontao",
          "ponte preta",
          "portao",
          "porto alegre",
          "porto lucena",
          "porto maua",
          "porto vera cruz",
          "porto xavier",
          "pouso novo",
          "presidente lucena",
          "progresso",
          "protasio alves",
          "putinga",
          "quarai",
          "quatro irmaos",
          "quevedos",
          "quinze de novembro",
          "redentora",
          "relvado",
          "restinga seca",
          "rio dos indios",
          "rio grande",
          "rio pardo",
          "riozinho",
          "roca sales",
          "rodeio bonito",
          "rolador",
          "rolante",
          "ronda alta",
          "rondinha",
          "roque gonzales",
          "rosario do sul",
          "sagrada familia",
          "saldanha marinho",
          "salto do jacui",
          "salvador das missoes",
          "salvador do sul",
          "sananduva",
          "santa barbara do sul",
          "santa cecilia do sul",
          "santa clara do sul",
          "santa cruz do sul",
          "santa margarida do sul",
          "santa maria",
          "santa maria do herval",
          "santa rosa",
          "santa tereza",
          "santa vitoria do palmar",
          "santana da boa vista",
          "santana do livramento",
          "santiago",
          "santo angelo",
          "santo antonio da patrulha",
          "santo antonio das missoes",
          "santo antonio do palma",
          "santo antonio do planalto",
          "santo augusto",
          "santo cristo",
          "santo expedito do sul",
          "sao borja",
          "sao domingos do sul",
          "sao francisco de assis",
          "sao francisco de paula",
          "sao gabriel",
          "sao jeronimo",
          "sao joao da urtiga",
          "sao joao do polesine",
          "sao jorge",
          "sao jose das missoes",
          "sao jose do herval",
          "sao jose do hortencio",
          "sao jose do inhacora",
          "sao jose do norte",
          "sao jose do ouro",
          "sao jose do sul",
          "sao jose dos ausentes",
          "sao leopoldo",
          "sao lourenco do sul",
          "sao luiz gonzaga",
          "sao marcos",
          "sao martinho",
          "sao martinho da serra",
          "sao miguel das missoes",
          "sao nicolau",
          "sao paulo das missoes",
          "sao pedro da serra",
          "sao pedro das missoes",
          "sao pedro do butia",
          "sao pedro do sul",
          "sao sebastiao do cai",
          "sao sepe",
          "sao valentim",
          "sao valentim do sul",
          "sao valerio do sul",
          "sao vendelino",
          "sao vicente do sul",
          "sapiranga",
          "sapucaia do sul",
          "sarandi",
          "seberi",
          "sede nova",
          "segredo",
          "selbach",
          "senador salgado filho",
          "sentinela do sul",
          "serafina correa",
          "serio",
          "sertao",
          "sertao santana",
          "sete de setembro",
          "severiano de almeida",
          "silveira martins",
          "sinimbu",
          "sobradinho",
          "soledade",
          "tabai",
          "tapejara",
          "tapera",
          "tapes",
          "taquara",
          "taquari",
          "taquarucu do sul",
          "tavares",
          "tenente portela",
          "terra de areia",
          "teutonia",
          "tio hugo",
          "tiradentes do sul",
          "toropi",
          "torres",
          "tramandai",
          "travesseiro",
          "tres arroios",
          "tres cachoeiras",
          "tres coroas",
          "tres de maio",
          "tres forquilhas",
          "tres palmeiras",
          "tres passos",
          "trindade do sul",
          "triunfo",
          "tucunduva",
          "tunas",
          "tupanci do sul",
          "tupancireta",
          "tupandi",
          "tuparendi",
          "turucu",
          "ubiretama",
          "uniao da serra",
          "unistalda",
          "uruguaiana",
          "vacaria",
          "vale do sol",
          "vale real",
          "vale verde",
          "vanini",
          "venancio aires",
          "vera cruz",
          "veranopolis",
          "vespasiano correa",
          "viadutos",
          "viamao",
          "vicente dutra",
          "victor graeff",
          "vila flores",
          "vila langaro",
          "vila maria",
          "vila nova do sul",
          "vista alegre",
          "vista alegre do prata",
          "vista gaucha",
          "vitoria das missoes",
          "westfalia",
          "xangri-la",
          "acegua",
          "agua santa",
          "agudo",
          "ajuricaba",
          "alecrim",
          "alegrete",
          "alegria",
          "almirante tamandare do sul",
          "alpestre",
          "alto alegre",
          "alto feliz",
          "alvorada",
          "amaral ferrador",
          "ametista do sul",
          "andre da rocha",
          "anta gorda",
          "antonio prado",
          "arambare",
          "ararica",
          "aratiba",
          "arroio do meio",
          "arroio do padre",
          "arroio do sal",
          "arroio do tigre",
          "arroio dos ratos",
          "arroio grande",
          "arvorezinha",
          "augusto pestana",
          "aurea",
          "bage",
          "balneario pinhal",
          "barao",
          "barao de cotegipe",
          "barao do triunfo",
          "barra do guarita",
          "barra do quarai",
          "barra do ribeiro",
          "barra do rio azul",
          "barra funda",
          "barracao",
          "barros cassal",
          "benjamin constant do sul",
          "bento goncalves",
          "boa vista das missoes",
          "boa vista do burica",
          "boa vista do cadeado",
          "boa vista do incra",
          "boa vista do sul",
          "bom jesus",
          "bom principio",
          "bom progresso",
          "bom retiro do sul",
          "boqueirao do leao",
          "bossoroca",
          "bozano",
          "braga",
          "brochier",
          "butia",
          "cacapava do sul",
          "cacequi",
          "cachoeira do sul",
          "cachoeirinha",
          "cacique doble",
          "caibate",
          "caicara",
          "camaqua",
          "camargo",
          "cambara do sul",
          "campestre da serra",
          "campina das missoes",
          "campinas do sul",
          "campo bom",
          "campo novo",
          "campos borges",
          "candelaria",
          "candido godoi",
          "candiota",
          "canela",
          "cangucu",
          "canoas",
          "canudos do vale",
          "capao bonito do sul",
          "capao da canoa",
          "capao do cipo",
          "capao do leao",
          "capela de santana",
          "capitao",
          "capivari do sul",
          "caraa",
          "carazinho",
          "carlos barbosa",
          "carlos gomes",
          "casca",
          "caseiros",
          "catuipe",
          "caxias do sul",
          "centenario",
          "cerrito",
          "cerro branco",
          "cerro grande",
          "cerro grande do sul",
          "cerro largo",
          "chapada",
          "charqueadas",
          "charrua",
          "chiapetta",
          "chui",
          "chuvisca",
          "cidreira",
          "ciriaco",
          "colinas",
          "colorado",
          "condor",
          "constantina",
          "coqueiro baixo",
          "coqueiros do sul",
          "coronel barros",
          "coronel bicaco",
          "coronel pilar",
          "cotipora",
          "coxilha",
          "crissiumal",
          "cristal",
          "cristal do sul",
          "cruz alta",
          "cruzaltense",
          "cruzeiro do sul",
          "david canabarro",
          "derrubadas",
          "dezesseis de novembro",
          "dilermando de aguiar",
          "dois irmaos",
          "dois irmaos das missoes",
          "dois lajeados",
          "dom feliciano",
          "dom pedrito",
          "dom pedro de alcantara",
          "dona francisca",
          "doutor ricardo",
          "dr mauricio cardoso",
          "eldorado do sul",
          "encantado",
          "encruzilhada do sul",
          "engenho velho",
          "entre ijuis",
          "entre rios do sul",
          "erebango",
          "erechim",
          "ernestina",
          "erval grande",
          "erval seco",
          "esmeralda",
          "esperanca do sul",
          "espumoso",
          "estacao",
          "estancia velha",
          "esteio",
          "estrela",
          "estrela velha",
          "eugenio de castro",
          "fagundes varela",
          "farroupilha",
          "faxinal do soturno",
          "faxinalzinho",
          "fazenda vila nova",
          "feliz",
          "flores da cunha",
          "floriano peixoto",
          "fontoura xavier",
          "formigueiro",
          "forquetinha",
          "fortaleza dos valos",
          "frederico westphalen",
          "garibaldi",
          "garruchos",
          "gaurama",
          "general camara",
          "gentil",
          "getulio vargas",
          "girua",
          "glorinha",
          "gramado",
          "gramado dos loureiros",
          "gramado xavier",
          "gravatai",
          "guabiju",
          "guaiba",
          "guapore",
          "guarani das missoes",
          "harmonia",
          "herval",
          "herveiras",
          "horizontina",
          "hulha negra",
          "humaita",
          "ibarama",
          "ibiaca",
          "ibiraiaras",
          "ibirapuita",
          "ibiruba",
          "igrejinha",
          "ijui",
          "ilopolis",
          "imbe",
          "imigrante",
          "independencia",
          "inhacora",
          "ipe",
          "ipiranga do sul",
          "irai",
          "itaara",
          "itacurubi",
          "itapuca",
          "itaqui",
          "itati",
          "itatiba do sul",
          "ivora",
          "ivoti",
          "jaboticaba",
          "jacuizinho",
          "jacutinga",
          "jaguarao",
          "jaguari",
          "jaquirana",
          "jari",
          "joia",
          "julio de castilhos",
          "lagoa bonita do sul",
          "lagoa dos tres cantos",
          "lagoa vermelha",
          "lagoao",
          "lajeado",
          "lajeado do bugre",
          "lavras do sul",
          "liberato salzano",
          "lindolfo collor",
          "linha nova",
          "macambara",
          "machadinho",
          "mampituba",
          "manoel viana",
          "maquine",
          "marata",
          "marau",
          "marcelino ramos",
          "mariana pimentel",
          "mariano moro",
          "marques de souza",
          "mata",
          "mato castelhano",
          "mato leitao",
          "mato queimado",
          "maximiliano de almeida",
          "minas do leao",
          "miraguai",
          "montauri",
          "monte alegre dos campos",
          "monte belo do sul",
          "montenegro",
          "mormaco",
          "morrinhos do sul",
          "morro redondo",
          "morro reuter",
          "mostardas",
          "mucum",
          "muitos capoes",
          "muliterno",
          "nao-me-toque",
          "nicolau vergueiro",
          "nonoai",
          "nova alvorada",
          "nova araca",
          "nova bassano",
          "nova boa vista",
          "nova brescia",
          "nova candelaria",
          "nova esperanca do sul",
          "nova hartz",
          "nova padua",
          "nova palma",
          "nova petropolis",
          "nova prata",
          "nova ramada",
          "nova roma do sul",
          "nova santa rita",
          "novo barreiro",
          "novo cabrais",
          "novo hamburgo",
          "novo machado",
          "novo tiradentes",
          "novo xingu",
          "osorio",
          "paim filho",
          "palmares do sul",
          "palmeira das missoes",
          "palmitinho",
          "panambi",
          "pantano grande",
          "parai",
          "paraiso do sul",
          "pareci novo",
          "parobe",
          "passa sete",
          "passo do sobrado",
          "passo fundo",
          "paulo bento",
          "paverama",
          "pedras altas",
          "pedro osorio",
          "pejucara",
          "pelotas",
          "picada cafe",
          "pinhal",
          "pinhal da serra",
          "pinhal grande",
          "pinheirinho do vale",
          "pinheiro machado",
          "pinto bandeira",
          "pirapo",
          "piratini",
          "planalto",
          "poco das antas",
          "pontao",
          "ponte preta",
          "portao",
          "porto alegre",
          "porto lucena",
          "porto maua",
          "porto vera cruz",
          "porto xavier",
          "pouso novo",
          "presidente lucena",
          "progresso",
          "protasio alves",
          "putinga",
          "quarai",
          "quatro irmaos",
          "quevedos",
          "quinze de novembro",
          "redentora",
          "relvado",
          "restinga seca",
          "rio dos indios",
          "rio grande",
          "rio pardo",
          "riozinho",
          "roca sales",
          "rodeio bonito",
          "rolador",
          "rolante",
          "ronda alta",
          "rondinha",
          "roque gonzales",
          "rosario do sul",
          "sagrada familia",
          "saldanha marinho",
          "salto do jacui",
          "salvador das missoes",
          "salvador do sul",
          "sananduva",
          "santa barbara do sul",
          "santa cecilia do sul",
          "santa clara do sul",
          "santa cruz do sul",
          "santa margarida do sul",
          "santa maria",
          "santa maria do herval",
          "santa rosa",
          "santa tereza",
          "santa vitoria do palmar",
          "santana da boa vista",
          "santana do livramento",
          "santiago",
          "santo angelo",
          "santo antonio da patrulha",
          "santo antonio das missoes",
          "santo antonio do palma",
          "santo antonio do planalto",
          "santo augusto",
          "santo cristo",
          "santo expedito do sul",
          "sao borja",
          "sao domingos do sul",
          "sao francisco de assis",
          "sao francisco de paula",
          "sao gabriel",
          "sao jeronimo",
          "sao joao da urtiga",
          "sao joao do polesine",
          "sao jorge",
          "sao jose das missoes",
          "sao jose do herval",
          "sao jose do hortencio",
          "sao jose do inhacora",
          "sao jose do norte",
          "sao jose do ouro",
          "sao jose do sul",
          "sao jose dos ausentes",
          "sao leopoldo",
          "sao lourenco do sul",
          "sao luiz gonzaga",
          "sao marcos",
          "sao martinho",
          "sao martinho da serra",
          "sao miguel das missoes",
          "sao nicolau",
          "sao paulo das missoes",
          "sao pedro da serra",
          "sao pedro das missoes",
          "sao pedro do butia",
          "sao pedro do sul",
          "sao sebastiao do cai",
          "sao sepe",
          "sao valentim",
          "sao valentim do sul",
          "sao valerio do sul",
          "sao vendelino",
          "sao vicente do sul",
          "sapiranga",
          "sapucaia do sul",
          "sarandi",
          "seberi",
          "sede nova",
          "segredo",
          "selbach",
          "senador salgado filho",
          "sentinela do sul",
          "serafina correa",
          "serio",
          "sertao",
          "sertao santana",
          "sete de setembro",
          "severiano de almeida",
          "silveira martins",
          "sinimbu",
          "sobradinho",
          "soledade",
          "tabai",
          "tapejara",
          "tapera",
          "tapes",
          "taquara",
          "taquari",
          "taquarucu do sul",
          "tavares",
          "tenente portela",
          "terra de areia",
          "teutonia",
          "tio hugo",
          "tiradentes do sul",
          "toropi",
          "torres",
          "tramandai",
          "travesseiro",
          "tres arroios",
          "tres cachoeiras",
          "tres coroas",
          "tres de maio",
          "tres forquilhas",
          "tres palmeiras",
          "tres passos",
          "trindade do sul",
          "triunfo",
          "tucunduva",
          "tunas",
          "tupanci do sul",
          "tupancireta",
          "tupandi",
          "tuparendi",
          "turucu",
          "ubiretama",
          "uniao da serra",
          "unistalda",
          "uruguaiana",
          "vacaria",
          "vale do sol",
          "vale real",
          "vale verde",
          "vanini",
          "venancio aires",
          "vera cruz",
          "veranopolis",
          "vespasiano correa",
          "viadutos",
          "viamao",
          "vicente dutra",
          "victor graeff",
          "vila flores",
          "vila langaro",
          "vila maria",
          "vila nova do sul",
          "vista alegre",
          "vista alegre do prata",
          "vista gaucha",
          "vitoria das missoes",
          "westfalia",
          "xangri-la",
          "acegua",
          "agua santa",
          "agudo",
          "ajuricaba",
          "alecrim",
          "alegrete",
          "alegria",
          "almirante tamandare do sul",
          "alpestre",
          "alto alegre",
          "alto feliz",
          "alvorada",
          "amaral ferrador",
          "ametista do sul",
          "andre da rocha",
          "anta gorda",
          "antonio prado",
          "arambare",
          "ararica",
          "aratiba",
          "arroio do meio",
          "arroio do padre",
          "arroio do sal",
          "arroio do tigre",
          "arroio dos ratos",
          "arroio grande",
          "arvorezinha",
          "augusto pestana",
          "aurea",
          "bage",
          "balneario pinhal",
          "barao",
          "barao de cotegipe",
          "barao do triunfo",
          "barra do guarita",
          "barra do quarai",
          "barra do ribeiro",
          "barra do rio azul",
          "barra funda",
          "barracao",
          "barros cassal",
          "benjamin constant do sul",
          "bento goncalves",
          "boa vista das missoes",
          "boa vista do burica",
          "boa vista do cadeado",
          "boa vista do incra",
          "boa vista do sul",
          "bom jesus",
          "bom principio",
          "bom progresso",
          "bom retiro do sul",
          "boqueirao do leao",
          "bossoroca",
          "bozano",
          "braga",
          "brochier",
          "butia",
          "cacapava do sul",
          "cacequi",
          "cachoeira do sul",
          "cachoeirinha",
          "cacique doble",
          "caibate",
          "caicara",
          "camaqua",
          "camargo",
          "cambara do sul",
          "campestre da serra",
          "campina das missoes",
          "campinas do sul",
          "campo bom",
          "campo novo",
          "campos borges",
          "candelaria",
          "candido godoi",
          "candiota",
          "canela",
          "cangucu",
          "canoas",
          "canudos do vale",
          "capao bonito do sul",
          "capao da canoa",
          "capao do cipo",
          "capao do leao",
          "capela de santana",
          "capitao",
          "capivari do sul",
          "caraa",
          "carazinho",
          "carlos barbosa",
          "carlos gomes",
          "casca",
          "caseiros",
          "catuipe",
          "caxias do sul",
          "centenario",
          "cerrito",
          "cerro branco",
          "cerro grande",
          "cerro grande do sul",
          "cerro largo",
          "chapada",
          "charqueadas",
          "charrua",
          "chiapetta",
          "chui",
          "chuvisca",
          "cidreira",
          "ciriaco",
          "colinas",
          "colorado",
          "condor",
          "constantina",
          "coqueiro baixo",
          "coqueiros do sul",
          "coronel barros",
          "coronel bicaco",
          "coronel pilar",
          "cotipora",
          "coxilha",
          "crissiumal",
          "cristal",
          "cristal do sul",
          "cruz alta",
          "cruzaltense",
          "cruzeiro do sul",
          "david canabarro",
          "derrubadas",
          "dezesseis de novembro",
          "dilermando de aguiar",
          "dois irmaos",
          "dois irmaos das missoes",
          "dois lajeados",
          "dom feliciano",
          "dom pedrito",
          "dom pedro de alcantara",
          "dona francisca",
          "doutor ricardo",
          "dr mauricio cardoso",
          "eldorado do sul",
          "encantado",
          "encruzilhada do sul",
          "engenho velho",
          "entre ijuis",
          "entre rios do sul",
          "erebango",
          "erechim",
          "ernestina",
          "erval grande",
          "erval seco",
          "esmeralda",
          "esperanca do sul",
          "espumoso",
          "estacao",
          "estancia velha",
          "esteio",
          "estrela",
          "estrela velha",
          "eugenio de castro",
          "fagundes varela",
          "farroupilha",
          "faxinal do soturno",
          "faxinalzinho",
          "fazenda vila nova",
          "feliz",
          "flores da cunha",
          "floriano peixoto",
          "fontoura xavier",
          "formigueiro",
          "forquetinha",
          "fortaleza dos valos",
          "frederico westphalen",
          "garibaldi",
          "garruchos",
          "gaurama",
          "general camara",
          "gentil",
          "getulio vargas",
          "girua",
          "glorinha",
          "gramado",
          "gramado dos loureiros",
          "gramado xavier",
          "gravatai",
          "guabiju",
          "guaiba",
          "guapore",
          "guarani das missoes",
          "harmonia",
          "herval",
          "herveiras",
          "horizontina",
          "hulha negra",
          "humaita",
          "ibarama",
          "ibiaca",
          "ibiraiaras",
          "ibirapuita",
          "ibiruba",
          "igrejinha",
          "ijui",
          "ilopolis",
          "imbe",
          "imigrante",
          "independencia",
          "inhacora",
          "ipe",
          "ipiranga do sul",
          "irai",
          "itaara",
          "itacurubi",
          "itapuca",
          "itaqui",
          "itati",
          "itatiba do sul",
          "ivora",
          "ivoti",
          "jaboticaba",
          "jacuizinho",
          "jacutinga",
          "jaguarao",
          "jaguari",
          "jaquirana",
          "jari",
          "joia",
          "julio de castilhos",
          "lagoa bonita do sul",
          "lagoa dos tres cantos",
          "lagoa vermelha",
          "lagoao",
          "lajeado",
          "lajeado do bugre",
          "lavras do sul",
          "liberato salzano",
          "lindolfo collor",
          "linha nova",
          "macambara",
          "machadinho",
          "mampituba",
          "manoel viana",
          "maquine",
          "marata",
          "marau",
          "marcelino ramos",
          "mariana pimentel",
          "mariano moro",
          "marques de souza",
          "mata",
          "mato castelhano",
          "mato leitao",
          "mato queimado",
          "maximiliano de almeida",
          "minas do leao",
          "miraguai",
          "montauri",
          "monte alegre dos campos",
          "monte belo do sul",
          "montenegro",
          "mormaco",
          "morrinhos do sul",
          "morro redondo",
          "morro reuter",
          "mostardas",
          "mucum",
          "muitos capoes",
          "muliterno",
          "nao-me-toque",
          "nicolau vergueiro",
          "nonoai",
          "nova alvorada",
          "nova araca",
          "nova bassano",
          "nova boa vista",
          "nova brescia",
          "nova candelaria",
          "nova esperanca do sul",
          "nova hartz",
          "nova padua",
          "nova palma",
          "nova petropolis",
          "nova prata",
          "nova ramada",
          "nova roma do sul",
          "nova santa rita",
          "novo barreiro",
          "novo cabrais",
          "novo hamburgo",
          "novo machado",
          "novo tiradentes",
          "novo xingu",
          "osorio",
          "paim filho",
          "palmares do sul",
          "palmeira das missoes",
          "palmitinho",
          "panambi",
          "pantano grande",
          "parai",
          "paraiso do sul",
          "pareci novo",
          "parobe",
          "passa sete",
          "passo do sobrado",
          "passo fundo",
          "paulo bento",
          "paverama",
          "pedras altas",
          "pedro osorio",
          "pejucara",
          "pelotas",
          "picada cafe",
          "pinhal",
          "pinhal da serra",
          "pinhal grande",
          "pinheirinho do vale",
          "pinheiro machado",
          "pinto bandeira",
          "pirapo",
          "piratini",
          "planalto",
          "poco das antas",
          "pontao",
          "ponte preta",
          "portao",
          "porto alegre",
          "porto lucena",
          "porto maua",
          "porto vera cruz",
          "porto xavier",
          "pouso novo",
          "presidente lucena",
          "progresso",
          "protasio alves",
          "putinga",
          "quarai",
          "quatro irmaos",
          "quevedos",
          "quinze de novembro",
          "redentora",
          "relvado",
          "restinga seca",
          "rio dos indios",
          "rio grande",
          "rio pardo",
          "riozinho",
          "roca sales",
          "rodeio bonito",
          "rolador",
          "rolante",
          "ronda alta",
          "rondinha",
          "roque gonzales",
          "rosario do sul",
          "sagrada familia",
          "saldanha marinho",
          "salto do jacui",
          "salvador das missoes",
          "salvador do sul",
          "sananduva",
          "santa barbara do sul",
          "santa cecilia do sul",
          "santa clara do sul",
          "santa cruz do sul",
          "santa margarida do sul",
          "santa maria",
          "santa maria do herval",
          "santa rosa",
          "santa tereza",
          "santa vitoria do palmar",
          "santana da boa vista",
          "santana do livramento",
          "santiago",
          "santo angelo",
          "santo antonio da patrulha",
          "santo antonio das missoes",
          "santo antonio do palma",
          "santo antonio do planalto",
          "santo augusto",
          "santo cristo",
          "santo expedito do sul",
          "sao borja",
          "sao domingos do sul",
          "sao francisco de assis",
          "sao francisco de paula",
          "sao gabriel",
          "sao jeronimo",
          "sao joao da urtiga",
          "sao joao do polesine",
          "sao jorge",
          "sao jose das missoes",
          "sao jose do herval",
          "sao jose do hortencio",
          "sao jose do inhacora",
          "sao jose do norte",
          "sao jose do ouro",
          "sao jose do sul",
          "sao jose dos ausentes",
          "sao leopoldo",
          "sao lourenco do sul",
          "sao luiz gonzaga",
          "sao marcos",
          "sao martinho",
          "sao martinho da serra",
          "sao miguel das missoes",
          "sao nicolau",
          "sao paulo das missoes",
          "sao pedro da serra",
          "sao pedro das missoes",
          "sao pedro do butia",
          "sao pedro do sul",
          "sao sebastiao do cai",
          "sao sepe",
          "sao valentim",
          "sao valentim do sul",
          "sao valerio do sul",
          "sao vendelino",
          "sao vicente do sul",
          "sapiranga",
          "sapucaia do sul",
          "sarandi",
          "seberi",
          "sede nova",
          "segredo",
          "selbach",
          "senador salgado filho",
          "sentinela do sul",
          "serafina correa",
          "serio",
          "sertao",
          "sertao santana",
          "sete de setembro",
          "severiano de almeida",
          "silveira martins",
          "sinimbu",
          "sobradinho",
          "soledade",
          "tabai",
          "tapejara",
          "tapera",
          "tapes",
          "taquara",
          "taquari",
          "taquarucu do sul",
          "tavares",
          "tenente portela",
          "terra de areia",
          "teutonia",
          "tio hugo",
          "tiradentes do sul",
          "toropi",
          "torres",
          "tramandai",
          "travesseiro",
          "tres arroios",
          "tres cachoeiras",
          "tres coroas",
          "tres de maio",
          "tres forquilhas",
          "tres palmeiras",
          "tres passos",
          "trindade do sul",
          "triunfo",
          "tucunduva",
          "tunas",
          "tupanci do sul",
          "tupancireta",
          "tupandi",
          "tuparendi",
          "turucu",
          "ubiretama",
          "uniao da serra",
          "unistalda",
          "uruguaiana",
          "vacaria",
          "vale do sol",
          "vale real",
          "vale verde",
          "vanini",
          "venancio aires",
          "vera cruz",
          "veranopolis",
          "vespasiano correa",
          "viadutos",
          "viamao",
          "vicente dutra",
          "victor graeff",
          "vila flores",
          "vila langaro",
          "vila maria",
          "vila nova do sul",
          "vista alegre",
          "vista alegre do prata",
          "vista gaucha",
          "vitoria das missoes",
          "westfalia",
          "xangri-la",
          "acegua",
          "agua santa",
          "agudo",
          "ajuricaba",
          "alecrim",
          "alegrete",
          "alegria",
          "almirante tamandare do sul",
          "alpestre",
          "alto alegre",
          "alto feliz",
          "alvorada",
          "amaral ferrador",
          "ametista do sul",
          "andre da rocha",
          "anta gorda",
          "antonio prado",
          "arambare",
          "ararica",
          "aratiba",
          "arroio do meio",
          "arroio do padre",
          "arroio do sal",
          "arroio do tigre",
          "arroio dos ratos",
          "arroio grande",
          "arvorezinha",
          "augusto pestana",
          "aurea",
          "bage",
          "balneario pinhal",
          "barao",
          "barao de cotegipe",
          "barao do triunfo",
          "barra do guarita",
          "barra do quarai",
          "barra do ribeiro",
          "barra do rio azul",
          "barra funda",
          "barracao",
          "barros cassal",
          "benjamin constant do sul",
          "bento goncalves",
          "boa vista das missoes",
          "boa vista do burica",
          "boa vista do cadeado",
          "boa vista do incra",
          "boa vista do sul",
          "bom jesus",
          "bom principio",
          "bom progresso",
          "bom retiro do sul",
          "boqueirao do leao",
          "bossoroca",
          "bozano",
          "braga",
          "brochier",
          "butia",
          "cacapava do sul",
          "cacequi",
          "cachoeira do sul",
          "cachoeirinha",
          "cacique doble",
          "caibate",
          "caicara",
          "camaqua",
          "camargo",
          "cambara do sul",
          "campestre da serra",
          "campina das missoes",
          "campinas do sul",
          "campo bom",
          "campo novo",
          "campos borges",
          "candelaria",
          "candido godoi",
          "candiota",
          "canela",
          "cangucu",
          "canoas",
          "canudos do vale",
          "capao bonito do sul",
          "capao da canoa",
          "capao do cipo",
          "capao do leao",
          "capela de santana",
          "capitao",
          "capivari do sul",
          "caraa",
          "carazinho",
          "carlos barbosa",
          "carlos gomes",
          "casca",
          "caseiros",
          "catuipe",
          "caxias do sul",
          "centenario",
          "cerrito",
          "cerro branco",
          "cerro grande",
          "cerro grande do sul",
          "cerro largo",
          "chapada",
          "charqueadas",
          "charrua",
          "chiapetta",
          "chui",
          "chuvisca",
          "cidreira",
          "ciriaco",
          "colinas",
          "colorado",
          "condor",
          "constantina",
          "coqueiro baixo",
          "coqueiros do sul",
          "coronel barros",
          "coronel bicaco",
          "coronel pilar",
          "cotipora",
          "coxilha",
          "crissiumal",
          "cristal",
          "cristal do sul",
          "cruz alta",
          "cruzaltense",
          "cruzeiro do sul",
          "david canabarro",
          "derrubadas",
          "dezesseis de novembro",
          "dilermando de aguiar",
          "dois irmaos",
          "dois irmaos das missoes",
          "dois lajeados",
          "dom feliciano",
          "dom pedrito",
          "dom pedro de alcantara",
          "dona francisca",
          "doutor ricardo",
          "dr mauricio cardoso",
          "eldorado do sul",
          "encantado",
          "encruzilhada do sul",
          "engenho velho",
          "entre ijuis",
          "entre rios do sul",
          "erebango",
          "erechim",
          "ernestina",
          "erval grande",
          "erval seco",
          "esmeralda",
          "esperanca do sul",
          "espumoso",
          "estacao",
          "estancia velha",
          "esteio",
          "estrela",
          "estrela velha",
          "eugenio de castro",
          "fagundes varela",
          "farroupilha",
          "faxinal do soturno",
          "faxinalzinho",
          "fazenda vila nova",
          "feliz",
          "flores da cunha",
          "floriano peixoto",
          "fontoura xavier",
          "formigueiro",
          "forquetinha",
          "fortaleza dos valos",
          "frederico westphalen",
          "garibaldi",
          "garruchos",
          "gaurama",
          "general camara",
          "gentil",
          "getulio vargas",
          "girua",
          "glorinha",
          "gramado",
          "gramado dos loureiros",
          "gramado xavier",
          "gravatai",
          "guabiju",
          "guaiba",
          "guapore",
          "guarani das missoes",
          "harmonia",
          "herval",
          "herveiras",
          "horizontina",
          "hulha negra",
          "humaita",
          "ibarama",
          "ibiaca",
          "ibiraiaras",
          "ibirapuita",
          "ibiruba",
          "igrejinha",
          "ijui",
          "ilopolis",
          "imbe",
          "imigrante",
          "independencia",
          "inhacora",
          "ipe",
          "ipiranga do sul",
          "irai",
          "itaara",
          "itacurubi",
          "itapuca",
          "itaqui",
          "itati",
          "itatiba do sul",
          "ivora",
          "ivoti",
          "jaboticaba",
          "jacuizinho",
          "jacutinga",
          "jaguarao",
          "jaguari",
          "jaquirana",
          "jari",
          "joia",
          "julio de castilhos",
          "lagoa bonita do sul",
          "lagoa dos tres cantos",
          "lagoa vermelha",
          "lagoao",
          "lajeado",
          "lajeado do bugre",
          "lavras do sul",
          "liberato salzano",
          "lindolfo collor",
          "linha nova",
          "macambara",
          "machadinho",
          "mampituba",
          "manoel viana",
          "maquine",
          "marata",
          "marau",
          "marcelino ramos",
          "mariana pimentel",
          "mariano moro",
          "marques de souza",
          "mata",
          "mato castelhano",
          "mato leitao",
          "mato queimado",
          "maximiliano de almeida",
          "minas do leao",
          "miraguai",
          "montauri",
          "monte alegre dos campos",
          "monte belo do sul",
          "montenegro",
          "mormaco",
          "morrinhos do sul",
          "morro redondo",
          "morro reuter",
          "mostardas",
          "mucum",
          "muitos capoes",
          "muliterno",
          "nao-me-toque",
          "nicolau vergueiro",
          "nonoai",
          "nova alvorada",
          "nova araca",
          "nova bassano",
          "nova boa vista",
          "nova brescia",
          "nova candelaria",
          "nova esperanca do sul",
          "nova hartz",
          "nova padua",
          "nova palma",
          "nova petropolis",
          "nova prata",
          "nova ramada",
          "nova roma do sul",
          "nova santa rita",
          "novo barreiro",
          "novo cabrais",
          "novo hamburgo",
          "novo machado",
          "novo tiradentes",
          "novo xingu",
          "osorio",
          "paim filho",
          "palmares do sul",
          "palmeira das missoes",
          "palmitinho",
          "panambi",
          "pantano grande",
          "parai",
          "paraiso do sul",
          "pareci novo",
          "parobe",
          "passa sete",
          "passo do sobrado",
          "passo fundo",
          "paulo bento",
          "paverama",
          "pedras altas",
          "pedro osorio",
          "pejucara",
          "pelotas",
          "picada cafe",
          "pinhal",
          "pinhal da serra",
          "pinhal grande",
          "pinheirinho do vale",
          "pinheiro machado",
          "pinto bandeira",
          "pirapo",
          "piratini",
          "planalto",
          "poco das antas",
          "pontao",
          "ponte preta",
          "portao",
          "porto alegre",
          "porto lucena",
          "porto maua",
          "porto vera cruz",
          "porto xavier",
          "pouso novo",
          "presidente lucena",
          "progresso",
          "protasio alves",
          "putinga",
          "quarai",
          "quatro irmaos",
          "quevedos",
          "quinze de novembro",
          "redentora",
          "relvado",
          "restinga seca",
          "rio dos indios",
          "rio grande",
          "rio pardo",
          "riozinho",
          "roca sales",
          "rodeio bonito",
          "rolador",
          "rolante",
          "ronda alta",
          "rondinha",
          "roque gonzales",
          "rosario do sul",
          "sagrada familia",
          "saldanha marinho",
          "salto do jacui",
          "salvador das missoes",
          "salvador do sul",
          "sananduva",
          "santa barbara do sul",
          "santa cecilia do sul",
          "santa clara do sul",
          "santa cruz do sul",
          "santa margarida do sul",
          "santa maria",
          "santa maria do herval",
          "santa rosa",
          "santa tereza",
          "santa vitoria do palmar",
          "santana da boa vista",
          "santana do livramento",
          "santiago",
          "santo angelo",
          "santo antonio da patrulha",
          "santo antonio das missoes",
          "santo antonio do palma",
          "santo antonio do planalto",
          "santo augusto",
          "santo cristo",
          "santo expedito do sul",
          "sao borja",
          "sao domingos do sul",
          "sao francisco de assis",
          "sao francisco de paula",
          "sao gabriel",
          "sao jeronimo",
          "sao joao da urtiga",
          "sao joao do polesine",
          "sao jorge",
          "sao jose das missoes",
          "sao jose do herval",
          "sao jose do hortencio",
          "sao jose do inhacora",
          "sao jose do norte",
          "sao jose do ouro",
          "sao jose do sul",
          "sao jose dos ausentes",
          "sao leopoldo",
          "sao lourenco do sul",
          "sao luiz gonzaga",
          "sao marcos",
          "sao martinho",
          "sao martinho da serra",
          "sao miguel das missoes",
          "sao nicolau",
          "sao paulo das missoes",
          "sao pedro da serra",
          "sao pedro das missoes",
          "sao pedro do butia",
          "sao pedro do sul",
          "sao sebastiao do cai",
          "sao sepe",
          "sao valentim",
          "sao valentim do sul",
          "sao valerio do sul",
          "sao vendelino",
          "sao vicente do sul",
          "sapiranga",
          "sapucaia do sul",
          "sarandi",
          "seberi",
          "sede nova",
          "segredo",
          "selbach",
          "senador salgado filho",
          "sentinela do sul",
          "serafina correa",
          "serio",
          "sertao",
          "sertao santana",
          "sete de setembro",
          "severiano de almeida",
          "silveira martins",
          "sinimbu",
          "sobradinho",
          "soledade",
          "tabai",
          "tapejara",
          "tapera",
          "tapes",
          "taquara",
          "taquari",
          "taquarucu do sul",
          "tavares",
          "tenente portela",
          "terra de areia",
          "teutonia",
          "tio hugo",
          "tiradentes do sul",
          "toropi",
          "torres",
          "tramandai",
          "travesseiro",
          "tres arroios",
          "tres cachoeiras",
          "tres coroas",
          "tres de maio",
          "tres forquilhas",
          "tres palmeiras",
          "tres passos",
          "trindade do sul",
          "triunfo",
          "tucunduva",
          "tunas",
          "tupanci do sul",
          "tupancireta",
          "tupandi",
          "tuparendi",
          "turucu",
          "ubiretama",
          "uniao da serra",
          "unistalda",
          "uruguaiana",
          "vacaria",
          "vale do sol",
          "vale real",
          "vale verde",
          "vanini",
          "venancio aires",
          "vera cruz",
          "veranopolis",
          "vespasiano correa",
          "viadutos",
          "viamao",
          "vicente dutra",
          "victor graeff",
          "vila flores",
          "vila langaro",
          "vila maria",
          "vila nova do sul",
          "vista alegre",
          "vista alegre do prata",
          "vista gaucha",
          "vitoria das missoes",
          "westfalia",
          "xangri-la",
          "acegua",
          "agua santa",
          "agudo",
          "ajuricaba",
          "alecrim",
          "alegrete",
          "alegria",
          "almirante tamandare do sul",
          "alpestre",
          "alto alegre",
          "alto feliz",
          "alvorada",
          "amaral ferrador",
          "ametista do sul",
          "andre da rocha",
          "anta gorda",
          "antonio prado",
          "arambare",
          "ararica",
          "aratiba",
          "arroio do meio",
          "arroio do padre",
          "arroio do sal",
          "arroio do tigre",
          "arroio dos ratos",
          "arroio grande",
          "arvorezinha",
          "augusto pestana",
          "aurea",
          "bage",
          "balneario pinhal",
          "barao",
          "barao de cotegipe",
          "barao do triunfo",
          "barra do guarita",
          "barra do quarai",
          "barra do ribeiro",
          "barra do rio azul",
          "barra funda",
          "barracao",
          "barros cassal",
          "benjamin constant do sul",
          "bento goncalves",
          "boa vista das missoes",
          "boa vista do burica",
          "boa vista do cadeado",
          "boa vista do incra",
          "boa vista do sul",
          "bom jesus",
          "bom principio",
          "bom progresso",
          "bom retiro do sul",
          "boqueirao do leao",
          "bossoroca",
          "bozano",
          "braga",
          "brochier",
          "butia",
          "cacapava do sul",
          "cacequi",
          "cachoeira do sul",
          "cachoeirinha",
          "cacique doble",
          "caibate",
          "caicara",
          "camaqua",
          "camargo",
          "cambara do sul",
          "campestre da serra",
          "campina das missoes",
          "campinas do sul",
          "campo bom",
          "campo novo",
          "campos borges",
          "candelaria",
          "candido godoi",
          "candiota",
          "canela",
          "cangucu",
          "canoas",
          "canudos do vale",
          "capao bonito do sul",
          "capao da canoa",
          "capao do cipo",
          "capao do leao",
          "capela de santana",
          "capitao",
          "capivari do sul",
          "caraa",
          "carazinho",
          "carlos barbosa",
          "carlos gomes",
          "casca",
          "caseiros",
          "catuipe",
          "caxias do sul",
          "centenario",
          "cerrito",
          "cerro branco",
          "cerro grande",
          "cerro grande do sul",
          "cerro largo",
          "chapada",
          "charqueadas",
          "charrua",
          "chiapetta",
          "chui",
          "chuvisca",
          "cidreira",
          "ciriaco",
          "colinas",
          "colorado",
          "condor",
          "constantina",
          "coqueiro baixo",
          "coqueiros do sul",
          "coronel barros",
          "coronel bicaco",
          "coronel pilar",
          "cotipora",
          "coxilha",
          "crissiumal",
          "cristal",
          "cristal do sul",
          "cruz alta",
          "cruzaltense",
          "cruzeiro do sul",
          "david canabarro",
          "derrubadas",
          "dezesseis de novembro",
          "dilermando de aguiar",
          "dois irmaos",
          "dois irmaos das missoes",
          "dois lajeados",
          "dom feliciano",
          "dom pedrito",
          "dom pedro de alcantara",
          "dona francisca",
          "doutor ricardo",
          "dr mauricio cardoso",
          "eldorado do sul",
          "encantado",
          "encruzilhada do sul",
          "engenho velho",
          "entre ijuis",
          "entre rios do sul",
          "erebango",
          "erechim",
          "ernestina",
          "erval grande",
          "erval seco",
          "esmeralda",
          "esperanca do sul",
          "espumoso",
          "estacao",
          "estancia velha",
          "esteio",
          "estrela",
          "estrela velha",
          "eugenio de castro",
          "fagundes varela",
          "farroupilha",
          "faxinal do soturno",
          "faxinalzinho",
          "fazenda vila nova",
          "feliz",
          "flores da cunha",
          "floriano peixoto",
          "fontoura xavier",
          "formigueiro",
          "forquetinha",
          "fortaleza dos valos",
          "frederico westphalen",
          "garibaldi",
          "garruchos",
          "gaurama",
          "general camara",
          "gentil",
          "getulio vargas",
          "girua",
          "glorinha",
          "gramado",
          "gramado dos loureiros",
          "gramado xavier",
          "gravatai",
          "guabiju",
          "guaiba",
          "guapore",
          "guarani das missoes",
          "harmonia",
          "herval",
          "herveiras",
          "horizontina",
          "hulha negra",
          "humaita",
          "ibarama",
          "ibiaca",
          "ibiraiaras",
          "ibirapuita",
          "ibiruba",
          "igrejinha",
          "ijui",
          "ilopolis",
          "imbe",
          "imigrante",
          "independencia",
          "inhacora",
          "ipe",
          "ipiranga do sul",
          "irai",
          "itaara",
          "itacurubi",
          "itapuca",
          "itaqui",
          "itati",
          "itatiba do sul",
          "ivora",
          "ivoti",
          "jaboticaba",
          "jacuizinho",
          "jacutinga",
          "jaguarao",
          "jaguari",
          "jaquirana",
          "jari",
          "joia",
          "julio de castilhos",
          "lagoa bonita do sul",
          "lagoa dos tres cantos",
          "lagoa vermelha",
          "lagoao",
          "lajeado",
          "lajeado do bugre",
          "lavras do sul",
          "liberato salzano",
          "lindolfo collor",
          "linha nova",
          "macambara",
          "machadinho",
          "mampituba",
          "manoel viana",
          "maquine",
          "marata",
          "marau",
          "marcelino ramos",
          "mariana pimentel",
          "mariano moro",
          "marques de souza",
          "mata",
          "mato castelhano",
          "mato leitao",
          "mato queimado",
          "maximiliano de almeida",
          "minas do leao",
          "miraguai",
          "montauri",
          "monte alegre dos campos",
          "monte belo do sul",
          "montenegro",
          "mormaco",
          "morrinhos do sul",
          "morro redondo",
          "morro reuter",
          "mostardas",
          "mucum",
          "muitos capoes",
          "muliterno",
          "nao-me-toque",
          "nicolau vergueiro",
          "nonoai",
          "nova alvorada",
          "nova araca",
          "nova bassano",
          "nova boa vista",
          "nova brescia",
          "nova candelaria",
          "nova esperanca do sul",
          "nova hartz",
          "nova padua",
          "nova palma",
          "nova petropolis",
          "nova prata",
          "nova ramada",
          "nova roma do sul",
          "nova santa rita",
          "novo barreiro",
          "novo cabrais",
          "novo hamburgo",
          "novo machado",
          "novo tiradentes",
          "novo xingu",
          "osorio",
          "paim filho",
          "palmares do sul",
          "palmeira das missoes",
          "palmitinho",
          "panambi",
          "pantano grande",
          "parai",
          "paraiso do sul",
          "pareci novo",
          "parobe",
          "passa sete",
          "passo do sobrado",
          "passo fundo",
          "paulo bento",
          "paverama",
          "pedras altas",
          "pedro osorio",
          "pejucara",
          "pelotas",
          "picada cafe",
          "pinhal",
          "pinhal da serra",
          "pinhal grande",
          "pinheirinho do vale",
          "pinheiro machado",
          "pinto bandeira",
          "pirapo",
          "piratini",
          "planalto",
          "poco das antas",
          "pontao",
          "ponte preta",
          "portao",
          "porto alegre",
          "porto lucena",
          "porto maua",
          "porto vera cruz",
          "porto xavier",
          "pouso novo",
          "presidente lucena",
          "progresso",
          "protasio alves",
          "putinga",
          "quarai",
          "quatro irmaos",
          "quevedos",
          "quinze de novembro",
          "redentora",
          "relvado",
          "restinga seca",
          "rio dos indios",
          "rio grande",
          "rio pardo",
          "riozinho",
          "roca sales",
          "rodeio bonito",
          "rolador",
          "rolante",
          "ronda alta",
          "rondinha",
          "roque gonzales",
          "rosario do sul",
          "sagrada familia",
          "saldanha marinho",
          "salto do jacui",
          "salvador das missoes",
          "salvador do sul",
          "sananduva",
          "santa barbara do sul",
          "santa cecilia do sul",
          "santa clara do sul",
          "santa cruz do sul",
          "santa margarida do sul",
          "santa maria",
          "santa maria do herval",
          "santa rosa",
          "santa tereza",
          "santa vitoria do palmar",
          "santana da boa vista",
          "santana do livramento",
          "santiago",
          "santo angelo",
          "santo antonio da patrulha",
          "santo antonio das missoes",
          "santo antonio do palma",
          "santo antonio do planalto",
          "santo augusto",
          "santo cristo",
          "santo expedito do sul",
          "sao borja",
          "sao domingos do sul",
          "sao francisco de assis",
          "sao francisco de paula",
          "sao gabriel",
          "sao jeronimo",
          "sao joao da urtiga",
          "sao joao do polesine",
          "sao jorge",
          "sao jose das missoes",
          "sao jose do herval",
          "sao jose do hortencio",
          "sao jose do inhacora",
          "sao jose do norte",
          "sao jose do ouro",
          "sao jose do sul",
          "sao jose dos ausentes",
          "sao leopoldo",
          "sao lourenco do sul",
          "sao luiz gonzaga",
          "sao marcos",
          "sao martinho",
          "sao martinho da serra",
          "sao miguel das missoes",
          "sao nicolau",
          "sao paulo das missoes",
          "sao pedro da serra",
          "sao pedro das missoes",
          "sao pedro do butia",
          "sao pedro do sul",
          "sao sebastiao do cai",
          "sao sepe",
          "sao valentim",
          "sao valentim do sul",
          "sao valerio do sul",
          "sao vendelino",
          "sao vicente do sul",
          "sapiranga",
          "sapucaia do sul",
          "sarandi",
          "seberi",
          "sede nova",
          "segredo",
          "selbach",
          "senador salgado filho",
          "sentinela do sul",
          "serafina correa",
          "serio",
          "sertao",
          "sertao santana",
          "sete de setembro",
          "severiano de almeida",
          "silveira martins",
          "sinimbu",
          "sobradinho",
          "soledade",
          "tabai",
          "tapejara",
          "tapera",
          "tapes",
          "taquara",
          "taquari",
          "taquarucu do sul",
          "tavares",
          "tenente portela",
          "terra de areia",
          "teutonia",
          "tio hugo",
          "tiradentes do sul",
          "toropi",
          "torres",
          "tramandai",
          "travesseiro",
          "tres arroios",
          "tres cachoeiras",
          "tres coroas",
          "tres de maio",
          "tres forquilhas",
          "tres palmeiras",
          "tres passos",
          "trindade do sul",
          "triunfo",
          "tucunduva",
          "tunas",
          "tupanci do sul",
          "tupancireta",
          "tupandi",
          "tuparendi",
          "turucu",
          "ubiretama",
          "uniao da serra",
          "unistalda",
          "uruguaiana",
          "vacaria",
          "vale do sol",
          "vale real",
          "vale verde",
          "vanini",
          "venancio aires",
          "vera cruz",
          "veranopolis",
          "vespasiano correa",
          "viadutos",
          "viamao",
          "vicente dutra",
          "victor graeff",
          "vila flores",
          "vila langaro",
          "vila maria",
          "vila nova do sul",
          "vista alegre",
          "vista alegre do prata",
          "vista gaucha",
          "vitoria das missoes",
          "westfalia",
          "xangri-la",
          "acegua",
          "agua santa",
          "agudo",
          "ajuricaba",
          "alecrim",
          "alegrete",
          "alegria",
          "almirante tamandare do sul",
          "alpestre",
          "alto alegre",
          "alto feliz",
          "alvorada",
          "amaral ferrador",
          "ametista do sul",
          "andre da rocha",
          "anta gorda",
          "antonio prado",
          "arambare",
          "ararica",
          "aratiba",
          "arroio do meio",
          "arroio do padre",
          "arroio do sal",
          "arroio do tigre",
          "arroio dos ratos",
          "arroio grande",
          "arvorezinha",
          "augusto pestana",
          "aurea",
          "bage",
          "balneario pinhal",
          "barao",
          "barao de cotegipe",
          "barao do triunfo",
          "barra do guarita",
          "barra do quarai",
          "barra do ribeiro",
          "barra do rio azul",
          "barra funda",
          "barracao",
          "barros cassal",
          "benjamin constant do sul",
          "bento goncalves",
          "boa vista das missoes",
          "boa vista do burica",
          "boa vista do cadeado",
          "boa vista do incra",
          "boa vista do sul",
          "bom jesus",
          "bom principio",
          "bom progresso",
          "bom retiro do sul",
          "boqueirao do leao",
          "bossoroca",
          "bozano",
          "braga",
          "brochier",
          "butia",
          "cacapava do sul",
          "cacequi",
          "cachoeira do sul",
          "cachoeirinha",
          "cacique doble",
          "caibate",
          "caicara",
          "camaqua",
          "camargo",
          "cambara do sul",
          "campestre da serra",
          "campina das missoes",
          "campinas do sul",
          "campo bom",
          "campo novo",
          "campos borges",
          "candelaria",
          "candido godoi",
          "candiota",
          "canela",
          "cangucu",
          "canoas",
          "canudos do vale",
          "capao bonito do sul",
          "capao da canoa",
          "capao do cipo",
          "capao do leao",
          "capela de santana",
          "capitao",
          "capivari do sul",
          "caraa",
          "carazinho",
          "carlos barbosa",
          "carlos gomes",
          "casca",
          "caseiros",
          "catuipe",
          "caxias do sul",
          "centenario",
          "cerrito",
          "cerro branco",
          "cerro grande",
          "cerro grande do sul",
          "cerro largo",
          "chapada",
          "charqueadas",
          "charrua",
          "chiapetta",
          "chui",
          "chuvisca",
          "cidreira",
          "ciriaco",
          "colinas",
          "colorado",
          "condor",
          "constantina",
          "coqueiro baixo",
          "coqueiros do sul",
          "coronel barros",
          "coronel bicaco",
          "coronel pilar",
          "cotipora",
          "coxilha",
          "crissiumal",
          "cristal",
          "cristal do sul",
          "cruz alta",
          "cruzaltense",
          "cruzeiro do sul",
          "david canabarro",
          "derrubadas",
          "dezesseis de novembro",
          "dilermando de aguiar",
          "dois irmaos",
          "dois irmaos das missoes",
          "dois lajeados",
          "dom feliciano",
          "dom pedrito",
          "dom pedro de alcantara",
          "dona francisca",
          "doutor ricardo",
          "dr mauricio cardoso",
          "eldorado do sul",
          "encantado",
          "encruzilhada do sul",
          "engenho velho",
          "entre ijuis",
          "entre rios do sul",
          "erebango",
          "erechim",
          "ernestina",
          "erval grande",
          "erval seco",
          "esmeralda",
          "esperanca do sul",
          "espumoso",
          "estacao",
          "estancia velha",
          "esteio",
          "estrela",
          "estrela velha",
          "eugenio de castro",
          "fagundes varela",
          "farroupilha",
          "faxinal do soturno",
          "faxinalzinho",
          "fazenda vila nova",
          "feliz",
          "flores da cunha",
          "floriano peixoto",
          "fontoura xavier",
          "formigueiro",
          "forquetinha",
          "fortaleza dos valos",
          "frederico westphalen",
          "garibaldi",
          "garruchos",
          "gaurama",
          "general camara",
          "gentil",
          "getulio vargas",
          "girua",
          "glorinha",
          "gramado",
          "gramado dos loureiros",
          "gramado xavier",
          "gravatai",
          "guabiju",
          "guaiba",
          "guapore",
          "guarani das missoes",
          "harmonia",
          "herval",
          "herveiras",
          "horizontina",
          "hulha negra",
          "humaita",
          "ibarama",
          "ibiaca",
          "ibiraiaras",
          "ibirapuita",
          "ibiruba",
          "igrejinha",
          "ijui",
          "ilopolis",
          "imbe",
          "imigrante",
          "independencia",
          "inhacora",
          "ipe",
          "ipiranga do sul",
          "irai",
          "itaara",
          "itacurubi",
          "itapuca",
          "itaqui",
          "itati",
          "itatiba do sul",
          "ivora",
          "ivoti",
          "jaboticaba",
          "jacuizinho",
          "jacutinga",
          "jaguarao",
          "jaguari",
          "jaquirana",
          "jari",
          "joia",
          "julio de castilhos",
          "lagoa bonita do sul",
          "lagoa dos tres cantos",
          "lagoa vermelha",
          "lagoao",
          "lajeado",
          "lajeado do bugre",
          "lavras do sul",
          "liberato salzano",
          "lindolfo collor",
          "linha nova",
          "macambara",
          "machadinho",
          "mampituba",
          "manoel viana",
          "maquine",
          "marata",
          "marau",
          "marcelino ramos",
          "mariana pimentel",
          "mariano moro",
          "marques de souza",
          "mata",
          "mato castelhano",
          "mato leitao",
          "mato queimado",
          "maximiliano de almeida",
          "minas do leao",
          "miraguai",
          "montauri",
          "monte alegre dos campos",
          "monte belo do sul",
          "montenegro",
          "mormaco",
          "morrinhos do sul",
          "morro redondo",
          "morro reuter",
          "mostardas",
          "mucum",
          "muitos capoes",
          "muliterno",
          "nao-me-toque",
          "nicolau vergueiro",
          "nonoai",
          "nova alvorada",
          "nova araca",
          "nova bassano",
          "nova boa vista",
          "nova brescia",
          "nova candelaria",
          "nova esperanca do sul",
          "nova hartz",
          "nova padua",
          "nova palma",
          "nova petropolis",
          "nova prata",
          "nova ramada",
          "nova roma do sul",
          "nova santa rita",
          "novo barreiro",
          "novo cabrais",
          "novo hamburgo",
          "novo machado",
          "novo tiradentes",
          "novo xingu",
          "osorio",
          "paim filho",
          "palmares do sul",
          "palmeira das missoes",
          "palmitinho",
          "panambi",
          "pantano grande",
          "parai",
          "paraiso do sul",
          "pareci novo",
          "parobe",
          "passa sete",
          "passo do sobrado",
          "passo fundo",
          "paulo bento",
          "paverama",
          "pedras altas",
          "pedro osorio",
          "pejucara",
          "pelotas",
          "picada cafe",
          "pinhal",
          "pinhal da serra",
          "pinhal grande",
          "pinheirinho do vale",
          "pinheiro machado",
          "pinto bandeira",
          "pirapo",
          "piratini",
          "planalto",
          "poco das antas",
          "pontao",
          "ponte preta",
          "portao",
          "porto alegre",
          "porto lucena",
          "porto maua",
          "porto vera cruz",
          "porto xavier",
          "pouso novo",
          "presidente lucena",
          "progresso",
          "protasio alves",
          "putinga",
          "quarai",
          "quatro irmaos",
          "quevedos",
          "quinze de novembro",
          "redentora",
          "relvado",
          "restinga seca",
          "rio dos indios",
          "rio grande",
          "rio pardo",
          "riozinho",
          "roca sales",
          "rodeio bonito",
          "rolador",
          "rolante",
          "ronda alta",
          "rondinha",
          "roque gonzales",
          "rosario do sul",
          "sagrada familia",
          "saldanha marinho",
          "salto do jacui",
          "salvador das missoes",
          "salvador do sul",
          "sananduva",
          "santa barbara do sul",
          "santa cecilia do sul",
          "santa clara do sul",
          "santa cruz do sul",
          "santa margarida do sul",
          "santa maria",
          "santa maria do herval",
          "santa rosa",
          "santa tereza",
          "santa vitoria do palmar",
          "santana da boa vista",
          "santana do livramento",
          "santiago",
          "santo angelo",
          "santo antonio da patrulha",
          "santo antonio das missoes",
          "santo antonio do palma",
          "santo antonio do planalto",
          "santo augusto",
          "santo cristo",
          "santo expedito do sul",
          "sao borja",
          "sao domingos do sul",
          "sao francisco de assis",
          "sao francisco de paula",
          "sao gabriel",
          "sao jeronimo",
          "sao joao da urtiga",
          "sao joao do polesine",
          "sao jorge",
          "sao jose das missoes",
          "sao jose do herval",
          "sao jose do hortencio",
          "sao jose do inhacora",
          "sao jose do norte",
          "sao jose do ouro",
          "sao jose do sul",
          "sao jose dos ausentes",
          "sao leopoldo",
          "sao lourenco do sul",
          "sao luiz gonzaga",
          "sao marcos",
          "sao martinho",
          "sao martinho da serra",
          "sao miguel das missoes",
          "sao nicolau",
          "sao paulo das missoes",
          "sao pedro da serra",
          "sao pedro das missoes",
          "sao pedro do butia",
          "sao pedro do sul",
          "sao sebastiao do cai",
          "sao sepe",
          "sao valentim",
          "sao valentim do sul",
          "sao valerio do sul",
          "sao vendelino",
          "sao vicente do sul",
          "sapiranga",
          "sapucaia do sul",
          "sarandi",
          "seberi",
          "sede nova",
          "segredo",
          "selbach",
          "senador salgado filho",
          "sentinela do sul",
          "serafina correa",
          "serio",
          "sertao",
          "sertao santana",
          "sete de setembro",
          "severiano de almeida",
          "silveira martins",
          "sinimbu",
          "sobradinho",
          "soledade",
          "tabai",
          "tapejara",
          "tapera",
          "tapes",
          "taquara",
          "taquari",
          "taquarucu do sul",
          "tavares",
          "tenente portela",
          "terra de areia",
          "teutonia",
          "tio hugo",
          "tiradentes do sul",
          "toropi",
          "torres",
          "tramandai",
          "travesseiro",
          "tres arroios",
          "tres cachoeiras",
          "tres coroas",
          "tres de maio",
          "tres forquilhas",
          "tres palmeiras",
          "tres passos",
          "trindade do sul",
          "triunfo",
          "tucunduva",
          "tunas",
          "tupanci do sul",
          "tupancireta",
          "tupandi",
          "tuparendi",
          "turucu",
          "ubiretama",
          "uniao da serra",
          "unistalda",
          "uruguaiana",
          "vacaria",
          "vale do sol",
          "vale real",
          "vale verde",
          "vanini",
          "venancio aires",
          "vera cruz",
          "veranopolis",
          "vespasiano correa",
          "viadutos",
          "viamao",
          "vicente dutra",
          "victor graeff",
          "vila flores",
          "vila langaro",
          "vila maria",
          "vila nova do sul",
          "vista alegre",
          "vista alegre do prata",
          "vista gaucha",
          "vitoria das missoes",
          "westfalia",
          "xangri-la",
          "acegua",
          "agua santa",
          "agudo",
          "ajuricaba",
          "alecrim",
          "alegrete",
          "alegria",
          "almirante tamandare do sul",
          "alpestre",
          "alto alegre",
          "alto feliz",
          "alvorada",
          "amaral ferrador",
          "ametista do sul",
          "andre da rocha",
          "anta gorda",
          "antonio prado",
          "arambare",
          "ararica",
          "aratiba",
          "arroio do meio",
          "arroio do padre",
          "arroio do sal",
          "arroio do tigre",
          "arroio dos ratos",
          "arroio grande",
          "arvorezinha",
          "augusto pestana",
          "aurea",
          "bage",
          "balneario pinhal",
          "barao",
          "barao de cotegipe",
          "barao do triunfo",
          "barra do guarita",
          "barra do quarai",
          "barra do ribeiro",
          "barra do rio azul",
          "barra funda",
          "barracao",
          "barros cassal",
          "benjamin constant do sul",
          "bento goncalves",
          "boa vista das missoes",
          "boa vista do burica",
          "boa vista do cadeado",
          "boa vista do incra",
          "boa vista do sul",
          "bom jesus",
          "bom principio",
          "bom progresso",
          "bom retiro do sul",
          "boqueirao do leao",
          "bossoroca",
          "bozano",
          "braga",
          "brochier",
          "butia",
          "cacapava do sul",
          "cacequi",
          "cachoeira do sul",
          "cachoeirinha",
          "cacique doble",
          "caibate",
          "caicara",
          "camaqua",
          "camargo",
          "cambara do sul",
          "campestre da serra",
          "campina das missoes",
          "campinas do sul",
          "campo bom",
          "campo novo",
          "campos borges",
          "candelaria",
          "candido godoi",
          "candiota",
          "canela",
          "cangucu",
          "canoas",
          "canudos do vale",
          "capao bonito do sul",
          "capao da canoa",
          "capao do cipo",
          "capao do leao",
          "capela de santana",
          "capitao",
          "capivari do sul",
          "caraa",
          "carazinho",
          "carlos barbosa",
          "carlos gomes",
          "casca",
          "caseiros",
          "catuipe",
          "caxias do sul",
          "centenario",
          "cerrito",
          "cerro branco",
          "cerro grande",
          "cerro grande do sul",
          "cerro largo",
          "chapada",
          "charqueadas",
          "charrua",
          "chiapetta",
          "chui",
          "chuvisca",
          "cidreira",
          "ciriaco",
          "colinas",
          "colorado",
          "condor",
          "constantina",
          "coqueiro baixo",
          "coqueiros do sul",
          "coronel barros",
          "coronel bicaco",
          "coronel pilar",
          "cotipora",
          "coxilha",
          "crissiumal",
          "cristal",
          "cristal do sul",
          "cruz alta",
          "cruzaltense",
          "cruzeiro do sul",
          "david canabarro",
          "derrubadas",
          "dezesseis de novembro",
          "dilermando de aguiar",
          "dois irmaos",
          "dois irmaos das missoes",
          "dois lajeados",
          "dom feliciano",
          "dom pedrito",
          "dom pedro de alcantara",
          "dona francisca",
          "doutor ricardo",
          "dr mauricio cardoso",
          "eldorado do sul",
          "encantado",
          "encruzilhada do sul",
          "engenho velho",
          "entre ijuis",
          "entre rios do sul",
          "erebango",
          "erechim",
          "ernestina",
          "erval grande",
          "erval seco",
          "esmeralda",
          "esperanca do sul",
          "espumoso",
          "estacao",
          "estancia velha",
          "esteio",
          "estrela",
          "estrela velha",
          "eugenio de castro",
          "fagundes varela",
          "farroupilha",
          "faxinal do soturno",
          "faxinalzinho",
          "fazenda vila nova",
          "feliz",
          "flores da cunha",
          "floriano peixoto",
          "fontoura xavier",
          "formigueiro",
          "forquetinha",
          "fortaleza dos valos",
          "frederico westphalen",
          "garibaldi",
          "garruchos",
          "gaurama",
          "general camara",
          "gentil",
          "getulio vargas",
          "girua",
          "glorinha",
          "gramado",
          "gramado dos loureiros",
          "gramado xavier",
          "gravatai",
          "guabiju",
          "guaiba",
          "guapore",
          "guarani das missoes",
          "harmonia",
          "herval",
          "herveiras",
          "horizontina",
          "hulha negra",
          "humaita",
          "ibarama",
          "ibiaca",
          "ibiraiaras",
          "ibirapuita",
          "ibiruba",
          "igrejinha",
          "ijui",
          "ilopolis",
          "imbe",
          "imigrante",
          "independencia",
          "inhacora",
          "ipe",
          "ipiranga do sul",
          "irai",
          "itaara",
          "itacurubi",
          "itapuca",
          "itaqui",
          "itati",
          "itatiba do sul",
          "ivora",
          "ivoti",
          "jaboticaba",
          "jacuizinho",
          "jacutinga",
          "jaguarao",
          "jaguari",
          "jaquirana",
          "jari",
          "joia",
          "julio de castilhos",
          "lagoa bonita do sul",
          "lagoa dos tres cantos",
          "lagoa vermelha",
          "lagoao",
          "lajeado",
          "lajeado do bugre",
          "lavras do sul",
          "liberato salzano",
          "lindolfo collor",
          "linha nova",
          "macambara",
          "machadinho",
          "mampituba",
          "manoel viana",
          "maquine",
          "marata",
          "marau",
          "marcelino ramos",
          "mariana pimentel",
          "mariano moro",
          "marques de souza",
          "mata",
          "mato castelhano",
          "mato leitao",
          "mato queimado",
          "maximiliano de almeida",
          "minas do leao",
          "miraguai",
          "montauri",
          "monte alegre dos campos",
          "monte belo do sul",
          "montenegro",
          "mormaco",
          "morrinhos do sul",
          "morro redondo",
          "morro reuter",
          "mostardas",
          "mucum",
          "muitos capoes",
          "muliterno",
          "nao-me-toque",
          "nicolau vergueiro",
          "nonoai",
          "nova alvorada",
          "nova araca",
          "nova bassano",
          "nova boa vista",
          "nova brescia",
          "nova candelaria",
          "nova esperanca do sul",
          "nova hartz",
          "nova padua",
          "nova palma",
          "nova petropolis",
          "nova prata",
          "nova ramada",
          "nova roma do sul",
          "nova santa rita",
          "novo barreiro",
          "novo cabrais",
          "novo hamburgo",
          "novo machado",
          "novo tiradentes",
          "novo xingu",
          "osorio",
          "paim filho",
          "palmares do sul",
          "palmeira das missoes",
          "palmitinho",
          "panambi",
          "pantano grande",
          "parai",
          "paraiso do sul",
          "pareci novo",
          "parobe",
          "passa sete",
          "passo do sobrado",
          "passo fundo",
          "paulo bento",
          "paverama",
          "pedras altas",
          "pedro osorio",
          "pejucara",
          "pelotas",
          "picada cafe",
          "pinhal",
          "pinhal da serra",
          "pinhal grande",
          "pinheirinho do vale",
          "pinheiro machado",
          "pinto bandeira",
          "pirapo",
          "piratini",
          "planalto",
          "poco das antas",
          "pontao",
          "ponte preta",
          "portao",
          "porto alegre",
          "porto lucena",
          "porto maua",
          "porto vera cruz",
          "porto xavier",
          "pouso novo",
          "presidente lucena",
          "progresso",
          "protasio alves",
          "putinga",
          "quarai",
          "quatro irmaos",
          "quevedos",
          "quinze de novembro",
          "redentora",
          "relvado",
          "restinga seca",
          "rio dos indios",
          "rio grande",
          "rio pardo",
          "riozinho",
          "roca sales",
          "rodeio bonito",
          "rolador",
          "rolante",
          "ronda alta",
          "rondinha",
          "roque gonzales",
          "rosario do sul",
          "sagrada familia",
          "saldanha marinho",
          "salto do jacui",
          "salvador das missoes",
          "salvador do sul",
          "sananduva",
          "santa barbara do sul",
          "santa cecilia do sul",
          "santa clara do sul",
          "santa cruz do sul",
          "santa margarida do sul",
          "santa maria",
          "santa maria do herval",
          "santa rosa",
          "santa tereza",
          "santa vitoria do palmar",
          "santana da boa vista",
          "santana do livramento",
          "santiago",
          "santo angelo",
          "santo antonio da patrulha",
          "santo antonio das missoes",
          "santo antonio do palma",
          "santo antonio do planalto",
          "santo augusto",
          "santo cristo",
          "santo expedito do sul",
          "sao borja",
          "sao domingos do sul",
          "sao francisco de assis",
          "sao francisco de paula",
          "sao gabriel",
          "sao jeronimo",
          "sao joao da urtiga",
          "sao joao do polesine",
          "sao jorge",
          "sao jose das missoes",
          "sao jose do herval",
          "sao jose do hortencio",
          "sao jose do inhacora",
          "sao jose do norte",
          "sao jose do ouro",
          "sao jose do sul",
          "sao jose dos ausentes",
          "sao leopoldo",
          "sao lourenco do sul",
          "sao luiz gonzaga",
          "sao marcos",
          "sao martinho",
          "sao martinho da serra",
          "sao miguel das missoes",
          "sao nicolau",
          "sao paulo das missoes",
          "sao pedro da serra",
          "sao pedro das missoes",
          "sao pedro do butia",
          "sao pedro do sul",
          "sao sebastiao do cai",
          "sao sepe",
          "sao valentim",
          "sao valentim do sul",
          "sao valerio do sul",
          "sao vendelino",
          "sao vicente do sul",
          "sapiranga",
          "sapucaia do sul",
          "sarandi",
          "seberi",
          "sede nova",
          "segredo",
          "selbach",
          "senador salgado filho",
          "sentinela do sul",
          "serafina correa",
          "serio",
          "sertao",
          "sertao santana",
          "sete de setembro",
          "severiano de almeida",
          "silveira martins",
          "sinimbu",
          "sobradinho",
          "soledade",
          "tabai",
          "tapejara",
          "tapera",
          "tapes",
          "taquara",
          "taquari",
          "taquarucu do sul",
          "tavares",
          "tenente portela",
          "terra de areia",
          "teutonia",
          "tio hugo",
          "tiradentes do sul",
          "toropi",
          "torres",
          "tramandai",
          "travesseiro",
          "tres arroios",
          "tres cachoeiras",
          "tres coroas",
          "tres de maio",
          "tres forquilhas",
          "tres palmeiras",
          "tres passos",
          "trindade do sul",
          "triunfo",
          "tucunduva",
          "tunas",
          "tupanci do sul",
          "tupancireta",
          "tupandi",
          "tuparendi",
          "turucu",
          "ubiretama",
          "uniao da serra",
          "unistalda",
          "uruguaiana",
          "vacaria",
          "vale do sol",
          "vale real",
          "vale verde",
          "vanini",
          "venancio aires",
          "vera cruz",
          "veranopolis",
          "vespasiano correa",
          "viadutos",
          "viamao",
          "vicente dutra",
          "victor graeff",
          "vila flores",
          "vila langaro",
          "vila maria",
          "vila nova do sul",
          "vista alegre",
          "vista alegre do prata",
          "vista gaucha",
          "vitoria das missoes",
          "westfalia",
          "xangri-la"
         ],
         "type": "scatter3d",
         "x": [
          -0.4031460869516257,
          -1.8803467578764925,
          1.997878158921359,
          -0.9386993085537594,
          -2.2949449682305176,
          -1.9341283289215316,
          -0.2174601621018794,
          -1.5368855522687501,
          -1.5025190671406727,
          -3.12353644016901,
          -2.8734213459253795,
          -2.1089878631936654,
          0.1581882626460746,
          -0.5529671142148248,
          0.3916052482469439,
          -2.1487402312841613,
          7.424857231463878,
          4.469603152940832,
          -1.3347737842888445,
          -1.8048891280909538,
          -1.7590926772276578,
          -1.9327801305149068,
          -1.6523504248036243,
          2.2350811363464222,
          -2.0884155492732193,
          3.623346870067339,
          3.715938571645242,
          -0.7461282364500909,
          2.1442524771495735,
          0.9817931327473952,
          1.3305136252282692,
          0.7002638262540283,
          3.3005179845426773,
          -1.6366587388505371,
          -1.9655047664068765,
          5.580622678956365,
          2.779622215584135,
          -1.6853270192002832,
          2.3940652158572036,
          2.8222865895266156,
          -2.1703605512590816,
          -0.15120580866661254,
          -2.195636942606698,
          -0.40147556100906245,
          -2.0036831793102894,
          5.866101113631793,
          -2.2824815582065483,
          -0.284187078311012,
          -1.8331007831001778,
          -2.4727023473473984
         ],
         "y": [
          -1.2930902641458448,
          0.9206536913493217,
          -0.19763738157817623,
          -1.0551840569753552,
          -0.37506876560709224,
          0.402443740804368,
          1.8227827049932877,
          0.17210004859752728,
          0.9947003333816123,
          -0.17419909008315515,
          -0.02925739259088381,
          -0.1910740431050315,
          -2.2496825082142764,
          -0.46654533737917303,
          -2.121707893288287,
          0.45479289058838956,
          -0.9256957359186023,
          -1.5953605142680791,
          0.19846398135619808,
          1.106315774866216,
          -0.22160331333853484,
          0.25913567785796315,
          1.7825437409006564,
          -2.3870768481298454,
          -0.3739866143806945,
          -3.7195630896134135,
          -3.073151000035698,
          0.38613424507558697,
          -0.27040856530316487,
          -0.23930799414219225,
          -0.9976069392431938,
          -0.5377239921171759,
          -0.031773131056399895,
          -0.1342893331425615,
          -0.2565266809016657,
          4.6132417480807915,
          -3.090352178502352,
          1.3522509027385041,
          -2.002712431770976,
          3.624894469321265,
          0.047332678748511256,
          4.75542705840966,
          -0.05189934475423784,
          -1.1784660844090482,
          0.09851344095918768,
          5.9014619886639315,
          -0.21650065504987445,
          0.3198786419122811,
          0.35288672735152693,
          -0.10850330691179916
         ],
         "z": [
          -0.36911455806449467,
          -0.47055016734012245,
          1.8761144752891872,
          -0.20190470276789252,
          0.39137561893672623,
          0.6746117605117428,
          0.06940277258394922,
          0.4579839210324447,
          0.4462220597350116,
          -0.6247320602510937,
          -0.4748261148678856,
          0.4867958761534527,
          -2.1573996983249386,
          0.790470019811397,
          -1.122382287906355,
          0.433145474683122,
          1.277114908762563,
          -0.23402554451659247,
          1.3140273556962654,
          -0.22620749255364564,
          0.6616501982164148,
          0.5981542846519178,
          -0.9444714803738293,
          1.2732091795381693,
          0.06764682380281219,
          -2.356980153914732,
          -1.3940774001437704,
          0.551459063535161,
          3.7876082657081067,
          -2.5551980112579655,
          0.19429305746202782,
          -0.298327285162839,
          2.0815891593654214,
          -0.012769202853482115,
          -0.06878636268937695,
          0.34375937906168524,
          -0.5727557181081694,
          -1.041976537510604,
          -0.20079812037859537,
          0.292951193711166,
          0.21966421857164398,
          -1.5663360116051412,
          -0.27383903598508147,
          0.1819106836280804,
          0.4566175010424321,
          -1.8496257378948686,
          -0.10123536739042135,
          0.014195022278230641,
          0.22664969489059597,
          -0.05030291679783216
         ]
        }
       ],
       "layout": {
        "scene": {
         "xaxis": {
          "title": {
           "text": "PC1"
          }
         },
         "yaxis": {
          "title": {
           "text": "PC2"
          }
         },
         "zaxis": {
          "title": {
           "text": "PC3"
          }
         }
        },
        "template": {
         "data": {
          "bar": [
           {
            "error_x": {
             "color": "#2a3f5f"
            },
            "error_y": {
             "color": "#2a3f5f"
            },
            "marker": {
             "line": {
              "color": "#E5ECF6",
              "width": 0.5
             },
             "pattern": {
              "fillmode": "overlay",
              "size": 10,
              "solidity": 0.2
             }
            },
            "type": "bar"
           }
          ],
          "barpolar": [
           {
            "marker": {
             "line": {
              "color": "#E5ECF6",
              "width": 0.5
             },
             "pattern": {
              "fillmode": "overlay",
              "size": 10,
              "solidity": 0.2
             }
            },
            "type": "barpolar"
           }
          ],
          "carpet": [
           {
            "aaxis": {
             "endlinecolor": "#2a3f5f",
             "gridcolor": "white",
             "linecolor": "white",
             "minorgridcolor": "white",
             "startlinecolor": "#2a3f5f"
            },
            "baxis": {
             "endlinecolor": "#2a3f5f",
             "gridcolor": "white",
             "linecolor": "white",
             "minorgridcolor": "white",
             "startlinecolor": "#2a3f5f"
            },
            "type": "carpet"
           }
          ],
          "choropleth": [
           {
            "colorbar": {
             "outlinewidth": 0,
             "ticks": ""
            },
            "type": "choropleth"
           }
          ],
          "contour": [
           {
            "colorbar": {
             "outlinewidth": 0,
             "ticks": ""
            },
            "colorscale": [
             [
              0,
              "#0d0887"
             ],
             [
              0.1111111111111111,
              "#46039f"
             ],
             [
              0.2222222222222222,
              "#7201a8"
             ],
             [
              0.3333333333333333,
              "#9c179e"
             ],
             [
              0.4444444444444444,
              "#bd3786"
             ],
             [
              0.5555555555555556,
              "#d8576b"
             ],
             [
              0.6666666666666666,
              "#ed7953"
             ],
             [
              0.7777777777777778,
              "#fb9f3a"
             ],
             [
              0.8888888888888888,
              "#fdca26"
             ],
             [
              1,
              "#f0f921"
             ]
            ],
            "type": "contour"
           }
          ],
          "contourcarpet": [
           {
            "colorbar": {
             "outlinewidth": 0,
             "ticks": ""
            },
            "type": "contourcarpet"
           }
          ],
          "heatmap": [
           {
            "colorbar": {
             "outlinewidth": 0,
             "ticks": ""
            },
            "colorscale": [
             [
              0,
              "#0d0887"
             ],
             [
              0.1111111111111111,
              "#46039f"
             ],
             [
              0.2222222222222222,
              "#7201a8"
             ],
             [
              0.3333333333333333,
              "#9c179e"
             ],
             [
              0.4444444444444444,
              "#bd3786"
             ],
             [
              0.5555555555555556,
              "#d8576b"
             ],
             [
              0.6666666666666666,
              "#ed7953"
             ],
             [
              0.7777777777777778,
              "#fb9f3a"
             ],
             [
              0.8888888888888888,
              "#fdca26"
             ],
             [
              1,
              "#f0f921"
             ]
            ],
            "type": "heatmap"
           }
          ],
          "heatmapgl": [
           {
            "colorbar": {
             "outlinewidth": 0,
             "ticks": ""
            },
            "colorscale": [
             [
              0,
              "#0d0887"
             ],
             [
              0.1111111111111111,
              "#46039f"
             ],
             [
              0.2222222222222222,
              "#7201a8"
             ],
             [
              0.3333333333333333,
              "#9c179e"
             ],
             [
              0.4444444444444444,
              "#bd3786"
             ],
             [
              0.5555555555555556,
              "#d8576b"
             ],
             [
              0.6666666666666666,
              "#ed7953"
             ],
             [
              0.7777777777777778,
              "#fb9f3a"
             ],
             [
              0.8888888888888888,
              "#fdca26"
             ],
             [
              1,
              "#f0f921"
             ]
            ],
            "type": "heatmapgl"
           }
          ],
          "histogram": [
           {
            "marker": {
             "pattern": {
              "fillmode": "overlay",
              "size": 10,
              "solidity": 0.2
             }
            },
            "type": "histogram"
           }
          ],
          "histogram2d": [
           {
            "colorbar": {
             "outlinewidth": 0,
             "ticks": ""
            },
            "colorscale": [
             [
              0,
              "#0d0887"
             ],
             [
              0.1111111111111111,
              "#46039f"
             ],
             [
              0.2222222222222222,
              "#7201a8"
             ],
             [
              0.3333333333333333,
              "#9c179e"
             ],
             [
              0.4444444444444444,
              "#bd3786"
             ],
             [
              0.5555555555555556,
              "#d8576b"
             ],
             [
              0.6666666666666666,
              "#ed7953"
             ],
             [
              0.7777777777777778,
              "#fb9f3a"
             ],
             [
              0.8888888888888888,
              "#fdca26"
             ],
             [
              1,
              "#f0f921"
             ]
            ],
            "type": "histogram2d"
           }
          ],
          "histogram2dcontour": [
           {
            "colorbar": {
             "outlinewidth": 0,
             "ticks": ""
            },
            "colorscale": [
             [
              0,
              "#0d0887"
             ],
             [
              0.1111111111111111,
              "#46039f"
             ],
             [
              0.2222222222222222,
              "#7201a8"
             ],
             [
              0.3333333333333333,
              "#9c179e"
             ],
             [
              0.4444444444444444,
              "#bd3786"
             ],
             [
              0.5555555555555556,
              "#d8576b"
             ],
             [
              0.6666666666666666,
              "#ed7953"
             ],
             [
              0.7777777777777778,
              "#fb9f3a"
             ],
             [
              0.8888888888888888,
              "#fdca26"
             ],
             [
              1,
              "#f0f921"
             ]
            ],
            "type": "histogram2dcontour"
           }
          ],
          "mesh3d": [
           {
            "colorbar": {
             "outlinewidth": 0,
             "ticks": ""
            },
            "type": "mesh3d"
           }
          ],
          "parcoords": [
           {
            "line": {
             "colorbar": {
              "outlinewidth": 0,
              "ticks": ""
             }
            },
            "type": "parcoords"
           }
          ],
          "pie": [
           {
            "automargin": true,
            "type": "pie"
           }
          ],
          "scatter": [
           {
            "fillpattern": {
             "fillmode": "overlay",
             "size": 10,
             "solidity": 0.2
            },
            "type": "scatter"
           }
          ],
          "scatter3d": [
           {
            "line": {
             "colorbar": {
              "outlinewidth": 0,
              "ticks": ""
             }
            },
            "marker": {
             "colorbar": {
              "outlinewidth": 0,
              "ticks": ""
             }
            },
            "type": "scatter3d"
           }
          ],
          "scattercarpet": [
           {
            "marker": {
             "colorbar": {
              "outlinewidth": 0,
              "ticks": ""
             }
            },
            "type": "scattercarpet"
           }
          ],
          "scattergeo": [
           {
            "marker": {
             "colorbar": {
              "outlinewidth": 0,
              "ticks": ""
             }
            },
            "type": "scattergeo"
           }
          ],
          "scattergl": [
           {
            "marker": {
             "colorbar": {
              "outlinewidth": 0,
              "ticks": ""
             }
            },
            "type": "scattergl"
           }
          ],
          "scattermapbox": [
           {
            "marker": {
             "colorbar": {
              "outlinewidth": 0,
              "ticks": ""
             }
            },
            "type": "scattermapbox"
           }
          ],
          "scatterpolar": [
           {
            "marker": {
             "colorbar": {
              "outlinewidth": 0,
              "ticks": ""
             }
            },
            "type": "scatterpolar"
           }
          ],
          "scatterpolargl": [
           {
            "marker": {
             "colorbar": {
              "outlinewidth": 0,
              "ticks": ""
             }
            },
            "type": "scatterpolargl"
           }
          ],
          "scatterternary": [
           {
            "marker": {
             "colorbar": {
              "outlinewidth": 0,
              "ticks": ""
             }
            },
            "type": "scatterternary"
           }
          ],
          "surface": [
           {
            "colorbar": {
             "outlinewidth": 0,
             "ticks": ""
            },
            "colorscale": [
             [
              0,
              "#0d0887"
             ],
             [
              0.1111111111111111,
              "#46039f"
             ],
             [
              0.2222222222222222,
              "#7201a8"
             ],
             [
              0.3333333333333333,
              "#9c179e"
             ],
             [
              0.4444444444444444,
              "#bd3786"
             ],
             [
              0.5555555555555556,
              "#d8576b"
             ],
             [
              0.6666666666666666,
              "#ed7953"
             ],
             [
              0.7777777777777778,
              "#fb9f3a"
             ],
             [
              0.8888888888888888,
              "#fdca26"
             ],
             [
              1,
              "#f0f921"
             ]
            ],
            "type": "surface"
           }
          ],
          "table": [
           {
            "cells": {
             "fill": {
              "color": "#EBF0F8"
             },
             "line": {
              "color": "white"
             }
            },
            "header": {
             "fill": {
              "color": "#C8D4E3"
             },
             "line": {
              "color": "white"
             }
            },
            "type": "table"
           }
          ]
         },
         "layout": {
          "annotationdefaults": {
           "arrowcolor": "#2a3f5f",
           "arrowhead": 0,
           "arrowwidth": 1
          },
          "autotypenumbers": "strict",
          "coloraxis": {
           "colorbar": {
            "outlinewidth": 0,
            "ticks": ""
           }
          },
          "colorscale": {
           "diverging": [
            [
             0,
             "#8e0152"
            ],
            [
             0.1,
             "#c51b7d"
            ],
            [
             0.2,
             "#de77ae"
            ],
            [
             0.3,
             "#f1b6da"
            ],
            [
             0.4,
             "#fde0ef"
            ],
            [
             0.5,
             "#f7f7f7"
            ],
            [
             0.6,
             "#e6f5d0"
            ],
            [
             0.7,
             "#b8e186"
            ],
            [
             0.8,
             "#7fbc41"
            ],
            [
             0.9,
             "#4d9221"
            ],
            [
             1,
             "#276419"
            ]
           ],
           "sequential": [
            [
             0,
             "#0d0887"
            ],
            [
             0.1111111111111111,
             "#46039f"
            ],
            [
             0.2222222222222222,
             "#7201a8"
            ],
            [
             0.3333333333333333,
             "#9c179e"
            ],
            [
             0.4444444444444444,
             "#bd3786"
            ],
            [
             0.5555555555555556,
             "#d8576b"
            ],
            [
             0.6666666666666666,
             "#ed7953"
            ],
            [
             0.7777777777777778,
             "#fb9f3a"
            ],
            [
             0.8888888888888888,
             "#fdca26"
            ],
            [
             1,
             "#f0f921"
            ]
           ],
           "sequentialminus": [
            [
             0,
             "#0d0887"
            ],
            [
             0.1111111111111111,
             "#46039f"
            ],
            [
             0.2222222222222222,
             "#7201a8"
            ],
            [
             0.3333333333333333,
             "#9c179e"
            ],
            [
             0.4444444444444444,
             "#bd3786"
            ],
            [
             0.5555555555555556,
             "#d8576b"
            ],
            [
             0.6666666666666666,
             "#ed7953"
            ],
            [
             0.7777777777777778,
             "#fb9f3a"
            ],
            [
             0.8888888888888888,
             "#fdca26"
            ],
            [
             1,
             "#f0f921"
            ]
           ]
          },
          "colorway": [
           "#636efa",
           "#EF553B",
           "#00cc96",
           "#ab63fa",
           "#FFA15A",
           "#19d3f3",
           "#FF6692",
           "#B6E880",
           "#FF97FF",
           "#FECB52"
          ],
          "font": {
           "color": "#2a3f5f"
          },
          "geo": {
           "bgcolor": "white",
           "lakecolor": "white",
           "landcolor": "#E5ECF6",
           "showlakes": true,
           "showland": true,
           "subunitcolor": "white"
          },
          "hoverlabel": {
           "align": "left"
          },
          "hovermode": "closest",
          "mapbox": {
           "style": "light"
          },
          "paper_bgcolor": "white",
          "plot_bgcolor": "#E5ECF6",
          "polar": {
           "angularaxis": {
            "gridcolor": "white",
            "linecolor": "white",
            "ticks": ""
           },
           "bgcolor": "#E5ECF6",
           "radialaxis": {
            "gridcolor": "white",
            "linecolor": "white",
            "ticks": ""
           }
          },
          "scene": {
           "xaxis": {
            "backgroundcolor": "#E5ECF6",
            "gridcolor": "white",
            "gridwidth": 2,
            "linecolor": "white",
            "showbackground": true,
            "ticks": "",
            "zerolinecolor": "white"
           },
           "yaxis": {
            "backgroundcolor": "#E5ECF6",
            "gridcolor": "white",
            "gridwidth": 2,
            "linecolor": "white",
            "showbackground": true,
            "ticks": "",
            "zerolinecolor": "white"
           },
           "zaxis": {
            "backgroundcolor": "#E5ECF6",
            "gridcolor": "white",
            "gridwidth": 2,
            "linecolor": "white",
            "showbackground": true,
            "ticks": "",
            "zerolinecolor": "white"
           }
          },
          "shapedefaults": {
           "line": {
            "color": "#2a3f5f"
           }
          },
          "ternary": {
           "aaxis": {
            "gridcolor": "white",
            "linecolor": "white",
            "ticks": ""
           },
           "baxis": {
            "gridcolor": "white",
            "linecolor": "white",
            "ticks": ""
           },
           "bgcolor": "#E5ECF6",
           "caxis": {
            "gridcolor": "white",
            "linecolor": "white",
            "ticks": ""
           }
          },
          "title": {
           "x": 0.05
          },
          "xaxis": {
           "automargin": true,
           "gridcolor": "white",
           "linecolor": "white",
           "ticks": "",
           "title": {
            "standoff": 15
           },
           "zerolinecolor": "white",
           "zerolinewidth": 2
          },
          "yaxis": {
           "automargin": true,
           "gridcolor": "white",
           "linecolor": "white",
           "ticks": "",
           "title": {
            "standoff": 15
           },
           "zerolinecolor": "white",
           "zerolinewidth": 2
          }
         }
        },
        "title": {
         "text": "Gráfico 3D dos 3 Clusters"
        }
       }
      }
     },
     "metadata": {},
     "output_type": "display_data"
    },
    {
     "data": {
      "text/plain": [
       "' Foi utilizado a biblioteca Plotly para a visualização dos dados. Documentação do gráfico 3D: https://plotly.com/python/v3/3d-point-clustering/'"
      ]
     },
     "execution_count": 36,
     "metadata": {},
     "output_type": "execute_result"
    }
   ],
   "source": [
    "# Criar o gráfico 3D\n",
    "fig = go.Figure()\n",
    "\n",
    "# Adicionar os pontos\n",
    "fig.add_trace(\n",
    "    go.Scatter3d(\n",
    "        # Adicionar as dimensões PCA\n",
    "        x=df_pca['PC1'],\n",
    "        y=df_pca['PC2'],\n",
    "        z=df_pca['PC3'],\n",
    "        mode='markers',\n",
    "        # Adicionar a cor de acordo com o cluster\n",
    "        marker=dict(size=5, color=df_pca['cluster'], colorscale='magenta', opacity=0.8),\n",
    "        # Adicionar o nome dos município ao passar o mouse\n",
    "        text=df['municipios']\n",
    "))\n",
    "\n",
    "# Adicionar o layout\n",
    "fig.update_layout(\n",
    "    title=f'Gráfico 3D dos {k} Clusters',\n",
    "    # Adicionar o nome dos eixos\n",
    "    scene=dict(\n",
    "        xaxis_title='PC1',\n",
    "        yaxis_title='PC2',\n",
    "        zaxis_title='PC3'\n",
    "    )\n",
    ")\n",
    "\n",
    "# Mostrar o gráfico\n",
    "fig.show()\n",
    "\n",
    "\"\"\" Foi utilizado a biblioteca Plotly para a visualização dos dados. Documentação do gráfico 3D: https://plotly.com/python/v3/3d-point-clustering/\"\"\""
   ]
  }
 ],
 "metadata": {
  "kernelspec": {
   "display_name": "Python 3",
   "language": "python",
   "name": "python3"
  },
  "language_info": {
   "codemirror_mode": {
    "name": "ipython",
    "version": 3
   },
   "file_extension": ".py",
   "mimetype": "text/x-python",
   "name": "python",
   "nbconvert_exporter": "python",
   "pygments_lexer": "ipython3",
   "version": "3.12.2"
  }
 },
 "nbformat": 4,
 "nbformat_minor": 2
}
