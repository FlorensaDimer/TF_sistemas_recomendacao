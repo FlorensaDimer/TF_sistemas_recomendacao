{
 "cells": [
  {
   "cell_type": "markdown",
   "metadata": {},
   "source": [
    "# Sugestão de cidade do Estado do Rio Grande do Sul pelo Índice de Criminalidade\n",
    "### Para o trabalho final da disciplina de Sistemas Operacionais foi escolhido os bancos de dados Índice de Criminalidade (RS, 2023) e Estimativas Populacionais (RS, 2022). Os dados são reais e estão disponíveis no portal Dados Abertos RS do Estado do Rio Grande do Sul.\n",
    "###  O objetivo principal é analisar como o algoritmo k-means irá agrupar as cidades. Com este resultado, será possível responder: \"Quais as cidades o algoritmo sugere?\". De acordo com a resposta, futuramente seria possível o desenvolvimento de uma aplicação real de sugestão de cidade.\n",
    "\n",
    "Indíce de Criminalidade no RS: [https://dados.rs.gov.br/dataset/indicadores-criminais-de-2023](https://dados.rs.gov.br/dataset/indicadores-criminais-de-2023)\n",
    "\n",
    "Estimativas Populacionais no RS: [https://dados.rs.gov.br/dataset/dee-4259/resource/ce259dd9-c479-4a18-90b3-40098e6deb26](https://dados.rs.gov.br/dataset/dee-4259/resource/ce259dd9-c479-4a18-90b3-40098e6deb26)"
   ]
  },
  {
   "cell_type": "markdown",
   "metadata": {},
   "source": [
    "## Pré-processamento\n",
    "### Houve a necessidade de realizar o pré-processamento dos dados, pois foram disponibilizados em planilhas Excel com formatações diversas."
   ]
  },
  {
   "cell_type": "code",
   "execution_count": 1325,
   "metadata": {},
   "outputs": [],
   "source": [
    "import pandas as pd"
   ]
  },
  {
   "cell_type": "markdown",
   "metadata": {},
   "source": [
    "#### Abertura dos arquivos de criminalidade por cidade em cada mês."
   ]
  },
  {
   "cell_type": "code",
   "execution_count": 1326,
   "metadata": {},
   "outputs": [
    {
     "data": {
      "text/html": [
       "<div>\n",
       "<style scoped>\n",
       "    .dataframe tbody tr th:only-of-type {\n",
       "        vertical-align: middle;\n",
       "    }\n",
       "\n",
       "    .dataframe tbody tr th {\n",
       "        vertical-align: top;\n",
       "    }\n",
       "\n",
       "    .dataframe thead th {\n",
       "        text-align: right;\n",
       "    }\n",
       "</style>\n",
       "<table border=\"1\" class=\"dataframe\">\n",
       "  <thead>\n",
       "    <tr style=\"text-align: right;\">\n",
       "      <th></th>\n",
       "      <th>municipios</th>\n",
       "      <th>ibge</th>\n",
       "      <th>homicidio_doloso</th>\n",
       "      <th>total_vitimas_homicidio_doloso</th>\n",
       "      <th>latrocinio</th>\n",
       "      <th>furtos</th>\n",
       "      <th>abigeato</th>\n",
       "      <th>furto_veiculo</th>\n",
       "      <th>roubos</th>\n",
       "      <th>roubo_veiculo</th>\n",
       "      <th>estelionato</th>\n",
       "      <th>delitos_armas_municoes</th>\n",
       "      <th>entorpecente_posse</th>\n",
       "      <th>entorpecente_trafico</th>\n",
       "      <th>vitimas_latrocinio</th>\n",
       "      <th>vitimas_lesao_corporal_morte</th>\n",
       "      <th>total_vitimas_crimes_violentos</th>\n",
       "    </tr>\n",
       "  </thead>\n",
       "  <tbody>\n",
       "    <tr>\n",
       "      <th>0</th>\n",
       "      <td>acegua</td>\n",
       "      <td>4300034</td>\n",
       "      <td>0</td>\n",
       "      <td>0</td>\n",
       "      <td>0</td>\n",
       "      <td>20</td>\n",
       "      <td>8</td>\n",
       "      <td>0</td>\n",
       "      <td>3</td>\n",
       "      <td>0</td>\n",
       "      <td>27</td>\n",
       "      <td>4</td>\n",
       "      <td>3</td>\n",
       "      <td>0</td>\n",
       "      <td>0</td>\n",
       "      <td>0</td>\n",
       "      <td>0</td>\n",
       "    </tr>\n",
       "    <tr>\n",
       "      <th>1</th>\n",
       "      <td>agua santa</td>\n",
       "      <td>4300059</td>\n",
       "      <td>1</td>\n",
       "      <td>1</td>\n",
       "      <td>0</td>\n",
       "      <td>20</td>\n",
       "      <td>3</td>\n",
       "      <td>4</td>\n",
       "      <td>1</td>\n",
       "      <td>0</td>\n",
       "      <td>13</td>\n",
       "      <td>2</td>\n",
       "      <td>0</td>\n",
       "      <td>0</td>\n",
       "      <td>0</td>\n",
       "      <td>0</td>\n",
       "      <td>2</td>\n",
       "    </tr>\n",
       "    <tr>\n",
       "      <th>2</th>\n",
       "      <td>agudo</td>\n",
       "      <td>4300109</td>\n",
       "      <td>1</td>\n",
       "      <td>1</td>\n",
       "      <td>0</td>\n",
       "      <td>102</td>\n",
       "      <td>2</td>\n",
       "      <td>2</td>\n",
       "      <td>3</td>\n",
       "      <td>1</td>\n",
       "      <td>51</td>\n",
       "      <td>3</td>\n",
       "      <td>7</td>\n",
       "      <td>10</td>\n",
       "      <td>0</td>\n",
       "      <td>0</td>\n",
       "      <td>1</td>\n",
       "    </tr>\n",
       "    <tr>\n",
       "      <th>3</th>\n",
       "      <td>ajuricaba</td>\n",
       "      <td>4300208</td>\n",
       "      <td>0</td>\n",
       "      <td>0</td>\n",
       "      <td>0</td>\n",
       "      <td>26</td>\n",
       "      <td>1</td>\n",
       "      <td>0</td>\n",
       "      <td>1</td>\n",
       "      <td>0</td>\n",
       "      <td>28</td>\n",
       "      <td>2</td>\n",
       "      <td>3</td>\n",
       "      <td>0</td>\n",
       "      <td>0</td>\n",
       "      <td>0</td>\n",
       "      <td>0</td>\n",
       "    </tr>\n",
       "    <tr>\n",
       "      <th>4</th>\n",
       "      <td>alecrim</td>\n",
       "      <td>4300307</td>\n",
       "      <td>1</td>\n",
       "      <td>1</td>\n",
       "      <td>0</td>\n",
       "      <td>36</td>\n",
       "      <td>10</td>\n",
       "      <td>0</td>\n",
       "      <td>2</td>\n",
       "      <td>0</td>\n",
       "      <td>17</td>\n",
       "      <td>10</td>\n",
       "      <td>0</td>\n",
       "      <td>4</td>\n",
       "      <td>0</td>\n",
       "      <td>0</td>\n",
       "      <td>1</td>\n",
       "    </tr>\n",
       "  </tbody>\n",
       "</table>\n",
       "</div>"
      ],
      "text/plain": [
       "   municipios     ibge  homicidio_doloso  total_vitimas_homicidio_doloso  \\\n",
       "0      acegua  4300034                 0                               0   \n",
       "1  agua santa  4300059                 1                               1   \n",
       "2       agudo  4300109                 1                               1   \n",
       "3   ajuricaba  4300208                 0                               0   \n",
       "4     alecrim  4300307                 1                               1   \n",
       "\n",
       "   latrocinio  furtos  abigeato  furto_veiculo  roubos  roubo_veiculo  \\\n",
       "0           0      20         8              0       3              0   \n",
       "1           0      20         3              4       1              0   \n",
       "2           0     102         2              2       3              1   \n",
       "3           0      26         1              0       1              0   \n",
       "4           0      36        10              0       2              0   \n",
       "\n",
       "   estelionato  delitos_armas_municoes  entorpecente_posse  \\\n",
       "0           27                       4                   3   \n",
       "1           13                       2                   0   \n",
       "2           51                       3                   7   \n",
       "3           28                       2                   3   \n",
       "4           17                      10                   0   \n",
       "\n",
       "   entorpecente_trafico  vitimas_latrocinio  vitimas_lesao_corporal_morte  \\\n",
       "0                     0                   0                             0   \n",
       "1                     0                   0                             0   \n",
       "2                    10                   0                             0   \n",
       "3                     0                   0                             0   \n",
       "4                     4                   0                             0   \n",
       "\n",
       "   total_vitimas_crimes_violentos  \n",
       "0                               0  \n",
       "1                               2  \n",
       "2                               1  \n",
       "3                               0  \n",
       "4                               1  "
      ]
     },
     "execution_count": 1326,
     "metadata": {},
     "output_type": "execute_result"
    }
   ],
   "source": [
    "# Lendo os arquivos csv e concatenando em um único dataframe\n",
    "meses = ['janeiro', 'fevereiro', 'marco', 'abril', 'maio', 'junho', 'julho', 'agosto', 'setembro', 'outubro', 'novembro', 'dezembro']\n",
    "\n",
    "dfs = []\n",
    "\n",
    "for mes in meses:\n",
    "        arquivo = pd.read_csv(f'data\\\\tocsv\\\\{mes}.csv', delimiter=';')\n",
    "        dfs.append(arquivo)\n",
    "\n",
    "df = pd.concat(dfs, ignore_index=True)\n",
    "\n",
    "df_criminal = df.groupby(['municipios', 'ibge']).sum().reset_index()\n",
    "\n",
    "\n",
    "df.to_csv('data\\\\tocsv\\\\total.csv', sep=';', index=False)\n",
    "\n",
    "df_criminal.head()\n"
   ]
  },
  {
   "cell_type": "markdown",
   "metadata": {},
   "source": [
    "#### Abertura do arquivo de quantidade de população por cidade em cada ano."
   ]
  },
  {
   "cell_type": "code",
   "execution_count": 1327,
   "metadata": {},
   "outputs": [
    {
     "name": "stdout",
     "output_type": "stream",
     "text": [
      "<class 'pandas.core.frame.DataFrame'>\n",
      "RangeIndex: 497 entries, 0 to 496\n",
      "Data columns (total 16 columns):\n",
      " #   Column      Non-Null Count  Dtype  \n",
      "---  ------      --------------  -----  \n",
      " 0   municipios  497 non-null    object \n",
      " 1   ibge        497 non-null    int64  \n",
      " 2   latitude    497 non-null    float64\n",
      " 3   longitude   497 non-null    float64\n",
      " 4   2010        497 non-null    int32  \n",
      " 5   2011        497 non-null    int32  \n",
      " 6   2012        497 non-null    int32  \n",
      " 7   2013        497 non-null    int32  \n",
      " 8   2014        497 non-null    int32  \n",
      " 9   2015        497 non-null    int32  \n",
      " 10  2016        497 non-null    int32  \n",
      " 11  2017        497 non-null    int32  \n",
      " 12  2018        497 non-null    int32  \n",
      " 13  2019        497 non-null    int32  \n",
      " 14  2020        497 non-null    int32  \n",
      " 15  2021        497 non-null    int32  \n",
      "dtypes: float64(2), int32(12), int64(1), object(1)\n",
      "memory usage: 39.0+ KB\n"
     ]
    }
   ],
   "source": [
    "# Lendo o arquivo de população\n",
    "df_pop = pd.read_csv('data\\\\tocsv\\\\populacao.csv', delimiter=';')\n",
    "\n",
    "# Substituindo os valores de '.' e '-' por 0 e convertendo para inteiro\n",
    "for coluna in df_pop.columns[4:]:\n",
    "    df_pop[coluna] = df_pop[coluna].str.replace('.', '').str.replace('-', '0').astype(int)\n",
    "\n",
    "df_pop.info()\n"
   ]
  },
  {
   "cell_type": "markdown",
   "metadata": {},
   "source": [
    "### União dos dois banco de dados"
   ]
  },
  {
   "cell_type": "code",
   "execution_count": 1328,
   "metadata": {},
   "outputs": [
    {
     "name": "stdout",
     "output_type": "stream",
     "text": [
      "<class 'pandas.core.frame.DataFrame'>\n",
      "RangeIndex: 497 entries, 0 to 496\n",
      "Data columns (total 31 columns):\n",
      " #   Column                          Non-Null Count  Dtype  \n",
      "---  ------                          --------------  -----  \n",
      " 0   municipios                      497 non-null    object \n",
      " 1   ibge                            497 non-null    int64  \n",
      " 2   homicidio_doloso                497 non-null    int64  \n",
      " 3   total_vitimas_homicidio_doloso  497 non-null    int64  \n",
      " 4   latrocinio                      497 non-null    int64  \n",
      " 5   furtos                          497 non-null    int64  \n",
      " 6   abigeato                        497 non-null    int64  \n",
      " 7   furto_veiculo                   497 non-null    int64  \n",
      " 8   roubos                          497 non-null    int64  \n",
      " 9   roubo_veiculo                   497 non-null    int64  \n",
      " 10  estelionato                     497 non-null    int64  \n",
      " 11  delitos_armas_municoes          497 non-null    int64  \n",
      " 12  entorpecente_posse              497 non-null    int64  \n",
      " 13  entorpecente_trafico            497 non-null    int64  \n",
      " 14  vitimas_latrocinio              497 non-null    int64  \n",
      " 15  vitimas_lesao_corporal_morte    497 non-null    int64  \n",
      " 16  total_vitimas_crimes_violentos  497 non-null    int64  \n",
      " 17  latitude                        497 non-null    float64\n",
      " 18  longitude                       497 non-null    float64\n",
      " 19  2010                            497 non-null    int32  \n",
      " 20  2011                            497 non-null    int32  \n",
      " 21  2012                            497 non-null    int32  \n",
      " 22  2013                            497 non-null    int32  \n",
      " 23  2014                            497 non-null    int32  \n",
      " 24  2015                            497 non-null    int32  \n",
      " 25  2016                            497 non-null    int32  \n",
      " 26  2017                            497 non-null    int32  \n",
      " 27  2018                            497 non-null    int32  \n",
      " 28  2019                            497 non-null    int32  \n",
      " 29  2020                            497 non-null    int32  \n",
      " 30  2021                            497 non-null    int32  \n",
      "dtypes: float64(2), int32(12), int64(16), object(1)\n",
      "memory usage: 97.2+ KB\n"
     ]
    }
   ],
   "source": [
    "# O merge é feito com base na coluna ibge como forma de chave estrangeira com o método inner\n",
    "df_merged = pd.merge(df_criminal, df_pop, how = 'inner', on = 'ibge').drop(columns=['municipios_y'])\n",
    "df_merged.rename(columns={'municipios_x': 'municipios'}, inplace=True)\n",
    "\n",
    "df_merged.info()"
   ]
  },
  {
   "cell_type": "markdown",
   "metadata": {},
   "source": [
    "### Normalização dos dados"
   ]
  },
  {
   "cell_type": "code",
   "execution_count": 1329,
   "metadata": {},
   "outputs": [],
   "source": [
    "from sklearn.preprocessing import StandardScaler"
   ]
  },
  {
   "cell_type": "code",
   "execution_count": 1330,
   "metadata": {},
   "outputs": [
    {
     "data": {
      "text/html": [
       "<div>\n",
       "<style scoped>\n",
       "    .dataframe tbody tr th:only-of-type {\n",
       "        vertical-align: middle;\n",
       "    }\n",
       "\n",
       "    .dataframe tbody tr th {\n",
       "        vertical-align: top;\n",
       "    }\n",
       "\n",
       "    .dataframe thead th {\n",
       "        text-align: right;\n",
       "    }\n",
       "</style>\n",
       "<table border=\"1\" class=\"dataframe\">\n",
       "  <thead>\n",
       "    <tr style=\"text-align: right;\">\n",
       "      <th></th>\n",
       "      <th>ibge</th>\n",
       "      <th>homicidio_doloso</th>\n",
       "      <th>total_vitimas_homicidio_doloso</th>\n",
       "      <th>latrocinio</th>\n",
       "      <th>furtos</th>\n",
       "      <th>abigeato</th>\n",
       "      <th>furto_veiculo</th>\n",
       "      <th>roubos</th>\n",
       "      <th>roubo_veiculo</th>\n",
       "      <th>estelionato</th>\n",
       "      <th>delitos_armas_municoes</th>\n",
       "      <th>entorpecente_posse</th>\n",
       "      <th>entorpecente_trafico</th>\n",
       "      <th>vitimas_latrocinio</th>\n",
       "      <th>vitimas_lesao_corporal_morte</th>\n",
       "      <th>2021</th>\n",
       "    </tr>\n",
       "    <tr>\n",
       "      <th>municipios</th>\n",
       "      <th></th>\n",
       "      <th></th>\n",
       "      <th></th>\n",
       "      <th></th>\n",
       "      <th></th>\n",
       "      <th></th>\n",
       "      <th></th>\n",
       "      <th></th>\n",
       "      <th></th>\n",
       "      <th></th>\n",
       "      <th></th>\n",
       "      <th></th>\n",
       "      <th></th>\n",
       "      <th></th>\n",
       "      <th></th>\n",
       "      <th></th>\n",
       "    </tr>\n",
       "  </thead>\n",
       "  <tbody>\n",
       "    <tr>\n",
       "      <th>acegua</th>\n",
       "      <td>4300034</td>\n",
       "      <td>0</td>\n",
       "      <td>0</td>\n",
       "      <td>0</td>\n",
       "      <td>20</td>\n",
       "      <td>8</td>\n",
       "      <td>0</td>\n",
       "      <td>3</td>\n",
       "      <td>0</td>\n",
       "      <td>27</td>\n",
       "      <td>4</td>\n",
       "      <td>3</td>\n",
       "      <td>0</td>\n",
       "      <td>0</td>\n",
       "      <td>0</td>\n",
       "      <td>4505</td>\n",
       "    </tr>\n",
       "    <tr>\n",
       "      <th>agua santa</th>\n",
       "      <td>4300059</td>\n",
       "      <td>1</td>\n",
       "      <td>1</td>\n",
       "      <td>0</td>\n",
       "      <td>20</td>\n",
       "      <td>3</td>\n",
       "      <td>4</td>\n",
       "      <td>1</td>\n",
       "      <td>0</td>\n",
       "      <td>13</td>\n",
       "      <td>2</td>\n",
       "      <td>0</td>\n",
       "      <td>0</td>\n",
       "      <td>0</td>\n",
       "      <td>0</td>\n",
       "      <td>4256</td>\n",
       "    </tr>\n",
       "    <tr>\n",
       "      <th>agudo</th>\n",
       "      <td>4300109</td>\n",
       "      <td>1</td>\n",
       "      <td>1</td>\n",
       "      <td>0</td>\n",
       "      <td>102</td>\n",
       "      <td>2</td>\n",
       "      <td>2</td>\n",
       "      <td>3</td>\n",
       "      <td>1</td>\n",
       "      <td>51</td>\n",
       "      <td>3</td>\n",
       "      <td>7</td>\n",
       "      <td>10</td>\n",
       "      <td>0</td>\n",
       "      <td>0</td>\n",
       "      <td>16612</td>\n",
       "    </tr>\n",
       "    <tr>\n",
       "      <th>ajuricaba</th>\n",
       "      <td>4300208</td>\n",
       "      <td>0</td>\n",
       "      <td>0</td>\n",
       "      <td>0</td>\n",
       "      <td>26</td>\n",
       "      <td>1</td>\n",
       "      <td>0</td>\n",
       "      <td>1</td>\n",
       "      <td>0</td>\n",
       "      <td>28</td>\n",
       "      <td>2</td>\n",
       "      <td>3</td>\n",
       "      <td>0</td>\n",
       "      <td>0</td>\n",
       "      <td>0</td>\n",
       "      <td>7447</td>\n",
       "    </tr>\n",
       "    <tr>\n",
       "      <th>alecrim</th>\n",
       "      <td>4300307</td>\n",
       "      <td>1</td>\n",
       "      <td>1</td>\n",
       "      <td>0</td>\n",
       "      <td>36</td>\n",
       "      <td>10</td>\n",
       "      <td>0</td>\n",
       "      <td>2</td>\n",
       "      <td>0</td>\n",
       "      <td>17</td>\n",
       "      <td>10</td>\n",
       "      <td>0</td>\n",
       "      <td>4</td>\n",
       "      <td>0</td>\n",
       "      <td>0</td>\n",
       "      <td>6403</td>\n",
       "    </tr>\n",
       "  </tbody>\n",
       "</table>\n",
       "</div>"
      ],
      "text/plain": [
       "               ibge  homicidio_doloso  total_vitimas_homicidio_doloso  \\\n",
       "municipios                                                              \n",
       "acegua      4300034                 0                               0   \n",
       "agua santa  4300059                 1                               1   \n",
       "agudo       4300109                 1                               1   \n",
       "ajuricaba   4300208                 0                               0   \n",
       "alecrim     4300307                 1                               1   \n",
       "\n",
       "            latrocinio  furtos  abigeato  furto_veiculo  roubos  \\\n",
       "municipios                                                        \n",
       "acegua               0      20         8              0       3   \n",
       "agua santa           0      20         3              4       1   \n",
       "agudo                0     102         2              2       3   \n",
       "ajuricaba            0      26         1              0       1   \n",
       "alecrim              0      36        10              0       2   \n",
       "\n",
       "            roubo_veiculo  estelionato  delitos_armas_municoes  \\\n",
       "municipios                                                       \n",
       "acegua                  0           27                       4   \n",
       "agua santa              0           13                       2   \n",
       "agudo                   1           51                       3   \n",
       "ajuricaba               0           28                       2   \n",
       "alecrim                 0           17                      10   \n",
       "\n",
       "            entorpecente_posse  entorpecente_trafico  vitimas_latrocinio  \\\n",
       "municipios                                                                 \n",
       "acegua                       3                     0                   0   \n",
       "agua santa                   0                     0                   0   \n",
       "agudo                        7                    10                   0   \n",
       "ajuricaba                    3                     0                   0   \n",
       "alecrim                      0                     4                   0   \n",
       "\n",
       "            vitimas_lesao_corporal_morte   2021  \n",
       "municipios                                       \n",
       "acegua                                 0   4505  \n",
       "agua santa                             0   4256  \n",
       "agudo                                  0  16612  \n",
       "ajuricaba                              0   7447  \n",
       "alecrim                                0   6403  "
      ]
     },
     "execution_count": 1330,
     "metadata": {},
     "output_type": "execute_result"
    }
   ],
   "source": [
    "# Lista das colunas extras que não são necessárias\n",
    "colunas_extras = df_merged.columns[16:30]\n",
    "\n",
    "# Removendo as colunas extras\n",
    "df = df_merged.drop(colunas_extras, axis=1)\n",
    "\n",
    "df.set_index('municipios', inplace=True)\n",
    "\n",
    "# Salvando o dataframe em um arquivo csv\n",
    "df.to_csv('data\\\\tocsv\\\\dados_pop_criminalidade.csv', sep=';', index=False)\n",
    "\n",
    "df.head()\n",
    "\n"
   ]
  },
  {
   "cell_type": "code",
   "execution_count": 1331,
   "metadata": {},
   "outputs": [],
   "source": [
    "# Removendo as colunas de taxa total pois são redundantes\n",
    "df.drop(['total_vitimas_homicidio_doloso'], axis='columns', inplace=True)\n",
    "df.drop(['latrocinio'], axis='columns', inplace=True)\n",
    "\n",
    "# Selecionando somente as colunas do tipo float\n",
    "df.drop(['ibge'], axis='columns', inplace=True)\n",
    "\n",
    "df.rename(columns={'2021': 'populacao'}, inplace=True)"
   ]
  },
  {
   "cell_type": "code",
   "execution_count": 1332,
   "metadata": {},
   "outputs": [
    {
     "data": {
      "text/html": [
       "<div>\n",
       "<style scoped>\n",
       "    .dataframe tbody tr th:only-of-type {\n",
       "        vertical-align: middle;\n",
       "    }\n",
       "\n",
       "    .dataframe tbody tr th {\n",
       "        vertical-align: top;\n",
       "    }\n",
       "\n",
       "    .dataframe thead th {\n",
       "        text-align: right;\n",
       "    }\n",
       "</style>\n",
       "<table border=\"1\" class=\"dataframe\">\n",
       "  <thead>\n",
       "    <tr style=\"text-align: right;\">\n",
       "      <th></th>\n",
       "      <th>homicidio_doloso</th>\n",
       "      <th>furtos</th>\n",
       "      <th>abigeato</th>\n",
       "      <th>furto_veiculo</th>\n",
       "      <th>roubos</th>\n",
       "      <th>roubo_veiculo</th>\n",
       "      <th>estelionato</th>\n",
       "      <th>delitos_armas_municoes</th>\n",
       "      <th>entorpecente_posse</th>\n",
       "      <th>entorpecente_trafico</th>\n",
       "      <th>vitimas_latrocinio</th>\n",
       "      <th>vitimas_lesao_corporal_morte</th>\n",
       "      <th>populacao</th>\n",
       "    </tr>\n",
       "    <tr>\n",
       "      <th>municipios</th>\n",
       "      <th></th>\n",
       "      <th></th>\n",
       "      <th></th>\n",
       "      <th></th>\n",
       "      <th></th>\n",
       "      <th></th>\n",
       "      <th></th>\n",
       "      <th></th>\n",
       "      <th></th>\n",
       "      <th></th>\n",
       "      <th></th>\n",
       "      <th></th>\n",
       "      <th></th>\n",
       "    </tr>\n",
       "  </thead>\n",
       "  <tbody>\n",
       "    <tr>\n",
       "      <th>acegua</th>\n",
       "      <td>-0.240983</td>\n",
       "      <td>-0.165023</td>\n",
       "      <td>-0.016371</td>\n",
       "      <td>-0.189482</td>\n",
       "      <td>-0.091215</td>\n",
       "      <td>-0.108250</td>\n",
       "      <td>-0.174139</td>\n",
       "      <td>-0.221637</td>\n",
       "      <td>-0.264673</td>\n",
       "      <td>-0.205293</td>\n",
       "      <td>-0.202622</td>\n",
       "      <td>-0.193052</td>\n",
       "      <td>-0.234986</td>\n",
       "    </tr>\n",
       "    <tr>\n",
       "      <th>agua santa</th>\n",
       "      <td>-0.163812</td>\n",
       "      <td>-0.165023</td>\n",
       "      <td>-0.347109</td>\n",
       "      <td>-0.145451</td>\n",
       "      <td>-0.094148</td>\n",
       "      <td>-0.108250</td>\n",
       "      <td>-0.190466</td>\n",
       "      <td>-0.270616</td>\n",
       "      <td>-0.287715</td>\n",
       "      <td>-0.205293</td>\n",
       "      <td>-0.202622</td>\n",
       "      <td>-0.193052</td>\n",
       "      <td>-0.238138</td>\n",
       "    </tr>\n",
       "    <tr>\n",
       "      <th>agudo</th>\n",
       "      <td>-0.163812</td>\n",
       "      <td>-0.106419</td>\n",
       "      <td>-0.413257</td>\n",
       "      <td>-0.167466</td>\n",
       "      <td>-0.091215</td>\n",
       "      <td>-0.093268</td>\n",
       "      <td>-0.146148</td>\n",
       "      <td>-0.246127</td>\n",
       "      <td>-0.233949</td>\n",
       "      <td>-0.141324</td>\n",
       "      <td>-0.202622</td>\n",
       "      <td>-0.193052</td>\n",
       "      <td>-0.081756</td>\n",
       "    </tr>\n",
       "    <tr>\n",
       "      <th>ajuricaba</th>\n",
       "      <td>-0.240983</td>\n",
       "      <td>-0.160734</td>\n",
       "      <td>-0.479404</td>\n",
       "      <td>-0.189482</td>\n",
       "      <td>-0.094148</td>\n",
       "      <td>-0.108250</td>\n",
       "      <td>-0.172972</td>\n",
       "      <td>-0.270616</td>\n",
       "      <td>-0.264673</td>\n",
       "      <td>-0.205293</td>\n",
       "      <td>-0.202622</td>\n",
       "      <td>-0.193052</td>\n",
       "      <td>-0.197751</td>\n",
       "    </tr>\n",
       "    <tr>\n",
       "      <th>alecrim</th>\n",
       "      <td>-0.163812</td>\n",
       "      <td>-0.153588</td>\n",
       "      <td>0.115925</td>\n",
       "      <td>-0.189482</td>\n",
       "      <td>-0.092681</td>\n",
       "      <td>-0.108250</td>\n",
       "      <td>-0.185801</td>\n",
       "      <td>-0.074700</td>\n",
       "      <td>-0.287715</td>\n",
       "      <td>-0.179705</td>\n",
       "      <td>-0.202622</td>\n",
       "      <td>-0.193052</td>\n",
       "      <td>-0.210964</td>\n",
       "    </tr>\n",
       "  </tbody>\n",
       "</table>\n",
       "</div>"
      ],
      "text/plain": [
       "            homicidio_doloso    furtos  abigeato  furto_veiculo    roubos  \\\n",
       "municipios                                                                  \n",
       "acegua             -0.240983 -0.165023 -0.016371      -0.189482 -0.091215   \n",
       "agua santa         -0.163812 -0.165023 -0.347109      -0.145451 -0.094148   \n",
       "agudo              -0.163812 -0.106419 -0.413257      -0.167466 -0.091215   \n",
       "ajuricaba          -0.240983 -0.160734 -0.479404      -0.189482 -0.094148   \n",
       "alecrim            -0.163812 -0.153588  0.115925      -0.189482 -0.092681   \n",
       "\n",
       "            roubo_veiculo  estelionato  delitos_armas_municoes  \\\n",
       "municipios                                                       \n",
       "acegua          -0.108250    -0.174139               -0.221637   \n",
       "agua santa      -0.108250    -0.190466               -0.270616   \n",
       "agudo           -0.093268    -0.146148               -0.246127   \n",
       "ajuricaba       -0.108250    -0.172972               -0.270616   \n",
       "alecrim         -0.108250    -0.185801               -0.074700   \n",
       "\n",
       "            entorpecente_posse  entorpecente_trafico  vitimas_latrocinio  \\\n",
       "municipios                                                                 \n",
       "acegua               -0.264673             -0.205293           -0.202622   \n",
       "agua santa           -0.287715             -0.205293           -0.202622   \n",
       "agudo                -0.233949             -0.141324           -0.202622   \n",
       "ajuricaba            -0.264673             -0.205293           -0.202622   \n",
       "alecrim              -0.287715             -0.179705           -0.202622   \n",
       "\n",
       "            vitimas_lesao_corporal_morte  populacao  \n",
       "municipios                                           \n",
       "acegua                         -0.193052  -0.234986  \n",
       "agua santa                     -0.193052  -0.238138  \n",
       "agudo                          -0.193052  -0.081756  \n",
       "ajuricaba                      -0.193052  -0.197751  \n",
       "alecrim                        -0.193052  -0.210964  "
      ]
     },
     "execution_count": 1332,
     "metadata": {},
     "output_type": "execute_result"
    }
   ],
   "source": [
    "# Normalizando os dados média 0 e desvio padrão 1\n",
    "scaler = StandardScaler(with_std=True, with_mean=True)\n",
    "data_scaled = pd.DataFrame(scaler.fit_transform(df), columns=df.columns, index=df.index)\n",
    "\n",
    "data_scaled.head()"
   ]
  },
  {
   "cell_type": "markdown",
   "metadata": {},
   "source": [
    "## Redução de Dimensionalidade\n",
    "### O dataset agora tem dados suficientes para ranquear as cidades em mais seguras e não seguras com dados proporcionais a população. Entretanto, existem muitas colunas. A alta dimensionalidade deixará o processo de aprendizado confuso criando um sobreajuste nos dados. Então é aplicado o PCA, uma técnida de redução de dimensionalidade.\n",
    "### Para fins de demonstração, será usado somente uma amostra de 20 cidades.\n",
    "\n"
   ]
  },
  {
   "cell_type": "code",
   "execution_count": 1333,
   "metadata": {},
   "outputs": [
    {
     "data": {
      "text/plain": [
       "Index(['hulha negra', 'sao valentim do sul', 'xangri-la', 'nova padua',\n",
       "       'catuipe', 'esmeralda', 'lajeado do bugre', 'cruz alta', 'nova ramada',\n",
       "       'jaguarao', 'nova petropolis', 'charqueadas', 'torres', 'sarandi',\n",
       "       'fortaleza dos valos', 'almirante tamandare do sul', 'esteio',\n",
       "       'frederico westphalen', 'canela', 'piratini', 'vale verde',\n",
       "       'restinga seca', 'santo antonio da patrulha', 'passo do sobrado',\n",
       "       'sao sepe'],\n",
       "      dtype='object', name='municipios')"
      ]
     },
     "execution_count": 1333,
     "metadata": {},
     "output_type": "execute_result"
    }
   ],
   "source": [
    "# Selecionando 20 linhas aleatórias\n",
    "df_sample= data_scaled.sample(n=25, axis=0, random_state=999)\n",
    "\n",
    "df_sample.index\n",
    "\n"
   ]
  },
  {
   "cell_type": "code",
   "execution_count": 1334,
   "metadata": {},
   "outputs": [],
   "source": [
    "import numpy as np\n",
    "\n",
    "from statsmodels.datasets import get_rdataset\n",
    "from sklearn.decomposition import PCA\n"
   ]
  },
  {
   "cell_type": "code",
   "execution_count": 1335,
   "metadata": {},
   "outputs": [
    {
     "data": {
      "text/plain": [
       "13"
      ]
     },
     "execution_count": 1335,
     "metadata": {},
     "output_type": "execute_result"
    }
   ],
   "source": [
    "# Aplicando a PCA\n",
    "pca = PCA()\n",
    "components = pca.fit_transform(df_sample)\n",
    "\n",
    "components.shape[1]"
   ]
  },
  {
   "cell_type": "code",
   "execution_count": 1336,
   "metadata": {},
   "outputs": [
    {
     "data": {
      "text/plain": [
       "array([3.81403134e-01, 3.35609185e-01, 1.40727454e-01, 7.49776034e-02,\n",
       "       4.64638856e-02, 1.41957814e-02, 2.98215223e-03, 2.68379209e-03,\n",
       "       5.28358386e-04, 3.23701599e-04, 6.66889179e-05, 3.82634109e-05,\n",
       "       0.00000000e+00])"
      ]
     },
     "execution_count": 1336,
     "metadata": {},
     "output_type": "execute_result"
    }
   ],
   "source": [
    "# Analise de como os componentes estão explicando os dados com a variância explicada\n",
    "pca.explained_variance_ratio_"
   ]
  },
  {
   "cell_type": "code",
   "execution_count": 1337,
   "metadata": {},
   "outputs": [],
   "source": [
    "import plotly.express as px\n",
    "import plotly.offline as py\n",
    "import plotly.graph_objects as go"
   ]
  },
  {
   "cell_type": "code",
   "execution_count": 1338,
   "metadata": {},
   "outputs": [
    {
     "data": {
      "application/vnd.plotly.v1+json": {
       "config": {
        "plotlyServerURL": "https://plot.ly"
       },
       "data": [
        {
         "fillpattern": {
          "shape": ""
         },
         "hovertemplate": "Componentes Principais=%{x}<br>Variância Explicada Acumulada=%{y}<extra></extra>",
         "legendgroup": "",
         "line": {
          "color": "#636efa"
         },
         "marker": {
          "symbol": "circle"
         },
         "mode": "lines",
         "name": "",
         "orientation": "v",
         "showlegend": false,
         "stackgroup": "1",
         "type": "scatter",
         "x": [
          1,
          2,
          3,
          4,
          5,
          6,
          7,
          8,
          9,
          10,
          11,
          12,
          13
         ],
         "xaxis": "x",
         "y": [
          0.38140313375788154,
          0.7170123192200656,
          0.8577397729213029,
          0.932717376292049,
          0.9791812619181246,
          0.9933770433670147,
          0.996359195595595,
          0.9990429876863286,
          0.9995713460721398,
          0.9998950476711617,
          0.99996173658906,
          1,
          1
         ],
         "yaxis": "y"
        }
       ],
       "layout": {
        "legend": {
         "tracegroupgap": 0
        },
        "margin": {
         "t": 60
        },
        "template": {
         "data": {
          "bar": [
           {
            "error_x": {
             "color": "#2a3f5f"
            },
            "error_y": {
             "color": "#2a3f5f"
            },
            "marker": {
             "line": {
              "color": "#E5ECF6",
              "width": 0.5
             },
             "pattern": {
              "fillmode": "overlay",
              "size": 10,
              "solidity": 0.2
             }
            },
            "type": "bar"
           }
          ],
          "barpolar": [
           {
            "marker": {
             "line": {
              "color": "#E5ECF6",
              "width": 0.5
             },
             "pattern": {
              "fillmode": "overlay",
              "size": 10,
              "solidity": 0.2
             }
            },
            "type": "barpolar"
           }
          ],
          "carpet": [
           {
            "aaxis": {
             "endlinecolor": "#2a3f5f",
             "gridcolor": "white",
             "linecolor": "white",
             "minorgridcolor": "white",
             "startlinecolor": "#2a3f5f"
            },
            "baxis": {
             "endlinecolor": "#2a3f5f",
             "gridcolor": "white",
             "linecolor": "white",
             "minorgridcolor": "white",
             "startlinecolor": "#2a3f5f"
            },
            "type": "carpet"
           }
          ],
          "choropleth": [
           {
            "colorbar": {
             "outlinewidth": 0,
             "ticks": ""
            },
            "type": "choropleth"
           }
          ],
          "contour": [
           {
            "colorbar": {
             "outlinewidth": 0,
             "ticks": ""
            },
            "colorscale": [
             [
              0,
              "#0d0887"
             ],
             [
              0.1111111111111111,
              "#46039f"
             ],
             [
              0.2222222222222222,
              "#7201a8"
             ],
             [
              0.3333333333333333,
              "#9c179e"
             ],
             [
              0.4444444444444444,
              "#bd3786"
             ],
             [
              0.5555555555555556,
              "#d8576b"
             ],
             [
              0.6666666666666666,
              "#ed7953"
             ],
             [
              0.7777777777777778,
              "#fb9f3a"
             ],
             [
              0.8888888888888888,
              "#fdca26"
             ],
             [
              1,
              "#f0f921"
             ]
            ],
            "type": "contour"
           }
          ],
          "contourcarpet": [
           {
            "colorbar": {
             "outlinewidth": 0,
             "ticks": ""
            },
            "type": "contourcarpet"
           }
          ],
          "heatmap": [
           {
            "colorbar": {
             "outlinewidth": 0,
             "ticks": ""
            },
            "colorscale": [
             [
              0,
              "#0d0887"
             ],
             [
              0.1111111111111111,
              "#46039f"
             ],
             [
              0.2222222222222222,
              "#7201a8"
             ],
             [
              0.3333333333333333,
              "#9c179e"
             ],
             [
              0.4444444444444444,
              "#bd3786"
             ],
             [
              0.5555555555555556,
              "#d8576b"
             ],
             [
              0.6666666666666666,
              "#ed7953"
             ],
             [
              0.7777777777777778,
              "#fb9f3a"
             ],
             [
              0.8888888888888888,
              "#fdca26"
             ],
             [
              1,
              "#f0f921"
             ]
            ],
            "type": "heatmap"
           }
          ],
          "heatmapgl": [
           {
            "colorbar": {
             "outlinewidth": 0,
             "ticks": ""
            },
            "colorscale": [
             [
              0,
              "#0d0887"
             ],
             [
              0.1111111111111111,
              "#46039f"
             ],
             [
              0.2222222222222222,
              "#7201a8"
             ],
             [
              0.3333333333333333,
              "#9c179e"
             ],
             [
              0.4444444444444444,
              "#bd3786"
             ],
             [
              0.5555555555555556,
              "#d8576b"
             ],
             [
              0.6666666666666666,
              "#ed7953"
             ],
             [
              0.7777777777777778,
              "#fb9f3a"
             ],
             [
              0.8888888888888888,
              "#fdca26"
             ],
             [
              1,
              "#f0f921"
             ]
            ],
            "type": "heatmapgl"
           }
          ],
          "histogram": [
           {
            "marker": {
             "pattern": {
              "fillmode": "overlay",
              "size": 10,
              "solidity": 0.2
             }
            },
            "type": "histogram"
           }
          ],
          "histogram2d": [
           {
            "colorbar": {
             "outlinewidth": 0,
             "ticks": ""
            },
            "colorscale": [
             [
              0,
              "#0d0887"
             ],
             [
              0.1111111111111111,
              "#46039f"
             ],
             [
              0.2222222222222222,
              "#7201a8"
             ],
             [
              0.3333333333333333,
              "#9c179e"
             ],
             [
              0.4444444444444444,
              "#bd3786"
             ],
             [
              0.5555555555555556,
              "#d8576b"
             ],
             [
              0.6666666666666666,
              "#ed7953"
             ],
             [
              0.7777777777777778,
              "#fb9f3a"
             ],
             [
              0.8888888888888888,
              "#fdca26"
             ],
             [
              1,
              "#f0f921"
             ]
            ],
            "type": "histogram2d"
           }
          ],
          "histogram2dcontour": [
           {
            "colorbar": {
             "outlinewidth": 0,
             "ticks": ""
            },
            "colorscale": [
             [
              0,
              "#0d0887"
             ],
             [
              0.1111111111111111,
              "#46039f"
             ],
             [
              0.2222222222222222,
              "#7201a8"
             ],
             [
              0.3333333333333333,
              "#9c179e"
             ],
             [
              0.4444444444444444,
              "#bd3786"
             ],
             [
              0.5555555555555556,
              "#d8576b"
             ],
             [
              0.6666666666666666,
              "#ed7953"
             ],
             [
              0.7777777777777778,
              "#fb9f3a"
             ],
             [
              0.8888888888888888,
              "#fdca26"
             ],
             [
              1,
              "#f0f921"
             ]
            ],
            "type": "histogram2dcontour"
           }
          ],
          "mesh3d": [
           {
            "colorbar": {
             "outlinewidth": 0,
             "ticks": ""
            },
            "type": "mesh3d"
           }
          ],
          "parcoords": [
           {
            "line": {
             "colorbar": {
              "outlinewidth": 0,
              "ticks": ""
             }
            },
            "type": "parcoords"
           }
          ],
          "pie": [
           {
            "automargin": true,
            "type": "pie"
           }
          ],
          "scatter": [
           {
            "fillpattern": {
             "fillmode": "overlay",
             "size": 10,
             "solidity": 0.2
            },
            "type": "scatter"
           }
          ],
          "scatter3d": [
           {
            "line": {
             "colorbar": {
              "outlinewidth": 0,
              "ticks": ""
             }
            },
            "marker": {
             "colorbar": {
              "outlinewidth": 0,
              "ticks": ""
             }
            },
            "type": "scatter3d"
           }
          ],
          "scattercarpet": [
           {
            "marker": {
             "colorbar": {
              "outlinewidth": 0,
              "ticks": ""
             }
            },
            "type": "scattercarpet"
           }
          ],
          "scattergeo": [
           {
            "marker": {
             "colorbar": {
              "outlinewidth": 0,
              "ticks": ""
             }
            },
            "type": "scattergeo"
           }
          ],
          "scattergl": [
           {
            "marker": {
             "colorbar": {
              "outlinewidth": 0,
              "ticks": ""
             }
            },
            "type": "scattergl"
           }
          ],
          "scattermapbox": [
           {
            "marker": {
             "colorbar": {
              "outlinewidth": 0,
              "ticks": ""
             }
            },
            "type": "scattermapbox"
           }
          ],
          "scatterpolar": [
           {
            "marker": {
             "colorbar": {
              "outlinewidth": 0,
              "ticks": ""
             }
            },
            "type": "scatterpolar"
           }
          ],
          "scatterpolargl": [
           {
            "marker": {
             "colorbar": {
              "outlinewidth": 0,
              "ticks": ""
             }
            },
            "type": "scatterpolargl"
           }
          ],
          "scatterternary": [
           {
            "marker": {
             "colorbar": {
              "outlinewidth": 0,
              "ticks": ""
             }
            },
            "type": "scatterternary"
           }
          ],
          "surface": [
           {
            "colorbar": {
             "outlinewidth": 0,
             "ticks": ""
            },
            "colorscale": [
             [
              0,
              "#0d0887"
             ],
             [
              0.1111111111111111,
              "#46039f"
             ],
             [
              0.2222222222222222,
              "#7201a8"
             ],
             [
              0.3333333333333333,
              "#9c179e"
             ],
             [
              0.4444444444444444,
              "#bd3786"
             ],
             [
              0.5555555555555556,
              "#d8576b"
             ],
             [
              0.6666666666666666,
              "#ed7953"
             ],
             [
              0.7777777777777778,
              "#fb9f3a"
             ],
             [
              0.8888888888888888,
              "#fdca26"
             ],
             [
              1,
              "#f0f921"
             ]
            ],
            "type": "surface"
           }
          ],
          "table": [
           {
            "cells": {
             "fill": {
              "color": "#EBF0F8"
             },
             "line": {
              "color": "white"
             }
            },
            "header": {
             "fill": {
              "color": "#C8D4E3"
             },
             "line": {
              "color": "white"
             }
            },
            "type": "table"
           }
          ]
         },
         "layout": {
          "annotationdefaults": {
           "arrowcolor": "#2a3f5f",
           "arrowhead": 0,
           "arrowwidth": 1
          },
          "autotypenumbers": "strict",
          "coloraxis": {
           "colorbar": {
            "outlinewidth": 0,
            "ticks": ""
           }
          },
          "colorscale": {
           "diverging": [
            [
             0,
             "#8e0152"
            ],
            [
             0.1,
             "#c51b7d"
            ],
            [
             0.2,
             "#de77ae"
            ],
            [
             0.3,
             "#f1b6da"
            ],
            [
             0.4,
             "#fde0ef"
            ],
            [
             0.5,
             "#f7f7f7"
            ],
            [
             0.6,
             "#e6f5d0"
            ],
            [
             0.7,
             "#b8e186"
            ],
            [
             0.8,
             "#7fbc41"
            ],
            [
             0.9,
             "#4d9221"
            ],
            [
             1,
             "#276419"
            ]
           ],
           "sequential": [
            [
             0,
             "#0d0887"
            ],
            [
             0.1111111111111111,
             "#46039f"
            ],
            [
             0.2222222222222222,
             "#7201a8"
            ],
            [
             0.3333333333333333,
             "#9c179e"
            ],
            [
             0.4444444444444444,
             "#bd3786"
            ],
            [
             0.5555555555555556,
             "#d8576b"
            ],
            [
             0.6666666666666666,
             "#ed7953"
            ],
            [
             0.7777777777777778,
             "#fb9f3a"
            ],
            [
             0.8888888888888888,
             "#fdca26"
            ],
            [
             1,
             "#f0f921"
            ]
           ],
           "sequentialminus": [
            [
             0,
             "#0d0887"
            ],
            [
             0.1111111111111111,
             "#46039f"
            ],
            [
             0.2222222222222222,
             "#7201a8"
            ],
            [
             0.3333333333333333,
             "#9c179e"
            ],
            [
             0.4444444444444444,
             "#bd3786"
            ],
            [
             0.5555555555555556,
             "#d8576b"
            ],
            [
             0.6666666666666666,
             "#ed7953"
            ],
            [
             0.7777777777777778,
             "#fb9f3a"
            ],
            [
             0.8888888888888888,
             "#fdca26"
            ],
            [
             1,
             "#f0f921"
            ]
           ]
          },
          "colorway": [
           "#636efa",
           "#EF553B",
           "#00cc96",
           "#ab63fa",
           "#FFA15A",
           "#19d3f3",
           "#FF6692",
           "#B6E880",
           "#FF97FF",
           "#FECB52"
          ],
          "font": {
           "color": "#2a3f5f"
          },
          "geo": {
           "bgcolor": "white",
           "lakecolor": "white",
           "landcolor": "#E5ECF6",
           "showlakes": true,
           "showland": true,
           "subunitcolor": "white"
          },
          "hoverlabel": {
           "align": "left"
          },
          "hovermode": "closest",
          "mapbox": {
           "style": "light"
          },
          "paper_bgcolor": "white",
          "plot_bgcolor": "#E5ECF6",
          "polar": {
           "angularaxis": {
            "gridcolor": "white",
            "linecolor": "white",
            "ticks": ""
           },
           "bgcolor": "#E5ECF6",
           "radialaxis": {
            "gridcolor": "white",
            "linecolor": "white",
            "ticks": ""
           }
          },
          "scene": {
           "xaxis": {
            "backgroundcolor": "#E5ECF6",
            "gridcolor": "white",
            "gridwidth": 2,
            "linecolor": "white",
            "showbackground": true,
            "ticks": "",
            "zerolinecolor": "white"
           },
           "yaxis": {
            "backgroundcolor": "#E5ECF6",
            "gridcolor": "white",
            "gridwidth": 2,
            "linecolor": "white",
            "showbackground": true,
            "ticks": "",
            "zerolinecolor": "white"
           },
           "zaxis": {
            "backgroundcolor": "#E5ECF6",
            "gridcolor": "white",
            "gridwidth": 2,
            "linecolor": "white",
            "showbackground": true,
            "ticks": "",
            "zerolinecolor": "white"
           }
          },
          "shapedefaults": {
           "line": {
            "color": "#2a3f5f"
           }
          },
          "ternary": {
           "aaxis": {
            "gridcolor": "white",
            "linecolor": "white",
            "ticks": ""
           },
           "baxis": {
            "gridcolor": "white",
            "linecolor": "white",
            "ticks": ""
           },
           "bgcolor": "#E5ECF6",
           "caxis": {
            "gridcolor": "white",
            "linecolor": "white",
            "ticks": ""
           }
          },
          "title": {
           "x": 0.05
          },
          "xaxis": {
           "automargin": true,
           "gridcolor": "white",
           "linecolor": "white",
           "ticks": "",
           "title": {
            "standoff": 15
           },
           "zerolinecolor": "white",
           "zerolinewidth": 2
          },
          "yaxis": {
           "automargin": true,
           "gridcolor": "white",
           "linecolor": "white",
           "ticks": "",
           "title": {
            "standoff": 15
           },
           "zerolinecolor": "white",
           "zerolinewidth": 2
          }
         }
        },
        "xaxis": {
         "anchor": "y",
         "domain": [
          0,
          1
         ],
         "title": {
          "text": "Componentes Principais"
         }
        },
        "yaxis": {
         "anchor": "x",
         "domain": [
          0,
          1
         ],
         "title": {
          "text": "Variância Explicada Acumulada"
         }
        }
       }
      }
     },
     "metadata": {},
     "output_type": "display_data"
    }
   ],
   "source": [
    "# Plotando o gráfico da variância explicada acumulada\n",
    "px.area(\n",
    "    x=range(1, pca.explained_variance_ratio_.cumsum().shape[0] + 1),\n",
    "    y=pca.explained_variance_ratio_.cumsum(),\n",
    "    labels={\"x\": \"Componentes Principais\", \"y\": \"Variância Explicada Acumulada\"}\n",
    ")\n"
   ]
  },
  {
   "cell_type": "code",
   "execution_count": 1339,
   "metadata": {},
   "outputs": [
    {
     "data": {
      "text/plain": [
       "4"
      ]
     },
     "execution_count": 1339,
     "metadata": {},
     "output_type": "execute_result"
    }
   ],
   "source": [
    "n = 4\n",
    "\n",
    "# Aplicando a PCA com n componentes\n",
    "pca = PCA(n_components=n)\n",
    "components = pca.fit_transform(df_sample)\n",
    "\n",
    "components.shape[1]"
   ]
  },
  {
   "cell_type": "markdown",
   "metadata": {},
   "source": [
    "### Dataframe agora utilizando os componentes principais para explicar os dados de criminalidade nas cidades"
   ]
  },
  {
   "cell_type": "code",
   "execution_count": 1340,
   "metadata": {},
   "outputs": [
    {
     "data": {
      "text/html": [
       "<div>\n",
       "<style scoped>\n",
       "    .dataframe tbody tr th:only-of-type {\n",
       "        vertical-align: middle;\n",
       "    }\n",
       "\n",
       "    .dataframe tbody tr th {\n",
       "        vertical-align: top;\n",
       "    }\n",
       "\n",
       "    .dataframe thead th {\n",
       "        text-align: right;\n",
       "    }\n",
       "</style>\n",
       "<table border=\"1\" class=\"dataframe\">\n",
       "  <thead>\n",
       "    <tr style=\"text-align: right;\">\n",
       "      <th></th>\n",
       "      <th>PC1</th>\n",
       "      <th>PC2</th>\n",
       "      <th>PC3</th>\n",
       "      <th>PC4</th>\n",
       "    </tr>\n",
       "    <tr>\n",
       "      <th>municipios</th>\n",
       "      <th></th>\n",
       "      <th></th>\n",
       "      <th></th>\n",
       "      <th></th>\n",
       "    </tr>\n",
       "  </thead>\n",
       "  <tbody>\n",
       "    <tr>\n",
       "      <th>hulha negra</th>\n",
       "      <td>-0.601557</td>\n",
       "      <td>0.075443</td>\n",
       "      <td>-0.145768</td>\n",
       "      <td>0.006247</td>\n",
       "    </tr>\n",
       "    <tr>\n",
       "      <th>sao valentim do sul</th>\n",
       "      <td>-0.682314</td>\n",
       "      <td>-0.512254</td>\n",
       "      <td>-0.072228</td>\n",
       "      <td>0.019699</td>\n",
       "    </tr>\n",
       "    <tr>\n",
       "      <th>xangri-la</th>\n",
       "      <td>0.044404</td>\n",
       "      <td>-0.434083</td>\n",
       "      <td>-0.035557</td>\n",
       "      <td>-0.017995</td>\n",
       "    </tr>\n",
       "    <tr>\n",
       "      <th>nova padua</th>\n",
       "      <td>-0.710398</td>\n",
       "      <td>-0.512442</td>\n",
       "      <td>-0.073661</td>\n",
       "      <td>0.017818</td>\n",
       "    </tr>\n",
       "    <tr>\n",
       "      <th>catuipe</th>\n",
       "      <td>-0.479446</td>\n",
       "      <td>-0.042584</td>\n",
       "      <td>-0.122929</td>\n",
       "      <td>0.173788</td>\n",
       "    </tr>\n",
       "  </tbody>\n",
       "</table>\n",
       "</div>"
      ],
      "text/plain": [
       "                          PC1       PC2       PC3       PC4\n",
       "municipios                                                 \n",
       "hulha negra         -0.601557  0.075443 -0.145768  0.006247\n",
       "sao valentim do sul -0.682314 -0.512254 -0.072228  0.019699\n",
       "xangri-la            0.044404 -0.434083 -0.035557 -0.017995\n",
       "nova padua          -0.710398 -0.512442 -0.073661  0.017818\n",
       "catuipe             -0.479446 -0.042584 -0.122929  0.173788"
      ]
     },
     "execution_count": 1340,
     "metadata": {},
     "output_type": "execute_result"
    }
   ],
   "source": [
    "df_pca = pd.DataFrame(data = components, columns = ['PC1', 'PC2', 'PC3', 'PC4'])\n",
    "df_pca['municipios'] = df_sample.index\n",
    "df_pca.set_index('municipios', inplace=True)\n",
    "df_pca.head()"
   ]
  },
  {
   "cell_type": "code",
   "execution_count": 1341,
   "metadata": {},
   "outputs": [
    {
     "data": {
      "application/vnd.plotly.v1+json": {
       "config": {
        "plotlyServerURL": "https://plot.ly"
       },
       "data": [
        {
         "diagonal": {
          "visible": false
         },
         "dimensions": [
          {
           "axis": {
            "matches": true
           },
           "label": "PC1",
           "values": [
            -0.6015571329880844
           ]
          },
          {
           "axis": {
            "matches": true
           },
           "label": "PC2",
           "values": [
            0.07544342454418398
           ]
          },
          {
           "axis": {
            "matches": true
           },
           "label": "PC3",
           "values": [
            -0.14576831499970555
           ]
          },
          {
           "axis": {
            "matches": true
           },
           "label": "PC4",
           "values": [
            0.0062471921564717075
           ]
          }
         ],
         "hovertemplate": "municipios=hulha negra<br>%{xaxis.title.text}=%{x}<br>%{yaxis.title.text}=%{y}<extra></extra>",
         "legendgroup": "hulha negra",
         "marker": {
          "color": "#636efa",
          "symbol": "circle"
         },
         "name": "hulha negra",
         "showlegend": true,
         "type": "splom"
        },
        {
         "diagonal": {
          "visible": false
         },
         "dimensions": [
          {
           "axis": {
            "matches": true
           },
           "label": "PC1",
           "values": [
            -0.6823135300808117
           ]
          },
          {
           "axis": {
            "matches": true
           },
           "label": "PC2",
           "values": [
            -0.5122535820251146
           ]
          },
          {
           "axis": {
            "matches": true
           },
           "label": "PC3",
           "values": [
            -0.07222818536548746
           ]
          },
          {
           "axis": {
            "matches": true
           },
           "label": "PC4",
           "values": [
            0.019699360687518826
           ]
          }
         ],
         "hovertemplate": "municipios=sao valentim do sul<br>%{xaxis.title.text}=%{x}<br>%{yaxis.title.text}=%{y}<extra></extra>",
         "legendgroup": "sao valentim do sul",
         "marker": {
          "color": "#EF553B",
          "symbol": "circle"
         },
         "name": "sao valentim do sul",
         "showlegend": true,
         "type": "splom"
        },
        {
         "diagonal": {
          "visible": false
         },
         "dimensions": [
          {
           "axis": {
            "matches": true
           },
           "label": "PC1",
           "values": [
            0.04440365794186637
           ]
          },
          {
           "axis": {
            "matches": true
           },
           "label": "PC2",
           "values": [
            -0.43408343002895794
           ]
          },
          {
           "axis": {
            "matches": true
           },
           "label": "PC3",
           "values": [
            -0.03555708791262207
           ]
          },
          {
           "axis": {
            "matches": true
           },
           "label": "PC4",
           "values": [
            -0.017994983334196968
           ]
          }
         ],
         "hovertemplate": "municipios=xangri-la<br>%{xaxis.title.text}=%{x}<br>%{yaxis.title.text}=%{y}<extra></extra>",
         "legendgroup": "xangri-la",
         "marker": {
          "color": "#00cc96",
          "symbol": "circle"
         },
         "name": "xangri-la",
         "showlegend": true,
         "type": "splom"
        },
        {
         "diagonal": {
          "visible": false
         },
         "dimensions": [
          {
           "axis": {
            "matches": true
           },
           "label": "PC1",
           "values": [
            -0.7103976257434185
           ]
          },
          {
           "axis": {
            "matches": true
           },
           "label": "PC2",
           "values": [
            -0.5124422393091553
           ]
          },
          {
           "axis": {
            "matches": true
           },
           "label": "PC3",
           "values": [
            -0.07366085131981111
           ]
          },
          {
           "axis": {
            "matches": true
           },
           "label": "PC4",
           "values": [
            0.017818482462129494
           ]
          }
         ],
         "hovertemplate": "municipios=nova padua<br>%{xaxis.title.text}=%{x}<br>%{yaxis.title.text}=%{y}<extra></extra>",
         "legendgroup": "nova padua",
         "marker": {
          "color": "#ab63fa",
          "symbol": "circle"
         },
         "name": "nova padua",
         "showlegend": true,
         "type": "splom"
        },
        {
         "diagonal": {
          "visible": false
         },
         "dimensions": [
          {
           "axis": {
            "matches": true
           },
           "label": "PC1",
           "values": [
            -0.4794460102159635
           ]
          },
          {
           "axis": {
            "matches": true
           },
           "label": "PC2",
           "values": [
            -0.042583954964437974
           ]
          },
          {
           "axis": {
            "matches": true
           },
           "label": "PC3",
           "values": [
            -0.12292949313623562
           ]
          },
          {
           "axis": {
            "matches": true
           },
           "label": "PC4",
           "values": [
            0.17378829014854916
           ]
          }
         ],
         "hovertemplate": "municipios=catuipe<br>%{xaxis.title.text}=%{x}<br>%{yaxis.title.text}=%{y}<extra></extra>",
         "legendgroup": "catuipe",
         "marker": {
          "color": "#FFA15A",
          "symbol": "circle"
         },
         "name": "catuipe",
         "showlegend": true,
         "type": "splom"
        },
        {
         "diagonal": {
          "visible": false
         },
         "dimensions": [
          {
           "axis": {
            "matches": true
           },
           "label": "PC1",
           "values": [
            -0.5868409829748974
           ]
          },
          {
           "axis": {
            "matches": true
           },
           "label": "PC2",
           "values": [
            -0.43621161192641666
           ]
          },
          {
           "axis": {
            "matches": true
           },
           "label": "PC3",
           "values": [
            -0.07794754089846437
           ]
          },
          {
           "axis": {
            "matches": true
           },
           "label": "PC4",
           "values": [
            0.15972343985462634
           ]
          }
         ],
         "hovertemplate": "municipios=esmeralda<br>%{xaxis.title.text}=%{x}<br>%{yaxis.title.text}=%{y}<extra></extra>",
         "legendgroup": "esmeralda",
         "marker": {
          "color": "#19d3f3",
          "symbol": "circle"
         },
         "name": "esmeralda",
         "showlegend": true,
         "type": "splom"
        },
        {
         "diagonal": {
          "visible": false
         },
         "dimensions": [
          {
           "axis": {
            "matches": true
           },
           "label": "PC1",
           "values": [
            -0.6813806005832485
           ]
          },
          {
           "axis": {
            "matches": true
           },
           "label": "PC2",
           "values": [
            -0.5094190461546351
           ]
          },
          {
           "axis": {
            "matches": true
           },
           "label": "PC3",
           "values": [
            -0.07319785436253526
           ]
          },
          {
           "axis": {
            "matches": true
           },
           "label": "PC4",
           "values": [
            0.0456101051406357
           ]
          }
         ],
         "hovertemplate": "municipios=lajeado do bugre<br>%{xaxis.title.text}=%{x}<br>%{yaxis.title.text}=%{y}<extra></extra>",
         "legendgroup": "lajeado do bugre",
         "marker": {
          "color": "#FF6692",
          "symbol": "circle"
         },
         "name": "lajeado do bugre",
         "showlegend": true,
         "type": "splom"
        },
        {
         "diagonal": {
          "visible": false
         },
         "dimensions": [
          {
           "axis": {
            "matches": true
           },
           "label": "PC1",
           "values": [
            1.6694844657284507
           ]
          },
          {
           "axis": {
            "matches": true
           },
           "label": "PC2",
           "values": [
            0.259450739145334
           ]
          },
          {
           "axis": {
            "matches": true
           },
           "label": "PC3",
           "values": [
            -0.03873409794846643
           ]
          },
          {
           "axis": {
            "matches": true
           },
           "label": "PC4",
           "values": [
            1.027020892588429
           ]
          }
         ],
         "hovertemplate": "municipios=cruz alta<br>%{xaxis.title.text}=%{x}<br>%{yaxis.title.text}=%{y}<extra></extra>",
         "legendgroup": "cruz alta",
         "marker": {
          "color": "#B6E880",
          "symbol": "circle"
         },
         "name": "cruz alta",
         "showlegend": true,
         "type": "splom"
        },
        {
         "diagonal": {
          "visible": false
         },
         "dimensions": [
          {
           "axis": {
            "matches": true
           },
           "label": "PC1",
           "values": [
            -0.6808111882307566
           ]
          },
          {
           "axis": {
            "matches": true
           },
           "label": "PC2",
           "values": [
            -0.44398524932702693
           ]
          },
          {
           "axis": {
            "matches": true
           },
           "label": "PC3",
           "values": [
            -0.08191465575768751
           ]
          },
          {
           "axis": {
            "matches": true
           },
           "label": "PC4",
           "values": [
            0.03993200888393918
           ]
          }
         ],
         "hovertemplate": "municipios=nova ramada<br>%{xaxis.title.text}=%{x}<br>%{yaxis.title.text}=%{y}<extra></extra>",
         "legendgroup": "nova ramada",
         "marker": {
          "color": "#FF97FF",
          "symbol": "circle"
         },
         "name": "nova ramada",
         "showlegend": true,
         "type": "splom"
        },
        {
         "diagonal": {
          "visible": false
         },
         "dimensions": [
          {
           "axis": {
            "matches": true
           },
           "label": "PC1",
           "values": [
            0.15978897242523282
           ]
          },
          {
           "axis": {
            "matches": true
           },
           "label": "PC2",
           "values": [
            2.3164693944515244
           ]
          },
          {
           "axis": {
            "matches": true
           },
           "label": "PC3",
           "values": [
            -0.3941495580259799
           ]
          },
          {
           "axis": {
            "matches": true
           },
           "label": "PC4",
           "values": [
            -0.2697818387365881
           ]
          }
         ],
         "hovertemplate": "municipios=jaguarao<br>%{xaxis.title.text}=%{x}<br>%{yaxis.title.text}=%{y}<extra></extra>",
         "legendgroup": "jaguarao",
         "marker": {
          "color": "#FECB52",
          "symbol": "circle"
         },
         "name": "jaguarao",
         "showlegend": true,
         "type": "splom"
        },
        {
         "diagonal": {
          "visible": false
         },
         "dimensions": [
          {
           "axis": {
            "matches": true
           },
           "label": "PC1",
           "values": [
            -0.1705063928647756
           ]
          },
          {
           "axis": {
            "matches": true
           },
           "label": "PC2",
           "values": [
            -0.47771776959155643
           ]
          },
          {
           "axis": {
            "matches": true
           },
           "label": "PC3",
           "values": [
            -0.03931370188405539
           ]
          },
          {
           "axis": {
            "matches": true
           },
           "label": "PC4",
           "values": [
            -0.02380820348851228
           ]
          }
         ],
         "hovertemplate": "municipios=nova petropolis<br>%{xaxis.title.text}=%{x}<br>%{yaxis.title.text}=%{y}<extra></extra>",
         "legendgroup": "nova petropolis",
         "marker": {
          "color": "#636efa",
          "symbol": "circle"
         },
         "name": "nova petropolis",
         "showlegend": true,
         "type": "splom"
        },
        {
         "diagonal": {
          "visible": false
         },
         "dimensions": [
          {
           "axis": {
            "matches": true
           },
           "label": "PC1",
           "values": [
            1.1056083366668523
           ]
          },
          {
           "axis": {
            "matches": true
           },
           "label": "PC2",
           "values": [
            -0.44189258972001144
           ]
          },
          {
           "axis": {
            "matches": true
           },
           "label": "PC3",
           "values": [
            0.03414800631289264
           ]
          },
          {
           "axis": {
            "matches": true
           },
           "label": "PC4",
           "values": [
            -0.9543365135720306
           ]
          }
         ],
         "hovertemplate": "municipios=charqueadas<br>%{xaxis.title.text}=%{x}<br>%{yaxis.title.text}=%{y}<extra></extra>",
         "legendgroup": "charqueadas",
         "marker": {
          "color": "#EF553B",
          "symbol": "circle"
         },
         "name": "charqueadas",
         "showlegend": true,
         "type": "splom"
        },
        {
         "diagonal": {
          "visible": false
         },
         "dimensions": [
          {
           "axis": {
            "matches": true
           },
           "label": "PC1",
           "values": [
            1.0877941016273636
           ]
          },
          {
           "axis": {
            "matches": true
           },
           "label": "PC2",
           "values": [
            0.04869280573174797
           ]
          },
          {
           "axis": {
            "matches": true
           },
           "label": "PC3",
           "values": [
            -0.03630385657516378
           ]
          },
          {
           "axis": {
            "matches": true
           },
           "label": "PC4",
           "values": [
            -0.3463252227455978
           ]
          }
         ],
         "hovertemplate": "municipios=torres<br>%{xaxis.title.text}=%{x}<br>%{yaxis.title.text}=%{y}<extra></extra>",
         "legendgroup": "torres",
         "marker": {
          "color": "#00cc96",
          "symbol": "circle"
         },
         "name": "torres",
         "showlegend": true,
         "type": "splom"
        },
        {
         "diagonal": {
          "visible": false
         },
         "dimensions": [
          {
           "axis": {
            "matches": true
           },
           "label": "PC1",
           "values": [
            0.19317399709202676
           ]
          },
          {
           "axis": {
            "matches": true
           },
           "label": "PC2",
           "values": [
            -0.4987587411780026
           ]
          },
          {
           "axis": {
            "matches": true
           },
           "label": "PC3",
           "values": [
            -0.017767289324428837
           ]
          },
          {
           "axis": {
            "matches": true
           },
           "label": "PC4",
           "values": [
            -0.008377408780860482
           ]
          }
         ],
         "hovertemplate": "municipios=sarandi<br>%{xaxis.title.text}=%{x}<br>%{yaxis.title.text}=%{y}<extra></extra>",
         "legendgroup": "sarandi",
         "marker": {
          "color": "#ab63fa",
          "symbol": "circle"
         },
         "name": "sarandi",
         "showlegend": true,
         "type": "splom"
        },
        {
         "diagonal": {
          "visible": false
         },
         "dimensions": [
          {
           "axis": {
            "matches": true
           },
           "label": "PC1",
           "values": [
            -0.6664164826033911
           ]
          },
          {
           "axis": {
            "matches": true
           },
           "label": "PC2",
           "values": [
            -0.38186668901744913
           ]
          },
          {
           "axis": {
            "matches": true
           },
           "label": "PC3",
           "values": [
            -0.08840210448337485
           ]
          },
          {
           "axis": {
            "matches": true
           },
           "label": "PC4",
           "values": [
            0.030490914713299698
           ]
          }
         ],
         "hovertemplate": "municipios=fortaleza dos valos<br>%{xaxis.title.text}=%{x}<br>%{yaxis.title.text}=%{y}<extra></extra>",
         "legendgroup": "fortaleza dos valos",
         "marker": {
          "color": "#FFA15A",
          "symbol": "circle"
         },
         "name": "fortaleza dos valos",
         "showlegend": true,
         "type": "splom"
        },
        {
         "diagonal": {
          "visible": false
         },
         "dimensions": [
          {
           "axis": {
            "matches": true
           },
           "label": "PC1",
           "values": [
            -0.690689879980427
           ]
          },
          {
           "axis": {
            "matches": true
           },
           "label": "PC2",
           "values": [
            -0.4447901151504178
           ]
          },
          {
           "axis": {
            "matches": true
           },
           "label": "PC3",
           "values": [
            -0.08231063310375127
           ]
          },
          {
           "axis": {
            "matches": true
           },
           "label": "PC4",
           "values": [
            0.034522586918068705
           ]
          }
         ],
         "hovertemplate": "municipios=almirante tamandare do sul<br>%{xaxis.title.text}=%{x}<br>%{yaxis.title.text}=%{y}<extra></extra>",
         "legendgroup": "almirante tamandare do sul",
         "marker": {
          "color": "#19d3f3",
          "symbol": "circle"
         },
         "name": "almirante tamandare do sul",
         "showlegend": true,
         "type": "splom"
        },
        {
         "diagonal": {
          "visible": false
         },
         "dimensions": [
          {
           "axis": {
            "matches": true
           },
           "label": "PC1",
           "values": [
            1.499242778238174
           ]
          },
          {
           "axis": {
            "matches": true
           },
           "label": "PC2",
           "values": [
            -0.6255616529597662
           ]
          },
          {
           "axis": {
            "matches": true
           },
           "label": "PC3",
           "values": [
            0.08000813380577744
           ]
          },
          {
           "axis": {
            "matches": true
           },
           "label": "PC4",
           "values": [
            0.5572460049044168
           ]
          }
         ],
         "hovertemplate": "municipios=esteio<br>%{xaxis.title.text}=%{x}<br>%{yaxis.title.text}=%{y}<extra></extra>",
         "legendgroup": "esteio",
         "marker": {
          "color": "#FF6692",
          "symbol": "circle"
         },
         "name": "esteio",
         "showlegend": true,
         "type": "splom"
        },
        {
         "diagonal": {
          "visible": false
         },
         "dimensions": [
          {
           "axis": {
            "matches": true
           },
           "label": "PC1",
           "values": [
            0.5492902964117184
           ]
          },
          {
           "axis": {
            "matches": true
           },
           "label": "PC2",
           "values": [
            0.042026746627124294
           ]
          },
          {
           "axis": {
            "matches": true
           },
           "label": "PC3",
           "values": [
            -0.06334163414298556
           ]
          },
          {
           "axis": {
            "matches": true
           },
           "label": "PC4",
           "values": [
            -0.3269675457665338
           ]
          }
         ],
         "hovertemplate": "municipios=frederico westphalen<br>%{xaxis.title.text}=%{x}<br>%{yaxis.title.text}=%{y}<extra></extra>",
         "legendgroup": "frederico westphalen",
         "marker": {
          "color": "#B6E880",
          "symbol": "circle"
         },
         "name": "frederico westphalen",
         "showlegend": true,
         "type": "splom"
        },
        {
         "diagonal": {
          "visible": false
         },
         "dimensions": [
          {
           "axis": {
            "matches": true
           },
           "label": "PC1",
           "values": [
            1.3673356993136878
           ]
          },
          {
           "axis": {
            "matches": true
           },
           "label": "PC2",
           "values": [
            -0.6239739454620542
           ]
          },
          {
           "axis": {
            "matches": true
           },
           "label": "PC3",
           "values": [
            0.0742226519406698
           ]
          },
          {
           "axis": {
            "matches": true
           },
           "label": "PC4",
           "values": [
            -0.43867722456665253
           ]
          }
         ],
         "hovertemplate": "municipios=canela<br>%{xaxis.title.text}=%{x}<br>%{yaxis.title.text}=%{y}<extra></extra>",
         "legendgroup": "canela",
         "marker": {
          "color": "#FF97FF",
          "symbol": "circle"
         },
         "name": "canela",
         "showlegend": true,
         "type": "splom"
        },
        {
         "diagonal": {
          "visible": false
         },
         "dimensions": [
          {
           "axis": {
            "matches": true
           },
           "label": "PC1",
           "values": [
            -0.16958585871903695
           ]
          },
          {
           "axis": {
            "matches": true
           },
           "label": "PC2",
           "values": [
            1.770382557316886
           ]
          },
          {
           "axis": {
            "matches": true
           },
           "label": "PC3",
           "values": [
            -0.34372944742120365
           ]
          },
          {
           "axis": {
            "matches": true
           },
           "label": "PC4",
           "values": [
            0.05616639114497483
           ]
          }
         ],
         "hovertemplate": "municipios=piratini<br>%{xaxis.title.text}=%{x}<br>%{yaxis.title.text}=%{y}<extra></extra>",
         "legendgroup": "piratini",
         "marker": {
          "color": "#FECB52",
          "symbol": "circle"
         },
         "name": "piratini",
         "showlegend": true,
         "type": "splom"
        },
        {
         "diagonal": {
          "visible": false
         },
         "dimensions": [
          {
           "axis": {
            "matches": true
           },
           "label": "PC1",
           "values": [
            -0.6492194348272707
           ]
          },
          {
           "axis": {
            "matches": true
           },
           "label": "PC2",
           "values": [
            -0.11895217362825887
           ]
          },
          {
           "axis": {
            "matches": true
           },
           "label": "PC3",
           "values": [
            -0.12223497363392953
           ]
          },
          {
           "axis": {
            "matches": true
           },
           "label": "PC4",
           "values": [
            0.019683339021454263
           ]
          }
         ],
         "hovertemplate": "municipios=vale verde<br>%{xaxis.title.text}=%{x}<br>%{yaxis.title.text}=%{y}<extra></extra>",
         "legendgroup": "vale verde",
         "marker": {
          "color": "#636efa",
          "symbol": "circle"
         },
         "name": "vale verde",
         "showlegend": true,
         "type": "splom"
        },
        {
         "diagonal": {
          "visible": false
         },
         "dimensions": [
          {
           "axis": {
            "matches": true
           },
           "label": "PC1",
           "values": [
            -0.3689186251462737
           ]
          },
          {
           "axis": {
            "matches": true
           },
           "label": "PC2",
           "values": [
            0.3957199257906421
           ]
          },
          {
           "axis": {
            "matches": true
           },
           "label": "PC3",
           "values": [
            -0.17125214481704717
           ]
          },
          {
           "axis": {
            "matches": true
           },
           "label": "PC4",
           "values": [
            0.03871155777603412
           ]
          }
         ],
         "hovertemplate": "municipios=restinga seca<br>%{xaxis.title.text}=%{x}<br>%{yaxis.title.text}=%{y}<extra></extra>",
         "legendgroup": "restinga seca",
         "marker": {
          "color": "#EF553B",
          "symbol": "circle"
         },
         "name": "restinga seca",
         "showlegend": true,
         "type": "splom"
        },
        {
         "diagonal": {
          "visible": false
         },
         "dimensions": [
          {
           "axis": {
            "matches": true
           },
           "label": "PC1",
           "values": [
            0.3343379694253419
           ]
          },
          {
           "axis": {
            "matches": true
           },
           "label": "PC2",
           "values": [
            0.42748040729739367
           ]
          },
          {
           "axis": {
            "matches": true
           },
           "label": "PC3",
           "values": [
            -0.12822985865529693
           ]
          },
          {
           "axis": {
            "matches": true
           },
           "label": "PC4",
           "values": [
            0.15280594869149278
           ]
          }
         ],
         "hovertemplate": "municipios=santo antonio da patrulha<br>%{xaxis.title.text}=%{x}<br>%{yaxis.title.text}=%{y}<extra></extra>",
         "legendgroup": "santo antonio da patrulha",
         "marker": {
          "color": "#00cc96",
          "symbol": "circle"
         },
         "name": "santo antonio da patrulha",
         "showlegend": true,
         "type": "splom"
        },
        {
         "diagonal": {
          "visible": false
         },
         "dimensions": [
          {
           "axis": {
            "matches": true
           },
           "label": "PC1",
           "values": [
            -0.49819854596551777
           ]
          },
          {
           "axis": {
            "matches": true
           },
           "label": "PC2",
           "values": [
            0.46602243559559725
           ]
          },
          {
           "axis": {
            "matches": true
           },
           "label": "PC3",
           "values": [
            -0.19162171846155007
           ]
          },
          {
           "axis": {
            "matches": true
           },
           "label": "PC4",
           "values": [
            -0.0006223487506607787
           ]
          }
         ],
         "hovertemplate": "municipios=passo do sobrado<br>%{xaxis.title.text}=%{x}<br>%{yaxis.title.text}=%{y}<extra></extra>",
         "legendgroup": "passo do sobrado",
         "marker": {
          "color": "#ab63fa",
          "symbol": "circle"
         },
         "name": "passo do sobrado",
         "showlegend": true,
         "type": "splom"
        },
        {
         "diagonal": {
          "visible": false
         },
         "dimensions": [
          {
           "axis": {
            "matches": true
           },
           "label": "PC1",
           "values": [
            -0.37417798394684093
           ]
          },
          {
           "axis": {
            "matches": true
           },
           "label": "PC2",
           "values": [
            0.7028043539428285
           ]
          },
          {
           "axis": {
            "matches": true
           },
           "label": "PC3",
           "values": [
            2.212216210170442
           ]
          },
          {
           "axis": {
            "matches": true
           },
           "label": "PC4",
           "values": [
            0.007424774649592214
           ]
          }
         ],
         "hovertemplate": "municipios=sao sepe<br>%{xaxis.title.text}=%{x}<br>%{yaxis.title.text}=%{y}<extra></extra>",
         "legendgroup": "sao sepe",
         "marker": {
          "color": "#FFA15A",
          "symbol": "circle"
         },
         "name": "sao sepe",
         "showlegend": true,
         "type": "splom"
        }
       ],
       "layout": {
        "dragmode": "select",
        "legend": {
         "title": {
          "text": "municipios"
         },
         "tracegroupgap": 0
        },
        "template": {
         "data": {
          "bar": [
           {
            "error_x": {
             "color": "#2a3f5f"
            },
            "error_y": {
             "color": "#2a3f5f"
            },
            "marker": {
             "line": {
              "color": "#E5ECF6",
              "width": 0.5
             },
             "pattern": {
              "fillmode": "overlay",
              "size": 10,
              "solidity": 0.2
             }
            },
            "type": "bar"
           }
          ],
          "barpolar": [
           {
            "marker": {
             "line": {
              "color": "#E5ECF6",
              "width": 0.5
             },
             "pattern": {
              "fillmode": "overlay",
              "size": 10,
              "solidity": 0.2
             }
            },
            "type": "barpolar"
           }
          ],
          "carpet": [
           {
            "aaxis": {
             "endlinecolor": "#2a3f5f",
             "gridcolor": "white",
             "linecolor": "white",
             "minorgridcolor": "white",
             "startlinecolor": "#2a3f5f"
            },
            "baxis": {
             "endlinecolor": "#2a3f5f",
             "gridcolor": "white",
             "linecolor": "white",
             "minorgridcolor": "white",
             "startlinecolor": "#2a3f5f"
            },
            "type": "carpet"
           }
          ],
          "choropleth": [
           {
            "colorbar": {
             "outlinewidth": 0,
             "ticks": ""
            },
            "type": "choropleth"
           }
          ],
          "contour": [
           {
            "colorbar": {
             "outlinewidth": 0,
             "ticks": ""
            },
            "colorscale": [
             [
              0,
              "#0d0887"
             ],
             [
              0.1111111111111111,
              "#46039f"
             ],
             [
              0.2222222222222222,
              "#7201a8"
             ],
             [
              0.3333333333333333,
              "#9c179e"
             ],
             [
              0.4444444444444444,
              "#bd3786"
             ],
             [
              0.5555555555555556,
              "#d8576b"
             ],
             [
              0.6666666666666666,
              "#ed7953"
             ],
             [
              0.7777777777777778,
              "#fb9f3a"
             ],
             [
              0.8888888888888888,
              "#fdca26"
             ],
             [
              1,
              "#f0f921"
             ]
            ],
            "type": "contour"
           }
          ],
          "contourcarpet": [
           {
            "colorbar": {
             "outlinewidth": 0,
             "ticks": ""
            },
            "type": "contourcarpet"
           }
          ],
          "heatmap": [
           {
            "colorbar": {
             "outlinewidth": 0,
             "ticks": ""
            },
            "colorscale": [
             [
              0,
              "#0d0887"
             ],
             [
              0.1111111111111111,
              "#46039f"
             ],
             [
              0.2222222222222222,
              "#7201a8"
             ],
             [
              0.3333333333333333,
              "#9c179e"
             ],
             [
              0.4444444444444444,
              "#bd3786"
             ],
             [
              0.5555555555555556,
              "#d8576b"
             ],
             [
              0.6666666666666666,
              "#ed7953"
             ],
             [
              0.7777777777777778,
              "#fb9f3a"
             ],
             [
              0.8888888888888888,
              "#fdca26"
             ],
             [
              1,
              "#f0f921"
             ]
            ],
            "type": "heatmap"
           }
          ],
          "heatmapgl": [
           {
            "colorbar": {
             "outlinewidth": 0,
             "ticks": ""
            },
            "colorscale": [
             [
              0,
              "#0d0887"
             ],
             [
              0.1111111111111111,
              "#46039f"
             ],
             [
              0.2222222222222222,
              "#7201a8"
             ],
             [
              0.3333333333333333,
              "#9c179e"
             ],
             [
              0.4444444444444444,
              "#bd3786"
             ],
             [
              0.5555555555555556,
              "#d8576b"
             ],
             [
              0.6666666666666666,
              "#ed7953"
             ],
             [
              0.7777777777777778,
              "#fb9f3a"
             ],
             [
              0.8888888888888888,
              "#fdca26"
             ],
             [
              1,
              "#f0f921"
             ]
            ],
            "type": "heatmapgl"
           }
          ],
          "histogram": [
           {
            "marker": {
             "pattern": {
              "fillmode": "overlay",
              "size": 10,
              "solidity": 0.2
             }
            },
            "type": "histogram"
           }
          ],
          "histogram2d": [
           {
            "colorbar": {
             "outlinewidth": 0,
             "ticks": ""
            },
            "colorscale": [
             [
              0,
              "#0d0887"
             ],
             [
              0.1111111111111111,
              "#46039f"
             ],
             [
              0.2222222222222222,
              "#7201a8"
             ],
             [
              0.3333333333333333,
              "#9c179e"
             ],
             [
              0.4444444444444444,
              "#bd3786"
             ],
             [
              0.5555555555555556,
              "#d8576b"
             ],
             [
              0.6666666666666666,
              "#ed7953"
             ],
             [
              0.7777777777777778,
              "#fb9f3a"
             ],
             [
              0.8888888888888888,
              "#fdca26"
             ],
             [
              1,
              "#f0f921"
             ]
            ],
            "type": "histogram2d"
           }
          ],
          "histogram2dcontour": [
           {
            "colorbar": {
             "outlinewidth": 0,
             "ticks": ""
            },
            "colorscale": [
             [
              0,
              "#0d0887"
             ],
             [
              0.1111111111111111,
              "#46039f"
             ],
             [
              0.2222222222222222,
              "#7201a8"
             ],
             [
              0.3333333333333333,
              "#9c179e"
             ],
             [
              0.4444444444444444,
              "#bd3786"
             ],
             [
              0.5555555555555556,
              "#d8576b"
             ],
             [
              0.6666666666666666,
              "#ed7953"
             ],
             [
              0.7777777777777778,
              "#fb9f3a"
             ],
             [
              0.8888888888888888,
              "#fdca26"
             ],
             [
              1,
              "#f0f921"
             ]
            ],
            "type": "histogram2dcontour"
           }
          ],
          "mesh3d": [
           {
            "colorbar": {
             "outlinewidth": 0,
             "ticks": ""
            },
            "type": "mesh3d"
           }
          ],
          "parcoords": [
           {
            "line": {
             "colorbar": {
              "outlinewidth": 0,
              "ticks": ""
             }
            },
            "type": "parcoords"
           }
          ],
          "pie": [
           {
            "automargin": true,
            "type": "pie"
           }
          ],
          "scatter": [
           {
            "fillpattern": {
             "fillmode": "overlay",
             "size": 10,
             "solidity": 0.2
            },
            "type": "scatter"
           }
          ],
          "scatter3d": [
           {
            "line": {
             "colorbar": {
              "outlinewidth": 0,
              "ticks": ""
             }
            },
            "marker": {
             "colorbar": {
              "outlinewidth": 0,
              "ticks": ""
             }
            },
            "type": "scatter3d"
           }
          ],
          "scattercarpet": [
           {
            "marker": {
             "colorbar": {
              "outlinewidth": 0,
              "ticks": ""
             }
            },
            "type": "scattercarpet"
           }
          ],
          "scattergeo": [
           {
            "marker": {
             "colorbar": {
              "outlinewidth": 0,
              "ticks": ""
             }
            },
            "type": "scattergeo"
           }
          ],
          "scattergl": [
           {
            "marker": {
             "colorbar": {
              "outlinewidth": 0,
              "ticks": ""
             }
            },
            "type": "scattergl"
           }
          ],
          "scattermapbox": [
           {
            "marker": {
             "colorbar": {
              "outlinewidth": 0,
              "ticks": ""
             }
            },
            "type": "scattermapbox"
           }
          ],
          "scatterpolar": [
           {
            "marker": {
             "colorbar": {
              "outlinewidth": 0,
              "ticks": ""
             }
            },
            "type": "scatterpolar"
           }
          ],
          "scatterpolargl": [
           {
            "marker": {
             "colorbar": {
              "outlinewidth": 0,
              "ticks": ""
             }
            },
            "type": "scatterpolargl"
           }
          ],
          "scatterternary": [
           {
            "marker": {
             "colorbar": {
              "outlinewidth": 0,
              "ticks": ""
             }
            },
            "type": "scatterternary"
           }
          ],
          "surface": [
           {
            "colorbar": {
             "outlinewidth": 0,
             "ticks": ""
            },
            "colorscale": [
             [
              0,
              "#0d0887"
             ],
             [
              0.1111111111111111,
              "#46039f"
             ],
             [
              0.2222222222222222,
              "#7201a8"
             ],
             [
              0.3333333333333333,
              "#9c179e"
             ],
             [
              0.4444444444444444,
              "#bd3786"
             ],
             [
              0.5555555555555556,
              "#d8576b"
             ],
             [
              0.6666666666666666,
              "#ed7953"
             ],
             [
              0.7777777777777778,
              "#fb9f3a"
             ],
             [
              0.8888888888888888,
              "#fdca26"
             ],
             [
              1,
              "#f0f921"
             ]
            ],
            "type": "surface"
           }
          ],
          "table": [
           {
            "cells": {
             "fill": {
              "color": "#EBF0F8"
             },
             "line": {
              "color": "white"
             }
            },
            "header": {
             "fill": {
              "color": "#C8D4E3"
             },
             "line": {
              "color": "white"
             }
            },
            "type": "table"
           }
          ]
         },
         "layout": {
          "annotationdefaults": {
           "arrowcolor": "#2a3f5f",
           "arrowhead": 0,
           "arrowwidth": 1
          },
          "autotypenumbers": "strict",
          "coloraxis": {
           "colorbar": {
            "outlinewidth": 0,
            "ticks": ""
           }
          },
          "colorscale": {
           "diverging": [
            [
             0,
             "#8e0152"
            ],
            [
             0.1,
             "#c51b7d"
            ],
            [
             0.2,
             "#de77ae"
            ],
            [
             0.3,
             "#f1b6da"
            ],
            [
             0.4,
             "#fde0ef"
            ],
            [
             0.5,
             "#f7f7f7"
            ],
            [
             0.6,
             "#e6f5d0"
            ],
            [
             0.7,
             "#b8e186"
            ],
            [
             0.8,
             "#7fbc41"
            ],
            [
             0.9,
             "#4d9221"
            ],
            [
             1,
             "#276419"
            ]
           ],
           "sequential": [
            [
             0,
             "#0d0887"
            ],
            [
             0.1111111111111111,
             "#46039f"
            ],
            [
             0.2222222222222222,
             "#7201a8"
            ],
            [
             0.3333333333333333,
             "#9c179e"
            ],
            [
             0.4444444444444444,
             "#bd3786"
            ],
            [
             0.5555555555555556,
             "#d8576b"
            ],
            [
             0.6666666666666666,
             "#ed7953"
            ],
            [
             0.7777777777777778,
             "#fb9f3a"
            ],
            [
             0.8888888888888888,
             "#fdca26"
            ],
            [
             1,
             "#f0f921"
            ]
           ],
           "sequentialminus": [
            [
             0,
             "#0d0887"
            ],
            [
             0.1111111111111111,
             "#46039f"
            ],
            [
             0.2222222222222222,
             "#7201a8"
            ],
            [
             0.3333333333333333,
             "#9c179e"
            ],
            [
             0.4444444444444444,
             "#bd3786"
            ],
            [
             0.5555555555555556,
             "#d8576b"
            ],
            [
             0.6666666666666666,
             "#ed7953"
            ],
            [
             0.7777777777777778,
             "#fb9f3a"
            ],
            [
             0.8888888888888888,
             "#fdca26"
            ],
            [
             1,
             "#f0f921"
            ]
           ]
          },
          "colorway": [
           "#636efa",
           "#EF553B",
           "#00cc96",
           "#ab63fa",
           "#FFA15A",
           "#19d3f3",
           "#FF6692",
           "#B6E880",
           "#FF97FF",
           "#FECB52"
          ],
          "font": {
           "color": "#2a3f5f"
          },
          "geo": {
           "bgcolor": "white",
           "lakecolor": "white",
           "landcolor": "#E5ECF6",
           "showlakes": true,
           "showland": true,
           "subunitcolor": "white"
          },
          "hoverlabel": {
           "align": "left"
          },
          "hovermode": "closest",
          "mapbox": {
           "style": "light"
          },
          "paper_bgcolor": "white",
          "plot_bgcolor": "#E5ECF6",
          "polar": {
           "angularaxis": {
            "gridcolor": "white",
            "linecolor": "white",
            "ticks": ""
           },
           "bgcolor": "#E5ECF6",
           "radialaxis": {
            "gridcolor": "white",
            "linecolor": "white",
            "ticks": ""
           }
          },
          "scene": {
           "xaxis": {
            "backgroundcolor": "#E5ECF6",
            "gridcolor": "white",
            "gridwidth": 2,
            "linecolor": "white",
            "showbackground": true,
            "ticks": "",
            "zerolinecolor": "white"
           },
           "yaxis": {
            "backgroundcolor": "#E5ECF6",
            "gridcolor": "white",
            "gridwidth": 2,
            "linecolor": "white",
            "showbackground": true,
            "ticks": "",
            "zerolinecolor": "white"
           },
           "zaxis": {
            "backgroundcolor": "#E5ECF6",
            "gridcolor": "white",
            "gridwidth": 2,
            "linecolor": "white",
            "showbackground": true,
            "ticks": "",
            "zerolinecolor": "white"
           }
          },
          "shapedefaults": {
           "line": {
            "color": "#2a3f5f"
           }
          },
          "ternary": {
           "aaxis": {
            "gridcolor": "white",
            "linecolor": "white",
            "ticks": ""
           },
           "baxis": {
            "gridcolor": "white",
            "linecolor": "white",
            "ticks": ""
           },
           "bgcolor": "#E5ECF6",
           "caxis": {
            "gridcolor": "white",
            "linecolor": "white",
            "ticks": ""
           }
          },
          "title": {
           "x": 0.05
          },
          "xaxis": {
           "automargin": true,
           "gridcolor": "white",
           "linecolor": "white",
           "ticks": "",
           "title": {
            "standoff": 15
           },
           "zerolinecolor": "white",
           "zerolinewidth": 2
          },
          "yaxis": {
           "automargin": true,
           "gridcolor": "white",
           "linecolor": "white",
           "ticks": "",
           "title": {
            "standoff": 15
           },
           "zerolinecolor": "white",
           "zerolinewidth": 2
          }
         }
        },
        "title": {
         "text": "Taxa Total de Variancia Explicada por 4 PC: 93.27%"
        }
       }
      }
     },
     "metadata": {},
     "output_type": "display_data"
    },
    {
     "data": {
      "text/plain": [
       "' Foi utilizado a biblioteca Plotly para a visualização dos dados. Documentação do gráfico PCA: https://plotly.com/python/pca-visualization/'"
      ]
     },
     "execution_count": 1341,
     "metadata": {},
     "output_type": "execute_result"
    }
   ],
   "source": [
    "total_var = pca.explained_variance_ratio_.sum() * 100\n",
    "\n",
    "fig = px.scatter_matrix(\n",
    "    df_pca,\n",
    "    title=f'Taxa Total de Variancia Explicada por 4 PC: {total_var:.2f}%',\n",
    "    dimensions=df_pca.columns,\n",
    "    color=df_pca.index,\n",
    ")\n",
    "fig.update_traces(diagonal_visible=False)\n",
    "fig.show()\n",
    "\n",
    "\"\"\" Foi utilizado a biblioteca Plotly para a visualização dos dados. Documentação do gráfico PCA: https://plotly.com/python/pca-visualization/\"\"\""
   ]
  },
  {
   "cell_type": "code",
   "execution_count": 1342,
   "metadata": {},
   "outputs": [
    {
     "data": {
      "application/vnd.plotly.v1+json": {
       "config": {
        "plotlyServerURL": "https://plot.ly"
       },
       "data": [
        {
         "hovertemplate": "Município=hulha negra<br>PC1=%{x}<br>PC2=%{y}<extra></extra>",
         "legendgroup": "hulha negra",
         "marker": {
          "color": "#636efa",
          "symbol": "circle"
         },
         "mode": "markers",
         "name": "hulha negra",
         "orientation": "v",
         "showlegend": true,
         "type": "scatter",
         "x": [
          -0.6015571329880844
         ],
         "xaxis": "x",
         "y": [
          0.07544342454418398
         ],
         "yaxis": "y"
        },
        {
         "hovertemplate": "Município=sao valentim do sul<br>PC1=%{x}<br>PC2=%{y}<extra></extra>",
         "legendgroup": "sao valentim do sul",
         "marker": {
          "color": "#EF553B",
          "symbol": "circle"
         },
         "mode": "markers",
         "name": "sao valentim do sul",
         "orientation": "v",
         "showlegend": true,
         "type": "scatter",
         "x": [
          -0.6823135300808117
         ],
         "xaxis": "x",
         "y": [
          -0.5122535820251146
         ],
         "yaxis": "y"
        },
        {
         "hovertemplate": "Município=xangri-la<br>PC1=%{x}<br>PC2=%{y}<extra></extra>",
         "legendgroup": "xangri-la",
         "marker": {
          "color": "#00cc96",
          "symbol": "circle"
         },
         "mode": "markers",
         "name": "xangri-la",
         "orientation": "v",
         "showlegend": true,
         "type": "scatter",
         "x": [
          0.04440365794186637
         ],
         "xaxis": "x",
         "y": [
          -0.43408343002895794
         ],
         "yaxis": "y"
        },
        {
         "hovertemplate": "Município=nova padua<br>PC1=%{x}<br>PC2=%{y}<extra></extra>",
         "legendgroup": "nova padua",
         "marker": {
          "color": "#ab63fa",
          "symbol": "circle"
         },
         "mode": "markers",
         "name": "nova padua",
         "orientation": "v",
         "showlegend": true,
         "type": "scatter",
         "x": [
          -0.7103976257434185
         ],
         "xaxis": "x",
         "y": [
          -0.5124422393091553
         ],
         "yaxis": "y"
        },
        {
         "hovertemplate": "Município=catuipe<br>PC1=%{x}<br>PC2=%{y}<extra></extra>",
         "legendgroup": "catuipe",
         "marker": {
          "color": "#FFA15A",
          "symbol": "circle"
         },
         "mode": "markers",
         "name": "catuipe",
         "orientation": "v",
         "showlegend": true,
         "type": "scatter",
         "x": [
          -0.4794460102159635
         ],
         "xaxis": "x",
         "y": [
          -0.042583954964437974
         ],
         "yaxis": "y"
        },
        {
         "hovertemplate": "Município=esmeralda<br>PC1=%{x}<br>PC2=%{y}<extra></extra>",
         "legendgroup": "esmeralda",
         "marker": {
          "color": "#19d3f3",
          "symbol": "circle"
         },
         "mode": "markers",
         "name": "esmeralda",
         "orientation": "v",
         "showlegend": true,
         "type": "scatter",
         "x": [
          -0.5868409829748974
         ],
         "xaxis": "x",
         "y": [
          -0.43621161192641666
         ],
         "yaxis": "y"
        },
        {
         "hovertemplate": "Município=lajeado do bugre<br>PC1=%{x}<br>PC2=%{y}<extra></extra>",
         "legendgroup": "lajeado do bugre",
         "marker": {
          "color": "#FF6692",
          "symbol": "circle"
         },
         "mode": "markers",
         "name": "lajeado do bugre",
         "orientation": "v",
         "showlegend": true,
         "type": "scatter",
         "x": [
          -0.6813806005832485
         ],
         "xaxis": "x",
         "y": [
          -0.5094190461546351
         ],
         "yaxis": "y"
        },
        {
         "hovertemplate": "Município=cruz alta<br>PC1=%{x}<br>PC2=%{y}<extra></extra>",
         "legendgroup": "cruz alta",
         "marker": {
          "color": "#B6E880",
          "symbol": "circle"
         },
         "mode": "markers",
         "name": "cruz alta",
         "orientation": "v",
         "showlegend": true,
         "type": "scatter",
         "x": [
          1.6694844657284507
         ],
         "xaxis": "x",
         "y": [
          0.259450739145334
         ],
         "yaxis": "y"
        },
        {
         "hovertemplate": "Município=nova ramada<br>PC1=%{x}<br>PC2=%{y}<extra></extra>",
         "legendgroup": "nova ramada",
         "marker": {
          "color": "#FF97FF",
          "symbol": "circle"
         },
         "mode": "markers",
         "name": "nova ramada",
         "orientation": "v",
         "showlegend": true,
         "type": "scatter",
         "x": [
          -0.6808111882307566
         ],
         "xaxis": "x",
         "y": [
          -0.44398524932702693
         ],
         "yaxis": "y"
        },
        {
         "hovertemplate": "Município=jaguarao<br>PC1=%{x}<br>PC2=%{y}<extra></extra>",
         "legendgroup": "jaguarao",
         "marker": {
          "color": "#FECB52",
          "symbol": "circle"
         },
         "mode": "markers",
         "name": "jaguarao",
         "orientation": "v",
         "showlegend": true,
         "type": "scatter",
         "x": [
          0.15978897242523282
         ],
         "xaxis": "x",
         "y": [
          2.3164693944515244
         ],
         "yaxis": "y"
        },
        {
         "hovertemplate": "Município=nova petropolis<br>PC1=%{x}<br>PC2=%{y}<extra></extra>",
         "legendgroup": "nova petropolis",
         "marker": {
          "color": "#636efa",
          "symbol": "circle"
         },
         "mode": "markers",
         "name": "nova petropolis",
         "orientation": "v",
         "showlegend": true,
         "type": "scatter",
         "x": [
          -0.1705063928647756
         ],
         "xaxis": "x",
         "y": [
          -0.47771776959155643
         ],
         "yaxis": "y"
        },
        {
         "hovertemplate": "Município=charqueadas<br>PC1=%{x}<br>PC2=%{y}<extra></extra>",
         "legendgroup": "charqueadas",
         "marker": {
          "color": "#EF553B",
          "symbol": "circle"
         },
         "mode": "markers",
         "name": "charqueadas",
         "orientation": "v",
         "showlegend": true,
         "type": "scatter",
         "x": [
          1.1056083366668523
         ],
         "xaxis": "x",
         "y": [
          -0.44189258972001144
         ],
         "yaxis": "y"
        },
        {
         "hovertemplate": "Município=torres<br>PC1=%{x}<br>PC2=%{y}<extra></extra>",
         "legendgroup": "torres",
         "marker": {
          "color": "#00cc96",
          "symbol": "circle"
         },
         "mode": "markers",
         "name": "torres",
         "orientation": "v",
         "showlegend": true,
         "type": "scatter",
         "x": [
          1.0877941016273636
         ],
         "xaxis": "x",
         "y": [
          0.04869280573174797
         ],
         "yaxis": "y"
        },
        {
         "hovertemplate": "Município=sarandi<br>PC1=%{x}<br>PC2=%{y}<extra></extra>",
         "legendgroup": "sarandi",
         "marker": {
          "color": "#ab63fa",
          "symbol": "circle"
         },
         "mode": "markers",
         "name": "sarandi",
         "orientation": "v",
         "showlegend": true,
         "type": "scatter",
         "x": [
          0.19317399709202676
         ],
         "xaxis": "x",
         "y": [
          -0.4987587411780026
         ],
         "yaxis": "y"
        },
        {
         "hovertemplate": "Município=fortaleza dos valos<br>PC1=%{x}<br>PC2=%{y}<extra></extra>",
         "legendgroup": "fortaleza dos valos",
         "marker": {
          "color": "#FFA15A",
          "symbol": "circle"
         },
         "mode": "markers",
         "name": "fortaleza dos valos",
         "orientation": "v",
         "showlegend": true,
         "type": "scatter",
         "x": [
          -0.6664164826033911
         ],
         "xaxis": "x",
         "y": [
          -0.38186668901744913
         ],
         "yaxis": "y"
        },
        {
         "hovertemplate": "Município=almirante tamandare do sul<br>PC1=%{x}<br>PC2=%{y}<extra></extra>",
         "legendgroup": "almirante tamandare do sul",
         "marker": {
          "color": "#19d3f3",
          "symbol": "circle"
         },
         "mode": "markers",
         "name": "almirante tamandare do sul",
         "orientation": "v",
         "showlegend": true,
         "type": "scatter",
         "x": [
          -0.690689879980427
         ],
         "xaxis": "x",
         "y": [
          -0.4447901151504178
         ],
         "yaxis": "y"
        },
        {
         "hovertemplate": "Município=esteio<br>PC1=%{x}<br>PC2=%{y}<extra></extra>",
         "legendgroup": "esteio",
         "marker": {
          "color": "#FF6692",
          "symbol": "circle"
         },
         "mode": "markers",
         "name": "esteio",
         "orientation": "v",
         "showlegend": true,
         "type": "scatter",
         "x": [
          1.499242778238174
         ],
         "xaxis": "x",
         "y": [
          -0.6255616529597662
         ],
         "yaxis": "y"
        },
        {
         "hovertemplate": "Município=frederico westphalen<br>PC1=%{x}<br>PC2=%{y}<extra></extra>",
         "legendgroup": "frederico westphalen",
         "marker": {
          "color": "#B6E880",
          "symbol": "circle"
         },
         "mode": "markers",
         "name": "frederico westphalen",
         "orientation": "v",
         "showlegend": true,
         "type": "scatter",
         "x": [
          0.5492902964117184
         ],
         "xaxis": "x",
         "y": [
          0.042026746627124294
         ],
         "yaxis": "y"
        },
        {
         "hovertemplate": "Município=canela<br>PC1=%{x}<br>PC2=%{y}<extra></extra>",
         "legendgroup": "canela",
         "marker": {
          "color": "#FF97FF",
          "symbol": "circle"
         },
         "mode": "markers",
         "name": "canela",
         "orientation": "v",
         "showlegend": true,
         "type": "scatter",
         "x": [
          1.3673356993136878
         ],
         "xaxis": "x",
         "y": [
          -0.6239739454620542
         ],
         "yaxis": "y"
        },
        {
         "hovertemplate": "Município=piratini<br>PC1=%{x}<br>PC2=%{y}<extra></extra>",
         "legendgroup": "piratini",
         "marker": {
          "color": "#FECB52",
          "symbol": "circle"
         },
         "mode": "markers",
         "name": "piratini",
         "orientation": "v",
         "showlegend": true,
         "type": "scatter",
         "x": [
          -0.16958585871903695
         ],
         "xaxis": "x",
         "y": [
          1.770382557316886
         ],
         "yaxis": "y"
        },
        {
         "hovertemplate": "Município=vale verde<br>PC1=%{x}<br>PC2=%{y}<extra></extra>",
         "legendgroup": "vale verde",
         "marker": {
          "color": "#636efa",
          "symbol": "circle"
         },
         "mode": "markers",
         "name": "vale verde",
         "orientation": "v",
         "showlegend": true,
         "type": "scatter",
         "x": [
          -0.6492194348272707
         ],
         "xaxis": "x",
         "y": [
          -0.11895217362825887
         ],
         "yaxis": "y"
        },
        {
         "hovertemplate": "Município=restinga seca<br>PC1=%{x}<br>PC2=%{y}<extra></extra>",
         "legendgroup": "restinga seca",
         "marker": {
          "color": "#EF553B",
          "symbol": "circle"
         },
         "mode": "markers",
         "name": "restinga seca",
         "orientation": "v",
         "showlegend": true,
         "type": "scatter",
         "x": [
          -0.3689186251462737
         ],
         "xaxis": "x",
         "y": [
          0.3957199257906421
         ],
         "yaxis": "y"
        },
        {
         "hovertemplate": "Município=santo antonio da patrulha<br>PC1=%{x}<br>PC2=%{y}<extra></extra>",
         "legendgroup": "santo antonio da patrulha",
         "marker": {
          "color": "#00cc96",
          "symbol": "circle"
         },
         "mode": "markers",
         "name": "santo antonio da patrulha",
         "orientation": "v",
         "showlegend": true,
         "type": "scatter",
         "x": [
          0.3343379694253419
         ],
         "xaxis": "x",
         "y": [
          0.42748040729739367
         ],
         "yaxis": "y"
        },
        {
         "hovertemplate": "Município=passo do sobrado<br>PC1=%{x}<br>PC2=%{y}<extra></extra>",
         "legendgroup": "passo do sobrado",
         "marker": {
          "color": "#ab63fa",
          "symbol": "circle"
         },
         "mode": "markers",
         "name": "passo do sobrado",
         "orientation": "v",
         "showlegend": true,
         "type": "scatter",
         "x": [
          -0.49819854596551777
         ],
         "xaxis": "x",
         "y": [
          0.46602243559559725
         ],
         "yaxis": "y"
        },
        {
         "hovertemplate": "Município=sao sepe<br>PC1=%{x}<br>PC2=%{y}<extra></extra>",
         "legendgroup": "sao sepe",
         "marker": {
          "color": "#FFA15A",
          "symbol": "circle"
         },
         "mode": "markers",
         "name": "sao sepe",
         "orientation": "v",
         "showlegend": true,
         "type": "scatter",
         "x": [
          -0.37417798394684093
         ],
         "xaxis": "x",
         "y": [
          0.7028043539428285
         ],
         "yaxis": "y"
        }
       ],
       "layout": {
        "annotations": [
         {
          "arrowhead": 2,
          "arrowsize": 2,
          "ax": 0,
          "axref": "x",
          "ay": 0,
          "ayref": "y",
          "showarrow": true,
          "x": 0.20111919594860814,
          "xanchor": "right",
          "y": 0.0211826038859755,
          "yanchor": "top"
         },
         {
          "ax": 0,
          "ay": 0,
          "text": "homicidio_doloso",
          "x": 0.20111919594860814,
          "xanchor": "center",
          "y": 0.0211826038859755,
          "yanchor": "bottom",
          "yshift": 5
         },
         {
          "arrowhead": 2,
          "arrowsize": 2,
          "ax": 0,
          "axref": "x",
          "ay": 0,
          "ayref": "y",
          "showarrow": true,
          "x": 0.18343872629991415,
          "xanchor": "right",
          "y": 0.0025932885071106413,
          "yanchor": "top"
         },
         {
          "ax": 0,
          "ay": 0,
          "text": "furtos",
          "x": 0.18343872629991415,
          "xanchor": "center",
          "y": 0.0025932885071106413,
          "yanchor": "bottom",
          "yshift": 5
         },
         {
          "arrowhead": 2,
          "arrowsize": 2,
          "ax": 0,
          "axref": "x",
          "ay": 0,
          "ayref": "y",
          "showarrow": true,
          "x": 0.05547704518741222,
          "xanchor": "right",
          "y": 0.7173502098647939,
          "yanchor": "top"
         },
         {
          "ax": 0,
          "ay": 0,
          "text": "abigeato",
          "x": 0.05547704518741222,
          "xanchor": "center",
          "y": 0.7173502098647939,
          "yanchor": "bottom",
          "yshift": 5
         },
         {
          "arrowhead": 2,
          "arrowsize": 2,
          "ax": 0,
          "axref": "x",
          "ay": 0,
          "ayref": "y",
          "showarrow": true,
          "x": 0.1650958780619334,
          "xanchor": "right",
          "y": -0.006267138215819802,
          "yanchor": "top"
         },
         {
          "ax": 0,
          "ay": 0,
          "text": "furto_veiculo",
          "x": 0.1650958780619334,
          "xanchor": "center",
          "y": -0.006267138215819802,
          "yanchor": "bottom",
          "yshift": 5
         },
         {
          "arrowhead": 2,
          "arrowsize": 2,
          "ax": 0,
          "axref": "x",
          "ay": 0,
          "ayref": "y",
          "showarrow": true,
          "x": 0.054115135990408667,
          "xanchor": "right",
          "y": -0.008052197541310419,
          "yanchor": "top"
         },
         {
          "ax": 0,
          "ay": 0,
          "text": "roubos",
          "x": 0.054115135990408667,
          "xanchor": "center",
          "y": -0.008052197541310419,
          "yanchor": "bottom",
          "yshift": 5
         },
         {
          "arrowhead": 2,
          "arrowsize": 2,
          "ax": 0,
          "axref": "x",
          "ay": 0,
          "ayref": "y",
          "showarrow": true,
          "x": 0.05252945696423721,
          "xanchor": "right",
          "y": -0.01149542272307532,
          "yanchor": "top"
         },
         {
          "ax": 0,
          "ay": 0,
          "text": "roubo_veiculo",
          "x": 0.05252945696423721,
          "xanchor": "center",
          "y": -0.01149542272307532,
          "yanchor": "bottom",
          "yshift": 5
         },
         {
          "arrowhead": 2,
          "arrowsize": 2,
          "ax": 0,
          "axref": "x",
          "ay": 0,
          "ayref": "y",
          "showarrow": true,
          "x": 0.2521948671394567,
          "xanchor": "right",
          "y": -0.036581633797717346,
          "yanchor": "top"
         },
         {
          "ax": 0,
          "ay": 0,
          "text": "estelionato",
          "x": 0.2521948671394567,
          "xanchor": "center",
          "y": -0.036581633797717346,
          "yanchor": "bottom",
          "yshift": 5
         },
         {
          "arrowhead": 2,
          "arrowsize": 2,
          "ax": 0,
          "axref": "x",
          "ay": 0,
          "ayref": "y",
          "showarrow": true,
          "x": 0.27022933976646757,
          "xanchor": "right",
          "y": 0.03522173801770337,
          "yanchor": "top"
         },
         {
          "ax": 0,
          "ay": 0,
          "text": "delitos_armas_municoes",
          "x": 0.27022933976646757,
          "xanchor": "center",
          "y": 0.03522173801770337,
          "yanchor": "bottom",
          "yshift": 5
         },
         {
          "arrowhead": 2,
          "arrowsize": 2,
          "ax": 0,
          "axref": "x",
          "ay": 0,
          "ayref": "y",
          "showarrow": true,
          "x": 0.4421627219580853,
          "xanchor": "right",
          "y": -0.06895984063050815,
          "yanchor": "top"
         },
         {
          "ax": 0,
          "ay": 0,
          "text": "entorpecente_posse",
          "x": 0.4421627219580853,
          "xanchor": "center",
          "y": -0.06895984063050815,
          "yanchor": "bottom",
          "yshift": 5
         },
         {
          "arrowhead": 2,
          "arrowsize": 2,
          "ax": 0,
          "axref": "x",
          "ay": 0,
          "ayref": "y",
          "showarrow": true,
          "x": 0.30731953535650935,
          "xanchor": "right",
          "y": -0.03632809958562098,
          "yanchor": "top"
         },
         {
          "ax": 0,
          "ay": 0,
          "text": "entorpecente_trafico",
          "x": 0.30731953535650935,
          "xanchor": "center",
          "y": -0.03632809958562098,
          "yanchor": "bottom",
          "yshift": 5
         },
         {
          "arrowhead": 2,
          "arrowsize": 2,
          "ax": 0,
          "axref": "x",
          "ay": 0,
          "ayref": "y",
          "showarrow": true,
          "x": -0.048014630895211206,
          "xanchor": "right",
          "y": 0.0961401989310358,
          "yanchor": "top"
         },
         {
          "ax": 0,
          "ay": 0,
          "text": "vitimas_latrocinio",
          "x": -0.048014630895211206,
          "xanchor": "center",
          "y": 0.0961401989310358,
          "yanchor": "bottom",
          "yshift": 5
         },
         {
          "arrowhead": 2,
          "arrowsize": 2,
          "ax": 0,
          "axref": "x",
          "ay": 0,
          "ayref": "y",
          "showarrow": true,
          "x": 0,
          "xanchor": "right",
          "y": 0,
          "yanchor": "top"
         },
         {
          "ax": 0,
          "ay": 0,
          "text": "vitimas_lesao_corporal_morte",
          "x": 0,
          "xanchor": "center",
          "y": 0,
          "yanchor": "bottom",
          "yshift": 5
         },
         {
          "arrowhead": 2,
          "arrowsize": 2,
          "ax": 0,
          "axref": "x",
          "ay": 0,
          "ayref": "y",
          "showarrow": true,
          "x": 0.25910771336689886,
          "xanchor": "right",
          "y": 0.013591104117319138,
          "yanchor": "top"
         },
         {
          "ax": 0,
          "ay": 0,
          "text": "populacao",
          "x": 0.25910771336689886,
          "xanchor": "center",
          "y": 0.013591104117319138,
          "yanchor": "bottom",
          "yshift": 5
         }
        ],
        "legend": {
         "title": {
          "text": "Município"
         },
         "tracegroupgap": 0
        },
        "template": {
         "data": {
          "bar": [
           {
            "error_x": {
             "color": "#2a3f5f"
            },
            "error_y": {
             "color": "#2a3f5f"
            },
            "marker": {
             "line": {
              "color": "#E5ECF6",
              "width": 0.5
             },
             "pattern": {
              "fillmode": "overlay",
              "size": 10,
              "solidity": 0.2
             }
            },
            "type": "bar"
           }
          ],
          "barpolar": [
           {
            "marker": {
             "line": {
              "color": "#E5ECF6",
              "width": 0.5
             },
             "pattern": {
              "fillmode": "overlay",
              "size": 10,
              "solidity": 0.2
             }
            },
            "type": "barpolar"
           }
          ],
          "carpet": [
           {
            "aaxis": {
             "endlinecolor": "#2a3f5f",
             "gridcolor": "white",
             "linecolor": "white",
             "minorgridcolor": "white",
             "startlinecolor": "#2a3f5f"
            },
            "baxis": {
             "endlinecolor": "#2a3f5f",
             "gridcolor": "white",
             "linecolor": "white",
             "minorgridcolor": "white",
             "startlinecolor": "#2a3f5f"
            },
            "type": "carpet"
           }
          ],
          "choropleth": [
           {
            "colorbar": {
             "outlinewidth": 0,
             "ticks": ""
            },
            "type": "choropleth"
           }
          ],
          "contour": [
           {
            "colorbar": {
             "outlinewidth": 0,
             "ticks": ""
            },
            "colorscale": [
             [
              0,
              "#0d0887"
             ],
             [
              0.1111111111111111,
              "#46039f"
             ],
             [
              0.2222222222222222,
              "#7201a8"
             ],
             [
              0.3333333333333333,
              "#9c179e"
             ],
             [
              0.4444444444444444,
              "#bd3786"
             ],
             [
              0.5555555555555556,
              "#d8576b"
             ],
             [
              0.6666666666666666,
              "#ed7953"
             ],
             [
              0.7777777777777778,
              "#fb9f3a"
             ],
             [
              0.8888888888888888,
              "#fdca26"
             ],
             [
              1,
              "#f0f921"
             ]
            ],
            "type": "contour"
           }
          ],
          "contourcarpet": [
           {
            "colorbar": {
             "outlinewidth": 0,
             "ticks": ""
            },
            "type": "contourcarpet"
           }
          ],
          "heatmap": [
           {
            "colorbar": {
             "outlinewidth": 0,
             "ticks": ""
            },
            "colorscale": [
             [
              0,
              "#0d0887"
             ],
             [
              0.1111111111111111,
              "#46039f"
             ],
             [
              0.2222222222222222,
              "#7201a8"
             ],
             [
              0.3333333333333333,
              "#9c179e"
             ],
             [
              0.4444444444444444,
              "#bd3786"
             ],
             [
              0.5555555555555556,
              "#d8576b"
             ],
             [
              0.6666666666666666,
              "#ed7953"
             ],
             [
              0.7777777777777778,
              "#fb9f3a"
             ],
             [
              0.8888888888888888,
              "#fdca26"
             ],
             [
              1,
              "#f0f921"
             ]
            ],
            "type": "heatmap"
           }
          ],
          "heatmapgl": [
           {
            "colorbar": {
             "outlinewidth": 0,
             "ticks": ""
            },
            "colorscale": [
             [
              0,
              "#0d0887"
             ],
             [
              0.1111111111111111,
              "#46039f"
             ],
             [
              0.2222222222222222,
              "#7201a8"
             ],
             [
              0.3333333333333333,
              "#9c179e"
             ],
             [
              0.4444444444444444,
              "#bd3786"
             ],
             [
              0.5555555555555556,
              "#d8576b"
             ],
             [
              0.6666666666666666,
              "#ed7953"
             ],
             [
              0.7777777777777778,
              "#fb9f3a"
             ],
             [
              0.8888888888888888,
              "#fdca26"
             ],
             [
              1,
              "#f0f921"
             ]
            ],
            "type": "heatmapgl"
           }
          ],
          "histogram": [
           {
            "marker": {
             "pattern": {
              "fillmode": "overlay",
              "size": 10,
              "solidity": 0.2
             }
            },
            "type": "histogram"
           }
          ],
          "histogram2d": [
           {
            "colorbar": {
             "outlinewidth": 0,
             "ticks": ""
            },
            "colorscale": [
             [
              0,
              "#0d0887"
             ],
             [
              0.1111111111111111,
              "#46039f"
             ],
             [
              0.2222222222222222,
              "#7201a8"
             ],
             [
              0.3333333333333333,
              "#9c179e"
             ],
             [
              0.4444444444444444,
              "#bd3786"
             ],
             [
              0.5555555555555556,
              "#d8576b"
             ],
             [
              0.6666666666666666,
              "#ed7953"
             ],
             [
              0.7777777777777778,
              "#fb9f3a"
             ],
             [
              0.8888888888888888,
              "#fdca26"
             ],
             [
              1,
              "#f0f921"
             ]
            ],
            "type": "histogram2d"
           }
          ],
          "histogram2dcontour": [
           {
            "colorbar": {
             "outlinewidth": 0,
             "ticks": ""
            },
            "colorscale": [
             [
              0,
              "#0d0887"
             ],
             [
              0.1111111111111111,
              "#46039f"
             ],
             [
              0.2222222222222222,
              "#7201a8"
             ],
             [
              0.3333333333333333,
              "#9c179e"
             ],
             [
              0.4444444444444444,
              "#bd3786"
             ],
             [
              0.5555555555555556,
              "#d8576b"
             ],
             [
              0.6666666666666666,
              "#ed7953"
             ],
             [
              0.7777777777777778,
              "#fb9f3a"
             ],
             [
              0.8888888888888888,
              "#fdca26"
             ],
             [
              1,
              "#f0f921"
             ]
            ],
            "type": "histogram2dcontour"
           }
          ],
          "mesh3d": [
           {
            "colorbar": {
             "outlinewidth": 0,
             "ticks": ""
            },
            "type": "mesh3d"
           }
          ],
          "parcoords": [
           {
            "line": {
             "colorbar": {
              "outlinewidth": 0,
              "ticks": ""
             }
            },
            "type": "parcoords"
           }
          ],
          "pie": [
           {
            "automargin": true,
            "type": "pie"
           }
          ],
          "scatter": [
           {
            "fillpattern": {
             "fillmode": "overlay",
             "size": 10,
             "solidity": 0.2
            },
            "type": "scatter"
           }
          ],
          "scatter3d": [
           {
            "line": {
             "colorbar": {
              "outlinewidth": 0,
              "ticks": ""
             }
            },
            "marker": {
             "colorbar": {
              "outlinewidth": 0,
              "ticks": ""
             }
            },
            "type": "scatter3d"
           }
          ],
          "scattercarpet": [
           {
            "marker": {
             "colorbar": {
              "outlinewidth": 0,
              "ticks": ""
             }
            },
            "type": "scattercarpet"
           }
          ],
          "scattergeo": [
           {
            "marker": {
             "colorbar": {
              "outlinewidth": 0,
              "ticks": ""
             }
            },
            "type": "scattergeo"
           }
          ],
          "scattergl": [
           {
            "marker": {
             "colorbar": {
              "outlinewidth": 0,
              "ticks": ""
             }
            },
            "type": "scattergl"
           }
          ],
          "scattermapbox": [
           {
            "marker": {
             "colorbar": {
              "outlinewidth": 0,
              "ticks": ""
             }
            },
            "type": "scattermapbox"
           }
          ],
          "scatterpolar": [
           {
            "marker": {
             "colorbar": {
              "outlinewidth": 0,
              "ticks": ""
             }
            },
            "type": "scatterpolar"
           }
          ],
          "scatterpolargl": [
           {
            "marker": {
             "colorbar": {
              "outlinewidth": 0,
              "ticks": ""
             }
            },
            "type": "scatterpolargl"
           }
          ],
          "scatterternary": [
           {
            "marker": {
             "colorbar": {
              "outlinewidth": 0,
              "ticks": ""
             }
            },
            "type": "scatterternary"
           }
          ],
          "surface": [
           {
            "colorbar": {
             "outlinewidth": 0,
             "ticks": ""
            },
            "colorscale": [
             [
              0,
              "#0d0887"
             ],
             [
              0.1111111111111111,
              "#46039f"
             ],
             [
              0.2222222222222222,
              "#7201a8"
             ],
             [
              0.3333333333333333,
              "#9c179e"
             ],
             [
              0.4444444444444444,
              "#bd3786"
             ],
             [
              0.5555555555555556,
              "#d8576b"
             ],
             [
              0.6666666666666666,
              "#ed7953"
             ],
             [
              0.7777777777777778,
              "#fb9f3a"
             ],
             [
              0.8888888888888888,
              "#fdca26"
             ],
             [
              1,
              "#f0f921"
             ]
            ],
            "type": "surface"
           }
          ],
          "table": [
           {
            "cells": {
             "fill": {
              "color": "#EBF0F8"
             },
             "line": {
              "color": "white"
             }
            },
            "header": {
             "fill": {
              "color": "#C8D4E3"
             },
             "line": {
              "color": "white"
             }
            },
            "type": "table"
           }
          ]
         },
         "layout": {
          "annotationdefaults": {
           "arrowcolor": "#2a3f5f",
           "arrowhead": 0,
           "arrowwidth": 1
          },
          "autotypenumbers": "strict",
          "coloraxis": {
           "colorbar": {
            "outlinewidth": 0,
            "ticks": ""
           }
          },
          "colorscale": {
           "diverging": [
            [
             0,
             "#8e0152"
            ],
            [
             0.1,
             "#c51b7d"
            ],
            [
             0.2,
             "#de77ae"
            ],
            [
             0.3,
             "#f1b6da"
            ],
            [
             0.4,
             "#fde0ef"
            ],
            [
             0.5,
             "#f7f7f7"
            ],
            [
             0.6,
             "#e6f5d0"
            ],
            [
             0.7,
             "#b8e186"
            ],
            [
             0.8,
             "#7fbc41"
            ],
            [
             0.9,
             "#4d9221"
            ],
            [
             1,
             "#276419"
            ]
           ],
           "sequential": [
            [
             0,
             "#0d0887"
            ],
            [
             0.1111111111111111,
             "#46039f"
            ],
            [
             0.2222222222222222,
             "#7201a8"
            ],
            [
             0.3333333333333333,
             "#9c179e"
            ],
            [
             0.4444444444444444,
             "#bd3786"
            ],
            [
             0.5555555555555556,
             "#d8576b"
            ],
            [
             0.6666666666666666,
             "#ed7953"
            ],
            [
             0.7777777777777778,
             "#fb9f3a"
            ],
            [
             0.8888888888888888,
             "#fdca26"
            ],
            [
             1,
             "#f0f921"
            ]
           ],
           "sequentialminus": [
            [
             0,
             "#0d0887"
            ],
            [
             0.1111111111111111,
             "#46039f"
            ],
            [
             0.2222222222222222,
             "#7201a8"
            ],
            [
             0.3333333333333333,
             "#9c179e"
            ],
            [
             0.4444444444444444,
             "#bd3786"
            ],
            [
             0.5555555555555556,
             "#d8576b"
            ],
            [
             0.6666666666666666,
             "#ed7953"
            ],
            [
             0.7777777777777778,
             "#fb9f3a"
            ],
            [
             0.8888888888888888,
             "#fdca26"
            ],
            [
             1,
             "#f0f921"
            ]
           ]
          },
          "colorway": [
           "#636efa",
           "#EF553B",
           "#00cc96",
           "#ab63fa",
           "#FFA15A",
           "#19d3f3",
           "#FF6692",
           "#B6E880",
           "#FF97FF",
           "#FECB52"
          ],
          "font": {
           "color": "#2a3f5f"
          },
          "geo": {
           "bgcolor": "white",
           "lakecolor": "white",
           "landcolor": "#E5ECF6",
           "showlakes": true,
           "showland": true,
           "subunitcolor": "white"
          },
          "hoverlabel": {
           "align": "left"
          },
          "hovermode": "closest",
          "mapbox": {
           "style": "light"
          },
          "paper_bgcolor": "white",
          "plot_bgcolor": "#E5ECF6",
          "polar": {
           "angularaxis": {
            "gridcolor": "white",
            "linecolor": "white",
            "ticks": ""
           },
           "bgcolor": "#E5ECF6",
           "radialaxis": {
            "gridcolor": "white",
            "linecolor": "white",
            "ticks": ""
           }
          },
          "scene": {
           "xaxis": {
            "backgroundcolor": "#E5ECF6",
            "gridcolor": "white",
            "gridwidth": 2,
            "linecolor": "white",
            "showbackground": true,
            "ticks": "",
            "zerolinecolor": "white"
           },
           "yaxis": {
            "backgroundcolor": "#E5ECF6",
            "gridcolor": "white",
            "gridwidth": 2,
            "linecolor": "white",
            "showbackground": true,
            "ticks": "",
            "zerolinecolor": "white"
           },
           "zaxis": {
            "backgroundcolor": "#E5ECF6",
            "gridcolor": "white",
            "gridwidth": 2,
            "linecolor": "white",
            "showbackground": true,
            "ticks": "",
            "zerolinecolor": "white"
           }
          },
          "shapedefaults": {
           "line": {
            "color": "#2a3f5f"
           }
          },
          "ternary": {
           "aaxis": {
            "gridcolor": "white",
            "linecolor": "white",
            "ticks": ""
           },
           "baxis": {
            "gridcolor": "white",
            "linecolor": "white",
            "ticks": ""
           },
           "bgcolor": "#E5ECF6",
           "caxis": {
            "gridcolor": "white",
            "linecolor": "white",
            "ticks": ""
           }
          },
          "title": {
           "x": 0.05
          },
          "xaxis": {
           "automargin": true,
           "gridcolor": "white",
           "linecolor": "white",
           "ticks": "",
           "title": {
            "standoff": 15
           },
           "zerolinecolor": "white",
           "zerolinewidth": 2
          },
          "yaxis": {
           "automargin": true,
           "gridcolor": "white",
           "linecolor": "white",
           "ticks": "",
           "title": {
            "standoff": 15
           },
           "zerolinecolor": "white",
           "zerolinewidth": 2
          }
         }
        },
        "title": {
         "text": "Taxa Total de Variancia Explicada por 2 PC: 71.70%"
        },
        "xaxis": {
         "anchor": "y",
         "domain": [
          0,
          1
         ],
         "title": {
          "text": "PC1"
         }
        },
        "yaxis": {
         "anchor": "x",
         "autorange": "reversed",
         "domain": [
          0,
          1
         ],
         "title": {
          "text": "PC2"
         }
        }
       }
      }
     },
     "metadata": {},
     "output_type": "display_data"
    },
    {
     "data": {
      "text/plain": [
       "' Foi utilizado a biblioteca Plotly para a visualização dos dados. Documentação do gráfico PCA: https://plotly.com/python/pca-visualization/'"
      ]
     },
     "execution_count": 1342,
     "metadata": {},
     "output_type": "execute_result"
    }
   ],
   "source": [
    "total_var_2 = pca.explained_variance_ratio_[:2].sum() * 100\n",
    "total_var_2\n",
    "\n",
    "# Calculando as cargas dos componentes\n",
    "loadings = pca.components_.T * np.sqrt(pca.explained_variance_)\n",
    "\n",
    "# Plotando o gráfico de dispersão com os componentes principais\n",
    "fig = px.scatter(\n",
    "    components, x=0, y=1, color=df_pca.index,\n",
    "    labels={'0': 'PC1', '1': 'PC2', 'color': 'Município'},\n",
    "    title=f'Taxa Total de Variancia Explicada por 2 PC: {total_var_2:.2f}%')\n",
    "\n",
    "features = df_sample.columns\n",
    "\n",
    "# Adicionando os vetores de carga ao gráfico\n",
    "for i, feature in enumerate(features):\n",
    "    fig.add_annotation(\n",
    "        ax=0, ay=0,\n",
    "        axref=\"x\", ayref=\"y\",\n",
    "        x=loadings[i, 0],\n",
    "        y=loadings[i, 1],\n",
    "        showarrow=True,\n",
    "        arrowsize=2,\n",
    "        arrowhead=2,\n",
    "        xanchor=\"right\",\n",
    "        yanchor=\"top\"\n",
    "    )\n",
    "    \n",
    "    fig.add_annotation(\n",
    "        x=loadings[i, 0],\n",
    "        y=loadings[i, 1],\n",
    "        ax=0, ay=0,\n",
    "        xanchor=\"center\",\n",
    "        yanchor=\"bottom\",\n",
    "        text=feature,\n",
    "        yshift=5,\n",
    "    )\n",
    "# Invertendo o eixo y para que o gráfico fique na posição correta    \n",
    "fig.update_yaxes(autorange=\"reversed\")\n",
    "fig.show()\n",
    "\n",
    "\"\"\" Foi utilizado a biblioteca Plotly para a visualização dos dados. Documentação do gráfico PCA: https://plotly.com/python/pca-visualization/\"\"\""
   ]
  },
  {
   "cell_type": "code",
   "execution_count": 1343,
   "metadata": {},
   "outputs": [
    {
     "data": {
      "text/plain": [
       "\" i, j = 0, 1 # which components\\nscale_arrow = s_ = 2\\ncomponents[:,1] *= -1\\npca.components_[1] *= -1 # flip the y-axis\\nfig, ax = plt.subplots(1, 1, figsize=(8, 8))\\nax.scatter(components[:,0], components[:,1])\\nax.set_xlabel('PC%d' % (i+1))\\nax.set_ylabel('PC%d' % (j+1))\\nfor k in range(pca.components_.shape[1]):\\n    ax.arrow(0, 0, s_*pca.components_[i,k], s_*pca.components_[j,k])\\n    ax.text(s_*pca.components_[i,k],\\n            s_*pca.components_[j,k],\\n            df_sample.columns[k]) \""
      ]
     },
     "execution_count": 1343,
     "metadata": {},
     "output_type": "execute_result"
    }
   ],
   "source": [
    "\"\"\" i, j = 0, 1 # which components\n",
    "scale_arrow = s_ = 2\n",
    "components[:,1] *= -1\n",
    "pca.components_[1] *= -1 # flip the y-axis\n",
    "fig, ax = plt.subplots(1, 1, figsize=(8, 8))\n",
    "ax.scatter(components[:,0], components[:,1])\n",
    "ax.set_xlabel('PC%d' % (i+1))\n",
    "ax.set_ylabel('PC%d' % (j+1))\n",
    "for k in range(pca.components_.shape[1]):\n",
    "    ax.arrow(0, 0, s_*pca.components_[i,k], s_*pca.components_[j,k])\n",
    "    ax.text(s_*pca.components_[i,k],\n",
    "            s_*pca.components_[j,k],\n",
    "            df_sample.columns[k]) \"\"\""
   ]
  },
  {
   "cell_type": "markdown",
   "metadata": {},
   "source": [
    "## K-means com dados brutos"
   ]
  },
  {
   "cell_type": "code",
   "execution_count": 1344,
   "metadata": {},
   "outputs": [],
   "source": [
    "from sklearn import cluster"
   ]
  },
  {
   "cell_type": "code",
   "execution_count": 1345,
   "metadata": {},
   "outputs": [],
   "source": [
    "import matplotlib.pyplot as plt\n",
    "%matplotlib inline"
   ]
  },
  {
   "cell_type": "code",
   "execution_count": 1346,
   "metadata": {},
   "outputs": [
    {
     "data": {
      "text/plain": [
       "[38.14183883121085,\n",
       " 26.069772323691808,\n",
       " 16.694677593074317,\n",
       " 10.885360205955351,\n",
       " 8.104545675465403,\n",
       " 6.290607791919857,\n",
       " 4.410371841472981,\n",
       " 3.27058503971652,\n",
       " 2.2736160198614197]"
      ]
     },
     "execution_count": 1346,
     "metadata": {},
     "output_type": "execute_result"
    }
   ],
   "source": [
    "# Aplicando o método de Elbow para encontrar o número de clusters\n",
    "clusters = np.arange(1,10,1)\n",
    "\n",
    "SSE = []\n",
    "for k in clusters:\n",
    "    k_means = cluster.KMeans(n_clusters=k, init='k-means++', n_init=25, max_iter=300 , random_state=42)\n",
    "    k_means.fit(df_sample)\n",
    "    SSE.append(k_means.inertia_)\n",
    "\n",
    "SSE"
   ]
  },
  {
   "cell_type": "code",
   "execution_count": 1347,
   "metadata": {},
   "outputs": [
    {
     "data": {
      "text/plain": [
       "Text(0, 0.5, 'SSE')"
      ]
     },
     "execution_count": 1347,
     "metadata": {},
     "output_type": "execute_result"
    },
    {
     "data": {
      "image/png": "[encoded data removed]",
      "text/plain": [
       "<Figure size 640x480 with 1 Axes>"
      ]
     },
     "metadata": {},
     "output_type": "display_data"
    }
   ],
   "source": [
    "# Plotando o gráfico do método de Elbow\n",
    "plt.plot(clusters, SSE)\n",
    "plt.xlabel('Number of Clusters')\n",
    "plt.ylabel('SSE')"
   ]
  },
  {
   "cell_type": "code",
   "execution_count": 1348,
   "metadata": {},
   "outputs": [],
   "source": [
    "from sklearn.metrics import silhouette_samples, silhouette_score"
   ]
  },
  {
   "cell_type": "code",
   "execution_count": 1349,
   "metadata": {},
   "outputs": [
    {
     "data": {
      "text/plain": [
       "[0.40000081472309934,\n",
       " 0.4827670545915395,\n",
       " 0.5096353688098765,\n",
       " 0.4853424281394582,\n",
       " 0.36542727219721416,\n",
       " 0.3611475116924892,\n",
       " 0.38598224136772374,\n",
       " 0.41262452976110464,\n",
       " 0.39907975794477096,\n",
       " 0.37672621257216166,\n",
       " 0.3698651631267717,\n",
       " 0.3262541733363864,\n",
       " 0.3447067974785222,\n",
       " 0.3095396823064154,\n",
       " 0.30100602350120403]"
      ]
     },
     "execution_count": 1349,
     "metadata": {},
     "output_type": "execute_result"
    }
   ],
   "source": [
    "# Aplicando o método de Silhouette para encontrar o número de clusters\n",
    "clusters = np.arange(2,17,1)\n",
    "SC = []\n",
    "for k in clusters:\n",
    "    k_means = cluster.KMeans(n_clusters=k, init='k-means++', n_init=25, max_iter=300, random_state=42)\n",
    "    k_means.fit(df_sample)\n",
    "    SC.append(silhouette_score(df_sample, k_means.labels_))\n",
    "SC"
   ]
  },
  {
   "cell_type": "code",
   "execution_count": 1350,
   "metadata": {},
   "outputs": [
    {
     "data": {
      "text/plain": [
       "Text(0, 0.5, 'SC')"
      ]
     },
     "execution_count": 1350,
     "metadata": {},
     "output_type": "execute_result"
    },
    {
     "data": {
      "image/png": "[encoded data removed]",
      "text/plain": [
       "<Figure size 640x480 with 1 Axes>"
      ]
     },
     "metadata": {},
     "output_type": "display_data"
    }
   ],
   "source": [
    "# Plotando o gráfico do método de Silhouette\n",
    "plt.plot(clusters, SC)\n",
    "plt.xlabel('Number of Clusters')\n",
    "plt.ylabel('SC')"
   ]
  },
  {
   "cell_type": "code",
   "execution_count": 1351,
   "metadata": {},
   "outputs": [
    {
     "data": {
      "text/html": [
       "<style>#sk-container-id-61 {\n",
       "  /* Definition of color scheme common for light and dark mode */\n",
       "  --sklearn-color-text: black;\n",
       "  --sklearn-color-line: gray;\n",
       "  /* Definition of color scheme for unfitted estimators */\n",
       "  --sklearn-color-unfitted-level-0: #fff5e6;\n",
       "  --sklearn-color-unfitted-level-1: #f6e4d2;\n",
       "  --sklearn-color-unfitted-level-2: #ffe0b3;\n",
       "  --sklearn-color-unfitted-level-3: chocolate;\n",
       "  /* Definition of color scheme for fitted estimators */\n",
       "  --sklearn-color-fitted-level-0: #f0f8ff;\n",
       "  --sklearn-color-fitted-level-1: #d4ebff;\n",
       "  --sklearn-color-fitted-level-2: #b3dbfd;\n",
       "  --sklearn-color-fitted-level-3: cornflowerblue;\n",
       "\n",
       "  /* Specific color for light theme */\n",
       "  --sklearn-color-text-on-default-background: var(--sg-text-color, var(--theme-code-foreground, var(--jp-content-font-color1, black)));\n",
       "  --sklearn-color-background: var(--sg-background-color, var(--theme-background, var(--jp-layout-color0, white)));\n",
       "  --sklearn-color-border-box: var(--sg-text-color, var(--theme-code-foreground, var(--jp-content-font-color1, black)));\n",
       "  --sklearn-color-icon: #696969;\n",
       "\n",
       "  @media (prefers-color-scheme: dark) {\n",
       "    /* Redefinition of color scheme for dark theme */\n",
       "    --sklearn-color-text-on-default-background: var(--sg-text-color, var(--theme-code-foreground, var(--jp-content-font-color1, white)));\n",
       "    --sklearn-color-background: var(--sg-background-color, var(--theme-background, var(--jp-layout-color0, #111)));\n",
       "    --sklearn-color-border-box: var(--sg-text-color, var(--theme-code-foreground, var(--jp-content-font-color1, white)));\n",
       "    --sklearn-color-icon: #878787;\n",
       "  }\n",
       "}\n",
       "\n",
       "#sk-container-id-61 {\n",
       "  color: var(--sklearn-color-text);\n",
       "}\n",
       "\n",
       "#sk-container-id-61 pre {\n",
       "  padding: 0;\n",
       "}\n",
       "\n",
       "#sk-container-id-61 input.sk-hidden--visually {\n",
       "  border: 0;\n",
       "  clip: rect(1px 1px 1px 1px);\n",
       "  clip: rect(1px, 1px, 1px, 1px);\n",
       "  height: 1px;\n",
       "  margin: -1px;\n",
       "  overflow: hidden;\n",
       "  padding: 0;\n",
       "  position: absolute;\n",
       "  width: 1px;\n",
       "}\n",
       "\n",
       "#sk-container-id-61 div.sk-dashed-wrapped {\n",
       "  border: 1px dashed var(--sklearn-color-line);\n",
       "  margin: 0 0.4em 0.5em 0.4em;\n",
       "  box-sizing: border-box;\n",
       "  padding-bottom: 0.4em;\n",
       "  background-color: var(--sklearn-color-background);\n",
       "}\n",
       "\n",
       "#sk-container-id-61 div.sk-container {\n",
       "  /* jupyter's `normalize.less` sets `[hidden] { display: none; }`\n",
       "     but bootstrap.min.css set `[hidden] { display: none !important; }`\n",
       "     so we also need the `!important` here to be able to override the\n",
       "     default hidden behavior on the sphinx rendered scikit-learn.org.\n",
       "     See: https://github.com/scikit-learn/scikit-learn/issues/21755 */\n",
       "  display: inline-block !important;\n",
       "  position: relative;\n",
       "}\n",
       "\n",
       "#sk-container-id-61 div.sk-text-repr-fallback {\n",
       "  display: none;\n",
       "}\n",
       "\n",
       "div.sk-parallel-item,\n",
       "div.sk-serial,\n",
       "div.sk-item {\n",
       "  /* draw centered vertical line to link estimators */\n",
       "  background-image: linear-gradient(var(--sklearn-color-text-on-default-background), var(--sklearn-color-text-on-default-background));\n",
       "  background-size: 2px 100%;\n",
       "  background-repeat: no-repeat;\n",
       "  background-position: center center;\n",
       "}\n",
       "\n",
       "/* Parallel-specific style estimator block */\n",
       "\n",
       "#sk-container-id-61 div.sk-parallel-item::after {\n",
       "  content: \"\";\n",
       "  width: 100%;\n",
       "  border-bottom: 2px solid var(--sklearn-color-text-on-default-background);\n",
       "  flex-grow: 1;\n",
       "}\n",
       "\n",
       "#sk-container-id-61 div.sk-parallel {\n",
       "  display: flex;\n",
       "  align-items: stretch;\n",
       "  justify-content: center;\n",
       "  background-color: var(--sklearn-color-background);\n",
       "  position: relative;\n",
       "}\n",
       "\n",
       "#sk-container-id-61 div.sk-parallel-item {\n",
       "  display: flex;\n",
       "  flex-direction: column;\n",
       "}\n",
       "\n",
       "#sk-container-id-61 div.sk-parallel-item:first-child::after {\n",
       "  align-self: flex-end;\n",
       "  width: 50%;\n",
       "}\n",
       "\n",
       "#sk-container-id-61 div.sk-parallel-item:last-child::after {\n",
       "  align-self: flex-start;\n",
       "  width: 50%;\n",
       "}\n",
       "\n",
       "#sk-container-id-61 div.sk-parallel-item:only-child::after {\n",
       "  width: 0;\n",
       "}\n",
       "\n",
       "/* Serial-specific style estimator block */\n",
       "\n",
       "#sk-container-id-61 div.sk-serial {\n",
       "  display: flex;\n",
       "  flex-direction: column;\n",
       "  align-items: center;\n",
       "  background-color: var(--sklearn-color-background);\n",
       "  padding-right: 1em;\n",
       "  padding-left: 1em;\n",
       "}\n",
       "\n",
       "\n",
       "/* Toggleable style: style used for estimator/Pipeline/ColumnTransformer box that is\n",
       "clickable and can be expanded/collapsed.\n",
       "- Pipeline and ColumnTransformer use this feature and define the default style\n",
       "- Estimators will overwrite some part of the style using the `sk-estimator` class\n",
       "*/\n",
       "\n",
       "/* Pipeline and ColumnTransformer style (default) */\n",
       "\n",
       "#sk-container-id-61 div.sk-toggleable {\n",
       "  /* Default theme specific background. It is overwritten whether we have a\n",
       "  specific estimator or a Pipeline/ColumnTransformer */\n",
       "  background-color: var(--sklearn-color-background);\n",
       "}\n",
       "\n",
       "/* Toggleable label */\n",
       "#sk-container-id-61 label.sk-toggleable__label {\n",
       "  cursor: pointer;\n",
       "  display: block;\n",
       "  width: 100%;\n",
       "  margin-bottom: 0;\n",
       "  padding: 0.5em;\n",
       "  box-sizing: border-box;\n",
       "  text-align: center;\n",
       "}\n",
       "\n",
       "#sk-container-id-61 label.sk-toggleable__label-arrow:before {\n",
       "  /* Arrow on the left of the label */\n",
       "  content: \"▸\";\n",
       "  float: left;\n",
       "  margin-right: 0.25em;\n",
       "  color: var(--sklearn-color-icon);\n",
       "}\n",
       "\n",
       "#sk-container-id-61 label.sk-toggleable__label-arrow:hover:before {\n",
       "  color: var(--sklearn-color-text);\n",
       "}\n",
       "\n",
       "/* Toggleable content - dropdown */\n",
       "\n",
       "#sk-container-id-61 div.sk-toggleable__content {\n",
       "  max-height: 0;\n",
       "  max-width: 0;\n",
       "  overflow: hidden;\n",
       "  text-align: left;\n",
       "  /* unfitted */\n",
       "  background-color: var(--sklearn-color-unfitted-level-0);\n",
       "}\n",
       "\n",
       "#sk-container-id-61 div.sk-toggleable__content.fitted {\n",
       "  /* fitted */\n",
       "  background-color: var(--sklearn-color-fitted-level-0);\n",
       "}\n",
       "\n",
       "#sk-container-id-61 div.sk-toggleable__content pre {\n",
       "  margin: 0.2em;\n",
       "  border-radius: 0.25em;\n",
       "  color: var(--sklearn-color-text);\n",
       "  /* unfitted */\n",
       "  background-color: var(--sklearn-color-unfitted-level-0);\n",
       "}\n",
       "\n",
       "#sk-container-id-61 div.sk-toggleable__content.fitted pre {\n",
       "  /* unfitted */\n",
       "  background-color: var(--sklearn-color-fitted-level-0);\n",
       "}\n",
       "\n",
       "#sk-container-id-61 input.sk-toggleable__control:checked~div.sk-toggleable__content {\n",
       "  /* Expand drop-down */\n",
       "  max-height: 200px;\n",
       "  max-width: 100%;\n",
       "  overflow: auto;\n",
       "}\n",
       "\n",
       "#sk-container-id-61 input.sk-toggleable__control:checked~label.sk-toggleable__label-arrow:before {\n",
       "  content: \"▾\";\n",
       "}\n",
       "\n",
       "/* Pipeline/ColumnTransformer-specific style */\n",
       "\n",
       "#sk-container-id-61 div.sk-label input.sk-toggleable__control:checked~label.sk-toggleable__label {\n",
       "  color: var(--sklearn-color-text);\n",
       "  background-color: var(--sklearn-color-unfitted-level-2);\n",
       "}\n",
       "\n",
       "#sk-container-id-61 div.sk-label.fitted input.sk-toggleable__control:checked~label.sk-toggleable__label {\n",
       "  background-color: var(--sklearn-color-fitted-level-2);\n",
       "}\n",
       "\n",
       "/* Estimator-specific style */\n",
       "\n",
       "/* Colorize estimator box */\n",
       "#sk-container-id-61 div.sk-estimator input.sk-toggleable__control:checked~label.sk-toggleable__label {\n",
       "  /* unfitted */\n",
       "  background-color: var(--sklearn-color-unfitted-level-2);\n",
       "}\n",
       "\n",
       "#sk-container-id-61 div.sk-estimator.fitted input.sk-toggleable__control:checked~label.sk-toggleable__label {\n",
       "  /* fitted */\n",
       "  background-color: var(--sklearn-color-fitted-level-2);\n",
       "}\n",
       "\n",
       "#sk-container-id-61 div.sk-label label.sk-toggleable__label,\n",
       "#sk-container-id-61 div.sk-label label {\n",
       "  /* The background is the default theme color */\n",
       "  color: var(--sklearn-color-text-on-default-background);\n",
       "}\n",
       "\n",
       "/* On hover, darken the color of the background */\n",
       "#sk-container-id-61 div.sk-label:hover label.sk-toggleable__label {\n",
       "  color: var(--sklearn-color-text);\n",
       "  background-color: var(--sklearn-color-unfitted-level-2);\n",
       "}\n",
       "\n",
       "/* Label box, darken color on hover, fitted */\n",
       "#sk-container-id-61 div.sk-label.fitted:hover label.sk-toggleable__label.fitted {\n",
       "  color: var(--sklearn-color-text);\n",
       "  background-color: var(--sklearn-color-fitted-level-2);\n",
       "}\n",
       "\n",
       "/* Estimator label */\n",
       "\n",
       "#sk-container-id-61 div.sk-label label {\n",
       "  font-family: monospace;\n",
       "  font-weight: bold;\n",
       "  display: inline-block;\n",
       "  line-height: 1.2em;\n",
       "}\n",
       "\n",
       "#sk-container-id-61 div.sk-label-container {\n",
       "  text-align: center;\n",
       "}\n",
       "\n",
       "/* Estimator-specific */\n",
       "#sk-container-id-61 div.sk-estimator {\n",
       "  font-family: monospace;\n",
       "  border: 1px dotted var(--sklearn-color-border-box);\n",
       "  border-radius: 0.25em;\n",
       "  box-sizing: border-box;\n",
       "  margin-bottom: 0.5em;\n",
       "  /* unfitted */\n",
       "  background-color: var(--sklearn-color-unfitted-level-0);\n",
       "}\n",
       "\n",
       "#sk-container-id-61 div.sk-estimator.fitted {\n",
       "  /* fitted */\n",
       "  background-color: var(--sklearn-color-fitted-level-0);\n",
       "}\n",
       "\n",
       "/* on hover */\n",
       "#sk-container-id-61 div.sk-estimator:hover {\n",
       "  /* unfitted */\n",
       "  background-color: var(--sklearn-color-unfitted-level-2);\n",
       "}\n",
       "\n",
       "#sk-container-id-61 div.sk-estimator.fitted:hover {\n",
       "  /* fitted */\n",
       "  background-color: var(--sklearn-color-fitted-level-2);\n",
       "}\n",
       "\n",
       "/* Specification for estimator info (e.g. \"i\" and \"?\") */\n",
       "\n",
       "/* Common style for \"i\" and \"?\" */\n",
       "\n",
       ".sk-estimator-doc-link,\n",
       "a:link.sk-estimator-doc-link,\n",
       "a:visited.sk-estimator-doc-link {\n",
       "  float: right;\n",
       "  font-size: smaller;\n",
       "  line-height: 1em;\n",
       "  font-family: monospace;\n",
       "  background-color: var(--sklearn-color-background);\n",
       "  border-radius: 1em;\n",
       "  height: 1em;\n",
       "  width: 1em;\n",
       "  text-decoration: none !important;\n",
       "  margin-left: 1ex;\n",
       "  /* unfitted */\n",
       "  border: var(--sklearn-color-unfitted-level-1) 1pt solid;\n",
       "  color: var(--sklearn-color-unfitted-level-1);\n",
       "}\n",
       "\n",
       ".sk-estimator-doc-link.fitted,\n",
       "a:link.sk-estimator-doc-link.fitted,\n",
       "a:visited.sk-estimator-doc-link.fitted {\n",
       "  /* fitted */\n",
       "  border: var(--sklearn-color-fitted-level-1) 1pt solid;\n",
       "  color: var(--sklearn-color-fitted-level-1);\n",
       "}\n",
       "\n",
       "/* On hover */\n",
       "div.sk-estimator:hover .sk-estimator-doc-link:hover,\n",
       ".sk-estimator-doc-link:hover,\n",
       "div.sk-label-container:hover .sk-estimator-doc-link:hover,\n",
       ".sk-estimator-doc-link:hover {\n",
       "  /* unfitted */\n",
       "  background-color: var(--sklearn-color-unfitted-level-3);\n",
       "  color: var(--sklearn-color-background);\n",
       "  text-decoration: none;\n",
       "}\n",
       "\n",
       "div.sk-estimator.fitted:hover .sk-estimator-doc-link.fitted:hover,\n",
       ".sk-estimator-doc-link.fitted:hover,\n",
       "div.sk-label-container:hover .sk-estimator-doc-link.fitted:hover,\n",
       ".sk-estimator-doc-link.fitted:hover {\n",
       "  /* fitted */\n",
       "  background-color: var(--sklearn-color-fitted-level-3);\n",
       "  color: var(--sklearn-color-background);\n",
       "  text-decoration: none;\n",
       "}\n",
       "\n",
       "/* Span, style for the box shown on hovering the info icon */\n",
       ".sk-estimator-doc-link span {\n",
       "  display: none;\n",
       "  z-index: 9999;\n",
       "  position: relative;\n",
       "  font-weight: normal;\n",
       "  right: .2ex;\n",
       "  padding: .5ex;\n",
       "  margin: .5ex;\n",
       "  width: min-content;\n",
       "  min-width: 20ex;\n",
       "  max-width: 50ex;\n",
       "  color: var(--sklearn-color-text);\n",
       "  box-shadow: 2pt 2pt 4pt #999;\n",
       "  /* unfitted */\n",
       "  background: var(--sklearn-color-unfitted-level-0);\n",
       "  border: .5pt solid var(--sklearn-color-unfitted-level-3);\n",
       "}\n",
       "\n",
       ".sk-estimator-doc-link.fitted span {\n",
       "  /* fitted */\n",
       "  background: var(--sklearn-color-fitted-level-0);\n",
       "  border: var(--sklearn-color-fitted-level-3);\n",
       "}\n",
       "\n",
       ".sk-estimator-doc-link:hover span {\n",
       "  display: block;\n",
       "}\n",
       "\n",
       "/* \"?\"-specific style due to the `<a>` HTML tag */\n",
       "\n",
       "#sk-container-id-61 a.estimator_doc_link {\n",
       "  float: right;\n",
       "  font-size: 1rem;\n",
       "  line-height: 1em;\n",
       "  font-family: monospace;\n",
       "  background-color: var(--sklearn-color-background);\n",
       "  border-radius: 1rem;\n",
       "  height: 1rem;\n",
       "  width: 1rem;\n",
       "  text-decoration: none;\n",
       "  /* unfitted */\n",
       "  color: var(--sklearn-color-unfitted-level-1);\n",
       "  border: var(--sklearn-color-unfitted-level-1) 1pt solid;\n",
       "}\n",
       "\n",
       "#sk-container-id-61 a.estimator_doc_link.fitted {\n",
       "  /* fitted */\n",
       "  border: var(--sklearn-color-fitted-level-1) 1pt solid;\n",
       "  color: var(--sklearn-color-fitted-level-1);\n",
       "}\n",
       "\n",
       "/* On hover */\n",
       "#sk-container-id-61 a.estimator_doc_link:hover {\n",
       "  /* unfitted */\n",
       "  background-color: var(--sklearn-color-unfitted-level-3);\n",
       "  color: var(--sklearn-color-background);\n",
       "  text-decoration: none;\n",
       "}\n",
       "\n",
       "#sk-container-id-61 a.estimator_doc_link.fitted:hover {\n",
       "  /* fitted */\n",
       "  background-color: var(--sklearn-color-fitted-level-3);\n",
       "}\n",
       "</style><div id=\"sk-container-id-61\" class=\"sk-top-container\"><div class=\"sk-text-repr-fallback\"><pre>KMeans(n_clusters=4, n_init=25, random_state=42)</pre><b>In a Jupyter environment, please rerun this cell to show the HTML representation or trust the notebook. <br />On GitHub, the HTML representation is unable to render, please try loading this page with nbviewer.org.</b></div><div class=\"sk-container\" hidden><div class=\"sk-item\"><div class=\"sk-estimator fitted sk-toggleable\"><input class=\"sk-toggleable__control sk-hidden--visually\" id=\"sk-estimator-id-61\" type=\"checkbox\" checked><label for=\"sk-estimator-id-61\" class=\"sk-toggleable__label fitted sk-toggleable__label-arrow fitted\">&nbsp;&nbsp;KMeans<a class=\"sk-estimator-doc-link fitted\" rel=\"noreferrer\" target=\"_blank\" href=\"https://scikit-learn.org/1.4/modules/generated/sklearn.cluster.KMeans.html\">?<span>Documentation for KMeans</span></a><span class=\"sk-estimator-doc-link fitted\">i<span>Fitted</span></span></label><div class=\"sk-toggleable__content fitted\"><pre>KMeans(n_clusters=4, n_init=25, random_state=42)</pre></div> </div></div></div></div>"
      ],
      "text/plain": [
       "KMeans(n_clusters=4, n_init=25, random_state=42)"
      ]
     },
     "execution_count": 1351,
     "metadata": {},
     "output_type": "execute_result"
    }
   ],
   "source": [
    "k = 4\n",
    "\n",
    "# Aplicando o KMeans com k clusters\n",
    "k_means = cluster.KMeans(n_clusters=k, init='k-means++', n_init=25, max_iter=300, random_state=42)\n",
    "k_means.fit(df_sample)"
   ]
  },
  {
   "cell_type": "code",
   "execution_count": 1352,
   "metadata": {},
   "outputs": [
    {
     "data": {
      "image/png": "[encoded data removed]",
      "text/plain": [
       "<Figure size 640x480 with 1 Axes>"
      ]
     },
     "metadata": {},
     "output_type": "display_data"
    }
   ],
   "source": [
    "# Contar a ocorrência de cada cluster\n",
    "contagem = np.bincount(k_means.labels_)\n",
    "\n",
    "# Plotar o gráfico de barras\n",
    "plt.bar(range(len(contagem)), np.sort(contagem), tick_label=range(len(contagem)))\n",
    "plt.xlabel('Cluster')\n",
    "plt.ylabel('Número de Municípios')\n",
    "plt.title('Contagem de Municípios em Cada Cluster')\n",
    "plt.show()"
   ]
  },
  {
   "cell_type": "markdown",
   "metadata": {},
   "source": [
    "## K-means com PCA"
   ]
  },
  {
   "cell_type": "code",
   "execution_count": 1353,
   "metadata": {},
   "outputs": [
    {
     "data": {
      "text/plain": [
       "[35.57555584160119,\n",
       " 23.511056045494414,\n",
       " 14.152426946112366,\n",
       " 8.343191490953028,\n",
       " 5.6407379691614725,\n",
       " 3.849979998640109,\n",
       " 2.7616102469556054,\n",
       " 1.9540911439036686,\n",
       " 1.4305824793838517,\n",
       " 1.0340917012531279,\n",
       " 0.7606782546186457,\n",
       " 0.50293673001897,\n",
       " 0.3183540740056437,\n",
       " 0.17278580118086942]"
      ]
     },
     "execution_count": 1353,
     "metadata": {},
     "output_type": "execute_result"
    }
   ],
   "source": [
    "# Aplicando o método de Elbow para encontrar o número de clusters\n",
    "clusters = np.arange(1,15,1)\n",
    "\n",
    "SSE = []\n",
    "for k in clusters:\n",
    "    k_means = cluster.KMeans(n_clusters=k, init='k-means++', n_init=25, max_iter=300, random_state=42)\n",
    "    k_means.fit(df_pca)\n",
    "    SSE.append(k_means.inertia_)\n",
    "\n",
    "SSE"
   ]
  },
  {
   "cell_type": "code",
   "execution_count": 1354,
   "metadata": {},
   "outputs": [
    {
     "data": {
      "text/plain": [
       "Text(0, 0.5, 'SSE')"
      ]
     },
     "execution_count": 1354,
     "metadata": {},
     "output_type": "execute_result"
    },
    {
     "data": {
      "image/png": "[encoded data removed]",
      "text/plain": [
       "<Figure size 640x480 with 1 Axes>"
      ]
     },
     "metadata": {},
     "output_type": "display_data"
    }
   ],
   "source": [
    "# Plotando o gráfico do método de Elbow\n",
    "plt.plot(clusters, SSE)\n",
    "plt.xlabel('Number of Clusters')\n",
    "plt.ylabel('SSE')"
   ]
  },
  {
   "cell_type": "code",
   "execution_count": 1355,
   "metadata": {},
   "outputs": [
    {
     "data": {
      "text/plain": [
       "[0.4180611088534175,\n",
       " 0.5108177574527998,\n",
       " 0.5405847880932367,\n",
       " 0.5327565574711679,\n",
       " 0.4202498114866626,\n",
       " 0.47463859180278917,\n",
       " 0.4963846736337932,\n",
       " 0.4664110830731373,\n",
       " 0.45437289909514916,\n",
       " 0.49003045331898787,\n",
       " 0.4455214953469583,\n",
       " 0.4191976443035264]"
      ]
     },
     "execution_count": 1355,
     "metadata": {},
     "output_type": "execute_result"
    }
   ],
   "source": [
    "# Aplicando o método de Silhouette para encontrar o número de clusters\n",
    "clusters = np.arange(2,14,1)\n",
    "SC = []\n",
    "for k in clusters:\n",
    "    k_means = cluster.KMeans(n_clusters=k, init='k-means++', n_init=25, random_state=123)\n",
    "    k_means.fit(df_pca)\n",
    "    SC.append(silhouette_score(df_pca, k_means.labels_))\n",
    "SC"
   ]
  },
  {
   "cell_type": "code",
   "execution_count": 1356,
   "metadata": {},
   "outputs": [
    {
     "data": {
      "text/plain": [
       "Text(0, 0.5, 'SC')"
      ]
     },
     "execution_count": 1356,
     "metadata": {},
     "output_type": "execute_result"
    },
    {
     "data": {
      "image/png": "[encoded data removed]",
      "text/plain": [
       "<Figure size 640x480 with 1 Axes>"
      ]
     },
     "metadata": {},
     "output_type": "display_data"
    }
   ],
   "source": [
    "# Plotando o gráfico do método de Silhouette\n",
    "plt.plot(clusters, SC)\n",
    "plt.xlabel('Number of Clusters')\n",
    "plt.ylabel('SC')"
   ]
  },
  {
   "cell_type": "code",
   "execution_count": 1357,
   "metadata": {},
   "outputs": [
    {
     "data": {
      "text/html": [
       "<style>#sk-container-id-62 {\n",
       "  /* Definition of color scheme common for light and dark mode */\n",
       "  --sklearn-color-text: black;\n",
       "  --sklearn-color-line: gray;\n",
       "  /* Definition of color scheme for unfitted estimators */\n",
       "  --sklearn-color-unfitted-level-0: #fff5e6;\n",
       "  --sklearn-color-unfitted-level-1: #f6e4d2;\n",
       "  --sklearn-color-unfitted-level-2: #ffe0b3;\n",
       "  --sklearn-color-unfitted-level-3: chocolate;\n",
       "  /* Definition of color scheme for fitted estimators */\n",
       "  --sklearn-color-fitted-level-0: #f0f8ff;\n",
       "  --sklearn-color-fitted-level-1: #d4ebff;\n",
       "  --sklearn-color-fitted-level-2: #b3dbfd;\n",
       "  --sklearn-color-fitted-level-3: cornflowerblue;\n",
       "\n",
       "  /* Specific color for light theme */\n",
       "  --sklearn-color-text-on-default-background: var(--sg-text-color, var(--theme-code-foreground, var(--jp-content-font-color1, black)));\n",
       "  --sklearn-color-background: var(--sg-background-color, var(--theme-background, var(--jp-layout-color0, white)));\n",
       "  --sklearn-color-border-box: var(--sg-text-color, var(--theme-code-foreground, var(--jp-content-font-color1, black)));\n",
       "  --sklearn-color-icon: #696969;\n",
       "\n",
       "  @media (prefers-color-scheme: dark) {\n",
       "    /* Redefinition of color scheme for dark theme */\n",
       "    --sklearn-color-text-on-default-background: var(--sg-text-color, var(--theme-code-foreground, var(--jp-content-font-color1, white)));\n",
       "    --sklearn-color-background: var(--sg-background-color, var(--theme-background, var(--jp-layout-color0, #111)));\n",
       "    --sklearn-color-border-box: var(--sg-text-color, var(--theme-code-foreground, var(--jp-content-font-color1, white)));\n",
       "    --sklearn-color-icon: #878787;\n",
       "  }\n",
       "}\n",
       "\n",
       "#sk-container-id-62 {\n",
       "  color: var(--sklearn-color-text);\n",
       "}\n",
       "\n",
       "#sk-container-id-62 pre {\n",
       "  padding: 0;\n",
       "}\n",
       "\n",
       "#sk-container-id-62 input.sk-hidden--visually {\n",
       "  border: 0;\n",
       "  clip: rect(1px 1px 1px 1px);\n",
       "  clip: rect(1px, 1px, 1px, 1px);\n",
       "  height: 1px;\n",
       "  margin: -1px;\n",
       "  overflow: hidden;\n",
       "  padding: 0;\n",
       "  position: absolute;\n",
       "  width: 1px;\n",
       "}\n",
       "\n",
       "#sk-container-id-62 div.sk-dashed-wrapped {\n",
       "  border: 1px dashed var(--sklearn-color-line);\n",
       "  margin: 0 0.4em 0.5em 0.4em;\n",
       "  box-sizing: border-box;\n",
       "  padding-bottom: 0.4em;\n",
       "  background-color: var(--sklearn-color-background);\n",
       "}\n",
       "\n",
       "#sk-container-id-62 div.sk-container {\n",
       "  /* jupyter's `normalize.less` sets `[hidden] { display: none; }`\n",
       "     but bootstrap.min.css set `[hidden] { display: none !important; }`\n",
       "     so we also need the `!important` here to be able to override the\n",
       "     default hidden behavior on the sphinx rendered scikit-learn.org.\n",
       "     See: https://github.com/scikit-learn/scikit-learn/issues/21755 */\n",
       "  display: inline-block !important;\n",
       "  position: relative;\n",
       "}\n",
       "\n",
       "#sk-container-id-62 div.sk-text-repr-fallback {\n",
       "  display: none;\n",
       "}\n",
       "\n",
       "div.sk-parallel-item,\n",
       "div.sk-serial,\n",
       "div.sk-item {\n",
       "  /* draw centered vertical line to link estimators */\n",
       "  background-image: linear-gradient(var(--sklearn-color-text-on-default-background), var(--sklearn-color-text-on-default-background));\n",
       "  background-size: 2px 100%;\n",
       "  background-repeat: no-repeat;\n",
       "  background-position: center center;\n",
       "}\n",
       "\n",
       "/* Parallel-specific style estimator block */\n",
       "\n",
       "#sk-container-id-62 div.sk-parallel-item::after {\n",
       "  content: \"\";\n",
       "  width: 100%;\n",
       "  border-bottom: 2px solid var(--sklearn-color-text-on-default-background);\n",
       "  flex-grow: 1;\n",
       "}\n",
       "\n",
       "#sk-container-id-62 div.sk-parallel {\n",
       "  display: flex;\n",
       "  align-items: stretch;\n",
       "  justify-content: center;\n",
       "  background-color: var(--sklearn-color-background);\n",
       "  position: relative;\n",
       "}\n",
       "\n",
       "#sk-container-id-62 div.sk-parallel-item {\n",
       "  display: flex;\n",
       "  flex-direction: column;\n",
       "}\n",
       "\n",
       "#sk-container-id-62 div.sk-parallel-item:first-child::after {\n",
       "  align-self: flex-end;\n",
       "  width: 50%;\n",
       "}\n",
       "\n",
       "#sk-container-id-62 div.sk-parallel-item:last-child::after {\n",
       "  align-self: flex-start;\n",
       "  width: 50%;\n",
       "}\n",
       "\n",
       "#sk-container-id-62 div.sk-parallel-item:only-child::after {\n",
       "  width: 0;\n",
       "}\n",
       "\n",
       "/* Serial-specific style estimator block */\n",
       "\n",
       "#sk-container-id-62 div.sk-serial {\n",
       "  display: flex;\n",
       "  flex-direction: column;\n",
       "  align-items: center;\n",
       "  background-color: var(--sklearn-color-background);\n",
       "  padding-right: 1em;\n",
       "  padding-left: 1em;\n",
       "}\n",
       "\n",
       "\n",
       "/* Toggleable style: style used for estimator/Pipeline/ColumnTransformer box that is\n",
       "clickable and can be expanded/collapsed.\n",
       "- Pipeline and ColumnTransformer use this feature and define the default style\n",
       "- Estimators will overwrite some part of the style using the `sk-estimator` class\n",
       "*/\n",
       "\n",
       "/* Pipeline and ColumnTransformer style (default) */\n",
       "\n",
       "#sk-container-id-62 div.sk-toggleable {\n",
       "  /* Default theme specific background. It is overwritten whether we have a\n",
       "  specific estimator or a Pipeline/ColumnTransformer */\n",
       "  background-color: var(--sklearn-color-background);\n",
       "}\n",
       "\n",
       "/* Toggleable label */\n",
       "#sk-container-id-62 label.sk-toggleable__label {\n",
       "  cursor: pointer;\n",
       "  display: block;\n",
       "  width: 100%;\n",
       "  margin-bottom: 0;\n",
       "  padding: 0.5em;\n",
       "  box-sizing: border-box;\n",
       "  text-align: center;\n",
       "}\n",
       "\n",
       "#sk-container-id-62 label.sk-toggleable__label-arrow:before {\n",
       "  /* Arrow on the left of the label */\n",
       "  content: \"▸\";\n",
       "  float: left;\n",
       "  margin-right: 0.25em;\n",
       "  color: var(--sklearn-color-icon);\n",
       "}\n",
       "\n",
       "#sk-container-id-62 label.sk-toggleable__label-arrow:hover:before {\n",
       "  color: var(--sklearn-color-text);\n",
       "}\n",
       "\n",
       "/* Toggleable content - dropdown */\n",
       "\n",
       "#sk-container-id-62 div.sk-toggleable__content {\n",
       "  max-height: 0;\n",
       "  max-width: 0;\n",
       "  overflow: hidden;\n",
       "  text-align: left;\n",
       "  /* unfitted */\n",
       "  background-color: var(--sklearn-color-unfitted-level-0);\n",
       "}\n",
       "\n",
       "#sk-container-id-62 div.sk-toggleable__content.fitted {\n",
       "  /* fitted */\n",
       "  background-color: var(--sklearn-color-fitted-level-0);\n",
       "}\n",
       "\n",
       "#sk-container-id-62 div.sk-toggleable__content pre {\n",
       "  margin: 0.2em;\n",
       "  border-radius: 0.25em;\n",
       "  color: var(--sklearn-color-text);\n",
       "  /* unfitted */\n",
       "  background-color: var(--sklearn-color-unfitted-level-0);\n",
       "}\n",
       "\n",
       "#sk-container-id-62 div.sk-toggleable__content.fitted pre {\n",
       "  /* unfitted */\n",
       "  background-color: var(--sklearn-color-fitted-level-0);\n",
       "}\n",
       "\n",
       "#sk-container-id-62 input.sk-toggleable__control:checked~div.sk-toggleable__content {\n",
       "  /* Expand drop-down */\n",
       "  max-height: 200px;\n",
       "  max-width: 100%;\n",
       "  overflow: auto;\n",
       "}\n",
       "\n",
       "#sk-container-id-62 input.sk-toggleable__control:checked~label.sk-toggleable__label-arrow:before {\n",
       "  content: \"▾\";\n",
       "}\n",
       "\n",
       "/* Pipeline/ColumnTransformer-specific style */\n",
       "\n",
       "#sk-container-id-62 div.sk-label input.sk-toggleable__control:checked~label.sk-toggleable__label {\n",
       "  color: var(--sklearn-color-text);\n",
       "  background-color: var(--sklearn-color-unfitted-level-2);\n",
       "}\n",
       "\n",
       "#sk-container-id-62 div.sk-label.fitted input.sk-toggleable__control:checked~label.sk-toggleable__label {\n",
       "  background-color: var(--sklearn-color-fitted-level-2);\n",
       "}\n",
       "\n",
       "/* Estimator-specific style */\n",
       "\n",
       "/* Colorize estimator box */\n",
       "#sk-container-id-62 div.sk-estimator input.sk-toggleable__control:checked~label.sk-toggleable__label {\n",
       "  /* unfitted */\n",
       "  background-color: var(--sklearn-color-unfitted-level-2);\n",
       "}\n",
       "\n",
       "#sk-container-id-62 div.sk-estimator.fitted input.sk-toggleable__control:checked~label.sk-toggleable__label {\n",
       "  /* fitted */\n",
       "  background-color: var(--sklearn-color-fitted-level-2);\n",
       "}\n",
       "\n",
       "#sk-container-id-62 div.sk-label label.sk-toggleable__label,\n",
       "#sk-container-id-62 div.sk-label label {\n",
       "  /* The background is the default theme color */\n",
       "  color: var(--sklearn-color-text-on-default-background);\n",
       "}\n",
       "\n",
       "/* On hover, darken the color of the background */\n",
       "#sk-container-id-62 div.sk-label:hover label.sk-toggleable__label {\n",
       "  color: var(--sklearn-color-text);\n",
       "  background-color: var(--sklearn-color-unfitted-level-2);\n",
       "}\n",
       "\n",
       "/* Label box, darken color on hover, fitted */\n",
       "#sk-container-id-62 div.sk-label.fitted:hover label.sk-toggleable__label.fitted {\n",
       "  color: var(--sklearn-color-text);\n",
       "  background-color: var(--sklearn-color-fitted-level-2);\n",
       "}\n",
       "\n",
       "/* Estimator label */\n",
       "\n",
       "#sk-container-id-62 div.sk-label label {\n",
       "  font-family: monospace;\n",
       "  font-weight: bold;\n",
       "  display: inline-block;\n",
       "  line-height: 1.2em;\n",
       "}\n",
       "\n",
       "#sk-container-id-62 div.sk-label-container {\n",
       "  text-align: center;\n",
       "}\n",
       "\n",
       "/* Estimator-specific */\n",
       "#sk-container-id-62 div.sk-estimator {\n",
       "  font-family: monospace;\n",
       "  border: 1px dotted var(--sklearn-color-border-box);\n",
       "  border-radius: 0.25em;\n",
       "  box-sizing: border-box;\n",
       "  margin-bottom: 0.5em;\n",
       "  /* unfitted */\n",
       "  background-color: var(--sklearn-color-unfitted-level-0);\n",
       "}\n",
       "\n",
       "#sk-container-id-62 div.sk-estimator.fitted {\n",
       "  /* fitted */\n",
       "  background-color: var(--sklearn-color-fitted-level-0);\n",
       "}\n",
       "\n",
       "/* on hover */\n",
       "#sk-container-id-62 div.sk-estimator:hover {\n",
       "  /* unfitted */\n",
       "  background-color: var(--sklearn-color-unfitted-level-2);\n",
       "}\n",
       "\n",
       "#sk-container-id-62 div.sk-estimator.fitted:hover {\n",
       "  /* fitted */\n",
       "  background-color: var(--sklearn-color-fitted-level-2);\n",
       "}\n",
       "\n",
       "/* Specification for estimator info (e.g. \"i\" and \"?\") */\n",
       "\n",
       "/* Common style for \"i\" and \"?\" */\n",
       "\n",
       ".sk-estimator-doc-link,\n",
       "a:link.sk-estimator-doc-link,\n",
       "a:visited.sk-estimator-doc-link {\n",
       "  float: right;\n",
       "  font-size: smaller;\n",
       "  line-height: 1em;\n",
       "  font-family: monospace;\n",
       "  background-color: var(--sklearn-color-background);\n",
       "  border-radius: 1em;\n",
       "  height: 1em;\n",
       "  width: 1em;\n",
       "  text-decoration: none !important;\n",
       "  margin-left: 1ex;\n",
       "  /* unfitted */\n",
       "  border: var(--sklearn-color-unfitted-level-1) 1pt solid;\n",
       "  color: var(--sklearn-color-unfitted-level-1);\n",
       "}\n",
       "\n",
       ".sk-estimator-doc-link.fitted,\n",
       "a:link.sk-estimator-doc-link.fitted,\n",
       "a:visited.sk-estimator-doc-link.fitted {\n",
       "  /* fitted */\n",
       "  border: var(--sklearn-color-fitted-level-1) 1pt solid;\n",
       "  color: var(--sklearn-color-fitted-level-1);\n",
       "}\n",
       "\n",
       "/* On hover */\n",
       "div.sk-estimator:hover .sk-estimator-doc-link:hover,\n",
       ".sk-estimator-doc-link:hover,\n",
       "div.sk-label-container:hover .sk-estimator-doc-link:hover,\n",
       ".sk-estimator-doc-link:hover {\n",
       "  /* unfitted */\n",
       "  background-color: var(--sklearn-color-unfitted-level-3);\n",
       "  color: var(--sklearn-color-background);\n",
       "  text-decoration: none;\n",
       "}\n",
       "\n",
       "div.sk-estimator.fitted:hover .sk-estimator-doc-link.fitted:hover,\n",
       ".sk-estimator-doc-link.fitted:hover,\n",
       "div.sk-label-container:hover .sk-estimator-doc-link.fitted:hover,\n",
       ".sk-estimator-doc-link.fitted:hover {\n",
       "  /* fitted */\n",
       "  background-color: var(--sklearn-color-fitted-level-3);\n",
       "  color: var(--sklearn-color-background);\n",
       "  text-decoration: none;\n",
       "}\n",
       "\n",
       "/* Span, style for the box shown on hovering the info icon */\n",
       ".sk-estimator-doc-link span {\n",
       "  display: none;\n",
       "  z-index: 9999;\n",
       "  position: relative;\n",
       "  font-weight: normal;\n",
       "  right: .2ex;\n",
       "  padding: .5ex;\n",
       "  margin: .5ex;\n",
       "  width: min-content;\n",
       "  min-width: 20ex;\n",
       "  max-width: 50ex;\n",
       "  color: var(--sklearn-color-text);\n",
       "  box-shadow: 2pt 2pt 4pt #999;\n",
       "  /* unfitted */\n",
       "  background: var(--sklearn-color-unfitted-level-0);\n",
       "  border: .5pt solid var(--sklearn-color-unfitted-level-3);\n",
       "}\n",
       "\n",
       ".sk-estimator-doc-link.fitted span {\n",
       "  /* fitted */\n",
       "  background: var(--sklearn-color-fitted-level-0);\n",
       "  border: var(--sklearn-color-fitted-level-3);\n",
       "}\n",
       "\n",
       ".sk-estimator-doc-link:hover span {\n",
       "  display: block;\n",
       "}\n",
       "\n",
       "/* \"?\"-specific style due to the `<a>` HTML tag */\n",
       "\n",
       "#sk-container-id-62 a.estimator_doc_link {\n",
       "  float: right;\n",
       "  font-size: 1rem;\n",
       "  line-height: 1em;\n",
       "  font-family: monospace;\n",
       "  background-color: var(--sklearn-color-background);\n",
       "  border-radius: 1rem;\n",
       "  height: 1rem;\n",
       "  width: 1rem;\n",
       "  text-decoration: none;\n",
       "  /* unfitted */\n",
       "  color: var(--sklearn-color-unfitted-level-1);\n",
       "  border: var(--sklearn-color-unfitted-level-1) 1pt solid;\n",
       "}\n",
       "\n",
       "#sk-container-id-62 a.estimator_doc_link.fitted {\n",
       "  /* fitted */\n",
       "  border: var(--sklearn-color-fitted-level-1) 1pt solid;\n",
       "  color: var(--sklearn-color-fitted-level-1);\n",
       "}\n",
       "\n",
       "/* On hover */\n",
       "#sk-container-id-62 a.estimator_doc_link:hover {\n",
       "  /* unfitted */\n",
       "  background-color: var(--sklearn-color-unfitted-level-3);\n",
       "  color: var(--sklearn-color-background);\n",
       "  text-decoration: none;\n",
       "}\n",
       "\n",
       "#sk-container-id-62 a.estimator_doc_link.fitted:hover {\n",
       "  /* fitted */\n",
       "  background-color: var(--sklearn-color-fitted-level-3);\n",
       "}\n",
       "</style><div id=\"sk-container-id-62\" class=\"sk-top-container\"><div class=\"sk-text-repr-fallback\"><pre>KMeans(n_clusters=4, n_init=25, random_state=123)</pre><b>In a Jupyter environment, please rerun this cell to show the HTML representation or trust the notebook. <br />On GitHub, the HTML representation is unable to render, please try loading this page with nbviewer.org.</b></div><div class=\"sk-container\" hidden><div class=\"sk-item\"><div class=\"sk-estimator fitted sk-toggleable\"><input class=\"sk-toggleable__control sk-hidden--visually\" id=\"sk-estimator-id-62\" type=\"checkbox\" checked><label for=\"sk-estimator-id-62\" class=\"sk-toggleable__label fitted sk-toggleable__label-arrow fitted\">&nbsp;&nbsp;KMeans<a class=\"sk-estimator-doc-link fitted\" rel=\"noreferrer\" target=\"_blank\" href=\"https://scikit-learn.org/1.4/modules/generated/sklearn.cluster.KMeans.html\">?<span>Documentation for KMeans</span></a><span class=\"sk-estimator-doc-link fitted\">i<span>Fitted</span></span></label><div class=\"sk-toggleable__content fitted\"><pre>KMeans(n_clusters=4, n_init=25, random_state=123)</pre></div> </div></div></div></div>"
      ],
      "text/plain": [
       "KMeans(n_clusters=4, n_init=25, random_state=123)"
      ]
     },
     "execution_count": 1357,
     "metadata": {},
     "output_type": "execute_result"
    }
   ],
   "source": [
    "k = 4\n",
    "\n",
    "# Aplicando o KMeans com n clusters\n",
    "k_means = cluster.KMeans(n_clusters=k, init='k-means++', n_init=25, random_state=123)\n",
    "k_means.fit(df_pca)"
   ]
  },
  {
   "cell_type": "code",
   "execution_count": 1358,
   "metadata": {},
   "outputs": [
    {
     "data": {
      "image/png": "[encoded data removed]",
      "text/plain": [
       "<Figure size 640x480 with 1 Axes>"
      ]
     },
     "metadata": {},
     "output_type": "display_data"
    }
   ],
   "source": [
    "# Plotar o gráfico de barras para contagem de municípios em cada cluster\n",
    "\n",
    "# Contar a ocorrência de cada cluster\n",
    "contagem = np.bincount(k_means.labels_)\n",
    "\n",
    "plt.bar(range(len(contagem)), np.sort(contagem), tick_label=range(len(contagem)))\n",
    "plt.xlabel('Cluster')\n",
    "plt.ylabel('Número de Municípios')\n",
    "plt.title('Contagem de Municípios em Cada Cluster')\n",
    "plt.show()"
   ]
  },
  {
   "cell_type": "code",
   "execution_count": 1359,
   "metadata": {},
   "outputs": [
    {
     "data": {
      "text/html": [
       "<div>\n",
       "<style scoped>\n",
       "    .dataframe tbody tr th:only-of-type {\n",
       "        vertical-align: middle;\n",
       "    }\n",
       "\n",
       "    .dataframe tbody tr th {\n",
       "        vertical-align: top;\n",
       "    }\n",
       "\n",
       "    .dataframe thead th {\n",
       "        text-align: right;\n",
       "    }\n",
       "</style>\n",
       "<table border=\"1\" class=\"dataframe\">\n",
       "  <thead>\n",
       "    <tr style=\"text-align: right;\">\n",
       "      <th></th>\n",
       "      <th>PC1</th>\n",
       "      <th>PC2</th>\n",
       "      <th>PC3</th>\n",
       "      <th>PC4</th>\n",
       "      <th>cluster</th>\n",
       "    </tr>\n",
       "    <tr>\n",
       "      <th>municipios</th>\n",
       "      <th></th>\n",
       "      <th></th>\n",
       "      <th></th>\n",
       "      <th></th>\n",
       "      <th></th>\n",
       "    </tr>\n",
       "  </thead>\n",
       "  <tbody>\n",
       "    <tr>\n",
       "      <th>hulha negra</th>\n",
       "      <td>-0.601557</td>\n",
       "      <td>0.075443</td>\n",
       "      <td>-0.145768</td>\n",
       "      <td>0.006247</td>\n",
       "      <td>0</td>\n",
       "    </tr>\n",
       "    <tr>\n",
       "      <th>sao valentim do sul</th>\n",
       "      <td>-0.682314</td>\n",
       "      <td>-0.512254</td>\n",
       "      <td>-0.072228</td>\n",
       "      <td>0.019699</td>\n",
       "      <td>0</td>\n",
       "    </tr>\n",
       "    <tr>\n",
       "      <th>xangri-la</th>\n",
       "      <td>0.044404</td>\n",
       "      <td>-0.434083</td>\n",
       "      <td>-0.035557</td>\n",
       "      <td>-0.017995</td>\n",
       "      <td>0</td>\n",
       "    </tr>\n",
       "    <tr>\n",
       "      <th>nova padua</th>\n",
       "      <td>-0.710398</td>\n",
       "      <td>-0.512442</td>\n",
       "      <td>-0.073661</td>\n",
       "      <td>0.017818</td>\n",
       "      <td>0</td>\n",
       "    </tr>\n",
       "    <tr>\n",
       "      <th>catuipe</th>\n",
       "      <td>-0.479446</td>\n",
       "      <td>-0.042584</td>\n",
       "      <td>-0.122929</td>\n",
       "      <td>0.173788</td>\n",
       "      <td>0</td>\n",
       "    </tr>\n",
       "  </tbody>\n",
       "</table>\n",
       "</div>"
      ],
      "text/plain": [
       "                          PC1       PC2       PC3       PC4  cluster\n",
       "municipios                                                          \n",
       "hulha negra         -0.601557  0.075443 -0.145768  0.006247        0\n",
       "sao valentim do sul -0.682314 -0.512254 -0.072228  0.019699        0\n",
       "xangri-la            0.044404 -0.434083 -0.035557 -0.017995        0\n",
       "nova padua          -0.710398 -0.512442 -0.073661  0.017818        0\n",
       "catuipe             -0.479446 -0.042584 -0.122929  0.173788        0"
      ]
     },
     "execution_count": 1359,
     "metadata": {},
     "output_type": "execute_result"
    }
   ],
   "source": [
    "# Salvando os clusters no dataframe\n",
    "labels = k_means.labels_\n",
    "df_pca['cluster'] = labels\n",
    "\n",
    "# Salvando o dataframe em um arquivo csv\n",
    "df_pca.to_csv('data\\\\tocsv\\\\clusterizado.csv', sep=',', index=False)\n",
    "\n",
    "df_pca.head()"
   ]
  },
  {
   "cell_type": "code",
   "execution_count": 1360,
   "metadata": {},
   "outputs": [
    {
     "data": {
      "application/vnd.plotly.v1+json": {
       "config": {
        "plotlyServerURL": "https://plot.ly"
       },
       "data": [
        {
         "marker": {
          "color": [
           0,
           0,
           0,
           0,
           0,
           0,
           0,
           3,
           0,
           2,
           0,
           3,
           3,
           0,
           0,
           0,
           3,
           3,
           3,
           2,
           0,
           0,
           0,
           0,
           1
          ],
          "colorscale": [
           [
            0,
            "#440154"
           ],
           [
            0.1111111111111111,
            "#482878"
           ],
           [
            0.2222222222222222,
            "#3e4989"
           ],
           [
            0.3333333333333333,
            "#31688e"
           ],
           [
            0.4444444444444444,
            "#26828e"
           ],
           [
            0.5555555555555556,
            "#1f9e89"
           ],
           [
            0.6666666666666666,
            "#35b779"
           ],
           [
            0.7777777777777778,
            "#6ece58"
           ],
           [
            0.8888888888888888,
            "#b5de2b"
           ],
           [
            1,
            "#fde725"
           ]
          ],
          "opacity": 0.8,
          "size": 5
         },
         "mode": "markers",
         "text": [
          "acegua",
          "agua santa",
          "agudo",
          "ajuricaba",
          "alecrim",
          "alegrete",
          "alegria",
          "almirante tamandare do sul",
          "alpestre",
          "alto alegre",
          "alto feliz",
          "alvorada",
          "amaral ferrador",
          "ametista do sul",
          "andre da rocha",
          "anta gorda",
          "antonio prado",
          "arambare",
          "ararica",
          "aratiba",
          "arroio do meio",
          "arroio do padre",
          "arroio do sal",
          "arroio do tigre",
          "arroio dos ratos",
          "arroio grande",
          "arvorezinha",
          "augusto pestana",
          "aurea",
          "bage",
          "balneario pinhal",
          "barao",
          "barao de cotegipe",
          "barao do triunfo",
          "barra do guarita",
          "barra do quarai",
          "barra do ribeiro",
          "barra do rio azul",
          "barra funda",
          "barracao",
          "barros cassal",
          "benjamin constant do sul",
          "bento goncalves",
          "boa vista das missoes",
          "boa vista do burica",
          "boa vista do cadeado",
          "boa vista do incra",
          "boa vista do sul",
          "bom jesus",
          "bom principio",
          "bom progresso",
          "bom retiro do sul",
          "boqueirao do leao",
          "bossoroca",
          "bozano",
          "braga",
          "brochier",
          "butia",
          "cacapava do sul",
          "cacequi",
          "cachoeira do sul",
          "cachoeirinha",
          "cacique doble",
          "caibate",
          "caicara",
          "camaqua",
          "camargo",
          "cambara do sul",
          "campestre da serra",
          "campina das missoes",
          "campinas do sul",
          "campo bom",
          "campo novo",
          "campos borges",
          "candelaria",
          "candido godoi",
          "candiota",
          "canela",
          "cangucu",
          "canoas",
          "canudos do vale",
          "capao bonito do sul",
          "capao da canoa",
          "capao do cipo",
          "capao do leao",
          "capela de santana",
          "capitao",
          "capivari do sul",
          "caraa",
          "carazinho",
          "carlos barbosa",
          "carlos gomes",
          "casca",
          "caseiros",
          "catuipe",
          "caxias do sul",
          "centenario",
          "cerrito",
          "cerro branco",
          "cerro grande",
          "cerro grande do sul",
          "cerro largo",
          "chapada",
          "charqueadas",
          "charrua",
          "chiapetta",
          "chui",
          "chuvisca",
          "cidreira",
          "ciriaco",
          "colinas",
          "colorado",
          "condor",
          "constantina",
          "coqueiro baixo",
          "coqueiros do sul",
          "coronel barros",
          "coronel bicaco",
          "coronel pilar",
          "cotipora",
          "coxilha",
          "crissiumal",
          "cristal",
          "cristal do sul",
          "cruz alta",
          "cruzaltense",
          "cruzeiro do sul",
          "david canabarro",
          "derrubadas",
          "dezesseis de novembro",
          "dilermando de aguiar",
          "dois irmaos",
          "dois irmaos das missoes",
          "dois lajeados",
          "dom feliciano",
          "dom pedrito",
          "dom pedro de alcantara",
          "dona francisca",
          "doutor ricardo",
          "dr mauricio cardoso",
          "eldorado do sul",
          "encantado",
          "encruzilhada do sul",
          "engenho velho",
          "entre ijuis",
          "entre rios do sul",
          "erebango",
          "erechim",
          "ernestina",
          "erval grande",
          "erval seco",
          "esmeralda",
          "esperanca do sul",
          "espumoso",
          "estacao",
          "estancia velha",
          "esteio",
          "estrela",
          "estrela velha",
          "eugenio de castro",
          "fagundes varela",
          "farroupilha",
          "faxinal do soturno",
          "faxinalzinho",
          "fazenda vila nova",
          "feliz",
          "flores da cunha",
          "floriano peixoto",
          "fontoura xavier",
          "formigueiro",
          "forquetinha",
          "fortaleza dos valos",
          "frederico westphalen",
          "garibaldi",
          "garruchos",
          "gaurama",
          "general camara",
          "gentil",
          "getulio vargas",
          "girua",
          "glorinha",
          "gramado",
          "gramado dos loureiros",
          "gramado xavier",
          "gravatai",
          "guabiju",
          "guaiba",
          "guapore",
          "guarani das missoes",
          "harmonia",
          "herval",
          "herveiras",
          "horizontina",
          "hulha negra",
          "humaita",
          "ibarama",
          "ibiaca",
          "ibiraiaras",
          "ibirapuita",
          "ibiruba",
          "igrejinha",
          "ijui",
          "ilopolis",
          "imbe",
          "imigrante",
          "independencia",
          "inhacora",
          "ipe",
          "ipiranga do sul",
          "irai",
          "itaara",
          "itacurubi",
          "itapuca",
          "itaqui",
          "itati",
          "itatiba do sul",
          "ivora",
          "ivoti",
          "jaboticaba",
          "jacuizinho",
          "jacutinga",
          "jaguarao",
          "jaguari",
          "jaquirana",
          "jari",
          "joia",
          "julio de castilhos",
          "lagoa bonita do sul",
          "lagoa dos tres cantos",
          "lagoa vermelha",
          "lagoao",
          "lajeado",
          "lajeado do bugre",
          "lavras do sul",
          "liberato salzano",
          "lindolfo collor",
          "linha nova",
          "macambara",
          "machadinho",
          "mampituba",
          "manoel viana",
          "maquine",
          "marata",
          "marau",
          "marcelino ramos",
          "mariana pimentel",
          "mariano moro",
          "marques de souza",
          "mata",
          "mato castelhano",
          "mato leitao",
          "mato queimado",
          "maximiliano de almeida",
          "minas do leao",
          "miraguai",
          "montauri",
          "monte alegre dos campos",
          "monte belo do sul",
          "montenegro",
          "mormaco",
          "morrinhos do sul",
          "morro redondo",
          "morro reuter",
          "mostardas",
          "mucum",
          "muitos capoes",
          "muliterno",
          "nao-me-toque",
          "nicolau vergueiro",
          "nonoai",
          "nova alvorada",
          "nova araca",
          "nova bassano",
          "nova boa vista",
          "nova brescia",
          "nova candelaria",
          "nova esperanca do sul",
          "nova hartz",
          "nova padua",
          "nova palma",
          "nova petropolis",
          "nova prata",
          "nova ramada",
          "nova roma do sul",
          "nova santa rita",
          "novo barreiro",
          "novo cabrais",
          "novo hamburgo",
          "novo machado",
          "novo tiradentes",
          "novo xingu",
          "osorio",
          "paim filho",
          "palmares do sul",
          "palmeira das missoes",
          "palmitinho",
          "panambi",
          "pantano grande",
          "parai",
          "paraiso do sul",
          "pareci novo",
          "parobe",
          "passa sete",
          "passo do sobrado",
          "passo fundo",
          "paulo bento",
          "paverama",
          "pedras altas",
          "pedro osorio",
          "pejucara",
          "pelotas",
          "picada cafe",
          "pinhal",
          "pinhal da serra",
          "pinhal grande",
          "pinheirinho do vale",
          "pinheiro machado",
          "pinto bandeira",
          "pirapo",
          "piratini",
          "planalto",
          "poco das antas",
          "pontao",
          "ponte preta",
          "portao",
          "porto alegre",
          "porto lucena",
          "porto maua",
          "porto vera cruz",
          "porto xavier",
          "pouso novo",
          "presidente lucena",
          "progresso",
          "protasio alves",
          "putinga",
          "quarai",
          "quatro irmaos",
          "quevedos",
          "quinze de novembro",
          "redentora",
          "relvado",
          "restinga seca",
          "rio dos indios",
          "rio grande",
          "rio pardo",
          "riozinho",
          "roca sales",
          "rodeio bonito",
          "rolador",
          "rolante",
          "ronda alta",
          "rondinha",
          "roque gonzales",
          "rosario do sul",
          "sagrada familia",
          "saldanha marinho",
          "salto do jacui",
          "salvador das missoes",
          "salvador do sul",
          "sananduva",
          "santa barbara do sul",
          "santa cecilia do sul",
          "santa clara do sul",
          "santa cruz do sul",
          "santa margarida do sul",
          "santa maria",
          "santa maria do herval",
          "santa rosa",
          "santa tereza",
          "santa vitoria do palmar",
          "santana da boa vista",
          "santana do livramento",
          "santiago",
          "santo angelo",
          "santo antonio da patrulha",
          "santo antonio das missoes",
          "santo antonio do palma",
          "santo antonio do planalto",
          "santo augusto",
          "santo cristo",
          "santo expedito do sul",
          "sao borja",
          "sao domingos do sul",
          "sao francisco de assis",
          "sao francisco de paula",
          "sao gabriel",
          "sao jeronimo",
          "sao joao da urtiga",
          "sao joao do polesine",
          "sao jorge",
          "sao jose das missoes",
          "sao jose do herval",
          "sao jose do hortencio",
          "sao jose do inhacora",
          "sao jose do norte",
          "sao jose do ouro",
          "sao jose do sul",
          "sao jose dos ausentes",
          "sao leopoldo",
          "sao lourenco do sul",
          "sao luiz gonzaga",
          "sao marcos",
          "sao martinho",
          "sao martinho da serra",
          "sao miguel das missoes",
          "sao nicolau",
          "sao paulo das missoes",
          "sao pedro da serra",
          "sao pedro das missoes",
          "sao pedro do butia",
          "sao pedro do sul",
          "sao sebastiao do cai",
          "sao sepe",
          "sao valentim",
          "sao valentim do sul",
          "sao valerio do sul",
          "sao vendelino",
          "sao vicente do sul",
          "sapiranga",
          "sapucaia do sul",
          "sarandi",
          "seberi",
          "sede nova",
          "segredo",
          "selbach",
          "senador salgado filho",
          "sentinela do sul",
          "serafina correa",
          "serio",
          "sertao",
          "sertao santana",
          "sete de setembro",
          "severiano de almeida",
          "silveira martins",
          "sinimbu",
          "sobradinho",
          "soledade",
          "tabai",
          "tapejara",
          "tapera",
          "tapes",
          "taquara",
          "taquari",
          "taquarucu do sul",
          "tavares",
          "tenente portela",
          "terra de areia",
          "teutonia",
          "tio hugo",
          "tiradentes do sul",
          "toropi",
          "torres",
          "tramandai",
          "travesseiro",
          "tres arroios",
          "tres cachoeiras",
          "tres coroas",
          "tres de maio",
          "tres forquilhas",
          "tres palmeiras",
          "tres passos",
          "trindade do sul",
          "triunfo",
          "tucunduva",
          "tunas",
          "tupanci do sul",
          "tupancireta",
          "tupandi",
          "tuparendi",
          "turucu",
          "ubiretama",
          "uniao da serra",
          "unistalda",
          "uruguaiana",
          "vacaria",
          "vale do sol",
          "vale real",
          "vale verde",
          "vanini",
          "venancio aires",
          "vera cruz",
          "veranopolis",
          "vespasiano correa",
          "viadutos",
          "viamao",
          "vicente dutra",
          "victor graeff",
          "vila flores",
          "vila langaro",
          "vila maria",
          "vila nova do sul",
          "vista alegre",
          "vista alegre do prata",
          "vista gaucha",
          "vitoria das missoes",
          "westfalia",
          "xangri-la"
         ],
         "type": "scatter3d",
         "x": [
          -0.6015571329880844,
          -0.6823135300808117,
          0.04440365794186637,
          -0.7103976257434185,
          -0.4794460102159635,
          -0.5868409829748974,
          -0.6813806005832485,
          1.6694844657284507,
          -0.6808111882307566,
          0.15978897242523282,
          -0.1705063928647756,
          1.1056083366668523,
          1.0877941016273636,
          0.19317399709202676,
          -0.6664164826033911,
          -0.690689879980427,
          1.499242778238174,
          0.5492902964117184,
          1.3673356993136878,
          -0.16958585871903695,
          -0.6492194348272707,
          -0.3689186251462737,
          0.3343379694253419,
          -0.49819854596551777,
          -0.37417798394684093
         ],
         "y": [
          0.07544342454418398,
          -0.5122535820251146,
          -0.43408343002895794,
          -0.5124422393091553,
          -0.042583954964437974,
          -0.43621161192641666,
          -0.5094190461546351,
          0.259450739145334,
          -0.44398524932702693,
          2.3164693944515244,
          -0.47771776959155643,
          -0.44189258972001144,
          0.04869280573174797,
          -0.4987587411780026,
          -0.38186668901744913,
          -0.4447901151504178,
          -0.6255616529597662,
          0.042026746627124294,
          -0.6239739454620542,
          1.770382557316886,
          -0.11895217362825887,
          0.3957199257906421,
          0.42748040729739367,
          0.46602243559559725,
          0.7028043539428285
         ],
         "z": [
          -0.14576831499970555,
          -0.07222818536548746,
          -0.03555708791262207,
          -0.07366085131981111,
          -0.12292949313623562,
          -0.07794754089846437,
          -0.07319785436253526,
          -0.03873409794846643,
          -0.08191465575768751,
          -0.3941495580259799,
          -0.03931370188405539,
          0.03414800631289264,
          -0.03630385657516378,
          -0.017767289324428837,
          -0.08840210448337485,
          -0.08231063310375127,
          0.08000813380577744,
          -0.06334163414298556,
          0.0742226519406698,
          -0.34372944742120365,
          -0.12223497363392953,
          -0.17125214481704717,
          -0.12822985865529693,
          -0.19162171846155007,
          2.212216210170442
         ]
        }
       ],
       "layout": {
        "scene": {
         "xaxis": {
          "title": {
           "text": "PC1"
          }
         },
         "yaxis": {
          "title": {
           "text": "PC2"
          }
         },
         "zaxis": {
          "title": {
           "text": "PC3"
          }
         }
        },
        "template": {
         "data": {
          "bar": [
           {
            "error_x": {
             "color": "#2a3f5f"
            },
            "error_y": {
             "color": "#2a3f5f"
            },
            "marker": {
             "line": {
              "color": "#E5ECF6",
              "width": 0.5
             },
             "pattern": {
              "fillmode": "overlay",
              "size": 10,
              "solidity": 0.2
             }
            },
            "type": "bar"
           }
          ],
          "barpolar": [
           {
            "marker": {
             "line": {
              "color": "#E5ECF6",
              "width": 0.5
             },
             "pattern": {
              "fillmode": "overlay",
              "size": 10,
              "solidity": 0.2
             }
            },
            "type": "barpolar"
           }
          ],
          "carpet": [
           {
            "aaxis": {
             "endlinecolor": "#2a3f5f",
             "gridcolor": "white",
             "linecolor": "white",
             "minorgridcolor": "white",
             "startlinecolor": "#2a3f5f"
            },
            "baxis": {
             "endlinecolor": "#2a3f5f",
             "gridcolor": "white",
             "linecolor": "white",
             "minorgridcolor": "white",
             "startlinecolor": "#2a3f5f"
            },
            "type": "carpet"
           }
          ],
          "choropleth": [
           {
            "colorbar": {
             "outlinewidth": 0,
             "ticks": ""
            },
            "type": "choropleth"
           }
          ],
          "contour": [
           {
            "colorbar": {
             "outlinewidth": 0,
             "ticks": ""
            },
            "colorscale": [
             [
              0,
              "#0d0887"
             ],
             [
              0.1111111111111111,
              "#46039f"
             ],
             [
              0.2222222222222222,
              "#7201a8"
             ],
             [
              0.3333333333333333,
              "#9c179e"
             ],
             [
              0.4444444444444444,
              "#bd3786"
             ],
             [
              0.5555555555555556,
              "#d8576b"
             ],
             [
              0.6666666666666666,
              "#ed7953"
             ],
             [
              0.7777777777777778,
              "#fb9f3a"
             ],
             [
              0.8888888888888888,
              "#fdca26"
             ],
             [
              1,
              "#f0f921"
             ]
            ],
            "type": "contour"
           }
          ],
          "contourcarpet": [
           {
            "colorbar": {
             "outlinewidth": 0,
             "ticks": ""
            },
            "type": "contourcarpet"
           }
          ],
          "heatmap": [
           {
            "colorbar": {
             "outlinewidth": 0,
             "ticks": ""
            },
            "colorscale": [
             [
              0,
              "#0d0887"
             ],
             [
              0.1111111111111111,
              "#46039f"
             ],
             [
              0.2222222222222222,
              "#7201a8"
             ],
             [
              0.3333333333333333,
              "#9c179e"
             ],
             [
              0.4444444444444444,
              "#bd3786"
             ],
             [
              0.5555555555555556,
              "#d8576b"
             ],
             [
              0.6666666666666666,
              "#ed7953"
             ],
             [
              0.7777777777777778,
              "#fb9f3a"
             ],
             [
              0.8888888888888888,
              "#fdca26"
             ],
             [
              1,
              "#f0f921"
             ]
            ],
            "type": "heatmap"
           }
          ],
          "heatmapgl": [
           {
            "colorbar": {
             "outlinewidth": 0,
             "ticks": ""
            },
            "colorscale": [
             [
              0,
              "#0d0887"
             ],
             [
              0.1111111111111111,
              "#46039f"
             ],
             [
              0.2222222222222222,
              "#7201a8"
             ],
             [
              0.3333333333333333,
              "#9c179e"
             ],
             [
              0.4444444444444444,
              "#bd3786"
             ],
             [
              0.5555555555555556,
              "#d8576b"
             ],
             [
              0.6666666666666666,
              "#ed7953"
             ],
             [
              0.7777777777777778,
              "#fb9f3a"
             ],
             [
              0.8888888888888888,
              "#fdca26"
             ],
             [
              1,
              "#f0f921"
             ]
            ],
            "type": "heatmapgl"
           }
          ],
          "histogram": [
           {
            "marker": {
             "pattern": {
              "fillmode": "overlay",
              "size": 10,
              "solidity": 0.2
             }
            },
            "type": "histogram"
           }
          ],
          "histogram2d": [
           {
            "colorbar": {
             "outlinewidth": 0,
             "ticks": ""
            },
            "colorscale": [
             [
              0,
              "#0d0887"
             ],
             [
              0.1111111111111111,
              "#46039f"
             ],
             [
              0.2222222222222222,
              "#7201a8"
             ],
             [
              0.3333333333333333,
              "#9c179e"
             ],
             [
              0.4444444444444444,
              "#bd3786"
             ],
             [
              0.5555555555555556,
              "#d8576b"
             ],
             [
              0.6666666666666666,
              "#ed7953"
             ],
             [
              0.7777777777777778,
              "#fb9f3a"
             ],
             [
              0.8888888888888888,
              "#fdca26"
             ],
             [
              1,
              "#f0f921"
             ]
            ],
            "type": "histogram2d"
           }
          ],
          "histogram2dcontour": [
           {
            "colorbar": {
             "outlinewidth": 0,
             "ticks": ""
            },
            "colorscale": [
             [
              0,
              "#0d0887"
             ],
             [
              0.1111111111111111,
              "#46039f"
             ],
             [
              0.2222222222222222,
              "#7201a8"
             ],
             [
              0.3333333333333333,
              "#9c179e"
             ],
             [
              0.4444444444444444,
              "#bd3786"
             ],
             [
              0.5555555555555556,
              "#d8576b"
             ],
             [
              0.6666666666666666,
              "#ed7953"
             ],
             [
              0.7777777777777778,
              "#fb9f3a"
             ],
             [
              0.8888888888888888,
              "#fdca26"
             ],
             [
              1,
              "#f0f921"
             ]
            ],
            "type": "histogram2dcontour"
           }
          ],
          "mesh3d": [
           {
            "colorbar": {
             "outlinewidth": 0,
             "ticks": ""
            },
            "type": "mesh3d"
           }
          ],
          "parcoords": [
           {
            "line": {
             "colorbar": {
              "outlinewidth": 0,
              "ticks": ""
             }
            },
            "type": "parcoords"
           }
          ],
          "pie": [
           {
            "automargin": true,
            "type": "pie"
           }
          ],
          "scatter": [
           {
            "fillpattern": {
             "fillmode": "overlay",
             "size": 10,
             "solidity": 0.2
            },
            "type": "scatter"
           }
          ],
          "scatter3d": [
           {
            "line": {
             "colorbar": {
              "outlinewidth": 0,
              "ticks": ""
             }
            },
            "marker": {
             "colorbar": {
              "outlinewidth": 0,
              "ticks": ""
             }
            },
            "type": "scatter3d"
           }
          ],
          "scattercarpet": [
           {
            "marker": {
             "colorbar": {
              "outlinewidth": 0,
              "ticks": ""
             }
            },
            "type": "scattercarpet"
           }
          ],
          "scattergeo": [
           {
            "marker": {
             "colorbar": {
              "outlinewidth": 0,
              "ticks": ""
             }
            },
            "type": "scattergeo"
           }
          ],
          "scattergl": [
           {
            "marker": {
             "colorbar": {
              "outlinewidth": 0,
              "ticks": ""
             }
            },
            "type": "scattergl"
           }
          ],
          "scattermapbox": [
           {
            "marker": {
             "colorbar": {
              "outlinewidth": 0,
              "ticks": ""
             }
            },
            "type": "scattermapbox"
           }
          ],
          "scatterpolar": [
           {
            "marker": {
             "colorbar": {
              "outlinewidth": 0,
              "ticks": ""
             }
            },
            "type": "scatterpolar"
           }
          ],
          "scatterpolargl": [
           {
            "marker": {
             "colorbar": {
              "outlinewidth": 0,
              "ticks": ""
             }
            },
            "type": "scatterpolargl"
           }
          ],
          "scatterternary": [
           {
            "marker": {
             "colorbar": {
              "outlinewidth": 0,
              "ticks": ""
             }
            },
            "type": "scatterternary"
           }
          ],
          "surface": [
           {
            "colorbar": {
             "outlinewidth": 0,
             "ticks": ""
            },
            "colorscale": [
             [
              0,
              "#0d0887"
             ],
             [
              0.1111111111111111,
              "#46039f"
             ],
             [
              0.2222222222222222,
              "#7201a8"
             ],
             [
              0.3333333333333333,
              "#9c179e"
             ],
             [
              0.4444444444444444,
              "#bd3786"
             ],
             [
              0.5555555555555556,
              "#d8576b"
             ],
             [
              0.6666666666666666,
              "#ed7953"
             ],
             [
              0.7777777777777778,
              "#fb9f3a"
             ],
             [
              0.8888888888888888,
              "#fdca26"
             ],
             [
              1,
              "#f0f921"
             ]
            ],
            "type": "surface"
           }
          ],
          "table": [
           {
            "cells": {
             "fill": {
              "color": "#EBF0F8"
             },
             "line": {
              "color": "white"
             }
            },
            "header": {
             "fill": {
              "color": "#C8D4E3"
             },
             "line": {
              "color": "white"
             }
            },
            "type": "table"
           }
          ]
         },
         "layout": {
          "annotationdefaults": {
           "arrowcolor": "#2a3f5f",
           "arrowhead": 0,
           "arrowwidth": 1
          },
          "autotypenumbers": "strict",
          "coloraxis": {
           "colorbar": {
            "outlinewidth": 0,
            "ticks": ""
           }
          },
          "colorscale": {
           "diverging": [
            [
             0,
             "#8e0152"
            ],
            [
             0.1,
             "#c51b7d"
            ],
            [
             0.2,
             "#de77ae"
            ],
            [
             0.3,
             "#f1b6da"
            ],
            [
             0.4,
             "#fde0ef"
            ],
            [
             0.5,
             "#f7f7f7"
            ],
            [
             0.6,
             "#e6f5d0"
            ],
            [
             0.7,
             "#b8e186"
            ],
            [
             0.8,
             "#7fbc41"
            ],
            [
             0.9,
             "#4d9221"
            ],
            [
             1,
             "#276419"
            ]
           ],
           "sequential": [
            [
             0,
             "#0d0887"
            ],
            [
             0.1111111111111111,
             "#46039f"
            ],
            [
             0.2222222222222222,
             "#7201a8"
            ],
            [
             0.3333333333333333,
             "#9c179e"
            ],
            [
             0.4444444444444444,
             "#bd3786"
            ],
            [
             0.5555555555555556,
             "#d8576b"
            ],
            [
             0.6666666666666666,
             "#ed7953"
            ],
            [
             0.7777777777777778,
             "#fb9f3a"
            ],
            [
             0.8888888888888888,
             "#fdca26"
            ],
            [
             1,
             "#f0f921"
            ]
           ],
           "sequentialminus": [
            [
             0,
             "#0d0887"
            ],
            [
             0.1111111111111111,
             "#46039f"
            ],
            [
             0.2222222222222222,
             "#7201a8"
            ],
            [
             0.3333333333333333,
             "#9c179e"
            ],
            [
             0.4444444444444444,
             "#bd3786"
            ],
            [
             0.5555555555555556,
             "#d8576b"
            ],
            [
             0.6666666666666666,
             "#ed7953"
            ],
            [
             0.7777777777777778,
             "#fb9f3a"
            ],
            [
             0.8888888888888888,
             "#fdca26"
            ],
            [
             1,
             "#f0f921"
            ]
           ]
          },
          "colorway": [
           "#636efa",
           "#EF553B",
           "#00cc96",
           "#ab63fa",
           "#FFA15A",
           "#19d3f3",
           "#FF6692",
           "#B6E880",
           "#FF97FF",
           "#FECB52"
          ],
          "font": {
           "color": "#2a3f5f"
          },
          "geo": {
           "bgcolor": "white",
           "lakecolor": "white",
           "landcolor": "#E5ECF6",
           "showlakes": true,
           "showland": true,
           "subunitcolor": "white"
          },
          "hoverlabel": {
           "align": "left"
          },
          "hovermode": "closest",
          "mapbox": {
           "style": "light"
          },
          "paper_bgcolor": "white",
          "plot_bgcolor": "#E5ECF6",
          "polar": {
           "angularaxis": {
            "gridcolor": "white",
            "linecolor": "white",
            "ticks": ""
           },
           "bgcolor": "#E5ECF6",
           "radialaxis": {
            "gridcolor": "white",
            "linecolor": "white",
            "ticks": ""
           }
          },
          "scene": {
           "xaxis": {
            "backgroundcolor": "#E5ECF6",
            "gridcolor": "white",
            "gridwidth": 2,
            "linecolor": "white",
            "showbackground": true,
            "ticks": "",
            "zerolinecolor": "white"
           },
           "yaxis": {
            "backgroundcolor": "#E5ECF6",
            "gridcolor": "white",
            "gridwidth": 2,
            "linecolor": "white",
            "showbackground": true,
            "ticks": "",
            "zerolinecolor": "white"
           },
           "zaxis": {
            "backgroundcolor": "#E5ECF6",
            "gridcolor": "white",
            "gridwidth": 2,
            "linecolor": "white",
            "showbackground": true,
            "ticks": "",
            "zerolinecolor": "white"
           }
          },
          "shapedefaults": {
           "line": {
            "color": "#2a3f5f"
           }
          },
          "ternary": {
           "aaxis": {
            "gridcolor": "white",
            "linecolor": "white",
            "ticks": ""
           },
           "baxis": {
            "gridcolor": "white",
            "linecolor": "white",
            "ticks": ""
           },
           "bgcolor": "#E5ECF6",
           "caxis": {
            "gridcolor": "white",
            "linecolor": "white",
            "ticks": ""
           }
          },
          "title": {
           "x": 0.05
          },
          "xaxis": {
           "automargin": true,
           "gridcolor": "white",
           "linecolor": "white",
           "ticks": "",
           "title": {
            "standoff": 15
           },
           "zerolinecolor": "white",
           "zerolinewidth": 2
          },
          "yaxis": {
           "automargin": true,
           "gridcolor": "white",
           "linecolor": "white",
           "ticks": "",
           "title": {
            "standoff": 15
           },
           "zerolinecolor": "white",
           "zerolinewidth": 2
          }
         }
        },
        "title": {
         "text": "Gráfico 3D dos 4 Clusters"
        }
       }
      }
     },
     "metadata": {},
     "output_type": "display_data"
    },
    {
     "data": {
      "text/plain": [
       "' Foi utilizado a biblioteca Plotly para a visualização dos dados. Documentação do gráfico 3D: https://plotly.com/python/v3/3d-point-clustering/'"
      ]
     },
     "execution_count": 1360,
     "metadata": {},
     "output_type": "execute_result"
    }
   ],
   "source": [
    "# Criar o gráfico 3D\n",
    "fig = go.Figure()\n",
    "\n",
    "# Adicionar os pontos\n",
    "fig.add_trace(\n",
    "    go.Scatter3d(\n",
    "        # Adicionar as dimensões PCA\n",
    "        x=df_pca['PC1'],\n",
    "        y=df_pca['PC2'],\n",
    "        z=df_pca['PC3'],\n",
    "        mode='markers',\n",
    "        # Adicionar a cor de acordo com o cluster\n",
    "        marker=dict(size=5, color=df_pca['cluster'], colorscale='viridis', opacity=0.8),\n",
    "        # Adicionar o nome dos município ao passar o mouse\n",
    "        text=df.index\n",
    "))\n",
    "\n",
    "# Adicionar o layout\n",
    "fig.update_layout(\n",
    "    title=f'Gráfico 3D dos {k} Clusters',\n",
    "    # Adicionar o nome dos eixos\n",
    "    scene=dict(\n",
    "        xaxis_title='PC1',\n",
    "        yaxis_title='PC2',\n",
    "        zaxis_title='PC3'\n",
    "    )\n",
    ")\n",
    "\n",
    "# Mostrar o gráfico\n",
    "fig.show()\n",
    "\n",
    "\"\"\" Foi utilizado a biblioteca Plotly para a visualização dos dados. Documentação do gráfico 3D: https://plotly.com/python/v3/3d-point-clustering/\"\"\""
   ]
  },
  {
   "cell_type": "markdown",
   "metadata": {},
   "source": [
    "## Sistema de Recomendação"
   ]
  },
  {
   "cell_type": "code",
   "execution_count": 1361,
   "metadata": {},
   "outputs": [
    {
     "name": "stdout",
     "output_type": "stream",
     "text": [
      "<class 'pandas.core.frame.DataFrame'>\n",
      "RangeIndex: 100 entries, 0 to 99\n",
      "Data columns (total 28 columns):\n",
      " #   Column      Non-Null Count  Dtype  \n",
      "---  ------      --------------  -----  \n",
      " 0   id          100 non-null    int64  \n",
      " 1   first_name  100 non-null    object \n",
      " 2   gender      100 non-null    object \n",
      " 3   rating_1    0 non-null      float64\n",
      " 4   rating_2    59 non-null     object \n",
      " 5   rating_3    99 non-null     object \n",
      " 6   rating_4    99 non-null     object \n",
      " 7   rating_5    97 non-null     object \n",
      " 8   rating_6    99 non-null     object \n",
      " 9   rating_7    99 non-null     object \n",
      " 10  rating_8    99 non-null     object \n",
      " 11  rating_9    42 non-null     object \n",
      " 12  rating_10   98 non-null     object \n",
      " 13  rating_11   99 non-null     object \n",
      " 14  rating_12   98 non-null     object \n",
      " 15  rating_13   98 non-null     object \n",
      " 16  rating_14   94 non-null     object \n",
      " 17  rating_15   77 non-null     object \n",
      " 18  rating_16   99 non-null     object \n",
      " 19  rating_17   93 non-null     object \n",
      " 20  rating_18   97 non-null     object \n",
      " 21  rating_19   98 non-null     object \n",
      " 22  rating_20   98 non-null     object \n",
      " 23  rating_21   96 non-null     object \n",
      " 24  rating_22   95 non-null     object \n",
      " 25  rating_23   97 non-null     object \n",
      " 26  rating_24   99 non-null     object \n",
      " 27  rating_25   94 non-null     object \n",
      "dtypes: float64(1), int64(1), object(26)\n",
      "memory usage: 22.0+ KB\n"
     ]
    }
   ],
   "source": [
    "df_ratings = pd.read_csv('data\\\\tocsv\\\\ratings.csv', delimiter=',')\n",
    "\n",
    "df_ratings.info()"
   ]
  },
  {
   "cell_type": "code",
   "execution_count": 1362,
   "metadata": {},
   "outputs": [],
   "source": [
    "df_ratings.drop(['id'], axis='columns', inplace=True)\n",
    "df_ratings.drop(['gender'], axis='columns', inplace=True)\n",
    "df_ratings.set_index('first_name', inplace=True)\n",
    "\n",
    "df_ratings.rename(columns= {\n",
    "    'rating_1': df_sample.index[0], 'rating_2': df_sample.index[1], 'rating_3': df_sample.index[2], 'rating_4': df_sample.index[3], 'rating_5': df_sample.index[4], \n",
    "    'rating_6': df_sample.index[5], 'rating_7': df_sample.index[6], 'rating_8': df_sample.index[7], 'rating_9': df_sample.index[8], 'rating_10': df_sample.index[9], \n",
    "    'rating_11': df_sample.index[10], 'rating_12': df_sample.index[11], 'rating_13': df_sample.index[12], 'rating_14': df_sample.index[13], 'rating_15': df_sample.index[14], \n",
    "    'rating_16': df_sample.index[15], 'rating_17': df_sample.index[16], 'rating_18': df_sample.index[17], 'rating_19': df_sample.index[18], 'rating_20': df_sample.index[19],\n",
    "    'rating_21': df_sample.index[20], 'rating_22': df_sample.index[21], 'rating_23': df_sample.index[22], 'rating_24': df_sample.index[23], 'rating_25': df_sample.index[24]\n",
    "    }, inplace=True)\n"
   ]
  },
  {
   "cell_type": "markdown",
   "metadata": {},
   "source": [
    "A cidade nova, sem ratings é a primeira coluna do dataset ratings e por padrão iniciará com -1."
   ]
  },
  {
   "cell_type": "code",
   "execution_count": 1363,
   "metadata": {},
   "outputs": [
    {
     "data": {
      "text/html": [
       "<div>\n",
       "<style scoped>\n",
       "    .dataframe tbody tr th:only-of-type {\n",
       "        vertical-align: middle;\n",
       "    }\n",
       "\n",
       "    .dataframe tbody tr th {\n",
       "        vertical-align: top;\n",
       "    }\n",
       "\n",
       "    .dataframe thead th {\n",
       "        text-align: right;\n",
       "    }\n",
       "</style>\n",
       "<table border=\"1\" class=\"dataframe\">\n",
       "  <thead>\n",
       "    <tr style=\"text-align: right;\">\n",
       "      <th></th>\n",
       "      <th>hulha negra</th>\n",
       "      <th>sao valentim do sul</th>\n",
       "      <th>xangri-la</th>\n",
       "      <th>nova padua</th>\n",
       "      <th>catuipe</th>\n",
       "      <th>esmeralda</th>\n",
       "      <th>lajeado do bugre</th>\n",
       "      <th>cruz alta</th>\n",
       "      <th>nova ramada</th>\n",
       "      <th>jaguarao</th>\n",
       "      <th>...</th>\n",
       "      <th>almirante tamandare do sul</th>\n",
       "      <th>esteio</th>\n",
       "      <th>frederico westphalen</th>\n",
       "      <th>canela</th>\n",
       "      <th>piratini</th>\n",
       "      <th>vale verde</th>\n",
       "      <th>restinga seca</th>\n",
       "      <th>santo antonio da patrulha</th>\n",
       "      <th>passo do sobrado</th>\n",
       "      <th>sao sepe</th>\n",
       "    </tr>\n",
       "    <tr>\n",
       "      <th>first_name</th>\n",
       "      <th></th>\n",
       "      <th></th>\n",
       "      <th></th>\n",
       "      <th></th>\n",
       "      <th></th>\n",
       "      <th></th>\n",
       "      <th></th>\n",
       "      <th></th>\n",
       "      <th></th>\n",
       "      <th></th>\n",
       "      <th></th>\n",
       "      <th></th>\n",
       "      <th></th>\n",
       "      <th></th>\n",
       "      <th></th>\n",
       "      <th></th>\n",
       "      <th></th>\n",
       "      <th></th>\n",
       "      <th></th>\n",
       "      <th></th>\n",
       "      <th></th>\n",
       "    </tr>\n",
       "  </thead>\n",
       "  <tbody>\n",
       "    <tr>\n",
       "      <th>Nadya</th>\n",
       "      <td>-1.0</td>\n",
       "      <td>1.0</td>\n",
       "      <td>0.0</td>\n",
       "      <td>0.0</td>\n",
       "      <td>0.0</td>\n",
       "      <td>1.0</td>\n",
       "      <td>0.0</td>\n",
       "      <td>0.0</td>\n",
       "      <td>NaN</td>\n",
       "      <td>0.0</td>\n",
       "      <td>...</td>\n",
       "      <td>0.0</td>\n",
       "      <td>0.0</td>\n",
       "      <td>1.0</td>\n",
       "      <td>0.0</td>\n",
       "      <td>1.0</td>\n",
       "      <td>0.0</td>\n",
       "      <td>1.0</td>\n",
       "      <td>0.0</td>\n",
       "      <td>0.0</td>\n",
       "      <td>0.0</td>\n",
       "    </tr>\n",
       "    <tr>\n",
       "      <th>Thea</th>\n",
       "      <td>-1.0</td>\n",
       "      <td>1.0</td>\n",
       "      <td>1.0</td>\n",
       "      <td>1.0</td>\n",
       "      <td>1.0</td>\n",
       "      <td>1.0</td>\n",
       "      <td>0.0</td>\n",
       "      <td>0.0</td>\n",
       "      <td>NaN</td>\n",
       "      <td>0.0</td>\n",
       "      <td>...</td>\n",
       "      <td>0.0</td>\n",
       "      <td>0.0</td>\n",
       "      <td>1.0</td>\n",
       "      <td>0.0</td>\n",
       "      <td>0.0</td>\n",
       "      <td>1.0</td>\n",
       "      <td>1.0</td>\n",
       "      <td>0.0</td>\n",
       "      <td>1.0</td>\n",
       "      <td>0.0</td>\n",
       "    </tr>\n",
       "    <tr>\n",
       "      <th>Elie</th>\n",
       "      <td>-1.0</td>\n",
       "      <td>NaN</td>\n",
       "      <td>1.0</td>\n",
       "      <td>1.0</td>\n",
       "      <td>1.0</td>\n",
       "      <td>0.0</td>\n",
       "      <td>0.0</td>\n",
       "      <td>0.0</td>\n",
       "      <td>NaN</td>\n",
       "      <td>1.0</td>\n",
       "      <td>...</td>\n",
       "      <td>0.0</td>\n",
       "      <td>0.0</td>\n",
       "      <td>0.0</td>\n",
       "      <td>1.0</td>\n",
       "      <td>1.0</td>\n",
       "      <td>1.0</td>\n",
       "      <td>0.0</td>\n",
       "      <td>1.0</td>\n",
       "      <td>0.0</td>\n",
       "      <td>0.0</td>\n",
       "    </tr>\n",
       "    <tr>\n",
       "      <th>Karlyn</th>\n",
       "      <td>-1.0</td>\n",
       "      <td>NaN</td>\n",
       "      <td>1.0</td>\n",
       "      <td>0.0</td>\n",
       "      <td>0.0</td>\n",
       "      <td>1.0</td>\n",
       "      <td>1.0</td>\n",
       "      <td>0.0</td>\n",
       "      <td>NaN</td>\n",
       "      <td>0.0</td>\n",
       "      <td>...</td>\n",
       "      <td>0.0</td>\n",
       "      <td>0.0</td>\n",
       "      <td>0.0</td>\n",
       "      <td>1.0</td>\n",
       "      <td>0.0</td>\n",
       "      <td>1.0</td>\n",
       "      <td>0.0</td>\n",
       "      <td>1.0</td>\n",
       "      <td>1.0</td>\n",
       "      <td>1.0</td>\n",
       "    </tr>\n",
       "    <tr>\n",
       "      <th>Eustacia</th>\n",
       "      <td>-1.0</td>\n",
       "      <td>NaN</td>\n",
       "      <td>0.0</td>\n",
       "      <td>1.0</td>\n",
       "      <td>1.0</td>\n",
       "      <td>1.0</td>\n",
       "      <td>1.0</td>\n",
       "      <td>0.0</td>\n",
       "      <td>NaN</td>\n",
       "      <td>0.0</td>\n",
       "      <td>...</td>\n",
       "      <td>0.0</td>\n",
       "      <td>0.0</td>\n",
       "      <td>1.0</td>\n",
       "      <td>1.0</td>\n",
       "      <td>1.0</td>\n",
       "      <td>0.0</td>\n",
       "      <td>1.0</td>\n",
       "      <td>1.0</td>\n",
       "      <td>1.0</td>\n",
       "      <td>1.0</td>\n",
       "    </tr>\n",
       "  </tbody>\n",
       "</table>\n",
       "<p>5 rows × 25 columns</p>\n",
       "</div>"
      ],
      "text/plain": [
       "            hulha negra  sao valentim do sul  xangri-la  nova padua  catuipe  \\\n",
       "first_name                                                                     \n",
       "Nadya              -1.0                  1.0        0.0         0.0      0.0   \n",
       "Thea               -1.0                  1.0        1.0         1.0      1.0   \n",
       "Elie               -1.0                  NaN        1.0         1.0      1.0   \n",
       "Karlyn             -1.0                  NaN        1.0         0.0      0.0   \n",
       "Eustacia           -1.0                  NaN        0.0         1.0      1.0   \n",
       "\n",
       "            esmeralda  lajeado do bugre  cruz alta  nova ramada  jaguarao  \\\n",
       "first_name                                                                  \n",
       "Nadya             1.0               0.0        0.0          NaN       0.0   \n",
       "Thea              1.0               0.0        0.0          NaN       0.0   \n",
       "Elie              0.0               0.0        0.0          NaN       1.0   \n",
       "Karlyn            1.0               1.0        0.0          NaN       0.0   \n",
       "Eustacia          1.0               1.0        0.0          NaN       0.0   \n",
       "\n",
       "            ...  almirante tamandare do sul  esteio  frederico westphalen  \\\n",
       "first_name  ...                                                             \n",
       "Nadya       ...                         0.0     0.0                   1.0   \n",
       "Thea        ...                         0.0     0.0                   1.0   \n",
       "Elie        ...                         0.0     0.0                   0.0   \n",
       "Karlyn      ...                         0.0     0.0                   0.0   \n",
       "Eustacia    ...                         0.0     0.0                   1.0   \n",
       "\n",
       "            canela  piratini  vale verde  restinga seca  \\\n",
       "first_name                                                \n",
       "Nadya          0.0       1.0         0.0            1.0   \n",
       "Thea           0.0       0.0         1.0            1.0   \n",
       "Elie           1.0       1.0         1.0            0.0   \n",
       "Karlyn         1.0       0.0         1.0            0.0   \n",
       "Eustacia       1.0       1.0         0.0            1.0   \n",
       "\n",
       "            santo antonio da patrulha  passo do sobrado  sao sepe  \n",
       "first_name                                                         \n",
       "Nadya                             0.0               0.0       0.0  \n",
       "Thea                              0.0               1.0       0.0  \n",
       "Elie                              1.0               0.0       0.0  \n",
       "Karlyn                            1.0               1.0       1.0  \n",
       "Eustacia                          1.0               1.0       1.0  \n",
       "\n",
       "[5 rows x 25 columns]"
      ]
     },
     "execution_count": 1363,
     "metadata": {},
     "output_type": "execute_result"
    }
   ],
   "source": [
    "df_ratings.iloc[:, 0] = -1\n",
    "df_ratings = df_ratings.astype(float)\n",
    "\n",
    "\n",
    "df_ratings.head()"
   ]
  },
  {
   "cell_type": "code",
   "execution_count": 1364,
   "metadata": {},
   "outputs": [
    {
     "data": {
      "text/html": [
       "<div>\n",
       "<style scoped>\n",
       "    .dataframe tbody tr th:only-of-type {\n",
       "        vertical-align: middle;\n",
       "    }\n",
       "\n",
       "    .dataframe tbody tr th {\n",
       "        vertical-align: top;\n",
       "    }\n",
       "\n",
       "    .dataframe thead th {\n",
       "        text-align: right;\n",
       "    }\n",
       "</style>\n",
       "<table border=\"1\" class=\"dataframe\">\n",
       "  <thead>\n",
       "    <tr style=\"text-align: right;\">\n",
       "      <th></th>\n",
       "      <th>PC1</th>\n",
       "      <th>PC2</th>\n",
       "      <th>PC3</th>\n",
       "      <th>PC4</th>\n",
       "      <th>Nadya</th>\n",
       "      <th>Thea</th>\n",
       "      <th>Elie</th>\n",
       "      <th>Karlyn</th>\n",
       "      <th>Eustacia</th>\n",
       "      <th>Jodi</th>\n",
       "      <th>...</th>\n",
       "      <th>Peta</th>\n",
       "      <th>Addy</th>\n",
       "      <th>Clary</th>\n",
       "      <th>Edmund</th>\n",
       "      <th>Clemens</th>\n",
       "      <th>Barron</th>\n",
       "      <th>Joete</th>\n",
       "      <th>Melisenda</th>\n",
       "      <th>Eziechiele</th>\n",
       "      <th>Rachelle</th>\n",
       "    </tr>\n",
       "    <tr>\n",
       "      <th>municipios</th>\n",
       "      <th></th>\n",
       "      <th></th>\n",
       "      <th></th>\n",
       "      <th></th>\n",
       "      <th></th>\n",
       "      <th></th>\n",
       "      <th></th>\n",
       "      <th></th>\n",
       "      <th></th>\n",
       "      <th></th>\n",
       "      <th></th>\n",
       "      <th></th>\n",
       "      <th></th>\n",
       "      <th></th>\n",
       "      <th></th>\n",
       "      <th></th>\n",
       "      <th></th>\n",
       "      <th></th>\n",
       "      <th></th>\n",
       "      <th></th>\n",
       "      <th></th>\n",
       "    </tr>\n",
       "  </thead>\n",
       "  <tbody>\n",
       "    <tr>\n",
       "      <th>hulha negra</th>\n",
       "      <td>-0.601557</td>\n",
       "      <td>0.075443</td>\n",
       "      <td>-0.145768</td>\n",
       "      <td>0.006247</td>\n",
       "      <td>-1.0</td>\n",
       "      <td>-1.0</td>\n",
       "      <td>-1.0</td>\n",
       "      <td>-1.0</td>\n",
       "      <td>-1.0</td>\n",
       "      <td>-1.0</td>\n",
       "      <td>...</td>\n",
       "      <td>-1.0</td>\n",
       "      <td>-1.0</td>\n",
       "      <td>-1.0</td>\n",
       "      <td>-1.0</td>\n",
       "      <td>-1.0</td>\n",
       "      <td>-1.0</td>\n",
       "      <td>-1.0</td>\n",
       "      <td>-1.0</td>\n",
       "      <td>-1.0</td>\n",
       "      <td>-1.0</td>\n",
       "    </tr>\n",
       "    <tr>\n",
       "      <th>sao valentim do sul</th>\n",
       "      <td>-0.682314</td>\n",
       "      <td>-0.512254</td>\n",
       "      <td>-0.072228</td>\n",
       "      <td>0.019699</td>\n",
       "      <td>1.0</td>\n",
       "      <td>1.0</td>\n",
       "      <td>NaN</td>\n",
       "      <td>NaN</td>\n",
       "      <td>NaN</td>\n",
       "      <td>0.0</td>\n",
       "      <td>...</td>\n",
       "      <td>1.0</td>\n",
       "      <td>NaN</td>\n",
       "      <td>NaN</td>\n",
       "      <td>NaN</td>\n",
       "      <td>1.0</td>\n",
       "      <td>1.0</td>\n",
       "      <td>1.0</td>\n",
       "      <td>1.0</td>\n",
       "      <td>NaN</td>\n",
       "      <td>NaN</td>\n",
       "    </tr>\n",
       "    <tr>\n",
       "      <th>xangri-la</th>\n",
       "      <td>0.044404</td>\n",
       "      <td>-0.434083</td>\n",
       "      <td>-0.035557</td>\n",
       "      <td>-0.017995</td>\n",
       "      <td>0.0</td>\n",
       "      <td>1.0</td>\n",
       "      <td>1.0</td>\n",
       "      <td>1.0</td>\n",
       "      <td>0.0</td>\n",
       "      <td>0.0</td>\n",
       "      <td>...</td>\n",
       "      <td>1.0</td>\n",
       "      <td>0.0</td>\n",
       "      <td>0.0</td>\n",
       "      <td>1.0</td>\n",
       "      <td>0.0</td>\n",
       "      <td>0.0</td>\n",
       "      <td>0.0</td>\n",
       "      <td>0.0</td>\n",
       "      <td>0.0</td>\n",
       "      <td>0.0</td>\n",
       "    </tr>\n",
       "    <tr>\n",
       "      <th>nova padua</th>\n",
       "      <td>-0.710398</td>\n",
       "      <td>-0.512442</td>\n",
       "      <td>-0.073661</td>\n",
       "      <td>0.017818</td>\n",
       "      <td>0.0</td>\n",
       "      <td>1.0</td>\n",
       "      <td>1.0</td>\n",
       "      <td>0.0</td>\n",
       "      <td>1.0</td>\n",
       "      <td>1.0</td>\n",
       "      <td>...</td>\n",
       "      <td>1.0</td>\n",
       "      <td>1.0</td>\n",
       "      <td>1.0</td>\n",
       "      <td>1.0</td>\n",
       "      <td>0.0</td>\n",
       "      <td>0.0</td>\n",
       "      <td>1.0</td>\n",
       "      <td>1.0</td>\n",
       "      <td>1.0</td>\n",
       "      <td>1.0</td>\n",
       "    </tr>\n",
       "    <tr>\n",
       "      <th>catuipe</th>\n",
       "      <td>-0.479446</td>\n",
       "      <td>-0.042584</td>\n",
       "      <td>-0.122929</td>\n",
       "      <td>0.173788</td>\n",
       "      <td>0.0</td>\n",
       "      <td>1.0</td>\n",
       "      <td>1.0</td>\n",
       "      <td>0.0</td>\n",
       "      <td>1.0</td>\n",
       "      <td>1.0</td>\n",
       "      <td>...</td>\n",
       "      <td>1.0</td>\n",
       "      <td>0.0</td>\n",
       "      <td>1.0</td>\n",
       "      <td>0.0</td>\n",
       "      <td>0.0</td>\n",
       "      <td>0.0</td>\n",
       "      <td>0.0</td>\n",
       "      <td>1.0</td>\n",
       "      <td>1.0</td>\n",
       "      <td>1.0</td>\n",
       "    </tr>\n",
       "  </tbody>\n",
       "</table>\n",
       "<p>5 rows × 104 columns</p>\n",
       "</div>"
      ],
      "text/plain": [
       "                          PC1       PC2       PC3       PC4  Nadya  Thea  \\\n",
       "municipios                                                                 \n",
       "hulha negra         -0.601557  0.075443 -0.145768  0.006247   -1.0  -1.0   \n",
       "sao valentim do sul -0.682314 -0.512254 -0.072228  0.019699    1.0   1.0   \n",
       "xangri-la            0.044404 -0.434083 -0.035557 -0.017995    0.0   1.0   \n",
       "nova padua          -0.710398 -0.512442 -0.073661  0.017818    0.0   1.0   \n",
       "catuipe             -0.479446 -0.042584 -0.122929  0.173788    0.0   1.0   \n",
       "\n",
       "                     Elie  Karlyn  Eustacia  Jodi  ...  Peta  Addy  Clary  \\\n",
       "municipios                                         ...                      \n",
       "hulha negra          -1.0    -1.0      -1.0  -1.0  ...  -1.0  -1.0   -1.0   \n",
       "sao valentim do sul   NaN     NaN       NaN   0.0  ...   1.0   NaN    NaN   \n",
       "xangri-la             1.0     1.0       0.0   0.0  ...   1.0   0.0    0.0   \n",
       "nova padua            1.0     0.0       1.0   1.0  ...   1.0   1.0    1.0   \n",
       "catuipe               1.0     0.0       1.0   1.0  ...   1.0   0.0    1.0   \n",
       "\n",
       "                     Edmund  Clemens  Barron  Joete  Melisenda  Eziechiele  \\\n",
       "municipios                                                                   \n",
       "hulha negra            -1.0     -1.0    -1.0   -1.0       -1.0        -1.0   \n",
       "sao valentim do sul     NaN      1.0     1.0    1.0        1.0         NaN   \n",
       "xangri-la               1.0      0.0     0.0    0.0        0.0         0.0   \n",
       "nova padua              1.0      0.0     0.0    1.0        1.0         1.0   \n",
       "catuipe                 0.0      0.0     0.0    0.0        1.0         1.0   \n",
       "\n",
       "                     Rachelle  \n",
       "municipios                     \n",
       "hulha negra              -1.0  \n",
       "sao valentim do sul       NaN  \n",
       "xangri-la                 0.0  \n",
       "nova padua                1.0  \n",
       "catuipe                   1.0  \n",
       "\n",
       "[5 rows x 104 columns]"
      ]
     },
     "execution_count": 1364,
     "metadata": {},
     "output_type": "execute_result"
    }
   ],
   "source": [
    "df_ratings = df_ratings.T.reset_index().rename(columns={'index': 'municipios'}).set_index('municipios')\n",
    "\n",
    "df_ratings_pca = pd.merge(df_pca.iloc[:,:-1], df_ratings, how='inner', on='municipios')\n",
    "\n",
    "df_ratings_pca.head()"
   ]
  },
  {
   "cell_type": "code",
   "execution_count": 1365,
   "metadata": {},
   "outputs": [
    {
     "data": {
      "text/html": [
       "<div>\n",
       "<style scoped>\n",
       "    .dataframe tbody tr th:only-of-type {\n",
       "        vertical-align: middle;\n",
       "    }\n",
       "\n",
       "    .dataframe tbody tr th {\n",
       "        vertical-align: top;\n",
       "    }\n",
       "\n",
       "    .dataframe thead th {\n",
       "        text-align: right;\n",
       "    }\n",
       "</style>\n",
       "<table border=\"1\" class=\"dataframe\">\n",
       "  <thead>\n",
       "    <tr style=\"text-align: right;\">\n",
       "      <th></th>\n",
       "      <th>PC1</th>\n",
       "      <th>PC2</th>\n",
       "      <th>PC3</th>\n",
       "      <th>PC4</th>\n",
       "      <th>Nadya</th>\n",
       "      <th>Thea</th>\n",
       "      <th>Elie</th>\n",
       "      <th>Karlyn</th>\n",
       "      <th>Eustacia</th>\n",
       "      <th>Jodi</th>\n",
       "      <th>...</th>\n",
       "      <th>Peta</th>\n",
       "      <th>Addy</th>\n",
       "      <th>Clary</th>\n",
       "      <th>Edmund</th>\n",
       "      <th>Clemens</th>\n",
       "      <th>Barron</th>\n",
       "      <th>Joete</th>\n",
       "      <th>Melisenda</th>\n",
       "      <th>Eziechiele</th>\n",
       "      <th>Rachelle</th>\n",
       "    </tr>\n",
       "    <tr>\n",
       "      <th>municipios</th>\n",
       "      <th></th>\n",
       "      <th></th>\n",
       "      <th></th>\n",
       "      <th></th>\n",
       "      <th></th>\n",
       "      <th></th>\n",
       "      <th></th>\n",
       "      <th></th>\n",
       "      <th></th>\n",
       "      <th></th>\n",
       "      <th></th>\n",
       "      <th></th>\n",
       "      <th></th>\n",
       "      <th></th>\n",
       "      <th></th>\n",
       "      <th></th>\n",
       "      <th></th>\n",
       "      <th></th>\n",
       "      <th></th>\n",
       "      <th></th>\n",
       "      <th></th>\n",
       "    </tr>\n",
       "  </thead>\n",
       "  <tbody>\n",
       "    <tr>\n",
       "      <th>hulha negra</th>\n",
       "      <td>0.0</td>\n",
       "      <td>1.0</td>\n",
       "      <td>0.0</td>\n",
       "      <td>1.0</td>\n",
       "      <td>-1.0</td>\n",
       "      <td>-1.0</td>\n",
       "      <td>-1.0</td>\n",
       "      <td>-1.0</td>\n",
       "      <td>-1.0</td>\n",
       "      <td>-1.0</td>\n",
       "      <td>...</td>\n",
       "      <td>-1.0</td>\n",
       "      <td>-1.0</td>\n",
       "      <td>-1.0</td>\n",
       "      <td>-1.0</td>\n",
       "      <td>-1.0</td>\n",
       "      <td>-1.0</td>\n",
       "      <td>-1.0</td>\n",
       "      <td>-1.0</td>\n",
       "      <td>-1.0</td>\n",
       "      <td>-1.0</td>\n",
       "    </tr>\n",
       "    <tr>\n",
       "      <th>sao valentim do sul</th>\n",
       "      <td>0.0</td>\n",
       "      <td>0.0</td>\n",
       "      <td>0.0</td>\n",
       "      <td>1.0</td>\n",
       "      <td>1.0</td>\n",
       "      <td>1.0</td>\n",
       "      <td>NaN</td>\n",
       "      <td>NaN</td>\n",
       "      <td>NaN</td>\n",
       "      <td>0.0</td>\n",
       "      <td>...</td>\n",
       "      <td>1.0</td>\n",
       "      <td>NaN</td>\n",
       "      <td>NaN</td>\n",
       "      <td>NaN</td>\n",
       "      <td>1.0</td>\n",
       "      <td>1.0</td>\n",
       "      <td>1.0</td>\n",
       "      <td>1.0</td>\n",
       "      <td>NaN</td>\n",
       "      <td>NaN</td>\n",
       "    </tr>\n",
       "    <tr>\n",
       "      <th>xangri-la</th>\n",
       "      <td>1.0</td>\n",
       "      <td>0.0</td>\n",
       "      <td>0.0</td>\n",
       "      <td>0.0</td>\n",
       "      <td>0.0</td>\n",
       "      <td>1.0</td>\n",
       "      <td>1.0</td>\n",
       "      <td>1.0</td>\n",
       "      <td>0.0</td>\n",
       "      <td>0.0</td>\n",
       "      <td>...</td>\n",
       "      <td>1.0</td>\n",
       "      <td>0.0</td>\n",
       "      <td>0.0</td>\n",
       "      <td>1.0</td>\n",
       "      <td>0.0</td>\n",
       "      <td>0.0</td>\n",
       "      <td>0.0</td>\n",
       "      <td>0.0</td>\n",
       "      <td>0.0</td>\n",
       "      <td>0.0</td>\n",
       "    </tr>\n",
       "    <tr>\n",
       "      <th>nova padua</th>\n",
       "      <td>0.0</td>\n",
       "      <td>0.0</td>\n",
       "      <td>0.0</td>\n",
       "      <td>1.0</td>\n",
       "      <td>0.0</td>\n",
       "      <td>1.0</td>\n",
       "      <td>1.0</td>\n",
       "      <td>0.0</td>\n",
       "      <td>1.0</td>\n",
       "      <td>1.0</td>\n",
       "      <td>...</td>\n",
       "      <td>1.0</td>\n",
       "      <td>1.0</td>\n",
       "      <td>1.0</td>\n",
       "      <td>1.0</td>\n",
       "      <td>0.0</td>\n",
       "      <td>0.0</td>\n",
       "      <td>1.0</td>\n",
       "      <td>1.0</td>\n",
       "      <td>1.0</td>\n",
       "      <td>1.0</td>\n",
       "    </tr>\n",
       "    <tr>\n",
       "      <th>catuipe</th>\n",
       "      <td>0.0</td>\n",
       "      <td>0.0</td>\n",
       "      <td>0.0</td>\n",
       "      <td>1.0</td>\n",
       "      <td>0.0</td>\n",
       "      <td>1.0</td>\n",
       "      <td>1.0</td>\n",
       "      <td>0.0</td>\n",
       "      <td>1.0</td>\n",
       "      <td>1.0</td>\n",
       "      <td>...</td>\n",
       "      <td>1.0</td>\n",
       "      <td>0.0</td>\n",
       "      <td>1.0</td>\n",
       "      <td>0.0</td>\n",
       "      <td>0.0</td>\n",
       "      <td>0.0</td>\n",
       "      <td>0.0</td>\n",
       "      <td>1.0</td>\n",
       "      <td>1.0</td>\n",
       "      <td>1.0</td>\n",
       "    </tr>\n",
       "  </tbody>\n",
       "</table>\n",
       "<p>5 rows × 104 columns</p>\n",
       "</div>"
      ],
      "text/plain": [
       "                     PC1  PC2  PC3  PC4  Nadya  Thea  Elie  Karlyn  Eustacia  \\\n",
       "municipios                                                                     \n",
       "hulha negra          0.0  1.0  0.0  1.0   -1.0  -1.0  -1.0    -1.0      -1.0   \n",
       "sao valentim do sul  0.0  0.0  0.0  1.0    1.0   1.0   NaN     NaN       NaN   \n",
       "xangri-la            1.0  0.0  0.0  0.0    0.0   1.0   1.0     1.0       0.0   \n",
       "nova padua           0.0  0.0  0.0  1.0    0.0   1.0   1.0     0.0       1.0   \n",
       "catuipe              0.0  0.0  0.0  1.0    0.0   1.0   1.0     0.0       1.0   \n",
       "\n",
       "                     Jodi  ...  Peta  Addy  Clary  Edmund  Clemens  Barron  \\\n",
       "municipios                 ...                                               \n",
       "hulha negra          -1.0  ...  -1.0  -1.0   -1.0    -1.0     -1.0    -1.0   \n",
       "sao valentim do sul   0.0  ...   1.0   NaN    NaN     NaN      1.0     1.0   \n",
       "xangri-la             0.0  ...   1.0   0.0    0.0     1.0      0.0     0.0   \n",
       "nova padua            1.0  ...   1.0   1.0    1.0     1.0      0.0     0.0   \n",
       "catuipe               1.0  ...   1.0   0.0    1.0     0.0      0.0     0.0   \n",
       "\n",
       "                     Joete  Melisenda  Eziechiele  Rachelle  \n",
       "municipios                                                   \n",
       "hulha negra           -1.0       -1.0        -1.0      -1.0  \n",
       "sao valentim do sul    1.0        1.0         NaN       NaN  \n",
       "xangri-la              0.0        0.0         0.0       0.0  \n",
       "nova padua             1.0        1.0         1.0       1.0  \n",
       "catuipe                0.0        1.0         1.0       1.0  \n",
       "\n",
       "[5 rows x 104 columns]"
      ]
     },
     "execution_count": 1365,
     "metadata": {},
     "output_type": "execute_result"
    }
   ],
   "source": [
    "df_ratings_pca.loc[df_ratings_pca['PC1'] < 0, 'PC1'] = 0\n",
    "df_ratings_pca.loc[df_ratings_pca['PC1'] > 0, 'PC1'] = 1\n",
    "df_ratings_pca.loc[df_ratings_pca['PC2'] < 0, 'PC2'] = 0\n",
    "df_ratings_pca.loc[df_ratings_pca['PC2'] > 0, 'PC2'] = 1\n",
    "df_ratings_pca.loc[df_ratings_pca['PC3'] < 0, 'PC3'] = 0\n",
    "df_ratings_pca.loc[df_ratings_pca['PC3'] > 0, 'PC3'] = 1\n",
    "df_ratings_pca.loc[df_ratings_pca['PC4'] < 0, 'PC4'] = 0\n",
    "df_ratings_pca.loc[df_ratings_pca['PC4'] > 0, 'PC4'] = 1\n",
    "df_ratings_pca.head()"
   ]
  },
  {
   "cell_type": "code",
   "execution_count": 1366,
   "metadata": {},
   "outputs": [
    {
     "data": {
      "text/html": [
       "<div>\n",
       "<style scoped>\n",
       "    .dataframe tbody tr th:only-of-type {\n",
       "        vertical-align: middle;\n",
       "    }\n",
       "\n",
       "    .dataframe tbody tr th {\n",
       "        vertical-align: top;\n",
       "    }\n",
       "\n",
       "    .dataframe thead th {\n",
       "        text-align: right;\n",
       "    }\n",
       "</style>\n",
       "<table border=\"1\" class=\"dataframe\">\n",
       "  <thead>\n",
       "    <tr style=\"text-align: right;\">\n",
       "      <th></th>\n",
       "      <th>PC1</th>\n",
       "      <th>PC2</th>\n",
       "      <th>PC3</th>\n",
       "      <th>PC4</th>\n",
       "      <th>Nadya</th>\n",
       "      <th>Thea</th>\n",
       "      <th>Elie</th>\n",
       "      <th>Karlyn</th>\n",
       "      <th>Eustacia</th>\n",
       "      <th>Jodi</th>\n",
       "      <th>...</th>\n",
       "      <th>Peta</th>\n",
       "      <th>Addy</th>\n",
       "      <th>Clary</th>\n",
       "      <th>Edmund</th>\n",
       "      <th>Clemens</th>\n",
       "      <th>Barron</th>\n",
       "      <th>Joete</th>\n",
       "      <th>Melisenda</th>\n",
       "      <th>Eziechiele</th>\n",
       "      <th>Rachelle</th>\n",
       "    </tr>\n",
       "    <tr>\n",
       "      <th>municipios</th>\n",
       "      <th></th>\n",
       "      <th></th>\n",
       "      <th></th>\n",
       "      <th></th>\n",
       "      <th></th>\n",
       "      <th></th>\n",
       "      <th></th>\n",
       "      <th></th>\n",
       "      <th></th>\n",
       "      <th></th>\n",
       "      <th></th>\n",
       "      <th></th>\n",
       "      <th></th>\n",
       "      <th></th>\n",
       "      <th></th>\n",
       "      <th></th>\n",
       "      <th></th>\n",
       "      <th></th>\n",
       "      <th></th>\n",
       "      <th></th>\n",
       "      <th></th>\n",
       "    </tr>\n",
       "  </thead>\n",
       "  <tbody>\n",
       "    <tr>\n",
       "      <th>hulha negra</th>\n",
       "      <td>0.0</td>\n",
       "      <td>1.0</td>\n",
       "      <td>0.0</td>\n",
       "      <td>1.0</td>\n",
       "      <td>-1.0</td>\n",
       "      <td>-1.0</td>\n",
       "      <td>-1.000000</td>\n",
       "      <td>-1.000000</td>\n",
       "      <td>-1.000000</td>\n",
       "      <td>-1.0</td>\n",
       "      <td>...</td>\n",
       "      <td>-1.0</td>\n",
       "      <td>-1.000000</td>\n",
       "      <td>-1.000000</td>\n",
       "      <td>-1.00000</td>\n",
       "      <td>-1.0</td>\n",
       "      <td>-1.0</td>\n",
       "      <td>-1.0</td>\n",
       "      <td>-1.0</td>\n",
       "      <td>-1.00</td>\n",
       "      <td>-1.000000</td>\n",
       "    </tr>\n",
       "    <tr>\n",
       "      <th>sao valentim do sul</th>\n",
       "      <td>0.0</td>\n",
       "      <td>0.0</td>\n",
       "      <td>0.0</td>\n",
       "      <td>1.0</td>\n",
       "      <td>1.0</td>\n",
       "      <td>1.0</td>\n",
       "      <td>0.391304</td>\n",
       "      <td>0.391304</td>\n",
       "      <td>0.478261</td>\n",
       "      <td>0.0</td>\n",
       "      <td>...</td>\n",
       "      <td>1.0</td>\n",
       "      <td>0.304348</td>\n",
       "      <td>0.608696</td>\n",
       "      <td>0.52381</td>\n",
       "      <td>1.0</td>\n",
       "      <td>1.0</td>\n",
       "      <td>1.0</td>\n",
       "      <td>1.0</td>\n",
       "      <td>0.25</td>\n",
       "      <td>0.416667</td>\n",
       "    </tr>\n",
       "    <tr>\n",
       "      <th>xangri-la</th>\n",
       "      <td>1.0</td>\n",
       "      <td>0.0</td>\n",
       "      <td>0.0</td>\n",
       "      <td>0.0</td>\n",
       "      <td>0.0</td>\n",
       "      <td>1.0</td>\n",
       "      <td>1.000000</td>\n",
       "      <td>1.000000</td>\n",
       "      <td>0.000000</td>\n",
       "      <td>0.0</td>\n",
       "      <td>...</td>\n",
       "      <td>1.0</td>\n",
       "      <td>0.000000</td>\n",
       "      <td>0.000000</td>\n",
       "      <td>1.00000</td>\n",
       "      <td>0.0</td>\n",
       "      <td>0.0</td>\n",
       "      <td>0.0</td>\n",
       "      <td>0.0</td>\n",
       "      <td>0.00</td>\n",
       "      <td>0.000000</td>\n",
       "    </tr>\n",
       "    <tr>\n",
       "      <th>nova padua</th>\n",
       "      <td>0.0</td>\n",
       "      <td>0.0</td>\n",
       "      <td>0.0</td>\n",
       "      <td>1.0</td>\n",
       "      <td>0.0</td>\n",
       "      <td>1.0</td>\n",
       "      <td>1.000000</td>\n",
       "      <td>0.000000</td>\n",
       "      <td>1.000000</td>\n",
       "      <td>1.0</td>\n",
       "      <td>...</td>\n",
       "      <td>1.0</td>\n",
       "      <td>1.000000</td>\n",
       "      <td>1.000000</td>\n",
       "      <td>1.00000</td>\n",
       "      <td>0.0</td>\n",
       "      <td>0.0</td>\n",
       "      <td>1.0</td>\n",
       "      <td>1.0</td>\n",
       "      <td>1.00</td>\n",
       "      <td>1.000000</td>\n",
       "    </tr>\n",
       "    <tr>\n",
       "      <th>catuipe</th>\n",
       "      <td>0.0</td>\n",
       "      <td>0.0</td>\n",
       "      <td>0.0</td>\n",
       "      <td>1.0</td>\n",
       "      <td>0.0</td>\n",
       "      <td>1.0</td>\n",
       "      <td>1.000000</td>\n",
       "      <td>0.000000</td>\n",
       "      <td>1.000000</td>\n",
       "      <td>1.0</td>\n",
       "      <td>...</td>\n",
       "      <td>1.0</td>\n",
       "      <td>0.000000</td>\n",
       "      <td>1.000000</td>\n",
       "      <td>0.00000</td>\n",
       "      <td>0.0</td>\n",
       "      <td>0.0</td>\n",
       "      <td>0.0</td>\n",
       "      <td>1.0</td>\n",
       "      <td>1.00</td>\n",
       "      <td>1.000000</td>\n",
       "    </tr>\n",
       "  </tbody>\n",
       "</table>\n",
       "<p>5 rows × 104 columns</p>\n",
       "</div>"
      ],
      "text/plain": [
       "                     PC1  PC2  PC3  PC4  Nadya  Thea      Elie    Karlyn  \\\n",
       "municipios                                                                 \n",
       "hulha negra          0.0  1.0  0.0  1.0   -1.0  -1.0 -1.000000 -1.000000   \n",
       "sao valentim do sul  0.0  0.0  0.0  1.0    1.0   1.0  0.391304  0.391304   \n",
       "xangri-la            1.0  0.0  0.0  0.0    0.0   1.0  1.000000  1.000000   \n",
       "nova padua           0.0  0.0  0.0  1.0    0.0   1.0  1.000000  0.000000   \n",
       "catuipe              0.0  0.0  0.0  1.0    0.0   1.0  1.000000  0.000000   \n",
       "\n",
       "                     Eustacia  Jodi  ...  Peta      Addy     Clary   Edmund  \\\n",
       "municipios                           ...                                      \n",
       "hulha negra         -1.000000  -1.0  ...  -1.0 -1.000000 -1.000000 -1.00000   \n",
       "sao valentim do sul  0.478261   0.0  ...   1.0  0.304348  0.608696  0.52381   \n",
       "xangri-la            0.000000   0.0  ...   1.0  0.000000  0.000000  1.00000   \n",
       "nova padua           1.000000   1.0  ...   1.0  1.000000  1.000000  1.00000   \n",
       "catuipe              1.000000   1.0  ...   1.0  0.000000  1.000000  0.00000   \n",
       "\n",
       "                     Clemens  Barron  Joete  Melisenda  Eziechiele  Rachelle  \n",
       "municipios                                                                    \n",
       "hulha negra             -1.0    -1.0   -1.0       -1.0       -1.00 -1.000000  \n",
       "sao valentim do sul      1.0     1.0    1.0        1.0        0.25  0.416667  \n",
       "xangri-la                0.0     0.0    0.0        0.0        0.00  0.000000  \n",
       "nova padua               0.0     0.0    1.0        1.0        1.00  1.000000  \n",
       "catuipe                  0.0     0.0    0.0        1.0        1.00  1.000000  \n",
       "\n",
       "[5 rows x 104 columns]"
      ]
     },
     "execution_count": 1366,
     "metadata": {},
     "output_type": "execute_result"
    }
   ],
   "source": [
    "df_ratings_pca = df_ratings_pca.fillna(df_ratings_pca.mean())\n",
    "df_ratings_pca.head()\n"
   ]
  },
  {
   "cell_type": "code",
   "execution_count": 1367,
   "metadata": {},
   "outputs": [
    {
     "data": {
      "text/html": [
       "<div>\n",
       "<style scoped>\n",
       "    .dataframe tbody tr th:only-of-type {\n",
       "        vertical-align: middle;\n",
       "    }\n",
       "\n",
       "    .dataframe tbody tr th {\n",
       "        vertical-align: top;\n",
       "    }\n",
       "\n",
       "    .dataframe thead th {\n",
       "        text-align: right;\n",
       "    }\n",
       "</style>\n",
       "<table border=\"1\" class=\"dataframe\">\n",
       "  <thead>\n",
       "    <tr style=\"text-align: right;\">\n",
       "      <th></th>\n",
       "      <th>PC1</th>\n",
       "      <th>PC2</th>\n",
       "      <th>PC3</th>\n",
       "      <th>PC4</th>\n",
       "      <th>Barron</th>\n",
       "    </tr>\n",
       "    <tr>\n",
       "      <th>municipios</th>\n",
       "      <th></th>\n",
       "      <th></th>\n",
       "      <th></th>\n",
       "      <th></th>\n",
       "      <th></th>\n",
       "    </tr>\n",
       "  </thead>\n",
       "  <tbody>\n",
       "    <tr>\n",
       "      <th>hulha negra</th>\n",
       "      <td>0.0</td>\n",
       "      <td>1.0</td>\n",
       "      <td>0.0</td>\n",
       "      <td>1.0</td>\n",
       "      <td>-1.000000</td>\n",
       "    </tr>\n",
       "    <tr>\n",
       "      <th>sao valentim do sul</th>\n",
       "      <td>0.0</td>\n",
       "      <td>0.0</td>\n",
       "      <td>0.0</td>\n",
       "      <td>1.0</td>\n",
       "      <td>1.000000</td>\n",
       "    </tr>\n",
       "    <tr>\n",
       "      <th>xangri-la</th>\n",
       "      <td>1.0</td>\n",
       "      <td>0.0</td>\n",
       "      <td>0.0</td>\n",
       "      <td>0.0</td>\n",
       "      <td>0.000000</td>\n",
       "    </tr>\n",
       "    <tr>\n",
       "      <th>nova padua</th>\n",
       "      <td>0.0</td>\n",
       "      <td>0.0</td>\n",
       "      <td>0.0</td>\n",
       "      <td>1.0</td>\n",
       "      <td>0.000000</td>\n",
       "    </tr>\n",
       "    <tr>\n",
       "      <th>catuipe</th>\n",
       "      <td>0.0</td>\n",
       "      <td>0.0</td>\n",
       "      <td>0.0</td>\n",
       "      <td>1.0</td>\n",
       "      <td>0.000000</td>\n",
       "    </tr>\n",
       "    <tr>\n",
       "      <th>esmeralda</th>\n",
       "      <td>0.0</td>\n",
       "      <td>0.0</td>\n",
       "      <td>0.0</td>\n",
       "      <td>1.0</td>\n",
       "      <td>0.000000</td>\n",
       "    </tr>\n",
       "    <tr>\n",
       "      <th>lajeado do bugre</th>\n",
       "      <td>0.0</td>\n",
       "      <td>0.0</td>\n",
       "      <td>0.0</td>\n",
       "      <td>1.0</td>\n",
       "      <td>1.000000</td>\n",
       "    </tr>\n",
       "    <tr>\n",
       "      <th>cruz alta</th>\n",
       "      <td>1.0</td>\n",
       "      <td>1.0</td>\n",
       "      <td>0.0</td>\n",
       "      <td>1.0</td>\n",
       "      <td>1.000000</td>\n",
       "    </tr>\n",
       "    <tr>\n",
       "      <th>nova ramada</th>\n",
       "      <td>0.0</td>\n",
       "      <td>0.0</td>\n",
       "      <td>0.0</td>\n",
       "      <td>1.0</td>\n",
       "      <td>0.208333</td>\n",
       "    </tr>\n",
       "    <tr>\n",
       "      <th>jaguarao</th>\n",
       "      <td>1.0</td>\n",
       "      <td>1.0</td>\n",
       "      <td>0.0</td>\n",
       "      <td>0.0</td>\n",
       "      <td>0.000000</td>\n",
       "    </tr>\n",
       "    <tr>\n",
       "      <th>nova petropolis</th>\n",
       "      <td>0.0</td>\n",
       "      <td>0.0</td>\n",
       "      <td>0.0</td>\n",
       "      <td>0.0</td>\n",
       "      <td>1.000000</td>\n",
       "    </tr>\n",
       "    <tr>\n",
       "      <th>charqueadas</th>\n",
       "      <td>1.0</td>\n",
       "      <td>0.0</td>\n",
       "      <td>1.0</td>\n",
       "      <td>0.0</td>\n",
       "      <td>0.000000</td>\n",
       "    </tr>\n",
       "    <tr>\n",
       "      <th>torres</th>\n",
       "      <td>1.0</td>\n",
       "      <td>1.0</td>\n",
       "      <td>0.0</td>\n",
       "      <td>0.0</td>\n",
       "      <td>0.000000</td>\n",
       "    </tr>\n",
       "    <tr>\n",
       "      <th>sarandi</th>\n",
       "      <td>1.0</td>\n",
       "      <td>0.0</td>\n",
       "      <td>0.0</td>\n",
       "      <td>0.0</td>\n",
       "      <td>0.000000</td>\n",
       "    </tr>\n",
       "    <tr>\n",
       "      <th>fortaleza dos valos</th>\n",
       "      <td>0.0</td>\n",
       "      <td>0.0</td>\n",
       "      <td>0.0</td>\n",
       "      <td>1.0</td>\n",
       "      <td>0.000000</td>\n",
       "    </tr>\n",
       "    <tr>\n",
       "      <th>almirante tamandare do sul</th>\n",
       "      <td>0.0</td>\n",
       "      <td>0.0</td>\n",
       "      <td>0.0</td>\n",
       "      <td>1.0</td>\n",
       "      <td>0.000000</td>\n",
       "    </tr>\n",
       "    <tr>\n",
       "      <th>esteio</th>\n",
       "      <td>1.0</td>\n",
       "      <td>0.0</td>\n",
       "      <td>1.0</td>\n",
       "      <td>1.0</td>\n",
       "      <td>0.000000</td>\n",
       "    </tr>\n",
       "    <tr>\n",
       "      <th>frederico westphalen</th>\n",
       "      <td>1.0</td>\n",
       "      <td>1.0</td>\n",
       "      <td>0.0</td>\n",
       "      <td>0.0</td>\n",
       "      <td>0.000000</td>\n",
       "    </tr>\n",
       "    <tr>\n",
       "      <th>canela</th>\n",
       "      <td>1.0</td>\n",
       "      <td>0.0</td>\n",
       "      <td>1.0</td>\n",
       "      <td>0.0</td>\n",
       "      <td>1.000000</td>\n",
       "    </tr>\n",
       "    <tr>\n",
       "      <th>piratini</th>\n",
       "      <td>0.0</td>\n",
       "      <td>1.0</td>\n",
       "      <td>0.0</td>\n",
       "      <td>1.0</td>\n",
       "      <td>0.000000</td>\n",
       "    </tr>\n",
       "    <tr>\n",
       "      <th>vale verde</th>\n",
       "      <td>0.0</td>\n",
       "      <td>0.0</td>\n",
       "      <td>0.0</td>\n",
       "      <td>1.0</td>\n",
       "      <td>0.000000</td>\n",
       "    </tr>\n",
       "    <tr>\n",
       "      <th>restinga seca</th>\n",
       "      <td>0.0</td>\n",
       "      <td>1.0</td>\n",
       "      <td>0.0</td>\n",
       "      <td>1.0</td>\n",
       "      <td>0.000000</td>\n",
       "    </tr>\n",
       "    <tr>\n",
       "      <th>santo antonio da patrulha</th>\n",
       "      <td>1.0</td>\n",
       "      <td>1.0</td>\n",
       "      <td>0.0</td>\n",
       "      <td>1.0</td>\n",
       "      <td>1.000000</td>\n",
       "    </tr>\n",
       "    <tr>\n",
       "      <th>passo do sobrado</th>\n",
       "      <td>0.0</td>\n",
       "      <td>1.0</td>\n",
       "      <td>0.0</td>\n",
       "      <td>0.0</td>\n",
       "      <td>0.000000</td>\n",
       "    </tr>\n",
       "    <tr>\n",
       "      <th>sao sepe</th>\n",
       "      <td>0.0</td>\n",
       "      <td>1.0</td>\n",
       "      <td>1.0</td>\n",
       "      <td>1.0</td>\n",
       "      <td>0.000000</td>\n",
       "    </tr>\n",
       "  </tbody>\n",
       "</table>\n",
       "</div>"
      ],
      "text/plain": [
       "                            PC1  PC2  PC3  PC4    Barron\n",
       "municipios                                              \n",
       "hulha negra                 0.0  1.0  0.0  1.0 -1.000000\n",
       "sao valentim do sul         0.0  0.0  0.0  1.0  1.000000\n",
       "xangri-la                   1.0  0.0  0.0  0.0  0.000000\n",
       "nova padua                  0.0  0.0  0.0  1.0  0.000000\n",
       "catuipe                     0.0  0.0  0.0  1.0  0.000000\n",
       "esmeralda                   0.0  0.0  0.0  1.0  0.000000\n",
       "lajeado do bugre            0.0  0.0  0.0  1.0  1.000000\n",
       "cruz alta                   1.0  1.0  0.0  1.0  1.000000\n",
       "nova ramada                 0.0  0.0  0.0  1.0  0.208333\n",
       "jaguarao                    1.0  1.0  0.0  0.0  0.000000\n",
       "nova petropolis             0.0  0.0  0.0  0.0  1.000000\n",
       "charqueadas                 1.0  0.0  1.0  0.0  0.000000\n",
       "torres                      1.0  1.0  0.0  0.0  0.000000\n",
       "sarandi                     1.0  0.0  0.0  0.0  0.000000\n",
       "fortaleza dos valos         0.0  0.0  0.0  1.0  0.000000\n",
       "almirante tamandare do sul  0.0  0.0  0.0  1.0  0.000000\n",
       "esteio                      1.0  0.0  1.0  1.0  0.000000\n",
       "frederico westphalen        1.0  1.0  0.0  0.0  0.000000\n",
       "canela                      1.0  0.0  1.0  0.0  1.000000\n",
       "piratini                    0.0  1.0  0.0  1.0  0.000000\n",
       "vale verde                  0.0  0.0  0.0  1.0  0.000000\n",
       "restinga seca               0.0  1.0  0.0  1.0  0.000000\n",
       "santo antonio da patrulha   1.0  1.0  0.0  1.0  1.000000\n",
       "passo do sobrado            0.0  1.0  0.0  0.0  0.000000\n",
       "sao sepe                    0.0  1.0  1.0  1.0  0.000000"
      ]
     },
     "execution_count": 1367,
     "metadata": {},
     "output_type": "execute_result"
    }
   ],
   "source": [
    "df_ratings_pca.filter(['PC1', 'PC2', 'PC3', 'PC4','Barron'])"
   ]
  },
  {
   "cell_type": "code",
   "execution_count": 1368,
   "metadata": {},
   "outputs": [
    {
     "data": {
      "text/html": [
       "<div>\n",
       "<style scoped>\n",
       "    .dataframe tbody tr th:only-of-type {\n",
       "        vertical-align: middle;\n",
       "    }\n",
       "\n",
       "    .dataframe tbody tr th {\n",
       "        vertical-align: top;\n",
       "    }\n",
       "\n",
       "    .dataframe thead th {\n",
       "        text-align: right;\n",
       "    }\n",
       "</style>\n",
       "<table border=\"1\" class=\"dataframe\">\n",
       "  <thead>\n",
       "    <tr style=\"text-align: right;\">\n",
       "      <th></th>\n",
       "      <th>PC1</th>\n",
       "      <th>PC2</th>\n",
       "      <th>PC3</th>\n",
       "      <th>PC4</th>\n",
       "      <th>Nadya</th>\n",
       "      <th>Thea</th>\n",
       "      <th>Elie</th>\n",
       "      <th>Karlyn</th>\n",
       "      <th>Eustacia</th>\n",
       "      <th>Jodi</th>\n",
       "      <th>...</th>\n",
       "      <th>Peta</th>\n",
       "      <th>Addy</th>\n",
       "      <th>Clary</th>\n",
       "      <th>Edmund</th>\n",
       "      <th>Clemens</th>\n",
       "      <th>Barron</th>\n",
       "      <th>Joete</th>\n",
       "      <th>Melisenda</th>\n",
       "      <th>Eziechiele</th>\n",
       "      <th>Rachelle</th>\n",
       "    </tr>\n",
       "    <tr>\n",
       "      <th>municipios</th>\n",
       "      <th></th>\n",
       "      <th></th>\n",
       "      <th></th>\n",
       "      <th></th>\n",
       "      <th></th>\n",
       "      <th></th>\n",
       "      <th></th>\n",
       "      <th></th>\n",
       "      <th></th>\n",
       "      <th></th>\n",
       "      <th></th>\n",
       "      <th></th>\n",
       "      <th></th>\n",
       "      <th></th>\n",
       "      <th></th>\n",
       "      <th></th>\n",
       "      <th></th>\n",
       "      <th></th>\n",
       "      <th></th>\n",
       "      <th></th>\n",
       "      <th></th>\n",
       "    </tr>\n",
       "  </thead>\n",
       "  <tbody>\n",
       "    <tr>\n",
       "      <th>hulha negra</th>\n",
       "      <td>0.0</td>\n",
       "      <td>1.0</td>\n",
       "      <td>0.0</td>\n",
       "      <td>1.0</td>\n",
       "      <td>-1.0</td>\n",
       "      <td>-1.0</td>\n",
       "      <td>-1.000000</td>\n",
       "      <td>-1.000000</td>\n",
       "      <td>-1.000000</td>\n",
       "      <td>-1.0</td>\n",
       "      <td>...</td>\n",
       "      <td>-1.0</td>\n",
       "      <td>-1.000000</td>\n",
       "      <td>-1.000000</td>\n",
       "      <td>-1.00000</td>\n",
       "      <td>-1.0</td>\n",
       "      <td>-1.0</td>\n",
       "      <td>-1.0</td>\n",
       "      <td>-1.0</td>\n",
       "      <td>-1.00</td>\n",
       "      <td>-1.000000</td>\n",
       "    </tr>\n",
       "    <tr>\n",
       "      <th>sao valentim do sul</th>\n",
       "      <td>0.0</td>\n",
       "      <td>0.0</td>\n",
       "      <td>0.0</td>\n",
       "      <td>1.0</td>\n",
       "      <td>1.0</td>\n",
       "      <td>1.0</td>\n",
       "      <td>0.391304</td>\n",
       "      <td>0.391304</td>\n",
       "      <td>0.478261</td>\n",
       "      <td>0.0</td>\n",
       "      <td>...</td>\n",
       "      <td>1.0</td>\n",
       "      <td>0.304348</td>\n",
       "      <td>0.608696</td>\n",
       "      <td>0.52381</td>\n",
       "      <td>1.0</td>\n",
       "      <td>1.0</td>\n",
       "      <td>1.0</td>\n",
       "      <td>1.0</td>\n",
       "      <td>0.25</td>\n",
       "      <td>0.416667</td>\n",
       "    </tr>\n",
       "    <tr>\n",
       "      <th>xangri-la</th>\n",
       "      <td>1.0</td>\n",
       "      <td>0.0</td>\n",
       "      <td>0.0</td>\n",
       "      <td>0.0</td>\n",
       "      <td>0.0</td>\n",
       "      <td>1.0</td>\n",
       "      <td>1.000000</td>\n",
       "      <td>1.000000</td>\n",
       "      <td>0.000000</td>\n",
       "      <td>0.0</td>\n",
       "      <td>...</td>\n",
       "      <td>1.0</td>\n",
       "      <td>0.000000</td>\n",
       "      <td>0.000000</td>\n",
       "      <td>1.00000</td>\n",
       "      <td>0.0</td>\n",
       "      <td>0.0</td>\n",
       "      <td>0.0</td>\n",
       "      <td>0.0</td>\n",
       "      <td>0.00</td>\n",
       "      <td>0.000000</td>\n",
       "    </tr>\n",
       "    <tr>\n",
       "      <th>nova padua</th>\n",
       "      <td>0.0</td>\n",
       "      <td>0.0</td>\n",
       "      <td>0.0</td>\n",
       "      <td>1.0</td>\n",
       "      <td>0.0</td>\n",
       "      <td>1.0</td>\n",
       "      <td>1.000000</td>\n",
       "      <td>0.000000</td>\n",
       "      <td>1.000000</td>\n",
       "      <td>1.0</td>\n",
       "      <td>...</td>\n",
       "      <td>1.0</td>\n",
       "      <td>1.000000</td>\n",
       "      <td>1.000000</td>\n",
       "      <td>1.00000</td>\n",
       "      <td>0.0</td>\n",
       "      <td>0.0</td>\n",
       "      <td>1.0</td>\n",
       "      <td>1.0</td>\n",
       "      <td>1.00</td>\n",
       "      <td>1.000000</td>\n",
       "    </tr>\n",
       "    <tr>\n",
       "      <th>catuipe</th>\n",
       "      <td>0.0</td>\n",
       "      <td>0.0</td>\n",
       "      <td>0.0</td>\n",
       "      <td>1.0</td>\n",
       "      <td>0.0</td>\n",
       "      <td>1.0</td>\n",
       "      <td>1.000000</td>\n",
       "      <td>0.000000</td>\n",
       "      <td>1.000000</td>\n",
       "      <td>1.0</td>\n",
       "      <td>...</td>\n",
       "      <td>1.0</td>\n",
       "      <td>0.000000</td>\n",
       "      <td>1.000000</td>\n",
       "      <td>0.00000</td>\n",
       "      <td>0.0</td>\n",
       "      <td>0.0</td>\n",
       "      <td>0.0</td>\n",
       "      <td>1.0</td>\n",
       "      <td>1.00</td>\n",
       "      <td>1.000000</td>\n",
       "    </tr>\n",
       "  </tbody>\n",
       "</table>\n",
       "<p>5 rows × 104 columns</p>\n",
       "</div>"
      ],
      "text/plain": [
       "                     PC1  PC2  PC3  PC4  Nadya  Thea      Elie    Karlyn  \\\n",
       "municipios                                                                 \n",
       "hulha negra          0.0  1.0  0.0  1.0   -1.0  -1.0 -1.000000 -1.000000   \n",
       "sao valentim do sul  0.0  0.0  0.0  1.0    1.0   1.0  0.391304  0.391304   \n",
       "xangri-la            1.0  0.0  0.0  0.0    0.0   1.0  1.000000  1.000000   \n",
       "nova padua           0.0  0.0  0.0  1.0    0.0   1.0  1.000000  0.000000   \n",
       "catuipe              0.0  0.0  0.0  1.0    0.0   1.0  1.000000  0.000000   \n",
       "\n",
       "                     Eustacia  Jodi  ...  Peta      Addy     Clary   Edmund  \\\n",
       "municipios                           ...                                      \n",
       "hulha negra         -1.000000  -1.0  ...  -1.0 -1.000000 -1.000000 -1.00000   \n",
       "sao valentim do sul  0.478261   0.0  ...   1.0  0.304348  0.608696  0.52381   \n",
       "xangri-la            0.000000   0.0  ...   1.0  0.000000  0.000000  1.00000   \n",
       "nova padua           1.000000   1.0  ...   1.0  1.000000  1.000000  1.00000   \n",
       "catuipe              1.000000   1.0  ...   1.0  0.000000  1.000000  0.00000   \n",
       "\n",
       "                     Clemens  Barron  Joete  Melisenda  Eziechiele  Rachelle  \n",
       "municipios                                                                    \n",
       "hulha negra             -1.0    -1.0   -1.0       -1.0       -1.00 -1.000000  \n",
       "sao valentim do sul      1.0     1.0    1.0        1.0        0.25  0.416667  \n",
       "xangri-la                0.0     0.0    0.0        0.0        0.00  0.000000  \n",
       "nova padua               0.0     0.0    1.0        1.0        1.00  1.000000  \n",
       "catuipe                  0.0     0.0    0.0        1.0        1.00  1.000000  \n",
       "\n",
       "[5 rows x 104 columns]"
      ]
     },
     "execution_count": 1368,
     "metadata": {},
     "output_type": "execute_result"
    }
   ],
   "source": [
    "# Substituindo NaNs por False e convertendo booleanos para 0 e 1\n",
    "df_ratings_pca = df_ratings_pca.fillna(df_ratings_pca.mean())\n",
    "df_ratings_pca.head()"
   ]
  },
  {
   "cell_type": "code",
   "execution_count": 1369,
   "metadata": {},
   "outputs": [
    {
     "ename": "KeyError",
     "evalue": "\"['municipios'] not found in axis\"",
     "output_type": "error",
     "traceback": [
      "\u001b[1;31m---------------------------------------------------------------------------\u001b[0m",
      "\u001b[1;31mKeyError\u001b[0m                                  Traceback (most recent call last)",
      "Cell \u001b[1;32mIn[1369], line 2\u001b[0m\n\u001b[0;32m      1\u001b[0m \u001b[38;5;66;03m# Separando features e rótulos\u001b[39;00m\n\u001b[1;32m----> 2\u001b[0m X \u001b[38;5;241m=\u001b[39m \u001b[43mdf\u001b[49m\u001b[38;5;241;43m.\u001b[39;49m\u001b[43mdrop\u001b[49m\u001b[43m(\u001b[49m\u001b[43mcolumns\u001b[49m\u001b[38;5;241;43m=\u001b[39;49m\u001b[43m[\u001b[49m\u001b[38;5;124;43m\"\u001b[39;49m\u001b[38;5;124;43mmunicipios\u001b[39;49m\u001b[38;5;124;43m\"\u001b[39;49m\u001b[43m]\u001b[49m\u001b[43m)\u001b[49m\n\u001b[0;32m      3\u001b[0m y \u001b[38;5;241m=\u001b[39m df[\u001b[38;5;124m\"\u001b[39m\u001b[38;5;124mmunicipios\u001b[39m\u001b[38;5;124m\"\u001b[39m]\n\u001b[0;32m      5\u001b[0m \u001b[38;5;66;03m# Dividindo os dados em treino e teste\u001b[39;00m\n",
      "File \u001b[1;32mc:\\Users\\flofl\\AppData\\Local\\Programs\\Python\\Python312\\Lib\\site-packages\\pandas\\core\\frame.py:5568\u001b[0m, in \u001b[0;36mDataFrame.drop\u001b[1;34m(self, labels, axis, index, columns, level, inplace, errors)\u001b[0m\n\u001b[0;32m   5420\u001b[0m \u001b[38;5;28;01mdef\u001b[39;00m \u001b[38;5;21mdrop\u001b[39m(\n\u001b[0;32m   5421\u001b[0m     \u001b[38;5;28mself\u001b[39m,\n\u001b[0;32m   5422\u001b[0m     labels: IndexLabel \u001b[38;5;241m|\u001b[39m \u001b[38;5;28;01mNone\u001b[39;00m \u001b[38;5;241m=\u001b[39m \u001b[38;5;28;01mNone\u001b[39;00m,\n\u001b[1;32m   (...)\u001b[0m\n\u001b[0;32m   5429\u001b[0m     errors: IgnoreRaise \u001b[38;5;241m=\u001b[39m \u001b[38;5;124m\"\u001b[39m\u001b[38;5;124mraise\u001b[39m\u001b[38;5;124m\"\u001b[39m,\n\u001b[0;32m   5430\u001b[0m ) \u001b[38;5;241m-\u001b[39m\u001b[38;5;241m>\u001b[39m DataFrame \u001b[38;5;241m|\u001b[39m \u001b[38;5;28;01mNone\u001b[39;00m:\n\u001b[0;32m   5431\u001b[0m \u001b[38;5;250m    \u001b[39m\u001b[38;5;124;03m\"\"\"\u001b[39;00m\n\u001b[0;32m   5432\u001b[0m \u001b[38;5;124;03m    Drop specified labels from rows or columns.\u001b[39;00m\n\u001b[0;32m   5433\u001b[0m \n\u001b[1;32m   (...)\u001b[0m\n\u001b[0;32m   5566\u001b[0m \u001b[38;5;124;03m            weight  1.0     0.8\u001b[39;00m\n\u001b[0;32m   5567\u001b[0m \u001b[38;5;124;03m    \"\"\"\u001b[39;00m\n\u001b[1;32m-> 5568\u001b[0m     \u001b[38;5;28;01mreturn\u001b[39;00m \u001b[38;5;28;43msuper\u001b[39;49m\u001b[43m(\u001b[49m\u001b[43m)\u001b[49m\u001b[38;5;241;43m.\u001b[39;49m\u001b[43mdrop\u001b[49m\u001b[43m(\u001b[49m\n\u001b[0;32m   5569\u001b[0m \u001b[43m        \u001b[49m\u001b[43mlabels\u001b[49m\u001b[38;5;241;43m=\u001b[39;49m\u001b[43mlabels\u001b[49m\u001b[43m,\u001b[49m\n\u001b[0;32m   5570\u001b[0m \u001b[43m        \u001b[49m\u001b[43maxis\u001b[49m\u001b[38;5;241;43m=\u001b[39;49m\u001b[43maxis\u001b[49m\u001b[43m,\u001b[49m\n\u001b[0;32m   5571\u001b[0m \u001b[43m        \u001b[49m\u001b[43mindex\u001b[49m\u001b[38;5;241;43m=\u001b[39;49m\u001b[43mindex\u001b[49m\u001b[43m,\u001b[49m\n\u001b[0;32m   5572\u001b[0m \u001b[43m        \u001b[49m\u001b[43mcolumns\u001b[49m\u001b[38;5;241;43m=\u001b[39;49m\u001b[43mcolumns\u001b[49m\u001b[43m,\u001b[49m\n\u001b[0;32m   5573\u001b[0m \u001b[43m        \u001b[49m\u001b[43mlevel\u001b[49m\u001b[38;5;241;43m=\u001b[39;49m\u001b[43mlevel\u001b[49m\u001b[43m,\u001b[49m\n\u001b[0;32m   5574\u001b[0m \u001b[43m        \u001b[49m\u001b[43minplace\u001b[49m\u001b[38;5;241;43m=\u001b[39;49m\u001b[43minplace\u001b[49m\u001b[43m,\u001b[49m\n\u001b[0;32m   5575\u001b[0m \u001b[43m        \u001b[49m\u001b[43merrors\u001b[49m\u001b[38;5;241;43m=\u001b[39;49m\u001b[43merrors\u001b[49m\u001b[43m,\u001b[49m\n\u001b[0;32m   5576\u001b[0m \u001b[43m    \u001b[49m\u001b[43m)\u001b[49m\n",
      "File \u001b[1;32mc:\\Users\\flofl\\AppData\\Local\\Programs\\Python\\Python312\\Lib\\site-packages\\pandas\\core\\generic.py:4785\u001b[0m, in \u001b[0;36mNDFrame.drop\u001b[1;34m(self, labels, axis, index, columns, level, inplace, errors)\u001b[0m\n\u001b[0;32m   4783\u001b[0m \u001b[38;5;28;01mfor\u001b[39;00m axis, labels \u001b[38;5;129;01min\u001b[39;00m axes\u001b[38;5;241m.\u001b[39mitems():\n\u001b[0;32m   4784\u001b[0m     \u001b[38;5;28;01mif\u001b[39;00m labels \u001b[38;5;129;01mis\u001b[39;00m \u001b[38;5;129;01mnot\u001b[39;00m \u001b[38;5;28;01mNone\u001b[39;00m:\n\u001b[1;32m-> 4785\u001b[0m         obj \u001b[38;5;241m=\u001b[39m \u001b[43mobj\u001b[49m\u001b[38;5;241;43m.\u001b[39;49m\u001b[43m_drop_axis\u001b[49m\u001b[43m(\u001b[49m\u001b[43mlabels\u001b[49m\u001b[43m,\u001b[49m\u001b[43m \u001b[49m\u001b[43maxis\u001b[49m\u001b[43m,\u001b[49m\u001b[43m \u001b[49m\u001b[43mlevel\u001b[49m\u001b[38;5;241;43m=\u001b[39;49m\u001b[43mlevel\u001b[49m\u001b[43m,\u001b[49m\u001b[43m \u001b[49m\u001b[43merrors\u001b[49m\u001b[38;5;241;43m=\u001b[39;49m\u001b[43merrors\u001b[49m\u001b[43m)\u001b[49m\n\u001b[0;32m   4787\u001b[0m \u001b[38;5;28;01mif\u001b[39;00m inplace:\n\u001b[0;32m   4788\u001b[0m     \u001b[38;5;28mself\u001b[39m\u001b[38;5;241m.\u001b[39m_update_inplace(obj)\n",
      "File \u001b[1;32mc:\\Users\\flofl\\AppData\\Local\\Programs\\Python\\Python312\\Lib\\site-packages\\pandas\\core\\generic.py:4827\u001b[0m, in \u001b[0;36mNDFrame._drop_axis\u001b[1;34m(self, labels, axis, level, errors, only_slice)\u001b[0m\n\u001b[0;32m   4825\u001b[0m         new_axis \u001b[38;5;241m=\u001b[39m axis\u001b[38;5;241m.\u001b[39mdrop(labels, level\u001b[38;5;241m=\u001b[39mlevel, errors\u001b[38;5;241m=\u001b[39merrors)\n\u001b[0;32m   4826\u001b[0m     \u001b[38;5;28;01melse\u001b[39;00m:\n\u001b[1;32m-> 4827\u001b[0m         new_axis \u001b[38;5;241m=\u001b[39m \u001b[43maxis\u001b[49m\u001b[38;5;241;43m.\u001b[39;49m\u001b[43mdrop\u001b[49m\u001b[43m(\u001b[49m\u001b[43mlabels\u001b[49m\u001b[43m,\u001b[49m\u001b[43m \u001b[49m\u001b[43merrors\u001b[49m\u001b[38;5;241;43m=\u001b[39;49m\u001b[43merrors\u001b[49m\u001b[43m)\u001b[49m\n\u001b[0;32m   4828\u001b[0m     indexer \u001b[38;5;241m=\u001b[39m axis\u001b[38;5;241m.\u001b[39mget_indexer(new_axis)\n\u001b[0;32m   4830\u001b[0m \u001b[38;5;66;03m# Case for non-unique axis\u001b[39;00m\n\u001b[0;32m   4831\u001b[0m \u001b[38;5;28;01melse\u001b[39;00m:\n",
      "File \u001b[1;32mc:\\Users\\flofl\\AppData\\Local\\Programs\\Python\\Python312\\Lib\\site-packages\\pandas\\core\\indexes\\base.py:7070\u001b[0m, in \u001b[0;36mIndex.drop\u001b[1;34m(self, labels, errors)\u001b[0m\n\u001b[0;32m   7068\u001b[0m \u001b[38;5;28;01mif\u001b[39;00m mask\u001b[38;5;241m.\u001b[39many():\n\u001b[0;32m   7069\u001b[0m     \u001b[38;5;28;01mif\u001b[39;00m errors \u001b[38;5;241m!=\u001b[39m \u001b[38;5;124m\"\u001b[39m\u001b[38;5;124mignore\u001b[39m\u001b[38;5;124m\"\u001b[39m:\n\u001b[1;32m-> 7070\u001b[0m         \u001b[38;5;28;01mraise\u001b[39;00m \u001b[38;5;167;01mKeyError\u001b[39;00m(\u001b[38;5;124mf\u001b[39m\u001b[38;5;124m\"\u001b[39m\u001b[38;5;132;01m{\u001b[39;00mlabels[mask]\u001b[38;5;241m.\u001b[39mtolist()\u001b[38;5;132;01m}\u001b[39;00m\u001b[38;5;124m not found in axis\u001b[39m\u001b[38;5;124m\"\u001b[39m)\n\u001b[0;32m   7071\u001b[0m     indexer \u001b[38;5;241m=\u001b[39m indexer[\u001b[38;5;241m~\u001b[39mmask]\n\u001b[0;32m   7072\u001b[0m \u001b[38;5;28;01mreturn\u001b[39;00m \u001b[38;5;28mself\u001b[39m\u001b[38;5;241m.\u001b[39mdelete(indexer)\n",
      "\u001b[1;31mKeyError\u001b[0m: \"['municipios'] not found in axis\""
     ]
    }
   ],
   "source": [
    "\n",
    "# Separando features e rótulos\n",
    "X = df.drop(columns=[\"municipios\"])\n",
    "y = df[\"municipios\"]\n",
    "\n",
    "# Dividindo os dados em treino e teste\n",
    "X_train, X_test, y_train, y_test = train_test_split(X, y, test_size=0.2, random_state=42)\n",
    "\n",
    "# Criando o modelo Naive Bayes de Bernoulli\n",
    "model = BernoulliNB()\n",
    "\n",
    "# Treinando o modelo\n",
    "model.fit(X_train, y_train)\n",
    "\n",
    "# Fazendo previsões\n",
    "y_pred = model.predict(X_test)\n",
    "\n",
    "# Avaliando a acurácia\n",
    "accuracy = accuracy_score(y_test, y_pred)\n",
    "print(f\"Acurácia: {accuracy}\")\n",
    "\n",
    "# Previsões detalhadas\n",
    "for municipio, pred in zip(y_test, y_pred):\n",
    "    print(f\"Verdadeiro: {municipio}, Previsto: {pred}\")"
   ]
  }
 ],
 "metadata": {
  "kernelspec": {
   "display_name": "Python 3",
   "language": "python",
   "name": "python3"
  },
  "language_info": {
   "codemirror_mode": {
    "name": "ipython",
    "version": 3
   },
   "file_extension": ".py",
   "mimetype": "text/x-python",
   "name": "python",
   "nbconvert_exporter": "python",
   "pygments_lexer": "ipython3",
   "version": "3.12.2"
  }
 },
 "nbformat": 4,
 "nbformat_minor": 2
}
