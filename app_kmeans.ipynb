{
 "cells": [
  {
   "cell_type": "markdown",
   "metadata": {},
   "source": [
    "# Sugestão de cidade do Estado do Rio Grande do Sul pelo Índice de Criminalidade\n",
    "### Para o trabalho final da disciplina de Sistemas Operacionais foi escolhido os bancos de dados Índice de Criminalidade (RS, 2023) e Estimativas Populacionais (RS, 2022). Os dados são reais e estão disponíveis no portal Dados Abertos RS do Estado do Rio Grande do Sul.\n",
    "###  Este trabalho tem como objetivo análisar a similaridade, usando a métrica de distância eucliana, das cidades e os ratigns dos dos usuários e, então responder: \"Quais as cidades o algoritmo sugere?\".\n",
    "Indíce de Criminalidade no RS: [https://dados.rs.gov.br/dataset/indicadores-criminais-de-2023](https://dados.rs.gov.br/dataset/indicadores-criminais-de-2023)\n",
    "\n",
    "Estimativas Populacionais no RS: [https://dados.rs.gov.br/dataset/dee-4259/resource/ce259dd9-c479-4a18-90b3-40098e6deb26](https://dados.rs.gov.br/dataset/dee-4259/resource/ce259dd9-c479-4a18-90b3-40098e6deb26)"
   ]
  },
  {
   "cell_type": "markdown",
   "metadata": {},
   "source": [
    "## Pré-processamento\n",
    "Houve a necessidade de realizar o pré-processamento dos dados, pois foram disponibilizados em planilhas Excel com formatações diversas."
   ]
  },
  {
   "cell_type": "code",
   "execution_count": 1127,
   "metadata": {},
   "outputs": [],
   "source": [
    "import pandas as pd"
   ]
  },
  {
   "cell_type": "markdown",
   "metadata": {},
   "source": [
    "Abertura dos arquivos de criminalidade por cidade em cada mês."
   ]
  },
  {
   "cell_type": "code",
   "execution_count": 1128,
   "metadata": {},
   "outputs": [
    {
     "data": {
      "text/html": [
       "<div>\n",
       "<style scoped>\n",
       "    .dataframe tbody tr th:only-of-type {\n",
       "        vertical-align: middle;\n",
       "    }\n",
       "\n",
       "    .dataframe tbody tr th {\n",
       "        vertical-align: top;\n",
       "    }\n",
       "\n",
       "    .dataframe thead th {\n",
       "        text-align: right;\n",
       "    }\n",
       "</style>\n",
       "<table border=\"1\" class=\"dataframe\">\n",
       "  <thead>\n",
       "    <tr style=\"text-align: right;\">\n",
       "      <th></th>\n",
       "      <th>municipios</th>\n",
       "      <th>ibge</th>\n",
       "      <th>homicidio_doloso</th>\n",
       "      <th>total_vitimas_homicidio_doloso</th>\n",
       "      <th>latrocinio</th>\n",
       "      <th>furtos</th>\n",
       "      <th>abigeato</th>\n",
       "      <th>furto_veiculo</th>\n",
       "      <th>roubos</th>\n",
       "      <th>roubo_veiculo</th>\n",
       "      <th>estelionato</th>\n",
       "      <th>delitos_armas_municoes</th>\n",
       "      <th>entorpecente_posse</th>\n",
       "      <th>entorpecente_trafico</th>\n",
       "      <th>vitimas_latrocinio</th>\n",
       "      <th>vitimas_lesao_corporal_morte</th>\n",
       "      <th>total_vitimas_crimes_violentos</th>\n",
       "    </tr>\n",
       "  </thead>\n",
       "  <tbody>\n",
       "    <tr>\n",
       "      <th>0</th>\n",
       "      <td>acegua</td>\n",
       "      <td>4300034</td>\n",
       "      <td>0</td>\n",
       "      <td>0</td>\n",
       "      <td>0</td>\n",
       "      <td>20</td>\n",
       "      <td>8</td>\n",
       "      <td>0</td>\n",
       "      <td>3</td>\n",
       "      <td>0</td>\n",
       "      <td>27</td>\n",
       "      <td>4</td>\n",
       "      <td>3</td>\n",
       "      <td>0</td>\n",
       "      <td>0</td>\n",
       "      <td>0</td>\n",
       "      <td>0</td>\n",
       "    </tr>\n",
       "    <tr>\n",
       "      <th>1</th>\n",
       "      <td>agua santa</td>\n",
       "      <td>4300059</td>\n",
       "      <td>1</td>\n",
       "      <td>1</td>\n",
       "      <td>0</td>\n",
       "      <td>20</td>\n",
       "      <td>3</td>\n",
       "      <td>4</td>\n",
       "      <td>1</td>\n",
       "      <td>0</td>\n",
       "      <td>13</td>\n",
       "      <td>2</td>\n",
       "      <td>0</td>\n",
       "      <td>0</td>\n",
       "      <td>0</td>\n",
       "      <td>0</td>\n",
       "      <td>2</td>\n",
       "    </tr>\n",
       "    <tr>\n",
       "      <th>2</th>\n",
       "      <td>agudo</td>\n",
       "      <td>4300109</td>\n",
       "      <td>1</td>\n",
       "      <td>1</td>\n",
       "      <td>0</td>\n",
       "      <td>102</td>\n",
       "      <td>2</td>\n",
       "      <td>2</td>\n",
       "      <td>3</td>\n",
       "      <td>1</td>\n",
       "      <td>51</td>\n",
       "      <td>3</td>\n",
       "      <td>7</td>\n",
       "      <td>10</td>\n",
       "      <td>0</td>\n",
       "      <td>0</td>\n",
       "      <td>1</td>\n",
       "    </tr>\n",
       "    <tr>\n",
       "      <th>3</th>\n",
       "      <td>ajuricaba</td>\n",
       "      <td>4300208</td>\n",
       "      <td>0</td>\n",
       "      <td>0</td>\n",
       "      <td>0</td>\n",
       "      <td>26</td>\n",
       "      <td>1</td>\n",
       "      <td>0</td>\n",
       "      <td>1</td>\n",
       "      <td>0</td>\n",
       "      <td>28</td>\n",
       "      <td>2</td>\n",
       "      <td>3</td>\n",
       "      <td>0</td>\n",
       "      <td>0</td>\n",
       "      <td>0</td>\n",
       "      <td>0</td>\n",
       "    </tr>\n",
       "    <tr>\n",
       "      <th>4</th>\n",
       "      <td>alecrim</td>\n",
       "      <td>4300307</td>\n",
       "      <td>1</td>\n",
       "      <td>1</td>\n",
       "      <td>0</td>\n",
       "      <td>36</td>\n",
       "      <td>10</td>\n",
       "      <td>0</td>\n",
       "      <td>2</td>\n",
       "      <td>0</td>\n",
       "      <td>17</td>\n",
       "      <td>10</td>\n",
       "      <td>0</td>\n",
       "      <td>4</td>\n",
       "      <td>0</td>\n",
       "      <td>0</td>\n",
       "      <td>1</td>\n",
       "    </tr>\n",
       "  </tbody>\n",
       "</table>\n",
       "</div>"
      ],
      "text/plain": [
       "   municipios     ibge  homicidio_doloso  total_vitimas_homicidio_doloso  \\\n",
       "0      acegua  4300034                 0                               0   \n",
       "1  agua santa  4300059                 1                               1   \n",
       "2       agudo  4300109                 1                               1   \n",
       "3   ajuricaba  4300208                 0                               0   \n",
       "4     alecrim  4300307                 1                               1   \n",
       "\n",
       "   latrocinio  furtos  abigeato  furto_veiculo  roubos  roubo_veiculo  \\\n",
       "0           0      20         8              0       3              0   \n",
       "1           0      20         3              4       1              0   \n",
       "2           0     102         2              2       3              1   \n",
       "3           0      26         1              0       1              0   \n",
       "4           0      36        10              0       2              0   \n",
       "\n",
       "   estelionato  delitos_armas_municoes  entorpecente_posse  \\\n",
       "0           27                       4                   3   \n",
       "1           13                       2                   0   \n",
       "2           51                       3                   7   \n",
       "3           28                       2                   3   \n",
       "4           17                      10                   0   \n",
       "\n",
       "   entorpecente_trafico  vitimas_latrocinio  vitimas_lesao_corporal_morte  \\\n",
       "0                     0                   0                             0   \n",
       "1                     0                   0                             0   \n",
       "2                    10                   0                             0   \n",
       "3                     0                   0                             0   \n",
       "4                     4                   0                             0   \n",
       "\n",
       "   total_vitimas_crimes_violentos  \n",
       "0                               0  \n",
       "1                               2  \n",
       "2                               1  \n",
       "3                               0  \n",
       "4                               1  "
      ]
     },
     "execution_count": 1128,
     "metadata": {},
     "output_type": "execute_result"
    }
   ],
   "source": [
    "# Lendo os arquivos csv e concatenando em um único dataframe\n",
    "meses = ['janeiro', 'fevereiro', 'marco', 'abril', 'maio', 'junho', 'julho', 'agosto', 'setembro', 'outubro', 'novembro', 'dezembro']\n",
    "\n",
    "dfs = []\n",
    "\n",
    "for mes in meses:\n",
    "        arquivo = pd.read_csv(f'data\\\\tocsv\\\\{mes}.csv', delimiter=';')\n",
    "        dfs.append(arquivo)\n",
    "\n",
    "df = pd.concat(dfs, ignore_index=True)\n",
    "\n",
    "df_criminal = df.groupby(['municipios', 'ibge']).sum().reset_index()\n",
    "\n",
    "\n",
    "df.to_csv('data\\\\tocsv\\\\total.csv', sep=';', index=False)\n",
    "\n",
    "df_criminal.head()\n"
   ]
  },
  {
   "cell_type": "markdown",
   "metadata": {},
   "source": [
    "Abertura do arquivo de quantidade de população por cidade em cada ano."
   ]
  },
  {
   "cell_type": "code",
   "execution_count": 1129,
   "metadata": {},
   "outputs": [
    {
     "name": "stdout",
     "output_type": "stream",
     "text": [
      "<class 'pandas.core.frame.DataFrame'>\n",
      "RangeIndex: 497 entries, 0 to 496\n",
      "Data columns (total 16 columns):\n",
      " #   Column      Non-Null Count  Dtype  \n",
      "---  ------      --------------  -----  \n",
      " 0   municipios  497 non-null    object \n",
      " 1   ibge        497 non-null    int64  \n",
      " 2   latitude    497 non-null    float64\n",
      " 3   longitude   497 non-null    float64\n",
      " 4   2010        497 non-null    int32  \n",
      " 5   2011        497 non-null    int32  \n",
      " 6   2012        497 non-null    int32  \n",
      " 7   2013        497 non-null    int32  \n",
      " 8   2014        497 non-null    int32  \n",
      " 9   2015        497 non-null    int32  \n",
      " 10  2016        497 non-null    int32  \n",
      " 11  2017        497 non-null    int32  \n",
      " 12  2018        497 non-null    int32  \n",
      " 13  2019        497 non-null    int32  \n",
      " 14  2020        497 non-null    int32  \n",
      " 15  2021        497 non-null    int32  \n",
      "dtypes: float64(2), int32(12), int64(1), object(1)\n",
      "memory usage: 39.0+ KB\n"
     ]
    }
   ],
   "source": [
    "# Lendo o arquivo de população\n",
    "df_pop = pd.read_csv('data\\\\tocsv\\\\populacao.csv', delimiter=';')\n",
    "\n",
    "# Substituindo os valores de '.' e '-' por 0 e convertendo para inteiro\n",
    "for coluna in df_pop.columns[4:]:\n",
    "    df_pop[coluna] = df_pop[coluna].str.replace('.', '').str.replace('-', '0').astype(int)\n",
    "\n",
    "df_pop.info()\n"
   ]
  },
  {
   "cell_type": "markdown",
   "metadata": {},
   "source": [
    "União dos dois banco de dados."
   ]
  },
  {
   "cell_type": "code",
   "execution_count": 1130,
   "metadata": {},
   "outputs": [
    {
     "name": "stdout",
     "output_type": "stream",
     "text": [
      "<class 'pandas.core.frame.DataFrame'>\n",
      "RangeIndex: 497 entries, 0 to 496\n",
      "Data columns (total 31 columns):\n",
      " #   Column                          Non-Null Count  Dtype  \n",
      "---  ------                          --------------  -----  \n",
      " 0   municipios                      497 non-null    object \n",
      " 1   ibge                            497 non-null    int64  \n",
      " 2   homicidio_doloso                497 non-null    int64  \n",
      " 3   total_vitimas_homicidio_doloso  497 non-null    int64  \n",
      " 4   latrocinio                      497 non-null    int64  \n",
      " 5   furtos                          497 non-null    int64  \n",
      " 6   abigeato                        497 non-null    int64  \n",
      " 7   furto_veiculo                   497 non-null    int64  \n",
      " 8   roubos                          497 non-null    int64  \n",
      " 9   roubo_veiculo                   497 non-null    int64  \n",
      " 10  estelionato                     497 non-null    int64  \n",
      " 11  delitos_armas_municoes          497 non-null    int64  \n",
      " 12  entorpecente_posse              497 non-null    int64  \n",
      " 13  entorpecente_trafico            497 non-null    int64  \n",
      " 14  vitimas_latrocinio              497 non-null    int64  \n",
      " 15  vitimas_lesao_corporal_morte    497 non-null    int64  \n",
      " 16  total_vitimas_crimes_violentos  497 non-null    int64  \n",
      " 17  latitude                        497 non-null    float64\n",
      " 18  longitude                       497 non-null    float64\n",
      " 19  2010                            497 non-null    int32  \n",
      " 20  2011                            497 non-null    int32  \n",
      " 21  2012                            497 non-null    int32  \n",
      " 22  2013                            497 non-null    int32  \n",
      " 23  2014                            497 non-null    int32  \n",
      " 24  2015                            497 non-null    int32  \n",
      " 25  2016                            497 non-null    int32  \n",
      " 26  2017                            497 non-null    int32  \n",
      " 27  2018                            497 non-null    int32  \n",
      " 28  2019                            497 non-null    int32  \n",
      " 29  2020                            497 non-null    int32  \n",
      " 30  2021                            497 non-null    int32  \n",
      "dtypes: float64(2), int32(12), int64(16), object(1)\n",
      "memory usage: 97.2+ KB\n"
     ]
    }
   ],
   "source": [
    "# O merge é feito com base na coluna ibge como forma de chave estrangeira com o método inner\n",
    "df_merged = pd.merge(df_criminal, df_pop, how = 'inner', on = 'ibge').drop(columns=['municipios_y'])\n",
    "df_merged.rename(columns={'municipios_x': 'municipios'}, inplace=True)\n",
    "\n",
    "df_merged.info()"
   ]
  },
  {
   "cell_type": "markdown",
   "metadata": {},
   "source": [
    "Normalização dos dados."
   ]
  },
  {
   "cell_type": "code",
   "execution_count": 1131,
   "metadata": {},
   "outputs": [],
   "source": [
    "from sklearn.preprocessing import StandardScaler"
   ]
  },
  {
   "cell_type": "code",
   "execution_count": 1132,
   "metadata": {},
   "outputs": [
    {
     "data": {
      "text/html": [
       "<div>\n",
       "<style scoped>\n",
       "    .dataframe tbody tr th:only-of-type {\n",
       "        vertical-align: middle;\n",
       "    }\n",
       "\n",
       "    .dataframe tbody tr th {\n",
       "        vertical-align: top;\n",
       "    }\n",
       "\n",
       "    .dataframe thead th {\n",
       "        text-align: right;\n",
       "    }\n",
       "</style>\n",
       "<table border=\"1\" class=\"dataframe\">\n",
       "  <thead>\n",
       "    <tr style=\"text-align: right;\">\n",
       "      <th></th>\n",
       "      <th>ibge</th>\n",
       "      <th>homicidio_doloso</th>\n",
       "      <th>total_vitimas_homicidio_doloso</th>\n",
       "      <th>latrocinio</th>\n",
       "      <th>furtos</th>\n",
       "      <th>abigeato</th>\n",
       "      <th>furto_veiculo</th>\n",
       "      <th>roubos</th>\n",
       "      <th>roubo_veiculo</th>\n",
       "      <th>estelionato</th>\n",
       "      <th>delitos_armas_municoes</th>\n",
       "      <th>entorpecente_posse</th>\n",
       "      <th>entorpecente_trafico</th>\n",
       "      <th>vitimas_latrocinio</th>\n",
       "      <th>vitimas_lesao_corporal_morte</th>\n",
       "      <th>2021</th>\n",
       "    </tr>\n",
       "    <tr>\n",
       "      <th>municipios</th>\n",
       "      <th></th>\n",
       "      <th></th>\n",
       "      <th></th>\n",
       "      <th></th>\n",
       "      <th></th>\n",
       "      <th></th>\n",
       "      <th></th>\n",
       "      <th></th>\n",
       "      <th></th>\n",
       "      <th></th>\n",
       "      <th></th>\n",
       "      <th></th>\n",
       "      <th></th>\n",
       "      <th></th>\n",
       "      <th></th>\n",
       "      <th></th>\n",
       "    </tr>\n",
       "  </thead>\n",
       "  <tbody>\n",
       "    <tr>\n",
       "      <th>acegua</th>\n",
       "      <td>4300034</td>\n",
       "      <td>0</td>\n",
       "      <td>0</td>\n",
       "      <td>0</td>\n",
       "      <td>20</td>\n",
       "      <td>8</td>\n",
       "      <td>0</td>\n",
       "      <td>3</td>\n",
       "      <td>0</td>\n",
       "      <td>27</td>\n",
       "      <td>4</td>\n",
       "      <td>3</td>\n",
       "      <td>0</td>\n",
       "      <td>0</td>\n",
       "      <td>0</td>\n",
       "      <td>4505</td>\n",
       "    </tr>\n",
       "    <tr>\n",
       "      <th>agua santa</th>\n",
       "      <td>4300059</td>\n",
       "      <td>1</td>\n",
       "      <td>1</td>\n",
       "      <td>0</td>\n",
       "      <td>20</td>\n",
       "      <td>3</td>\n",
       "      <td>4</td>\n",
       "      <td>1</td>\n",
       "      <td>0</td>\n",
       "      <td>13</td>\n",
       "      <td>2</td>\n",
       "      <td>0</td>\n",
       "      <td>0</td>\n",
       "      <td>0</td>\n",
       "      <td>0</td>\n",
       "      <td>4256</td>\n",
       "    </tr>\n",
       "    <tr>\n",
       "      <th>agudo</th>\n",
       "      <td>4300109</td>\n",
       "      <td>1</td>\n",
       "      <td>1</td>\n",
       "      <td>0</td>\n",
       "      <td>102</td>\n",
       "      <td>2</td>\n",
       "      <td>2</td>\n",
       "      <td>3</td>\n",
       "      <td>1</td>\n",
       "      <td>51</td>\n",
       "      <td>3</td>\n",
       "      <td>7</td>\n",
       "      <td>10</td>\n",
       "      <td>0</td>\n",
       "      <td>0</td>\n",
       "      <td>16612</td>\n",
       "    </tr>\n",
       "    <tr>\n",
       "      <th>ajuricaba</th>\n",
       "      <td>4300208</td>\n",
       "      <td>0</td>\n",
       "      <td>0</td>\n",
       "      <td>0</td>\n",
       "      <td>26</td>\n",
       "      <td>1</td>\n",
       "      <td>0</td>\n",
       "      <td>1</td>\n",
       "      <td>0</td>\n",
       "      <td>28</td>\n",
       "      <td>2</td>\n",
       "      <td>3</td>\n",
       "      <td>0</td>\n",
       "      <td>0</td>\n",
       "      <td>0</td>\n",
       "      <td>7447</td>\n",
       "    </tr>\n",
       "    <tr>\n",
       "      <th>alecrim</th>\n",
       "      <td>4300307</td>\n",
       "      <td>1</td>\n",
       "      <td>1</td>\n",
       "      <td>0</td>\n",
       "      <td>36</td>\n",
       "      <td>10</td>\n",
       "      <td>0</td>\n",
       "      <td>2</td>\n",
       "      <td>0</td>\n",
       "      <td>17</td>\n",
       "      <td>10</td>\n",
       "      <td>0</td>\n",
       "      <td>4</td>\n",
       "      <td>0</td>\n",
       "      <td>0</td>\n",
       "      <td>6403</td>\n",
       "    </tr>\n",
       "  </tbody>\n",
       "</table>\n",
       "</div>"
      ],
      "text/plain": [
       "               ibge  homicidio_doloso  total_vitimas_homicidio_doloso  \\\n",
       "municipios                                                              \n",
       "acegua      4300034                 0                               0   \n",
       "agua santa  4300059                 1                               1   \n",
       "agudo       4300109                 1                               1   \n",
       "ajuricaba   4300208                 0                               0   \n",
       "alecrim     4300307                 1                               1   \n",
       "\n",
       "            latrocinio  furtos  abigeato  furto_veiculo  roubos  \\\n",
       "municipios                                                        \n",
       "acegua               0      20         8              0       3   \n",
       "agua santa           0      20         3              4       1   \n",
       "agudo                0     102         2              2       3   \n",
       "ajuricaba            0      26         1              0       1   \n",
       "alecrim              0      36        10              0       2   \n",
       "\n",
       "            roubo_veiculo  estelionato  delitos_armas_municoes  \\\n",
       "municipios                                                       \n",
       "acegua                  0           27                       4   \n",
       "agua santa              0           13                       2   \n",
       "agudo                   1           51                       3   \n",
       "ajuricaba               0           28                       2   \n",
       "alecrim                 0           17                      10   \n",
       "\n",
       "            entorpecente_posse  entorpecente_trafico  vitimas_latrocinio  \\\n",
       "municipios                                                                 \n",
       "acegua                       3                     0                   0   \n",
       "agua santa                   0                     0                   0   \n",
       "agudo                        7                    10                   0   \n",
       "ajuricaba                    3                     0                   0   \n",
       "alecrim                      0                     4                   0   \n",
       "\n",
       "            vitimas_lesao_corporal_morte   2021  \n",
       "municipios                                       \n",
       "acegua                                 0   4505  \n",
       "agua santa                             0   4256  \n",
       "agudo                                  0  16612  \n",
       "ajuricaba                              0   7447  \n",
       "alecrim                                0   6403  "
      ]
     },
     "execution_count": 1132,
     "metadata": {},
     "output_type": "execute_result"
    }
   ],
   "source": [
    "# Lista das colunas extras que não são necessárias\n",
    "colunas_extras = df_merged.columns[16:30]\n",
    "\n",
    "# Removendo as colunas extras\n",
    "df = df_merged.drop(colunas_extras, axis=1)\n",
    "\n",
    "df.set_index('municipios', inplace=True)\n",
    "\n",
    "# Salvando o dataframe em um arquivo csv\n",
    "df.to_csv('data\\\\tocsv\\\\dados_pop_criminalidade.csv', sep=';', index=False)\n",
    "\n",
    "df.head()\n",
    "\n"
   ]
  },
  {
   "cell_type": "code",
   "execution_count": 1133,
   "metadata": {},
   "outputs": [],
   "source": [
    "# Removendo as colunas de taxa total pois são redundantes\n",
    "df.drop(['total_vitimas_homicidio_doloso'], axis='columns', inplace=True)\n",
    "df.drop(['latrocinio'], axis='columns', inplace=True)\n",
    "\n",
    "# Selecionando somente as colunas do tipo float\n",
    "df.drop(['ibge'], axis='columns', inplace=True)\n",
    "\n",
    "df.rename(columns={'2021': 'populacao'}, inplace=True)"
   ]
  },
  {
   "cell_type": "code",
   "execution_count": 1134,
   "metadata": {},
   "outputs": [
    {
     "data": {
      "text/html": [
       "<div>\n",
       "<style scoped>\n",
       "    .dataframe tbody tr th:only-of-type {\n",
       "        vertical-align: middle;\n",
       "    }\n",
       "\n",
       "    .dataframe tbody tr th {\n",
       "        vertical-align: top;\n",
       "    }\n",
       "\n",
       "    .dataframe thead th {\n",
       "        text-align: right;\n",
       "    }\n",
       "</style>\n",
       "<table border=\"1\" class=\"dataframe\">\n",
       "  <thead>\n",
       "    <tr style=\"text-align: right;\">\n",
       "      <th></th>\n",
       "      <th>homicidio_doloso</th>\n",
       "      <th>furtos</th>\n",
       "      <th>abigeato</th>\n",
       "      <th>furto_veiculo</th>\n",
       "      <th>roubos</th>\n",
       "      <th>roubo_veiculo</th>\n",
       "      <th>estelionato</th>\n",
       "      <th>delitos_armas_municoes</th>\n",
       "      <th>entorpecente_posse</th>\n",
       "      <th>entorpecente_trafico</th>\n",
       "      <th>vitimas_latrocinio</th>\n",
       "      <th>vitimas_lesao_corporal_morte</th>\n",
       "      <th>populacao</th>\n",
       "    </tr>\n",
       "    <tr>\n",
       "      <th>municipios</th>\n",
       "      <th></th>\n",
       "      <th></th>\n",
       "      <th></th>\n",
       "      <th></th>\n",
       "      <th></th>\n",
       "      <th></th>\n",
       "      <th></th>\n",
       "      <th></th>\n",
       "      <th></th>\n",
       "      <th></th>\n",
       "      <th></th>\n",
       "      <th></th>\n",
       "      <th></th>\n",
       "    </tr>\n",
       "  </thead>\n",
       "  <tbody>\n",
       "    <tr>\n",
       "      <th>acegua</th>\n",
       "      <td>-0.240983</td>\n",
       "      <td>-0.165023</td>\n",
       "      <td>-0.016371</td>\n",
       "      <td>-0.189482</td>\n",
       "      <td>-0.091215</td>\n",
       "      <td>-0.108250</td>\n",
       "      <td>-0.174139</td>\n",
       "      <td>-0.221637</td>\n",
       "      <td>-0.264673</td>\n",
       "      <td>-0.205293</td>\n",
       "      <td>-0.202622</td>\n",
       "      <td>-0.193052</td>\n",
       "      <td>-0.234986</td>\n",
       "    </tr>\n",
       "    <tr>\n",
       "      <th>agua santa</th>\n",
       "      <td>-0.163812</td>\n",
       "      <td>-0.165023</td>\n",
       "      <td>-0.347109</td>\n",
       "      <td>-0.145451</td>\n",
       "      <td>-0.094148</td>\n",
       "      <td>-0.108250</td>\n",
       "      <td>-0.190466</td>\n",
       "      <td>-0.270616</td>\n",
       "      <td>-0.287715</td>\n",
       "      <td>-0.205293</td>\n",
       "      <td>-0.202622</td>\n",
       "      <td>-0.193052</td>\n",
       "      <td>-0.238138</td>\n",
       "    </tr>\n",
       "    <tr>\n",
       "      <th>agudo</th>\n",
       "      <td>-0.163812</td>\n",
       "      <td>-0.106419</td>\n",
       "      <td>-0.413257</td>\n",
       "      <td>-0.167466</td>\n",
       "      <td>-0.091215</td>\n",
       "      <td>-0.093268</td>\n",
       "      <td>-0.146148</td>\n",
       "      <td>-0.246127</td>\n",
       "      <td>-0.233949</td>\n",
       "      <td>-0.141324</td>\n",
       "      <td>-0.202622</td>\n",
       "      <td>-0.193052</td>\n",
       "      <td>-0.081756</td>\n",
       "    </tr>\n",
       "    <tr>\n",
       "      <th>ajuricaba</th>\n",
       "      <td>-0.240983</td>\n",
       "      <td>-0.160734</td>\n",
       "      <td>-0.479404</td>\n",
       "      <td>-0.189482</td>\n",
       "      <td>-0.094148</td>\n",
       "      <td>-0.108250</td>\n",
       "      <td>-0.172972</td>\n",
       "      <td>-0.270616</td>\n",
       "      <td>-0.264673</td>\n",
       "      <td>-0.205293</td>\n",
       "      <td>-0.202622</td>\n",
       "      <td>-0.193052</td>\n",
       "      <td>-0.197751</td>\n",
       "    </tr>\n",
       "    <tr>\n",
       "      <th>alecrim</th>\n",
       "      <td>-0.163812</td>\n",
       "      <td>-0.153588</td>\n",
       "      <td>0.115925</td>\n",
       "      <td>-0.189482</td>\n",
       "      <td>-0.092681</td>\n",
       "      <td>-0.108250</td>\n",
       "      <td>-0.185801</td>\n",
       "      <td>-0.074700</td>\n",
       "      <td>-0.287715</td>\n",
       "      <td>-0.179705</td>\n",
       "      <td>-0.202622</td>\n",
       "      <td>-0.193052</td>\n",
       "      <td>-0.210964</td>\n",
       "    </tr>\n",
       "  </tbody>\n",
       "</table>\n",
       "</div>"
      ],
      "text/plain": [
       "            homicidio_doloso    furtos  abigeato  furto_veiculo    roubos  \\\n",
       "municipios                                                                  \n",
       "acegua             -0.240983 -0.165023 -0.016371      -0.189482 -0.091215   \n",
       "agua santa         -0.163812 -0.165023 -0.347109      -0.145451 -0.094148   \n",
       "agudo              -0.163812 -0.106419 -0.413257      -0.167466 -0.091215   \n",
       "ajuricaba          -0.240983 -0.160734 -0.479404      -0.189482 -0.094148   \n",
       "alecrim            -0.163812 -0.153588  0.115925      -0.189482 -0.092681   \n",
       "\n",
       "            roubo_veiculo  estelionato  delitos_armas_municoes  \\\n",
       "municipios                                                       \n",
       "acegua          -0.108250    -0.174139               -0.221637   \n",
       "agua santa      -0.108250    -0.190466               -0.270616   \n",
       "agudo           -0.093268    -0.146148               -0.246127   \n",
       "ajuricaba       -0.108250    -0.172972               -0.270616   \n",
       "alecrim         -0.108250    -0.185801               -0.074700   \n",
       "\n",
       "            entorpecente_posse  entorpecente_trafico  vitimas_latrocinio  \\\n",
       "municipios                                                                 \n",
       "acegua               -0.264673             -0.205293           -0.202622   \n",
       "agua santa           -0.287715             -0.205293           -0.202622   \n",
       "agudo                -0.233949             -0.141324           -0.202622   \n",
       "ajuricaba            -0.264673             -0.205293           -0.202622   \n",
       "alecrim              -0.287715             -0.179705           -0.202622   \n",
       "\n",
       "            vitimas_lesao_corporal_morte  populacao  \n",
       "municipios                                           \n",
       "acegua                         -0.193052  -0.234986  \n",
       "agua santa                     -0.193052  -0.238138  \n",
       "agudo                          -0.193052  -0.081756  \n",
       "ajuricaba                      -0.193052  -0.197751  \n",
       "alecrim                        -0.193052  -0.210964  "
      ]
     },
     "execution_count": 1134,
     "metadata": {},
     "output_type": "execute_result"
    }
   ],
   "source": [
    "# Normalizando os dados média 0 e desvio padrão 1\n",
    "scaler = StandardScaler(with_std=True, with_mean=True)\n",
    "data_scaled = pd.DataFrame(scaler.fit_transform(df), columns=df.columns, index=df.index)\n",
    "\n",
    "data_scaled.head()"
   ]
  },
  {
   "cell_type": "markdown",
   "metadata": {},
   "source": [
    "## PCA - Redução de Dimensionalidade\n",
    "### O dataset agora tem dados suficientes para ranquear as cidades em mais seguras e não seguras com dados proporcionais a população. Entretanto, existem muitas colunas. A alta dimensionalidade deixará o processo de aprendizado confuso criando um sobreajuste nos dados. Então é aplicado o PCA, uma técnida de redução de dimensionalidade.\n",
    "### Para fins de demonstração, será usado somente uma amostra de 20 cidades.\n",
    "\n"
   ]
  },
  {
   "cell_type": "code",
   "execution_count": 1135,
   "metadata": {},
   "outputs": [
    {
     "data": {
      "text/plain": [
       "Index(['hulha negra', 'sao valentim do sul', 'xangri-la', 'nova padua',\n",
       "       'catuipe', 'esmeralda', 'lajeado do bugre', 'cruz alta', 'nova ramada',\n",
       "       'jaguarao', 'nova petropolis', 'charqueadas', 'torres', 'sarandi',\n",
       "       'fortaleza dos valos', 'almirante tamandare do sul', 'esteio',\n",
       "       'frederico westphalen', 'canela', 'piratini', 'vale verde',\n",
       "       'restinga seca', 'santo antonio da patrulha', 'passo do sobrado',\n",
       "       'sao sepe'],\n",
       "      dtype='object', name='municipios')"
      ]
     },
     "execution_count": 1135,
     "metadata": {},
     "output_type": "execute_result"
    }
   ],
   "source": [
    "# Selecionando 20 linhas aleatórias\n",
    "df_sample= data_scaled.sample(n=25, axis=0, random_state=999)\n",
    "\n",
    "df_sample.index\n",
    "\n"
   ]
  },
  {
   "cell_type": "code",
   "execution_count": 1136,
   "metadata": {},
   "outputs": [],
   "source": [
    "import numpy as np\n",
    "\n",
    "from sklearn.decomposition import PCA\n"
   ]
  },
  {
   "cell_type": "code",
   "execution_count": 1137,
   "metadata": {},
   "outputs": [
    {
     "data": {
      "text/plain": [
       "13"
      ]
     },
     "execution_count": 1137,
     "metadata": {},
     "output_type": "execute_result"
    }
   ],
   "source": [
    "# Aplicando a PCA\n",
    "pca = PCA()\n",
    "components = pca.fit_transform(df_sample)\n",
    "\n",
    "components.shape[1]"
   ]
  },
  {
   "cell_type": "code",
   "execution_count": 1138,
   "metadata": {},
   "outputs": [
    {
     "data": {
      "text/plain": [
       "array([3.81403134e-01, 3.35609185e-01, 1.40727454e-01, 7.49776034e-02,\n",
       "       4.64638856e-02, 1.41957814e-02, 2.98215223e-03, 2.68379209e-03,\n",
       "       5.28358386e-04, 3.23701599e-04, 6.66889179e-05, 3.82634109e-05,\n",
       "       0.00000000e+00])"
      ]
     },
     "execution_count": 1138,
     "metadata": {},
     "output_type": "execute_result"
    }
   ],
   "source": [
    "# Analise de como os componentes estão explicando os dados com a variância explicada\n",
    "pca.explained_variance_ratio_"
   ]
  },
  {
   "cell_type": "code",
   "execution_count": 1139,
   "metadata": {},
   "outputs": [],
   "source": [
    "import plotly.express as px\n",
    "import plotly.offline as py\n",
    "import plotly.graph_objects as go"
   ]
  },
  {
   "cell_type": "code",
   "execution_count": 1140,
   "metadata": {},
   "outputs": [
    {
     "data": {
      "application/vnd.plotly.v1+json": {
       "config": {
        "plotlyServerURL": "https://plot.ly"
       },
       "data": [
        {
         "fillpattern": {
          "shape": ""
         },
         "hovertemplate": "Componentes Principais=%{x}<br>Variância Explicada Acumulada=%{y}<extra></extra>",
         "legendgroup": "",
         "line": {
          "color": "#636efa"
         },
         "marker": {
          "symbol": "circle"
         },
         "mode": "lines",
         "name": "",
         "orientation": "v",
         "showlegend": false,
         "stackgroup": "1",
         "type": "scatter",
         "x": [
          1,
          2,
          3,
          4,
          5,
          6,
          7,
          8,
          9,
          10,
          11,
          12,
          13
         ],
         "xaxis": "x",
         "y": [
          0.3814031337578814,
          0.7170123192200656,
          0.8577397729213027,
          0.9327173762920488,
          0.9791812619181244,
          0.9933770433670146,
          0.9963591955955949,
          0.9990429876863285,
          0.9995713460721397,
          0.9998950476711616,
          0.9999617365890598,
          0.9999999999999999,
          0.9999999999999999
         ],
         "yaxis": "y"
        }
       ],
       "layout": {
        "legend": {
         "tracegroupgap": 0
        },
        "margin": {
         "t": 60
        },
        "template": {
         "data": {
          "bar": [
           {
            "error_x": {
             "color": "#2a3f5f"
            },
            "error_y": {
             "color": "#2a3f5f"
            },
            "marker": {
             "line": {
              "color": "#E5ECF6",
              "width": 0.5
             },
             "pattern": {
              "fillmode": "overlay",
              "size": 10,
              "solidity": 0.2
             }
            },
            "type": "bar"
           }
          ],
          "barpolar": [
           {
            "marker": {
             "line": {
              "color": "#E5ECF6",
              "width": 0.5
             },
             "pattern": {
              "fillmode": "overlay",
              "size": 10,
              "solidity": 0.2
             }
            },
            "type": "barpolar"
           }
          ],
          "carpet": [
           {
            "aaxis": {
             "endlinecolor": "#2a3f5f",
             "gridcolor": "white",
             "linecolor": "white",
             "minorgridcolor": "white",
             "startlinecolor": "#2a3f5f"
            },
            "baxis": {
             "endlinecolor": "#2a3f5f",
             "gridcolor": "white",
             "linecolor": "white",
             "minorgridcolor": "white",
             "startlinecolor": "#2a3f5f"
            },
            "type": "carpet"
           }
          ],
          "choropleth": [
           {
            "colorbar": {
             "outlinewidth": 0,
             "ticks": ""
            },
            "type": "choropleth"
           }
          ],
          "contour": [
           {
            "colorbar": {
             "outlinewidth": 0,
             "ticks": ""
            },
            "colorscale": [
             [
              0,
              "#0d0887"
             ],
             [
              0.1111111111111111,
              "#46039f"
             ],
             [
              0.2222222222222222,
              "#7201a8"
             ],
             [
              0.3333333333333333,
              "#9c179e"
             ],
             [
              0.4444444444444444,
              "#bd3786"
             ],
             [
              0.5555555555555556,
              "#d8576b"
             ],
             [
              0.6666666666666666,
              "#ed7953"
             ],
             [
              0.7777777777777778,
              "#fb9f3a"
             ],
             [
              0.8888888888888888,
              "#fdca26"
             ],
             [
              1,
              "#f0f921"
             ]
            ],
            "type": "contour"
           }
          ],
          "contourcarpet": [
           {
            "colorbar": {
             "outlinewidth": 0,
             "ticks": ""
            },
            "type": "contourcarpet"
           }
          ],
          "heatmap": [
           {
            "colorbar": {
             "outlinewidth": 0,
             "ticks": ""
            },
            "colorscale": [
             [
              0,
              "#0d0887"
             ],
             [
              0.1111111111111111,
              "#46039f"
             ],
             [
              0.2222222222222222,
              "#7201a8"
             ],
             [
              0.3333333333333333,
              "#9c179e"
             ],
             [
              0.4444444444444444,
              "#bd3786"
             ],
             [
              0.5555555555555556,
              "#d8576b"
             ],
             [
              0.6666666666666666,
              "#ed7953"
             ],
             [
              0.7777777777777778,
              "#fb9f3a"
             ],
             [
              0.8888888888888888,
              "#fdca26"
             ],
             [
              1,
              "#f0f921"
             ]
            ],
            "type": "heatmap"
           }
          ],
          "heatmapgl": [
           {
            "colorbar": {
             "outlinewidth": 0,
             "ticks": ""
            },
            "colorscale": [
             [
              0,
              "#0d0887"
             ],
             [
              0.1111111111111111,
              "#46039f"
             ],
             [
              0.2222222222222222,
              "#7201a8"
             ],
             [
              0.3333333333333333,
              "#9c179e"
             ],
             [
              0.4444444444444444,
              "#bd3786"
             ],
             [
              0.5555555555555556,
              "#d8576b"
             ],
             [
              0.6666666666666666,
              "#ed7953"
             ],
             [
              0.7777777777777778,
              "#fb9f3a"
             ],
             [
              0.8888888888888888,
              "#fdca26"
             ],
             [
              1,
              "#f0f921"
             ]
            ],
            "type": "heatmapgl"
           }
          ],
          "histogram": [
           {
            "marker": {
             "pattern": {
              "fillmode": "overlay",
              "size": 10,
              "solidity": 0.2
             }
            },
            "type": "histogram"
           }
          ],
          "histogram2d": [
           {
            "colorbar": {
             "outlinewidth": 0,
             "ticks": ""
            },
            "colorscale": [
             [
              0,
              "#0d0887"
             ],
             [
              0.1111111111111111,
              "#46039f"
             ],
             [
              0.2222222222222222,
              "#7201a8"
             ],
             [
              0.3333333333333333,
              "#9c179e"
             ],
             [
              0.4444444444444444,
              "#bd3786"
             ],
             [
              0.5555555555555556,
              "#d8576b"
             ],
             [
              0.6666666666666666,
              "#ed7953"
             ],
             [
              0.7777777777777778,
              "#fb9f3a"
             ],
             [
              0.8888888888888888,
              "#fdca26"
             ],
             [
              1,
              "#f0f921"
             ]
            ],
            "type": "histogram2d"
           }
          ],
          "histogram2dcontour": [
           {
            "colorbar": {
             "outlinewidth": 0,
             "ticks": ""
            },
            "colorscale": [
             [
              0,
              "#0d0887"
             ],
             [
              0.1111111111111111,
              "#46039f"
             ],
             [
              0.2222222222222222,
              "#7201a8"
             ],
             [
              0.3333333333333333,
              "#9c179e"
             ],
             [
              0.4444444444444444,
              "#bd3786"
             ],
             [
              0.5555555555555556,
              "#d8576b"
             ],
             [
              0.6666666666666666,
              "#ed7953"
             ],
             [
              0.7777777777777778,
              "#fb9f3a"
             ],
             [
              0.8888888888888888,
              "#fdca26"
             ],
             [
              1,
              "#f0f921"
             ]
            ],
            "type": "histogram2dcontour"
           }
          ],
          "mesh3d": [
           {
            "colorbar": {
             "outlinewidth": 0,
             "ticks": ""
            },
            "type": "mesh3d"
           }
          ],
          "parcoords": [
           {
            "line": {
             "colorbar": {
              "outlinewidth": 0,
              "ticks": ""
             }
            },
            "type": "parcoords"
           }
          ],
          "pie": [
           {
            "automargin": true,
            "type": "pie"
           }
          ],
          "scatter": [
           {
            "fillpattern": {
             "fillmode": "overlay",
             "size": 10,
             "solidity": 0.2
            },
            "type": "scatter"
           }
          ],
          "scatter3d": [
           {
            "line": {
             "colorbar": {
              "outlinewidth": 0,
              "ticks": ""
             }
            },
            "marker": {
             "colorbar": {
              "outlinewidth": 0,
              "ticks": ""
             }
            },
            "type": "scatter3d"
           }
          ],
          "scattercarpet": [
           {
            "marker": {
             "colorbar": {
              "outlinewidth": 0,
              "ticks": ""
             }
            },
            "type": "scattercarpet"
           }
          ],
          "scattergeo": [
           {
            "marker": {
             "colorbar": {
              "outlinewidth": 0,
              "ticks": ""
             }
            },
            "type": "scattergeo"
           }
          ],
          "scattergl": [
           {
            "marker": {
             "colorbar": {
              "outlinewidth": 0,
              "ticks": ""
             }
            },
            "type": "scattergl"
           }
          ],
          "scattermapbox": [
           {
            "marker": {
             "colorbar": {
              "outlinewidth": 0,
              "ticks": ""
             }
            },
            "type": "scattermapbox"
           }
          ],
          "scatterpolar": [
           {
            "marker": {
             "colorbar": {
              "outlinewidth": 0,
              "ticks": ""
             }
            },
            "type": "scatterpolar"
           }
          ],
          "scatterpolargl": [
           {
            "marker": {
             "colorbar": {
              "outlinewidth": 0,
              "ticks": ""
             }
            },
            "type": "scatterpolargl"
           }
          ],
          "scatterternary": [
           {
            "marker": {
             "colorbar": {
              "outlinewidth": 0,
              "ticks": ""
             }
            },
            "type": "scatterternary"
           }
          ],
          "surface": [
           {
            "colorbar": {
             "outlinewidth": 0,
             "ticks": ""
            },
            "colorscale": [
             [
              0,
              "#0d0887"
             ],
             [
              0.1111111111111111,
              "#46039f"
             ],
             [
              0.2222222222222222,
              "#7201a8"
             ],
             [
              0.3333333333333333,
              "#9c179e"
             ],
             [
              0.4444444444444444,
              "#bd3786"
             ],
             [
              0.5555555555555556,
              "#d8576b"
             ],
             [
              0.6666666666666666,
              "#ed7953"
             ],
             [
              0.7777777777777778,
              "#fb9f3a"
             ],
             [
              0.8888888888888888,
              "#fdca26"
             ],
             [
              1,
              "#f0f921"
             ]
            ],
            "type": "surface"
           }
          ],
          "table": [
           {
            "cells": {
             "fill": {
              "color": "#EBF0F8"
             },
             "line": {
              "color": "white"
             }
            },
            "header": {
             "fill": {
              "color": "#C8D4E3"
             },
             "line": {
              "color": "white"
             }
            },
            "type": "table"
           }
          ]
         },
         "layout": {
          "annotationdefaults": {
           "arrowcolor": "#2a3f5f",
           "arrowhead": 0,
           "arrowwidth": 1
          },
          "autotypenumbers": "strict",
          "coloraxis": {
           "colorbar": {
            "outlinewidth": 0,
            "ticks": ""
           }
          },
          "colorscale": {
           "diverging": [
            [
             0,
             "#8e0152"
            ],
            [
             0.1,
             "#c51b7d"
            ],
            [
             0.2,
             "#de77ae"
            ],
            [
             0.3,
             "#f1b6da"
            ],
            [
             0.4,
             "#fde0ef"
            ],
            [
             0.5,
             "#f7f7f7"
            ],
            [
             0.6,
             "#e6f5d0"
            ],
            [
             0.7,
             "#b8e186"
            ],
            [
             0.8,
             "#7fbc41"
            ],
            [
             0.9,
             "#4d9221"
            ],
            [
             1,
             "#276419"
            ]
           ],
           "sequential": [
            [
             0,
             "#0d0887"
            ],
            [
             0.1111111111111111,
             "#46039f"
            ],
            [
             0.2222222222222222,
             "#7201a8"
            ],
            [
             0.3333333333333333,
             "#9c179e"
            ],
            [
             0.4444444444444444,
             "#bd3786"
            ],
            [
             0.5555555555555556,
             "#d8576b"
            ],
            [
             0.6666666666666666,
             "#ed7953"
            ],
            [
             0.7777777777777778,
             "#fb9f3a"
            ],
            [
             0.8888888888888888,
             "#fdca26"
            ],
            [
             1,
             "#f0f921"
            ]
           ],
           "sequentialminus": [
            [
             0,
             "#0d0887"
            ],
            [
             0.1111111111111111,
             "#46039f"
            ],
            [
             0.2222222222222222,
             "#7201a8"
            ],
            [
             0.3333333333333333,
             "#9c179e"
            ],
            [
             0.4444444444444444,
             "#bd3786"
            ],
            [
             0.5555555555555556,
             "#d8576b"
            ],
            [
             0.6666666666666666,
             "#ed7953"
            ],
            [
             0.7777777777777778,
             "#fb9f3a"
            ],
            [
             0.8888888888888888,
             "#fdca26"
            ],
            [
             1,
             "#f0f921"
            ]
           ]
          },
          "colorway": [
           "#636efa",
           "#EF553B",
           "#00cc96",
           "#ab63fa",
           "#FFA15A",
           "#19d3f3",
           "#FF6692",
           "#B6E880",
           "#FF97FF",
           "#FECB52"
          ],
          "font": {
           "color": "#2a3f5f"
          },
          "geo": {
           "bgcolor": "white",
           "lakecolor": "white",
           "landcolor": "#E5ECF6",
           "showlakes": true,
           "showland": true,
           "subunitcolor": "white"
          },
          "hoverlabel": {
           "align": "left"
          },
          "hovermode": "closest",
          "mapbox": {
           "style": "light"
          },
          "paper_bgcolor": "white",
          "plot_bgcolor": "#E5ECF6",
          "polar": {
           "angularaxis": {
            "gridcolor": "white",
            "linecolor": "white",
            "ticks": ""
           },
           "bgcolor": "#E5ECF6",
           "radialaxis": {
            "gridcolor": "white",
            "linecolor": "white",
            "ticks": ""
           }
          },
          "scene": {
           "xaxis": {
            "backgroundcolor": "#E5ECF6",
            "gridcolor": "white",
            "gridwidth": 2,
            "linecolor": "white",
            "showbackground": true,
            "ticks": "",
            "zerolinecolor": "white"
           },
           "yaxis": {
            "backgroundcolor": "#E5ECF6",
            "gridcolor": "white",
            "gridwidth": 2,
            "linecolor": "white",
            "showbackground": true,
            "ticks": "",
            "zerolinecolor": "white"
           },
           "zaxis": {
            "backgroundcolor": "#E5ECF6",
            "gridcolor": "white",
            "gridwidth": 2,
            "linecolor": "white",
            "showbackground": true,
            "ticks": "",
            "zerolinecolor": "white"
           }
          },
          "shapedefaults": {
           "line": {
            "color": "#2a3f5f"
           }
          },
          "ternary": {
           "aaxis": {
            "gridcolor": "white",
            "linecolor": "white",
            "ticks": ""
           },
           "baxis": {
            "gridcolor": "white",
            "linecolor": "white",
            "ticks": ""
           },
           "bgcolor": "#E5ECF6",
           "caxis": {
            "gridcolor": "white",
            "linecolor": "white",
            "ticks": ""
           }
          },
          "title": {
           "x": 0.05
          },
          "xaxis": {
           "automargin": true,
           "gridcolor": "white",
           "linecolor": "white",
           "ticks": "",
           "title": {
            "standoff": 15
           },
           "zerolinecolor": "white",
           "zerolinewidth": 2
          },
          "yaxis": {
           "automargin": true,
           "gridcolor": "white",
           "linecolor": "white",
           "ticks": "",
           "title": {
            "standoff": 15
           },
           "zerolinecolor": "white",
           "zerolinewidth": 2
          }
         }
        },
        "xaxis": {
         "anchor": "y",
         "domain": [
          0,
          1
         ],
         "title": {
          "text": "Componentes Principais"
         }
        },
        "yaxis": {
         "anchor": "x",
         "domain": [
          0,
          1
         ],
         "title": {
          "text": "Variância Explicada Acumulada"
         }
        }
       }
      }
     },
     "metadata": {},
     "output_type": "display_data"
    }
   ],
   "source": [
    "# Plotando o gráfico da variância explicada acumulada\n",
    "px.area(\n",
    "    x=range(1, pca.explained_variance_ratio_.cumsum().shape[0] + 1),\n",
    "    y=pca.explained_variance_ratio_.cumsum(),\n",
    "    labels={\"x\": \"Componentes Principais\", \"y\": \"Variância Explicada Acumulada\"}\n",
    ")\n"
   ]
  },
  {
   "cell_type": "code",
   "execution_count": 1141,
   "metadata": {},
   "outputs": [
    {
     "data": {
      "text/plain": [
       "4"
      ]
     },
     "execution_count": 1141,
     "metadata": {},
     "output_type": "execute_result"
    }
   ],
   "source": [
    "n = 4\n",
    "\n",
    "# Aplicando a PCA com n componentes\n",
    "pca = PCA(n_components=n)\n",
    "components = pca.fit_transform(df_sample)\n",
    "\n",
    "components.shape[1]"
   ]
  },
  {
   "cell_type": "markdown",
   "metadata": {},
   "source": [
    "Dataframe agora utilizando os componentes principais para explicar os dados de criminalidade nas cidades."
   ]
  },
  {
   "cell_type": "code",
   "execution_count": 1142,
   "metadata": {},
   "outputs": [
    {
     "data": {
      "text/html": [
       "<div>\n",
       "<style scoped>\n",
       "    .dataframe tbody tr th:only-of-type {\n",
       "        vertical-align: middle;\n",
       "    }\n",
       "\n",
       "    .dataframe tbody tr th {\n",
       "        vertical-align: top;\n",
       "    }\n",
       "\n",
       "    .dataframe thead th {\n",
       "        text-align: right;\n",
       "    }\n",
       "</style>\n",
       "<table border=\"1\" class=\"dataframe\">\n",
       "  <thead>\n",
       "    <tr style=\"text-align: right;\">\n",
       "      <th></th>\n",
       "      <th>PC1</th>\n",
       "      <th>PC2</th>\n",
       "      <th>PC3</th>\n",
       "      <th>PC4</th>\n",
       "    </tr>\n",
       "    <tr>\n",
       "      <th>municipios</th>\n",
       "      <th></th>\n",
       "      <th></th>\n",
       "      <th></th>\n",
       "      <th></th>\n",
       "    </tr>\n",
       "  </thead>\n",
       "  <tbody>\n",
       "    <tr>\n",
       "      <th>hulha negra</th>\n",
       "      <td>-0.601557</td>\n",
       "      <td>0.075443</td>\n",
       "      <td>-0.145768</td>\n",
       "      <td>-0.006247</td>\n",
       "    </tr>\n",
       "    <tr>\n",
       "      <th>sao valentim do sul</th>\n",
       "      <td>-0.682314</td>\n",
       "      <td>-0.512254</td>\n",
       "      <td>-0.072228</td>\n",
       "      <td>-0.019699</td>\n",
       "    </tr>\n",
       "    <tr>\n",
       "      <th>xangri-la</th>\n",
       "      <td>0.044404</td>\n",
       "      <td>-0.434083</td>\n",
       "      <td>-0.035557</td>\n",
       "      <td>0.017995</td>\n",
       "    </tr>\n",
       "    <tr>\n",
       "      <th>nova padua</th>\n",
       "      <td>-0.710398</td>\n",
       "      <td>-0.512442</td>\n",
       "      <td>-0.073661</td>\n",
       "      <td>-0.017818</td>\n",
       "    </tr>\n",
       "    <tr>\n",
       "      <th>catuipe</th>\n",
       "      <td>-0.479446</td>\n",
       "      <td>-0.042584</td>\n",
       "      <td>-0.122929</td>\n",
       "      <td>-0.173788</td>\n",
       "    </tr>\n",
       "  </tbody>\n",
       "</table>\n",
       "</div>"
      ],
      "text/plain": [
       "                          PC1       PC2       PC3       PC4\n",
       "municipios                                                 \n",
       "hulha negra         -0.601557  0.075443 -0.145768 -0.006247\n",
       "sao valentim do sul -0.682314 -0.512254 -0.072228 -0.019699\n",
       "xangri-la            0.044404 -0.434083 -0.035557  0.017995\n",
       "nova padua          -0.710398 -0.512442 -0.073661 -0.017818\n",
       "catuipe             -0.479446 -0.042584 -0.122929 -0.173788"
      ]
     },
     "execution_count": 1142,
     "metadata": {},
     "output_type": "execute_result"
    }
   ],
   "source": [
    "df_pca = pd.DataFrame(data = components, columns = ['PC1', 'PC2', 'PC3', 'PC4'])\n",
    "df_pca['municipios'] = df_sample.index\n",
    "df_pca.set_index('municipios', inplace=True)\n",
    "df_pca.head()"
   ]
  },
  {
   "cell_type": "code",
   "execution_count": 1143,
   "metadata": {},
   "outputs": [
    {
     "data": {
      "application/vnd.plotly.v1+json": {
       "config": {
        "plotlyServerURL": "https://plot.ly"
       },
       "data": [
        {
         "diagonal": {
          "visible": false
         },
         "dimensions": [
          {
           "axis": {
            "matches": true
           },
           "label": "PC1",
           "values": [
            -0.6015571329880843
           ]
          },
          {
           "axis": {
            "matches": true
           },
           "label": "PC2",
           "values": [
            0.07544342454418364
           ]
          },
          {
           "axis": {
            "matches": true
           },
           "label": "PC3",
           "values": [
            -0.1457683149997052
           ]
          },
          {
           "axis": {
            "matches": true
           },
           "label": "PC4",
           "values": [
            -0.006247192156471998
           ]
          }
         ],
         "hovertemplate": "municipios=hulha negra<br>%{xaxis.title.text}=%{x}<br>%{yaxis.title.text}=%{y}<extra></extra>",
         "legendgroup": "hulha negra",
         "marker": {
          "color": "#636efa",
          "symbol": "circle"
         },
         "name": "hulha negra",
         "showlegend": true,
         "type": "splom"
        },
        {
         "diagonal": {
          "visible": false
         },
         "dimensions": [
          {
           "axis": {
            "matches": true
           },
           "label": "PC1",
           "values": [
            -0.6823135300808116
           ]
          },
          {
           "axis": {
            "matches": true
           },
           "label": "PC2",
           "values": [
            -0.5122535820251152
           ]
          },
          {
           "axis": {
            "matches": true
           },
           "label": "PC3",
           "values": [
            -0.07222818536548732
           ]
          },
          {
           "axis": {
            "matches": true
           },
           "label": "PC4",
           "values": [
            -0.01969936068751882
           ]
          }
         ],
         "hovertemplate": "municipios=sao valentim do sul<br>%{xaxis.title.text}=%{x}<br>%{yaxis.title.text}=%{y}<extra></extra>",
         "legendgroup": "sao valentim do sul",
         "marker": {
          "color": "#EF553B",
          "symbol": "circle"
         },
         "name": "sao valentim do sul",
         "showlegend": true,
         "type": "splom"
        },
        {
         "diagonal": {
          "visible": false
         },
         "dimensions": [
          {
           "axis": {
            "matches": true
           },
           "label": "PC1",
           "values": [
            0.044403657941866397
           ]
          },
          {
           "axis": {
            "matches": true
           },
           "label": "PC2",
           "values": [
            -0.4340834300289579
           ]
          },
          {
           "axis": {
            "matches": true
           },
           "label": "PC3",
           "values": [
            -0.035557087912621445
           ]
          },
          {
           "axis": {
            "matches": true
           },
           "label": "PC4",
           "values": [
            0.01799498333419731
           ]
          }
         ],
         "hovertemplate": "municipios=xangri-la<br>%{xaxis.title.text}=%{x}<br>%{yaxis.title.text}=%{y}<extra></extra>",
         "legendgroup": "xangri-la",
         "marker": {
          "color": "#00cc96",
          "symbol": "circle"
         },
         "name": "xangri-la",
         "showlegend": true,
         "type": "splom"
        },
        {
         "diagonal": {
          "visible": false
         },
         "dimensions": [
          {
           "axis": {
            "matches": true
           },
           "label": "PC1",
           "values": [
            -0.710397625743418
           ]
          },
          {
           "axis": {
            "matches": true
           },
           "label": "PC2",
           "values": [
            -0.5124422393091559
           ]
          },
          {
           "axis": {
            "matches": true
           },
           "label": "PC3",
           "values": [
            -0.07366085131981073
           ]
          },
          {
           "axis": {
            "matches": true
           },
           "label": "PC4",
           "values": [
            -0.017818482462129356
           ]
          }
         ],
         "hovertemplate": "municipios=nova padua<br>%{xaxis.title.text}=%{x}<br>%{yaxis.title.text}=%{y}<extra></extra>",
         "legendgroup": "nova padua",
         "marker": {
          "color": "#ab63fa",
          "symbol": "circle"
         },
         "name": "nova padua",
         "showlegend": true,
         "type": "splom"
        },
        {
         "diagonal": {
          "visible": false
         },
         "dimensions": [
          {
           "axis": {
            "matches": true
           },
           "label": "PC1",
           "values": [
            -0.47944601021596367
           ]
          },
          {
           "axis": {
            "matches": true
           },
           "label": "PC2",
           "values": [
            -0.042583954964438266
           ]
          },
          {
           "axis": {
            "matches": true
           },
           "label": "PC3",
           "values": [
            -0.12292949313623501
           ]
          },
          {
           "axis": {
            "matches": true
           },
           "label": "PC4",
           "values": [
            -0.1737882901485497
           ]
          }
         ],
         "hovertemplate": "municipios=catuipe<br>%{xaxis.title.text}=%{x}<br>%{yaxis.title.text}=%{y}<extra></extra>",
         "legendgroup": "catuipe",
         "marker": {
          "color": "#FFA15A",
          "symbol": "circle"
         },
         "name": "catuipe",
         "showlegend": true,
         "type": "splom"
        },
        {
         "diagonal": {
          "visible": false
         },
         "dimensions": [
          {
           "axis": {
            "matches": true
           },
           "label": "PC1",
           "values": [
            -0.5868409829748968
           ]
          },
          {
           "axis": {
            "matches": true
           },
           "label": "PC2",
           "values": [
            -0.43621161192641705
           ]
          },
          {
           "axis": {
            "matches": true
           },
           "label": "PC3",
           "values": [
            -0.07794754089846395
           ]
          },
          {
           "axis": {
            "matches": true
           },
           "label": "PC4",
           "values": [
            -0.15972343985462642
           ]
          }
         ],
         "hovertemplate": "municipios=esmeralda<br>%{xaxis.title.text}=%{x}<br>%{yaxis.title.text}=%{y}<extra></extra>",
         "legendgroup": "esmeralda",
         "marker": {
          "color": "#19d3f3",
          "symbol": "circle"
         },
         "name": "esmeralda",
         "showlegend": true,
         "type": "splom"
        },
        {
         "diagonal": {
          "visible": false
         },
         "dimensions": [
          {
           "axis": {
            "matches": true
           },
           "label": "PC1",
           "values": [
            -0.6813806005832481
           ]
          },
          {
           "axis": {
            "matches": true
           },
           "label": "PC2",
           "values": [
            -0.5094190461546356
           ]
          },
          {
           "axis": {
            "matches": true
           },
           "label": "PC3",
           "values": [
            -0.07319785436253551
           ]
          },
          {
           "axis": {
            "matches": true
           },
           "label": "PC4",
           "values": [
            -0.045610105140635585
           ]
          }
         ],
         "hovertemplate": "municipios=lajeado do bugre<br>%{xaxis.title.text}=%{x}<br>%{yaxis.title.text}=%{y}<extra></extra>",
         "legendgroup": "lajeado do bugre",
         "marker": {
          "color": "#FF6692",
          "symbol": "circle"
         },
         "name": "lajeado do bugre",
         "showlegend": true,
         "type": "splom"
        },
        {
         "diagonal": {
          "visible": false
         },
         "dimensions": [
          {
           "axis": {
            "matches": true
           },
           "label": "PC1",
           "values": [
            1.6694844657284507
           ]
          },
          {
           "axis": {
            "matches": true
           },
           "label": "PC2",
           "values": [
            0.25945073914533334
           ]
          },
          {
           "axis": {
            "matches": true
           },
           "label": "PC3",
           "values": [
            -0.03873409794846539
           ]
          },
          {
           "axis": {
            "matches": true
           },
           "label": "PC4",
           "values": [
            -1.027020892588431
           ]
          }
         ],
         "hovertemplate": "municipios=cruz alta<br>%{xaxis.title.text}=%{x}<br>%{yaxis.title.text}=%{y}<extra></extra>",
         "legendgroup": "cruz alta",
         "marker": {
          "color": "#B6E880",
          "symbol": "circle"
         },
         "name": "cruz alta",
         "showlegend": true,
         "type": "splom"
        },
        {
         "diagonal": {
          "visible": false
         },
         "dimensions": [
          {
           "axis": {
            "matches": true
           },
           "label": "PC1",
           "values": [
            -0.6808111882307566
           ]
          },
          {
           "axis": {
            "matches": true
           },
           "label": "PC2",
           "values": [
            -0.44398524932702743
           ]
          },
          {
           "axis": {
            "matches": true
           },
           "label": "PC3",
           "values": [
            -0.08191465575768749
           ]
          },
          {
           "axis": {
            "matches": true
           },
           "label": "PC4",
           "values": [
            -0.03993200888393921
           ]
          }
         ],
         "hovertemplate": "municipios=nova ramada<br>%{xaxis.title.text}=%{x}<br>%{yaxis.title.text}=%{y}<extra></extra>",
         "legendgroup": "nova ramada",
         "marker": {
          "color": "#FF97FF",
          "symbol": "circle"
         },
         "name": "nova ramada",
         "showlegend": true,
         "type": "splom"
        },
        {
         "diagonal": {
          "visible": false
         },
         "dimensions": [
          {
           "axis": {
            "matches": true
           },
           "label": "PC1",
           "values": [
            0.15978897242523185
           ]
          },
          {
           "axis": {
            "matches": true
           },
           "label": "PC2",
           "values": [
            2.316469394451525
           ]
          },
          {
           "axis": {
            "matches": true
           },
           "label": "PC3",
           "values": [
            -0.3941495580259802
           ]
          },
          {
           "axis": {
            "matches": true
           },
           "label": "PC4",
           "values": [
            0.2697818387365875
           ]
          }
         ],
         "hovertemplate": "municipios=jaguarao<br>%{xaxis.title.text}=%{x}<br>%{yaxis.title.text}=%{y}<extra></extra>",
         "legendgroup": "jaguarao",
         "marker": {
          "color": "#FECB52",
          "symbol": "circle"
         },
         "name": "jaguarao",
         "showlegend": true,
         "type": "splom"
        },
        {
         "diagonal": {
          "visible": false
         },
         "dimensions": [
          {
           "axis": {
            "matches": true
           },
           "label": "PC1",
           "values": [
            -0.17050639286477548
           ]
          },
          {
           "axis": {
            "matches": true
           },
           "label": "PC2",
           "values": [
            -0.4777177695915569
           ]
          },
          {
           "axis": {
            "matches": true
           },
           "label": "PC3",
           "values": [
            -0.03931370188405529
           ]
          },
          {
           "axis": {
            "matches": true
           },
           "label": "PC4",
           "values": [
            0.023808203488512193
           ]
          }
         ],
         "hovertemplate": "municipios=nova petropolis<br>%{xaxis.title.text}=%{x}<br>%{yaxis.title.text}=%{y}<extra></extra>",
         "legendgroup": "nova petropolis",
         "marker": {
          "color": "#636efa",
          "symbol": "circle"
         },
         "name": "nova petropolis",
         "showlegend": true,
         "type": "splom"
        },
        {
         "diagonal": {
          "visible": false
         },
         "dimensions": [
          {
           "axis": {
            "matches": true
           },
           "label": "PC1",
           "values": [
            1.1056083366668528
           ]
          },
          {
           "axis": {
            "matches": true
           },
           "label": "PC2",
           "values": [
            -0.44189258972001066
           ]
          },
          {
           "axis": {
            "matches": true
           },
           "label": "PC3",
           "values": [
            0.03414800631289142
           ]
          },
          {
           "axis": {
            "matches": true
           },
           "label": "PC4",
           "values": [
            0.9543365135720316
           ]
          }
         ],
         "hovertemplate": "municipios=charqueadas<br>%{xaxis.title.text}=%{x}<br>%{yaxis.title.text}=%{y}<extra></extra>",
         "legendgroup": "charqueadas",
         "marker": {
          "color": "#EF553B",
          "symbol": "circle"
         },
         "name": "charqueadas",
         "showlegend": true,
         "type": "splom"
        },
        {
         "diagonal": {
          "visible": false
         },
         "dimensions": [
          {
           "axis": {
            "matches": true
           },
           "label": "PC1",
           "values": [
            1.0877941016273625
           ]
          },
          {
           "axis": {
            "matches": true
           },
           "label": "PC2",
           "values": [
            0.048692805731748647
           ]
          },
          {
           "axis": {
            "matches": true
           },
           "label": "PC3",
           "values": [
            -0.03630385657516457
           ]
          },
          {
           "axis": {
            "matches": true
           },
           "label": "PC4",
           "values": [
            0.34632522274559835
           ]
          }
         ],
         "hovertemplate": "municipios=torres<br>%{xaxis.title.text}=%{x}<br>%{yaxis.title.text}=%{y}<extra></extra>",
         "legendgroup": "torres",
         "marker": {
          "color": "#00cc96",
          "symbol": "circle"
         },
         "name": "torres",
         "showlegend": true,
         "type": "splom"
        },
        {
         "diagonal": {
          "visible": false
         },
         "dimensions": [
          {
           "axis": {
            "matches": true
           },
           "label": "PC1",
           "values": [
            0.1931739970920271
           ]
          },
          {
           "axis": {
            "matches": true
           },
           "label": "PC2",
           "values": [
            -0.49875874117800256
           ]
          },
          {
           "axis": {
            "matches": true
           },
           "label": "PC3",
           "values": [
            -0.01776728932442881
           ]
          },
          {
           "axis": {
            "matches": true
           },
           "label": "PC4",
           "values": [
            0.008377408780860485
           ]
          }
         ],
         "hovertemplate": "municipios=sarandi<br>%{xaxis.title.text}=%{x}<br>%{yaxis.title.text}=%{y}<extra></extra>",
         "legendgroup": "sarandi",
         "marker": {
          "color": "#ab63fa",
          "symbol": "circle"
         },
         "name": "sarandi",
         "showlegend": true,
         "type": "splom"
        },
        {
         "diagonal": {
          "visible": false
         },
         "dimensions": [
          {
           "axis": {
            "matches": true
           },
           "label": "PC1",
           "values": [
            -0.666416482603391
           ]
          },
          {
           "axis": {
            "matches": true
           },
           "label": "PC2",
           "values": [
            -0.3818666890174495
           ]
          },
          {
           "axis": {
            "matches": true
           },
           "label": "PC3",
           "values": [
            -0.08840210448337463
           ]
          },
          {
           "axis": {
            "matches": true
           },
           "label": "PC4",
           "values": [
            -0.030490914713299715
           ]
          }
         ],
         "hovertemplate": "municipios=fortaleza dos valos<br>%{xaxis.title.text}=%{x}<br>%{yaxis.title.text}=%{y}<extra></extra>",
         "legendgroup": "fortaleza dos valos",
         "marker": {
          "color": "#FFA15A",
          "symbol": "circle"
         },
         "name": "fortaleza dos valos",
         "showlegend": true,
         "type": "splom"
        },
        {
         "diagonal": {
          "visible": false
         },
         "dimensions": [
          {
           "axis": {
            "matches": true
           },
           "label": "PC1",
           "values": [
            -0.6906898799804267
           ]
          },
          {
           "axis": {
            "matches": true
           },
           "label": "PC2",
           "values": [
            -0.4447901151504183
           ]
          },
          {
           "axis": {
            "matches": true
           },
           "label": "PC3",
           "values": [
            -0.08231063310375111
           ]
          },
          {
           "axis": {
            "matches": true
           },
           "label": "PC4",
           "values": [
            -0.03452258691806869
           ]
          }
         ],
         "hovertemplate": "municipios=almirante tamandare do sul<br>%{xaxis.title.text}=%{x}<br>%{yaxis.title.text}=%{y}<extra></extra>",
         "legendgroup": "almirante tamandare do sul",
         "marker": {
          "color": "#19d3f3",
          "symbol": "circle"
         },
         "name": "almirante tamandare do sul",
         "showlegend": true,
         "type": "splom"
        },
        {
         "diagonal": {
          "visible": false
         },
         "dimensions": [
          {
           "axis": {
            "matches": true
           },
           "label": "PC1",
           "values": [
            1.499242778238174
           ]
          },
          {
           "axis": {
            "matches": true
           },
           "label": "PC2",
           "values": [
            -0.6255616529597661
           ]
          },
          {
           "axis": {
            "matches": true
           },
           "label": "PC3",
           "values": [
            0.08000813380577844
           ]
          },
          {
           "axis": {
            "matches": true
           },
           "label": "PC4",
           "values": [
            -0.5572460049044164
           ]
          }
         ],
         "hovertemplate": "municipios=esteio<br>%{xaxis.title.text}=%{x}<br>%{yaxis.title.text}=%{y}<extra></extra>",
         "legendgroup": "esteio",
         "marker": {
          "color": "#FF6692",
          "symbol": "circle"
         },
         "name": "esteio",
         "showlegend": true,
         "type": "splom"
        },
        {
         "diagonal": {
          "visible": false
         },
         "dimensions": [
          {
           "axis": {
            "matches": true
           },
           "label": "PC1",
           "values": [
            0.5492902964117182
           ]
          },
          {
           "axis": {
            "matches": true
           },
           "label": "PC2",
           "values": [
            0.0420267466271249
           ]
          },
          {
           "axis": {
            "matches": true
           },
           "label": "PC3",
           "values": [
            -0.06334163414298637
           ]
          },
          {
           "axis": {
            "matches": true
           },
           "label": "PC4",
           "values": [
            0.32696754576653386
           ]
          }
         ],
         "hovertemplate": "municipios=frederico westphalen<br>%{xaxis.title.text}=%{x}<br>%{yaxis.title.text}=%{y}<extra></extra>",
         "legendgroup": "frederico westphalen",
         "marker": {
          "color": "#B6E880",
          "symbol": "circle"
         },
         "name": "frederico westphalen",
         "showlegend": true,
         "type": "splom"
        },
        {
         "diagonal": {
          "visible": false
         },
         "dimensions": [
          {
           "axis": {
            "matches": true
           },
           "label": "PC1",
           "values": [
            1.367335699313687
           ]
          },
          {
           "axis": {
            "matches": true
           },
           "label": "PC2",
           "values": [
            -0.6239739454620535
           ]
          },
          {
           "axis": {
            "matches": true
           },
           "label": "PC3",
           "values": [
            0.07422265194066913
           ]
          },
          {
           "axis": {
            "matches": true
           },
           "label": "PC4",
           "values": [
            0.43867722456665315
           ]
          }
         ],
         "hovertemplate": "municipios=canela<br>%{xaxis.title.text}=%{x}<br>%{yaxis.title.text}=%{y}<extra></extra>",
         "legendgroup": "canela",
         "marker": {
          "color": "#FF97FF",
          "symbol": "circle"
         },
         "name": "canela",
         "showlegend": true,
         "type": "splom"
        },
        {
         "diagonal": {
          "visible": false
         },
         "dimensions": [
          {
           "axis": {
            "matches": true
           },
           "label": "PC1",
           "values": [
            -0.1695858587190373
           ]
          },
          {
           "axis": {
            "matches": true
           },
           "label": "PC2",
           "values": [
            1.7703825573168863
           ]
          },
          {
           "axis": {
            "matches": true
           },
           "label": "PC3",
           "values": [
            -0.3437294474212035
           ]
          },
          {
           "axis": {
            "matches": true
           },
           "label": "PC4",
           "values": [
            -0.05616639114497561
           ]
          }
         ],
         "hovertemplate": "municipios=piratini<br>%{xaxis.title.text}=%{x}<br>%{yaxis.title.text}=%{y}<extra></extra>",
         "legendgroup": "piratini",
         "marker": {
          "color": "#FECB52",
          "symbol": "circle"
         },
         "name": "piratini",
         "showlegend": true,
         "type": "splom"
        },
        {
         "diagonal": {
          "visible": false
         },
         "dimensions": [
          {
           "axis": {
            "matches": true
           },
           "label": "PC1",
           "values": [
            -0.6492194348272706
           ]
          },
          {
           "axis": {
            "matches": true
           },
           "label": "PC2",
           "values": [
            -0.11895217362825904
           ]
          },
          {
           "axis": {
            "matches": true
           },
           "label": "PC3",
           "values": [
            -0.12223497363392932
           ]
          },
          {
           "axis": {
            "matches": true
           },
           "label": "PC4",
           "values": [
            -0.019683339021454305
           ]
          }
         ],
         "hovertemplate": "municipios=vale verde<br>%{xaxis.title.text}=%{x}<br>%{yaxis.title.text}=%{y}<extra></extra>",
         "legendgroup": "vale verde",
         "marker": {
          "color": "#636efa",
          "symbol": "circle"
         },
         "name": "vale verde",
         "showlegend": true,
         "type": "splom"
        },
        {
         "diagonal": {
          "visible": false
         },
         "dimensions": [
          {
           "axis": {
            "matches": true
           },
           "label": "PC1",
           "values": [
            -0.3689186251462739
           ]
          },
          {
           "axis": {
            "matches": true
           },
           "label": "PC2",
           "values": [
            0.39571992579064214
           ]
          },
          {
           "axis": {
            "matches": true
           },
           "label": "PC3",
           "values": [
            -0.17125214481704693
           ]
          },
          {
           "axis": {
            "matches": true
           },
           "label": "PC4",
           "values": [
            -0.038711557776034376
           ]
          }
         ],
         "hovertemplate": "municipios=restinga seca<br>%{xaxis.title.text}=%{x}<br>%{yaxis.title.text}=%{y}<extra></extra>",
         "legendgroup": "restinga seca",
         "marker": {
          "color": "#EF553B",
          "symbol": "circle"
         },
         "name": "restinga seca",
         "showlegend": true,
         "type": "splom"
        },
        {
         "diagonal": {
          "visible": false
         },
         "dimensions": [
          {
           "axis": {
            "matches": true
           },
           "label": "PC1",
           "values": [
            0.334337969425342
           ]
          },
          {
           "axis": {
            "matches": true
           },
           "label": "PC2",
           "values": [
            0.4274804072973945
           ]
          },
          {
           "axis": {
            "matches": true
           },
           "label": "PC3",
           "values": [
            -0.12822985865529632
           ]
          },
          {
           "axis": {
            "matches": true
           },
           "label": "PC4",
           "values": [
            -0.15280594869149305
           ]
          }
         ],
         "hovertemplate": "municipios=santo antonio da patrulha<br>%{xaxis.title.text}=%{x}<br>%{yaxis.title.text}=%{y}<extra></extra>",
         "legendgroup": "santo antonio da patrulha",
         "marker": {
          "color": "#00cc96",
          "symbol": "circle"
         },
         "name": "santo antonio da patrulha",
         "showlegend": true,
         "type": "splom"
        },
        {
         "diagonal": {
          "visible": false
         },
         "dimensions": [
          {
           "axis": {
            "matches": true
           },
           "label": "PC1",
           "values": [
            -0.49819854596551794
           ]
          },
          {
           "axis": {
            "matches": true
           },
           "label": "PC2",
           "values": [
            0.4660224355955972
           ]
          },
          {
           "axis": {
            "matches": true
           },
           "label": "PC3",
           "values": [
            -0.19162171846155007
           ]
          },
          {
           "axis": {
            "matches": true
           },
           "label": "PC4",
           "values": [
            0.0006223487506604748
           ]
          }
         ],
         "hovertemplate": "municipios=passo do sobrado<br>%{xaxis.title.text}=%{x}<br>%{yaxis.title.text}=%{y}<extra></extra>",
         "legendgroup": "passo do sobrado",
         "marker": {
          "color": "#ab63fa",
          "symbol": "circle"
         },
         "name": "passo do sobrado",
         "showlegend": true,
         "type": "splom"
        },
        {
         "diagonal": {
          "visible": false
         },
         "dimensions": [
          {
           "axis": {
            "matches": true
           },
           "label": "PC1",
           "values": [
            -0.374177983946841
           ]
          },
          {
           "axis": {
            "matches": true
           },
           "label": "PC2",
           "values": [
            0.7028043539428288
           ]
          },
          {
           "axis": {
            "matches": true
           },
           "label": "PC3",
           "values": [
            2.21221621017044
           ]
          },
          {
           "axis": {
            "matches": true
           },
           "label": "PC4",
           "values": [
            -0.007424774649590356
           ]
          }
         ],
         "hovertemplate": "municipios=sao sepe<br>%{xaxis.title.text}=%{x}<br>%{yaxis.title.text}=%{y}<extra></extra>",
         "legendgroup": "sao sepe",
         "marker": {
          "color": "#FFA15A",
          "symbol": "circle"
         },
         "name": "sao sepe",
         "showlegend": true,
         "type": "splom"
        }
       ],
       "layout": {
        "dragmode": "select",
        "legend": {
         "title": {
          "text": "municipios"
         },
         "tracegroupgap": 0
        },
        "template": {
         "data": {
          "bar": [
           {
            "error_x": {
             "color": "#2a3f5f"
            },
            "error_y": {
             "color": "#2a3f5f"
            },
            "marker": {
             "line": {
              "color": "#E5ECF6",
              "width": 0.5
             },
             "pattern": {
              "fillmode": "overlay",
              "size": 10,
              "solidity": 0.2
             }
            },
            "type": "bar"
           }
          ],
          "barpolar": [
           {
            "marker": {
             "line": {
              "color": "#E5ECF6",
              "width": 0.5
             },
             "pattern": {
              "fillmode": "overlay",
              "size": 10,
              "solidity": 0.2
             }
            },
            "type": "barpolar"
           }
          ],
          "carpet": [
           {
            "aaxis": {
             "endlinecolor": "#2a3f5f",
             "gridcolor": "white",
             "linecolor": "white",
             "minorgridcolor": "white",
             "startlinecolor": "#2a3f5f"
            },
            "baxis": {
             "endlinecolor": "#2a3f5f",
             "gridcolor": "white",
             "linecolor": "white",
             "minorgridcolor": "white",
             "startlinecolor": "#2a3f5f"
            },
            "type": "carpet"
           }
          ],
          "choropleth": [
           {
            "colorbar": {
             "outlinewidth": 0,
             "ticks": ""
            },
            "type": "choropleth"
           }
          ],
          "contour": [
           {
            "colorbar": {
             "outlinewidth": 0,
             "ticks": ""
            },
            "colorscale": [
             [
              0,
              "#0d0887"
             ],
             [
              0.1111111111111111,
              "#46039f"
             ],
             [
              0.2222222222222222,
              "#7201a8"
             ],
             [
              0.3333333333333333,
              "#9c179e"
             ],
             [
              0.4444444444444444,
              "#bd3786"
             ],
             [
              0.5555555555555556,
              "#d8576b"
             ],
             [
              0.6666666666666666,
              "#ed7953"
             ],
             [
              0.7777777777777778,
              "#fb9f3a"
             ],
             [
              0.8888888888888888,
              "#fdca26"
             ],
             [
              1,
              "#f0f921"
             ]
            ],
            "type": "contour"
           }
          ],
          "contourcarpet": [
           {
            "colorbar": {
             "outlinewidth": 0,
             "ticks": ""
            },
            "type": "contourcarpet"
           }
          ],
          "heatmap": [
           {
            "colorbar": {
             "outlinewidth": 0,
             "ticks": ""
            },
            "colorscale": [
             [
              0,
              "#0d0887"
             ],
             [
              0.1111111111111111,
              "#46039f"
             ],
             [
              0.2222222222222222,
              "#7201a8"
             ],
             [
              0.3333333333333333,
              "#9c179e"
             ],
             [
              0.4444444444444444,
              "#bd3786"
             ],
             [
              0.5555555555555556,
              "#d8576b"
             ],
             [
              0.6666666666666666,
              "#ed7953"
             ],
             [
              0.7777777777777778,
              "#fb9f3a"
             ],
             [
              0.8888888888888888,
              "#fdca26"
             ],
             [
              1,
              "#f0f921"
             ]
            ],
            "type": "heatmap"
           }
          ],
          "heatmapgl": [
           {
            "colorbar": {
             "outlinewidth": 0,
             "ticks": ""
            },
            "colorscale": [
             [
              0,
              "#0d0887"
             ],
             [
              0.1111111111111111,
              "#46039f"
             ],
             [
              0.2222222222222222,
              "#7201a8"
             ],
             [
              0.3333333333333333,
              "#9c179e"
             ],
             [
              0.4444444444444444,
              "#bd3786"
             ],
             [
              0.5555555555555556,
              "#d8576b"
             ],
             [
              0.6666666666666666,
              "#ed7953"
             ],
             [
              0.7777777777777778,
              "#fb9f3a"
             ],
             [
              0.8888888888888888,
              "#fdca26"
             ],
             [
              1,
              "#f0f921"
             ]
            ],
            "type": "heatmapgl"
           }
          ],
          "histogram": [
           {
            "marker": {
             "pattern": {
              "fillmode": "overlay",
              "size": 10,
              "solidity": 0.2
             }
            },
            "type": "histogram"
           }
          ],
          "histogram2d": [
           {
            "colorbar": {
             "outlinewidth": 0,
             "ticks": ""
            },
            "colorscale": [
             [
              0,
              "#0d0887"
             ],
             [
              0.1111111111111111,
              "#46039f"
             ],
             [
              0.2222222222222222,
              "#7201a8"
             ],
             [
              0.3333333333333333,
              "#9c179e"
             ],
             [
              0.4444444444444444,
              "#bd3786"
             ],
             [
              0.5555555555555556,
              "#d8576b"
             ],
             [
              0.6666666666666666,
              "#ed7953"
             ],
             [
              0.7777777777777778,
              "#fb9f3a"
             ],
             [
              0.8888888888888888,
              "#fdca26"
             ],
             [
              1,
              "#f0f921"
             ]
            ],
            "type": "histogram2d"
           }
          ],
          "histogram2dcontour": [
           {
            "colorbar": {
             "outlinewidth": 0,
             "ticks": ""
            },
            "colorscale": [
             [
              0,
              "#0d0887"
             ],
             [
              0.1111111111111111,
              "#46039f"
             ],
             [
              0.2222222222222222,
              "#7201a8"
             ],
             [
              0.3333333333333333,
              "#9c179e"
             ],
             [
              0.4444444444444444,
              "#bd3786"
             ],
             [
              0.5555555555555556,
              "#d8576b"
             ],
             [
              0.6666666666666666,
              "#ed7953"
             ],
             [
              0.7777777777777778,
              "#fb9f3a"
             ],
             [
              0.8888888888888888,
              "#fdca26"
             ],
             [
              1,
              "#f0f921"
             ]
            ],
            "type": "histogram2dcontour"
           }
          ],
          "mesh3d": [
           {
            "colorbar": {
             "outlinewidth": 0,
             "ticks": ""
            },
            "type": "mesh3d"
           }
          ],
          "parcoords": [
           {
            "line": {
             "colorbar": {
              "outlinewidth": 0,
              "ticks": ""
             }
            },
            "type": "parcoords"
           }
          ],
          "pie": [
           {
            "automargin": true,
            "type": "pie"
           }
          ],
          "scatter": [
           {
            "fillpattern": {
             "fillmode": "overlay",
             "size": 10,
             "solidity": 0.2
            },
            "type": "scatter"
           }
          ],
          "scatter3d": [
           {
            "line": {
             "colorbar": {
              "outlinewidth": 0,
              "ticks": ""
             }
            },
            "marker": {
             "colorbar": {
              "outlinewidth": 0,
              "ticks": ""
             }
            },
            "type": "scatter3d"
           }
          ],
          "scattercarpet": [
           {
            "marker": {
             "colorbar": {
              "outlinewidth": 0,
              "ticks": ""
             }
            },
            "type": "scattercarpet"
           }
          ],
          "scattergeo": [
           {
            "marker": {
             "colorbar": {
              "outlinewidth": 0,
              "ticks": ""
             }
            },
            "type": "scattergeo"
           }
          ],
          "scattergl": [
           {
            "marker": {
             "colorbar": {
              "outlinewidth": 0,
              "ticks": ""
             }
            },
            "type": "scattergl"
           }
          ],
          "scattermapbox": [
           {
            "marker": {
             "colorbar": {
              "outlinewidth": 0,
              "ticks": ""
             }
            },
            "type": "scattermapbox"
           }
          ],
          "scatterpolar": [
           {
            "marker": {
             "colorbar": {
              "outlinewidth": 0,
              "ticks": ""
             }
            },
            "type": "scatterpolar"
           }
          ],
          "scatterpolargl": [
           {
            "marker": {
             "colorbar": {
              "outlinewidth": 0,
              "ticks": ""
             }
            },
            "type": "scatterpolargl"
           }
          ],
          "scatterternary": [
           {
            "marker": {
             "colorbar": {
              "outlinewidth": 0,
              "ticks": ""
             }
            },
            "type": "scatterternary"
           }
          ],
          "surface": [
           {
            "colorbar": {
             "outlinewidth": 0,
             "ticks": ""
            },
            "colorscale": [
             [
              0,
              "#0d0887"
             ],
             [
              0.1111111111111111,
              "#46039f"
             ],
             [
              0.2222222222222222,
              "#7201a8"
             ],
             [
              0.3333333333333333,
              "#9c179e"
             ],
             [
              0.4444444444444444,
              "#bd3786"
             ],
             [
              0.5555555555555556,
              "#d8576b"
             ],
             [
              0.6666666666666666,
              "#ed7953"
             ],
             [
              0.7777777777777778,
              "#fb9f3a"
             ],
             [
              0.8888888888888888,
              "#fdca26"
             ],
             [
              1,
              "#f0f921"
             ]
            ],
            "type": "surface"
           }
          ],
          "table": [
           {
            "cells": {
             "fill": {
              "color": "#EBF0F8"
             },
             "line": {
              "color": "white"
             }
            },
            "header": {
             "fill": {
              "color": "#C8D4E3"
             },
             "line": {
              "color": "white"
             }
            },
            "type": "table"
           }
          ]
         },
         "layout": {
          "annotationdefaults": {
           "arrowcolor": "#2a3f5f",
           "arrowhead": 0,
           "arrowwidth": 1
          },
          "autotypenumbers": "strict",
          "coloraxis": {
           "colorbar": {
            "outlinewidth": 0,
            "ticks": ""
           }
          },
          "colorscale": {
           "diverging": [
            [
             0,
             "#8e0152"
            ],
            [
             0.1,
             "#c51b7d"
            ],
            [
             0.2,
             "#de77ae"
            ],
            [
             0.3,
             "#f1b6da"
            ],
            [
             0.4,
             "#fde0ef"
            ],
            [
             0.5,
             "#f7f7f7"
            ],
            [
             0.6,
             "#e6f5d0"
            ],
            [
             0.7,
             "#b8e186"
            ],
            [
             0.8,
             "#7fbc41"
            ],
            [
             0.9,
             "#4d9221"
            ],
            [
             1,
             "#276419"
            ]
           ],
           "sequential": [
            [
             0,
             "#0d0887"
            ],
            [
             0.1111111111111111,
             "#46039f"
            ],
            [
             0.2222222222222222,
             "#7201a8"
            ],
            [
             0.3333333333333333,
             "#9c179e"
            ],
            [
             0.4444444444444444,
             "#bd3786"
            ],
            [
             0.5555555555555556,
             "#d8576b"
            ],
            [
             0.6666666666666666,
             "#ed7953"
            ],
            [
             0.7777777777777778,
             "#fb9f3a"
            ],
            [
             0.8888888888888888,
             "#fdca26"
            ],
            [
             1,
             "#f0f921"
            ]
           ],
           "sequentialminus": [
            [
             0,
             "#0d0887"
            ],
            [
             0.1111111111111111,
             "#46039f"
            ],
            [
             0.2222222222222222,
             "#7201a8"
            ],
            [
             0.3333333333333333,
             "#9c179e"
            ],
            [
             0.4444444444444444,
             "#bd3786"
            ],
            [
             0.5555555555555556,
             "#d8576b"
            ],
            [
             0.6666666666666666,
             "#ed7953"
            ],
            [
             0.7777777777777778,
             "#fb9f3a"
            ],
            [
             0.8888888888888888,
             "#fdca26"
            ],
            [
             1,
             "#f0f921"
            ]
           ]
          },
          "colorway": [
           "#636efa",
           "#EF553B",
           "#00cc96",
           "#ab63fa",
           "#FFA15A",
           "#19d3f3",
           "#FF6692",
           "#B6E880",
           "#FF97FF",
           "#FECB52"
          ],
          "font": {
           "color": "#2a3f5f"
          },
          "geo": {
           "bgcolor": "white",
           "lakecolor": "white",
           "landcolor": "#E5ECF6",
           "showlakes": true,
           "showland": true,
           "subunitcolor": "white"
          },
          "hoverlabel": {
           "align": "left"
          },
          "hovermode": "closest",
          "mapbox": {
           "style": "light"
          },
          "paper_bgcolor": "white",
          "plot_bgcolor": "#E5ECF6",
          "polar": {
           "angularaxis": {
            "gridcolor": "white",
            "linecolor": "white",
            "ticks": ""
           },
           "bgcolor": "#E5ECF6",
           "radialaxis": {
            "gridcolor": "white",
            "linecolor": "white",
            "ticks": ""
           }
          },
          "scene": {
           "xaxis": {
            "backgroundcolor": "#E5ECF6",
            "gridcolor": "white",
            "gridwidth": 2,
            "linecolor": "white",
            "showbackground": true,
            "ticks": "",
            "zerolinecolor": "white"
           },
           "yaxis": {
            "backgroundcolor": "#E5ECF6",
            "gridcolor": "white",
            "gridwidth": 2,
            "linecolor": "white",
            "showbackground": true,
            "ticks": "",
            "zerolinecolor": "white"
           },
           "zaxis": {
            "backgroundcolor": "#E5ECF6",
            "gridcolor": "white",
            "gridwidth": 2,
            "linecolor": "white",
            "showbackground": true,
            "ticks": "",
            "zerolinecolor": "white"
           }
          },
          "shapedefaults": {
           "line": {
            "color": "#2a3f5f"
           }
          },
          "ternary": {
           "aaxis": {
            "gridcolor": "white",
            "linecolor": "white",
            "ticks": ""
           },
           "baxis": {
            "gridcolor": "white",
            "linecolor": "white",
            "ticks": ""
           },
           "bgcolor": "#E5ECF6",
           "caxis": {
            "gridcolor": "white",
            "linecolor": "white",
            "ticks": ""
           }
          },
          "title": {
           "x": 0.05
          },
          "xaxis": {
           "automargin": true,
           "gridcolor": "white",
           "linecolor": "white",
           "ticks": "",
           "title": {
            "standoff": 15
           },
           "zerolinecolor": "white",
           "zerolinewidth": 2
          },
          "yaxis": {
           "automargin": true,
           "gridcolor": "white",
           "linecolor": "white",
           "ticks": "",
           "title": {
            "standoff": 15
           },
           "zerolinecolor": "white",
           "zerolinewidth": 2
          }
         }
        },
        "title": {
         "text": "Taxa Total de Variancia Explicada por 4 PC: 93.27%"
        }
       }
      }
     },
     "metadata": {},
     "output_type": "display_data"
    },
    {
     "data": {
      "text/plain": [
       "' Foi utilizado a biblioteca Plotly para a visualização dos dados. Documentação do gráfico PCA: https://plotly.com/python/pca-visualization/'"
      ]
     },
     "execution_count": 1143,
     "metadata": {},
     "output_type": "execute_result"
    }
   ],
   "source": [
    "total_var = pca.explained_variance_ratio_.sum() * 100\n",
    "\n",
    "fig = px.scatter_matrix(\n",
    "    df_pca,\n",
    "    title=f'Taxa Total de Variancia Explicada por 4 PC: {total_var:.2f}%',\n",
    "    dimensions=df_pca.columns,\n",
    "    color=df_pca.index,\n",
    ")\n",
    "fig.update_traces(diagonal_visible=False)\n",
    "fig.show()\n",
    "\n",
    "\"\"\" Foi utilizado a biblioteca Plotly para a visualização dos dados. Documentação do gráfico PCA: https://plotly.com/python/pca-visualization/\"\"\""
   ]
  },
  {
   "cell_type": "code",
   "execution_count": 1144,
   "metadata": {},
   "outputs": [
    {
     "data": {
      "application/vnd.plotly.v1+json": {
       "config": {
        "plotlyServerURL": "https://plot.ly"
       },
       "data": [
        {
         "hovertemplate": "Município=hulha negra<br>PC1=%{x}<br>PC2=%{y}<extra></extra>",
         "legendgroup": "hulha negra",
         "marker": {
          "color": "#636efa",
          "symbol": "circle"
         },
         "mode": "markers",
         "name": "hulha negra",
         "orientation": "v",
         "showlegend": true,
         "type": "scatter",
         "x": [
          -0.6015571329880843
         ],
         "xaxis": "x",
         "y": [
          0.07544342454418364
         ],
         "yaxis": "y"
        },
        {
         "hovertemplate": "Município=sao valentim do sul<br>PC1=%{x}<br>PC2=%{y}<extra></extra>",
         "legendgroup": "sao valentim do sul",
         "marker": {
          "color": "#EF553B",
          "symbol": "circle"
         },
         "mode": "markers",
         "name": "sao valentim do sul",
         "orientation": "v",
         "showlegend": true,
         "type": "scatter",
         "x": [
          -0.6823135300808116
         ],
         "xaxis": "x",
         "y": [
          -0.5122535820251152
         ],
         "yaxis": "y"
        },
        {
         "hovertemplate": "Município=xangri-la<br>PC1=%{x}<br>PC2=%{y}<extra></extra>",
         "legendgroup": "xangri-la",
         "marker": {
          "color": "#00cc96",
          "symbol": "circle"
         },
         "mode": "markers",
         "name": "xangri-la",
         "orientation": "v",
         "showlegend": true,
         "type": "scatter",
         "x": [
          0.044403657941866397
         ],
         "xaxis": "x",
         "y": [
          -0.4340834300289579
         ],
         "yaxis": "y"
        },
        {
         "hovertemplate": "Município=nova padua<br>PC1=%{x}<br>PC2=%{y}<extra></extra>",
         "legendgroup": "nova padua",
         "marker": {
          "color": "#ab63fa",
          "symbol": "circle"
         },
         "mode": "markers",
         "name": "nova padua",
         "orientation": "v",
         "showlegend": true,
         "type": "scatter",
         "x": [
          -0.710397625743418
         ],
         "xaxis": "x",
         "y": [
          -0.5124422393091559
         ],
         "yaxis": "y"
        },
        {
         "hovertemplate": "Município=catuipe<br>PC1=%{x}<br>PC2=%{y}<extra></extra>",
         "legendgroup": "catuipe",
         "marker": {
          "color": "#FFA15A",
          "symbol": "circle"
         },
         "mode": "markers",
         "name": "catuipe",
         "orientation": "v",
         "showlegend": true,
         "type": "scatter",
         "x": [
          -0.47944601021596367
         ],
         "xaxis": "x",
         "y": [
          -0.042583954964438266
         ],
         "yaxis": "y"
        },
        {
         "hovertemplate": "Município=esmeralda<br>PC1=%{x}<br>PC2=%{y}<extra></extra>",
         "legendgroup": "esmeralda",
         "marker": {
          "color": "#19d3f3",
          "symbol": "circle"
         },
         "mode": "markers",
         "name": "esmeralda",
         "orientation": "v",
         "showlegend": true,
         "type": "scatter",
         "x": [
          -0.5868409829748968
         ],
         "xaxis": "x",
         "y": [
          -0.43621161192641705
         ],
         "yaxis": "y"
        },
        {
         "hovertemplate": "Município=lajeado do bugre<br>PC1=%{x}<br>PC2=%{y}<extra></extra>",
         "legendgroup": "lajeado do bugre",
         "marker": {
          "color": "#FF6692",
          "symbol": "circle"
         },
         "mode": "markers",
         "name": "lajeado do bugre",
         "orientation": "v",
         "showlegend": true,
         "type": "scatter",
         "x": [
          -0.6813806005832481
         ],
         "xaxis": "x",
         "y": [
          -0.5094190461546356
         ],
         "yaxis": "y"
        },
        {
         "hovertemplate": "Município=cruz alta<br>PC1=%{x}<br>PC2=%{y}<extra></extra>",
         "legendgroup": "cruz alta",
         "marker": {
          "color": "#B6E880",
          "symbol": "circle"
         },
         "mode": "markers",
         "name": "cruz alta",
         "orientation": "v",
         "showlegend": true,
         "type": "scatter",
         "x": [
          1.6694844657284507
         ],
         "xaxis": "x",
         "y": [
          0.25945073914533334
         ],
         "yaxis": "y"
        },
        {
         "hovertemplate": "Município=nova ramada<br>PC1=%{x}<br>PC2=%{y}<extra></extra>",
         "legendgroup": "nova ramada",
         "marker": {
          "color": "#FF97FF",
          "symbol": "circle"
         },
         "mode": "markers",
         "name": "nova ramada",
         "orientation": "v",
         "showlegend": true,
         "type": "scatter",
         "x": [
          -0.6808111882307566
         ],
         "xaxis": "x",
         "y": [
          -0.44398524932702743
         ],
         "yaxis": "y"
        },
        {
         "hovertemplate": "Município=jaguarao<br>PC1=%{x}<br>PC2=%{y}<extra></extra>",
         "legendgroup": "jaguarao",
         "marker": {
          "color": "#FECB52",
          "symbol": "circle"
         },
         "mode": "markers",
         "name": "jaguarao",
         "orientation": "v",
         "showlegend": true,
         "type": "scatter",
         "x": [
          0.15978897242523185
         ],
         "xaxis": "x",
         "y": [
          2.316469394451525
         ],
         "yaxis": "y"
        },
        {
         "hovertemplate": "Município=nova petropolis<br>PC1=%{x}<br>PC2=%{y}<extra></extra>",
         "legendgroup": "nova petropolis",
         "marker": {
          "color": "#636efa",
          "symbol": "circle"
         },
         "mode": "markers",
         "name": "nova petropolis",
         "orientation": "v",
         "showlegend": true,
         "type": "scatter",
         "x": [
          -0.17050639286477548
         ],
         "xaxis": "x",
         "y": [
          -0.4777177695915569
         ],
         "yaxis": "y"
        },
        {
         "hovertemplate": "Município=charqueadas<br>PC1=%{x}<br>PC2=%{y}<extra></extra>",
         "legendgroup": "charqueadas",
         "marker": {
          "color": "#EF553B",
          "symbol": "circle"
         },
         "mode": "markers",
         "name": "charqueadas",
         "orientation": "v",
         "showlegend": true,
         "type": "scatter",
         "x": [
          1.1056083366668528
         ],
         "xaxis": "x",
         "y": [
          -0.44189258972001066
         ],
         "yaxis": "y"
        },
        {
         "hovertemplate": "Município=torres<br>PC1=%{x}<br>PC2=%{y}<extra></extra>",
         "legendgroup": "torres",
         "marker": {
          "color": "#00cc96",
          "symbol": "circle"
         },
         "mode": "markers",
         "name": "torres",
         "orientation": "v",
         "showlegend": true,
         "type": "scatter",
         "x": [
          1.0877941016273625
         ],
         "xaxis": "x",
         "y": [
          0.048692805731748647
         ],
         "yaxis": "y"
        },
        {
         "hovertemplate": "Município=sarandi<br>PC1=%{x}<br>PC2=%{y}<extra></extra>",
         "legendgroup": "sarandi",
         "marker": {
          "color": "#ab63fa",
          "symbol": "circle"
         },
         "mode": "markers",
         "name": "sarandi",
         "orientation": "v",
         "showlegend": true,
         "type": "scatter",
         "x": [
          0.1931739970920271
         ],
         "xaxis": "x",
         "y": [
          -0.49875874117800256
         ],
         "yaxis": "y"
        },
        {
         "hovertemplate": "Município=fortaleza dos valos<br>PC1=%{x}<br>PC2=%{y}<extra></extra>",
         "legendgroup": "fortaleza dos valos",
         "marker": {
          "color": "#FFA15A",
          "symbol": "circle"
         },
         "mode": "markers",
         "name": "fortaleza dos valos",
         "orientation": "v",
         "showlegend": true,
         "type": "scatter",
         "x": [
          -0.666416482603391
         ],
         "xaxis": "x",
         "y": [
          -0.3818666890174495
         ],
         "yaxis": "y"
        },
        {
         "hovertemplate": "Município=almirante tamandare do sul<br>PC1=%{x}<br>PC2=%{y}<extra></extra>",
         "legendgroup": "almirante tamandare do sul",
         "marker": {
          "color": "#19d3f3",
          "symbol": "circle"
         },
         "mode": "markers",
         "name": "almirante tamandare do sul",
         "orientation": "v",
         "showlegend": true,
         "type": "scatter",
         "x": [
          -0.6906898799804267
         ],
         "xaxis": "x",
         "y": [
          -0.4447901151504183
         ],
         "yaxis": "y"
        },
        {
         "hovertemplate": "Município=esteio<br>PC1=%{x}<br>PC2=%{y}<extra></extra>",
         "legendgroup": "esteio",
         "marker": {
          "color": "#FF6692",
          "symbol": "circle"
         },
         "mode": "markers",
         "name": "esteio",
         "orientation": "v",
         "showlegend": true,
         "type": "scatter",
         "x": [
          1.499242778238174
         ],
         "xaxis": "x",
         "y": [
          -0.6255616529597661
         ],
         "yaxis": "y"
        },
        {
         "hovertemplate": "Município=frederico westphalen<br>PC1=%{x}<br>PC2=%{y}<extra></extra>",
         "legendgroup": "frederico westphalen",
         "marker": {
          "color": "#B6E880",
          "symbol": "circle"
         },
         "mode": "markers",
         "name": "frederico westphalen",
         "orientation": "v",
         "showlegend": true,
         "type": "scatter",
         "x": [
          0.5492902964117182
         ],
         "xaxis": "x",
         "y": [
          0.0420267466271249
         ],
         "yaxis": "y"
        },
        {
         "hovertemplate": "Município=canela<br>PC1=%{x}<br>PC2=%{y}<extra></extra>",
         "legendgroup": "canela",
         "marker": {
          "color": "#FF97FF",
          "symbol": "circle"
         },
         "mode": "markers",
         "name": "canela",
         "orientation": "v",
         "showlegend": true,
         "type": "scatter",
         "x": [
          1.367335699313687
         ],
         "xaxis": "x",
         "y": [
          -0.6239739454620535
         ],
         "yaxis": "y"
        },
        {
         "hovertemplate": "Município=piratini<br>PC1=%{x}<br>PC2=%{y}<extra></extra>",
         "legendgroup": "piratini",
         "marker": {
          "color": "#FECB52",
          "symbol": "circle"
         },
         "mode": "markers",
         "name": "piratini",
         "orientation": "v",
         "showlegend": true,
         "type": "scatter",
         "x": [
          -0.1695858587190373
         ],
         "xaxis": "x",
         "y": [
          1.7703825573168863
         ],
         "yaxis": "y"
        },
        {
         "hovertemplate": "Município=vale verde<br>PC1=%{x}<br>PC2=%{y}<extra></extra>",
         "legendgroup": "vale verde",
         "marker": {
          "color": "#636efa",
          "symbol": "circle"
         },
         "mode": "markers",
         "name": "vale verde",
         "orientation": "v",
         "showlegend": true,
         "type": "scatter",
         "x": [
          -0.6492194348272706
         ],
         "xaxis": "x",
         "y": [
          -0.11895217362825904
         ],
         "yaxis": "y"
        },
        {
         "hovertemplate": "Município=restinga seca<br>PC1=%{x}<br>PC2=%{y}<extra></extra>",
         "legendgroup": "restinga seca",
         "marker": {
          "color": "#EF553B",
          "symbol": "circle"
         },
         "mode": "markers",
         "name": "restinga seca",
         "orientation": "v",
         "showlegend": true,
         "type": "scatter",
         "x": [
          -0.3689186251462739
         ],
         "xaxis": "x",
         "y": [
          0.39571992579064214
         ],
         "yaxis": "y"
        },
        {
         "hovertemplate": "Município=santo antonio da patrulha<br>PC1=%{x}<br>PC2=%{y}<extra></extra>",
         "legendgroup": "santo antonio da patrulha",
         "marker": {
          "color": "#00cc96",
          "symbol": "circle"
         },
         "mode": "markers",
         "name": "santo antonio da patrulha",
         "orientation": "v",
         "showlegend": true,
         "type": "scatter",
         "x": [
          0.334337969425342
         ],
         "xaxis": "x",
         "y": [
          0.4274804072973945
         ],
         "yaxis": "y"
        },
        {
         "hovertemplate": "Município=passo do sobrado<br>PC1=%{x}<br>PC2=%{y}<extra></extra>",
         "legendgroup": "passo do sobrado",
         "marker": {
          "color": "#ab63fa",
          "symbol": "circle"
         },
         "mode": "markers",
         "name": "passo do sobrado",
         "orientation": "v",
         "showlegend": true,
         "type": "scatter",
         "x": [
          -0.49819854596551794
         ],
         "xaxis": "x",
         "y": [
          0.4660224355955972
         ],
         "yaxis": "y"
        },
        {
         "hovertemplate": "Município=sao sepe<br>PC1=%{x}<br>PC2=%{y}<extra></extra>",
         "legendgroup": "sao sepe",
         "marker": {
          "color": "#FFA15A",
          "symbol": "circle"
         },
         "mode": "markers",
         "name": "sao sepe",
         "orientation": "v",
         "showlegend": true,
         "type": "scatter",
         "x": [
          -0.374177983946841
         ],
         "xaxis": "x",
         "y": [
          0.7028043539428288
         ],
         "yaxis": "y"
        }
       ],
       "layout": {
        "annotations": [
         {
          "arrowhead": 2,
          "arrowsize": 2,
          "ax": 0,
          "axref": "x",
          "ay": 0,
          "ayref": "y",
          "showarrow": true,
          "x": 0.2011191959486081,
          "xanchor": "right",
          "y": 0.021182603885975274,
          "yanchor": "top"
         },
         {
          "ax": 0,
          "ay": 0,
          "text": "homicidio_doloso",
          "x": 0.2011191959486081,
          "xanchor": "center",
          "y": 0.021182603885975274,
          "yanchor": "bottom",
          "yshift": 5
         },
         {
          "arrowhead": 2,
          "arrowsize": 2,
          "ax": 0,
          "axref": "x",
          "ay": 0,
          "ayref": "y",
          "showarrow": true,
          "x": 0.1834387262999143,
          "xanchor": "right",
          "y": 0.0025932885071107033,
          "yanchor": "top"
         },
         {
          "ax": 0,
          "ay": 0,
          "text": "furtos",
          "x": 0.1834387262999143,
          "xanchor": "center",
          "y": 0.0025932885071107033,
          "yanchor": "bottom",
          "yshift": 5
         },
         {
          "arrowhead": 2,
          "arrowsize": 2,
          "ax": 0,
          "axref": "x",
          "ay": 0,
          "ayref": "y",
          "showarrow": true,
          "x": 0.055477045187411915,
          "xanchor": "right",
          "y": 0.7173502098647944,
          "yanchor": "top"
         },
         {
          "ax": 0,
          "ay": 0,
          "text": "abigeato",
          "x": 0.055477045187411915,
          "xanchor": "center",
          "y": 0.7173502098647944,
          "yanchor": "bottom",
          "yshift": 5
         },
         {
          "arrowhead": 2,
          "arrowsize": 2,
          "ax": 0,
          "axref": "x",
          "ay": 0,
          "ayref": "y",
          "showarrow": true,
          "x": 0.1650958780619334,
          "xanchor": "right",
          "y": -0.006267138215819576,
          "yanchor": "top"
         },
         {
          "ax": 0,
          "ay": 0,
          "text": "furto_veiculo",
          "x": 0.1650958780619334,
          "xanchor": "center",
          "y": -0.006267138215819576,
          "yanchor": "bottom",
          "yshift": 5
         },
         {
          "arrowhead": 2,
          "arrowsize": 2,
          "ax": 0,
          "axref": "x",
          "ay": 0,
          "ayref": "y",
          "showarrow": true,
          "x": 0.054115135990408667,
          "xanchor": "right",
          "y": -0.008052197541310315,
          "yanchor": "top"
         },
         {
          "ax": 0,
          "ay": 0,
          "text": "roubos",
          "x": 0.054115135990408667,
          "xanchor": "center",
          "y": -0.008052197541310315,
          "yanchor": "bottom",
          "yshift": 5
         },
         {
          "arrowhead": 2,
          "arrowsize": 2,
          "ax": 0,
          "axref": "x",
          "ay": 0,
          "ayref": "y",
          "showarrow": true,
          "x": 0.05252945696423721,
          "xanchor": "right",
          "y": -0.011495422723075247,
          "yanchor": "top"
         },
         {
          "ax": 0,
          "ay": 0,
          "text": "roubo_veiculo",
          "x": 0.05252945696423721,
          "xanchor": "center",
          "y": -0.011495422723075247,
          "yanchor": "bottom",
          "yshift": 5
         },
         {
          "arrowhead": 2,
          "arrowsize": 2,
          "ax": 0,
          "axref": "x",
          "ay": 0,
          "ayref": "y",
          "showarrow": true,
          "x": 0.2521948671394567,
          "xanchor": "right",
          "y": -0.03658163379771726,
          "yanchor": "top"
         },
         {
          "ax": 0,
          "ay": 0,
          "text": "estelionato",
          "x": 0.2521948671394567,
          "xanchor": "center",
          "y": -0.03658163379771726,
          "yanchor": "bottom",
          "yshift": 5
         },
         {
          "arrowhead": 2,
          "arrowsize": 2,
          "ax": 0,
          "axref": "x",
          "ay": 0,
          "ayref": "y",
          "showarrow": true,
          "x": 0.27022933976646757,
          "xanchor": "right",
          "y": 0.035221738017703196,
          "yanchor": "top"
         },
         {
          "ax": 0,
          "ay": 0,
          "text": "delitos_armas_municoes",
          "x": 0.27022933976646757,
          "xanchor": "center",
          "y": 0.035221738017703196,
          "yanchor": "bottom",
          "yshift": 5
         },
         {
          "arrowhead": 2,
          "arrowsize": 2,
          "ax": 0,
          "axref": "x",
          "ay": 0,
          "ayref": "y",
          "showarrow": true,
          "x": 0.4421627219580853,
          "xanchor": "right",
          "y": -0.0689598406305079,
          "yanchor": "top"
         },
         {
          "ax": 0,
          "ay": 0,
          "text": "entorpecente_posse",
          "x": 0.4421627219580853,
          "xanchor": "center",
          "y": -0.0689598406305079,
          "yanchor": "bottom",
          "yshift": 5
         },
         {
          "arrowhead": 2,
          "arrowsize": 2,
          "ax": 0,
          "axref": "x",
          "ay": 0,
          "ayref": "y",
          "showarrow": true,
          "x": 0.3073195353565094,
          "xanchor": "right",
          "y": -0.0363280995856207,
          "yanchor": "top"
         },
         {
          "ax": 0,
          "ay": 0,
          "text": "entorpecente_trafico",
          "x": 0.3073195353565094,
          "xanchor": "center",
          "y": -0.0363280995856207,
          "yanchor": "bottom",
          "yshift": 5
         },
         {
          "arrowhead": 2,
          "arrowsize": 2,
          "ax": 0,
          "axref": "x",
          "ay": 0,
          "ayref": "y",
          "showarrow": true,
          "x": -0.04801463089521121,
          "xanchor": "right",
          "y": 0.09614019893103586,
          "yanchor": "top"
         },
         {
          "ax": 0,
          "ay": 0,
          "text": "vitimas_latrocinio",
          "x": -0.04801463089521121,
          "xanchor": "center",
          "y": 0.09614019893103586,
          "yanchor": "bottom",
          "yshift": 5
         },
         {
          "arrowhead": 2,
          "arrowsize": 2,
          "ax": 0,
          "axref": "x",
          "ay": 0,
          "ayref": "y",
          "showarrow": true,
          "x": 0,
          "xanchor": "right",
          "y": 0,
          "yanchor": "top"
         },
         {
          "ax": 0,
          "ay": 0,
          "text": "vitimas_lesao_corporal_morte",
          "x": 0,
          "xanchor": "center",
          "y": 0,
          "yanchor": "bottom",
          "yshift": 5
         },
         {
          "arrowhead": 2,
          "arrowsize": 2,
          "ax": 0,
          "axref": "x",
          "ay": 0,
          "ayref": "y",
          "showarrow": true,
          "x": 0.2591077133668989,
          "xanchor": "right",
          "y": 0.01359110411731924,
          "yanchor": "top"
         },
         {
          "ax": 0,
          "ay": 0,
          "text": "populacao",
          "x": 0.2591077133668989,
          "xanchor": "center",
          "y": 0.01359110411731924,
          "yanchor": "bottom",
          "yshift": 5
         }
        ],
        "legend": {
         "title": {
          "text": "Município"
         },
         "tracegroupgap": 0
        },
        "template": {
         "data": {
          "bar": [
           {
            "error_x": {
             "color": "#2a3f5f"
            },
            "error_y": {
             "color": "#2a3f5f"
            },
            "marker": {
             "line": {
              "color": "#E5ECF6",
              "width": 0.5
             },
             "pattern": {
              "fillmode": "overlay",
              "size": 10,
              "solidity": 0.2
             }
            },
            "type": "bar"
           }
          ],
          "barpolar": [
           {
            "marker": {
             "line": {
              "color": "#E5ECF6",
              "width": 0.5
             },
             "pattern": {
              "fillmode": "overlay",
              "size": 10,
              "solidity": 0.2
             }
            },
            "type": "barpolar"
           }
          ],
          "carpet": [
           {
            "aaxis": {
             "endlinecolor": "#2a3f5f",
             "gridcolor": "white",
             "linecolor": "white",
             "minorgridcolor": "white",
             "startlinecolor": "#2a3f5f"
            },
            "baxis": {
             "endlinecolor": "#2a3f5f",
             "gridcolor": "white",
             "linecolor": "white",
             "minorgridcolor": "white",
             "startlinecolor": "#2a3f5f"
            },
            "type": "carpet"
           }
          ],
          "choropleth": [
           {
            "colorbar": {
             "outlinewidth": 0,
             "ticks": ""
            },
            "type": "choropleth"
           }
          ],
          "contour": [
           {
            "colorbar": {
             "outlinewidth": 0,
             "ticks": ""
            },
            "colorscale": [
             [
              0,
              "#0d0887"
             ],
             [
              0.1111111111111111,
              "#46039f"
             ],
             [
              0.2222222222222222,
              "#7201a8"
             ],
             [
              0.3333333333333333,
              "#9c179e"
             ],
             [
              0.4444444444444444,
              "#bd3786"
             ],
             [
              0.5555555555555556,
              "#d8576b"
             ],
             [
              0.6666666666666666,
              "#ed7953"
             ],
             [
              0.7777777777777778,
              "#fb9f3a"
             ],
             [
              0.8888888888888888,
              "#fdca26"
             ],
             [
              1,
              "#f0f921"
             ]
            ],
            "type": "contour"
           }
          ],
          "contourcarpet": [
           {
            "colorbar": {
             "outlinewidth": 0,
             "ticks": ""
            },
            "type": "contourcarpet"
           }
          ],
          "heatmap": [
           {
            "colorbar": {
             "outlinewidth": 0,
             "ticks": ""
            },
            "colorscale": [
             [
              0,
              "#0d0887"
             ],
             [
              0.1111111111111111,
              "#46039f"
             ],
             [
              0.2222222222222222,
              "#7201a8"
             ],
             [
              0.3333333333333333,
              "#9c179e"
             ],
             [
              0.4444444444444444,
              "#bd3786"
             ],
             [
              0.5555555555555556,
              "#d8576b"
             ],
             [
              0.6666666666666666,
              "#ed7953"
             ],
             [
              0.7777777777777778,
              "#fb9f3a"
             ],
             [
              0.8888888888888888,
              "#fdca26"
             ],
             [
              1,
              "#f0f921"
             ]
            ],
            "type": "heatmap"
           }
          ],
          "heatmapgl": [
           {
            "colorbar": {
             "outlinewidth": 0,
             "ticks": ""
            },
            "colorscale": [
             [
              0,
              "#0d0887"
             ],
             [
              0.1111111111111111,
              "#46039f"
             ],
             [
              0.2222222222222222,
              "#7201a8"
             ],
             [
              0.3333333333333333,
              "#9c179e"
             ],
             [
              0.4444444444444444,
              "#bd3786"
             ],
             [
              0.5555555555555556,
              "#d8576b"
             ],
             [
              0.6666666666666666,
              "#ed7953"
             ],
             [
              0.7777777777777778,
              "#fb9f3a"
             ],
             [
              0.8888888888888888,
              "#fdca26"
             ],
             [
              1,
              "#f0f921"
             ]
            ],
            "type": "heatmapgl"
           }
          ],
          "histogram": [
           {
            "marker": {
             "pattern": {
              "fillmode": "overlay",
              "size": 10,
              "solidity": 0.2
             }
            },
            "type": "histogram"
           }
          ],
          "histogram2d": [
           {
            "colorbar": {
             "outlinewidth": 0,
             "ticks": ""
            },
            "colorscale": [
             [
              0,
              "#0d0887"
             ],
             [
              0.1111111111111111,
              "#46039f"
             ],
             [
              0.2222222222222222,
              "#7201a8"
             ],
             [
              0.3333333333333333,
              "#9c179e"
             ],
             [
              0.4444444444444444,
              "#bd3786"
             ],
             [
              0.5555555555555556,
              "#d8576b"
             ],
             [
              0.6666666666666666,
              "#ed7953"
             ],
             [
              0.7777777777777778,
              "#fb9f3a"
             ],
             [
              0.8888888888888888,
              "#fdca26"
             ],
             [
              1,
              "#f0f921"
             ]
            ],
            "type": "histogram2d"
           }
          ],
          "histogram2dcontour": [
           {
            "colorbar": {
             "outlinewidth": 0,
             "ticks": ""
            },
            "colorscale": [
             [
              0,
              "#0d0887"
             ],
             [
              0.1111111111111111,
              "#46039f"
             ],
             [
              0.2222222222222222,
              "#7201a8"
             ],
             [
              0.3333333333333333,
              "#9c179e"
             ],
             [
              0.4444444444444444,
              "#bd3786"
             ],
             [
              0.5555555555555556,
              "#d8576b"
             ],
             [
              0.6666666666666666,
              "#ed7953"
             ],
             [
              0.7777777777777778,
              "#fb9f3a"
             ],
             [
              0.8888888888888888,
              "#fdca26"
             ],
             [
              1,
              "#f0f921"
             ]
            ],
            "type": "histogram2dcontour"
           }
          ],
          "mesh3d": [
           {
            "colorbar": {
             "outlinewidth": 0,
             "ticks": ""
            },
            "type": "mesh3d"
           }
          ],
          "parcoords": [
           {
            "line": {
             "colorbar": {
              "outlinewidth": 0,
              "ticks": ""
             }
            },
            "type": "parcoords"
           }
          ],
          "pie": [
           {
            "automargin": true,
            "type": "pie"
           }
          ],
          "scatter": [
           {
            "fillpattern": {
             "fillmode": "overlay",
             "size": 10,
             "solidity": 0.2
            },
            "type": "scatter"
           }
          ],
          "scatter3d": [
           {
            "line": {
             "colorbar": {
              "outlinewidth": 0,
              "ticks": ""
             }
            },
            "marker": {
             "colorbar": {
              "outlinewidth": 0,
              "ticks": ""
             }
            },
            "type": "scatter3d"
           }
          ],
          "scattercarpet": [
           {
            "marker": {
             "colorbar": {
              "outlinewidth": 0,
              "ticks": ""
             }
            },
            "type": "scattercarpet"
           }
          ],
          "scattergeo": [
           {
            "marker": {
             "colorbar": {
              "outlinewidth": 0,
              "ticks": ""
             }
            },
            "type": "scattergeo"
           }
          ],
          "scattergl": [
           {
            "marker": {
             "colorbar": {
              "outlinewidth": 0,
              "ticks": ""
             }
            },
            "type": "scattergl"
           }
          ],
          "scattermapbox": [
           {
            "marker": {
             "colorbar": {
              "outlinewidth": 0,
              "ticks": ""
             }
            },
            "type": "scattermapbox"
           }
          ],
          "scatterpolar": [
           {
            "marker": {
             "colorbar": {
              "outlinewidth": 0,
              "ticks": ""
             }
            },
            "type": "scatterpolar"
           }
          ],
          "scatterpolargl": [
           {
            "marker": {
             "colorbar": {
              "outlinewidth": 0,
              "ticks": ""
             }
            },
            "type": "scatterpolargl"
           }
          ],
          "scatterternary": [
           {
            "marker": {
             "colorbar": {
              "outlinewidth": 0,
              "ticks": ""
             }
            },
            "type": "scatterternary"
           }
          ],
          "surface": [
           {
            "colorbar": {
             "outlinewidth": 0,
             "ticks": ""
            },
            "colorscale": [
             [
              0,
              "#0d0887"
             ],
             [
              0.1111111111111111,
              "#46039f"
             ],
             [
              0.2222222222222222,
              "#7201a8"
             ],
             [
              0.3333333333333333,
              "#9c179e"
             ],
             [
              0.4444444444444444,
              "#bd3786"
             ],
             [
              0.5555555555555556,
              "#d8576b"
             ],
             [
              0.6666666666666666,
              "#ed7953"
             ],
             [
              0.7777777777777778,
              "#fb9f3a"
             ],
             [
              0.8888888888888888,
              "#fdca26"
             ],
             [
              1,
              "#f0f921"
             ]
            ],
            "type": "surface"
           }
          ],
          "table": [
           {
            "cells": {
             "fill": {
              "color": "#EBF0F8"
             },
             "line": {
              "color": "white"
             }
            },
            "header": {
             "fill": {
              "color": "#C8D4E3"
             },
             "line": {
              "color": "white"
             }
            },
            "type": "table"
           }
          ]
         },
         "layout": {
          "annotationdefaults": {
           "arrowcolor": "#2a3f5f",
           "arrowhead": 0,
           "arrowwidth": 1
          },
          "autotypenumbers": "strict",
          "coloraxis": {
           "colorbar": {
            "outlinewidth": 0,
            "ticks": ""
           }
          },
          "colorscale": {
           "diverging": [
            [
             0,
             "#8e0152"
            ],
            [
             0.1,
             "#c51b7d"
            ],
            [
             0.2,
             "#de77ae"
            ],
            [
             0.3,
             "#f1b6da"
            ],
            [
             0.4,
             "#fde0ef"
            ],
            [
             0.5,
             "#f7f7f7"
            ],
            [
             0.6,
             "#e6f5d0"
            ],
            [
             0.7,
             "#b8e186"
            ],
            [
             0.8,
             "#7fbc41"
            ],
            [
             0.9,
             "#4d9221"
            ],
            [
             1,
             "#276419"
            ]
           ],
           "sequential": [
            [
             0,
             "#0d0887"
            ],
            [
             0.1111111111111111,
             "#46039f"
            ],
            [
             0.2222222222222222,
             "#7201a8"
            ],
            [
             0.3333333333333333,
             "#9c179e"
            ],
            [
             0.4444444444444444,
             "#bd3786"
            ],
            [
             0.5555555555555556,
             "#d8576b"
            ],
            [
             0.6666666666666666,
             "#ed7953"
            ],
            [
             0.7777777777777778,
             "#fb9f3a"
            ],
            [
             0.8888888888888888,
             "#fdca26"
            ],
            [
             1,
             "#f0f921"
            ]
           ],
           "sequentialminus": [
            [
             0,
             "#0d0887"
            ],
            [
             0.1111111111111111,
             "#46039f"
            ],
            [
             0.2222222222222222,
             "#7201a8"
            ],
            [
             0.3333333333333333,
             "#9c179e"
            ],
            [
             0.4444444444444444,
             "#bd3786"
            ],
            [
             0.5555555555555556,
             "#d8576b"
            ],
            [
             0.6666666666666666,
             "#ed7953"
            ],
            [
             0.7777777777777778,
             "#fb9f3a"
            ],
            [
             0.8888888888888888,
             "#fdca26"
            ],
            [
             1,
             "#f0f921"
            ]
           ]
          },
          "colorway": [
           "#636efa",
           "#EF553B",
           "#00cc96",
           "#ab63fa",
           "#FFA15A",
           "#19d3f3",
           "#FF6692",
           "#B6E880",
           "#FF97FF",
           "#FECB52"
          ],
          "font": {
           "color": "#2a3f5f"
          },
          "geo": {
           "bgcolor": "white",
           "lakecolor": "white",
           "landcolor": "#E5ECF6",
           "showlakes": true,
           "showland": true,
           "subunitcolor": "white"
          },
          "hoverlabel": {
           "align": "left"
          },
          "hovermode": "closest",
          "mapbox": {
           "style": "light"
          },
          "paper_bgcolor": "white",
          "plot_bgcolor": "#E5ECF6",
          "polar": {
           "angularaxis": {
            "gridcolor": "white",
            "linecolor": "white",
            "ticks": ""
           },
           "bgcolor": "#E5ECF6",
           "radialaxis": {
            "gridcolor": "white",
            "linecolor": "white",
            "ticks": ""
           }
          },
          "scene": {
           "xaxis": {
            "backgroundcolor": "#E5ECF6",
            "gridcolor": "white",
            "gridwidth": 2,
            "linecolor": "white",
            "showbackground": true,
            "ticks": "",
            "zerolinecolor": "white"
           },
           "yaxis": {
            "backgroundcolor": "#E5ECF6",
            "gridcolor": "white",
            "gridwidth": 2,
            "linecolor": "white",
            "showbackground": true,
            "ticks": "",
            "zerolinecolor": "white"
           },
           "zaxis": {
            "backgroundcolor": "#E5ECF6",
            "gridcolor": "white",
            "gridwidth": 2,
            "linecolor": "white",
            "showbackground": true,
            "ticks": "",
            "zerolinecolor": "white"
           }
          },
          "shapedefaults": {
           "line": {
            "color": "#2a3f5f"
           }
          },
          "ternary": {
           "aaxis": {
            "gridcolor": "white",
            "linecolor": "white",
            "ticks": ""
           },
           "baxis": {
            "gridcolor": "white",
            "linecolor": "white",
            "ticks": ""
           },
           "bgcolor": "#E5ECF6",
           "caxis": {
            "gridcolor": "white",
            "linecolor": "white",
            "ticks": ""
           }
          },
          "title": {
           "x": 0.05
          },
          "xaxis": {
           "automargin": true,
           "gridcolor": "white",
           "linecolor": "white",
           "ticks": "",
           "title": {
            "standoff": 15
           },
           "zerolinecolor": "white",
           "zerolinewidth": 2
          },
          "yaxis": {
           "automargin": true,
           "gridcolor": "white",
           "linecolor": "white",
           "ticks": "",
           "title": {
            "standoff": 15
           },
           "zerolinecolor": "white",
           "zerolinewidth": 2
          }
         }
        },
        "title": {
         "text": "Taxa Total de Variancia Explicada por 2 PC: 71.70%"
        },
        "xaxis": {
         "anchor": "y",
         "domain": [
          0,
          1
         ],
         "title": {
          "text": "PC1"
         }
        },
        "yaxis": {
         "anchor": "x",
         "autorange": "reversed",
         "domain": [
          0,
          1
         ],
         "title": {
          "text": "PC2"
         }
        }
       }
      }
     },
     "metadata": {},
     "output_type": "display_data"
    },
    {
     "data": {
      "text/plain": [
       "' Foi utilizado a biblioteca Plotly para a visualização dos dados. Documentação do gráfico PCA: https://plotly.com/python/pca-visualization/'"
      ]
     },
     "execution_count": 1144,
     "metadata": {},
     "output_type": "execute_result"
    }
   ],
   "source": [
    "total_var_2 = pca.explained_variance_ratio_[:2].sum() * 100\n",
    "total_var_2\n",
    "\n",
    "# Calculando as cargas dos componentes\n",
    "loadings = pca.components_.T * np.sqrt(pca.explained_variance_)\n",
    "\n",
    "# Plotando o gráfico de dispersão com os componentes principais\n",
    "fig = px.scatter(\n",
    "    components, x=0, y=1, color=df_pca.index,\n",
    "    labels={'0': 'PC1', '1': 'PC2', 'color': 'Município'},\n",
    "    title=f'Taxa Total de Variancia Explicada por 2 PC: {total_var_2:.2f}%')\n",
    "\n",
    "features = df_sample.columns\n",
    "\n",
    "# Adicionando os vetores de carga ao gráfico\n",
    "for i, feature in enumerate(features):\n",
    "    fig.add_annotation(\n",
    "        ax=0, ay=0,\n",
    "        axref=\"x\", ayref=\"y\",\n",
    "        x=loadings[i, 0],\n",
    "        y=loadings[i, 1],\n",
    "        showarrow=True,\n",
    "        arrowsize=2,\n",
    "        arrowhead=2,\n",
    "        xanchor=\"right\",\n",
    "        yanchor=\"top\"\n",
    "    )\n",
    "    \n",
    "    fig.add_annotation(\n",
    "        x=loadings[i, 0],\n",
    "        y=loadings[i, 1],\n",
    "        ax=0, ay=0,\n",
    "        xanchor=\"center\",\n",
    "        yanchor=\"bottom\",\n",
    "        text=feature,\n",
    "        yshift=5,\n",
    "    )\n",
    "# Invertendo o eixo y para que o gráfico fique na posição correta    \n",
    "fig.update_yaxes(autorange=\"reversed\")\n",
    "fig.show()\n",
    "\n",
    "\"\"\" Foi utilizado a biblioteca Plotly para a visualização dos dados. Documentação do gráfico PCA: https://plotly.com/python/pca-visualization/\"\"\""
   ]
  },
  {
   "cell_type": "code",
   "execution_count": 1145,
   "metadata": {},
   "outputs": [
    {
     "data": {
      "text/plain": [
       "\" i, j = 0, 1 # which components\\nscale_arrow = s_ = 2\\ncomponents[:,1] *= -1\\npca.components_[1] *= -1 # flip the y-axis\\nfig, ax = plt.subplots(1, 1, figsize=(8, 8))\\nax.scatter(components[:,0], components[:,1])\\nax.set_xlabel('PC%d' % (i+1))\\nax.set_ylabel('PC%d' % (j+1))\\nfor k in range(pca.components_.shape[1]):\\n    ax.arrow(0, 0, s_*pca.components_[i,k], s_*pca.components_[j,k])\\n    ax.text(s_*pca.components_[i,k],\\n            s_*pca.components_[j,k],\\n            df_sample.columns[k]) \""
      ]
     },
     "execution_count": 1145,
     "metadata": {},
     "output_type": "execute_result"
    }
   ],
   "source": [
    "\"\"\" i, j = 0, 1 # which components\n",
    "scale_arrow = s_ = 2\n",
    "components[:,1] *= -1\n",
    "pca.components_[1] *= -1 # flip the y-axis\n",
    "fig, ax = plt.subplots(1, 1, figsize=(8, 8))\n",
    "ax.scatter(components[:,0], components[:,1])\n",
    "ax.set_xlabel('PC%d' % (i+1))\n",
    "ax.set_ylabel('PC%d' % (j+1))\n",
    "for k in range(pca.components_.shape[1]):\n",
    "    ax.arrow(0, 0, s_*pca.components_[i,k], s_*pca.components_[j,k])\n",
    "    ax.text(s_*pca.components_[i,k],\n",
    "            s_*pca.components_[j,k],\n",
    "            df_sample.columns[k]) \"\"\""
   ]
  },
  {
   "cell_type": "markdown",
   "metadata": {},
   "source": [
    "## K-means com dados brutos"
   ]
  },
  {
   "cell_type": "code",
   "execution_count": 1146,
   "metadata": {},
   "outputs": [],
   "source": [
    "from sklearn import cluster"
   ]
  },
  {
   "cell_type": "code",
   "execution_count": 1147,
   "metadata": {},
   "outputs": [],
   "source": [
    "import matplotlib.pyplot as plt\n",
    "%matplotlib inline"
   ]
  },
  {
   "cell_type": "code",
   "execution_count": 1148,
   "metadata": {},
   "outputs": [
    {
     "data": {
      "text/plain": [
       "[38.14183883121085,\n",
       " 26.06977232369181,\n",
       " 16.694677593074317,\n",
       " 10.885360205955351,\n",
       " 8.104545675465403,\n",
       " 6.227176928814057,\n",
       " 4.410371841472981,\n",
       " 3.27058503971652,\n",
       " 2.27361601986142]"
      ]
     },
     "execution_count": 1148,
     "metadata": {},
     "output_type": "execute_result"
    }
   ],
   "source": [
    "# Aplicando o método de Elbow para encontrar o número de clusters\n",
    "clusters = np.arange(1,10,1)\n",
    "\n",
    "SSE = []\n",
    "for k in clusters:\n",
    "    k_means = cluster.KMeans(n_clusters=k, init='k-means++', n_init=25, max_iter=300 , random_state=42)\n",
    "    k_means.fit(df_sample)\n",
    "    SSE.append(k_means.inertia_)\n",
    "\n",
    "SSE"
   ]
  },
  {
   "cell_type": "code",
   "execution_count": 1149,
   "metadata": {},
   "outputs": [
    {
     "data": {
      "text/plain": [
       "Text(0, 0.5, 'SSE')"
      ]
     },
     "execution_count": 1149,
     "metadata": {},
     "output_type": "execute_result"
    },
    {
     "data": {
      "image/png": "[encoded data removed]",
      "text/plain": [
       "<Figure size 640x480 with 1 Axes>"
      ]
     },
     "metadata": {},
     "output_type": "display_data"
    }
   ],
   "source": [
    "# Plotando o gráfico do método de Elbow\n",
    "plt.plot(clusters, SSE)\n",
    "plt.xlabel('Number of Clusters')\n",
    "plt.ylabel('SSE')"
   ]
  },
  {
   "cell_type": "code",
   "execution_count": 1150,
   "metadata": {},
   "outputs": [],
   "source": [
    "from sklearn.metrics import silhouette_samples, silhouette_score"
   ]
  },
  {
   "cell_type": "code",
   "execution_count": 1151,
   "metadata": {},
   "outputs": [
    {
     "data": {
      "text/plain": [
       "[0.40000081472309934,\n",
       " 0.4827670545915395,\n",
       " 0.5096353688098765,\n",
       " 0.4853424281394582,\n",
       " 0.4812248708905561,\n",
       " 0.3611475116924892,\n",
       " 0.38598224136772374,\n",
       " 0.41262452976110464,\n",
       " 0.39907975794477096,\n",
       " 0.37672621257216166,\n",
       " 0.3698651631267717,\n",
       " 0.3262541733363864,\n",
       " 0.3447067974785222,\n",
       " 0.3095396823064154,\n",
       " 0.30100602350120403]"
      ]
     },
     "execution_count": 1151,
     "metadata": {},
     "output_type": "execute_result"
    }
   ],
   "source": [
    "# Aplicando o método de Silhouette para encontrar o número de clusters\n",
    "clusters = np.arange(2,17,1)\n",
    "SC = []\n",
    "for k in clusters:\n",
    "    k_means = cluster.KMeans(n_clusters=k, init='k-means++', n_init=25, max_iter=300, random_state=42)\n",
    "    k_means.fit(df_sample)\n",
    "    SC.append(silhouette_score(df_sample, k_means.labels_))\n",
    "SC"
   ]
  },
  {
   "cell_type": "code",
   "execution_count": 1152,
   "metadata": {},
   "outputs": [
    {
     "data": {
      "text/plain": [
       "Text(0, 0.5, 'SC')"
      ]
     },
     "execution_count": 1152,
     "metadata": {},
     "output_type": "execute_result"
    },
    {
     "data": {
      "image/png": "[encoded data removed]",
      "text/plain": [
       "<Figure size 640x480 with 1 Axes>"
      ]
     },
     "metadata": {},
     "output_type": "display_data"
    }
   ],
   "source": [
    "# Plotando o gráfico do método de Silhouette\n",
    "plt.plot(clusters, SC)\n",
    "plt.xlabel('Number of Clusters')\n",
    "plt.ylabel('SC')"
   ]
  },
  {
   "cell_type": "code",
   "execution_count": 1153,
   "metadata": {},
   "outputs": [
    {
     "data": {
      "text/html": [
       "<style>#sk-container-id-53 {\n",
       "  /* Definition of color scheme common for light and dark mode */\n",
       "  --sklearn-color-text: black;\n",
       "  --sklearn-color-line: gray;\n",
       "  /* Definition of color scheme for unfitted estimators */\n",
       "  --sklearn-color-unfitted-level-0: #fff5e6;\n",
       "  --sklearn-color-unfitted-level-1: #f6e4d2;\n",
       "  --sklearn-color-unfitted-level-2: #ffe0b3;\n",
       "  --sklearn-color-unfitted-level-3: chocolate;\n",
       "  /* Definition of color scheme for fitted estimators */\n",
       "  --sklearn-color-fitted-level-0: #f0f8ff;\n",
       "  --sklearn-color-fitted-level-1: #d4ebff;\n",
       "  --sklearn-color-fitted-level-2: #b3dbfd;\n",
       "  --sklearn-color-fitted-level-3: cornflowerblue;\n",
       "\n",
       "  /* Specific color for light theme */\n",
       "  --sklearn-color-text-on-default-background: var(--sg-text-color, var(--theme-code-foreground, var(--jp-content-font-color1, black)));\n",
       "  --sklearn-color-background: var(--sg-background-color, var(--theme-background, var(--jp-layout-color0, white)));\n",
       "  --sklearn-color-border-box: var(--sg-text-color, var(--theme-code-foreground, var(--jp-content-font-color1, black)));\n",
       "  --sklearn-color-icon: #696969;\n",
       "\n",
       "  @media (prefers-color-scheme: dark) {\n",
       "    /* Redefinition of color scheme for dark theme */\n",
       "    --sklearn-color-text-on-default-background: var(--sg-text-color, var(--theme-code-foreground, var(--jp-content-font-color1, white)));\n",
       "    --sklearn-color-background: var(--sg-background-color, var(--theme-background, var(--jp-layout-color0, #111)));\n",
       "    --sklearn-color-border-box: var(--sg-text-color, var(--theme-code-foreground, var(--jp-content-font-color1, white)));\n",
       "    --sklearn-color-icon: #878787;\n",
       "  }\n",
       "}\n",
       "\n",
       "#sk-container-id-53 {\n",
       "  color: var(--sklearn-color-text);\n",
       "}\n",
       "\n",
       "#sk-container-id-53 pre {\n",
       "  padding: 0;\n",
       "}\n",
       "\n",
       "#sk-container-id-53 input.sk-hidden--visually {\n",
       "  border: 0;\n",
       "  clip: rect(1px 1px 1px 1px);\n",
       "  clip: rect(1px, 1px, 1px, 1px);\n",
       "  height: 1px;\n",
       "  margin: -1px;\n",
       "  overflow: hidden;\n",
       "  padding: 0;\n",
       "  position: absolute;\n",
       "  width: 1px;\n",
       "}\n",
       "\n",
       "#sk-container-id-53 div.sk-dashed-wrapped {\n",
       "  border: 1px dashed var(--sklearn-color-line);\n",
       "  margin: 0 0.4em 0.5em 0.4em;\n",
       "  box-sizing: border-box;\n",
       "  padding-bottom: 0.4em;\n",
       "  background-color: var(--sklearn-color-background);\n",
       "}\n",
       "\n",
       "#sk-container-id-53 div.sk-container {\n",
       "  /* jupyter's `normalize.less` sets `[hidden] { display: none; }`\n",
       "     but bootstrap.min.css set `[hidden] { display: none !important; }`\n",
       "     so we also need the `!important` here to be able to override the\n",
       "     default hidden behavior on the sphinx rendered scikit-learn.org.\n",
       "     See: https://github.com/scikit-learn/scikit-learn/issues/21755 */\n",
       "  display: inline-block !important;\n",
       "  position: relative;\n",
       "}\n",
       "\n",
       "#sk-container-id-53 div.sk-text-repr-fallback {\n",
       "  display: none;\n",
       "}\n",
       "\n",
       "div.sk-parallel-item,\n",
       "div.sk-serial,\n",
       "div.sk-item {\n",
       "  /* draw centered vertical line to link estimators */\n",
       "  background-image: linear-gradient(var(--sklearn-color-text-on-default-background), var(--sklearn-color-text-on-default-background));\n",
       "  background-size: 2px 100%;\n",
       "  background-repeat: no-repeat;\n",
       "  background-position: center center;\n",
       "}\n",
       "\n",
       "/* Parallel-specific style estimator block */\n",
       "\n",
       "#sk-container-id-53 div.sk-parallel-item::after {\n",
       "  content: \"\";\n",
       "  width: 100%;\n",
       "  border-bottom: 2px solid var(--sklearn-color-text-on-default-background);\n",
       "  flex-grow: 1;\n",
       "}\n",
       "\n",
       "#sk-container-id-53 div.sk-parallel {\n",
       "  display: flex;\n",
       "  align-items: stretch;\n",
       "  justify-content: center;\n",
       "  background-color: var(--sklearn-color-background);\n",
       "  position: relative;\n",
       "}\n",
       "\n",
       "#sk-container-id-53 div.sk-parallel-item {\n",
       "  display: flex;\n",
       "  flex-direction: column;\n",
       "}\n",
       "\n",
       "#sk-container-id-53 div.sk-parallel-item:first-child::after {\n",
       "  align-self: flex-end;\n",
       "  width: 50%;\n",
       "}\n",
       "\n",
       "#sk-container-id-53 div.sk-parallel-item:last-child::after {\n",
       "  align-self: flex-start;\n",
       "  width: 50%;\n",
       "}\n",
       "\n",
       "#sk-container-id-53 div.sk-parallel-item:only-child::after {\n",
       "  width: 0;\n",
       "}\n",
       "\n",
       "/* Serial-specific style estimator block */\n",
       "\n",
       "#sk-container-id-53 div.sk-serial {\n",
       "  display: flex;\n",
       "  flex-direction: column;\n",
       "  align-items: center;\n",
       "  background-color: var(--sklearn-color-background);\n",
       "  padding-right: 1em;\n",
       "  padding-left: 1em;\n",
       "}\n",
       "\n",
       "\n",
       "/* Toggleable style: style used for estimator/Pipeline/ColumnTransformer box that is\n",
       "clickable and can be expanded/collapsed.\n",
       "- Pipeline and ColumnTransformer use this feature and define the default style\n",
       "- Estimators will overwrite some part of the style using the `sk-estimator` class\n",
       "*/\n",
       "\n",
       "/* Pipeline and ColumnTransformer style (default) */\n",
       "\n",
       "#sk-container-id-53 div.sk-toggleable {\n",
       "  /* Default theme specific background. It is overwritten whether we have a\n",
       "  specific estimator or a Pipeline/ColumnTransformer */\n",
       "  background-color: var(--sklearn-color-background);\n",
       "}\n",
       "\n",
       "/* Toggleable label */\n",
       "#sk-container-id-53 label.sk-toggleable__label {\n",
       "  cursor: pointer;\n",
       "  display: block;\n",
       "  width: 100%;\n",
       "  margin-bottom: 0;\n",
       "  padding: 0.5em;\n",
       "  box-sizing: border-box;\n",
       "  text-align: center;\n",
       "}\n",
       "\n",
       "#sk-container-id-53 label.sk-toggleable__label-arrow:before {\n",
       "  /* Arrow on the left of the label */\n",
       "  content: \"▸\";\n",
       "  float: left;\n",
       "  margin-right: 0.25em;\n",
       "  color: var(--sklearn-color-icon);\n",
       "}\n",
       "\n",
       "#sk-container-id-53 label.sk-toggleable__label-arrow:hover:before {\n",
       "  color: var(--sklearn-color-text);\n",
       "}\n",
       "\n",
       "/* Toggleable content - dropdown */\n",
       "\n",
       "#sk-container-id-53 div.sk-toggleable__content {\n",
       "  max-height: 0;\n",
       "  max-width: 0;\n",
       "  overflow: hidden;\n",
       "  text-align: left;\n",
       "  /* unfitted */\n",
       "  background-color: var(--sklearn-color-unfitted-level-0);\n",
       "}\n",
       "\n",
       "#sk-container-id-53 div.sk-toggleable__content.fitted {\n",
       "  /* fitted */\n",
       "  background-color: var(--sklearn-color-fitted-level-0);\n",
       "}\n",
       "\n",
       "#sk-container-id-53 div.sk-toggleable__content pre {\n",
       "  margin: 0.2em;\n",
       "  border-radius: 0.25em;\n",
       "  color: var(--sklearn-color-text);\n",
       "  /* unfitted */\n",
       "  background-color: var(--sklearn-color-unfitted-level-0);\n",
       "}\n",
       "\n",
       "#sk-container-id-53 div.sk-toggleable__content.fitted pre {\n",
       "  /* unfitted */\n",
       "  background-color: var(--sklearn-color-fitted-level-0);\n",
       "}\n",
       "\n",
       "#sk-container-id-53 input.sk-toggleable__control:checked~div.sk-toggleable__content {\n",
       "  /* Expand drop-down */\n",
       "  max-height: 200px;\n",
       "  max-width: 100%;\n",
       "  overflow: auto;\n",
       "}\n",
       "\n",
       "#sk-container-id-53 input.sk-toggleable__control:checked~label.sk-toggleable__label-arrow:before {\n",
       "  content: \"▾\";\n",
       "}\n",
       "\n",
       "/* Pipeline/ColumnTransformer-specific style */\n",
       "\n",
       "#sk-container-id-53 div.sk-label input.sk-toggleable__control:checked~label.sk-toggleable__label {\n",
       "  color: var(--sklearn-color-text);\n",
       "  background-color: var(--sklearn-color-unfitted-level-2);\n",
       "}\n",
       "\n",
       "#sk-container-id-53 div.sk-label.fitted input.sk-toggleable__control:checked~label.sk-toggleable__label {\n",
       "  background-color: var(--sklearn-color-fitted-level-2);\n",
       "}\n",
       "\n",
       "/* Estimator-specific style */\n",
       "\n",
       "/* Colorize estimator box */\n",
       "#sk-container-id-53 div.sk-estimator input.sk-toggleable__control:checked~label.sk-toggleable__label {\n",
       "  /* unfitted */\n",
       "  background-color: var(--sklearn-color-unfitted-level-2);\n",
       "}\n",
       "\n",
       "#sk-container-id-53 div.sk-estimator.fitted input.sk-toggleable__control:checked~label.sk-toggleable__label {\n",
       "  /* fitted */\n",
       "  background-color: var(--sklearn-color-fitted-level-2);\n",
       "}\n",
       "\n",
       "#sk-container-id-53 div.sk-label label.sk-toggleable__label,\n",
       "#sk-container-id-53 div.sk-label label {\n",
       "  /* The background is the default theme color */\n",
       "  color: var(--sklearn-color-text-on-default-background);\n",
       "}\n",
       "\n",
       "/* On hover, darken the color of the background */\n",
       "#sk-container-id-53 div.sk-label:hover label.sk-toggleable__label {\n",
       "  color: var(--sklearn-color-text);\n",
       "  background-color: var(--sklearn-color-unfitted-level-2);\n",
       "}\n",
       "\n",
       "/* Label box, darken color on hover, fitted */\n",
       "#sk-container-id-53 div.sk-label.fitted:hover label.sk-toggleable__label.fitted {\n",
       "  color: var(--sklearn-color-text);\n",
       "  background-color: var(--sklearn-color-fitted-level-2);\n",
       "}\n",
       "\n",
       "/* Estimator label */\n",
       "\n",
       "#sk-container-id-53 div.sk-label label {\n",
       "  font-family: monospace;\n",
       "  font-weight: bold;\n",
       "  display: inline-block;\n",
       "  line-height: 1.2em;\n",
       "}\n",
       "\n",
       "#sk-container-id-53 div.sk-label-container {\n",
       "  text-align: center;\n",
       "}\n",
       "\n",
       "/* Estimator-specific */\n",
       "#sk-container-id-53 div.sk-estimator {\n",
       "  font-family: monospace;\n",
       "  border: 1px dotted var(--sklearn-color-border-box);\n",
       "  border-radius: 0.25em;\n",
       "  box-sizing: border-box;\n",
       "  margin-bottom: 0.5em;\n",
       "  /* unfitted */\n",
       "  background-color: var(--sklearn-color-unfitted-level-0);\n",
       "}\n",
       "\n",
       "#sk-container-id-53 div.sk-estimator.fitted {\n",
       "  /* fitted */\n",
       "  background-color: var(--sklearn-color-fitted-level-0);\n",
       "}\n",
       "\n",
       "/* on hover */\n",
       "#sk-container-id-53 div.sk-estimator:hover {\n",
       "  /* unfitted */\n",
       "  background-color: var(--sklearn-color-unfitted-level-2);\n",
       "}\n",
       "\n",
       "#sk-container-id-53 div.sk-estimator.fitted:hover {\n",
       "  /* fitted */\n",
       "  background-color: var(--sklearn-color-fitted-level-2);\n",
       "}\n",
       "\n",
       "/* Specification for estimator info (e.g. \"i\" and \"?\") */\n",
       "\n",
       "/* Common style for \"i\" and \"?\" */\n",
       "\n",
       ".sk-estimator-doc-link,\n",
       "a:link.sk-estimator-doc-link,\n",
       "a:visited.sk-estimator-doc-link {\n",
       "  float: right;\n",
       "  font-size: smaller;\n",
       "  line-height: 1em;\n",
       "  font-family: monospace;\n",
       "  background-color: var(--sklearn-color-background);\n",
       "  border-radius: 1em;\n",
       "  height: 1em;\n",
       "  width: 1em;\n",
       "  text-decoration: none !important;\n",
       "  margin-left: 1ex;\n",
       "  /* unfitted */\n",
       "  border: var(--sklearn-color-unfitted-level-1) 1pt solid;\n",
       "  color: var(--sklearn-color-unfitted-level-1);\n",
       "}\n",
       "\n",
       ".sk-estimator-doc-link.fitted,\n",
       "a:link.sk-estimator-doc-link.fitted,\n",
       "a:visited.sk-estimator-doc-link.fitted {\n",
       "  /* fitted */\n",
       "  border: var(--sklearn-color-fitted-level-1) 1pt solid;\n",
       "  color: var(--sklearn-color-fitted-level-1);\n",
       "}\n",
       "\n",
       "/* On hover */\n",
       "div.sk-estimator:hover .sk-estimator-doc-link:hover,\n",
       ".sk-estimator-doc-link:hover,\n",
       "div.sk-label-container:hover .sk-estimator-doc-link:hover,\n",
       ".sk-estimator-doc-link:hover {\n",
       "  /* unfitted */\n",
       "  background-color: var(--sklearn-color-unfitted-level-3);\n",
       "  color: var(--sklearn-color-background);\n",
       "  text-decoration: none;\n",
       "}\n",
       "\n",
       "div.sk-estimator.fitted:hover .sk-estimator-doc-link.fitted:hover,\n",
       ".sk-estimator-doc-link.fitted:hover,\n",
       "div.sk-label-container:hover .sk-estimator-doc-link.fitted:hover,\n",
       ".sk-estimator-doc-link.fitted:hover {\n",
       "  /* fitted */\n",
       "  background-color: var(--sklearn-color-fitted-level-3);\n",
       "  color: var(--sklearn-color-background);\n",
       "  text-decoration: none;\n",
       "}\n",
       "\n",
       "/* Span, style for the box shown on hovering the info icon */\n",
       ".sk-estimator-doc-link span {\n",
       "  display: none;\n",
       "  z-index: 9999;\n",
       "  position: relative;\n",
       "  font-weight: normal;\n",
       "  right: .2ex;\n",
       "  padding: .5ex;\n",
       "  margin: .5ex;\n",
       "  width: min-content;\n",
       "  min-width: 20ex;\n",
       "  max-width: 50ex;\n",
       "  color: var(--sklearn-color-text);\n",
       "  box-shadow: 2pt 2pt 4pt #999;\n",
       "  /* unfitted */\n",
       "  background: var(--sklearn-color-unfitted-level-0);\n",
       "  border: .5pt solid var(--sklearn-color-unfitted-level-3);\n",
       "}\n",
       "\n",
       ".sk-estimator-doc-link.fitted span {\n",
       "  /* fitted */\n",
       "  background: var(--sklearn-color-fitted-level-0);\n",
       "  border: var(--sklearn-color-fitted-level-3);\n",
       "}\n",
       "\n",
       ".sk-estimator-doc-link:hover span {\n",
       "  display: block;\n",
       "}\n",
       "\n",
       "/* \"?\"-specific style due to the `<a>` HTML tag */\n",
       "\n",
       "#sk-container-id-53 a.estimator_doc_link {\n",
       "  float: right;\n",
       "  font-size: 1rem;\n",
       "  line-height: 1em;\n",
       "  font-family: monospace;\n",
       "  background-color: var(--sklearn-color-background);\n",
       "  border-radius: 1rem;\n",
       "  height: 1rem;\n",
       "  width: 1rem;\n",
       "  text-decoration: none;\n",
       "  /* unfitted */\n",
       "  color: var(--sklearn-color-unfitted-level-1);\n",
       "  border: var(--sklearn-color-unfitted-level-1) 1pt solid;\n",
       "}\n",
       "\n",
       "#sk-container-id-53 a.estimator_doc_link.fitted {\n",
       "  /* fitted */\n",
       "  border: var(--sklearn-color-fitted-level-1) 1pt solid;\n",
       "  color: var(--sklearn-color-fitted-level-1);\n",
       "}\n",
       "\n",
       "/* On hover */\n",
       "#sk-container-id-53 a.estimator_doc_link:hover {\n",
       "  /* unfitted */\n",
       "  background-color: var(--sklearn-color-unfitted-level-3);\n",
       "  color: var(--sklearn-color-background);\n",
       "  text-decoration: none;\n",
       "}\n",
       "\n",
       "#sk-container-id-53 a.estimator_doc_link.fitted:hover {\n",
       "  /* fitted */\n",
       "  background-color: var(--sklearn-color-fitted-level-3);\n",
       "}\n",
       "</style><div id=\"sk-container-id-53\" class=\"sk-top-container\"><div class=\"sk-text-repr-fallback\"><pre>KMeans(n_clusters=4, n_init=25, random_state=42)</pre><b>In a Jupyter environment, please rerun this cell to show the HTML representation or trust the notebook. <br />On GitHub, the HTML representation is unable to render, please try loading this page with nbviewer.org.</b></div><div class=\"sk-container\" hidden><div class=\"sk-item\"><div class=\"sk-estimator fitted sk-toggleable\"><input class=\"sk-toggleable__control sk-hidden--visually\" id=\"sk-estimator-id-53\" type=\"checkbox\" checked><label for=\"sk-estimator-id-53\" class=\"sk-toggleable__label fitted sk-toggleable__label-arrow fitted\">&nbsp;&nbsp;KMeans<a class=\"sk-estimator-doc-link fitted\" rel=\"noreferrer\" target=\"_blank\" href=\"https://scikit-learn.org/1.5/modules/generated/sklearn.cluster.KMeans.html\">?<span>Documentation for KMeans</span></a><span class=\"sk-estimator-doc-link fitted\">i<span>Fitted</span></span></label><div class=\"sk-toggleable__content fitted\"><pre>KMeans(n_clusters=4, n_init=25, random_state=42)</pre></div> </div></div></div></div>"
      ],
      "text/plain": [
       "KMeans(n_clusters=4, n_init=25, random_state=42)"
      ]
     },
     "execution_count": 1153,
     "metadata": {},
     "output_type": "execute_result"
    }
   ],
   "source": [
    "k = 4\n",
    "\n",
    "# Aplicando o KMeans com k clusters\n",
    "k_means = cluster.KMeans(n_clusters=k, init='k-means++', n_init=25, max_iter=300, random_state=42)\n",
    "k_means.fit(df_sample)"
   ]
  },
  {
   "cell_type": "code",
   "execution_count": 1154,
   "metadata": {},
   "outputs": [
    {
     "data": {
      "image/png": "[encoded data removed]",
      "text/plain": [
       "<Figure size 640x480 with 1 Axes>"
      ]
     },
     "metadata": {},
     "output_type": "display_data"
    }
   ],
   "source": [
    "# Contar a ocorrência de cada cluster\n",
    "contagem = np.bincount(k_means.labels_)\n",
    "\n",
    "# Plotar o gráfico de barras\n",
    "plt.bar(range(len(contagem)), np.sort(contagem), tick_label=range(len(contagem)))\n",
    "plt.xlabel('Cluster')\n",
    "plt.ylabel('Número de Municípios')\n",
    "plt.title('Contagem de Municípios em Cada Cluster')\n",
    "plt.show()"
   ]
  },
  {
   "cell_type": "markdown",
   "metadata": {},
   "source": [
    "## K-means com PCA"
   ]
  },
  {
   "cell_type": "code",
   "execution_count": 1155,
   "metadata": {},
   "outputs": [
    {
     "data": {
      "text/plain": [
       "[35.57555584160119,\n",
       " 23.511056045494417,\n",
       " 14.152426946112364,\n",
       " 8.343191490953037,\n",
       " 5.640737969161476,\n",
       " 3.849979998640111,\n",
       " 2.761610246955607,\n",
       " 1.95409114390367,\n",
       " 1.4305824793838529,\n",
       " 1.0340917012531279,\n",
       " 0.7606782546186452,\n",
       " 0.5029367300189695,\n",
       " 0.3183540740056434,\n",
       " 0.17278580118086959]"
      ]
     },
     "execution_count": 1155,
     "metadata": {},
     "output_type": "execute_result"
    }
   ],
   "source": [
    "# Aplicando o método de Elbow para encontrar o número de clusters\n",
    "clusters = np.arange(1,15,1)\n",
    "\n",
    "SSE = []\n",
    "for k in clusters:\n",
    "    k_means = cluster.KMeans(n_clusters=k, init='k-means++', n_init=25, max_iter=300, random_state=42)\n",
    "    k_means.fit(df_pca)\n",
    "    SSE.append(k_means.inertia_)\n",
    "\n",
    "SSE"
   ]
  },
  {
   "cell_type": "code",
   "execution_count": 1156,
   "metadata": {},
   "outputs": [
    {
     "data": {
      "text/plain": [
       "Text(0, 0.5, 'SSE')"
      ]
     },
     "execution_count": 1156,
     "metadata": {},
     "output_type": "execute_result"
    },
    {
     "data": {
      "image/png": "[encoded data removed]",
      "text/plain": [
       "<Figure size 640x480 with 1 Axes>"
      ]
     },
     "metadata": {},
     "output_type": "display_data"
    }
   ],
   "source": [
    "# Plotando o gráfico do método de Elbow\n",
    "plt.plot(clusters, SSE)\n",
    "plt.xlabel('Number of Clusters')\n",
    "plt.ylabel('SSE')"
   ]
  },
  {
   "cell_type": "code",
   "execution_count": 1157,
   "metadata": {},
   "outputs": [
    {
     "data": {
      "text/plain": [
       "[0.41806110885341746,\n",
       " 0.5108177574527997,\n",
       " 0.5405847880932366,\n",
       " 0.5327565574711678,\n",
       " 0.42024981148666263,\n",
       " 0.4746385918027891,\n",
       " 0.4963846736337929,\n",
       " 0.46641108307313706,\n",
       " 0.45437289909514916,\n",
       " 0.490030453318988,\n",
       " 0.44552149534695845,\n",
       " 0.4191976443035264]"
      ]
     },
     "execution_count": 1157,
     "metadata": {},
     "output_type": "execute_result"
    }
   ],
   "source": [
    "# Aplicando o método de Silhouette para encontrar o número de clusters\n",
    "clusters = np.arange(2,14,1)\n",
    "SC = []\n",
    "for k in clusters:\n",
    "    k_means = cluster.KMeans(n_clusters=k, init='k-means++', n_init=25, random_state=123)\n",
    "    k_means.fit(df_pca)\n",
    "    SC.append(silhouette_score(df_pca, k_means.labels_))\n",
    "SC"
   ]
  },
  {
   "cell_type": "code",
   "execution_count": 1158,
   "metadata": {},
   "outputs": [
    {
     "data": {
      "text/plain": [
       "Text(0, 0.5, 'SC')"
      ]
     },
     "execution_count": 1158,
     "metadata": {},
     "output_type": "execute_result"
    },
    {
     "data": {
      "image/png": "[encoded data removed]",
      "text/plain": [
       "<Figure size 640x480 with 1 Axes>"
      ]
     },
     "metadata": {},
     "output_type": "display_data"
    }
   ],
   "source": [
    "# Plotando o gráfico do método de Silhouette\n",
    "plt.plot(clusters, SC)\n",
    "plt.xlabel('Number of Clusters')\n",
    "plt.ylabel('SC')"
   ]
  },
  {
   "cell_type": "code",
   "execution_count": 1159,
   "metadata": {},
   "outputs": [
    {
     "data": {
      "text/html": [
       "<style>#sk-container-id-54 {\n",
       "  /* Definition of color scheme common for light and dark mode */\n",
       "  --sklearn-color-text: black;\n",
       "  --sklearn-color-line: gray;\n",
       "  /* Definition of color scheme for unfitted estimators */\n",
       "  --sklearn-color-unfitted-level-0: #fff5e6;\n",
       "  --sklearn-color-unfitted-level-1: #f6e4d2;\n",
       "  --sklearn-color-unfitted-level-2: #ffe0b3;\n",
       "  --sklearn-color-unfitted-level-3: chocolate;\n",
       "  /* Definition of color scheme for fitted estimators */\n",
       "  --sklearn-color-fitted-level-0: #f0f8ff;\n",
       "  --sklearn-color-fitted-level-1: #d4ebff;\n",
       "  --sklearn-color-fitted-level-2: #b3dbfd;\n",
       "  --sklearn-color-fitted-level-3: cornflowerblue;\n",
       "\n",
       "  /* Specific color for light theme */\n",
       "  --sklearn-color-text-on-default-background: var(--sg-text-color, var(--theme-code-foreground, var(--jp-content-font-color1, black)));\n",
       "  --sklearn-color-background: var(--sg-background-color, var(--theme-background, var(--jp-layout-color0, white)));\n",
       "  --sklearn-color-border-box: var(--sg-text-color, var(--theme-code-foreground, var(--jp-content-font-color1, black)));\n",
       "  --sklearn-color-icon: #696969;\n",
       "\n",
       "  @media (prefers-color-scheme: dark) {\n",
       "    /* Redefinition of color scheme for dark theme */\n",
       "    --sklearn-color-text-on-default-background: var(--sg-text-color, var(--theme-code-foreground, var(--jp-content-font-color1, white)));\n",
       "    --sklearn-color-background: var(--sg-background-color, var(--theme-background, var(--jp-layout-color0, #111)));\n",
       "    --sklearn-color-border-box: var(--sg-text-color, var(--theme-code-foreground, var(--jp-content-font-color1, white)));\n",
       "    --sklearn-color-icon: #878787;\n",
       "  }\n",
       "}\n",
       "\n",
       "#sk-container-id-54 {\n",
       "  color: var(--sklearn-color-text);\n",
       "}\n",
       "\n",
       "#sk-container-id-54 pre {\n",
       "  padding: 0;\n",
       "}\n",
       "\n",
       "#sk-container-id-54 input.sk-hidden--visually {\n",
       "  border: 0;\n",
       "  clip: rect(1px 1px 1px 1px);\n",
       "  clip: rect(1px, 1px, 1px, 1px);\n",
       "  height: 1px;\n",
       "  margin: -1px;\n",
       "  overflow: hidden;\n",
       "  padding: 0;\n",
       "  position: absolute;\n",
       "  width: 1px;\n",
       "}\n",
       "\n",
       "#sk-container-id-54 div.sk-dashed-wrapped {\n",
       "  border: 1px dashed var(--sklearn-color-line);\n",
       "  margin: 0 0.4em 0.5em 0.4em;\n",
       "  box-sizing: border-box;\n",
       "  padding-bottom: 0.4em;\n",
       "  background-color: var(--sklearn-color-background);\n",
       "}\n",
       "\n",
       "#sk-container-id-54 div.sk-container {\n",
       "  /* jupyter's `normalize.less` sets `[hidden] { display: none; }`\n",
       "     but bootstrap.min.css set `[hidden] { display: none !important; }`\n",
       "     so we also need the `!important` here to be able to override the\n",
       "     default hidden behavior on the sphinx rendered scikit-learn.org.\n",
       "     See: https://github.com/scikit-learn/scikit-learn/issues/21755 */\n",
       "  display: inline-block !important;\n",
       "  position: relative;\n",
       "}\n",
       "\n",
       "#sk-container-id-54 div.sk-text-repr-fallback {\n",
       "  display: none;\n",
       "}\n",
       "\n",
       "div.sk-parallel-item,\n",
       "div.sk-serial,\n",
       "div.sk-item {\n",
       "  /* draw centered vertical line to link estimators */\n",
       "  background-image: linear-gradient(var(--sklearn-color-text-on-default-background), var(--sklearn-color-text-on-default-background));\n",
       "  background-size: 2px 100%;\n",
       "  background-repeat: no-repeat;\n",
       "  background-position: center center;\n",
       "}\n",
       "\n",
       "/* Parallel-specific style estimator block */\n",
       "\n",
       "#sk-container-id-54 div.sk-parallel-item::after {\n",
       "  content: \"\";\n",
       "  width: 100%;\n",
       "  border-bottom: 2px solid var(--sklearn-color-text-on-default-background);\n",
       "  flex-grow: 1;\n",
       "}\n",
       "\n",
       "#sk-container-id-54 div.sk-parallel {\n",
       "  display: flex;\n",
       "  align-items: stretch;\n",
       "  justify-content: center;\n",
       "  background-color: var(--sklearn-color-background);\n",
       "  position: relative;\n",
       "}\n",
       "\n",
       "#sk-container-id-54 div.sk-parallel-item {\n",
       "  display: flex;\n",
       "  flex-direction: column;\n",
       "}\n",
       "\n",
       "#sk-container-id-54 div.sk-parallel-item:first-child::after {\n",
       "  align-self: flex-end;\n",
       "  width: 50%;\n",
       "}\n",
       "\n",
       "#sk-container-id-54 div.sk-parallel-item:last-child::after {\n",
       "  align-self: flex-start;\n",
       "  width: 50%;\n",
       "}\n",
       "\n",
       "#sk-container-id-54 div.sk-parallel-item:only-child::after {\n",
       "  width: 0;\n",
       "}\n",
       "\n",
       "/* Serial-specific style estimator block */\n",
       "\n",
       "#sk-container-id-54 div.sk-serial {\n",
       "  display: flex;\n",
       "  flex-direction: column;\n",
       "  align-items: center;\n",
       "  background-color: var(--sklearn-color-background);\n",
       "  padding-right: 1em;\n",
       "  padding-left: 1em;\n",
       "}\n",
       "\n",
       "\n",
       "/* Toggleable style: style used for estimator/Pipeline/ColumnTransformer box that is\n",
       "clickable and can be expanded/collapsed.\n",
       "- Pipeline and ColumnTransformer use this feature and define the default style\n",
       "- Estimators will overwrite some part of the style using the `sk-estimator` class\n",
       "*/\n",
       "\n",
       "/* Pipeline and ColumnTransformer style (default) */\n",
       "\n",
       "#sk-container-id-54 div.sk-toggleable {\n",
       "  /* Default theme specific background. It is overwritten whether we have a\n",
       "  specific estimator or a Pipeline/ColumnTransformer */\n",
       "  background-color: var(--sklearn-color-background);\n",
       "}\n",
       "\n",
       "/* Toggleable label */\n",
       "#sk-container-id-54 label.sk-toggleable__label {\n",
       "  cursor: pointer;\n",
       "  display: block;\n",
       "  width: 100%;\n",
       "  margin-bottom: 0;\n",
       "  padding: 0.5em;\n",
       "  box-sizing: border-box;\n",
       "  text-align: center;\n",
       "}\n",
       "\n",
       "#sk-container-id-54 label.sk-toggleable__label-arrow:before {\n",
       "  /* Arrow on the left of the label */\n",
       "  content: \"▸\";\n",
       "  float: left;\n",
       "  margin-right: 0.25em;\n",
       "  color: var(--sklearn-color-icon);\n",
       "}\n",
       "\n",
       "#sk-container-id-54 label.sk-toggleable__label-arrow:hover:before {\n",
       "  color: var(--sklearn-color-text);\n",
       "}\n",
       "\n",
       "/* Toggleable content - dropdown */\n",
       "\n",
       "#sk-container-id-54 div.sk-toggleable__content {\n",
       "  max-height: 0;\n",
       "  max-width: 0;\n",
       "  overflow: hidden;\n",
       "  text-align: left;\n",
       "  /* unfitted */\n",
       "  background-color: var(--sklearn-color-unfitted-level-0);\n",
       "}\n",
       "\n",
       "#sk-container-id-54 div.sk-toggleable__content.fitted {\n",
       "  /* fitted */\n",
       "  background-color: var(--sklearn-color-fitted-level-0);\n",
       "}\n",
       "\n",
       "#sk-container-id-54 div.sk-toggleable__content pre {\n",
       "  margin: 0.2em;\n",
       "  border-radius: 0.25em;\n",
       "  color: var(--sklearn-color-text);\n",
       "  /* unfitted */\n",
       "  background-color: var(--sklearn-color-unfitted-level-0);\n",
       "}\n",
       "\n",
       "#sk-container-id-54 div.sk-toggleable__content.fitted pre {\n",
       "  /* unfitted */\n",
       "  background-color: var(--sklearn-color-fitted-level-0);\n",
       "}\n",
       "\n",
       "#sk-container-id-54 input.sk-toggleable__control:checked~div.sk-toggleable__content {\n",
       "  /* Expand drop-down */\n",
       "  max-height: 200px;\n",
       "  max-width: 100%;\n",
       "  overflow: auto;\n",
       "}\n",
       "\n",
       "#sk-container-id-54 input.sk-toggleable__control:checked~label.sk-toggleable__label-arrow:before {\n",
       "  content: \"▾\";\n",
       "}\n",
       "\n",
       "/* Pipeline/ColumnTransformer-specific style */\n",
       "\n",
       "#sk-container-id-54 div.sk-label input.sk-toggleable__control:checked~label.sk-toggleable__label {\n",
       "  color: var(--sklearn-color-text);\n",
       "  background-color: var(--sklearn-color-unfitted-level-2);\n",
       "}\n",
       "\n",
       "#sk-container-id-54 div.sk-label.fitted input.sk-toggleable__control:checked~label.sk-toggleable__label {\n",
       "  background-color: var(--sklearn-color-fitted-level-2);\n",
       "}\n",
       "\n",
       "/* Estimator-specific style */\n",
       "\n",
       "/* Colorize estimator box */\n",
       "#sk-container-id-54 div.sk-estimator input.sk-toggleable__control:checked~label.sk-toggleable__label {\n",
       "  /* unfitted */\n",
       "  background-color: var(--sklearn-color-unfitted-level-2);\n",
       "}\n",
       "\n",
       "#sk-container-id-54 div.sk-estimator.fitted input.sk-toggleable__control:checked~label.sk-toggleable__label {\n",
       "  /* fitted */\n",
       "  background-color: var(--sklearn-color-fitted-level-2);\n",
       "}\n",
       "\n",
       "#sk-container-id-54 div.sk-label label.sk-toggleable__label,\n",
       "#sk-container-id-54 div.sk-label label {\n",
       "  /* The background is the default theme color */\n",
       "  color: var(--sklearn-color-text-on-default-background);\n",
       "}\n",
       "\n",
       "/* On hover, darken the color of the background */\n",
       "#sk-container-id-54 div.sk-label:hover label.sk-toggleable__label {\n",
       "  color: var(--sklearn-color-text);\n",
       "  background-color: var(--sklearn-color-unfitted-level-2);\n",
       "}\n",
       "\n",
       "/* Label box, darken color on hover, fitted */\n",
       "#sk-container-id-54 div.sk-label.fitted:hover label.sk-toggleable__label.fitted {\n",
       "  color: var(--sklearn-color-text);\n",
       "  background-color: var(--sklearn-color-fitted-level-2);\n",
       "}\n",
       "\n",
       "/* Estimator label */\n",
       "\n",
       "#sk-container-id-54 div.sk-label label {\n",
       "  font-family: monospace;\n",
       "  font-weight: bold;\n",
       "  display: inline-block;\n",
       "  line-height: 1.2em;\n",
       "}\n",
       "\n",
       "#sk-container-id-54 div.sk-label-container {\n",
       "  text-align: center;\n",
       "}\n",
       "\n",
       "/* Estimator-specific */\n",
       "#sk-container-id-54 div.sk-estimator {\n",
       "  font-family: monospace;\n",
       "  border: 1px dotted var(--sklearn-color-border-box);\n",
       "  border-radius: 0.25em;\n",
       "  box-sizing: border-box;\n",
       "  margin-bottom: 0.5em;\n",
       "  /* unfitted */\n",
       "  background-color: var(--sklearn-color-unfitted-level-0);\n",
       "}\n",
       "\n",
       "#sk-container-id-54 div.sk-estimator.fitted {\n",
       "  /* fitted */\n",
       "  background-color: var(--sklearn-color-fitted-level-0);\n",
       "}\n",
       "\n",
       "/* on hover */\n",
       "#sk-container-id-54 div.sk-estimator:hover {\n",
       "  /* unfitted */\n",
       "  background-color: var(--sklearn-color-unfitted-level-2);\n",
       "}\n",
       "\n",
       "#sk-container-id-54 div.sk-estimator.fitted:hover {\n",
       "  /* fitted */\n",
       "  background-color: var(--sklearn-color-fitted-level-2);\n",
       "}\n",
       "\n",
       "/* Specification for estimator info (e.g. \"i\" and \"?\") */\n",
       "\n",
       "/* Common style for \"i\" and \"?\" */\n",
       "\n",
       ".sk-estimator-doc-link,\n",
       "a:link.sk-estimator-doc-link,\n",
       "a:visited.sk-estimator-doc-link {\n",
       "  float: right;\n",
       "  font-size: smaller;\n",
       "  line-height: 1em;\n",
       "  font-family: monospace;\n",
       "  background-color: var(--sklearn-color-background);\n",
       "  border-radius: 1em;\n",
       "  height: 1em;\n",
       "  width: 1em;\n",
       "  text-decoration: none !important;\n",
       "  margin-left: 1ex;\n",
       "  /* unfitted */\n",
       "  border: var(--sklearn-color-unfitted-level-1) 1pt solid;\n",
       "  color: var(--sklearn-color-unfitted-level-1);\n",
       "}\n",
       "\n",
       ".sk-estimator-doc-link.fitted,\n",
       "a:link.sk-estimator-doc-link.fitted,\n",
       "a:visited.sk-estimator-doc-link.fitted {\n",
       "  /* fitted */\n",
       "  border: var(--sklearn-color-fitted-level-1) 1pt solid;\n",
       "  color: var(--sklearn-color-fitted-level-1);\n",
       "}\n",
       "\n",
       "/* On hover */\n",
       "div.sk-estimator:hover .sk-estimator-doc-link:hover,\n",
       ".sk-estimator-doc-link:hover,\n",
       "div.sk-label-container:hover .sk-estimator-doc-link:hover,\n",
       ".sk-estimator-doc-link:hover {\n",
       "  /* unfitted */\n",
       "  background-color: var(--sklearn-color-unfitted-level-3);\n",
       "  color: var(--sklearn-color-background);\n",
       "  text-decoration: none;\n",
       "}\n",
       "\n",
       "div.sk-estimator.fitted:hover .sk-estimator-doc-link.fitted:hover,\n",
       ".sk-estimator-doc-link.fitted:hover,\n",
       "div.sk-label-container:hover .sk-estimator-doc-link.fitted:hover,\n",
       ".sk-estimator-doc-link.fitted:hover {\n",
       "  /* fitted */\n",
       "  background-color: var(--sklearn-color-fitted-level-3);\n",
       "  color: var(--sklearn-color-background);\n",
       "  text-decoration: none;\n",
       "}\n",
       "\n",
       "/* Span, style for the box shown on hovering the info icon */\n",
       ".sk-estimator-doc-link span {\n",
       "  display: none;\n",
       "  z-index: 9999;\n",
       "  position: relative;\n",
       "  font-weight: normal;\n",
       "  right: .2ex;\n",
       "  padding: .5ex;\n",
       "  margin: .5ex;\n",
       "  width: min-content;\n",
       "  min-width: 20ex;\n",
       "  max-width: 50ex;\n",
       "  color: var(--sklearn-color-text);\n",
       "  box-shadow: 2pt 2pt 4pt #999;\n",
       "  /* unfitted */\n",
       "  background: var(--sklearn-color-unfitted-level-0);\n",
       "  border: .5pt solid var(--sklearn-color-unfitted-level-3);\n",
       "}\n",
       "\n",
       ".sk-estimator-doc-link.fitted span {\n",
       "  /* fitted */\n",
       "  background: var(--sklearn-color-fitted-level-0);\n",
       "  border: var(--sklearn-color-fitted-level-3);\n",
       "}\n",
       "\n",
       ".sk-estimator-doc-link:hover span {\n",
       "  display: block;\n",
       "}\n",
       "\n",
       "/* \"?\"-specific style due to the `<a>` HTML tag */\n",
       "\n",
       "#sk-container-id-54 a.estimator_doc_link {\n",
       "  float: right;\n",
       "  font-size: 1rem;\n",
       "  line-height: 1em;\n",
       "  font-family: monospace;\n",
       "  background-color: var(--sklearn-color-background);\n",
       "  border-radius: 1rem;\n",
       "  height: 1rem;\n",
       "  width: 1rem;\n",
       "  text-decoration: none;\n",
       "  /* unfitted */\n",
       "  color: var(--sklearn-color-unfitted-level-1);\n",
       "  border: var(--sklearn-color-unfitted-level-1) 1pt solid;\n",
       "}\n",
       "\n",
       "#sk-container-id-54 a.estimator_doc_link.fitted {\n",
       "  /* fitted */\n",
       "  border: var(--sklearn-color-fitted-level-1) 1pt solid;\n",
       "  color: var(--sklearn-color-fitted-level-1);\n",
       "}\n",
       "\n",
       "/* On hover */\n",
       "#sk-container-id-54 a.estimator_doc_link:hover {\n",
       "  /* unfitted */\n",
       "  background-color: var(--sklearn-color-unfitted-level-3);\n",
       "  color: var(--sklearn-color-background);\n",
       "  text-decoration: none;\n",
       "}\n",
       "\n",
       "#sk-container-id-54 a.estimator_doc_link.fitted:hover {\n",
       "  /* fitted */\n",
       "  background-color: var(--sklearn-color-fitted-level-3);\n",
       "}\n",
       "</style><div id=\"sk-container-id-54\" class=\"sk-top-container\"><div class=\"sk-text-repr-fallback\"><pre>KMeans(n_clusters=4, n_init=25, random_state=123)</pre><b>In a Jupyter environment, please rerun this cell to show the HTML representation or trust the notebook. <br />On GitHub, the HTML representation is unable to render, please try loading this page with nbviewer.org.</b></div><div class=\"sk-container\" hidden><div class=\"sk-item\"><div class=\"sk-estimator fitted sk-toggleable\"><input class=\"sk-toggleable__control sk-hidden--visually\" id=\"sk-estimator-id-54\" type=\"checkbox\" checked><label for=\"sk-estimator-id-54\" class=\"sk-toggleable__label fitted sk-toggleable__label-arrow fitted\">&nbsp;&nbsp;KMeans<a class=\"sk-estimator-doc-link fitted\" rel=\"noreferrer\" target=\"_blank\" href=\"https://scikit-learn.org/1.5/modules/generated/sklearn.cluster.KMeans.html\">?<span>Documentation for KMeans</span></a><span class=\"sk-estimator-doc-link fitted\">i<span>Fitted</span></span></label><div class=\"sk-toggleable__content fitted\"><pre>KMeans(n_clusters=4, n_init=25, random_state=123)</pre></div> </div></div></div></div>"
      ],
      "text/plain": [
       "KMeans(n_clusters=4, n_init=25, random_state=123)"
      ]
     },
     "execution_count": 1159,
     "metadata": {},
     "output_type": "execute_result"
    }
   ],
   "source": [
    "k = 4\n",
    "\n",
    "# Aplicando o KMeans com n clusters\n",
    "k_means = cluster.KMeans(n_clusters=k, init='k-means++', n_init=25, random_state=123)\n",
    "k_means.fit(df_pca)"
   ]
  },
  {
   "cell_type": "code",
   "execution_count": 1160,
   "metadata": {},
   "outputs": [
    {
     "data": {
      "image/png": "[encoded data removed]",
      "text/plain": [
       "<Figure size 640x480 with 1 Axes>"
      ]
     },
     "metadata": {},
     "output_type": "display_data"
    }
   ],
   "source": [
    "# Plotar o gráfico de barras para contagem de municípios em cada cluster\n",
    "\n",
    "# Contar a ocorrência de cada cluster\n",
    "contagem = np.bincount(k_means.labels_)\n",
    "\n",
    "plt.bar(range(len(contagem)), np.sort(contagem), tick_label=range(len(contagem)))\n",
    "plt.xlabel('Cluster')\n",
    "plt.ylabel('Número de Municípios')\n",
    "plt.title('Contagem de Municípios em Cada Cluster')\n",
    "plt.show()"
   ]
  },
  {
   "cell_type": "code",
   "execution_count": 1161,
   "metadata": {},
   "outputs": [
    {
     "data": {
      "text/html": [
       "<div>\n",
       "<style scoped>\n",
       "    .dataframe tbody tr th:only-of-type {\n",
       "        vertical-align: middle;\n",
       "    }\n",
       "\n",
       "    .dataframe tbody tr th {\n",
       "        vertical-align: top;\n",
       "    }\n",
       "\n",
       "    .dataframe thead th {\n",
       "        text-align: right;\n",
       "    }\n",
       "</style>\n",
       "<table border=\"1\" class=\"dataframe\">\n",
       "  <thead>\n",
       "    <tr style=\"text-align: right;\">\n",
       "      <th></th>\n",
       "      <th>PC1</th>\n",
       "      <th>PC2</th>\n",
       "      <th>PC3</th>\n",
       "      <th>PC4</th>\n",
       "      <th>cluster</th>\n",
       "    </tr>\n",
       "    <tr>\n",
       "      <th>municipios</th>\n",
       "      <th></th>\n",
       "      <th></th>\n",
       "      <th></th>\n",
       "      <th></th>\n",
       "      <th></th>\n",
       "    </tr>\n",
       "  </thead>\n",
       "  <tbody>\n",
       "    <tr>\n",
       "      <th>hulha negra</th>\n",
       "      <td>-0.601557</td>\n",
       "      <td>0.075443</td>\n",
       "      <td>-0.145768</td>\n",
       "      <td>-0.006247</td>\n",
       "      <td>0</td>\n",
       "    </tr>\n",
       "    <tr>\n",
       "      <th>sao valentim do sul</th>\n",
       "      <td>-0.682314</td>\n",
       "      <td>-0.512254</td>\n",
       "      <td>-0.072228</td>\n",
       "      <td>-0.019699</td>\n",
       "      <td>0</td>\n",
       "    </tr>\n",
       "    <tr>\n",
       "      <th>xangri-la</th>\n",
       "      <td>0.044404</td>\n",
       "      <td>-0.434083</td>\n",
       "      <td>-0.035557</td>\n",
       "      <td>0.017995</td>\n",
       "      <td>0</td>\n",
       "    </tr>\n",
       "    <tr>\n",
       "      <th>nova padua</th>\n",
       "      <td>-0.710398</td>\n",
       "      <td>-0.512442</td>\n",
       "      <td>-0.073661</td>\n",
       "      <td>-0.017818</td>\n",
       "      <td>0</td>\n",
       "    </tr>\n",
       "    <tr>\n",
       "      <th>catuipe</th>\n",
       "      <td>-0.479446</td>\n",
       "      <td>-0.042584</td>\n",
       "      <td>-0.122929</td>\n",
       "      <td>-0.173788</td>\n",
       "      <td>0</td>\n",
       "    </tr>\n",
       "  </tbody>\n",
       "</table>\n",
       "</div>"
      ],
      "text/plain": [
       "                          PC1       PC2       PC3       PC4  cluster\n",
       "municipios                                                          \n",
       "hulha negra         -0.601557  0.075443 -0.145768 -0.006247        0\n",
       "sao valentim do sul -0.682314 -0.512254 -0.072228 -0.019699        0\n",
       "xangri-la            0.044404 -0.434083 -0.035557  0.017995        0\n",
       "nova padua          -0.710398 -0.512442 -0.073661 -0.017818        0\n",
       "catuipe             -0.479446 -0.042584 -0.122929 -0.173788        0"
      ]
     },
     "execution_count": 1161,
     "metadata": {},
     "output_type": "execute_result"
    }
   ],
   "source": [
    "# Salvando os clusters no dataframe\n",
    "labels = k_means.labels_\n",
    "df_pca['cluster'] = labels\n",
    "\n",
    "# Salvando o dataframe em um arquivo csv\n",
    "df_pca.to_csv('data\\\\tocsv\\\\clusterizado.csv', sep=',', index=False)\n",
    "\n",
    "df_pca.head()"
   ]
  },
  {
   "cell_type": "code",
   "execution_count": 1162,
   "metadata": {},
   "outputs": [
    {
     "data": {
      "application/vnd.plotly.v1+json": {
       "config": {
        "plotlyServerURL": "https://plot.ly"
       },
       "data": [
        {
         "marker": {
          "color": [
           0,
           0,
           0,
           0,
           0,
           0,
           0,
           3,
           0,
           2,
           0,
           3,
           3,
           0,
           0,
           0,
           3,
           3,
           3,
           2,
           0,
           0,
           0,
           0,
           1
          ],
          "colorscale": [
           [
            0,
            "#440154"
           ],
           [
            0.1111111111111111,
            "#482878"
           ],
           [
            0.2222222222222222,
            "#3e4989"
           ],
           [
            0.3333333333333333,
            "#31688e"
           ],
           [
            0.4444444444444444,
            "#26828e"
           ],
           [
            0.5555555555555556,
            "#1f9e89"
           ],
           [
            0.6666666666666666,
            "#35b779"
           ],
           [
            0.7777777777777778,
            "#6ece58"
           ],
           [
            0.8888888888888888,
            "#b5de2b"
           ],
           [
            1,
            "#fde725"
           ]
          ],
          "opacity": 0.8,
          "size": 5
         },
         "mode": "markers",
         "text": [
          "acegua",
          "agua santa",
          "agudo",
          "ajuricaba",
          "alecrim",
          "alegrete",
          "alegria",
          "almirante tamandare do sul",
          "alpestre",
          "alto alegre",
          "alto feliz",
          "alvorada",
          "amaral ferrador",
          "ametista do sul",
          "andre da rocha",
          "anta gorda",
          "antonio prado",
          "arambare",
          "ararica",
          "aratiba",
          "arroio do meio",
          "arroio do padre",
          "arroio do sal",
          "arroio do tigre",
          "arroio dos ratos",
          "arroio grande",
          "arvorezinha",
          "augusto pestana",
          "aurea",
          "bage",
          "balneario pinhal",
          "barao",
          "barao de cotegipe",
          "barao do triunfo",
          "barra do guarita",
          "barra do quarai",
          "barra do ribeiro",
          "barra do rio azul",
          "barra funda",
          "barracao",
          "barros cassal",
          "benjamin constant do sul",
          "bento goncalves",
          "boa vista das missoes",
          "boa vista do burica",
          "boa vista do cadeado",
          "boa vista do incra",
          "boa vista do sul",
          "bom jesus",
          "bom principio",
          "bom progresso",
          "bom retiro do sul",
          "boqueirao do leao",
          "bossoroca",
          "bozano",
          "braga",
          "brochier",
          "butia",
          "cacapava do sul",
          "cacequi",
          "cachoeira do sul",
          "cachoeirinha",
          "cacique doble",
          "caibate",
          "caicara",
          "camaqua",
          "camargo",
          "cambara do sul",
          "campestre da serra",
          "campina das missoes",
          "campinas do sul",
          "campo bom",
          "campo novo",
          "campos borges",
          "candelaria",
          "candido godoi",
          "candiota",
          "canela",
          "cangucu",
          "canoas",
          "canudos do vale",
          "capao bonito do sul",
          "capao da canoa",
          "capao do cipo",
          "capao do leao",
          "capela de santana",
          "capitao",
          "capivari do sul",
          "caraa",
          "carazinho",
          "carlos barbosa",
          "carlos gomes",
          "casca",
          "caseiros",
          "catuipe",
          "caxias do sul",
          "centenario",
          "cerrito",
          "cerro branco",
          "cerro grande",
          "cerro grande do sul",
          "cerro largo",
          "chapada",
          "charqueadas",
          "charrua",
          "chiapetta",
          "chui",
          "chuvisca",
          "cidreira",
          "ciriaco",
          "colinas",
          "colorado",
          "condor",
          "constantina",
          "coqueiro baixo",
          "coqueiros do sul",
          "coronel barros",
          "coronel bicaco",
          "coronel pilar",
          "cotipora",
          "coxilha",
          "crissiumal",
          "cristal",
          "cristal do sul",
          "cruz alta",
          "cruzaltense",
          "cruzeiro do sul",
          "david canabarro",
          "derrubadas",
          "dezesseis de novembro",
          "dilermando de aguiar",
          "dois irmaos",
          "dois irmaos das missoes",
          "dois lajeados",
          "dom feliciano",
          "dom pedrito",
          "dom pedro de alcantara",
          "dona francisca",
          "doutor ricardo",
          "dr mauricio cardoso",
          "eldorado do sul",
          "encantado",
          "encruzilhada do sul",
          "engenho velho",
          "entre ijuis",
          "entre rios do sul",
          "erebango",
          "erechim",
          "ernestina",
          "erval grande",
          "erval seco",
          "esmeralda",
          "esperanca do sul",
          "espumoso",
          "estacao",
          "estancia velha",
          "esteio",
          "estrela",
          "estrela velha",
          "eugenio de castro",
          "fagundes varela",
          "farroupilha",
          "faxinal do soturno",
          "faxinalzinho",
          "fazenda vila nova",
          "feliz",
          "flores da cunha",
          "floriano peixoto",
          "fontoura xavier",
          "formigueiro",
          "forquetinha",
          "fortaleza dos valos",
          "frederico westphalen",
          "garibaldi",
          "garruchos",
          "gaurama",
          "general camara",
          "gentil",
          "getulio vargas",
          "girua",
          "glorinha",
          "gramado",
          "gramado dos loureiros",
          "gramado xavier",
          "gravatai",
          "guabiju",
          "guaiba",
          "guapore",
          "guarani das missoes",
          "harmonia",
          "herval",
          "herveiras",
          "horizontina",
          "hulha negra",
          "humaita",
          "ibarama",
          "ibiaca",
          "ibiraiaras",
          "ibirapuita",
          "ibiruba",
          "igrejinha",
          "ijui",
          "ilopolis",
          "imbe",
          "imigrante",
          "independencia",
          "inhacora",
          "ipe",
          "ipiranga do sul",
          "irai",
          "itaara",
          "itacurubi",
          "itapuca",
          "itaqui",
          "itati",
          "itatiba do sul",
          "ivora",
          "ivoti",
          "jaboticaba",
          "jacuizinho",
          "jacutinga",
          "jaguarao",
          "jaguari",
          "jaquirana",
          "jari",
          "joia",
          "julio de castilhos",
          "lagoa bonita do sul",
          "lagoa dos tres cantos",
          "lagoa vermelha",
          "lagoao",
          "lajeado",
          "lajeado do bugre",
          "lavras do sul",
          "liberato salzano",
          "lindolfo collor",
          "linha nova",
          "macambara",
          "machadinho",
          "mampituba",
          "manoel viana",
          "maquine",
          "marata",
          "marau",
          "marcelino ramos",
          "mariana pimentel",
          "mariano moro",
          "marques de souza",
          "mata",
          "mato castelhano",
          "mato leitao",
          "mato queimado",
          "maximiliano de almeida",
          "minas do leao",
          "miraguai",
          "montauri",
          "monte alegre dos campos",
          "monte belo do sul",
          "montenegro",
          "mormaco",
          "morrinhos do sul",
          "morro redondo",
          "morro reuter",
          "mostardas",
          "mucum",
          "muitos capoes",
          "muliterno",
          "nao-me-toque",
          "nicolau vergueiro",
          "nonoai",
          "nova alvorada",
          "nova araca",
          "nova bassano",
          "nova boa vista",
          "nova brescia",
          "nova candelaria",
          "nova esperanca do sul",
          "nova hartz",
          "nova padua",
          "nova palma",
          "nova petropolis",
          "nova prata",
          "nova ramada",
          "nova roma do sul",
          "nova santa rita",
          "novo barreiro",
          "novo cabrais",
          "novo hamburgo",
          "novo machado",
          "novo tiradentes",
          "novo xingu",
          "osorio",
          "paim filho",
          "palmares do sul",
          "palmeira das missoes",
          "palmitinho",
          "panambi",
          "pantano grande",
          "parai",
          "paraiso do sul",
          "pareci novo",
          "parobe",
          "passa sete",
          "passo do sobrado",
          "passo fundo",
          "paulo bento",
          "paverama",
          "pedras altas",
          "pedro osorio",
          "pejucara",
          "pelotas",
          "picada cafe",
          "pinhal",
          "pinhal da serra",
          "pinhal grande",
          "pinheirinho do vale",
          "pinheiro machado",
          "pinto bandeira",
          "pirapo",
          "piratini",
          "planalto",
          "poco das antas",
          "pontao",
          "ponte preta",
          "portao",
          "porto alegre",
          "porto lucena",
          "porto maua",
          "porto vera cruz",
          "porto xavier",
          "pouso novo",
          "presidente lucena",
          "progresso",
          "protasio alves",
          "putinga",
          "quarai",
          "quatro irmaos",
          "quevedos",
          "quinze de novembro",
          "redentora",
          "relvado",
          "restinga seca",
          "rio dos indios",
          "rio grande",
          "rio pardo",
          "riozinho",
          "roca sales",
          "rodeio bonito",
          "rolador",
          "rolante",
          "ronda alta",
          "rondinha",
          "roque gonzales",
          "rosario do sul",
          "sagrada familia",
          "saldanha marinho",
          "salto do jacui",
          "salvador das missoes",
          "salvador do sul",
          "sananduva",
          "santa barbara do sul",
          "santa cecilia do sul",
          "santa clara do sul",
          "santa cruz do sul",
          "santa margarida do sul",
          "santa maria",
          "santa maria do herval",
          "santa rosa",
          "santa tereza",
          "santa vitoria do palmar",
          "santana da boa vista",
          "santana do livramento",
          "santiago",
          "santo angelo",
          "santo antonio da patrulha",
          "santo antonio das missoes",
          "santo antonio do palma",
          "santo antonio do planalto",
          "santo augusto",
          "santo cristo",
          "santo expedito do sul",
          "sao borja",
          "sao domingos do sul",
          "sao francisco de assis",
          "sao francisco de paula",
          "sao gabriel",
          "sao jeronimo",
          "sao joao da urtiga",
          "sao joao do polesine",
          "sao jorge",
          "sao jose das missoes",
          "sao jose do herval",
          "sao jose do hortencio",
          "sao jose do inhacora",
          "sao jose do norte",
          "sao jose do ouro",
          "sao jose do sul",
          "sao jose dos ausentes",
          "sao leopoldo",
          "sao lourenco do sul",
          "sao luiz gonzaga",
          "sao marcos",
          "sao martinho",
          "sao martinho da serra",
          "sao miguel das missoes",
          "sao nicolau",
          "sao paulo das missoes",
          "sao pedro da serra",
          "sao pedro das missoes",
          "sao pedro do butia",
          "sao pedro do sul",
          "sao sebastiao do cai",
          "sao sepe",
          "sao valentim",
          "sao valentim do sul",
          "sao valerio do sul",
          "sao vendelino",
          "sao vicente do sul",
          "sapiranga",
          "sapucaia do sul",
          "sarandi",
          "seberi",
          "sede nova",
          "segredo",
          "selbach",
          "senador salgado filho",
          "sentinela do sul",
          "serafina correa",
          "serio",
          "sertao",
          "sertao santana",
          "sete de setembro",
          "severiano de almeida",
          "silveira martins",
          "sinimbu",
          "sobradinho",
          "soledade",
          "tabai",
          "tapejara",
          "tapera",
          "tapes",
          "taquara",
          "taquari",
          "taquarucu do sul",
          "tavares",
          "tenente portela",
          "terra de areia",
          "teutonia",
          "tio hugo",
          "tiradentes do sul",
          "toropi",
          "torres",
          "tramandai",
          "travesseiro",
          "tres arroios",
          "tres cachoeiras",
          "tres coroas",
          "tres de maio",
          "tres forquilhas",
          "tres palmeiras",
          "tres passos",
          "trindade do sul",
          "triunfo",
          "tucunduva",
          "tunas",
          "tupanci do sul",
          "tupancireta",
          "tupandi",
          "tuparendi",
          "turucu",
          "ubiretama",
          "uniao da serra",
          "unistalda",
          "uruguaiana",
          "vacaria",
          "vale do sol",
          "vale real",
          "vale verde",
          "vanini",
          "venancio aires",
          "vera cruz",
          "veranopolis",
          "vespasiano correa",
          "viadutos",
          "viamao",
          "vicente dutra",
          "victor graeff",
          "vila flores",
          "vila langaro",
          "vila maria",
          "vila nova do sul",
          "vista alegre",
          "vista alegre do prata",
          "vista gaucha",
          "vitoria das missoes",
          "westfalia",
          "xangri-la"
         ],
         "type": "scatter3d",
         "x": [
          -0.6015571329880843,
          -0.6823135300808116,
          0.044403657941866397,
          -0.710397625743418,
          -0.47944601021596367,
          -0.5868409829748968,
          -0.6813806005832481,
          1.6694844657284507,
          -0.6808111882307566,
          0.15978897242523185,
          -0.17050639286477548,
          1.1056083366668528,
          1.0877941016273625,
          0.1931739970920271,
          -0.666416482603391,
          -0.6906898799804267,
          1.499242778238174,
          0.5492902964117182,
          1.367335699313687,
          -0.1695858587190373,
          -0.6492194348272706,
          -0.3689186251462739,
          0.334337969425342,
          -0.49819854596551794,
          -0.374177983946841
         ],
         "y": [
          0.07544342454418364,
          -0.5122535820251152,
          -0.4340834300289579,
          -0.5124422393091559,
          -0.042583954964438266,
          -0.43621161192641705,
          -0.5094190461546356,
          0.25945073914533334,
          -0.44398524932702743,
          2.316469394451525,
          -0.4777177695915569,
          -0.44189258972001066,
          0.048692805731748647,
          -0.49875874117800256,
          -0.3818666890174495,
          -0.4447901151504183,
          -0.6255616529597661,
          0.0420267466271249,
          -0.6239739454620535,
          1.7703825573168863,
          -0.11895217362825904,
          0.39571992579064214,
          0.4274804072973945,
          0.4660224355955972,
          0.7028043539428288
         ],
         "z": [
          -0.1457683149997052,
          -0.07222818536548732,
          -0.035557087912621445,
          -0.07366085131981073,
          -0.12292949313623501,
          -0.07794754089846395,
          -0.07319785436253551,
          -0.03873409794846539,
          -0.08191465575768749,
          -0.3941495580259802,
          -0.03931370188405529,
          0.03414800631289142,
          -0.03630385657516457,
          -0.01776728932442881,
          -0.08840210448337463,
          -0.08231063310375111,
          0.08000813380577844,
          -0.06334163414298637,
          0.07422265194066913,
          -0.3437294474212035,
          -0.12223497363392932,
          -0.17125214481704693,
          -0.12822985865529632,
          -0.19162171846155007,
          2.21221621017044
         ]
        }
       ],
       "layout": {
        "scene": {
         "xaxis": {
          "title": {
           "text": "PC1"
          }
         },
         "yaxis": {
          "title": {
           "text": "PC2"
          }
         },
         "zaxis": {
          "title": {
           "text": "PC3"
          }
         }
        },
        "template": {
         "data": {
          "bar": [
           {
            "error_x": {
             "color": "#2a3f5f"
            },
            "error_y": {
             "color": "#2a3f5f"
            },
            "marker": {
             "line": {
              "color": "#E5ECF6",
              "width": 0.5
             },
             "pattern": {
              "fillmode": "overlay",
              "size": 10,
              "solidity": 0.2
             }
            },
            "type": "bar"
           }
          ],
          "barpolar": [
           {
            "marker": {
             "line": {
              "color": "#E5ECF6",
              "width": 0.5
             },
             "pattern": {
              "fillmode": "overlay",
              "size": 10,
              "solidity": 0.2
             }
            },
            "type": "barpolar"
           }
          ],
          "carpet": [
           {
            "aaxis": {
             "endlinecolor": "#2a3f5f",
             "gridcolor": "white",
             "linecolor": "white",
             "minorgridcolor": "white",
             "startlinecolor": "#2a3f5f"
            },
            "baxis": {
             "endlinecolor": "#2a3f5f",
             "gridcolor": "white",
             "linecolor": "white",
             "minorgridcolor": "white",
             "startlinecolor": "#2a3f5f"
            },
            "type": "carpet"
           }
          ],
          "choropleth": [
           {
            "colorbar": {
             "outlinewidth": 0,
             "ticks": ""
            },
            "type": "choropleth"
           }
          ],
          "contour": [
           {
            "colorbar": {
             "outlinewidth": 0,
             "ticks": ""
            },
            "colorscale": [
             [
              0,
              "#0d0887"
             ],
             [
              0.1111111111111111,
              "#46039f"
             ],
             [
              0.2222222222222222,
              "#7201a8"
             ],
             [
              0.3333333333333333,
              "#9c179e"
             ],
             [
              0.4444444444444444,
              "#bd3786"
             ],
             [
              0.5555555555555556,
              "#d8576b"
             ],
             [
              0.6666666666666666,
              "#ed7953"
             ],
             [
              0.7777777777777778,
              "#fb9f3a"
             ],
             [
              0.8888888888888888,
              "#fdca26"
             ],
             [
              1,
              "#f0f921"
             ]
            ],
            "type": "contour"
           }
          ],
          "contourcarpet": [
           {
            "colorbar": {
             "outlinewidth": 0,
             "ticks": ""
            },
            "type": "contourcarpet"
           }
          ],
          "heatmap": [
           {
            "colorbar": {
             "outlinewidth": 0,
             "ticks": ""
            },
            "colorscale": [
             [
              0,
              "#0d0887"
             ],
             [
              0.1111111111111111,
              "#46039f"
             ],
             [
              0.2222222222222222,
              "#7201a8"
             ],
             [
              0.3333333333333333,
              "#9c179e"
             ],
             [
              0.4444444444444444,
              "#bd3786"
             ],
             [
              0.5555555555555556,
              "#d8576b"
             ],
             [
              0.6666666666666666,
              "#ed7953"
             ],
             [
              0.7777777777777778,
              "#fb9f3a"
             ],
             [
              0.8888888888888888,
              "#fdca26"
             ],
             [
              1,
              "#f0f921"
             ]
            ],
            "type": "heatmap"
           }
          ],
          "heatmapgl": [
           {
            "colorbar": {
             "outlinewidth": 0,
             "ticks": ""
            },
            "colorscale": [
             [
              0,
              "#0d0887"
             ],
             [
              0.1111111111111111,
              "#46039f"
             ],
             [
              0.2222222222222222,
              "#7201a8"
             ],
             [
              0.3333333333333333,
              "#9c179e"
             ],
             [
              0.4444444444444444,
              "#bd3786"
             ],
             [
              0.5555555555555556,
              "#d8576b"
             ],
             [
              0.6666666666666666,
              "#ed7953"
             ],
             [
              0.7777777777777778,
              "#fb9f3a"
             ],
             [
              0.8888888888888888,
              "#fdca26"
             ],
             [
              1,
              "#f0f921"
             ]
            ],
            "type": "heatmapgl"
           }
          ],
          "histogram": [
           {
            "marker": {
             "pattern": {
              "fillmode": "overlay",
              "size": 10,
              "solidity": 0.2
             }
            },
            "type": "histogram"
           }
          ],
          "histogram2d": [
           {
            "colorbar": {
             "outlinewidth": 0,
             "ticks": ""
            },
            "colorscale": [
             [
              0,
              "#0d0887"
             ],
             [
              0.1111111111111111,
              "#46039f"
             ],
             [
              0.2222222222222222,
              "#7201a8"
             ],
             [
              0.3333333333333333,
              "#9c179e"
             ],
             [
              0.4444444444444444,
              "#bd3786"
             ],
             [
              0.5555555555555556,
              "#d8576b"
             ],
             [
              0.6666666666666666,
              "#ed7953"
             ],
             [
              0.7777777777777778,
              "#fb9f3a"
             ],
             [
              0.8888888888888888,
              "#fdca26"
             ],
             [
              1,
              "#f0f921"
             ]
            ],
            "type": "histogram2d"
           }
          ],
          "histogram2dcontour": [
           {
            "colorbar": {
             "outlinewidth": 0,
             "ticks": ""
            },
            "colorscale": [
             [
              0,
              "#0d0887"
             ],
             [
              0.1111111111111111,
              "#46039f"
             ],
             [
              0.2222222222222222,
              "#7201a8"
             ],
             [
              0.3333333333333333,
              "#9c179e"
             ],
             [
              0.4444444444444444,
              "#bd3786"
             ],
             [
              0.5555555555555556,
              "#d8576b"
             ],
             [
              0.6666666666666666,
              "#ed7953"
             ],
             [
              0.7777777777777778,
              "#fb9f3a"
             ],
             [
              0.8888888888888888,
              "#fdca26"
             ],
             [
              1,
              "#f0f921"
             ]
            ],
            "type": "histogram2dcontour"
           }
          ],
          "mesh3d": [
           {
            "colorbar": {
             "outlinewidth": 0,
             "ticks": ""
            },
            "type": "mesh3d"
           }
          ],
          "parcoords": [
           {
            "line": {
             "colorbar": {
              "outlinewidth": 0,
              "ticks": ""
             }
            },
            "type": "parcoords"
           }
          ],
          "pie": [
           {
            "automargin": true,
            "type": "pie"
           }
          ],
          "scatter": [
           {
            "fillpattern": {
             "fillmode": "overlay",
             "size": 10,
             "solidity": 0.2
            },
            "type": "scatter"
           }
          ],
          "scatter3d": [
           {
            "line": {
             "colorbar": {
              "outlinewidth": 0,
              "ticks": ""
             }
            },
            "marker": {
             "colorbar": {
              "outlinewidth": 0,
              "ticks": ""
             }
            },
            "type": "scatter3d"
           }
          ],
          "scattercarpet": [
           {
            "marker": {
             "colorbar": {
              "outlinewidth": 0,
              "ticks": ""
             }
            },
            "type": "scattercarpet"
           }
          ],
          "scattergeo": [
           {
            "marker": {
             "colorbar": {
              "outlinewidth": 0,
              "ticks": ""
             }
            },
            "type": "scattergeo"
           }
          ],
          "scattergl": [
           {
            "marker": {
             "colorbar": {
              "outlinewidth": 0,
              "ticks": ""
             }
            },
            "type": "scattergl"
           }
          ],
          "scattermapbox": [
           {
            "marker": {
             "colorbar": {
              "outlinewidth": 0,
              "ticks": ""
             }
            },
            "type": "scattermapbox"
           }
          ],
          "scatterpolar": [
           {
            "marker": {
             "colorbar": {
              "outlinewidth": 0,
              "ticks": ""
             }
            },
            "type": "scatterpolar"
           }
          ],
          "scatterpolargl": [
           {
            "marker": {
             "colorbar": {
              "outlinewidth": 0,
              "ticks": ""
             }
            },
            "type": "scatterpolargl"
           }
          ],
          "scatterternary": [
           {
            "marker": {
             "colorbar": {
              "outlinewidth": 0,
              "ticks": ""
             }
            },
            "type": "scatterternary"
           }
          ],
          "surface": [
           {
            "colorbar": {
             "outlinewidth": 0,
             "ticks": ""
            },
            "colorscale": [
             [
              0,
              "#0d0887"
             ],
             [
              0.1111111111111111,
              "#46039f"
             ],
             [
              0.2222222222222222,
              "#7201a8"
             ],
             [
              0.3333333333333333,
              "#9c179e"
             ],
             [
              0.4444444444444444,
              "#bd3786"
             ],
             [
              0.5555555555555556,
              "#d8576b"
             ],
             [
              0.6666666666666666,
              "#ed7953"
             ],
             [
              0.7777777777777778,
              "#fb9f3a"
             ],
             [
              0.8888888888888888,
              "#fdca26"
             ],
             [
              1,
              "#f0f921"
             ]
            ],
            "type": "surface"
           }
          ],
          "table": [
           {
            "cells": {
             "fill": {
              "color": "#EBF0F8"
             },
             "line": {
              "color": "white"
             }
            },
            "header": {
             "fill": {
              "color": "#C8D4E3"
             },
             "line": {
              "color": "white"
             }
            },
            "type": "table"
           }
          ]
         },
         "layout": {
          "annotationdefaults": {
           "arrowcolor": "#2a3f5f",
           "arrowhead": 0,
           "arrowwidth": 1
          },
          "autotypenumbers": "strict",
          "coloraxis": {
           "colorbar": {
            "outlinewidth": 0,
            "ticks": ""
           }
          },
          "colorscale": {
           "diverging": [
            [
             0,
             "#8e0152"
            ],
            [
             0.1,
             "#c51b7d"
            ],
            [
             0.2,
             "#de77ae"
            ],
            [
             0.3,
             "#f1b6da"
            ],
            [
             0.4,
             "#fde0ef"
            ],
            [
             0.5,
             "#f7f7f7"
            ],
            [
             0.6,
             "#e6f5d0"
            ],
            [
             0.7,
             "#b8e186"
            ],
            [
             0.8,
             "#7fbc41"
            ],
            [
             0.9,
             "#4d9221"
            ],
            [
             1,
             "#276419"
            ]
           ],
           "sequential": [
            [
             0,
             "#0d0887"
            ],
            [
             0.1111111111111111,
             "#46039f"
            ],
            [
             0.2222222222222222,
             "#7201a8"
            ],
            [
             0.3333333333333333,
             "#9c179e"
            ],
            [
             0.4444444444444444,
             "#bd3786"
            ],
            [
             0.5555555555555556,
             "#d8576b"
            ],
            [
             0.6666666666666666,
             "#ed7953"
            ],
            [
             0.7777777777777778,
             "#fb9f3a"
            ],
            [
             0.8888888888888888,
             "#fdca26"
            ],
            [
             1,
             "#f0f921"
            ]
           ],
           "sequentialminus": [
            [
             0,
             "#0d0887"
            ],
            [
             0.1111111111111111,
             "#46039f"
            ],
            [
             0.2222222222222222,
             "#7201a8"
            ],
            [
             0.3333333333333333,
             "#9c179e"
            ],
            [
             0.4444444444444444,
             "#bd3786"
            ],
            [
             0.5555555555555556,
             "#d8576b"
            ],
            [
             0.6666666666666666,
             "#ed7953"
            ],
            [
             0.7777777777777778,
             "#fb9f3a"
            ],
            [
             0.8888888888888888,
             "#fdca26"
            ],
            [
             1,
             "#f0f921"
            ]
           ]
          },
          "colorway": [
           "#636efa",
           "#EF553B",
           "#00cc96",
           "#ab63fa",
           "#FFA15A",
           "#19d3f3",
           "#FF6692",
           "#B6E880",
           "#FF97FF",
           "#FECB52"
          ],
          "font": {
           "color": "#2a3f5f"
          },
          "geo": {
           "bgcolor": "white",
           "lakecolor": "white",
           "landcolor": "#E5ECF6",
           "showlakes": true,
           "showland": true,
           "subunitcolor": "white"
          },
          "hoverlabel": {
           "align": "left"
          },
          "hovermode": "closest",
          "mapbox": {
           "style": "light"
          },
          "paper_bgcolor": "white",
          "plot_bgcolor": "#E5ECF6",
          "polar": {
           "angularaxis": {
            "gridcolor": "white",
            "linecolor": "white",
            "ticks": ""
           },
           "bgcolor": "#E5ECF6",
           "radialaxis": {
            "gridcolor": "white",
            "linecolor": "white",
            "ticks": ""
           }
          },
          "scene": {
           "xaxis": {
            "backgroundcolor": "#E5ECF6",
            "gridcolor": "white",
            "gridwidth": 2,
            "linecolor": "white",
            "showbackground": true,
            "ticks": "",
            "zerolinecolor": "white"
           },
           "yaxis": {
            "backgroundcolor": "#E5ECF6",
            "gridcolor": "white",
            "gridwidth": 2,
            "linecolor": "white",
            "showbackground": true,
            "ticks": "",
            "zerolinecolor": "white"
           },
           "zaxis": {
            "backgroundcolor": "#E5ECF6",
            "gridcolor": "white",
            "gridwidth": 2,
            "linecolor": "white",
            "showbackground": true,
            "ticks": "",
            "zerolinecolor": "white"
           }
          },
          "shapedefaults": {
           "line": {
            "color": "#2a3f5f"
           }
          },
          "ternary": {
           "aaxis": {
            "gridcolor": "white",
            "linecolor": "white",
            "ticks": ""
           },
           "baxis": {
            "gridcolor": "white",
            "linecolor": "white",
            "ticks": ""
           },
           "bgcolor": "#E5ECF6",
           "caxis": {
            "gridcolor": "white",
            "linecolor": "white",
            "ticks": ""
           }
          },
          "title": {
           "x": 0.05
          },
          "xaxis": {
           "automargin": true,
           "gridcolor": "white",
           "linecolor": "white",
           "ticks": "",
           "title": {
            "standoff": 15
           },
           "zerolinecolor": "white",
           "zerolinewidth": 2
          },
          "yaxis": {
           "automargin": true,
           "gridcolor": "white",
           "linecolor": "white",
           "ticks": "",
           "title": {
            "standoff": 15
           },
           "zerolinecolor": "white",
           "zerolinewidth": 2
          }
         }
        },
        "title": {
         "text": "Gráfico 3D dos 4 Clusters"
        }
       }
      }
     },
     "metadata": {},
     "output_type": "display_data"
    },
    {
     "data": {
      "text/plain": [
       "' Foi utilizado a biblioteca Plotly para a visualização dos dados. Documentação do gráfico 3D: https://plotly.com/python/v3/3d-point-clustering/'"
      ]
     },
     "execution_count": 1162,
     "metadata": {},
     "output_type": "execute_result"
    }
   ],
   "source": [
    "# Criar o gráfico 3D\n",
    "fig = go.Figure()\n",
    "\n",
    "# Adicionar os pontos\n",
    "fig.add_trace(\n",
    "    go.Scatter3d(\n",
    "        # Adicionar as dimensões PCA\n",
    "        x=df_pca['PC1'],\n",
    "        y=df_pca['PC2'],\n",
    "        z=df_pca['PC3'],\n",
    "        mode='markers',\n",
    "        # Adicionar a cor de acordo com o cluster\n",
    "        marker=dict(size=5, color=df_pca['cluster'], colorscale='viridis', opacity=0.8),\n",
    "        # Adicionar o nome dos município ao passar o mouse\n",
    "        text=df.index\n",
    "))\n",
    "\n",
    "# Adicionar o layout\n",
    "fig.update_layout(\n",
    "    title=f'Gráfico 3D dos {k} Clusters',\n",
    "    # Adicionar o nome dos eixos\n",
    "    scene=dict(\n",
    "        xaxis_title='PC1',\n",
    "        yaxis_title='PC2',\n",
    "        zaxis_title='PC3'\n",
    "    )\n",
    ")\n",
    "\n",
    "# Mostrar o gráfico\n",
    "fig.show()\n",
    "\n",
    "\"\"\" Foi utilizado a biblioteca Plotly para a visualização dos dados. Documentação do gráfico 3D: https://plotly.com/python/v3/3d-point-clustering/\"\"\""
   ]
  },
  {
   "cell_type": "markdown",
   "metadata": {},
   "source": [
    "## Sistema de Recomendação\n"
   ]
  },
  {
   "cell_type": "code",
   "execution_count": 1163,
   "metadata": {},
   "outputs": [
    {
     "data": {
      "text/html": [
       "<div>\n",
       "<style scoped>\n",
       "    .dataframe tbody tr th:only-of-type {\n",
       "        vertical-align: middle;\n",
       "    }\n",
       "\n",
       "    .dataframe tbody tr th {\n",
       "        vertical-align: top;\n",
       "    }\n",
       "\n",
       "    .dataframe thead th {\n",
       "        text-align: right;\n",
       "    }\n",
       "</style>\n",
       "<table border=\"1\" class=\"dataframe\">\n",
       "  <thead>\n",
       "    <tr style=\"text-align: right;\">\n",
       "      <th></th>\n",
       "      <th>PC1</th>\n",
       "      <th>PC2</th>\n",
       "      <th>PC3</th>\n",
       "      <th>PC4</th>\n",
       "    </tr>\n",
       "    <tr>\n",
       "      <th>municipios</th>\n",
       "      <th></th>\n",
       "      <th></th>\n",
       "      <th></th>\n",
       "      <th></th>\n",
       "    </tr>\n",
       "  </thead>\n",
       "  <tbody>\n",
       "    <tr>\n",
       "      <th>hulha negra</th>\n",
       "      <td>-0.601557</td>\n",
       "      <td>0.075443</td>\n",
       "      <td>-0.145768</td>\n",
       "      <td>-0.006247</td>\n",
       "    </tr>\n",
       "    <tr>\n",
       "      <th>sao valentim do sul</th>\n",
       "      <td>-0.682314</td>\n",
       "      <td>-0.512254</td>\n",
       "      <td>-0.072228</td>\n",
       "      <td>-0.019699</td>\n",
       "    </tr>\n",
       "    <tr>\n",
       "      <th>xangri-la</th>\n",
       "      <td>0.044404</td>\n",
       "      <td>-0.434083</td>\n",
       "      <td>-0.035557</td>\n",
       "      <td>0.017995</td>\n",
       "    </tr>\n",
       "    <tr>\n",
       "      <th>nova padua</th>\n",
       "      <td>-0.710398</td>\n",
       "      <td>-0.512442</td>\n",
       "      <td>-0.073661</td>\n",
       "      <td>-0.017818</td>\n",
       "    </tr>\n",
       "    <tr>\n",
       "      <th>catuipe</th>\n",
       "      <td>-0.479446</td>\n",
       "      <td>-0.042584</td>\n",
       "      <td>-0.122929</td>\n",
       "      <td>-0.173788</td>\n",
       "    </tr>\n",
       "  </tbody>\n",
       "</table>\n",
       "</div>"
      ],
      "text/plain": [
       "                          PC1       PC2       PC3       PC4\n",
       "municipios                                                 \n",
       "hulha negra         -0.601557  0.075443 -0.145768 -0.006247\n",
       "sao valentim do sul -0.682314 -0.512254 -0.072228 -0.019699\n",
       "xangri-la            0.044404 -0.434083 -0.035557  0.017995\n",
       "nova padua          -0.710398 -0.512442 -0.073661 -0.017818\n",
       "catuipe             -0.479446 -0.042584 -0.122929 -0.173788"
      ]
     },
     "execution_count": 1163,
     "metadata": {},
     "output_type": "execute_result"
    }
   ],
   "source": [
    "df_recom = df_pca.drop(columns=['cluster'])\n",
    "\n",
    "df_recom.head()"
   ]
  },
  {
   "cell_type": "code",
   "execution_count": 1164,
   "metadata": {},
   "outputs": [],
   "source": [
    "from sklearn.metrics.pairwise import euclidean_distances"
   ]
  },
  {
   "cell_type": "code",
   "execution_count": 1165,
   "metadata": {},
   "outputs": [
    {
     "data": {
      "text/plain": [
       "(25, 25)"
      ]
     },
     "execution_count": 1165,
     "metadata": {},
     "output_type": "execute_result"
    }
   ],
   "source": [
    "# Calculando a distância euclidiana entre os componentes principais\n",
    "dist = euclidean_distances(df_recom)\n",
    "dist.shape\n"
   ]
  },
  {
   "cell_type": "code",
   "execution_count": 1166,
   "metadata": {},
   "outputs": [
    {
     "data": {
      "text/plain": [
       "municipios\n",
       "hulha negra                    0\n",
       "sao valentim do sul            1\n",
       "xangri-la                      2\n",
       "nova padua                     3\n",
       "catuipe                        4\n",
       "esmeralda                      5\n",
       "lajeado do bugre               6\n",
       "cruz alta                      7\n",
       "nova ramada                    8\n",
       "jaguarao                       9\n",
       "nova petropolis               10\n",
       "charqueadas                   11\n",
       "torres                        12\n",
       "sarandi                       13\n",
       "fortaleza dos valos           14\n",
       "almirante tamandare do sul    15\n",
       "esteio                        16\n",
       "frederico westphalen          17\n",
       "canela                        18\n",
       "piratini                      19\n",
       "vale verde                    20\n",
       "restinga seca                 21\n",
       "santo antonio da patrulha     22\n",
       "passo do sobrado              23\n",
       "sao sepe                      24\n",
       "dtype: int64"
      ]
     },
     "execution_count": 1166,
     "metadata": {},
     "output_type": "execute_result"
    }
   ],
   "source": [
    "df_recom = df_recom.reset_index()\n",
    "indices = pd.Series(df_recom.index, index=df_recom['municipios'])\n",
    "indices"
   ]
  },
  {
   "cell_type": "code",
   "execution_count": 1167,
   "metadata": {},
   "outputs": [],
   "source": [
    "def score_similar(user, indices, dist, num_recommend = 10):\n",
    "\n",
    "  #obtem os indices dos municípios visitados pelo usuario\n",
    "  i=indices[user['municipios']]\n",
    "\n",
    "  # Obtem todas os pares de scores de similaridade de todos os municípios visitados pelo usuario\n",
    "  # tomando cuidado para remover os municípios ja visitados, pois possuem similaridade igual 1.\n",
    "  res = pd.DataFrame(dist[i])\n",
    "  res = res.drop(i, axis='columns').T\n",
    "\n",
    "  # Cria um score multiplicando as similaridades de cada município visitados com o rating dado pelo usuario.\n",
    "  score = res.dot(user['rating']).sort_values(ascending=False)\n",
    "\n",
    "  # Retorna os num_recommend municípios mais próximos\n",
    "  return indices[score[0:num_recommend].index]"
   ]
  },
  {
   "cell_type": "code",
   "execution_count": 1168,
   "metadata": {},
   "outputs": [],
   "source": [
    "# Recomendar uma lista de itens para um usuário antigo\n",
    "usr1 = {\n",
    "  \"municipios\": [\"canela\",\"xangri-la\",\"cruz alta\"],\n",
    "  \"rating\": [4.3,2.5,1]\n",
    "}\n",
    "\n",
    "# Recomendar uma lista de itens para um usuário novo (sem ratings)\n",
    "usr2 = {\n",
    "  \"municipios\": [],\n",
    "  \"rating\": []\n",
    "}\n",
    "\n",
    "# Recomendar um item novo para um usuário antigo\n",
    "usr3 = {\n",
    "  \"municipios\": [\"canela\",\"xangri-la\",\"cruz alta\"],\n",
    "  \"rating\": [5,2,1]\n",
    "}\n"
   ]
  },
  {
   "cell_type": "code",
   "execution_count": 1169,
   "metadata": {},
   "outputs": [
    {
     "name": "stderr",
     "output_type": "stream",
     "text": [
      "C:\\Users\\Florensa Dimer\\AppData\\Local\\Temp\\ipykernel_14568\\1844177721.py:15: FutureWarning:\n",
      "\n",
      "Series.__getitem__ treating keys as positions is deprecated. In a future version, integer keys will always be treated as labels (consistent with DataFrame behavior). To access a value by position, use `ser.iloc[pos]`\n",
      "\n"
     ]
    },
    {
     "data": {
      "text/plain": [
       "municipios\n",
       "jaguarao                       9\n",
       "sao sepe                      24\n",
       "piratini                      19\n",
       "passo do sobrado              23\n",
       "hulha negra                    0\n",
       "nova padua                     3\n",
       "vale verde                    20\n",
       "almirante tamandare do sul    15\n",
       "lajeado do bugre               6\n",
       "restinga seca                 21\n",
       "dtype: int64"
      ]
     },
     "execution_count": 1169,
     "metadata": {},
     "output_type": "execute_result"
    }
   ],
   "source": [
    "score_similar(usr1, indices, dist, 10)"
   ]
  }
 ],
 "metadata": {
  "kernelspec": {
   "display_name": "Python 3",
   "language": "python",
   "name": "python3"
  },
  "language_info": {
   "codemirror_mode": {
    "name": "ipython",
    "version": 3
   },
   "file_extension": ".py",
   "mimetype": "text/x-python",
   "name": "python",
   "nbconvert_exporter": "python",
   "pygments_lexer": "ipython3",
   "version": "3.12.2"
  }
 },
 "nbformat": 4,
 "nbformat_minor": 2
}
