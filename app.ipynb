{
 "cells": [
  {
   "cell_type": "markdown",
   "metadata": {},
   "source": [
    "## Sugestão de cidade utilizando o Índice de Criminalidade do Estado do Rio Grande do Sul\n",
    "### Para o trabalho final da disciplina de Sistemas de Recomendação foi escolhido os bancos de dados Índice de Criminalidade (RS, 2023) e Estimativas Populacionais (RS, 2022). Os dados são reais e estão disponíveis no portal Dados Abertos RS do Estado do Rio Grande do Sul.\n",
    "\n",
    "Indíce de Criminalidade no RS: [https://dados.rs.gov.br/dataset/indicadores-criminais-de-2023](https://dados.rs.gov.br/dataset/indicadores-criminais-de-2023)\n",
    "\n",
    "Estimativas Populacionais no RS: [https://dados.rs.gov.br/dataset/dee-4259/resource/ce259dd9-c479-4a18-90b3-40098e6deb26](https://dados.rs.gov.br/dataset/dee-4259/resource/ce259dd9-c479-4a18-90b3-40098e6deb26)"
   ]
  },
  {
   "cell_type": "markdown",
   "metadata": {},
   "source": [
    "### Pré-processamento nos Datasets\n",
    "\n",
    "Algumas transformações necessarias nos dados:\n",
    "- Os os índices de Criminalidade por região foram fornecidos separados por mês e os nomes das colunas demasiadamente grandes.\n",
    "\n",
    "- Os dados populacionais por ano foram fornecidos com preenchimento inválido no ano de 2012 e os nomes das colunas eram demasiadamente extensos.\n",
    "\n",
    "- Criação de uma chave estrangeira para relacionar as tabelas."
   ]
  },
  {
   "cell_type": "code",
   "execution_count": 936,
   "metadata": {},
   "outputs": [],
   "source": [
    "import pandas as pd"
   ]
  },
  {
   "cell_type": "markdown",
   "metadata": {},
   "source": [
    "#### Abertura dos arquivos de criminalidade por cidade em cada mês."
   ]
  },
  {
   "cell_type": "code",
   "execution_count": 937,
   "metadata": {},
   "outputs": [
    {
     "data": {
      "text/html": [
       "<div>\n",
       "<style scoped>\n",
       "    .dataframe tbody tr th:only-of-type {\n",
       "        vertical-align: middle;\n",
       "    }\n",
       "\n",
       "    .dataframe tbody tr th {\n",
       "        vertical-align: top;\n",
       "    }\n",
       "\n",
       "    .dataframe thead th {\n",
       "        text-align: right;\n",
       "    }\n",
       "</style>\n",
       "<table border=\"1\" class=\"dataframe\">\n",
       "  <thead>\n",
       "    <tr style=\"text-align: right;\">\n",
       "      <th></th>\n",
       "      <th>municipios</th>\n",
       "      <th>ibge</th>\n",
       "      <th>homicidio_doloso</th>\n",
       "      <th>total_vitimas_homicidio_doloso</th>\n",
       "      <th>latrocinio</th>\n",
       "      <th>furtos</th>\n",
       "      <th>abigeato</th>\n",
       "      <th>furto_veiculo</th>\n",
       "      <th>roubos</th>\n",
       "      <th>roubo_veiculo</th>\n",
       "      <th>estelionato</th>\n",
       "      <th>delitos_armas_municoes</th>\n",
       "      <th>entorpecente_posse</th>\n",
       "      <th>entorpecente_trafico</th>\n",
       "      <th>vitimas_latrocinio</th>\n",
       "      <th>vitimas_lesao_corporal_morte</th>\n",
       "      <th>total_vitimas_crimes_violentos</th>\n",
       "    </tr>\n",
       "  </thead>\n",
       "  <tbody>\n",
       "    <tr>\n",
       "      <th>0</th>\n",
       "      <td>acegua</td>\n",
       "      <td>4300034</td>\n",
       "      <td>0</td>\n",
       "      <td>0</td>\n",
       "      <td>0</td>\n",
       "      <td>20</td>\n",
       "      <td>8</td>\n",
       "      <td>0</td>\n",
       "      <td>3</td>\n",
       "      <td>0</td>\n",
       "      <td>27</td>\n",
       "      <td>4</td>\n",
       "      <td>3</td>\n",
       "      <td>0</td>\n",
       "      <td>0</td>\n",
       "      <td>0</td>\n",
       "      <td>0</td>\n",
       "    </tr>\n",
       "    <tr>\n",
       "      <th>1</th>\n",
       "      <td>agua santa</td>\n",
       "      <td>4300059</td>\n",
       "      <td>1</td>\n",
       "      <td>1</td>\n",
       "      <td>0</td>\n",
       "      <td>20</td>\n",
       "      <td>3</td>\n",
       "      <td>4</td>\n",
       "      <td>1</td>\n",
       "      <td>0</td>\n",
       "      <td>13</td>\n",
       "      <td>2</td>\n",
       "      <td>0</td>\n",
       "      <td>0</td>\n",
       "      <td>0</td>\n",
       "      <td>0</td>\n",
       "      <td>2</td>\n",
       "    </tr>\n",
       "    <tr>\n",
       "      <th>2</th>\n",
       "      <td>agudo</td>\n",
       "      <td>4300109</td>\n",
       "      <td>1</td>\n",
       "      <td>1</td>\n",
       "      <td>0</td>\n",
       "      <td>102</td>\n",
       "      <td>2</td>\n",
       "      <td>2</td>\n",
       "      <td>3</td>\n",
       "      <td>1</td>\n",
       "      <td>51</td>\n",
       "      <td>3</td>\n",
       "      <td>7</td>\n",
       "      <td>10</td>\n",
       "      <td>0</td>\n",
       "      <td>0</td>\n",
       "      <td>1</td>\n",
       "    </tr>\n",
       "    <tr>\n",
       "      <th>3</th>\n",
       "      <td>ajuricaba</td>\n",
       "      <td>4300208</td>\n",
       "      <td>0</td>\n",
       "      <td>0</td>\n",
       "      <td>0</td>\n",
       "      <td>26</td>\n",
       "      <td>1</td>\n",
       "      <td>0</td>\n",
       "      <td>1</td>\n",
       "      <td>0</td>\n",
       "      <td>28</td>\n",
       "      <td>2</td>\n",
       "      <td>3</td>\n",
       "      <td>0</td>\n",
       "      <td>0</td>\n",
       "      <td>0</td>\n",
       "      <td>0</td>\n",
       "    </tr>\n",
       "    <tr>\n",
       "      <th>4</th>\n",
       "      <td>alecrim</td>\n",
       "      <td>4300307</td>\n",
       "      <td>1</td>\n",
       "      <td>1</td>\n",
       "      <td>0</td>\n",
       "      <td>36</td>\n",
       "      <td>10</td>\n",
       "      <td>0</td>\n",
       "      <td>2</td>\n",
       "      <td>0</td>\n",
       "      <td>17</td>\n",
       "      <td>10</td>\n",
       "      <td>0</td>\n",
       "      <td>4</td>\n",
       "      <td>0</td>\n",
       "      <td>0</td>\n",
       "      <td>1</td>\n",
       "    </tr>\n",
       "    <tr>\n",
       "      <th>...</th>\n",
       "      <td>...</td>\n",
       "      <td>...</td>\n",
       "      <td>...</td>\n",
       "      <td>...</td>\n",
       "      <td>...</td>\n",
       "      <td>...</td>\n",
       "      <td>...</td>\n",
       "      <td>...</td>\n",
       "      <td>...</td>\n",
       "      <td>...</td>\n",
       "      <td>...</td>\n",
       "      <td>...</td>\n",
       "      <td>...</td>\n",
       "      <td>...</td>\n",
       "      <td>...</td>\n",
       "      <td>...</td>\n",
       "      <td>...</td>\n",
       "    </tr>\n",
       "    <tr>\n",
       "      <th>492</th>\n",
       "      <td>vista alegre do prata</td>\n",
       "      <td>4323606</td>\n",
       "      <td>0</td>\n",
       "      <td>0</td>\n",
       "      <td>0</td>\n",
       "      <td>3</td>\n",
       "      <td>0</td>\n",
       "      <td>0</td>\n",
       "      <td>0</td>\n",
       "      <td>0</td>\n",
       "      <td>8</td>\n",
       "      <td>3</td>\n",
       "      <td>0</td>\n",
       "      <td>0</td>\n",
       "      <td>0</td>\n",
       "      <td>0</td>\n",
       "      <td>0</td>\n",
       "    </tr>\n",
       "    <tr>\n",
       "      <th>493</th>\n",
       "      <td>vista gaucha</td>\n",
       "      <td>4323705</td>\n",
       "      <td>1</td>\n",
       "      <td>1</td>\n",
       "      <td>0</td>\n",
       "      <td>11</td>\n",
       "      <td>0</td>\n",
       "      <td>0</td>\n",
       "      <td>0</td>\n",
       "      <td>0</td>\n",
       "      <td>6</td>\n",
       "      <td>2</td>\n",
       "      <td>0</td>\n",
       "      <td>0</td>\n",
       "      <td>0</td>\n",
       "      <td>0</td>\n",
       "      <td>1</td>\n",
       "    </tr>\n",
       "    <tr>\n",
       "      <th>494</th>\n",
       "      <td>vitoria das missoes</td>\n",
       "      <td>4323754</td>\n",
       "      <td>0</td>\n",
       "      <td>0</td>\n",
       "      <td>0</td>\n",
       "      <td>20</td>\n",
       "      <td>3</td>\n",
       "      <td>0</td>\n",
       "      <td>0</td>\n",
       "      <td>0</td>\n",
       "      <td>7</td>\n",
       "      <td>1</td>\n",
       "      <td>4</td>\n",
       "      <td>0</td>\n",
       "      <td>0</td>\n",
       "      <td>0</td>\n",
       "      <td>0</td>\n",
       "    </tr>\n",
       "    <tr>\n",
       "      <th>495</th>\n",
       "      <td>westfalia</td>\n",
       "      <td>4323770</td>\n",
       "      <td>0</td>\n",
       "      <td>0</td>\n",
       "      <td>0</td>\n",
       "      <td>10</td>\n",
       "      <td>2</td>\n",
       "      <td>1</td>\n",
       "      <td>0</td>\n",
       "      <td>0</td>\n",
       "      <td>20</td>\n",
       "      <td>1</td>\n",
       "      <td>1</td>\n",
       "      <td>0</td>\n",
       "      <td>0</td>\n",
       "      <td>0</td>\n",
       "      <td>0</td>\n",
       "    </tr>\n",
       "    <tr>\n",
       "      <th>496</th>\n",
       "      <td>xangri-la</td>\n",
       "      <td>4323804</td>\n",
       "      <td>4</td>\n",
       "      <td>4</td>\n",
       "      <td>0</td>\n",
       "      <td>494</td>\n",
       "      <td>2</td>\n",
       "      <td>11</td>\n",
       "      <td>24</td>\n",
       "      <td>0</td>\n",
       "      <td>231</td>\n",
       "      <td>5</td>\n",
       "      <td>57</td>\n",
       "      <td>50</td>\n",
       "      <td>0</td>\n",
       "      <td>0</td>\n",
       "      <td>4</td>\n",
       "    </tr>\n",
       "  </tbody>\n",
       "</table>\n",
       "<p>497 rows × 17 columns</p>\n",
       "</div>"
      ],
      "text/plain": [
       "                municipios     ibge  homicidio_doloso  \\\n",
       "0                   acegua  4300034                 0   \n",
       "1               agua santa  4300059                 1   \n",
       "2                    agudo  4300109                 1   \n",
       "3                ajuricaba  4300208                 0   \n",
       "4                  alecrim  4300307                 1   \n",
       "..                     ...      ...               ...   \n",
       "492  vista alegre do prata  4323606                 0   \n",
       "493           vista gaucha  4323705                 1   \n",
       "494    vitoria das missoes  4323754                 0   \n",
       "495              westfalia  4323770                 0   \n",
       "496              xangri-la  4323804                 4   \n",
       "\n",
       "     total_vitimas_homicidio_doloso  latrocinio  furtos  abigeato  \\\n",
       "0                                 0           0      20         8   \n",
       "1                                 1           0      20         3   \n",
       "2                                 1           0     102         2   \n",
       "3                                 0           0      26         1   \n",
       "4                                 1           0      36        10   \n",
       "..                              ...         ...     ...       ...   \n",
       "492                               0           0       3         0   \n",
       "493                               1           0      11         0   \n",
       "494                               0           0      20         3   \n",
       "495                               0           0      10         2   \n",
       "496                               4           0     494         2   \n",
       "\n",
       "     furto_veiculo  roubos  roubo_veiculo  estelionato  \\\n",
       "0                0       3              0           27   \n",
       "1                4       1              0           13   \n",
       "2                2       3              1           51   \n",
       "3                0       1              0           28   \n",
       "4                0       2              0           17   \n",
       "..             ...     ...            ...          ...   \n",
       "492              0       0              0            8   \n",
       "493              0       0              0            6   \n",
       "494              0       0              0            7   \n",
       "495              1       0              0           20   \n",
       "496             11      24              0          231   \n",
       "\n",
       "     delitos_armas_municoes  entorpecente_posse  entorpecente_trafico  \\\n",
       "0                         4                   3                     0   \n",
       "1                         2                   0                     0   \n",
       "2                         3                   7                    10   \n",
       "3                         2                   3                     0   \n",
       "4                        10                   0                     4   \n",
       "..                      ...                 ...                   ...   \n",
       "492                       3                   0                     0   \n",
       "493                       2                   0                     0   \n",
       "494                       1                   4                     0   \n",
       "495                       1                   1                     0   \n",
       "496                       5                  57                    50   \n",
       "\n",
       "     vitimas_latrocinio  vitimas_lesao_corporal_morte  \\\n",
       "0                     0                             0   \n",
       "1                     0                             0   \n",
       "2                     0                             0   \n",
       "3                     0                             0   \n",
       "4                     0                             0   \n",
       "..                  ...                           ...   \n",
       "492                   0                             0   \n",
       "493                   0                             0   \n",
       "494                   0                             0   \n",
       "495                   0                             0   \n",
       "496                   0                             0   \n",
       "\n",
       "     total_vitimas_crimes_violentos  \n",
       "0                                 0  \n",
       "1                                 2  \n",
       "2                                 1  \n",
       "3                                 0  \n",
       "4                                 1  \n",
       "..                              ...  \n",
       "492                               0  \n",
       "493                               1  \n",
       "494                               0  \n",
       "495                               0  \n",
       "496                               4  \n",
       "\n",
       "[497 rows x 17 columns]"
      ]
     },
     "execution_count": 937,
     "metadata": {},
     "output_type": "execute_result"
    }
   ],
   "source": [
    "# Declarando os meses\n",
    "meses = ['janeiro', 'fevereiro', 'marco', 'abril', 'maio', 'junho', 'julho', 'agosto', 'setembro', 'outubro', 'novembro', 'dezembro']\n",
    "\n",
    "dfs = []\n",
    "\n",
    "# Lendo os arquivos conforme os meses e adicionando a lista de dataframes\n",
    "for mes in meses:\n",
    "        arquivo = pd.read_csv(f'data\\\\tocsv\\\\{mes}.csv', delimiter=';')\n",
    "        dfs.append(arquivo)\n",
    "\n",
    "# Concatenando todos os dataframes ignorando o index\n",
    "df = pd.concat(dfs, ignore_index=True)\n",
    "\n",
    "# Agrupando por município e ibge e somando os valores\n",
    "df_criminal = df.groupby(['municipios', 'ibge']).sum().reset_index()\n",
    "\n",
    "# Salvando o dataframe em um arquivo csv\n",
    "df.to_csv('data\\\\tocsv\\\\total.csv', sep=';', index=False)\n",
    "\n",
    "df_criminal\n"
   ]
  },
  {
   "cell_type": "markdown",
   "metadata": {},
   "source": [
    "#### Abertura do arquivo de quantidade de população por cidade em cada ano."
   ]
  },
  {
   "cell_type": "code",
   "execution_count": 938,
   "metadata": {},
   "outputs": [
    {
     "name": "stdout",
     "output_type": "stream",
     "text": [
      "<class 'pandas.core.frame.DataFrame'>\n",
      "RangeIndex: 497 entries, 0 to 496\n",
      "Data columns (total 16 columns):\n",
      " #   Column      Non-Null Count  Dtype  \n",
      "---  ------      --------------  -----  \n",
      " 0   municipios  497 non-null    object \n",
      " 1   ibge        497 non-null    int64  \n",
      " 2   latitude    497 non-null    float64\n",
      " 3   longitude   497 non-null    float64\n",
      " 4   2010        497 non-null    int32  \n",
      " 5   2011        497 non-null    int32  \n",
      " 6   2012        497 non-null    int32  \n",
      " 7   2013        497 non-null    int32  \n",
      " 8   2014        497 non-null    int32  \n",
      " 9   2015        497 non-null    int32  \n",
      " 10  2016        497 non-null    int32  \n",
      " 11  2017        497 non-null    int32  \n",
      " 12  2018        497 non-null    int32  \n",
      " 13  2019        497 non-null    int32  \n",
      " 14  2020        497 non-null    int32  \n",
      " 15  2021        497 non-null    int32  \n",
      "dtypes: float64(2), int32(12), int64(1), object(1)\n",
      "memory usage: 39.0+ KB\n"
     ]
    }
   ],
   "source": [
    "# Lendo o arquivo de população\n",
    "df_pop = pd.read_csv('data\\\\tocsv\\\\populacao.csv', delimiter=';')\n",
    "\n",
    "#df_pop.info() mostra que as colunas de 4 em diante são do tipo object e para fazer operações matemáticas é necessário converter para inteiro\n",
    "\n",
    "# Substituindo os valores de '.' e '-' por 0 e convertendo para inteiro\n",
    "for coluna in df_pop.columns[4:]:\n",
    "    df_pop[coluna] = df_pop[coluna].str.replace('.', '').str.replace('-', '0').astype(int)\n",
    "\n",
    "df_pop.info()\n",
    "\n"
   ]
  },
  {
   "cell_type": "markdown",
   "metadata": {},
   "source": [
    "### União dos dois banco de dados"
   ]
  },
  {
   "cell_type": "code",
   "execution_count": 939,
   "metadata": {},
   "outputs": [
    {
     "name": "stdout",
     "output_type": "stream",
     "text": [
      "<class 'pandas.core.frame.DataFrame'>\n",
      "RangeIndex: 497 entries, 0 to 496\n",
      "Data columns (total 31 columns):\n",
      " #   Column                          Non-Null Count  Dtype  \n",
      "---  ------                          --------------  -----  \n",
      " 0   municipios                      497 non-null    object \n",
      " 1   ibge                            497 non-null    int64  \n",
      " 2   homicidio_doloso                497 non-null    int64  \n",
      " 3   total_vitimas_homicidio_doloso  497 non-null    int64  \n",
      " 4   latrocinio                      497 non-null    int64  \n",
      " 5   furtos                          497 non-null    int64  \n",
      " 6   abigeato                        497 non-null    int64  \n",
      " 7   furto_veiculo                   497 non-null    int64  \n",
      " 8   roubos                          497 non-null    int64  \n",
      " 9   roubo_veiculo                   497 non-null    int64  \n",
      " 10  estelionato                     497 non-null    int64  \n",
      " 11  delitos_armas_municoes          497 non-null    int64  \n",
      " 12  entorpecente_posse              497 non-null    int64  \n",
      " 13  entorpecente_trafico            497 non-null    int64  \n",
      " 14  vitimas_latrocinio              497 non-null    int64  \n",
      " 15  vitimas_lesao_corporal_morte    497 non-null    int64  \n",
      " 16  total_vitimas_crimes_violentos  497 non-null    int64  \n",
      " 17  latitude                        497 non-null    float64\n",
      " 18  longitude                       497 non-null    float64\n",
      " 19  2010                            497 non-null    int32  \n",
      " 20  2011                            497 non-null    int32  \n",
      " 21  2012                            497 non-null    int32  \n",
      " 22  2013                            497 non-null    int32  \n",
      " 23  2014                            497 non-null    int32  \n",
      " 24  2015                            497 non-null    int32  \n",
      " 25  2016                            497 non-null    int32  \n",
      " 26  2017                            497 non-null    int32  \n",
      " 27  2018                            497 non-null    int32  \n",
      " 28  2019                            497 non-null    int32  \n",
      " 29  2020                            497 non-null    int32  \n",
      " 30  2021                            497 non-null    int32  \n",
      "dtypes: float64(2), int32(12), int64(16), object(1)\n",
      "memory usage: 97.2+ KB\n"
     ]
    },
    {
     "data": {
      "text/html": [
       "<div>\n",
       "<style scoped>\n",
       "    .dataframe tbody tr th:only-of-type {\n",
       "        vertical-align: middle;\n",
       "    }\n",
       "\n",
       "    .dataframe tbody tr th {\n",
       "        vertical-align: top;\n",
       "    }\n",
       "\n",
       "    .dataframe thead th {\n",
       "        text-align: right;\n",
       "    }\n",
       "</style>\n",
       "<table border=\"1\" class=\"dataframe\">\n",
       "  <thead>\n",
       "    <tr style=\"text-align: right;\">\n",
       "      <th></th>\n",
       "      <th>municipios</th>\n",
       "      <th>ibge</th>\n",
       "      <th>homicidio_doloso</th>\n",
       "      <th>total_vitimas_homicidio_doloso</th>\n",
       "      <th>latrocinio</th>\n",
       "      <th>furtos</th>\n",
       "      <th>abigeato</th>\n",
       "      <th>furto_veiculo</th>\n",
       "      <th>roubos</th>\n",
       "      <th>roubo_veiculo</th>\n",
       "      <th>...</th>\n",
       "      <th>2012</th>\n",
       "      <th>2013</th>\n",
       "      <th>2014</th>\n",
       "      <th>2015</th>\n",
       "      <th>2016</th>\n",
       "      <th>2017</th>\n",
       "      <th>2018</th>\n",
       "      <th>2019</th>\n",
       "      <th>2020</th>\n",
       "      <th>2021</th>\n",
       "    </tr>\n",
       "  </thead>\n",
       "  <tbody>\n",
       "    <tr>\n",
       "      <th>0</th>\n",
       "      <td>acegua</td>\n",
       "      <td>4300034</td>\n",
       "      <td>0</td>\n",
       "      <td>0</td>\n",
       "      <td>0</td>\n",
       "      <td>20</td>\n",
       "      <td>8</td>\n",
       "      <td>0</td>\n",
       "      <td>3</td>\n",
       "      <td>0</td>\n",
       "      <td>...</td>\n",
       "      <td>4539</td>\n",
       "      <td>4520</td>\n",
       "      <td>4564</td>\n",
       "      <td>4483</td>\n",
       "      <td>4472</td>\n",
       "      <td>4412</td>\n",
       "      <td>4487</td>\n",
       "      <td>4516</td>\n",
       "      <td>4540</td>\n",
       "      <td>4505</td>\n",
       "    </tr>\n",
       "    <tr>\n",
       "      <th>1</th>\n",
       "      <td>agua santa</td>\n",
       "      <td>4300059</td>\n",
       "      <td>1</td>\n",
       "      <td>1</td>\n",
       "      <td>0</td>\n",
       "      <td>20</td>\n",
       "      <td>3</td>\n",
       "      <td>4</td>\n",
       "      <td>1</td>\n",
       "      <td>0</td>\n",
       "      <td>...</td>\n",
       "      <td>3858</td>\n",
       "      <td>3898</td>\n",
       "      <td>3959</td>\n",
       "      <td>3922</td>\n",
       "      <td>3977</td>\n",
       "      <td>4013</td>\n",
       "      <td>4057</td>\n",
       "      <td>4107</td>\n",
       "      <td>4093</td>\n",
       "      <td>4256</td>\n",
       "    </tr>\n",
       "    <tr>\n",
       "      <th>2</th>\n",
       "      <td>agudo</td>\n",
       "      <td>4300109</td>\n",
       "      <td>1</td>\n",
       "      <td>1</td>\n",
       "      <td>0</td>\n",
       "      <td>102</td>\n",
       "      <td>2</td>\n",
       "      <td>2</td>\n",
       "      <td>3</td>\n",
       "      <td>1</td>\n",
       "      <td>...</td>\n",
       "      <td>16731</td>\n",
       "      <td>16838</td>\n",
       "      <td>16851</td>\n",
       "      <td>16701</td>\n",
       "      <td>16595</td>\n",
       "      <td>16475</td>\n",
       "      <td>16537</td>\n",
       "      <td>16556</td>\n",
       "      <td>16760</td>\n",
       "      <td>16612</td>\n",
       "    </tr>\n",
       "    <tr>\n",
       "      <th>3</th>\n",
       "      <td>ajuricaba</td>\n",
       "      <td>4300208</td>\n",
       "      <td>0</td>\n",
       "      <td>0</td>\n",
       "      <td>0</td>\n",
       "      <td>26</td>\n",
       "      <td>1</td>\n",
       "      <td>0</td>\n",
       "      <td>1</td>\n",
       "      <td>0</td>\n",
       "      <td>...</td>\n",
       "      <td>7389</td>\n",
       "      <td>7431</td>\n",
       "      <td>7299</td>\n",
       "      <td>7241</td>\n",
       "      <td>7279</td>\n",
       "      <td>7325</td>\n",
       "      <td>7546</td>\n",
       "      <td>7485</td>\n",
       "      <td>7584</td>\n",
       "      <td>7447</td>\n",
       "    </tr>\n",
       "    <tr>\n",
       "      <th>4</th>\n",
       "      <td>alecrim</td>\n",
       "      <td>4300307</td>\n",
       "      <td>1</td>\n",
       "      <td>1</td>\n",
       "      <td>0</td>\n",
       "      <td>36</td>\n",
       "      <td>10</td>\n",
       "      <td>0</td>\n",
       "      <td>2</td>\n",
       "      <td>0</td>\n",
       "      <td>...</td>\n",
       "      <td>7074</td>\n",
       "      <td>6891</td>\n",
       "      <td>6814</td>\n",
       "      <td>6598</td>\n",
       "      <td>6594</td>\n",
       "      <td>6569</td>\n",
       "      <td>6513</td>\n",
       "      <td>6435</td>\n",
       "      <td>6301</td>\n",
       "      <td>6403</td>\n",
       "    </tr>\n",
       "    <tr>\n",
       "      <th>...</th>\n",
       "      <td>...</td>\n",
       "      <td>...</td>\n",
       "      <td>...</td>\n",
       "      <td>...</td>\n",
       "      <td>...</td>\n",
       "      <td>...</td>\n",
       "      <td>...</td>\n",
       "      <td>...</td>\n",
       "      <td>...</td>\n",
       "      <td>...</td>\n",
       "      <td>...</td>\n",
       "      <td>...</td>\n",
       "      <td>...</td>\n",
       "      <td>...</td>\n",
       "      <td>...</td>\n",
       "      <td>...</td>\n",
       "      <td>...</td>\n",
       "      <td>...</td>\n",
       "      <td>...</td>\n",
       "      <td>...</td>\n",
       "      <td>...</td>\n",
       "    </tr>\n",
       "    <tr>\n",
       "      <th>492</th>\n",
       "      <td>vista alegre do prata</td>\n",
       "      <td>4323606</td>\n",
       "      <td>0</td>\n",
       "      <td>0</td>\n",
       "      <td>0</td>\n",
       "      <td>3</td>\n",
       "      <td>0</td>\n",
       "      <td>0</td>\n",
       "      <td>0</td>\n",
       "      <td>0</td>\n",
       "      <td>...</td>\n",
       "      <td>1578</td>\n",
       "      <td>1539</td>\n",
       "      <td>1582</td>\n",
       "      <td>1630</td>\n",
       "      <td>1677</td>\n",
       "      <td>1645</td>\n",
       "      <td>1648</td>\n",
       "      <td>1704</td>\n",
       "      <td>1721</td>\n",
       "      <td>1746</td>\n",
       "    </tr>\n",
       "    <tr>\n",
       "      <th>493</th>\n",
       "      <td>vista gaucha</td>\n",
       "      <td>4323705</td>\n",
       "      <td>1</td>\n",
       "      <td>1</td>\n",
       "      <td>0</td>\n",
       "      <td>11</td>\n",
       "      <td>0</td>\n",
       "      <td>0</td>\n",
       "      <td>0</td>\n",
       "      <td>0</td>\n",
       "      <td>...</td>\n",
       "      <td>2842</td>\n",
       "      <td>2828</td>\n",
       "      <td>2787</td>\n",
       "      <td>2790</td>\n",
       "      <td>2802</td>\n",
       "      <td>2834</td>\n",
       "      <td>2885</td>\n",
       "      <td>2940</td>\n",
       "      <td>2987</td>\n",
       "      <td>3002</td>\n",
       "    </tr>\n",
       "    <tr>\n",
       "      <th>494</th>\n",
       "      <td>vitoria das missoes</td>\n",
       "      <td>4323754</td>\n",
       "      <td>0</td>\n",
       "      <td>0</td>\n",
       "      <td>0</td>\n",
       "      <td>20</td>\n",
       "      <td>3</td>\n",
       "      <td>0</td>\n",
       "      <td>0</td>\n",
       "      <td>0</td>\n",
       "      <td>...</td>\n",
       "      <td>3453</td>\n",
       "      <td>3403</td>\n",
       "      <td>3415</td>\n",
       "      <td>3448</td>\n",
       "      <td>3383</td>\n",
       "      <td>3439</td>\n",
       "      <td>3389</td>\n",
       "      <td>3438</td>\n",
       "      <td>3397</td>\n",
       "      <td>3405</td>\n",
       "    </tr>\n",
       "    <tr>\n",
       "      <th>495</th>\n",
       "      <td>westfalia</td>\n",
       "      <td>4323770</td>\n",
       "      <td>0</td>\n",
       "      <td>0</td>\n",
       "      <td>0</td>\n",
       "      <td>10</td>\n",
       "      <td>2</td>\n",
       "      <td>1</td>\n",
       "      <td>0</td>\n",
       "      <td>0</td>\n",
       "      <td>...</td>\n",
       "      <td>2864</td>\n",
       "      <td>2957</td>\n",
       "      <td>2974</td>\n",
       "      <td>3007</td>\n",
       "      <td>3039</td>\n",
       "      <td>3088</td>\n",
       "      <td>3136</td>\n",
       "      <td>3125</td>\n",
       "      <td>3226</td>\n",
       "      <td>3257</td>\n",
       "    </tr>\n",
       "    <tr>\n",
       "      <th>496</th>\n",
       "      <td>xangri-la</td>\n",
       "      <td>4323804</td>\n",
       "      <td>4</td>\n",
       "      <td>4</td>\n",
       "      <td>0</td>\n",
       "      <td>494</td>\n",
       "      <td>2</td>\n",
       "      <td>11</td>\n",
       "      <td>24</td>\n",
       "      <td>0</td>\n",
       "      <td>...</td>\n",
       "      <td>13351</td>\n",
       "      <td>13776</td>\n",
       "      <td>14165</td>\n",
       "      <td>14483</td>\n",
       "      <td>14813</td>\n",
       "      <td>15362</td>\n",
       "      <td>15858</td>\n",
       "      <td>16214</td>\n",
       "      <td>16343</td>\n",
       "      <td>16744</td>\n",
       "    </tr>\n",
       "  </tbody>\n",
       "</table>\n",
       "<p>497 rows × 31 columns</p>\n",
       "</div>"
      ],
      "text/plain": [
       "                municipios     ibge  homicidio_doloso  \\\n",
       "0                   acegua  4300034                 0   \n",
       "1               agua santa  4300059                 1   \n",
       "2                    agudo  4300109                 1   \n",
       "3                ajuricaba  4300208                 0   \n",
       "4                  alecrim  4300307                 1   \n",
       "..                     ...      ...               ...   \n",
       "492  vista alegre do prata  4323606                 0   \n",
       "493           vista gaucha  4323705                 1   \n",
       "494    vitoria das missoes  4323754                 0   \n",
       "495              westfalia  4323770                 0   \n",
       "496              xangri-la  4323804                 4   \n",
       "\n",
       "     total_vitimas_homicidio_doloso  latrocinio  furtos  abigeato  \\\n",
       "0                                 0           0      20         8   \n",
       "1                                 1           0      20         3   \n",
       "2                                 1           0     102         2   \n",
       "3                                 0           0      26         1   \n",
       "4                                 1           0      36        10   \n",
       "..                              ...         ...     ...       ...   \n",
       "492                               0           0       3         0   \n",
       "493                               1           0      11         0   \n",
       "494                               0           0      20         3   \n",
       "495                               0           0      10         2   \n",
       "496                               4           0     494         2   \n",
       "\n",
       "     furto_veiculo  roubos  roubo_veiculo  ...   2012   2013   2014   2015  \\\n",
       "0                0       3              0  ...   4539   4520   4564   4483   \n",
       "1                4       1              0  ...   3858   3898   3959   3922   \n",
       "2                2       3              1  ...  16731  16838  16851  16701   \n",
       "3                0       1              0  ...   7389   7431   7299   7241   \n",
       "4                0       2              0  ...   7074   6891   6814   6598   \n",
       "..             ...     ...            ...  ...    ...    ...    ...    ...   \n",
       "492              0       0              0  ...   1578   1539   1582   1630   \n",
       "493              0       0              0  ...   2842   2828   2787   2790   \n",
       "494              0       0              0  ...   3453   3403   3415   3448   \n",
       "495              1       0              0  ...   2864   2957   2974   3007   \n",
       "496             11      24              0  ...  13351  13776  14165  14483   \n",
       "\n",
       "      2016   2017   2018   2019   2020   2021  \n",
       "0     4472   4412   4487   4516   4540   4505  \n",
       "1     3977   4013   4057   4107   4093   4256  \n",
       "2    16595  16475  16537  16556  16760  16612  \n",
       "3     7279   7325   7546   7485   7584   7447  \n",
       "4     6594   6569   6513   6435   6301   6403  \n",
       "..     ...    ...    ...    ...    ...    ...  \n",
       "492   1677   1645   1648   1704   1721   1746  \n",
       "493   2802   2834   2885   2940   2987   3002  \n",
       "494   3383   3439   3389   3438   3397   3405  \n",
       "495   3039   3088   3136   3125   3226   3257  \n",
       "496  14813  15362  15858  16214  16343  16744  \n",
       "\n",
       "[497 rows x 31 columns]"
      ]
     },
     "execution_count": 939,
     "metadata": {},
     "output_type": "execute_result"
    }
   ],
   "source": [
    "# O merge é feito com base na coluna ibge como forma de chave estrangeira com o método inner\n",
    "df_merged = pd.merge(df_criminal, df_pop, how = 'inner', on = 'ibge').drop(columns=['municipios_y'])\n",
    "df_merged.rename(columns={'municipios_x': 'municipios'}, inplace=True)\n",
    "\n",
    "df_merged.info()\n",
    "\n",
    "df_merged\n"
   ]
  },
  {
   "cell_type": "markdown",
   "metadata": {},
   "source": [
    "### Cálculo da taxa de criminalidade a cada 1000 mil habitantes.\n",
    " Para que os dados das grandes cidades, com numerosa população, não tenham impacto nas análises estatísticas, calculasse a taxa de criminalidade percapita. Assim a comparação entre Índice de Criminalidade e População mantém a proporcionalidade."
   ]
  },
  {
   "cell_type": "code",
   "execution_count": 940,
   "metadata": {},
   "outputs": [],
   "source": [
    "# Lista das colunas que precisam ser calculadas\n",
    "colunas_taxa = df_criminal.columns[2:]\n",
    "\n",
    "# Calculando a taxa de criminalidade para cada mês\n",
    "for coluna_taxa in colunas_taxa:\n",
    "    for coluna_pop in df_pop.columns[4:]:\n",
    "            \n",
    "            # Calculando a taxa de criminalidade por 100.000 habitantes\n",
    "            df_merged[f'taxa_{coluna_taxa}'] = df_criminal[coluna_taxa] / df_pop[coluna_pop] * 100000\n",
    "\n",
    "# Salvando o dataframe em um arquivo csv\n",
    "df_merged.to_csv('data\\\\tocsv\\\\dados_criminalidade_população.csv', sep=';', index=False)\n"
   ]
  },
  {
   "cell_type": "markdown",
   "metadata": {},
   "source": [
    "## Redução de Dimensionalidade\n",
    "### O dataset agora tem dados suficientes para ranquear as cidades em mais seguras e não seguras com dados proporcionais a população. Entretanto, existem muitas colunas. A alta dimensionalidade deixará o processo de aprendizado confuso criando um sobreajuste nos dados. Então é aplicado o PCA, uma técnida de redução de dimensionalidade.\n"
   ]
  },
  {
   "cell_type": "markdown",
   "metadata": {},
   "source": [
    "O PCA será aplicado somente nas colunas referentes as taxas de criminalidade, pois os números absolutos são dados brutos e somente serviram para o cálculo das taxas. Com isto, os componentes principais irão explicar o comportamento da criminalidade nas cidades com a maior variabilidade das taxas."
   ]
  },
  {
   "cell_type": "code",
   "execution_count": 941,
   "metadata": {},
   "outputs": [
    {
     "data": {
      "text/html": [
       "<div>\n",
       "<style scoped>\n",
       "    .dataframe tbody tr th:only-of-type {\n",
       "        vertical-align: middle;\n",
       "    }\n",
       "\n",
       "    .dataframe tbody tr th {\n",
       "        vertical-align: top;\n",
       "    }\n",
       "\n",
       "    .dataframe thead th {\n",
       "        text-align: right;\n",
       "    }\n",
       "</style>\n",
       "<table border=\"1\" class=\"dataframe\">\n",
       "  <thead>\n",
       "    <tr style=\"text-align: right;\">\n",
       "      <th></th>\n",
       "      <th>municipios</th>\n",
       "      <th>ibge</th>\n",
       "      <th>taxa_homicidio_doloso</th>\n",
       "      <th>taxa_total_vitimas_homicidio_doloso</th>\n",
       "      <th>taxa_latrocinio</th>\n",
       "      <th>taxa_furtos</th>\n",
       "      <th>taxa_abigeato</th>\n",
       "      <th>taxa_furto_veiculo</th>\n",
       "      <th>taxa_roubos</th>\n",
       "      <th>taxa_roubo_veiculo</th>\n",
       "      <th>taxa_estelionato</th>\n",
       "      <th>taxa_delitos_armas_municoes</th>\n",
       "      <th>taxa_entorpecente_posse</th>\n",
       "      <th>taxa_entorpecente_trafico</th>\n",
       "      <th>taxa_vitimas_latrocinio</th>\n",
       "      <th>taxa_vitimas_lesao_corporal_morte</th>\n",
       "      <th>taxa_total_vitimas_crimes_violentos</th>\n",
       "    </tr>\n",
       "  </thead>\n",
       "  <tbody>\n",
       "    <tr>\n",
       "      <th>0</th>\n",
       "      <td>acegua</td>\n",
       "      <td>4300034</td>\n",
       "      <td>0.000000</td>\n",
       "      <td>0.000000</td>\n",
       "      <td>0.0</td>\n",
       "      <td>443.951165</td>\n",
       "      <td>177.580466</td>\n",
       "      <td>0.000000</td>\n",
       "      <td>66.592675</td>\n",
       "      <td>0.000000</td>\n",
       "      <td>599.334073</td>\n",
       "      <td>88.790233</td>\n",
       "      <td>66.592675</td>\n",
       "      <td>0.000000</td>\n",
       "      <td>0.0</td>\n",
       "      <td>0.0</td>\n",
       "      <td>0.000000</td>\n",
       "    </tr>\n",
       "    <tr>\n",
       "      <th>1</th>\n",
       "      <td>agua santa</td>\n",
       "      <td>4300059</td>\n",
       "      <td>23.496241</td>\n",
       "      <td>23.496241</td>\n",
       "      <td>0.0</td>\n",
       "      <td>469.924812</td>\n",
       "      <td>70.488722</td>\n",
       "      <td>93.984962</td>\n",
       "      <td>23.496241</td>\n",
       "      <td>0.000000</td>\n",
       "      <td>305.451128</td>\n",
       "      <td>46.992481</td>\n",
       "      <td>0.000000</td>\n",
       "      <td>0.000000</td>\n",
       "      <td>0.0</td>\n",
       "      <td>0.0</td>\n",
       "      <td>46.992481</td>\n",
       "    </tr>\n",
       "    <tr>\n",
       "      <th>2</th>\n",
       "      <td>agudo</td>\n",
       "      <td>4300109</td>\n",
       "      <td>6.019745</td>\n",
       "      <td>6.019745</td>\n",
       "      <td>0.0</td>\n",
       "      <td>614.013966</td>\n",
       "      <td>12.039490</td>\n",
       "      <td>12.039490</td>\n",
       "      <td>18.059234</td>\n",
       "      <td>6.019745</td>\n",
       "      <td>307.006983</td>\n",
       "      <td>18.059234</td>\n",
       "      <td>42.138213</td>\n",
       "      <td>60.197448</td>\n",
       "      <td>0.0</td>\n",
       "      <td>0.0</td>\n",
       "      <td>6.019745</td>\n",
       "    </tr>\n",
       "    <tr>\n",
       "      <th>3</th>\n",
       "      <td>ajuricaba</td>\n",
       "      <td>4300208</td>\n",
       "      <td>0.000000</td>\n",
       "      <td>0.000000</td>\n",
       "      <td>0.0</td>\n",
       "      <td>349.133879</td>\n",
       "      <td>13.428226</td>\n",
       "      <td>0.000000</td>\n",
       "      <td>13.428226</td>\n",
       "      <td>0.000000</td>\n",
       "      <td>375.990332</td>\n",
       "      <td>26.856452</td>\n",
       "      <td>40.284678</td>\n",
       "      <td>0.000000</td>\n",
       "      <td>0.0</td>\n",
       "      <td>0.0</td>\n",
       "      <td>0.000000</td>\n",
       "    </tr>\n",
       "    <tr>\n",
       "      <th>4</th>\n",
       "      <td>alecrim</td>\n",
       "      <td>4300307</td>\n",
       "      <td>15.617679</td>\n",
       "      <td>15.617679</td>\n",
       "      <td>0.0</td>\n",
       "      <td>562.236452</td>\n",
       "      <td>156.176792</td>\n",
       "      <td>0.000000</td>\n",
       "      <td>31.235358</td>\n",
       "      <td>0.000000</td>\n",
       "      <td>265.500547</td>\n",
       "      <td>156.176792</td>\n",
       "      <td>0.000000</td>\n",
       "      <td>62.470717</td>\n",
       "      <td>0.0</td>\n",
       "      <td>0.0</td>\n",
       "      <td>15.617679</td>\n",
       "    </tr>\n",
       "    <tr>\n",
       "      <th>...</th>\n",
       "      <td>...</td>\n",
       "      <td>...</td>\n",
       "      <td>...</td>\n",
       "      <td>...</td>\n",
       "      <td>...</td>\n",
       "      <td>...</td>\n",
       "      <td>...</td>\n",
       "      <td>...</td>\n",
       "      <td>...</td>\n",
       "      <td>...</td>\n",
       "      <td>...</td>\n",
       "      <td>...</td>\n",
       "      <td>...</td>\n",
       "      <td>...</td>\n",
       "      <td>...</td>\n",
       "      <td>...</td>\n",
       "      <td>...</td>\n",
       "    </tr>\n",
       "    <tr>\n",
       "      <th>492</th>\n",
       "      <td>vista alegre do prata</td>\n",
       "      <td>4323606</td>\n",
       "      <td>0.000000</td>\n",
       "      <td>0.000000</td>\n",
       "      <td>0.0</td>\n",
       "      <td>171.821306</td>\n",
       "      <td>0.000000</td>\n",
       "      <td>0.000000</td>\n",
       "      <td>0.000000</td>\n",
       "      <td>0.000000</td>\n",
       "      <td>458.190149</td>\n",
       "      <td>171.821306</td>\n",
       "      <td>0.000000</td>\n",
       "      <td>0.000000</td>\n",
       "      <td>0.0</td>\n",
       "      <td>0.0</td>\n",
       "      <td>0.000000</td>\n",
       "    </tr>\n",
       "    <tr>\n",
       "      <th>493</th>\n",
       "      <td>vista gaucha</td>\n",
       "      <td>4323705</td>\n",
       "      <td>33.311126</td>\n",
       "      <td>33.311126</td>\n",
       "      <td>0.0</td>\n",
       "      <td>366.422385</td>\n",
       "      <td>0.000000</td>\n",
       "      <td>0.000000</td>\n",
       "      <td>0.000000</td>\n",
       "      <td>0.000000</td>\n",
       "      <td>199.866755</td>\n",
       "      <td>66.622252</td>\n",
       "      <td>0.000000</td>\n",
       "      <td>0.000000</td>\n",
       "      <td>0.0</td>\n",
       "      <td>0.0</td>\n",
       "      <td>33.311126</td>\n",
       "    </tr>\n",
       "    <tr>\n",
       "      <th>494</th>\n",
       "      <td>vitoria das missoes</td>\n",
       "      <td>4323754</td>\n",
       "      <td>0.000000</td>\n",
       "      <td>0.000000</td>\n",
       "      <td>0.0</td>\n",
       "      <td>587.371512</td>\n",
       "      <td>88.105727</td>\n",
       "      <td>0.000000</td>\n",
       "      <td>0.000000</td>\n",
       "      <td>0.000000</td>\n",
       "      <td>205.580029</td>\n",
       "      <td>29.368576</td>\n",
       "      <td>117.474302</td>\n",
       "      <td>0.000000</td>\n",
       "      <td>0.0</td>\n",
       "      <td>0.0</td>\n",
       "      <td>0.000000</td>\n",
       "    </tr>\n",
       "    <tr>\n",
       "      <th>495</th>\n",
       "      <td>westfalia</td>\n",
       "      <td>4323770</td>\n",
       "      <td>0.000000</td>\n",
       "      <td>0.000000</td>\n",
       "      <td>0.0</td>\n",
       "      <td>307.031010</td>\n",
       "      <td>61.406202</td>\n",
       "      <td>30.703101</td>\n",
       "      <td>0.000000</td>\n",
       "      <td>0.000000</td>\n",
       "      <td>614.062020</td>\n",
       "      <td>30.703101</td>\n",
       "      <td>30.703101</td>\n",
       "      <td>0.000000</td>\n",
       "      <td>0.0</td>\n",
       "      <td>0.0</td>\n",
       "      <td>0.000000</td>\n",
       "    </tr>\n",
       "    <tr>\n",
       "      <th>496</th>\n",
       "      <td>xangri-la</td>\n",
       "      <td>4323804</td>\n",
       "      <td>23.889154</td>\n",
       "      <td>23.889154</td>\n",
       "      <td>0.0</td>\n",
       "      <td>2950.310559</td>\n",
       "      <td>11.944577</td>\n",
       "      <td>65.695174</td>\n",
       "      <td>143.334926</td>\n",
       "      <td>0.000000</td>\n",
       "      <td>1379.598662</td>\n",
       "      <td>29.861443</td>\n",
       "      <td>340.420449</td>\n",
       "      <td>298.614429</td>\n",
       "      <td>0.0</td>\n",
       "      <td>0.0</td>\n",
       "      <td>23.889154</td>\n",
       "    </tr>\n",
       "  </tbody>\n",
       "</table>\n",
       "<p>497 rows × 17 columns</p>\n",
       "</div>"
      ],
      "text/plain": [
       "                municipios     ibge  taxa_homicidio_doloso  \\\n",
       "0                   acegua  4300034               0.000000   \n",
       "1               agua santa  4300059              23.496241   \n",
       "2                    agudo  4300109               6.019745   \n",
       "3                ajuricaba  4300208               0.000000   \n",
       "4                  alecrim  4300307              15.617679   \n",
       "..                     ...      ...                    ...   \n",
       "492  vista alegre do prata  4323606               0.000000   \n",
       "493           vista gaucha  4323705              33.311126   \n",
       "494    vitoria das missoes  4323754               0.000000   \n",
       "495              westfalia  4323770               0.000000   \n",
       "496              xangri-la  4323804              23.889154   \n",
       "\n",
       "     taxa_total_vitimas_homicidio_doloso  taxa_latrocinio  taxa_furtos  \\\n",
       "0                               0.000000              0.0   443.951165   \n",
       "1                              23.496241              0.0   469.924812   \n",
       "2                               6.019745              0.0   614.013966   \n",
       "3                               0.000000              0.0   349.133879   \n",
       "4                              15.617679              0.0   562.236452   \n",
       "..                                   ...              ...          ...   \n",
       "492                             0.000000              0.0   171.821306   \n",
       "493                            33.311126              0.0   366.422385   \n",
       "494                             0.000000              0.0   587.371512   \n",
       "495                             0.000000              0.0   307.031010   \n",
       "496                            23.889154              0.0  2950.310559   \n",
       "\n",
       "     taxa_abigeato  taxa_furto_veiculo  taxa_roubos  taxa_roubo_veiculo  \\\n",
       "0       177.580466            0.000000    66.592675            0.000000   \n",
       "1        70.488722           93.984962    23.496241            0.000000   \n",
       "2        12.039490           12.039490    18.059234            6.019745   \n",
       "3        13.428226            0.000000    13.428226            0.000000   \n",
       "4       156.176792            0.000000    31.235358            0.000000   \n",
       "..             ...                 ...          ...                 ...   \n",
       "492       0.000000            0.000000     0.000000            0.000000   \n",
       "493       0.000000            0.000000     0.000000            0.000000   \n",
       "494      88.105727            0.000000     0.000000            0.000000   \n",
       "495      61.406202           30.703101     0.000000            0.000000   \n",
       "496      11.944577           65.695174   143.334926            0.000000   \n",
       "\n",
       "     taxa_estelionato  taxa_delitos_armas_municoes  taxa_entorpecente_posse  \\\n",
       "0          599.334073                    88.790233                66.592675   \n",
       "1          305.451128                    46.992481                 0.000000   \n",
       "2          307.006983                    18.059234                42.138213   \n",
       "3          375.990332                    26.856452                40.284678   \n",
       "4          265.500547                   156.176792                 0.000000   \n",
       "..                ...                          ...                      ...   \n",
       "492        458.190149                   171.821306                 0.000000   \n",
       "493        199.866755                    66.622252                 0.000000   \n",
       "494        205.580029                    29.368576               117.474302   \n",
       "495        614.062020                    30.703101                30.703101   \n",
       "496       1379.598662                    29.861443               340.420449   \n",
       "\n",
       "     taxa_entorpecente_trafico  taxa_vitimas_latrocinio  \\\n",
       "0                     0.000000                      0.0   \n",
       "1                     0.000000                      0.0   \n",
       "2                    60.197448                      0.0   \n",
       "3                     0.000000                      0.0   \n",
       "4                    62.470717                      0.0   \n",
       "..                         ...                      ...   \n",
       "492                   0.000000                      0.0   \n",
       "493                   0.000000                      0.0   \n",
       "494                   0.000000                      0.0   \n",
       "495                   0.000000                      0.0   \n",
       "496                 298.614429                      0.0   \n",
       "\n",
       "     taxa_vitimas_lesao_corporal_morte  taxa_total_vitimas_crimes_violentos  \n",
       "0                                  0.0                             0.000000  \n",
       "1                                  0.0                            46.992481  \n",
       "2                                  0.0                             6.019745  \n",
       "3                                  0.0                             0.000000  \n",
       "4                                  0.0                            15.617679  \n",
       "..                                 ...                                  ...  \n",
       "492                                0.0                             0.000000  \n",
       "493                                0.0                            33.311126  \n",
       "494                                0.0                             0.000000  \n",
       "495                                0.0                             0.000000  \n",
       "496                                0.0                            23.889154  \n",
       "\n",
       "[497 rows x 17 columns]"
      ]
     },
     "execution_count": 941,
     "metadata": {},
     "output_type": "execute_result"
    }
   ],
   "source": [
    "# Lista das colunas extras que não são necessárias\n",
    "colunas_extras = df_merged.columns[2:-15]\n",
    "\n",
    "# Removendo as colunas extras\n",
    "df_taxa = df_merged.drop(colunas_extras, axis=1)\n",
    "\n",
    "# Salvando o dataframe em um arquivo csv\n",
    "df_taxa.to_csv('data\\\\tocsv\\\\dados_taxa_criminalidade.csv', sep=';', index=False)\n",
    "\n",
    "df_taxa\n",
    "\n"
   ]
  },
  {
   "cell_type": "markdown",
   "metadata": {},
   "source": [
    "Para fins de demonstração, será usado somente uma amostra de 20 cidades."
   ]
  },
  {
   "cell_type": "code",
   "execution_count": 942,
   "metadata": {},
   "outputs": [],
   "source": [
    "# Selecionando 10 linhas aleatórias\n",
    "df_sample= df_taxa.sample(n=10, axis=0, random_state=42)"
   ]
  },
  {
   "cell_type": "code",
   "execution_count": 943,
   "metadata": {},
   "outputs": [],
   "source": [
    "import numpy as np\n",
    "\n",
    "from statsmodels.datasets import get_rdataset\n",
    "from sklearn.decomposition import PCA\n",
    "from sklearn.preprocessing import StandardScaler"
   ]
  },
  {
   "cell_type": "code",
   "execution_count": 944,
   "metadata": {},
   "outputs": [
    {
     "name": "stdout",
     "output_type": "stream",
     "text": [
      "<class 'pandas.core.frame.DataFrame'>\n",
      "Index: 10 entries, 483 to 9\n",
      "Data columns (total 15 columns):\n",
      " #   Column                               Non-Null Count  Dtype  \n",
      "---  ------                               --------------  -----  \n",
      " 0   taxa_homicidio_doloso                10 non-null     float64\n",
      " 1   taxa_total_vitimas_homicidio_doloso  10 non-null     float64\n",
      " 2   taxa_latrocinio                      10 non-null     float64\n",
      " 3   taxa_furtos                          10 non-null     float64\n",
      " 4   taxa_abigeato                        10 non-null     float64\n",
      " 5   taxa_furto_veiculo                   10 non-null     float64\n",
      " 6   taxa_roubos                          10 non-null     float64\n",
      " 7   taxa_roubo_veiculo                   10 non-null     float64\n",
      " 8   taxa_estelionato                     10 non-null     float64\n",
      " 9   taxa_delitos_armas_municoes          10 non-null     float64\n",
      " 10  taxa_entorpecente_posse              10 non-null     float64\n",
      " 11  taxa_entorpecente_trafico            10 non-null     float64\n",
      " 12  taxa_vitimas_latrocinio              10 non-null     float64\n",
      " 13  taxa_vitimas_lesao_corporal_morte    10 non-null     float64\n",
      " 14  taxa_total_vitimas_crimes_violentos  10 non-null     float64\n",
      "dtypes: float64(15)\n",
      "memory usage: 1.2 KB\n"
     ]
    }
   ],
   "source": [
    "# Salvando os nomes dos municípios\n",
    "municipios = df_sample['municipios']\n",
    "\n",
    "# Selecionando as colunas do tipo float e que serão utilizadas para a análise do PCA\n",
    "df_sample.drop(['municipios', 'ibge'], axis='columns', inplace=True)\n",
    "\n",
    "df_sample.info()"
   ]
  },
  {
   "cell_type": "code",
   "execution_count": 945,
   "metadata": {},
   "outputs": [],
   "source": [
    "# Normalizando os dados média 0 e desvio padrão 1\n",
    "scaler = StandardScaler(with_std=True, with_mean=True)\n",
    "data_scaled = pd.DataFrame(scaler.fit_transform(df_sample))\n",
    "#data_scaled.describe()"
   ]
  },
  {
   "cell_type": "code",
   "execution_count": 946,
   "metadata": {},
   "outputs": [
    {
     "data": {
      "text/plain": [
       "10"
      ]
     },
     "execution_count": 946,
     "metadata": {},
     "output_type": "execute_result"
    }
   ],
   "source": [
    "# Aplicando a PCA\n",
    "pca = PCA()\n",
    "components = pca.fit_transform(data_scaled)\n",
    "\n",
    "components.shape[1]"
   ]
  },
  {
   "cell_type": "code",
   "execution_count": 947,
   "metadata": {},
   "outputs": [
    {
     "data": {
      "text/plain": [
       "array([4.24796836e-01, 1.90845487e-01, 1.40782723e-01, 9.74176175e-02,\n",
       "       7.63305412e-02, 4.78980940e-02, 1.47236931e-02, 4.41806007e-03,\n",
       "       2.78694847e-03, 9.85344380e-34])"
      ]
     },
     "execution_count": 947,
     "metadata": {},
     "output_type": "execute_result"
    }
   ],
   "source": [
    "# Analise de como os componentes estão explicando os dados com a variância explicada\n",
    "pca.explained_variance_ratio_"
   ]
  },
  {
   "cell_type": "code",
   "execution_count": 948,
   "metadata": {},
   "outputs": [],
   "source": [
    "import plotly.express as px"
   ]
  },
  {
   "cell_type": "code",
   "execution_count": 949,
   "metadata": {},
   "outputs": [
    {
     "data": {
      "application/vnd.plotly.v1+json": {
       "config": {
        "plotlyServerURL": "https://plot.ly"
       },
       "data": [
        {
         "fillpattern": {
          "shape": ""
         },
         "hovertemplate": "# Components=%{x}<br>Explained Variance=%{y}<extra></extra>",
         "legendgroup": "",
         "line": {
          "color": "#636efa"
         },
         "marker": {
          "symbol": "circle"
         },
         "mode": "lines",
         "name": "",
         "orientation": "v",
         "showlegend": false,
         "stackgroup": "1",
         "type": "scatter",
         "x": [
          1,
          2,
          3,
          4,
          5,
          6,
          7,
          8,
          9,
          10
         ],
         "xaxis": "x",
         "y": [
          0.42479683568405835,
          0.6156423222608178,
          0.7564250456965363,
          0.8538426631906351,
          0.9301732043990654,
          0.9780712983578099,
          0.9927949914618399,
          0.9972130515298399,
          0.9999999999999998,
          0.9999999999999998
         ],
         "yaxis": "y"
        }
       ],
       "layout": {
        "legend": {
         "tracegroupgap": 0
        },
        "margin": {
         "t": 60
        },
        "template": {
         "data": {
          "bar": [
           {
            "error_x": {
             "color": "#2a3f5f"
            },
            "error_y": {
             "color": "#2a3f5f"
            },
            "marker": {
             "line": {
              "color": "#E5ECF6",
              "width": 0.5
             },
             "pattern": {
              "fillmode": "overlay",
              "size": 10,
              "solidity": 0.2
             }
            },
            "type": "bar"
           }
          ],
          "barpolar": [
           {
            "marker": {
             "line": {
              "color": "#E5ECF6",
              "width": 0.5
             },
             "pattern": {
              "fillmode": "overlay",
              "size": 10,
              "solidity": 0.2
             }
            },
            "type": "barpolar"
           }
          ],
          "carpet": [
           {
            "aaxis": {
             "endlinecolor": "#2a3f5f",
             "gridcolor": "white",
             "linecolor": "white",
             "minorgridcolor": "white",
             "startlinecolor": "#2a3f5f"
            },
            "baxis": {
             "endlinecolor": "#2a3f5f",
             "gridcolor": "white",
             "linecolor": "white",
             "minorgridcolor": "white",
             "startlinecolor": "#2a3f5f"
            },
            "type": "carpet"
           }
          ],
          "choropleth": [
           {
            "colorbar": {
             "outlinewidth": 0,
             "ticks": ""
            },
            "type": "choropleth"
           }
          ],
          "contour": [
           {
            "colorbar": {
             "outlinewidth": 0,
             "ticks": ""
            },
            "colorscale": [
             [
              0,
              "#0d0887"
             ],
             [
              0.1111111111111111,
              "#46039f"
             ],
             [
              0.2222222222222222,
              "#7201a8"
             ],
             [
              0.3333333333333333,
              "#9c179e"
             ],
             [
              0.4444444444444444,
              "#bd3786"
             ],
             [
              0.5555555555555556,
              "#d8576b"
             ],
             [
              0.6666666666666666,
              "#ed7953"
             ],
             [
              0.7777777777777778,
              "#fb9f3a"
             ],
             [
              0.8888888888888888,
              "#fdca26"
             ],
             [
              1,
              "#f0f921"
             ]
            ],
            "type": "contour"
           }
          ],
          "contourcarpet": [
           {
            "colorbar": {
             "outlinewidth": 0,
             "ticks": ""
            },
            "type": "contourcarpet"
           }
          ],
          "heatmap": [
           {
            "colorbar": {
             "outlinewidth": 0,
             "ticks": ""
            },
            "colorscale": [
             [
              0,
              "#0d0887"
             ],
             [
              0.1111111111111111,
              "#46039f"
             ],
             [
              0.2222222222222222,
              "#7201a8"
             ],
             [
              0.3333333333333333,
              "#9c179e"
             ],
             [
              0.4444444444444444,
              "#bd3786"
             ],
             [
              0.5555555555555556,
              "#d8576b"
             ],
             [
              0.6666666666666666,
              "#ed7953"
             ],
             [
              0.7777777777777778,
              "#fb9f3a"
             ],
             [
              0.8888888888888888,
              "#fdca26"
             ],
             [
              1,
              "#f0f921"
             ]
            ],
            "type": "heatmap"
           }
          ],
          "heatmapgl": [
           {
            "colorbar": {
             "outlinewidth": 0,
             "ticks": ""
            },
            "colorscale": [
             [
              0,
              "#0d0887"
             ],
             [
              0.1111111111111111,
              "#46039f"
             ],
             [
              0.2222222222222222,
              "#7201a8"
             ],
             [
              0.3333333333333333,
              "#9c179e"
             ],
             [
              0.4444444444444444,
              "#bd3786"
             ],
             [
              0.5555555555555556,
              "#d8576b"
             ],
             [
              0.6666666666666666,
              "#ed7953"
             ],
             [
              0.7777777777777778,
              "#fb9f3a"
             ],
             [
              0.8888888888888888,
              "#fdca26"
             ],
             [
              1,
              "#f0f921"
             ]
            ],
            "type": "heatmapgl"
           }
          ],
          "histogram": [
           {
            "marker": {
             "pattern": {
              "fillmode": "overlay",
              "size": 10,
              "solidity": 0.2
             }
            },
            "type": "histogram"
           }
          ],
          "histogram2d": [
           {
            "colorbar": {
             "outlinewidth": 0,
             "ticks": ""
            },
            "colorscale": [
             [
              0,
              "#0d0887"
             ],
             [
              0.1111111111111111,
              "#46039f"
             ],
             [
              0.2222222222222222,
              "#7201a8"
             ],
             [
              0.3333333333333333,
              "#9c179e"
             ],
             [
              0.4444444444444444,
              "#bd3786"
             ],
             [
              0.5555555555555556,
              "#d8576b"
             ],
             [
              0.6666666666666666,
              "#ed7953"
             ],
             [
              0.7777777777777778,
              "#fb9f3a"
             ],
             [
              0.8888888888888888,
              "#fdca26"
             ],
             [
              1,
              "#f0f921"
             ]
            ],
            "type": "histogram2d"
           }
          ],
          "histogram2dcontour": [
           {
            "colorbar": {
             "outlinewidth": 0,
             "ticks": ""
            },
            "colorscale": [
             [
              0,
              "#0d0887"
             ],
             [
              0.1111111111111111,
              "#46039f"
             ],
             [
              0.2222222222222222,
              "#7201a8"
             ],
             [
              0.3333333333333333,
              "#9c179e"
             ],
             [
              0.4444444444444444,
              "#bd3786"
             ],
             [
              0.5555555555555556,
              "#d8576b"
             ],
             [
              0.6666666666666666,
              "#ed7953"
             ],
             [
              0.7777777777777778,
              "#fb9f3a"
             ],
             [
              0.8888888888888888,
              "#fdca26"
             ],
             [
              1,
              "#f0f921"
             ]
            ],
            "type": "histogram2dcontour"
           }
          ],
          "mesh3d": [
           {
            "colorbar": {
             "outlinewidth": 0,
             "ticks": ""
            },
            "type": "mesh3d"
           }
          ],
          "parcoords": [
           {
            "line": {
             "colorbar": {
              "outlinewidth": 0,
              "ticks": ""
             }
            },
            "type": "parcoords"
           }
          ],
          "pie": [
           {
            "automargin": true,
            "type": "pie"
           }
          ],
          "scatter": [
           {
            "fillpattern": {
             "fillmode": "overlay",
             "size": 10,
             "solidity": 0.2
            },
            "type": "scatter"
           }
          ],
          "scatter3d": [
           {
            "line": {
             "colorbar": {
              "outlinewidth": 0,
              "ticks": ""
             }
            },
            "marker": {
             "colorbar": {
              "outlinewidth": 0,
              "ticks": ""
             }
            },
            "type": "scatter3d"
           }
          ],
          "scattercarpet": [
           {
            "marker": {
             "colorbar": {
              "outlinewidth": 0,
              "ticks": ""
             }
            },
            "type": "scattercarpet"
           }
          ],
          "scattergeo": [
           {
            "marker": {
             "colorbar": {
              "outlinewidth": 0,
              "ticks": ""
             }
            },
            "type": "scattergeo"
           }
          ],
          "scattergl": [
           {
            "marker": {
             "colorbar": {
              "outlinewidth": 0,
              "ticks": ""
             }
            },
            "type": "scattergl"
           }
          ],
          "scattermapbox": [
           {
            "marker": {
             "colorbar": {
              "outlinewidth": 0,
              "ticks": ""
             }
            },
            "type": "scattermapbox"
           }
          ],
          "scatterpolar": [
           {
            "marker": {
             "colorbar": {
              "outlinewidth": 0,
              "ticks": ""
             }
            },
            "type": "scatterpolar"
           }
          ],
          "scatterpolargl": [
           {
            "marker": {
             "colorbar": {
              "outlinewidth": 0,
              "ticks": ""
             }
            },
            "type": "scatterpolargl"
           }
          ],
          "scatterternary": [
           {
            "marker": {
             "colorbar": {
              "outlinewidth": 0,
              "ticks": ""
             }
            },
            "type": "scatterternary"
           }
          ],
          "surface": [
           {
            "colorbar": {
             "outlinewidth": 0,
             "ticks": ""
            },
            "colorscale": [
             [
              0,
              "#0d0887"
             ],
             [
              0.1111111111111111,
              "#46039f"
             ],
             [
              0.2222222222222222,
              "#7201a8"
             ],
             [
              0.3333333333333333,
              "#9c179e"
             ],
             [
              0.4444444444444444,
              "#bd3786"
             ],
             [
              0.5555555555555556,
              "#d8576b"
             ],
             [
              0.6666666666666666,
              "#ed7953"
             ],
             [
              0.7777777777777778,
              "#fb9f3a"
             ],
             [
              0.8888888888888888,
              "#fdca26"
             ],
             [
              1,
              "#f0f921"
             ]
            ],
            "type": "surface"
           }
          ],
          "table": [
           {
            "cells": {
             "fill": {
              "color": "#EBF0F8"
             },
             "line": {
              "color": "white"
             }
            },
            "header": {
             "fill": {
              "color": "#C8D4E3"
             },
             "line": {
              "color": "white"
             }
            },
            "type": "table"
           }
          ]
         },
         "layout": {
          "annotationdefaults": {
           "arrowcolor": "#2a3f5f",
           "arrowhead": 0,
           "arrowwidth": 1
          },
          "autotypenumbers": "strict",
          "coloraxis": {
           "colorbar": {
            "outlinewidth": 0,
            "ticks": ""
           }
          },
          "colorscale": {
           "diverging": [
            [
             0,
             "#8e0152"
            ],
            [
             0.1,
             "#c51b7d"
            ],
            [
             0.2,
             "#de77ae"
            ],
            [
             0.3,
             "#f1b6da"
            ],
            [
             0.4,
             "#fde0ef"
            ],
            [
             0.5,
             "#f7f7f7"
            ],
            [
             0.6,
             "#e6f5d0"
            ],
            [
             0.7,
             "#b8e186"
            ],
            [
             0.8,
             "#7fbc41"
            ],
            [
             0.9,
             "#4d9221"
            ],
            [
             1,
             "#276419"
            ]
           ],
           "sequential": [
            [
             0,
             "#0d0887"
            ],
            [
             0.1111111111111111,
             "#46039f"
            ],
            [
             0.2222222222222222,
             "#7201a8"
            ],
            [
             0.3333333333333333,
             "#9c179e"
            ],
            [
             0.4444444444444444,
             "#bd3786"
            ],
            [
             0.5555555555555556,
             "#d8576b"
            ],
            [
             0.6666666666666666,
             "#ed7953"
            ],
            [
             0.7777777777777778,
             "#fb9f3a"
            ],
            [
             0.8888888888888888,
             "#fdca26"
            ],
            [
             1,
             "#f0f921"
            ]
           ],
           "sequentialminus": [
            [
             0,
             "#0d0887"
            ],
            [
             0.1111111111111111,
             "#46039f"
            ],
            [
             0.2222222222222222,
             "#7201a8"
            ],
            [
             0.3333333333333333,
             "#9c179e"
            ],
            [
             0.4444444444444444,
             "#bd3786"
            ],
            [
             0.5555555555555556,
             "#d8576b"
            ],
            [
             0.6666666666666666,
             "#ed7953"
            ],
            [
             0.7777777777777778,
             "#fb9f3a"
            ],
            [
             0.8888888888888888,
             "#fdca26"
            ],
            [
             1,
             "#f0f921"
            ]
           ]
          },
          "colorway": [
           "#636efa",
           "#EF553B",
           "#00cc96",
           "#ab63fa",
           "#FFA15A",
           "#19d3f3",
           "#FF6692",
           "#B6E880",
           "#FF97FF",
           "#FECB52"
          ],
          "font": {
           "color": "#2a3f5f"
          },
          "geo": {
           "bgcolor": "white",
           "lakecolor": "white",
           "landcolor": "#E5ECF6",
           "showlakes": true,
           "showland": true,
           "subunitcolor": "white"
          },
          "hoverlabel": {
           "align": "left"
          },
          "hovermode": "closest",
          "mapbox": {
           "style": "light"
          },
          "paper_bgcolor": "white",
          "plot_bgcolor": "#E5ECF6",
          "polar": {
           "angularaxis": {
            "gridcolor": "white",
            "linecolor": "white",
            "ticks": ""
           },
           "bgcolor": "#E5ECF6",
           "radialaxis": {
            "gridcolor": "white",
            "linecolor": "white",
            "ticks": ""
           }
          },
          "scene": {
           "xaxis": {
            "backgroundcolor": "#E5ECF6",
            "gridcolor": "white",
            "gridwidth": 2,
            "linecolor": "white",
            "showbackground": true,
            "ticks": "",
            "zerolinecolor": "white"
           },
           "yaxis": {
            "backgroundcolor": "#E5ECF6",
            "gridcolor": "white",
            "gridwidth": 2,
            "linecolor": "white",
            "showbackground": true,
            "ticks": "",
            "zerolinecolor": "white"
           },
           "zaxis": {
            "backgroundcolor": "#E5ECF6",
            "gridcolor": "white",
            "gridwidth": 2,
            "linecolor": "white",
            "showbackground": true,
            "ticks": "",
            "zerolinecolor": "white"
           }
          },
          "shapedefaults": {
           "line": {
            "color": "#2a3f5f"
           }
          },
          "ternary": {
           "aaxis": {
            "gridcolor": "white",
            "linecolor": "white",
            "ticks": ""
           },
           "baxis": {
            "gridcolor": "white",
            "linecolor": "white",
            "ticks": ""
           },
           "bgcolor": "#E5ECF6",
           "caxis": {
            "gridcolor": "white",
            "linecolor": "white",
            "ticks": ""
           }
          },
          "title": {
           "x": 0.05
          },
          "xaxis": {
           "automargin": true,
           "gridcolor": "white",
           "linecolor": "white",
           "ticks": "",
           "title": {
            "standoff": 15
           },
           "zerolinecolor": "white",
           "zerolinewidth": 2
          },
          "yaxis": {
           "automargin": true,
           "gridcolor": "white",
           "linecolor": "white",
           "ticks": "",
           "title": {
            "standoff": 15
           },
           "zerolinecolor": "white",
           "zerolinewidth": 2
          }
         }
        },
        "xaxis": {
         "anchor": "y",
         "domain": [
          0,
          1
         ],
         "title": {
          "text": "# Components"
         }
        },
        "yaxis": {
         "anchor": "x",
         "domain": [
          0,
          1
         ],
         "title": {
          "text": "Explained Variance"
         }
        }
       }
      }
     },
     "metadata": {},
     "output_type": "display_data"
    }
   ],
   "source": [
    "# Plotando o gráfico da variância explicada acumulada\n",
    "px.area(\n",
    "    x=range(1, pca.explained_variance_ratio_.cumsum().shape[0] + 1),\n",
    "    y=pca.explained_variance_ratio_.cumsum(),\n",
    "    labels={\"x\": \"# Components\", \"y\": \"Explained Variance\"}\n",
    ")"
   ]
  },
  {
   "cell_type": "code",
   "execution_count": 950,
   "metadata": {},
   "outputs": [
    {
     "data": {
      "text/plain": [
       "2"
      ]
     },
     "execution_count": 950,
     "metadata": {},
     "output_type": "execute_result"
    }
   ],
   "source": [
    "# Aplicando a PCA com 2 componentes\n",
    "pca = PCA(n_components=2)\n",
    "components = pca.fit_transform(data_scaled)\n",
    "\n",
    "components.shape[1]"
   ]
  },
  {
   "cell_type": "code",
   "execution_count": 951,
   "metadata": {},
   "outputs": [
    {
     "data": {
      "application/vnd.plotly.v1+json": {
       "config": {
        "plotlyServerURL": "https://plot.ly"
       },
       "data": [
        {
         "hovertemplate": "Municipios=viadutos<br>PC1=%{x}<br>PC2=%{y}<extra></extra>",
         "legendgroup": "viadutos",
         "marker": {
          "color": "#636efa",
          "symbol": "circle"
         },
         "mode": "markers",
         "name": "viadutos",
         "orientation": "v",
         "showlegend": true,
         "type": "scatter",
         "x": [
          2.034944590488766
         ],
         "xaxis": "x",
         "y": [
          -1.9687504223920709
         ],
         "yaxis": "y"
        },
        {
         "hovertemplate": "Municipios=campos borges<br>PC1=%{x}<br>PC2=%{y}<extra></extra>",
         "legendgroup": "campos borges",
         "marker": {
          "color": "#EF553B",
          "symbol": "circle"
         },
         "mode": "markers",
         "name": "campos borges",
         "orientation": "v",
         "showlegend": true,
         "type": "scatter",
         "x": [
          -1.5683663833620498
         ],
         "xaxis": "x",
         "y": [
          0.9222703202336741
         ],
         "yaxis": "y"
        },
        {
         "hovertemplate": "Municipios=lajeado<br>PC1=%{x}<br>PC2=%{y}<extra></extra>",
         "legendgroup": "lajeado",
         "marker": {
          "color": "#00cc96",
          "symbol": "circle"
         },
         "mode": "markers",
         "name": "lajeado",
         "orientation": "v",
         "showlegend": true,
         "type": "scatter",
         "x": [
          5.108901232002499
         ],
         "xaxis": "x",
         "y": [
          0.25976459114617045
         ],
         "yaxis": "y"
        },
        {
         "hovertemplate": "Municipios=gaurama<br>PC1=%{x}<br>PC2=%{y}<extra></extra>",
         "legendgroup": "gaurama",
         "marker": {
          "color": "#ab63fa",
          "symbol": "circle"
         },
         "mode": "markers",
         "name": "gaurama",
         "orientation": "v",
         "showlegend": true,
         "type": "scatter",
         "x": [
          0.9368552974630735
         ],
         "xaxis": "x",
         "y": [
          -2.505220119777731
         ],
         "yaxis": "y"
        },
        {
         "hovertemplate": "Municipios=macambara<br>PC1=%{x}<br>PC2=%{y}<extra></extra>",
         "legendgroup": "macambara",
         "marker": {
          "color": "#FFA15A",
          "symbol": "circle"
         },
         "mode": "markers",
         "name": "macambara",
         "orientation": "v",
         "showlegend": true,
         "type": "scatter",
         "x": [
          -2.3349706651254483
         ],
         "xaxis": "x",
         "y": [
          -0.6533981894375401
         ],
         "yaxis": "y"
        },
        {
         "hovertemplate": "Municipios=selbach<br>PC1=%{x}<br>PC2=%{y}<extra></extra>",
         "legendgroup": "selbach",
         "marker": {
          "color": "#19d3f3",
          "symbol": "circle"
         },
         "mode": "markers",
         "name": "selbach",
         "orientation": "v",
         "showlegend": true,
         "type": "scatter",
         "x": [
          -1.3858797231938338
         ],
         "xaxis": "x",
         "y": [
          -0.18666391512537678
         ],
         "yaxis": "y"
        },
        {
         "hovertemplate": "Municipios=estancia velha<br>PC1=%{x}<br>PC2=%{y}<extra></extra>",
         "legendgroup": "estancia velha",
         "marker": {
          "color": "#FF6692",
          "symbol": "circle"
         },
         "mode": "markers",
         "name": "estancia velha",
         "orientation": "v",
         "showlegend": true,
         "type": "scatter",
         "x": [
          0.9884476172610174
         ],
         "xaxis": "x",
         "y": [
          2.5916448504072376
         ],
         "yaxis": "y"
        },
        {
         "hovertemplate": "Municipios=braga<br>PC1=%{x}<br>PC2=%{y}<extra></extra>",
         "legendgroup": "braga",
         "marker": {
          "color": "#B6E880",
          "symbol": "circle"
         },
         "mode": "markers",
         "name": "braga",
         "orientation": "v",
         "showlegend": true,
         "type": "scatter",
         "x": [
          -0.1898392567035854
         ],
         "xaxis": "x",
         "y": [
          1.5357774632646304
         ],
         "yaxis": "y"
        },
        {
         "hovertemplate": "Municipios=pontao<br>PC1=%{x}<br>PC2=%{y}<extra></extra>",
         "legendgroup": "pontao",
         "marker": {
          "color": "#FF97FF",
          "symbol": "circle"
         },
         "mode": "markers",
         "name": "pontao",
         "orientation": "v",
         "showlegend": true,
         "type": "scatter",
         "x": [
          -0.6623334698066734
         ],
         "xaxis": "x",
         "y": [
          1.0733324351354068
         ],
         "yaxis": "y"
        },
        {
         "hovertemplate": "Municipios=alto alegre<br>PC1=%{x}<br>PC2=%{y}<extra></extra>",
         "legendgroup": "alto alegre",
         "marker": {
          "color": "#FECB52",
          "symbol": "circle"
         },
         "mode": "markers",
         "name": "alto alegre",
         "orientation": "v",
         "showlegend": true,
         "type": "scatter",
         "x": [
          -2.9277592390237674
         ],
         "xaxis": "x",
         "y": [
          -1.068757013454402
         ],
         "yaxis": "y"
        }
       ],
       "layout": {
        "annotations": [
         {
          "arrowhead": 2,
          "arrowsize": 2,
          "ax": 0,
          "axref": "x",
          "ay": 0,
          "ayref": "y",
          "showarrow": true,
          "x": 0.8441950026795318,
          "xanchor": "right",
          "y": -0.6049330524965758,
          "yanchor": "top"
         },
         {
          "ax": 0,
          "ay": 0,
          "text": "taxa_homicidio_doloso",
          "x": 0.8441950026795318,
          "xanchor": "center",
          "y": -0.6049330524965758,
          "yanchor": "bottom",
          "yshift": 5
         },
         {
          "arrowhead": 2,
          "arrowsize": 2,
          "ax": 0,
          "axref": "x",
          "ay": 0,
          "ayref": "y",
          "showarrow": true,
          "x": 0.8579575142903407,
          "xanchor": "right",
          "y": -0.5912119725778964,
          "yanchor": "top"
         },
         {
          "ax": 0,
          "ay": 0,
          "text": "taxa_total_vitimas_homicidio_doloso",
          "x": 0.8579575142903407,
          "xanchor": "center",
          "y": -0.5912119725778964,
          "yanchor": "bottom",
          "yshift": 5
         },
         {
          "arrowhead": 2,
          "arrowsize": 2,
          "ax": 0,
          "axref": "x",
          "ay": 0,
          "ayref": "y",
          "showarrow": true,
          "x": 0,
          "xanchor": "right",
          "y": 0,
          "yanchor": "top"
         },
         {
          "ax": 0,
          "ay": 0,
          "text": "taxa_latrocinio",
          "x": 0,
          "xanchor": "center",
          "y": 0,
          "yanchor": "bottom",
          "yshift": 5
         },
         {
          "arrowhead": 2,
          "arrowsize": 2,
          "ax": 0,
          "axref": "x",
          "ay": 0,
          "ayref": "y",
          "showarrow": true,
          "x": 0.6740982626680925,
          "xanchor": "right",
          "y": 0.19053856687963772,
          "yanchor": "top"
         },
         {
          "ax": 0,
          "ay": 0,
          "text": "taxa_furtos",
          "x": 0.6740982626680925,
          "xanchor": "center",
          "y": 0.19053856687963772,
          "yanchor": "bottom",
          "yshift": 5
         },
         {
          "arrowhead": 2,
          "arrowsize": 2,
          "ax": 0,
          "axref": "x",
          "ay": 0,
          "ayref": "y",
          "showarrow": true,
          "x": -0.5838487112233324,
          "xanchor": "right",
          "y": -0.06957735241518957,
          "yanchor": "top"
         },
         {
          "ax": 0,
          "ay": 0,
          "text": "taxa_abigeato",
          "x": -0.5838487112233324,
          "xanchor": "center",
          "y": -0.06957735241518957,
          "yanchor": "bottom",
          "yshift": 5
         },
         {
          "arrowhead": 2,
          "arrowsize": 2,
          "ax": 0,
          "axref": "x",
          "ay": 0,
          "ayref": "y",
          "showarrow": true,
          "x": 0.4412741925001456,
          "xanchor": "right",
          "y": 0.39546307499826616,
          "yanchor": "top"
         },
         {
          "ax": 0,
          "ay": 0,
          "text": "taxa_furto_veiculo",
          "x": 0.4412741925001456,
          "xanchor": "center",
          "y": 0.39546307499826616,
          "yanchor": "bottom",
          "yshift": 5
         },
         {
          "arrowhead": 2,
          "arrowsize": 2,
          "ax": 0,
          "axref": "x",
          "ay": 0,
          "ayref": "y",
          "showarrow": true,
          "x": 0.5602973552843427,
          "xanchor": "right",
          "y": 0.6983348029341672,
          "yanchor": "top"
         },
         {
          "ax": 0,
          "ay": 0,
          "text": "taxa_roubos",
          "x": 0.5602973552843427,
          "xanchor": "center",
          "y": 0.6983348029341672,
          "yanchor": "bottom",
          "yshift": 5
         },
         {
          "arrowhead": 2,
          "arrowsize": 2,
          "ax": 0,
          "axref": "x",
          "ay": 0,
          "ayref": "y",
          "showarrow": true,
          "x": 0.09849581229315409,
          "xanchor": "right",
          "y": 0.7627983468161388,
          "yanchor": "top"
         },
         {
          "ax": 0,
          "ay": 0,
          "text": "taxa_roubo_veiculo",
          "x": 0.09849581229315409,
          "xanchor": "center",
          "y": 0.7627983468161388,
          "yanchor": "bottom",
          "yshift": 5
         },
         {
          "arrowhead": 2,
          "arrowsize": 2,
          "ax": 0,
          "axref": "x",
          "ay": 0,
          "ayref": "y",
          "showarrow": true,
          "x": 0.7595674671021669,
          "xanchor": "right",
          "y": 0.041286323814822334,
          "yanchor": "top"
         },
         {
          "ax": 0,
          "ay": 0,
          "text": "taxa_estelionato",
          "x": 0.7595674671021669,
          "xanchor": "center",
          "y": 0.041286323814822334,
          "yanchor": "bottom",
          "yshift": 5
         },
         {
          "arrowhead": 2,
          "arrowsize": 2,
          "ax": 0,
          "axref": "x",
          "ay": 0,
          "ayref": "y",
          "showarrow": true,
          "x": 0.20597242166307775,
          "xanchor": "right",
          "y": 0.31815556843748655,
          "yanchor": "top"
         },
         {
          "ax": 0,
          "ay": 0,
          "text": "taxa_delitos_armas_municoes",
          "x": 0.20597242166307775,
          "xanchor": "center",
          "y": 0.31815556843748655,
          "yanchor": "bottom",
          "yshift": 5
         },
         {
          "arrowhead": 2,
          "arrowsize": 2,
          "ax": 0,
          "axref": "x",
          "ay": 0,
          "ayref": "y",
          "showarrow": true,
          "x": 0.8521254677874458,
          "xanchor": "right",
          "y": 0.43431479972804915,
          "yanchor": "top"
         },
         {
          "ax": 0,
          "ay": 0,
          "text": "taxa_entorpecente_posse",
          "x": 0.8521254677874458,
          "xanchor": "center",
          "y": 0.43431479972804915,
          "yanchor": "bottom",
          "yshift": 5
         },
         {
          "arrowhead": 2,
          "arrowsize": 2,
          "ax": 0,
          "axref": "x",
          "ay": 0,
          "ayref": "y",
          "showarrow": true,
          "x": 0.8396217560661988,
          "xanchor": "right",
          "y": 0.21288260992554378,
          "yanchor": "top"
         },
         {
          "ax": 0,
          "ay": 0,
          "text": "taxa_entorpecente_trafico",
          "x": 0.8396217560661988,
          "xanchor": "center",
          "y": 0.21288260992554378,
          "yanchor": "bottom",
          "yshift": 5
         },
         {
          "arrowhead": 2,
          "arrowsize": 2,
          "ax": 0,
          "axref": "x",
          "ay": 0,
          "ayref": "y",
          "showarrow": true,
          "x": 0,
          "xanchor": "right",
          "y": 0,
          "yanchor": "top"
         },
         {
          "ax": 0,
          "ay": 0,
          "text": "taxa_vitimas_latrocinio",
          "x": 0,
          "xanchor": "center",
          "y": 0,
          "yanchor": "bottom",
          "yshift": 5
         },
         {
          "arrowhead": 2,
          "arrowsize": 2,
          "ax": 0,
          "axref": "x",
          "ay": 0,
          "ayref": "y",
          "showarrow": true,
          "x": 0,
          "xanchor": "right",
          "y": 0,
          "yanchor": "top"
         },
         {
          "ax": 0,
          "ay": 0,
          "text": "taxa_vitimas_lesao_corporal_morte",
          "x": 0,
          "xanchor": "center",
          "y": 0,
          "yanchor": "bottom",
          "yshift": 5
         },
         {
          "arrowhead": 2,
          "arrowsize": 2,
          "ax": 0,
          "axref": "x",
          "ay": 0,
          "ayref": "y",
          "showarrow": true,
          "x": 0.9225542688065281,
          "xanchor": "right",
          "y": -0.47453683104173133,
          "yanchor": "top"
         },
         {
          "ax": 0,
          "ay": 0,
          "text": "taxa_total_vitimas_crimes_violentos",
          "x": 0.9225542688065281,
          "xanchor": "center",
          "y": -0.47453683104173133,
          "yanchor": "bottom",
          "yshift": 5
         }
        ],
        "legend": {
         "title": {
          "text": "Municipios"
         },
         "tracegroupgap": 0
        },
        "margin": {
         "t": 60
        },
        "template": {
         "data": {
          "bar": [
           {
            "error_x": {
             "color": "#2a3f5f"
            },
            "error_y": {
             "color": "#2a3f5f"
            },
            "marker": {
             "line": {
              "color": "#E5ECF6",
              "width": 0.5
             },
             "pattern": {
              "fillmode": "overlay",
              "size": 10,
              "solidity": 0.2
             }
            },
            "type": "bar"
           }
          ],
          "barpolar": [
           {
            "marker": {
             "line": {
              "color": "#E5ECF6",
              "width": 0.5
             },
             "pattern": {
              "fillmode": "overlay",
              "size": 10,
              "solidity": 0.2
             }
            },
            "type": "barpolar"
           }
          ],
          "carpet": [
           {
            "aaxis": {
             "endlinecolor": "#2a3f5f",
             "gridcolor": "white",
             "linecolor": "white",
             "minorgridcolor": "white",
             "startlinecolor": "#2a3f5f"
            },
            "baxis": {
             "endlinecolor": "#2a3f5f",
             "gridcolor": "white",
             "linecolor": "white",
             "minorgridcolor": "white",
             "startlinecolor": "#2a3f5f"
            },
            "type": "carpet"
           }
          ],
          "choropleth": [
           {
            "colorbar": {
             "outlinewidth": 0,
             "ticks": ""
            },
            "type": "choropleth"
           }
          ],
          "contour": [
           {
            "colorbar": {
             "outlinewidth": 0,
             "ticks": ""
            },
            "colorscale": [
             [
              0,
              "#0d0887"
             ],
             [
              0.1111111111111111,
              "#46039f"
             ],
             [
              0.2222222222222222,
              "#7201a8"
             ],
             [
              0.3333333333333333,
              "#9c179e"
             ],
             [
              0.4444444444444444,
              "#bd3786"
             ],
             [
              0.5555555555555556,
              "#d8576b"
             ],
             [
              0.6666666666666666,
              "#ed7953"
             ],
             [
              0.7777777777777778,
              "#fb9f3a"
             ],
             [
              0.8888888888888888,
              "#fdca26"
             ],
             [
              1,
              "#f0f921"
             ]
            ],
            "type": "contour"
           }
          ],
          "contourcarpet": [
           {
            "colorbar": {
             "outlinewidth": 0,
             "ticks": ""
            },
            "type": "contourcarpet"
           }
          ],
          "heatmap": [
           {
            "colorbar": {
             "outlinewidth": 0,
             "ticks": ""
            },
            "colorscale": [
             [
              0,
              "#0d0887"
             ],
             [
              0.1111111111111111,
              "#46039f"
             ],
             [
              0.2222222222222222,
              "#7201a8"
             ],
             [
              0.3333333333333333,
              "#9c179e"
             ],
             [
              0.4444444444444444,
              "#bd3786"
             ],
             [
              0.5555555555555556,
              "#d8576b"
             ],
             [
              0.6666666666666666,
              "#ed7953"
             ],
             [
              0.7777777777777778,
              "#fb9f3a"
             ],
             [
              0.8888888888888888,
              "#fdca26"
             ],
             [
              1,
              "#f0f921"
             ]
            ],
            "type": "heatmap"
           }
          ],
          "heatmapgl": [
           {
            "colorbar": {
             "outlinewidth": 0,
             "ticks": ""
            },
            "colorscale": [
             [
              0,
              "#0d0887"
             ],
             [
              0.1111111111111111,
              "#46039f"
             ],
             [
              0.2222222222222222,
              "#7201a8"
             ],
             [
              0.3333333333333333,
              "#9c179e"
             ],
             [
              0.4444444444444444,
              "#bd3786"
             ],
             [
              0.5555555555555556,
              "#d8576b"
             ],
             [
              0.6666666666666666,
              "#ed7953"
             ],
             [
              0.7777777777777778,
              "#fb9f3a"
             ],
             [
              0.8888888888888888,
              "#fdca26"
             ],
             [
              1,
              "#f0f921"
             ]
            ],
            "type": "heatmapgl"
           }
          ],
          "histogram": [
           {
            "marker": {
             "pattern": {
              "fillmode": "overlay",
              "size": 10,
              "solidity": 0.2
             }
            },
            "type": "histogram"
           }
          ],
          "histogram2d": [
           {
            "colorbar": {
             "outlinewidth": 0,
             "ticks": ""
            },
            "colorscale": [
             [
              0,
              "#0d0887"
             ],
             [
              0.1111111111111111,
              "#46039f"
             ],
             [
              0.2222222222222222,
              "#7201a8"
             ],
             [
              0.3333333333333333,
              "#9c179e"
             ],
             [
              0.4444444444444444,
              "#bd3786"
             ],
             [
              0.5555555555555556,
              "#d8576b"
             ],
             [
              0.6666666666666666,
              "#ed7953"
             ],
             [
              0.7777777777777778,
              "#fb9f3a"
             ],
             [
              0.8888888888888888,
              "#fdca26"
             ],
             [
              1,
              "#f0f921"
             ]
            ],
            "type": "histogram2d"
           }
          ],
          "histogram2dcontour": [
           {
            "colorbar": {
             "outlinewidth": 0,
             "ticks": ""
            },
            "colorscale": [
             [
              0,
              "#0d0887"
             ],
             [
              0.1111111111111111,
              "#46039f"
             ],
             [
              0.2222222222222222,
              "#7201a8"
             ],
             [
              0.3333333333333333,
              "#9c179e"
             ],
             [
              0.4444444444444444,
              "#bd3786"
             ],
             [
              0.5555555555555556,
              "#d8576b"
             ],
             [
              0.6666666666666666,
              "#ed7953"
             ],
             [
              0.7777777777777778,
              "#fb9f3a"
             ],
             [
              0.8888888888888888,
              "#fdca26"
             ],
             [
              1,
              "#f0f921"
             ]
            ],
            "type": "histogram2dcontour"
           }
          ],
          "mesh3d": [
           {
            "colorbar": {
             "outlinewidth": 0,
             "ticks": ""
            },
            "type": "mesh3d"
           }
          ],
          "parcoords": [
           {
            "line": {
             "colorbar": {
              "outlinewidth": 0,
              "ticks": ""
             }
            },
            "type": "parcoords"
           }
          ],
          "pie": [
           {
            "automargin": true,
            "type": "pie"
           }
          ],
          "scatter": [
           {
            "fillpattern": {
             "fillmode": "overlay",
             "size": 10,
             "solidity": 0.2
            },
            "type": "scatter"
           }
          ],
          "scatter3d": [
           {
            "line": {
             "colorbar": {
              "outlinewidth": 0,
              "ticks": ""
             }
            },
            "marker": {
             "colorbar": {
              "outlinewidth": 0,
              "ticks": ""
             }
            },
            "type": "scatter3d"
           }
          ],
          "scattercarpet": [
           {
            "marker": {
             "colorbar": {
              "outlinewidth": 0,
              "ticks": ""
             }
            },
            "type": "scattercarpet"
           }
          ],
          "scattergeo": [
           {
            "marker": {
             "colorbar": {
              "outlinewidth": 0,
              "ticks": ""
             }
            },
            "type": "scattergeo"
           }
          ],
          "scattergl": [
           {
            "marker": {
             "colorbar": {
              "outlinewidth": 0,
              "ticks": ""
             }
            },
            "type": "scattergl"
           }
          ],
          "scattermapbox": [
           {
            "marker": {
             "colorbar": {
              "outlinewidth": 0,
              "ticks": ""
             }
            },
            "type": "scattermapbox"
           }
          ],
          "scatterpolar": [
           {
            "marker": {
             "colorbar": {
              "outlinewidth": 0,
              "ticks": ""
             }
            },
            "type": "scatterpolar"
           }
          ],
          "scatterpolargl": [
           {
            "marker": {
             "colorbar": {
              "outlinewidth": 0,
              "ticks": ""
             }
            },
            "type": "scatterpolargl"
           }
          ],
          "scatterternary": [
           {
            "marker": {
             "colorbar": {
              "outlinewidth": 0,
              "ticks": ""
             }
            },
            "type": "scatterternary"
           }
          ],
          "surface": [
           {
            "colorbar": {
             "outlinewidth": 0,
             "ticks": ""
            },
            "colorscale": [
             [
              0,
              "#0d0887"
             ],
             [
              0.1111111111111111,
              "#46039f"
             ],
             [
              0.2222222222222222,
              "#7201a8"
             ],
             [
              0.3333333333333333,
              "#9c179e"
             ],
             [
              0.4444444444444444,
              "#bd3786"
             ],
             [
              0.5555555555555556,
              "#d8576b"
             ],
             [
              0.6666666666666666,
              "#ed7953"
             ],
             [
              0.7777777777777778,
              "#fb9f3a"
             ],
             [
              0.8888888888888888,
              "#fdca26"
             ],
             [
              1,
              "#f0f921"
             ]
            ],
            "type": "surface"
           }
          ],
          "table": [
           {
            "cells": {
             "fill": {
              "color": "#EBF0F8"
             },
             "line": {
              "color": "white"
             }
            },
            "header": {
             "fill": {
              "color": "#C8D4E3"
             },
             "line": {
              "color": "white"
             }
            },
            "type": "table"
           }
          ]
         },
         "layout": {
          "annotationdefaults": {
           "arrowcolor": "#2a3f5f",
           "arrowhead": 0,
           "arrowwidth": 1
          },
          "autotypenumbers": "strict",
          "coloraxis": {
           "colorbar": {
            "outlinewidth": 0,
            "ticks": ""
           }
          },
          "colorscale": {
           "diverging": [
            [
             0,
             "#8e0152"
            ],
            [
             0.1,
             "#c51b7d"
            ],
            [
             0.2,
             "#de77ae"
            ],
            [
             0.3,
             "#f1b6da"
            ],
            [
             0.4,
             "#fde0ef"
            ],
            [
             0.5,
             "#f7f7f7"
            ],
            [
             0.6,
             "#e6f5d0"
            ],
            [
             0.7,
             "#b8e186"
            ],
            [
             0.8,
             "#7fbc41"
            ],
            [
             0.9,
             "#4d9221"
            ],
            [
             1,
             "#276419"
            ]
           ],
           "sequential": [
            [
             0,
             "#0d0887"
            ],
            [
             0.1111111111111111,
             "#46039f"
            ],
            [
             0.2222222222222222,
             "#7201a8"
            ],
            [
             0.3333333333333333,
             "#9c179e"
            ],
            [
             0.4444444444444444,
             "#bd3786"
            ],
            [
             0.5555555555555556,
             "#d8576b"
            ],
            [
             0.6666666666666666,
             "#ed7953"
            ],
            [
             0.7777777777777778,
             "#fb9f3a"
            ],
            [
             0.8888888888888888,
             "#fdca26"
            ],
            [
             1,
             "#f0f921"
            ]
           ],
           "sequentialminus": [
            [
             0,
             "#0d0887"
            ],
            [
             0.1111111111111111,
             "#46039f"
            ],
            [
             0.2222222222222222,
             "#7201a8"
            ],
            [
             0.3333333333333333,
             "#9c179e"
            ],
            [
             0.4444444444444444,
             "#bd3786"
            ],
            [
             0.5555555555555556,
             "#d8576b"
            ],
            [
             0.6666666666666666,
             "#ed7953"
            ],
            [
             0.7777777777777778,
             "#fb9f3a"
            ],
            [
             0.8888888888888888,
             "#fdca26"
            ],
            [
             1,
             "#f0f921"
            ]
           ]
          },
          "colorway": [
           "#636efa",
           "#EF553B",
           "#00cc96",
           "#ab63fa",
           "#FFA15A",
           "#19d3f3",
           "#FF6692",
           "#B6E880",
           "#FF97FF",
           "#FECB52"
          ],
          "font": {
           "color": "#2a3f5f"
          },
          "geo": {
           "bgcolor": "white",
           "lakecolor": "white",
           "landcolor": "#E5ECF6",
           "showlakes": true,
           "showland": true,
           "subunitcolor": "white"
          },
          "hoverlabel": {
           "align": "left"
          },
          "hovermode": "closest",
          "mapbox": {
           "style": "light"
          },
          "paper_bgcolor": "white",
          "plot_bgcolor": "#E5ECF6",
          "polar": {
           "angularaxis": {
            "gridcolor": "white",
            "linecolor": "white",
            "ticks": ""
           },
           "bgcolor": "#E5ECF6",
           "radialaxis": {
            "gridcolor": "white",
            "linecolor": "white",
            "ticks": ""
           }
          },
          "scene": {
           "xaxis": {
            "backgroundcolor": "#E5ECF6",
            "gridcolor": "white",
            "gridwidth": 2,
            "linecolor": "white",
            "showbackground": true,
            "ticks": "",
            "zerolinecolor": "white"
           },
           "yaxis": {
            "backgroundcolor": "#E5ECF6",
            "gridcolor": "white",
            "gridwidth": 2,
            "linecolor": "white",
            "showbackground": true,
            "ticks": "",
            "zerolinecolor": "white"
           },
           "zaxis": {
            "backgroundcolor": "#E5ECF6",
            "gridcolor": "white",
            "gridwidth": 2,
            "linecolor": "white",
            "showbackground": true,
            "ticks": "",
            "zerolinecolor": "white"
           }
          },
          "shapedefaults": {
           "line": {
            "color": "#2a3f5f"
           }
          },
          "ternary": {
           "aaxis": {
            "gridcolor": "white",
            "linecolor": "white",
            "ticks": ""
           },
           "baxis": {
            "gridcolor": "white",
            "linecolor": "white",
            "ticks": ""
           },
           "bgcolor": "#E5ECF6",
           "caxis": {
            "gridcolor": "white",
            "linecolor": "white",
            "ticks": ""
           }
          },
          "title": {
           "x": 0.05
          },
          "xaxis": {
           "automargin": true,
           "gridcolor": "white",
           "linecolor": "white",
           "ticks": "",
           "title": {
            "standoff": 15
           },
           "zerolinecolor": "white",
           "zerolinewidth": 2
          },
          "yaxis": {
           "automargin": true,
           "gridcolor": "white",
           "linecolor": "white",
           "ticks": "",
           "title": {
            "standoff": 15
           },
           "zerolinecolor": "white",
           "zerolinewidth": 2
          }
         }
        },
        "xaxis": {
         "anchor": "y",
         "domain": [
          0,
          1
         ],
         "title": {
          "text": "PC1"
         }
        },
        "yaxis": {
         "anchor": "x",
         "autorange": "reversed",
         "domain": [
          0,
          1
         ],
         "title": {
          "text": "PC2"
         }
        }
       }
      }
     },
     "metadata": {},
     "output_type": "display_data"
    }
   ],
   "source": [
    "# Calculando as cargas dos componentes\n",
    "loadings = pca.components_.T * np.sqrt(pca.explained_variance_)\n",
    "\n",
    "# Plotando o gráfico de dispersão com os componentes principais\n",
    "fig = px.scatter(components, x=0, y=1, color=municipios, labels={'0': 'PC1', '1': 'PC2', 'color': 'Municipios'})\n",
    "\n",
    "features = df_sample.columns\n",
    "\n",
    "# Adicionando os vetores de carga ao gráfico\n",
    "for i, feature in enumerate(features):\n",
    "    fig.add_annotation(\n",
    "        ax=0, ay=0,\n",
    "        axref=\"x\", ayref=\"y\",\n",
    "        x=loadings[i, 0],\n",
    "        y=loadings[i, 1],\n",
    "        showarrow=True,\n",
    "        arrowsize=2,\n",
    "        arrowhead=2,\n",
    "        xanchor=\"right\",\n",
    "        yanchor=\"top\"\n",
    "    )\n",
    "    \n",
    "    fig.add_annotation(\n",
    "        x=loadings[i, 0],\n",
    "        y=loadings[i, 1],\n",
    "        ax=0, ay=0,\n",
    "        xanchor=\"center\",\n",
    "        yanchor=\"bottom\",\n",
    "        text=feature,\n",
    "        yshift=5,\n",
    "    )\n",
    "# Invertendo o eixo y para que o gráfico fique na posição correta    \n",
    "fig.update_yaxes(autorange=\"reversed\")\n",
    "fig.show()"
   ]
  },
  {
   "cell_type": "code",
   "execution_count": 952,
   "metadata": {},
   "outputs": [],
   "source": [
    "import matplotlib.pyplot as plt\n",
    "%matplotlib inline"
   ]
  },
  {
   "cell_type": "code",
   "execution_count": 953,
   "metadata": {},
   "outputs": [
    {
     "data": {
      "text/plain": [
       "\" i, j = 0, 1 # which components\\nscale_arrow = s_ = 2\\ncomponents[:,1] *= -1\\npca.components_[1] *= -1 # flip the y-axis\\nfig, ax = plt.subplots(1, 1, figsize=(8, 8))\\nax.scatter(components[:,0], components[:,1])\\nax.set_xlabel('PC%d' % (i+1))\\nax.set_ylabel('PC%d' % (j+1))\\nfor k in range(pca.components_.shape[1]):\\n    ax.arrow(0, 0, s_*pca.components_[i,k], s_*pca.components_[j,k])\\n    ax.text(s_*pca.components_[i,k],\\n            s_*pca.components_[j,k],\\n            df_sample.columns[k]) \""
      ]
     },
     "execution_count": 953,
     "metadata": {},
     "output_type": "execute_result"
    }
   ],
   "source": [
    "\"\"\" i, j = 0, 1 # which components\n",
    "scale_arrow = s_ = 2\n",
    "components[:,1] *= -1\n",
    "pca.components_[1] *= -1 # flip the y-axis\n",
    "fig, ax = plt.subplots(1, 1, figsize=(8, 8))\n",
    "ax.scatter(components[:,0], components[:,1])\n",
    "ax.set_xlabel('PC%d' % (i+1))\n",
    "ax.set_ylabel('PC%d' % (j+1))\n",
    "for k in range(pca.components_.shape[1]):\n",
    "    ax.arrow(0, 0, s_*pca.components_[i,k], s_*pca.components_[j,k])\n",
    "    ax.text(s_*pca.components_[i,k],\n",
    "            s_*pca.components_[j,k],\n",
    "            df_sample.columns[k]) \"\"\""
   ]
  }
 ],
 "metadata": {
  "kernelspec": {
   "display_name": "Python 3",
   "language": "python",
   "name": "python3"
  },
  "language_info": {
   "codemirror_mode": {
    "name": "ipython",
    "version": 3
   },
   "file_extension": ".py",
   "mimetype": "text/x-python",
   "name": "python",
   "nbconvert_exporter": "python",
   "pygments_lexer": "ipython3",
   "version": "3.12.2"
  }
 },
 "nbformat": 4,
 "nbformat_minor": 2
}
