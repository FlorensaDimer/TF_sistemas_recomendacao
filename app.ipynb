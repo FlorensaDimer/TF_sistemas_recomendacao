{
 "cells": [
  {
   "cell_type": "markdown",
   "metadata": {},
   "source": [
    "# Sugestão de cidade do Estado do Rio Grande do Sul pelo Índice de Criminalidade\n",
    "### Para o trabalho final da disciplina de Sistemas Operacionais foi escolhido os bancos de dados Índice de Criminalidade (RS, 2023) e Estimativas Populacionais (RS, 2022). Os dados são reais e estão disponíveis no portal Dados Abertos RS do Estado do Rio Grande do Sul.\n",
    "###  Este trabalho tem como objetivo análisar a similaridade, usando a métrica de distância eucliana, das cidades e os ratigns dos dos usuários e, então responder: \"Quais as cidades o algoritmo sugere?\".\n",
    "Indíce de Criminalidade no RS: [https://dados.rs.gov.br/dataset/indicadores-criminais-de-2023](https://dados.rs.gov.br/dataset/indicadores-criminais-de-2023)\n",
    "\n",
    "Estimativas Populacionais no RS: [https://dados.rs.gov.br/dataset/dee-4259/resource/ce259dd9-c479-4a18-90b3-40098e6deb26](https://dados.rs.gov.br/dataset/dee-4259/resource/ce259dd9-c479-4a18-90b3-40098e6deb26)"
   ]
  },
  {
   "cell_type": "markdown",
   "metadata": {},
   "source": [
    "## Pré-processamento\n",
    "Houve a necessidade de realizar o pré-processamento dos dados, pois foram disponibilizados em planilhas Excel com formatações diversas."
   ]
  },
  {
   "cell_type": "code",
   "execution_count": 274,
   "metadata": {},
   "outputs": [],
   "source": [
    "import pandas as pd"
   ]
  },
  {
   "cell_type": "markdown",
   "metadata": {},
   "source": [
    "Abertura dos arquivos de criminalidade por cidade em cada mês."
   ]
  },
  {
   "cell_type": "code",
   "execution_count": 275,
   "metadata": {},
   "outputs": [
    {
     "data": {
      "text/html": [
       "<div>\n",
       "<style scoped>\n",
       "    .dataframe tbody tr th:only-of-type {\n",
       "        vertical-align: middle;\n",
       "    }\n",
       "\n",
       "    .dataframe tbody tr th {\n",
       "        vertical-align: top;\n",
       "    }\n",
       "\n",
       "    .dataframe thead th {\n",
       "        text-align: right;\n",
       "    }\n",
       "</style>\n",
       "<table border=\"1\" class=\"dataframe\">\n",
       "  <thead>\n",
       "    <tr style=\"text-align: right;\">\n",
       "      <th></th>\n",
       "      <th>municipios</th>\n",
       "      <th>ibge</th>\n",
       "      <th>homicidio_doloso</th>\n",
       "      <th>total_vitimas_homicidio_doloso</th>\n",
       "      <th>latrocinio</th>\n",
       "      <th>furtos</th>\n",
       "      <th>abigeato</th>\n",
       "      <th>furto_veiculo</th>\n",
       "      <th>roubos</th>\n",
       "      <th>roubo_veiculo</th>\n",
       "      <th>estelionato</th>\n",
       "      <th>delitos_armas_municoes</th>\n",
       "      <th>entorpecente_posse</th>\n",
       "      <th>entorpecente_trafico</th>\n",
       "      <th>vitimas_latrocinio</th>\n",
       "      <th>vitimas_lesao_corporal_morte</th>\n",
       "      <th>total_vitimas_crimes_violentos</th>\n",
       "    </tr>\n",
       "  </thead>\n",
       "  <tbody>\n",
       "    <tr>\n",
       "      <th>0</th>\n",
       "      <td>acegua</td>\n",
       "      <td>4300034</td>\n",
       "      <td>0</td>\n",
       "      <td>0</td>\n",
       "      <td>0</td>\n",
       "      <td>20</td>\n",
       "      <td>8</td>\n",
       "      <td>0</td>\n",
       "      <td>3</td>\n",
       "      <td>0</td>\n",
       "      <td>27</td>\n",
       "      <td>4</td>\n",
       "      <td>3</td>\n",
       "      <td>0</td>\n",
       "      <td>0</td>\n",
       "      <td>0</td>\n",
       "      <td>0</td>\n",
       "    </tr>\n",
       "    <tr>\n",
       "      <th>1</th>\n",
       "      <td>agua santa</td>\n",
       "      <td>4300059</td>\n",
       "      <td>1</td>\n",
       "      <td>1</td>\n",
       "      <td>0</td>\n",
       "      <td>20</td>\n",
       "      <td>3</td>\n",
       "      <td>4</td>\n",
       "      <td>1</td>\n",
       "      <td>0</td>\n",
       "      <td>13</td>\n",
       "      <td>2</td>\n",
       "      <td>0</td>\n",
       "      <td>0</td>\n",
       "      <td>0</td>\n",
       "      <td>0</td>\n",
       "      <td>2</td>\n",
       "    </tr>\n",
       "    <tr>\n",
       "      <th>2</th>\n",
       "      <td>agudo</td>\n",
       "      <td>4300109</td>\n",
       "      <td>1</td>\n",
       "      <td>1</td>\n",
       "      <td>0</td>\n",
       "      <td>102</td>\n",
       "      <td>2</td>\n",
       "      <td>2</td>\n",
       "      <td>3</td>\n",
       "      <td>1</td>\n",
       "      <td>51</td>\n",
       "      <td>3</td>\n",
       "      <td>7</td>\n",
       "      <td>10</td>\n",
       "      <td>0</td>\n",
       "      <td>0</td>\n",
       "      <td>1</td>\n",
       "    </tr>\n",
       "    <tr>\n",
       "      <th>3</th>\n",
       "      <td>ajuricaba</td>\n",
       "      <td>4300208</td>\n",
       "      <td>0</td>\n",
       "      <td>0</td>\n",
       "      <td>0</td>\n",
       "      <td>26</td>\n",
       "      <td>1</td>\n",
       "      <td>0</td>\n",
       "      <td>1</td>\n",
       "      <td>0</td>\n",
       "      <td>28</td>\n",
       "      <td>2</td>\n",
       "      <td>3</td>\n",
       "      <td>0</td>\n",
       "      <td>0</td>\n",
       "      <td>0</td>\n",
       "      <td>0</td>\n",
       "    </tr>\n",
       "    <tr>\n",
       "      <th>4</th>\n",
       "      <td>alecrim</td>\n",
       "      <td>4300307</td>\n",
       "      <td>1</td>\n",
       "      <td>1</td>\n",
       "      <td>0</td>\n",
       "      <td>36</td>\n",
       "      <td>10</td>\n",
       "      <td>0</td>\n",
       "      <td>2</td>\n",
       "      <td>0</td>\n",
       "      <td>17</td>\n",
       "      <td>10</td>\n",
       "      <td>0</td>\n",
       "      <td>4</td>\n",
       "      <td>0</td>\n",
       "      <td>0</td>\n",
       "      <td>1</td>\n",
       "    </tr>\n",
       "  </tbody>\n",
       "</table>\n",
       "</div>"
      ],
      "text/plain": [
       "   municipios     ibge  homicidio_doloso  total_vitimas_homicidio_doloso  \\\n",
       "0      acegua  4300034                 0                               0   \n",
       "1  agua santa  4300059                 1                               1   \n",
       "2       agudo  4300109                 1                               1   \n",
       "3   ajuricaba  4300208                 0                               0   \n",
       "4     alecrim  4300307                 1                               1   \n",
       "\n",
       "   latrocinio  furtos  abigeato  furto_veiculo  roubos  roubo_veiculo  \\\n",
       "0           0      20         8              0       3              0   \n",
       "1           0      20         3              4       1              0   \n",
       "2           0     102         2              2       3              1   \n",
       "3           0      26         1              0       1              0   \n",
       "4           0      36        10              0       2              0   \n",
       "\n",
       "   estelionato  delitos_armas_municoes  entorpecente_posse  \\\n",
       "0           27                       4                   3   \n",
       "1           13                       2                   0   \n",
       "2           51                       3                   7   \n",
       "3           28                       2                   3   \n",
       "4           17                      10                   0   \n",
       "\n",
       "   entorpecente_trafico  vitimas_latrocinio  vitimas_lesao_corporal_morte  \\\n",
       "0                     0                   0                             0   \n",
       "1                     0                   0                             0   \n",
       "2                    10                   0                             0   \n",
       "3                     0                   0                             0   \n",
       "4                     4                   0                             0   \n",
       "\n",
       "   total_vitimas_crimes_violentos  \n",
       "0                               0  \n",
       "1                               2  \n",
       "2                               1  \n",
       "3                               0  \n",
       "4                               1  "
      ]
     },
     "execution_count": 275,
     "metadata": {},
     "output_type": "execute_result"
    }
   ],
   "source": [
    "# Lendo os arquivos csv e concatenando em um único dataframe\n",
    "meses = ['janeiro', 'fevereiro', 'marco', 'abril', 'maio', 'junho', 'julho', 'agosto', 'setembro', 'outubro', 'novembro', 'dezembro']\n",
    "\n",
    "dfs = []\n",
    "\n",
    "for mes in meses:\n",
    "        arquivo = pd.read_csv(f'data\\\\tocsv\\\\{mes}.csv', delimiter=';')\n",
    "        dfs.append(arquivo)\n",
    "\n",
    "df = pd.concat(dfs, ignore_index=True)\n",
    "\n",
    "df_criminal = df.groupby(['municipios', 'ibge']).sum().reset_index()\n",
    "\n",
    "\n",
    "df.to_csv('data\\\\tocsv\\\\total.csv', sep=';', index=False)\n",
    "\n",
    "df_criminal.head()\n"
   ]
  },
  {
   "cell_type": "markdown",
   "metadata": {},
   "source": [
    "Abertura do arquivo de quantidade de população por cidade em cada ano."
   ]
  },
  {
   "cell_type": "code",
   "execution_count": 276,
   "metadata": {},
   "outputs": [
    {
     "name": "stdout",
     "output_type": "stream",
     "text": [
      "<class 'pandas.core.frame.DataFrame'>\n",
      "RangeIndex: 497 entries, 0 to 496\n",
      "Data columns (total 16 columns):\n",
      " #   Column      Non-Null Count  Dtype  \n",
      "---  ------      --------------  -----  \n",
      " 0   municipios  497 non-null    object \n",
      " 1   ibge        497 non-null    int64  \n",
      " 2   latitude    497 non-null    float64\n",
      " 3   longitude   497 non-null    float64\n",
      " 4   2010        497 non-null    int32  \n",
      " 5   2011        497 non-null    int32  \n",
      " 6   2012        497 non-null    int32  \n",
      " 7   2013        497 non-null    int32  \n",
      " 8   2014        497 non-null    int32  \n",
      " 9   2015        497 non-null    int32  \n",
      " 10  2016        497 non-null    int32  \n",
      " 11  2017        497 non-null    int32  \n",
      " 12  2018        497 non-null    int32  \n",
      " 13  2019        497 non-null    int32  \n",
      " 14  2020        497 non-null    int32  \n",
      " 15  2021        497 non-null    int32  \n",
      "dtypes: float64(2), int32(12), int64(1), object(1)\n",
      "memory usage: 39.0+ KB\n"
     ]
    }
   ],
   "source": [
    "# Lendo o arquivo de população\n",
    "df_pop = pd.read_csv('data\\\\tocsv\\\\populacao.csv', delimiter=';')\n",
    "\n",
    "# Substituindo os valores de '.' e '-' por 0 e convertendo para inteiro\n",
    "for coluna in df_pop.columns[4:]:\n",
    "    df_pop[coluna] = df_pop[coluna].str.replace('.', '').str.replace('-', '0').astype(int)\n",
    "\n",
    "df_pop.info()\n"
   ]
  },
  {
   "cell_type": "markdown",
   "metadata": {},
   "source": [
    "União dos dois banco de dados."
   ]
  },
  {
   "cell_type": "code",
   "execution_count": 277,
   "metadata": {},
   "outputs": [
    {
     "name": "stdout",
     "output_type": "stream",
     "text": [
      "<class 'pandas.core.frame.DataFrame'>\n",
      "RangeIndex: 497 entries, 0 to 496\n",
      "Data columns (total 31 columns):\n",
      " #   Column                          Non-Null Count  Dtype  \n",
      "---  ------                          --------------  -----  \n",
      " 0   municipios                      497 non-null    object \n",
      " 1   ibge                            497 non-null    int64  \n",
      " 2   homicidio_doloso                497 non-null    int64  \n",
      " 3   total_vitimas_homicidio_doloso  497 non-null    int64  \n",
      " 4   latrocinio                      497 non-null    int64  \n",
      " 5   furtos                          497 non-null    int64  \n",
      " 6   abigeato                        497 non-null    int64  \n",
      " 7   furto_veiculo                   497 non-null    int64  \n",
      " 8   roubos                          497 non-null    int64  \n",
      " 9   roubo_veiculo                   497 non-null    int64  \n",
      " 10  estelionato                     497 non-null    int64  \n",
      " 11  delitos_armas_municoes          497 non-null    int64  \n",
      " 12  entorpecente_posse              497 non-null    int64  \n",
      " 13  entorpecente_trafico            497 non-null    int64  \n",
      " 14  vitimas_latrocinio              497 non-null    int64  \n",
      " 15  vitimas_lesao_corporal_morte    497 non-null    int64  \n",
      " 16  total_vitimas_crimes_violentos  497 non-null    int64  \n",
      " 17  latitude                        497 non-null    float64\n",
      " 18  longitude                       497 non-null    float64\n",
      " 19  2010                            497 non-null    int32  \n",
      " 20  2011                            497 non-null    int32  \n",
      " 21  2012                            497 non-null    int32  \n",
      " 22  2013                            497 non-null    int32  \n",
      " 23  2014                            497 non-null    int32  \n",
      " 24  2015                            497 non-null    int32  \n",
      " 25  2016                            497 non-null    int32  \n",
      " 26  2017                            497 non-null    int32  \n",
      " 27  2018                            497 non-null    int32  \n",
      " 28  2019                            497 non-null    int32  \n",
      " 29  2020                            497 non-null    int32  \n",
      " 30  2021                            497 non-null    int32  \n",
      "dtypes: float64(2), int32(12), int64(16), object(1)\n",
      "memory usage: 97.2+ KB\n"
     ]
    }
   ],
   "source": [
    "# O merge é feito com base na coluna ibge como forma de chave estrangeira com o método inner\n",
    "df_merged = pd.merge(df_criminal, df_pop, how = 'inner', on = 'ibge').drop(columns=['municipios_y'])\n",
    "df_merged.rename(columns={'municipios_x': 'municipios'}, inplace=True)\n",
    "\n",
    "df_merged.info()"
   ]
  },
  {
   "cell_type": "markdown",
   "metadata": {},
   "source": [
    "Normalização dos dados."
   ]
  },
  {
   "cell_type": "code",
   "execution_count": 278,
   "metadata": {},
   "outputs": [],
   "source": [
    "from sklearn.preprocessing import StandardScaler"
   ]
  },
  {
   "cell_type": "code",
   "execution_count": 279,
   "metadata": {},
   "outputs": [
    {
     "data": {
      "text/plain": [
       "(497, 16)"
      ]
     },
     "execution_count": 279,
     "metadata": {},
     "output_type": "execute_result"
    }
   ],
   "source": [
    "# Lista das colunas extras que não são necessárias\n",
    "colunas_extras = df_merged.columns[16:30]\n",
    "\n",
    "# Removendo as colunas extras\n",
    "df = df_merged.drop(colunas_extras, axis=1)\n",
    "\n",
    "df.set_index('municipios', inplace=True)\n",
    "\n",
    "# Salvando o dataframe em um arquivo csv\n",
    "df.to_csv('data\\\\tocsv\\\\dados_pop_criminalidade.csv', sep=';', index=False)\n",
    "\n",
    "df.head()\n",
    "\n",
    "df.shape\n",
    "\n"
   ]
  },
  {
   "cell_type": "code",
   "execution_count": 280,
   "metadata": {},
   "outputs": [],
   "source": [
    "# Removendo as colunas de taxa total pois são redundantes\n",
    "df.drop(['total_vitimas_homicidio_doloso'], axis='columns', inplace=True)\n",
    "df.drop(['latrocinio'], axis='columns', inplace=True)\n",
    "\n",
    "# Selecionando somente as colunas do tipo float\n",
    "df.drop(['ibge'], axis='columns', inplace=True)\n",
    "\n",
    "df.rename(columns={'2021': 'populacao'}, inplace=True)"
   ]
  },
  {
   "cell_type": "code",
   "execution_count": 281,
   "metadata": {},
   "outputs": [
    {
     "data": {
      "text/html": [
       "<div>\n",
       "<style scoped>\n",
       "    .dataframe tbody tr th:only-of-type {\n",
       "        vertical-align: middle;\n",
       "    }\n",
       "\n",
       "    .dataframe tbody tr th {\n",
       "        vertical-align: top;\n",
       "    }\n",
       "\n",
       "    .dataframe thead th {\n",
       "        text-align: right;\n",
       "    }\n",
       "</style>\n",
       "<table border=\"1\" class=\"dataframe\">\n",
       "  <thead>\n",
       "    <tr style=\"text-align: right;\">\n",
       "      <th></th>\n",
       "      <th>homicidio_doloso</th>\n",
       "      <th>furtos</th>\n",
       "      <th>abigeato</th>\n",
       "      <th>furto_veiculo</th>\n",
       "      <th>roubos</th>\n",
       "      <th>roubo_veiculo</th>\n",
       "      <th>estelionato</th>\n",
       "      <th>delitos_armas_municoes</th>\n",
       "      <th>entorpecente_posse</th>\n",
       "      <th>entorpecente_trafico</th>\n",
       "      <th>vitimas_latrocinio</th>\n",
       "      <th>vitimas_lesao_corporal_morte</th>\n",
       "      <th>populacao</th>\n",
       "    </tr>\n",
       "    <tr>\n",
       "      <th>municipios</th>\n",
       "      <th></th>\n",
       "      <th></th>\n",
       "      <th></th>\n",
       "      <th></th>\n",
       "      <th></th>\n",
       "      <th></th>\n",
       "      <th></th>\n",
       "      <th></th>\n",
       "      <th></th>\n",
       "      <th></th>\n",
       "      <th></th>\n",
       "      <th></th>\n",
       "      <th></th>\n",
       "    </tr>\n",
       "  </thead>\n",
       "  <tbody>\n",
       "    <tr>\n",
       "      <th>acegua</th>\n",
       "      <td>-0.240983</td>\n",
       "      <td>-0.165023</td>\n",
       "      <td>-0.016371</td>\n",
       "      <td>-0.189482</td>\n",
       "      <td>-0.091215</td>\n",
       "      <td>-0.108250</td>\n",
       "      <td>-0.174139</td>\n",
       "      <td>-0.221637</td>\n",
       "      <td>-0.264673</td>\n",
       "      <td>-0.205293</td>\n",
       "      <td>-0.202622</td>\n",
       "      <td>-0.193052</td>\n",
       "      <td>-0.234986</td>\n",
       "    </tr>\n",
       "    <tr>\n",
       "      <th>agua santa</th>\n",
       "      <td>-0.163812</td>\n",
       "      <td>-0.165023</td>\n",
       "      <td>-0.347109</td>\n",
       "      <td>-0.145451</td>\n",
       "      <td>-0.094148</td>\n",
       "      <td>-0.108250</td>\n",
       "      <td>-0.190466</td>\n",
       "      <td>-0.270616</td>\n",
       "      <td>-0.287715</td>\n",
       "      <td>-0.205293</td>\n",
       "      <td>-0.202622</td>\n",
       "      <td>-0.193052</td>\n",
       "      <td>-0.238138</td>\n",
       "    </tr>\n",
       "    <tr>\n",
       "      <th>agudo</th>\n",
       "      <td>-0.163812</td>\n",
       "      <td>-0.106419</td>\n",
       "      <td>-0.413257</td>\n",
       "      <td>-0.167466</td>\n",
       "      <td>-0.091215</td>\n",
       "      <td>-0.093268</td>\n",
       "      <td>-0.146148</td>\n",
       "      <td>-0.246127</td>\n",
       "      <td>-0.233949</td>\n",
       "      <td>-0.141324</td>\n",
       "      <td>-0.202622</td>\n",
       "      <td>-0.193052</td>\n",
       "      <td>-0.081756</td>\n",
       "    </tr>\n",
       "    <tr>\n",
       "      <th>ajuricaba</th>\n",
       "      <td>-0.240983</td>\n",
       "      <td>-0.160734</td>\n",
       "      <td>-0.479404</td>\n",
       "      <td>-0.189482</td>\n",
       "      <td>-0.094148</td>\n",
       "      <td>-0.108250</td>\n",
       "      <td>-0.172972</td>\n",
       "      <td>-0.270616</td>\n",
       "      <td>-0.264673</td>\n",
       "      <td>-0.205293</td>\n",
       "      <td>-0.202622</td>\n",
       "      <td>-0.193052</td>\n",
       "      <td>-0.197751</td>\n",
       "    </tr>\n",
       "    <tr>\n",
       "      <th>alecrim</th>\n",
       "      <td>-0.163812</td>\n",
       "      <td>-0.153588</td>\n",
       "      <td>0.115925</td>\n",
       "      <td>-0.189482</td>\n",
       "      <td>-0.092681</td>\n",
       "      <td>-0.108250</td>\n",
       "      <td>-0.185801</td>\n",
       "      <td>-0.074700</td>\n",
       "      <td>-0.287715</td>\n",
       "      <td>-0.179705</td>\n",
       "      <td>-0.202622</td>\n",
       "      <td>-0.193052</td>\n",
       "      <td>-0.210964</td>\n",
       "    </tr>\n",
       "  </tbody>\n",
       "</table>\n",
       "</div>"
      ],
      "text/plain": [
       "            homicidio_doloso    furtos  abigeato  furto_veiculo    roubos  \\\n",
       "municipios                                                                  \n",
       "acegua             -0.240983 -0.165023 -0.016371      -0.189482 -0.091215   \n",
       "agua santa         -0.163812 -0.165023 -0.347109      -0.145451 -0.094148   \n",
       "agudo              -0.163812 -0.106419 -0.413257      -0.167466 -0.091215   \n",
       "ajuricaba          -0.240983 -0.160734 -0.479404      -0.189482 -0.094148   \n",
       "alecrim            -0.163812 -0.153588  0.115925      -0.189482 -0.092681   \n",
       "\n",
       "            roubo_veiculo  estelionato  delitos_armas_municoes  \\\n",
       "municipios                                                       \n",
       "acegua          -0.108250    -0.174139               -0.221637   \n",
       "agua santa      -0.108250    -0.190466               -0.270616   \n",
       "agudo           -0.093268    -0.146148               -0.246127   \n",
       "ajuricaba       -0.108250    -0.172972               -0.270616   \n",
       "alecrim         -0.108250    -0.185801               -0.074700   \n",
       "\n",
       "            entorpecente_posse  entorpecente_trafico  vitimas_latrocinio  \\\n",
       "municipios                                                                 \n",
       "acegua               -0.264673             -0.205293           -0.202622   \n",
       "agua santa           -0.287715             -0.205293           -0.202622   \n",
       "agudo                -0.233949             -0.141324           -0.202622   \n",
       "ajuricaba            -0.264673             -0.205293           -0.202622   \n",
       "alecrim              -0.287715             -0.179705           -0.202622   \n",
       "\n",
       "            vitimas_lesao_corporal_morte  populacao  \n",
       "municipios                                           \n",
       "acegua                         -0.193052  -0.234986  \n",
       "agua santa                     -0.193052  -0.238138  \n",
       "agudo                          -0.193052  -0.081756  \n",
       "ajuricaba                      -0.193052  -0.197751  \n",
       "alecrim                        -0.193052  -0.210964  "
      ]
     },
     "execution_count": 281,
     "metadata": {},
     "output_type": "execute_result"
    }
   ],
   "source": [
    "# Normalizando os dados média 0 e desvio padrão 1\n",
    "scaler = StandardScaler(with_std=True, with_mean=True)\n",
    "data_scaled = pd.DataFrame(scaler.fit_transform(df), columns=df.columns, index=df.index)\n",
    "\n",
    "data_scaled.head()"
   ]
  },
  {
   "cell_type": "markdown",
   "metadata": {},
   "source": [
    "## PCA - Redução de Dimensionalidade\n",
    "### O dataset agora tem dados suficientes para ranquear as cidades em mais seguras e não seguras com dados proporcionais a população. Entretanto, existem muitas colunas. A alta dimensionalidade deixará o processo de aprendizado confuso criando um sobreajuste nos dados. Então é aplicado o PCA, uma técnida de redução de dimensionalidade.\n",
    "### Para fins de demonstração, será usado somente uma amostra de 20 cidades.\n",
    "\n"
   ]
  },
  {
   "cell_type": "code",
   "execution_count": 282,
   "metadata": {},
   "outputs": [
    {
     "data": {
      "text/plain": [
       "Index(['hulha negra', 'sao valentim do sul', 'xangri-la', 'nova padua',\n",
       "       'catuipe', 'esmeralda', 'lajeado do bugre', 'cruz alta', 'nova ramada',\n",
       "       'jaguarao', 'nova petropolis', 'charqueadas', 'torres', 'sarandi',\n",
       "       'fortaleza dos valos', 'almirante tamandare do sul', 'esteio',\n",
       "       'frederico westphalen', 'canela', 'piratini', 'vale verde',\n",
       "       'restinga seca', 'santo antonio da patrulha', 'passo do sobrado',\n",
       "       'sao sepe'],\n",
       "      dtype='object', name='municipios')"
      ]
     },
     "execution_count": 282,
     "metadata": {},
     "output_type": "execute_result"
    }
   ],
   "source": [
    "# Selecionando 20 linhas aleatórias\n",
    "df_sample= data_scaled.sample(n=25, axis=0, random_state=999)\n",
    "\n",
    "df_sample.index\n",
    "\n"
   ]
  },
  {
   "cell_type": "code",
   "execution_count": 283,
   "metadata": {},
   "outputs": [],
   "source": [
    "import numpy as np\n",
    "\n",
    "from sklearn.decomposition import PCA\n"
   ]
  },
  {
   "cell_type": "code",
   "execution_count": 284,
   "metadata": {},
   "outputs": [
    {
     "data": {
      "text/plain": [
       "13"
      ]
     },
     "execution_count": 284,
     "metadata": {},
     "output_type": "execute_result"
    }
   ],
   "source": [
    "# Aplicando a PCA\n",
    "pca = PCA()\n",
    "components = pca.fit_transform(df_sample)\n",
    "\n",
    "components.shape[1]"
   ]
  },
  {
   "cell_type": "code",
   "execution_count": 285,
   "metadata": {},
   "outputs": [
    {
     "data": {
      "text/plain": [
       "array([3.81403134e-01, 3.35609185e-01, 1.40727454e-01, 7.49776034e-02,\n",
       "       4.64638856e-02, 1.41957814e-02, 2.98215223e-03, 2.68379209e-03,\n",
       "       5.28358386e-04, 3.23701599e-04, 6.66889179e-05, 3.82634109e-05,\n",
       "       0.00000000e+00])"
      ]
     },
     "execution_count": 285,
     "metadata": {},
     "output_type": "execute_result"
    }
   ],
   "source": [
    "# Analise de como os componentes estão explicando os dados com a variância explicada\n",
    "pca.explained_variance_ratio_"
   ]
  },
  {
   "cell_type": "code",
   "execution_count": 286,
   "metadata": {},
   "outputs": [],
   "source": [
    "import plotly.express as px\n",
    "import plotly.offline as py\n",
    "import plotly.graph_objects as go\n",
    "\n",
    "import matplotlib.pyplot as plt\n",
    "%matplotlib inline"
   ]
  },
  {
   "cell_type": "code",
   "execution_count": 287,
   "metadata": {},
   "outputs": [
    {
     "data": {
      "application/vnd.plotly.v1+json": {
       "config": {
        "plotlyServerURL": "https://plot.ly"
       },
       "data": [
        {
         "fillpattern": {
          "shape": ""
         },
         "hovertemplate": "Componentes Principais=%{x}<br>Variância Explicada Acumulada=%{y}<extra></extra>",
         "legendgroup": "",
         "line": {
          "color": "#636efa"
         },
         "marker": {
          "symbol": "circle"
         },
         "mode": "lines",
         "name": "",
         "orientation": "v",
         "showlegend": false,
         "stackgroup": "1",
         "type": "scatter",
         "x": [
          1,
          2,
          3,
          4,
          5,
          6,
          7,
          8,
          9,
          10,
          11,
          12,
          13
         ],
         "xaxis": "x",
         "y": [
          0.38140313375788154,
          0.7170123192200656,
          0.8577397729213029,
          0.932717376292049,
          0.9791812619181246,
          0.9933770433670147,
          0.996359195595595,
          0.9990429876863286,
          0.9995713460721398,
          0.9998950476711617,
          0.99996173658906,
          1,
          1
         ],
         "yaxis": "y"
        }
       ],
       "layout": {
        "legend": {
         "tracegroupgap": 0
        },
        "margin": {
         "t": 60
        },
        "template": {
         "data": {
          "bar": [
           {
            "error_x": {
             "color": "#2a3f5f"
            },
            "error_y": {
             "color": "#2a3f5f"
            },
            "marker": {
             "line": {
              "color": "#E5ECF6",
              "width": 0.5
             },
             "pattern": {
              "fillmode": "overlay",
              "size": 10,
              "solidity": 0.2
             }
            },
            "type": "bar"
           }
          ],
          "barpolar": [
           {
            "marker": {
             "line": {
              "color": "#E5ECF6",
              "width": 0.5
             },
             "pattern": {
              "fillmode": "overlay",
              "size": 10,
              "solidity": 0.2
             }
            },
            "type": "barpolar"
           }
          ],
          "carpet": [
           {
            "aaxis": {
             "endlinecolor": "#2a3f5f",
             "gridcolor": "white",
             "linecolor": "white",
             "minorgridcolor": "white",
             "startlinecolor": "#2a3f5f"
            },
            "baxis": {
             "endlinecolor": "#2a3f5f",
             "gridcolor": "white",
             "linecolor": "white",
             "minorgridcolor": "white",
             "startlinecolor": "#2a3f5f"
            },
            "type": "carpet"
           }
          ],
          "choropleth": [
           {
            "colorbar": {
             "outlinewidth": 0,
             "ticks": ""
            },
            "type": "choropleth"
           }
          ],
          "contour": [
           {
            "colorbar": {
             "outlinewidth": 0,
             "ticks": ""
            },
            "colorscale": [
             [
              0,
              "#0d0887"
             ],
             [
              0.1111111111111111,
              "#46039f"
             ],
             [
              0.2222222222222222,
              "#7201a8"
             ],
             [
              0.3333333333333333,
              "#9c179e"
             ],
             [
              0.4444444444444444,
              "#bd3786"
             ],
             [
              0.5555555555555556,
              "#d8576b"
             ],
             [
              0.6666666666666666,
              "#ed7953"
             ],
             [
              0.7777777777777778,
              "#fb9f3a"
             ],
             [
              0.8888888888888888,
              "#fdca26"
             ],
             [
              1,
              "#f0f921"
             ]
            ],
            "type": "contour"
           }
          ],
          "contourcarpet": [
           {
            "colorbar": {
             "outlinewidth": 0,
             "ticks": ""
            },
            "type": "contourcarpet"
           }
          ],
          "heatmap": [
           {
            "colorbar": {
             "outlinewidth": 0,
             "ticks": ""
            },
            "colorscale": [
             [
              0,
              "#0d0887"
             ],
             [
              0.1111111111111111,
              "#46039f"
             ],
             [
              0.2222222222222222,
              "#7201a8"
             ],
             [
              0.3333333333333333,
              "#9c179e"
             ],
             [
              0.4444444444444444,
              "#bd3786"
             ],
             [
              0.5555555555555556,
              "#d8576b"
             ],
             [
              0.6666666666666666,
              "#ed7953"
             ],
             [
              0.7777777777777778,
              "#fb9f3a"
             ],
             [
              0.8888888888888888,
              "#fdca26"
             ],
             [
              1,
              "#f0f921"
             ]
            ],
            "type": "heatmap"
           }
          ],
          "heatmapgl": [
           {
            "colorbar": {
             "outlinewidth": 0,
             "ticks": ""
            },
            "colorscale": [
             [
              0,
              "#0d0887"
             ],
             [
              0.1111111111111111,
              "#46039f"
             ],
             [
              0.2222222222222222,
              "#7201a8"
             ],
             [
              0.3333333333333333,
              "#9c179e"
             ],
             [
              0.4444444444444444,
              "#bd3786"
             ],
             [
              0.5555555555555556,
              "#d8576b"
             ],
             [
              0.6666666666666666,
              "#ed7953"
             ],
             [
              0.7777777777777778,
              "#fb9f3a"
             ],
             [
              0.8888888888888888,
              "#fdca26"
             ],
             [
              1,
              "#f0f921"
             ]
            ],
            "type": "heatmapgl"
           }
          ],
          "histogram": [
           {
            "marker": {
             "pattern": {
              "fillmode": "overlay",
              "size": 10,
              "solidity": 0.2
             }
            },
            "type": "histogram"
           }
          ],
          "histogram2d": [
           {
            "colorbar": {
             "outlinewidth": 0,
             "ticks": ""
            },
            "colorscale": [
             [
              0,
              "#0d0887"
             ],
             [
              0.1111111111111111,
              "#46039f"
             ],
             [
              0.2222222222222222,
              "#7201a8"
             ],
             [
              0.3333333333333333,
              "#9c179e"
             ],
             [
              0.4444444444444444,
              "#bd3786"
             ],
             [
              0.5555555555555556,
              "#d8576b"
             ],
             [
              0.6666666666666666,
              "#ed7953"
             ],
             [
              0.7777777777777778,
              "#fb9f3a"
             ],
             [
              0.8888888888888888,
              "#fdca26"
             ],
             [
              1,
              "#f0f921"
             ]
            ],
            "type": "histogram2d"
           }
          ],
          "histogram2dcontour": [
           {
            "colorbar": {
             "outlinewidth": 0,
             "ticks": ""
            },
            "colorscale": [
             [
              0,
              "#0d0887"
             ],
             [
              0.1111111111111111,
              "#46039f"
             ],
             [
              0.2222222222222222,
              "#7201a8"
             ],
             [
              0.3333333333333333,
              "#9c179e"
             ],
             [
              0.4444444444444444,
              "#bd3786"
             ],
             [
              0.5555555555555556,
              "#d8576b"
             ],
             [
              0.6666666666666666,
              "#ed7953"
             ],
             [
              0.7777777777777778,
              "#fb9f3a"
             ],
             [
              0.8888888888888888,
              "#fdca26"
             ],
             [
              1,
              "#f0f921"
             ]
            ],
            "type": "histogram2dcontour"
           }
          ],
          "mesh3d": [
           {
            "colorbar": {
             "outlinewidth": 0,
             "ticks": ""
            },
            "type": "mesh3d"
           }
          ],
          "parcoords": [
           {
            "line": {
             "colorbar": {
              "outlinewidth": 0,
              "ticks": ""
             }
            },
            "type": "parcoords"
           }
          ],
          "pie": [
           {
            "automargin": true,
            "type": "pie"
           }
          ],
          "scatter": [
           {
            "fillpattern": {
             "fillmode": "overlay",
             "size": 10,
             "solidity": 0.2
            },
            "type": "scatter"
           }
          ],
          "scatter3d": [
           {
            "line": {
             "colorbar": {
              "outlinewidth": 0,
              "ticks": ""
             }
            },
            "marker": {
             "colorbar": {
              "outlinewidth": 0,
              "ticks": ""
             }
            },
            "type": "scatter3d"
           }
          ],
          "scattercarpet": [
           {
            "marker": {
             "colorbar": {
              "outlinewidth": 0,
              "ticks": ""
             }
            },
            "type": "scattercarpet"
           }
          ],
          "scattergeo": [
           {
            "marker": {
             "colorbar": {
              "outlinewidth": 0,
              "ticks": ""
             }
            },
            "type": "scattergeo"
           }
          ],
          "scattergl": [
           {
            "marker": {
             "colorbar": {
              "outlinewidth": 0,
              "ticks": ""
             }
            },
            "type": "scattergl"
           }
          ],
          "scattermapbox": [
           {
            "marker": {
             "colorbar": {
              "outlinewidth": 0,
              "ticks": ""
             }
            },
            "type": "scattermapbox"
           }
          ],
          "scatterpolar": [
           {
            "marker": {
             "colorbar": {
              "outlinewidth": 0,
              "ticks": ""
             }
            },
            "type": "scatterpolar"
           }
          ],
          "scatterpolargl": [
           {
            "marker": {
             "colorbar": {
              "outlinewidth": 0,
              "ticks": ""
             }
            },
            "type": "scatterpolargl"
           }
          ],
          "scatterternary": [
           {
            "marker": {
             "colorbar": {
              "outlinewidth": 0,
              "ticks": ""
             }
            },
            "type": "scatterternary"
           }
          ],
          "surface": [
           {
            "colorbar": {
             "outlinewidth": 0,
             "ticks": ""
            },
            "colorscale": [
             [
              0,
              "#0d0887"
             ],
             [
              0.1111111111111111,
              "#46039f"
             ],
             [
              0.2222222222222222,
              "#7201a8"
             ],
             [
              0.3333333333333333,
              "#9c179e"
             ],
             [
              0.4444444444444444,
              "#bd3786"
             ],
             [
              0.5555555555555556,
              "#d8576b"
             ],
             [
              0.6666666666666666,
              "#ed7953"
             ],
             [
              0.7777777777777778,
              "#fb9f3a"
             ],
             [
              0.8888888888888888,
              "#fdca26"
             ],
             [
              1,
              "#f0f921"
             ]
            ],
            "type": "surface"
           }
          ],
          "table": [
           {
            "cells": {
             "fill": {
              "color": "#EBF0F8"
             },
             "line": {
              "color": "white"
             }
            },
            "header": {
             "fill": {
              "color": "#C8D4E3"
             },
             "line": {
              "color": "white"
             }
            },
            "type": "table"
           }
          ]
         },
         "layout": {
          "annotationdefaults": {
           "arrowcolor": "#2a3f5f",
           "arrowhead": 0,
           "arrowwidth": 1
          },
          "autotypenumbers": "strict",
          "coloraxis": {
           "colorbar": {
            "outlinewidth": 0,
            "ticks": ""
           }
          },
          "colorscale": {
           "diverging": [
            [
             0,
             "#8e0152"
            ],
            [
             0.1,
             "#c51b7d"
            ],
            [
             0.2,
             "#de77ae"
            ],
            [
             0.3,
             "#f1b6da"
            ],
            [
             0.4,
             "#fde0ef"
            ],
            [
             0.5,
             "#f7f7f7"
            ],
            [
             0.6,
             "#e6f5d0"
            ],
            [
             0.7,
             "#b8e186"
            ],
            [
             0.8,
             "#7fbc41"
            ],
            [
             0.9,
             "#4d9221"
            ],
            [
             1,
             "#276419"
            ]
           ],
           "sequential": [
            [
             0,
             "#0d0887"
            ],
            [
             0.1111111111111111,
             "#46039f"
            ],
            [
             0.2222222222222222,
             "#7201a8"
            ],
            [
             0.3333333333333333,
             "#9c179e"
            ],
            [
             0.4444444444444444,
             "#bd3786"
            ],
            [
             0.5555555555555556,
             "#d8576b"
            ],
            [
             0.6666666666666666,
             "#ed7953"
            ],
            [
             0.7777777777777778,
             "#fb9f3a"
            ],
            [
             0.8888888888888888,
             "#fdca26"
            ],
            [
             1,
             "#f0f921"
            ]
           ],
           "sequentialminus": [
            [
             0,
             "#0d0887"
            ],
            [
             0.1111111111111111,
             "#46039f"
            ],
            [
             0.2222222222222222,
             "#7201a8"
            ],
            [
             0.3333333333333333,
             "#9c179e"
            ],
            [
             0.4444444444444444,
             "#bd3786"
            ],
            [
             0.5555555555555556,
             "#d8576b"
            ],
            [
             0.6666666666666666,
             "#ed7953"
            ],
            [
             0.7777777777777778,
             "#fb9f3a"
            ],
            [
             0.8888888888888888,
             "#fdca26"
            ],
            [
             1,
             "#f0f921"
            ]
           ]
          },
          "colorway": [
           "#636efa",
           "#EF553B",
           "#00cc96",
           "#ab63fa",
           "#FFA15A",
           "#19d3f3",
           "#FF6692",
           "#B6E880",
           "#FF97FF",
           "#FECB52"
          ],
          "font": {
           "color": "#2a3f5f"
          },
          "geo": {
           "bgcolor": "white",
           "lakecolor": "white",
           "landcolor": "#E5ECF6",
           "showlakes": true,
           "showland": true,
           "subunitcolor": "white"
          },
          "hoverlabel": {
           "align": "left"
          },
          "hovermode": "closest",
          "mapbox": {
           "style": "light"
          },
          "paper_bgcolor": "white",
          "plot_bgcolor": "#E5ECF6",
          "polar": {
           "angularaxis": {
            "gridcolor": "white",
            "linecolor": "white",
            "ticks": ""
           },
           "bgcolor": "#E5ECF6",
           "radialaxis": {
            "gridcolor": "white",
            "linecolor": "white",
            "ticks": ""
           }
          },
          "scene": {
           "xaxis": {
            "backgroundcolor": "#E5ECF6",
            "gridcolor": "white",
            "gridwidth": 2,
            "linecolor": "white",
            "showbackground": true,
            "ticks": "",
            "zerolinecolor": "white"
           },
           "yaxis": {
            "backgroundcolor": "#E5ECF6",
            "gridcolor": "white",
            "gridwidth": 2,
            "linecolor": "white",
            "showbackground": true,
            "ticks": "",
            "zerolinecolor": "white"
           },
           "zaxis": {
            "backgroundcolor": "#E5ECF6",
            "gridcolor": "white",
            "gridwidth": 2,
            "linecolor": "white",
            "showbackground": true,
            "ticks": "",
            "zerolinecolor": "white"
           }
          },
          "shapedefaults": {
           "line": {
            "color": "#2a3f5f"
           }
          },
          "ternary": {
           "aaxis": {
            "gridcolor": "white",
            "linecolor": "white",
            "ticks": ""
           },
           "baxis": {
            "gridcolor": "white",
            "linecolor": "white",
            "ticks": ""
           },
           "bgcolor": "#E5ECF6",
           "caxis": {
            "gridcolor": "white",
            "linecolor": "white",
            "ticks": ""
           }
          },
          "title": {
           "x": 0.05
          },
          "xaxis": {
           "automargin": true,
           "gridcolor": "white",
           "linecolor": "white",
           "ticks": "",
           "title": {
            "standoff": 15
           },
           "zerolinecolor": "white",
           "zerolinewidth": 2
          },
          "yaxis": {
           "automargin": true,
           "gridcolor": "white",
           "linecolor": "white",
           "ticks": "",
           "title": {
            "standoff": 15
           },
           "zerolinecolor": "white",
           "zerolinewidth": 2
          }
         }
        },
        "xaxis": {
         "anchor": "y",
         "domain": [
          0,
          1
         ],
         "title": {
          "text": "Componentes Principais"
         }
        },
        "yaxis": {
         "anchor": "x",
         "domain": [
          0,
          1
         ],
         "title": {
          "text": "Variância Explicada Acumulada"
         }
        }
       }
      }
     },
     "metadata": {},
     "output_type": "display_data"
    }
   ],
   "source": [
    "# Plotando o gráfico da variância explicada acumulada\n",
    "px.area(\n",
    "    x=range(1, pca.explained_variance_ratio_.cumsum().shape[0] + 1),\n",
    "    y=pca.explained_variance_ratio_.cumsum(),\n",
    "    labels={\"x\": \"Componentes Principais\", \"y\": \"Variância Explicada Acumulada\"}\n",
    ")\n"
   ]
  },
  {
   "cell_type": "code",
   "execution_count": 288,
   "metadata": {},
   "outputs": [
    {
     "data": {
      "text/plain": [
       "4"
      ]
     },
     "execution_count": 288,
     "metadata": {},
     "output_type": "execute_result"
    }
   ],
   "source": [
    "n = 4\n",
    "\n",
    "# Aplicando a PCA com n componentes\n",
    "pca = PCA(n_components=n)\n",
    "components = pca.fit_transform(df_sample)\n",
    "\n",
    "components.shape[1]"
   ]
  },
  {
   "cell_type": "markdown",
   "metadata": {},
   "source": [
    "Dataframe agora utilizando os componentes principais para explicar os dados de criminalidade nas cidades."
   ]
  },
  {
   "cell_type": "code",
   "execution_count": 289,
   "metadata": {},
   "outputs": [
    {
     "data": {
      "text/html": [
       "<div>\n",
       "<style scoped>\n",
       "    .dataframe tbody tr th:only-of-type {\n",
       "        vertical-align: middle;\n",
       "    }\n",
       "\n",
       "    .dataframe tbody tr th {\n",
       "        vertical-align: top;\n",
       "    }\n",
       "\n",
       "    .dataframe thead th {\n",
       "        text-align: right;\n",
       "    }\n",
       "</style>\n",
       "<table border=\"1\" class=\"dataframe\">\n",
       "  <thead>\n",
       "    <tr style=\"text-align: right;\">\n",
       "      <th></th>\n",
       "      <th>PC1</th>\n",
       "      <th>PC2</th>\n",
       "      <th>PC3</th>\n",
       "      <th>PC4</th>\n",
       "    </tr>\n",
       "    <tr>\n",
       "      <th>municipios</th>\n",
       "      <th></th>\n",
       "      <th></th>\n",
       "      <th></th>\n",
       "      <th></th>\n",
       "    </tr>\n",
       "  </thead>\n",
       "  <tbody>\n",
       "    <tr>\n",
       "      <th>hulha negra</th>\n",
       "      <td>-0.601557</td>\n",
       "      <td>0.075443</td>\n",
       "      <td>-0.145768</td>\n",
       "      <td>0.006247</td>\n",
       "    </tr>\n",
       "    <tr>\n",
       "      <th>sao valentim do sul</th>\n",
       "      <td>-0.682314</td>\n",
       "      <td>-0.512254</td>\n",
       "      <td>-0.072228</td>\n",
       "      <td>0.019699</td>\n",
       "    </tr>\n",
       "    <tr>\n",
       "      <th>xangri-la</th>\n",
       "      <td>0.044404</td>\n",
       "      <td>-0.434083</td>\n",
       "      <td>-0.035557</td>\n",
       "      <td>-0.017995</td>\n",
       "    </tr>\n",
       "    <tr>\n",
       "      <th>nova padua</th>\n",
       "      <td>-0.710398</td>\n",
       "      <td>-0.512442</td>\n",
       "      <td>-0.073661</td>\n",
       "      <td>0.017818</td>\n",
       "    </tr>\n",
       "    <tr>\n",
       "      <th>catuipe</th>\n",
       "      <td>-0.479446</td>\n",
       "      <td>-0.042584</td>\n",
       "      <td>-0.122929</td>\n",
       "      <td>0.173788</td>\n",
       "    </tr>\n",
       "  </tbody>\n",
       "</table>\n",
       "</div>"
      ],
      "text/plain": [
       "                          PC1       PC2       PC3       PC4\n",
       "municipios                                                 \n",
       "hulha negra         -0.601557  0.075443 -0.145768  0.006247\n",
       "sao valentim do sul -0.682314 -0.512254 -0.072228  0.019699\n",
       "xangri-la            0.044404 -0.434083 -0.035557 -0.017995\n",
       "nova padua          -0.710398 -0.512442 -0.073661  0.017818\n",
       "catuipe             -0.479446 -0.042584 -0.122929  0.173788"
      ]
     },
     "execution_count": 289,
     "metadata": {},
     "output_type": "execute_result"
    }
   ],
   "source": [
    "df_pca = pd.DataFrame(data = components, columns = ['PC1', 'PC2', 'PC3', 'PC4'])\n",
    "df_pca['municipios'] = df_sample.index\n",
    "df_pca.set_index('municipios', inplace=True)\n",
    "df_pca.head()"
   ]
  },
  {
   "cell_type": "code",
   "execution_count": 290,
   "metadata": {},
   "outputs": [
    {
     "data": {
      "application/vnd.plotly.v1+json": {
       "config": {
        "plotlyServerURL": "https://plot.ly"
       },
       "data": [
        {
         "diagonal": {
          "visible": false
         },
         "dimensions": [
          {
           "axis": {
            "matches": true
           },
           "label": "PC1",
           "values": [
            -0.6015571329880844
           ]
          },
          {
           "axis": {
            "matches": true
           },
           "label": "PC2",
           "values": [
            0.07544342454418398
           ]
          },
          {
           "axis": {
            "matches": true
           },
           "label": "PC3",
           "values": [
            -0.14576831499970555
           ]
          },
          {
           "axis": {
            "matches": true
           },
           "label": "PC4",
           "values": [
            0.0062471921564717075
           ]
          }
         ],
         "hovertemplate": "municipios=hulha negra<br>%{xaxis.title.text}=%{x}<br>%{yaxis.title.text}=%{y}<extra></extra>",
         "legendgroup": "hulha negra",
         "marker": {
          "color": "#636efa",
          "symbol": "circle"
         },
         "name": "hulha negra",
         "showlegend": true,
         "type": "splom"
        },
        {
         "diagonal": {
          "visible": false
         },
         "dimensions": [
          {
           "axis": {
            "matches": true
           },
           "label": "PC1",
           "values": [
            -0.6823135300808117
           ]
          },
          {
           "axis": {
            "matches": true
           },
           "label": "PC2",
           "values": [
            -0.5122535820251146
           ]
          },
          {
           "axis": {
            "matches": true
           },
           "label": "PC3",
           "values": [
            -0.07222818536548746
           ]
          },
          {
           "axis": {
            "matches": true
           },
           "label": "PC4",
           "values": [
            0.019699360687518826
           ]
          }
         ],
         "hovertemplate": "municipios=sao valentim do sul<br>%{xaxis.title.text}=%{x}<br>%{yaxis.title.text}=%{y}<extra></extra>",
         "legendgroup": "sao valentim do sul",
         "marker": {
          "color": "#EF553B",
          "symbol": "circle"
         },
         "name": "sao valentim do sul",
         "showlegend": true,
         "type": "splom"
        },
        {
         "diagonal": {
          "visible": false
         },
         "dimensions": [
          {
           "axis": {
            "matches": true
           },
           "label": "PC1",
           "values": [
            0.04440365794186637
           ]
          },
          {
           "axis": {
            "matches": true
           },
           "label": "PC2",
           "values": [
            -0.43408343002895794
           ]
          },
          {
           "axis": {
            "matches": true
           },
           "label": "PC3",
           "values": [
            -0.03555708791262207
           ]
          },
          {
           "axis": {
            "matches": true
           },
           "label": "PC4",
           "values": [
            -0.017994983334196968
           ]
          }
         ],
         "hovertemplate": "municipios=xangri-la<br>%{xaxis.title.text}=%{x}<br>%{yaxis.title.text}=%{y}<extra></extra>",
         "legendgroup": "xangri-la",
         "marker": {
          "color": "#00cc96",
          "symbol": "circle"
         },
         "name": "xangri-la",
         "showlegend": true,
         "type": "splom"
        },
        {
         "diagonal": {
          "visible": false
         },
         "dimensions": [
          {
           "axis": {
            "matches": true
           },
           "label": "PC1",
           "values": [
            -0.7103976257434185
           ]
          },
          {
           "axis": {
            "matches": true
           },
           "label": "PC2",
           "values": [
            -0.5124422393091553
           ]
          },
          {
           "axis": {
            "matches": true
           },
           "label": "PC3",
           "values": [
            -0.07366085131981111
           ]
          },
          {
           "axis": {
            "matches": true
           },
           "label": "PC4",
           "values": [
            0.017818482462129494
           ]
          }
         ],
         "hovertemplate": "municipios=nova padua<br>%{xaxis.title.text}=%{x}<br>%{yaxis.title.text}=%{y}<extra></extra>",
         "legendgroup": "nova padua",
         "marker": {
          "color": "#ab63fa",
          "symbol": "circle"
         },
         "name": "nova padua",
         "showlegend": true,
         "type": "splom"
        },
        {
         "diagonal": {
          "visible": false
         },
         "dimensions": [
          {
           "axis": {
            "matches": true
           },
           "label": "PC1",
           "values": [
            -0.4794460102159635
           ]
          },
          {
           "axis": {
            "matches": true
           },
           "label": "PC2",
           "values": [
            -0.042583954964437974
           ]
          },
          {
           "axis": {
            "matches": true
           },
           "label": "PC3",
           "values": [
            -0.12292949313623562
           ]
          },
          {
           "axis": {
            "matches": true
           },
           "label": "PC4",
           "values": [
            0.17378829014854916
           ]
          }
         ],
         "hovertemplate": "municipios=catuipe<br>%{xaxis.title.text}=%{x}<br>%{yaxis.title.text}=%{y}<extra></extra>",
         "legendgroup": "catuipe",
         "marker": {
          "color": "#FFA15A",
          "symbol": "circle"
         },
         "name": "catuipe",
         "showlegend": true,
         "type": "splom"
        },
        {
         "diagonal": {
          "visible": false
         },
         "dimensions": [
          {
           "axis": {
            "matches": true
           },
           "label": "PC1",
           "values": [
            -0.5868409829748974
           ]
          },
          {
           "axis": {
            "matches": true
           },
           "label": "PC2",
           "values": [
            -0.43621161192641666
           ]
          },
          {
           "axis": {
            "matches": true
           },
           "label": "PC3",
           "values": [
            -0.07794754089846437
           ]
          },
          {
           "axis": {
            "matches": true
           },
           "label": "PC4",
           "values": [
            0.15972343985462634
           ]
          }
         ],
         "hovertemplate": "municipios=esmeralda<br>%{xaxis.title.text}=%{x}<br>%{yaxis.title.text}=%{y}<extra></extra>",
         "legendgroup": "esmeralda",
         "marker": {
          "color": "#19d3f3",
          "symbol": "circle"
         },
         "name": "esmeralda",
         "showlegend": true,
         "type": "splom"
        },
        {
         "diagonal": {
          "visible": false
         },
         "dimensions": [
          {
           "axis": {
            "matches": true
           },
           "label": "PC1",
           "values": [
            -0.6813806005832485
           ]
          },
          {
           "axis": {
            "matches": true
           },
           "label": "PC2",
           "values": [
            -0.5094190461546351
           ]
          },
          {
           "axis": {
            "matches": true
           },
           "label": "PC3",
           "values": [
            -0.07319785436253526
           ]
          },
          {
           "axis": {
            "matches": true
           },
           "label": "PC4",
           "values": [
            0.0456101051406357
           ]
          }
         ],
         "hovertemplate": "municipios=lajeado do bugre<br>%{xaxis.title.text}=%{x}<br>%{yaxis.title.text}=%{y}<extra></extra>",
         "legendgroup": "lajeado do bugre",
         "marker": {
          "color": "#FF6692",
          "symbol": "circle"
         },
         "name": "lajeado do bugre",
         "showlegend": true,
         "type": "splom"
        },
        {
         "diagonal": {
          "visible": false
         },
         "dimensions": [
          {
           "axis": {
            "matches": true
           },
           "label": "PC1",
           "values": [
            1.6694844657284507
           ]
          },
          {
           "axis": {
            "matches": true
           },
           "label": "PC2",
           "values": [
            0.259450739145334
           ]
          },
          {
           "axis": {
            "matches": true
           },
           "label": "PC3",
           "values": [
            -0.03873409794846643
           ]
          },
          {
           "axis": {
            "matches": true
           },
           "label": "PC4",
           "values": [
            1.027020892588429
           ]
          }
         ],
         "hovertemplate": "municipios=cruz alta<br>%{xaxis.title.text}=%{x}<br>%{yaxis.title.text}=%{y}<extra></extra>",
         "legendgroup": "cruz alta",
         "marker": {
          "color": "#B6E880",
          "symbol": "circle"
         },
         "name": "cruz alta",
         "showlegend": true,
         "type": "splom"
        },
        {
         "diagonal": {
          "visible": false
         },
         "dimensions": [
          {
           "axis": {
            "matches": true
           },
           "label": "PC1",
           "values": [
            -0.6808111882307566
           ]
          },
          {
           "axis": {
            "matches": true
           },
           "label": "PC2",
           "values": [
            -0.44398524932702693
           ]
          },
          {
           "axis": {
            "matches": true
           },
           "label": "PC3",
           "values": [
            -0.08191465575768751
           ]
          },
          {
           "axis": {
            "matches": true
           },
           "label": "PC4",
           "values": [
            0.03993200888393918
           ]
          }
         ],
         "hovertemplate": "municipios=nova ramada<br>%{xaxis.title.text}=%{x}<br>%{yaxis.title.text}=%{y}<extra></extra>",
         "legendgroup": "nova ramada",
         "marker": {
          "color": "#FF97FF",
          "symbol": "circle"
         },
         "name": "nova ramada",
         "showlegend": true,
         "type": "splom"
        },
        {
         "diagonal": {
          "visible": false
         },
         "dimensions": [
          {
           "axis": {
            "matches": true
           },
           "label": "PC1",
           "values": [
            0.15978897242523282
           ]
          },
          {
           "axis": {
            "matches": true
           },
           "label": "PC2",
           "values": [
            2.3164693944515244
           ]
          },
          {
           "axis": {
            "matches": true
           },
           "label": "PC3",
           "values": [
            -0.3941495580259799
           ]
          },
          {
           "axis": {
            "matches": true
           },
           "label": "PC4",
           "values": [
            -0.2697818387365881
           ]
          }
         ],
         "hovertemplate": "municipios=jaguarao<br>%{xaxis.title.text}=%{x}<br>%{yaxis.title.text}=%{y}<extra></extra>",
         "legendgroup": "jaguarao",
         "marker": {
          "color": "#FECB52",
          "symbol": "circle"
         },
         "name": "jaguarao",
         "showlegend": true,
         "type": "splom"
        },
        {
         "diagonal": {
          "visible": false
         },
         "dimensions": [
          {
           "axis": {
            "matches": true
           },
           "label": "PC1",
           "values": [
            -0.1705063928647756
           ]
          },
          {
           "axis": {
            "matches": true
           },
           "label": "PC2",
           "values": [
            -0.47771776959155643
           ]
          },
          {
           "axis": {
            "matches": true
           },
           "label": "PC3",
           "values": [
            -0.03931370188405539
           ]
          },
          {
           "axis": {
            "matches": true
           },
           "label": "PC4",
           "values": [
            -0.02380820348851228
           ]
          }
         ],
         "hovertemplate": "municipios=nova petropolis<br>%{xaxis.title.text}=%{x}<br>%{yaxis.title.text}=%{y}<extra></extra>",
         "legendgroup": "nova petropolis",
         "marker": {
          "color": "#636efa",
          "symbol": "circle"
         },
         "name": "nova petropolis",
         "showlegend": true,
         "type": "splom"
        },
        {
         "diagonal": {
          "visible": false
         },
         "dimensions": [
          {
           "axis": {
            "matches": true
           },
           "label": "PC1",
           "values": [
            1.1056083366668523
           ]
          },
          {
           "axis": {
            "matches": true
           },
           "label": "PC2",
           "values": [
            -0.44189258972001144
           ]
          },
          {
           "axis": {
            "matches": true
           },
           "label": "PC3",
           "values": [
            0.03414800631289264
           ]
          },
          {
           "axis": {
            "matches": true
           },
           "label": "PC4",
           "values": [
            -0.9543365135720306
           ]
          }
         ],
         "hovertemplate": "municipios=charqueadas<br>%{xaxis.title.text}=%{x}<br>%{yaxis.title.text}=%{y}<extra></extra>",
         "legendgroup": "charqueadas",
         "marker": {
          "color": "#EF553B",
          "symbol": "circle"
         },
         "name": "charqueadas",
         "showlegend": true,
         "type": "splom"
        },
        {
         "diagonal": {
          "visible": false
         },
         "dimensions": [
          {
           "axis": {
            "matches": true
           },
           "label": "PC1",
           "values": [
            1.0877941016273636
           ]
          },
          {
           "axis": {
            "matches": true
           },
           "label": "PC2",
           "values": [
            0.04869280573174797
           ]
          },
          {
           "axis": {
            "matches": true
           },
           "label": "PC3",
           "values": [
            -0.03630385657516378
           ]
          },
          {
           "axis": {
            "matches": true
           },
           "label": "PC4",
           "values": [
            -0.3463252227455978
           ]
          }
         ],
         "hovertemplate": "municipios=torres<br>%{xaxis.title.text}=%{x}<br>%{yaxis.title.text}=%{y}<extra></extra>",
         "legendgroup": "torres",
         "marker": {
          "color": "#00cc96",
          "symbol": "circle"
         },
         "name": "torres",
         "showlegend": true,
         "type": "splom"
        },
        {
         "diagonal": {
          "visible": false
         },
         "dimensions": [
          {
           "axis": {
            "matches": true
           },
           "label": "PC1",
           "values": [
            0.19317399709202676
           ]
          },
          {
           "axis": {
            "matches": true
           },
           "label": "PC2",
           "values": [
            -0.4987587411780026
           ]
          },
          {
           "axis": {
            "matches": true
           },
           "label": "PC3",
           "values": [
            -0.017767289324428837
           ]
          },
          {
           "axis": {
            "matches": true
           },
           "label": "PC4",
           "values": [
            -0.008377408780860482
           ]
          }
         ],
         "hovertemplate": "municipios=sarandi<br>%{xaxis.title.text}=%{x}<br>%{yaxis.title.text}=%{y}<extra></extra>",
         "legendgroup": "sarandi",
         "marker": {
          "color": "#ab63fa",
          "symbol": "circle"
         },
         "name": "sarandi",
         "showlegend": true,
         "type": "splom"
        },
        {
         "diagonal": {
          "visible": false
         },
         "dimensions": [
          {
           "axis": {
            "matches": true
           },
           "label": "PC1",
           "values": [
            -0.6664164826033911
           ]
          },
          {
           "axis": {
            "matches": true
           },
           "label": "PC2",
           "values": [
            -0.38186668901744913
           ]
          },
          {
           "axis": {
            "matches": true
           },
           "label": "PC3",
           "values": [
            -0.08840210448337485
           ]
          },
          {
           "axis": {
            "matches": true
           },
           "label": "PC4",
           "values": [
            0.030490914713299698
           ]
          }
         ],
         "hovertemplate": "municipios=fortaleza dos valos<br>%{xaxis.title.text}=%{x}<br>%{yaxis.title.text}=%{y}<extra></extra>",
         "legendgroup": "fortaleza dos valos",
         "marker": {
          "color": "#FFA15A",
          "symbol": "circle"
         },
         "name": "fortaleza dos valos",
         "showlegend": true,
         "type": "splom"
        },
        {
         "diagonal": {
          "visible": false
         },
         "dimensions": [
          {
           "axis": {
            "matches": true
           },
           "label": "PC1",
           "values": [
            -0.690689879980427
           ]
          },
          {
           "axis": {
            "matches": true
           },
           "label": "PC2",
           "values": [
            -0.4447901151504178
           ]
          },
          {
           "axis": {
            "matches": true
           },
           "label": "PC3",
           "values": [
            -0.08231063310375127
           ]
          },
          {
           "axis": {
            "matches": true
           },
           "label": "PC4",
           "values": [
            0.034522586918068705
           ]
          }
         ],
         "hovertemplate": "municipios=almirante tamandare do sul<br>%{xaxis.title.text}=%{x}<br>%{yaxis.title.text}=%{y}<extra></extra>",
         "legendgroup": "almirante tamandare do sul",
         "marker": {
          "color": "#19d3f3",
          "symbol": "circle"
         },
         "name": "almirante tamandare do sul",
         "showlegend": true,
         "type": "splom"
        },
        {
         "diagonal": {
          "visible": false
         },
         "dimensions": [
          {
           "axis": {
            "matches": true
           },
           "label": "PC1",
           "values": [
            1.499242778238174
           ]
          },
          {
           "axis": {
            "matches": true
           },
           "label": "PC2",
           "values": [
            -0.6255616529597662
           ]
          },
          {
           "axis": {
            "matches": true
           },
           "label": "PC3",
           "values": [
            0.08000813380577744
           ]
          },
          {
           "axis": {
            "matches": true
           },
           "label": "PC4",
           "values": [
            0.5572460049044168
           ]
          }
         ],
         "hovertemplate": "municipios=esteio<br>%{xaxis.title.text}=%{x}<br>%{yaxis.title.text}=%{y}<extra></extra>",
         "legendgroup": "esteio",
         "marker": {
          "color": "#FF6692",
          "symbol": "circle"
         },
         "name": "esteio",
         "showlegend": true,
         "type": "splom"
        },
        {
         "diagonal": {
          "visible": false
         },
         "dimensions": [
          {
           "axis": {
            "matches": true
           },
           "label": "PC1",
           "values": [
            0.5492902964117184
           ]
          },
          {
           "axis": {
            "matches": true
           },
           "label": "PC2",
           "values": [
            0.042026746627124294
           ]
          },
          {
           "axis": {
            "matches": true
           },
           "label": "PC3",
           "values": [
            -0.06334163414298556
           ]
          },
          {
           "axis": {
            "matches": true
           },
           "label": "PC4",
           "values": [
            -0.3269675457665338
           ]
          }
         ],
         "hovertemplate": "municipios=frederico westphalen<br>%{xaxis.title.text}=%{x}<br>%{yaxis.title.text}=%{y}<extra></extra>",
         "legendgroup": "frederico westphalen",
         "marker": {
          "color": "#B6E880",
          "symbol": "circle"
         },
         "name": "frederico westphalen",
         "showlegend": true,
         "type": "splom"
        },
        {
         "diagonal": {
          "visible": false
         },
         "dimensions": [
          {
           "axis": {
            "matches": true
           },
           "label": "PC1",
           "values": [
            1.3673356993136878
           ]
          },
          {
           "axis": {
            "matches": true
           },
           "label": "PC2",
           "values": [
            -0.6239739454620542
           ]
          },
          {
           "axis": {
            "matches": true
           },
           "label": "PC3",
           "values": [
            0.0742226519406698
           ]
          },
          {
           "axis": {
            "matches": true
           },
           "label": "PC4",
           "values": [
            -0.43867722456665253
           ]
          }
         ],
         "hovertemplate": "municipios=canela<br>%{xaxis.title.text}=%{x}<br>%{yaxis.title.text}=%{y}<extra></extra>",
         "legendgroup": "canela",
         "marker": {
          "color": "#FF97FF",
          "symbol": "circle"
         },
         "name": "canela",
         "showlegend": true,
         "type": "splom"
        },
        {
         "diagonal": {
          "visible": false
         },
         "dimensions": [
          {
           "axis": {
            "matches": true
           },
           "label": "PC1",
           "values": [
            -0.16958585871903695
           ]
          },
          {
           "axis": {
            "matches": true
           },
           "label": "PC2",
           "values": [
            1.770382557316886
           ]
          },
          {
           "axis": {
            "matches": true
           },
           "label": "PC3",
           "values": [
            -0.34372944742120365
           ]
          },
          {
           "axis": {
            "matches": true
           },
           "label": "PC4",
           "values": [
            0.05616639114497483
           ]
          }
         ],
         "hovertemplate": "municipios=piratini<br>%{xaxis.title.text}=%{x}<br>%{yaxis.title.text}=%{y}<extra></extra>",
         "legendgroup": "piratini",
         "marker": {
          "color": "#FECB52",
          "symbol": "circle"
         },
         "name": "piratini",
         "showlegend": true,
         "type": "splom"
        },
        {
         "diagonal": {
          "visible": false
         },
         "dimensions": [
          {
           "axis": {
            "matches": true
           },
           "label": "PC1",
           "values": [
            -0.6492194348272707
           ]
          },
          {
           "axis": {
            "matches": true
           },
           "label": "PC2",
           "values": [
            -0.11895217362825887
           ]
          },
          {
           "axis": {
            "matches": true
           },
           "label": "PC3",
           "values": [
            -0.12223497363392953
           ]
          },
          {
           "axis": {
            "matches": true
           },
           "label": "PC4",
           "values": [
            0.019683339021454263
           ]
          }
         ],
         "hovertemplate": "municipios=vale verde<br>%{xaxis.title.text}=%{x}<br>%{yaxis.title.text}=%{y}<extra></extra>",
         "legendgroup": "vale verde",
         "marker": {
          "color": "#636efa",
          "symbol": "circle"
         },
         "name": "vale verde",
         "showlegend": true,
         "type": "splom"
        },
        {
         "diagonal": {
          "visible": false
         },
         "dimensions": [
          {
           "axis": {
            "matches": true
           },
           "label": "PC1",
           "values": [
            -0.3689186251462737
           ]
          },
          {
           "axis": {
            "matches": true
           },
           "label": "PC2",
           "values": [
            0.3957199257906421
           ]
          },
          {
           "axis": {
            "matches": true
           },
           "label": "PC3",
           "values": [
            -0.17125214481704717
           ]
          },
          {
           "axis": {
            "matches": true
           },
           "label": "PC4",
           "values": [
            0.03871155777603412
           ]
          }
         ],
         "hovertemplate": "municipios=restinga seca<br>%{xaxis.title.text}=%{x}<br>%{yaxis.title.text}=%{y}<extra></extra>",
         "legendgroup": "restinga seca",
         "marker": {
          "color": "#EF553B",
          "symbol": "circle"
         },
         "name": "restinga seca",
         "showlegend": true,
         "type": "splom"
        },
        {
         "diagonal": {
          "visible": false
         },
         "dimensions": [
          {
           "axis": {
            "matches": true
           },
           "label": "PC1",
           "values": [
            0.3343379694253419
           ]
          },
          {
           "axis": {
            "matches": true
           },
           "label": "PC2",
           "values": [
            0.42748040729739367
           ]
          },
          {
           "axis": {
            "matches": true
           },
           "label": "PC3",
           "values": [
            -0.12822985865529693
           ]
          },
          {
           "axis": {
            "matches": true
           },
           "label": "PC4",
           "values": [
            0.15280594869149278
           ]
          }
         ],
         "hovertemplate": "municipios=santo antonio da patrulha<br>%{xaxis.title.text}=%{x}<br>%{yaxis.title.text}=%{y}<extra></extra>",
         "legendgroup": "santo antonio da patrulha",
         "marker": {
          "color": "#00cc96",
          "symbol": "circle"
         },
         "name": "santo antonio da patrulha",
         "showlegend": true,
         "type": "splom"
        },
        {
         "diagonal": {
          "visible": false
         },
         "dimensions": [
          {
           "axis": {
            "matches": true
           },
           "label": "PC1",
           "values": [
            -0.49819854596551777
           ]
          },
          {
           "axis": {
            "matches": true
           },
           "label": "PC2",
           "values": [
            0.46602243559559725
           ]
          },
          {
           "axis": {
            "matches": true
           },
           "label": "PC3",
           "values": [
            -0.19162171846155007
           ]
          },
          {
           "axis": {
            "matches": true
           },
           "label": "PC4",
           "values": [
            -0.0006223487506607787
           ]
          }
         ],
         "hovertemplate": "municipios=passo do sobrado<br>%{xaxis.title.text}=%{x}<br>%{yaxis.title.text}=%{y}<extra></extra>",
         "legendgroup": "passo do sobrado",
         "marker": {
          "color": "#ab63fa",
          "symbol": "circle"
         },
         "name": "passo do sobrado",
         "showlegend": true,
         "type": "splom"
        },
        {
         "diagonal": {
          "visible": false
         },
         "dimensions": [
          {
           "axis": {
            "matches": true
           },
           "label": "PC1",
           "values": [
            -0.37417798394684093
           ]
          },
          {
           "axis": {
            "matches": true
           },
           "label": "PC2",
           "values": [
            0.7028043539428285
           ]
          },
          {
           "axis": {
            "matches": true
           },
           "label": "PC3",
           "values": [
            2.212216210170442
           ]
          },
          {
           "axis": {
            "matches": true
           },
           "label": "PC4",
           "values": [
            0.007424774649592214
           ]
          }
         ],
         "hovertemplate": "municipios=sao sepe<br>%{xaxis.title.text}=%{x}<br>%{yaxis.title.text}=%{y}<extra></extra>",
         "legendgroup": "sao sepe",
         "marker": {
          "color": "#FFA15A",
          "symbol": "circle"
         },
         "name": "sao sepe",
         "showlegend": true,
         "type": "splom"
        }
       ],
       "layout": {
        "dragmode": "select",
        "legend": {
         "title": {
          "text": "municipios"
         },
         "tracegroupgap": 0
        },
        "template": {
         "data": {
          "bar": [
           {
            "error_x": {
             "color": "#2a3f5f"
            },
            "error_y": {
             "color": "#2a3f5f"
            },
            "marker": {
             "line": {
              "color": "#E5ECF6",
              "width": 0.5
             },
             "pattern": {
              "fillmode": "overlay",
              "size": 10,
              "solidity": 0.2
             }
            },
            "type": "bar"
           }
          ],
          "barpolar": [
           {
            "marker": {
             "line": {
              "color": "#E5ECF6",
              "width": 0.5
             },
             "pattern": {
              "fillmode": "overlay",
              "size": 10,
              "solidity": 0.2
             }
            },
            "type": "barpolar"
           }
          ],
          "carpet": [
           {
            "aaxis": {
             "endlinecolor": "#2a3f5f",
             "gridcolor": "white",
             "linecolor": "white",
             "minorgridcolor": "white",
             "startlinecolor": "#2a3f5f"
            },
            "baxis": {
             "endlinecolor": "#2a3f5f",
             "gridcolor": "white",
             "linecolor": "white",
             "minorgridcolor": "white",
             "startlinecolor": "#2a3f5f"
            },
            "type": "carpet"
           }
          ],
          "choropleth": [
           {
            "colorbar": {
             "outlinewidth": 0,
             "ticks": ""
            },
            "type": "choropleth"
           }
          ],
          "contour": [
           {
            "colorbar": {
             "outlinewidth": 0,
             "ticks": ""
            },
            "colorscale": [
             [
              0,
              "#0d0887"
             ],
             [
              0.1111111111111111,
              "#46039f"
             ],
             [
              0.2222222222222222,
              "#7201a8"
             ],
             [
              0.3333333333333333,
              "#9c179e"
             ],
             [
              0.4444444444444444,
              "#bd3786"
             ],
             [
              0.5555555555555556,
              "#d8576b"
             ],
             [
              0.6666666666666666,
              "#ed7953"
             ],
             [
              0.7777777777777778,
              "#fb9f3a"
             ],
             [
              0.8888888888888888,
              "#fdca26"
             ],
             [
              1,
              "#f0f921"
             ]
            ],
            "type": "contour"
           }
          ],
          "contourcarpet": [
           {
            "colorbar": {
             "outlinewidth": 0,
             "ticks": ""
            },
            "type": "contourcarpet"
           }
          ],
          "heatmap": [
           {
            "colorbar": {
             "outlinewidth": 0,
             "ticks": ""
            },
            "colorscale": [
             [
              0,
              "#0d0887"
             ],
             [
              0.1111111111111111,
              "#46039f"
             ],
             [
              0.2222222222222222,
              "#7201a8"
             ],
             [
              0.3333333333333333,
              "#9c179e"
             ],
             [
              0.4444444444444444,
              "#bd3786"
             ],
             [
              0.5555555555555556,
              "#d8576b"
             ],
             [
              0.6666666666666666,
              "#ed7953"
             ],
             [
              0.7777777777777778,
              "#fb9f3a"
             ],
             [
              0.8888888888888888,
              "#fdca26"
             ],
             [
              1,
              "#f0f921"
             ]
            ],
            "type": "heatmap"
           }
          ],
          "heatmapgl": [
           {
            "colorbar": {
             "outlinewidth": 0,
             "ticks": ""
            },
            "colorscale": [
             [
              0,
              "#0d0887"
             ],
             [
              0.1111111111111111,
              "#46039f"
             ],
             [
              0.2222222222222222,
              "#7201a8"
             ],
             [
              0.3333333333333333,
              "#9c179e"
             ],
             [
              0.4444444444444444,
              "#bd3786"
             ],
             [
              0.5555555555555556,
              "#d8576b"
             ],
             [
              0.6666666666666666,
              "#ed7953"
             ],
             [
              0.7777777777777778,
              "#fb9f3a"
             ],
             [
              0.8888888888888888,
              "#fdca26"
             ],
             [
              1,
              "#f0f921"
             ]
            ],
            "type": "heatmapgl"
           }
          ],
          "histogram": [
           {
            "marker": {
             "pattern": {
              "fillmode": "overlay",
              "size": 10,
              "solidity": 0.2
             }
            },
            "type": "histogram"
           }
          ],
          "histogram2d": [
           {
            "colorbar": {
             "outlinewidth": 0,
             "ticks": ""
            },
            "colorscale": [
             [
              0,
              "#0d0887"
             ],
             [
              0.1111111111111111,
              "#46039f"
             ],
             [
              0.2222222222222222,
              "#7201a8"
             ],
             [
              0.3333333333333333,
              "#9c179e"
             ],
             [
              0.4444444444444444,
              "#bd3786"
             ],
             [
              0.5555555555555556,
              "#d8576b"
             ],
             [
              0.6666666666666666,
              "#ed7953"
             ],
             [
              0.7777777777777778,
              "#fb9f3a"
             ],
             [
              0.8888888888888888,
              "#fdca26"
             ],
             [
              1,
              "#f0f921"
             ]
            ],
            "type": "histogram2d"
           }
          ],
          "histogram2dcontour": [
           {
            "colorbar": {
             "outlinewidth": 0,
             "ticks": ""
            },
            "colorscale": [
             [
              0,
              "#0d0887"
             ],
             [
              0.1111111111111111,
              "#46039f"
             ],
             [
              0.2222222222222222,
              "#7201a8"
             ],
             [
              0.3333333333333333,
              "#9c179e"
             ],
             [
              0.4444444444444444,
              "#bd3786"
             ],
             [
              0.5555555555555556,
              "#d8576b"
             ],
             [
              0.6666666666666666,
              "#ed7953"
             ],
             [
              0.7777777777777778,
              "#fb9f3a"
             ],
             [
              0.8888888888888888,
              "#fdca26"
             ],
             [
              1,
              "#f0f921"
             ]
            ],
            "type": "histogram2dcontour"
           }
          ],
          "mesh3d": [
           {
            "colorbar": {
             "outlinewidth": 0,
             "ticks": ""
            },
            "type": "mesh3d"
           }
          ],
          "parcoords": [
           {
            "line": {
             "colorbar": {
              "outlinewidth": 0,
              "ticks": ""
             }
            },
            "type": "parcoords"
           }
          ],
          "pie": [
           {
            "automargin": true,
            "type": "pie"
           }
          ],
          "scatter": [
           {
            "fillpattern": {
             "fillmode": "overlay",
             "size": 10,
             "solidity": 0.2
            },
            "type": "scatter"
           }
          ],
          "scatter3d": [
           {
            "line": {
             "colorbar": {
              "outlinewidth": 0,
              "ticks": ""
             }
            },
            "marker": {
             "colorbar": {
              "outlinewidth": 0,
              "ticks": ""
             }
            },
            "type": "scatter3d"
           }
          ],
          "scattercarpet": [
           {
            "marker": {
             "colorbar": {
              "outlinewidth": 0,
              "ticks": ""
             }
            },
            "type": "scattercarpet"
           }
          ],
          "scattergeo": [
           {
            "marker": {
             "colorbar": {
              "outlinewidth": 0,
              "ticks": ""
             }
            },
            "type": "scattergeo"
           }
          ],
          "scattergl": [
           {
            "marker": {
             "colorbar": {
              "outlinewidth": 0,
              "ticks": ""
             }
            },
            "type": "scattergl"
           }
          ],
          "scattermapbox": [
           {
            "marker": {
             "colorbar": {
              "outlinewidth": 0,
              "ticks": ""
             }
            },
            "type": "scattermapbox"
           }
          ],
          "scatterpolar": [
           {
            "marker": {
             "colorbar": {
              "outlinewidth": 0,
              "ticks": ""
             }
            },
            "type": "scatterpolar"
           }
          ],
          "scatterpolargl": [
           {
            "marker": {
             "colorbar": {
              "outlinewidth": 0,
              "ticks": ""
             }
            },
            "type": "scatterpolargl"
           }
          ],
          "scatterternary": [
           {
            "marker": {
             "colorbar": {
              "outlinewidth": 0,
              "ticks": ""
             }
            },
            "type": "scatterternary"
           }
          ],
          "surface": [
           {
            "colorbar": {
             "outlinewidth": 0,
             "ticks": ""
            },
            "colorscale": [
             [
              0,
              "#0d0887"
             ],
             [
              0.1111111111111111,
              "#46039f"
             ],
             [
              0.2222222222222222,
              "#7201a8"
             ],
             [
              0.3333333333333333,
              "#9c179e"
             ],
             [
              0.4444444444444444,
              "#bd3786"
             ],
             [
              0.5555555555555556,
              "#d8576b"
             ],
             [
              0.6666666666666666,
              "#ed7953"
             ],
             [
              0.7777777777777778,
              "#fb9f3a"
             ],
             [
              0.8888888888888888,
              "#fdca26"
             ],
             [
              1,
              "#f0f921"
             ]
            ],
            "type": "surface"
           }
          ],
          "table": [
           {
            "cells": {
             "fill": {
              "color": "#EBF0F8"
             },
             "line": {
              "color": "white"
             }
            },
            "header": {
             "fill": {
              "color": "#C8D4E3"
             },
             "line": {
              "color": "white"
             }
            },
            "type": "table"
           }
          ]
         },
         "layout": {
          "annotationdefaults": {
           "arrowcolor": "#2a3f5f",
           "arrowhead": 0,
           "arrowwidth": 1
          },
          "autotypenumbers": "strict",
          "coloraxis": {
           "colorbar": {
            "outlinewidth": 0,
            "ticks": ""
           }
          },
          "colorscale": {
           "diverging": [
            [
             0,
             "#8e0152"
            ],
            [
             0.1,
             "#c51b7d"
            ],
            [
             0.2,
             "#de77ae"
            ],
            [
             0.3,
             "#f1b6da"
            ],
            [
             0.4,
             "#fde0ef"
            ],
            [
             0.5,
             "#f7f7f7"
            ],
            [
             0.6,
             "#e6f5d0"
            ],
            [
             0.7,
             "#b8e186"
            ],
            [
             0.8,
             "#7fbc41"
            ],
            [
             0.9,
             "#4d9221"
            ],
            [
             1,
             "#276419"
            ]
           ],
           "sequential": [
            [
             0,
             "#0d0887"
            ],
            [
             0.1111111111111111,
             "#46039f"
            ],
            [
             0.2222222222222222,
             "#7201a8"
            ],
            [
             0.3333333333333333,
             "#9c179e"
            ],
            [
             0.4444444444444444,
             "#bd3786"
            ],
            [
             0.5555555555555556,
             "#d8576b"
            ],
            [
             0.6666666666666666,
             "#ed7953"
            ],
            [
             0.7777777777777778,
             "#fb9f3a"
            ],
            [
             0.8888888888888888,
             "#fdca26"
            ],
            [
             1,
             "#f0f921"
            ]
           ],
           "sequentialminus": [
            [
             0,
             "#0d0887"
            ],
            [
             0.1111111111111111,
             "#46039f"
            ],
            [
             0.2222222222222222,
             "#7201a8"
            ],
            [
             0.3333333333333333,
             "#9c179e"
            ],
            [
             0.4444444444444444,
             "#bd3786"
            ],
            [
             0.5555555555555556,
             "#d8576b"
            ],
            [
             0.6666666666666666,
             "#ed7953"
            ],
            [
             0.7777777777777778,
             "#fb9f3a"
            ],
            [
             0.8888888888888888,
             "#fdca26"
            ],
            [
             1,
             "#f0f921"
            ]
           ]
          },
          "colorway": [
           "#636efa",
           "#EF553B",
           "#00cc96",
           "#ab63fa",
           "#FFA15A",
           "#19d3f3",
           "#FF6692",
           "#B6E880",
           "#FF97FF",
           "#FECB52"
          ],
          "font": {
           "color": "#2a3f5f"
          },
          "geo": {
           "bgcolor": "white",
           "lakecolor": "white",
           "landcolor": "#E5ECF6",
           "showlakes": true,
           "showland": true,
           "subunitcolor": "white"
          },
          "hoverlabel": {
           "align": "left"
          },
          "hovermode": "closest",
          "mapbox": {
           "style": "light"
          },
          "paper_bgcolor": "white",
          "plot_bgcolor": "#E5ECF6",
          "polar": {
           "angularaxis": {
            "gridcolor": "white",
            "linecolor": "white",
            "ticks": ""
           },
           "bgcolor": "#E5ECF6",
           "radialaxis": {
            "gridcolor": "white",
            "linecolor": "white",
            "ticks": ""
           }
          },
          "scene": {
           "xaxis": {
            "backgroundcolor": "#E5ECF6",
            "gridcolor": "white",
            "gridwidth": 2,
            "linecolor": "white",
            "showbackground": true,
            "ticks": "",
            "zerolinecolor": "white"
           },
           "yaxis": {
            "backgroundcolor": "#E5ECF6",
            "gridcolor": "white",
            "gridwidth": 2,
            "linecolor": "white",
            "showbackground": true,
            "ticks": "",
            "zerolinecolor": "white"
           },
           "zaxis": {
            "backgroundcolor": "#E5ECF6",
            "gridcolor": "white",
            "gridwidth": 2,
            "linecolor": "white",
            "showbackground": true,
            "ticks": "",
            "zerolinecolor": "white"
           }
          },
          "shapedefaults": {
           "line": {
            "color": "#2a3f5f"
           }
          },
          "ternary": {
           "aaxis": {
            "gridcolor": "white",
            "linecolor": "white",
            "ticks": ""
           },
           "baxis": {
            "gridcolor": "white",
            "linecolor": "white",
            "ticks": ""
           },
           "bgcolor": "#E5ECF6",
           "caxis": {
            "gridcolor": "white",
            "linecolor": "white",
            "ticks": ""
           }
          },
          "title": {
           "x": 0.05
          },
          "xaxis": {
           "automargin": true,
           "gridcolor": "white",
           "linecolor": "white",
           "ticks": "",
           "title": {
            "standoff": 15
           },
           "zerolinecolor": "white",
           "zerolinewidth": 2
          },
          "yaxis": {
           "automargin": true,
           "gridcolor": "white",
           "linecolor": "white",
           "ticks": "",
           "title": {
            "standoff": 15
           },
           "zerolinecolor": "white",
           "zerolinewidth": 2
          }
         }
        },
        "title": {
         "text": "Taxa Total de Variancia Explicada por 4 PC: 93.27%"
        }
       }
      }
     },
     "metadata": {},
     "output_type": "display_data"
    },
    {
     "data": {
      "text/plain": [
       "' Foi utilizado a biblioteca Plotly para a visualização dos dados. Documentação do gráfico PCA: https://plotly.com/python/pca-visualization/'"
      ]
     },
     "execution_count": 290,
     "metadata": {},
     "output_type": "execute_result"
    }
   ],
   "source": [
    "total_var = pca.explained_variance_ratio_.sum() * 100\n",
    "\n",
    "fig = px.scatter_matrix(\n",
    "    df_pca,\n",
    "    title=f'Taxa Total de Variancia Explicada por 4 PC: {total_var:.2f}%',\n",
    "    dimensions=df_pca.columns,\n",
    "    color=df_pca.index,\n",
    ")\n",
    "fig.update_traces(diagonal_visible=False)\n",
    "fig.show()\n",
    "\n",
    "\"\"\" Foi utilizado a biblioteca Plotly para a visualização dos dados. Documentação do gráfico PCA: https://plotly.com/python/pca-visualization/\"\"\""
   ]
  },
  {
   "cell_type": "code",
   "execution_count": 291,
   "metadata": {},
   "outputs": [
    {
     "data": {
      "application/vnd.plotly.v1+json": {
       "config": {
        "plotlyServerURL": "https://plot.ly"
       },
       "data": [
        {
         "hovertemplate": "Município=hulha negra<br>PC1=%{x}<br>PC2=%{y}<extra></extra>",
         "legendgroup": "hulha negra",
         "marker": {
          "color": "#636efa",
          "symbol": "circle"
         },
         "mode": "markers",
         "name": "hulha negra",
         "orientation": "v",
         "showlegend": true,
         "type": "scatter",
         "x": [
          -0.6015571329880844
         ],
         "xaxis": "x",
         "y": [
          0.07544342454418398
         ],
         "yaxis": "y"
        },
        {
         "hovertemplate": "Município=sao valentim do sul<br>PC1=%{x}<br>PC2=%{y}<extra></extra>",
         "legendgroup": "sao valentim do sul",
         "marker": {
          "color": "#EF553B",
          "symbol": "circle"
         },
         "mode": "markers",
         "name": "sao valentim do sul",
         "orientation": "v",
         "showlegend": true,
         "type": "scatter",
         "x": [
          -0.6823135300808117
         ],
         "xaxis": "x",
         "y": [
          -0.5122535820251146
         ],
         "yaxis": "y"
        },
        {
         "hovertemplate": "Município=xangri-la<br>PC1=%{x}<br>PC2=%{y}<extra></extra>",
         "legendgroup": "xangri-la",
         "marker": {
          "color": "#00cc96",
          "symbol": "circle"
         },
         "mode": "markers",
         "name": "xangri-la",
         "orientation": "v",
         "showlegend": true,
         "type": "scatter",
         "x": [
          0.04440365794186637
         ],
         "xaxis": "x",
         "y": [
          -0.43408343002895794
         ],
         "yaxis": "y"
        },
        {
         "hovertemplate": "Município=nova padua<br>PC1=%{x}<br>PC2=%{y}<extra></extra>",
         "legendgroup": "nova padua",
         "marker": {
          "color": "#ab63fa",
          "symbol": "circle"
         },
         "mode": "markers",
         "name": "nova padua",
         "orientation": "v",
         "showlegend": true,
         "type": "scatter",
         "x": [
          -0.7103976257434185
         ],
         "xaxis": "x",
         "y": [
          -0.5124422393091553
         ],
         "yaxis": "y"
        },
        {
         "hovertemplate": "Município=catuipe<br>PC1=%{x}<br>PC2=%{y}<extra></extra>",
         "legendgroup": "catuipe",
         "marker": {
          "color": "#FFA15A",
          "symbol": "circle"
         },
         "mode": "markers",
         "name": "catuipe",
         "orientation": "v",
         "showlegend": true,
         "type": "scatter",
         "x": [
          -0.4794460102159635
         ],
         "xaxis": "x",
         "y": [
          -0.042583954964437974
         ],
         "yaxis": "y"
        },
        {
         "hovertemplate": "Município=esmeralda<br>PC1=%{x}<br>PC2=%{y}<extra></extra>",
         "legendgroup": "esmeralda",
         "marker": {
          "color": "#19d3f3",
          "symbol": "circle"
         },
         "mode": "markers",
         "name": "esmeralda",
         "orientation": "v",
         "showlegend": true,
         "type": "scatter",
         "x": [
          -0.5868409829748974
         ],
         "xaxis": "x",
         "y": [
          -0.43621161192641666
         ],
         "yaxis": "y"
        },
        {
         "hovertemplate": "Município=lajeado do bugre<br>PC1=%{x}<br>PC2=%{y}<extra></extra>",
         "legendgroup": "lajeado do bugre",
         "marker": {
          "color": "#FF6692",
          "symbol": "circle"
         },
         "mode": "markers",
         "name": "lajeado do bugre",
         "orientation": "v",
         "showlegend": true,
         "type": "scatter",
         "x": [
          -0.6813806005832485
         ],
         "xaxis": "x",
         "y": [
          -0.5094190461546351
         ],
         "yaxis": "y"
        },
        {
         "hovertemplate": "Município=cruz alta<br>PC1=%{x}<br>PC2=%{y}<extra></extra>",
         "legendgroup": "cruz alta",
         "marker": {
          "color": "#B6E880",
          "symbol": "circle"
         },
         "mode": "markers",
         "name": "cruz alta",
         "orientation": "v",
         "showlegend": true,
         "type": "scatter",
         "x": [
          1.6694844657284507
         ],
         "xaxis": "x",
         "y": [
          0.259450739145334
         ],
         "yaxis": "y"
        },
        {
         "hovertemplate": "Município=nova ramada<br>PC1=%{x}<br>PC2=%{y}<extra></extra>",
         "legendgroup": "nova ramada",
         "marker": {
          "color": "#FF97FF",
          "symbol": "circle"
         },
         "mode": "markers",
         "name": "nova ramada",
         "orientation": "v",
         "showlegend": true,
         "type": "scatter",
         "x": [
          -0.6808111882307566
         ],
         "xaxis": "x",
         "y": [
          -0.44398524932702693
         ],
         "yaxis": "y"
        },
        {
         "hovertemplate": "Município=jaguarao<br>PC1=%{x}<br>PC2=%{y}<extra></extra>",
         "legendgroup": "jaguarao",
         "marker": {
          "color": "#FECB52",
          "symbol": "circle"
         },
         "mode": "markers",
         "name": "jaguarao",
         "orientation": "v",
         "showlegend": true,
         "type": "scatter",
         "x": [
          0.15978897242523282
         ],
         "xaxis": "x",
         "y": [
          2.3164693944515244
         ],
         "yaxis": "y"
        },
        {
         "hovertemplate": "Município=nova petropolis<br>PC1=%{x}<br>PC2=%{y}<extra></extra>",
         "legendgroup": "nova petropolis",
         "marker": {
          "color": "#636efa",
          "symbol": "circle"
         },
         "mode": "markers",
         "name": "nova petropolis",
         "orientation": "v",
         "showlegend": true,
         "type": "scatter",
         "x": [
          -0.1705063928647756
         ],
         "xaxis": "x",
         "y": [
          -0.47771776959155643
         ],
         "yaxis": "y"
        },
        {
         "hovertemplate": "Município=charqueadas<br>PC1=%{x}<br>PC2=%{y}<extra></extra>",
         "legendgroup": "charqueadas",
         "marker": {
          "color": "#EF553B",
          "symbol": "circle"
         },
         "mode": "markers",
         "name": "charqueadas",
         "orientation": "v",
         "showlegend": true,
         "type": "scatter",
         "x": [
          1.1056083366668523
         ],
         "xaxis": "x",
         "y": [
          -0.44189258972001144
         ],
         "yaxis": "y"
        },
        {
         "hovertemplate": "Município=torres<br>PC1=%{x}<br>PC2=%{y}<extra></extra>",
         "legendgroup": "torres",
         "marker": {
          "color": "#00cc96",
          "symbol": "circle"
         },
         "mode": "markers",
         "name": "torres",
         "orientation": "v",
         "showlegend": true,
         "type": "scatter",
         "x": [
          1.0877941016273636
         ],
         "xaxis": "x",
         "y": [
          0.04869280573174797
         ],
         "yaxis": "y"
        },
        {
         "hovertemplate": "Município=sarandi<br>PC1=%{x}<br>PC2=%{y}<extra></extra>",
         "legendgroup": "sarandi",
         "marker": {
          "color": "#ab63fa",
          "symbol": "circle"
         },
         "mode": "markers",
         "name": "sarandi",
         "orientation": "v",
         "showlegend": true,
         "type": "scatter",
         "x": [
          0.19317399709202676
         ],
         "xaxis": "x",
         "y": [
          -0.4987587411780026
         ],
         "yaxis": "y"
        },
        {
         "hovertemplate": "Município=fortaleza dos valos<br>PC1=%{x}<br>PC2=%{y}<extra></extra>",
         "legendgroup": "fortaleza dos valos",
         "marker": {
          "color": "#FFA15A",
          "symbol": "circle"
         },
         "mode": "markers",
         "name": "fortaleza dos valos",
         "orientation": "v",
         "showlegend": true,
         "type": "scatter",
         "x": [
          -0.6664164826033911
         ],
         "xaxis": "x",
         "y": [
          -0.38186668901744913
         ],
         "yaxis": "y"
        },
        {
         "hovertemplate": "Município=almirante tamandare do sul<br>PC1=%{x}<br>PC2=%{y}<extra></extra>",
         "legendgroup": "almirante tamandare do sul",
         "marker": {
          "color": "#19d3f3",
          "symbol": "circle"
         },
         "mode": "markers",
         "name": "almirante tamandare do sul",
         "orientation": "v",
         "showlegend": true,
         "type": "scatter",
         "x": [
          -0.690689879980427
         ],
         "xaxis": "x",
         "y": [
          -0.4447901151504178
         ],
         "yaxis": "y"
        },
        {
         "hovertemplate": "Município=esteio<br>PC1=%{x}<br>PC2=%{y}<extra></extra>",
         "legendgroup": "esteio",
         "marker": {
          "color": "#FF6692",
          "symbol": "circle"
         },
         "mode": "markers",
         "name": "esteio",
         "orientation": "v",
         "showlegend": true,
         "type": "scatter",
         "x": [
          1.499242778238174
         ],
         "xaxis": "x",
         "y": [
          -0.6255616529597662
         ],
         "yaxis": "y"
        },
        {
         "hovertemplate": "Município=frederico westphalen<br>PC1=%{x}<br>PC2=%{y}<extra></extra>",
         "legendgroup": "frederico westphalen",
         "marker": {
          "color": "#B6E880",
          "symbol": "circle"
         },
         "mode": "markers",
         "name": "frederico westphalen",
         "orientation": "v",
         "showlegend": true,
         "type": "scatter",
         "x": [
          0.5492902964117184
         ],
         "xaxis": "x",
         "y": [
          0.042026746627124294
         ],
         "yaxis": "y"
        },
        {
         "hovertemplate": "Município=canela<br>PC1=%{x}<br>PC2=%{y}<extra></extra>",
         "legendgroup": "canela",
         "marker": {
          "color": "#FF97FF",
          "symbol": "circle"
         },
         "mode": "markers",
         "name": "canela",
         "orientation": "v",
         "showlegend": true,
         "type": "scatter",
         "x": [
          1.3673356993136878
         ],
         "xaxis": "x",
         "y": [
          -0.6239739454620542
         ],
         "yaxis": "y"
        },
        {
         "hovertemplate": "Município=piratini<br>PC1=%{x}<br>PC2=%{y}<extra></extra>",
         "legendgroup": "piratini",
         "marker": {
          "color": "#FECB52",
          "symbol": "circle"
         },
         "mode": "markers",
         "name": "piratini",
         "orientation": "v",
         "showlegend": true,
         "type": "scatter",
         "x": [
          -0.16958585871903695
         ],
         "xaxis": "x",
         "y": [
          1.770382557316886
         ],
         "yaxis": "y"
        },
        {
         "hovertemplate": "Município=vale verde<br>PC1=%{x}<br>PC2=%{y}<extra></extra>",
         "legendgroup": "vale verde",
         "marker": {
          "color": "#636efa",
          "symbol": "circle"
         },
         "mode": "markers",
         "name": "vale verde",
         "orientation": "v",
         "showlegend": true,
         "type": "scatter",
         "x": [
          -0.6492194348272707
         ],
         "xaxis": "x",
         "y": [
          -0.11895217362825887
         ],
         "yaxis": "y"
        },
        {
         "hovertemplate": "Município=restinga seca<br>PC1=%{x}<br>PC2=%{y}<extra></extra>",
         "legendgroup": "restinga seca",
         "marker": {
          "color": "#EF553B",
          "symbol": "circle"
         },
         "mode": "markers",
         "name": "restinga seca",
         "orientation": "v",
         "showlegend": true,
         "type": "scatter",
         "x": [
          -0.3689186251462737
         ],
         "xaxis": "x",
         "y": [
          0.3957199257906421
         ],
         "yaxis": "y"
        },
        {
         "hovertemplate": "Município=santo antonio da patrulha<br>PC1=%{x}<br>PC2=%{y}<extra></extra>",
         "legendgroup": "santo antonio da patrulha",
         "marker": {
          "color": "#00cc96",
          "symbol": "circle"
         },
         "mode": "markers",
         "name": "santo antonio da patrulha",
         "orientation": "v",
         "showlegend": true,
         "type": "scatter",
         "x": [
          0.3343379694253419
         ],
         "xaxis": "x",
         "y": [
          0.42748040729739367
         ],
         "yaxis": "y"
        },
        {
         "hovertemplate": "Município=passo do sobrado<br>PC1=%{x}<br>PC2=%{y}<extra></extra>",
         "legendgroup": "passo do sobrado",
         "marker": {
          "color": "#ab63fa",
          "symbol": "circle"
         },
         "mode": "markers",
         "name": "passo do sobrado",
         "orientation": "v",
         "showlegend": true,
         "type": "scatter",
         "x": [
          -0.49819854596551777
         ],
         "xaxis": "x",
         "y": [
          0.46602243559559725
         ],
         "yaxis": "y"
        },
        {
         "hovertemplate": "Município=sao sepe<br>PC1=%{x}<br>PC2=%{y}<extra></extra>",
         "legendgroup": "sao sepe",
         "marker": {
          "color": "#FFA15A",
          "symbol": "circle"
         },
         "mode": "markers",
         "name": "sao sepe",
         "orientation": "v",
         "showlegend": true,
         "type": "scatter",
         "x": [
          -0.37417798394684093
         ],
         "xaxis": "x",
         "y": [
          0.7028043539428285
         ],
         "yaxis": "y"
        }
       ],
       "layout": {
        "annotations": [
         {
          "arrowhead": 2,
          "arrowsize": 2,
          "ax": 0,
          "axref": "x",
          "ay": 0,
          "ayref": "y",
          "showarrow": true,
          "x": 0.20111919594860814,
          "xanchor": "right",
          "y": 0.0211826038859755,
          "yanchor": "top"
         },
         {
          "ax": 0,
          "ay": 0,
          "text": "homicidio_doloso",
          "x": 0.20111919594860814,
          "xanchor": "center",
          "y": 0.0211826038859755,
          "yanchor": "bottom",
          "yshift": 5
         },
         {
          "arrowhead": 2,
          "arrowsize": 2,
          "ax": 0,
          "axref": "x",
          "ay": 0,
          "ayref": "y",
          "showarrow": true,
          "x": 0.18343872629991415,
          "xanchor": "right",
          "y": 0.0025932885071106413,
          "yanchor": "top"
         },
         {
          "ax": 0,
          "ay": 0,
          "text": "furtos",
          "x": 0.18343872629991415,
          "xanchor": "center",
          "y": 0.0025932885071106413,
          "yanchor": "bottom",
          "yshift": 5
         },
         {
          "arrowhead": 2,
          "arrowsize": 2,
          "ax": 0,
          "axref": "x",
          "ay": 0,
          "ayref": "y",
          "showarrow": true,
          "x": 0.05547704518741222,
          "xanchor": "right",
          "y": 0.7173502098647939,
          "yanchor": "top"
         },
         {
          "ax": 0,
          "ay": 0,
          "text": "abigeato",
          "x": 0.05547704518741222,
          "xanchor": "center",
          "y": 0.7173502098647939,
          "yanchor": "bottom",
          "yshift": 5
         },
         {
          "arrowhead": 2,
          "arrowsize": 2,
          "ax": 0,
          "axref": "x",
          "ay": 0,
          "ayref": "y",
          "showarrow": true,
          "x": 0.1650958780619334,
          "xanchor": "right",
          "y": -0.006267138215819802,
          "yanchor": "top"
         },
         {
          "ax": 0,
          "ay": 0,
          "text": "furto_veiculo",
          "x": 0.1650958780619334,
          "xanchor": "center",
          "y": -0.006267138215819802,
          "yanchor": "bottom",
          "yshift": 5
         },
         {
          "arrowhead": 2,
          "arrowsize": 2,
          "ax": 0,
          "axref": "x",
          "ay": 0,
          "ayref": "y",
          "showarrow": true,
          "x": 0.054115135990408667,
          "xanchor": "right",
          "y": -0.008052197541310419,
          "yanchor": "top"
         },
         {
          "ax": 0,
          "ay": 0,
          "text": "roubos",
          "x": 0.054115135990408667,
          "xanchor": "center",
          "y": -0.008052197541310419,
          "yanchor": "bottom",
          "yshift": 5
         },
         {
          "arrowhead": 2,
          "arrowsize": 2,
          "ax": 0,
          "axref": "x",
          "ay": 0,
          "ayref": "y",
          "showarrow": true,
          "x": 0.05252945696423721,
          "xanchor": "right",
          "y": -0.01149542272307532,
          "yanchor": "top"
         },
         {
          "ax": 0,
          "ay": 0,
          "text": "roubo_veiculo",
          "x": 0.05252945696423721,
          "xanchor": "center",
          "y": -0.01149542272307532,
          "yanchor": "bottom",
          "yshift": 5
         },
         {
          "arrowhead": 2,
          "arrowsize": 2,
          "ax": 0,
          "axref": "x",
          "ay": 0,
          "ayref": "y",
          "showarrow": true,
          "x": 0.2521948671394567,
          "xanchor": "right",
          "y": -0.036581633797717346,
          "yanchor": "top"
         },
         {
          "ax": 0,
          "ay": 0,
          "text": "estelionato",
          "x": 0.2521948671394567,
          "xanchor": "center",
          "y": -0.036581633797717346,
          "yanchor": "bottom",
          "yshift": 5
         },
         {
          "arrowhead": 2,
          "arrowsize": 2,
          "ax": 0,
          "axref": "x",
          "ay": 0,
          "ayref": "y",
          "showarrow": true,
          "x": 0.27022933976646757,
          "xanchor": "right",
          "y": 0.03522173801770337,
          "yanchor": "top"
         },
         {
          "ax": 0,
          "ay": 0,
          "text": "delitos_armas_municoes",
          "x": 0.27022933976646757,
          "xanchor": "center",
          "y": 0.03522173801770337,
          "yanchor": "bottom",
          "yshift": 5
         },
         {
          "arrowhead": 2,
          "arrowsize": 2,
          "ax": 0,
          "axref": "x",
          "ay": 0,
          "ayref": "y",
          "showarrow": true,
          "x": 0.4421627219580853,
          "xanchor": "right",
          "y": -0.06895984063050815,
          "yanchor": "top"
         },
         {
          "ax": 0,
          "ay": 0,
          "text": "entorpecente_posse",
          "x": 0.4421627219580853,
          "xanchor": "center",
          "y": -0.06895984063050815,
          "yanchor": "bottom",
          "yshift": 5
         },
         {
          "arrowhead": 2,
          "arrowsize": 2,
          "ax": 0,
          "axref": "x",
          "ay": 0,
          "ayref": "y",
          "showarrow": true,
          "x": 0.30731953535650935,
          "xanchor": "right",
          "y": -0.03632809958562098,
          "yanchor": "top"
         },
         {
          "ax": 0,
          "ay": 0,
          "text": "entorpecente_trafico",
          "x": 0.30731953535650935,
          "xanchor": "center",
          "y": -0.03632809958562098,
          "yanchor": "bottom",
          "yshift": 5
         },
         {
          "arrowhead": 2,
          "arrowsize": 2,
          "ax": 0,
          "axref": "x",
          "ay": 0,
          "ayref": "y",
          "showarrow": true,
          "x": -0.048014630895211206,
          "xanchor": "right",
          "y": 0.0961401989310358,
          "yanchor": "top"
         },
         {
          "ax": 0,
          "ay": 0,
          "text": "vitimas_latrocinio",
          "x": -0.048014630895211206,
          "xanchor": "center",
          "y": 0.0961401989310358,
          "yanchor": "bottom",
          "yshift": 5
         },
         {
          "arrowhead": 2,
          "arrowsize": 2,
          "ax": 0,
          "axref": "x",
          "ay": 0,
          "ayref": "y",
          "showarrow": true,
          "x": 0,
          "xanchor": "right",
          "y": 0,
          "yanchor": "top"
         },
         {
          "ax": 0,
          "ay": 0,
          "text": "vitimas_lesao_corporal_morte",
          "x": 0,
          "xanchor": "center",
          "y": 0,
          "yanchor": "bottom",
          "yshift": 5
         },
         {
          "arrowhead": 2,
          "arrowsize": 2,
          "ax": 0,
          "axref": "x",
          "ay": 0,
          "ayref": "y",
          "showarrow": true,
          "x": 0.25910771336689886,
          "xanchor": "right",
          "y": 0.013591104117319138,
          "yanchor": "top"
         },
         {
          "ax": 0,
          "ay": 0,
          "text": "populacao",
          "x": 0.25910771336689886,
          "xanchor": "center",
          "y": 0.013591104117319138,
          "yanchor": "bottom",
          "yshift": 5
         }
        ],
        "legend": {
         "title": {
          "text": "Município"
         },
         "tracegroupgap": 0
        },
        "template": {
         "data": {
          "bar": [
           {
            "error_x": {
             "color": "#2a3f5f"
            },
            "error_y": {
             "color": "#2a3f5f"
            },
            "marker": {
             "line": {
              "color": "#E5ECF6",
              "width": 0.5
             },
             "pattern": {
              "fillmode": "overlay",
              "size": 10,
              "solidity": 0.2
             }
            },
            "type": "bar"
           }
          ],
          "barpolar": [
           {
            "marker": {
             "line": {
              "color": "#E5ECF6",
              "width": 0.5
             },
             "pattern": {
              "fillmode": "overlay",
              "size": 10,
              "solidity": 0.2
             }
            },
            "type": "barpolar"
           }
          ],
          "carpet": [
           {
            "aaxis": {
             "endlinecolor": "#2a3f5f",
             "gridcolor": "white",
             "linecolor": "white",
             "minorgridcolor": "white",
             "startlinecolor": "#2a3f5f"
            },
            "baxis": {
             "endlinecolor": "#2a3f5f",
             "gridcolor": "white",
             "linecolor": "white",
             "minorgridcolor": "white",
             "startlinecolor": "#2a3f5f"
            },
            "type": "carpet"
           }
          ],
          "choropleth": [
           {
            "colorbar": {
             "outlinewidth": 0,
             "ticks": ""
            },
            "type": "choropleth"
           }
          ],
          "contour": [
           {
            "colorbar": {
             "outlinewidth": 0,
             "ticks": ""
            },
            "colorscale": [
             [
              0,
              "#0d0887"
             ],
             [
              0.1111111111111111,
              "#46039f"
             ],
             [
              0.2222222222222222,
              "#7201a8"
             ],
             [
              0.3333333333333333,
              "#9c179e"
             ],
             [
              0.4444444444444444,
              "#bd3786"
             ],
             [
              0.5555555555555556,
              "#d8576b"
             ],
             [
              0.6666666666666666,
              "#ed7953"
             ],
             [
              0.7777777777777778,
              "#fb9f3a"
             ],
             [
              0.8888888888888888,
              "#fdca26"
             ],
             [
              1,
              "#f0f921"
             ]
            ],
            "type": "contour"
           }
          ],
          "contourcarpet": [
           {
            "colorbar": {
             "outlinewidth": 0,
             "ticks": ""
            },
            "type": "contourcarpet"
           }
          ],
          "heatmap": [
           {
            "colorbar": {
             "outlinewidth": 0,
             "ticks": ""
            },
            "colorscale": [
             [
              0,
              "#0d0887"
             ],
             [
              0.1111111111111111,
              "#46039f"
             ],
             [
              0.2222222222222222,
              "#7201a8"
             ],
             [
              0.3333333333333333,
              "#9c179e"
             ],
             [
              0.4444444444444444,
              "#bd3786"
             ],
             [
              0.5555555555555556,
              "#d8576b"
             ],
             [
              0.6666666666666666,
              "#ed7953"
             ],
             [
              0.7777777777777778,
              "#fb9f3a"
             ],
             [
              0.8888888888888888,
              "#fdca26"
             ],
             [
              1,
              "#f0f921"
             ]
            ],
            "type": "heatmap"
           }
          ],
          "heatmapgl": [
           {
            "colorbar": {
             "outlinewidth": 0,
             "ticks": ""
            },
            "colorscale": [
             [
              0,
              "#0d0887"
             ],
             [
              0.1111111111111111,
              "#46039f"
             ],
             [
              0.2222222222222222,
              "#7201a8"
             ],
             [
              0.3333333333333333,
              "#9c179e"
             ],
             [
              0.4444444444444444,
              "#bd3786"
             ],
             [
              0.5555555555555556,
              "#d8576b"
             ],
             [
              0.6666666666666666,
              "#ed7953"
             ],
             [
              0.7777777777777778,
              "#fb9f3a"
             ],
             [
              0.8888888888888888,
              "#fdca26"
             ],
             [
              1,
              "#f0f921"
             ]
            ],
            "type": "heatmapgl"
           }
          ],
          "histogram": [
           {
            "marker": {
             "pattern": {
              "fillmode": "overlay",
              "size": 10,
              "solidity": 0.2
             }
            },
            "type": "histogram"
           }
          ],
          "histogram2d": [
           {
            "colorbar": {
             "outlinewidth": 0,
             "ticks": ""
            },
            "colorscale": [
             [
              0,
              "#0d0887"
             ],
             [
              0.1111111111111111,
              "#46039f"
             ],
             [
              0.2222222222222222,
              "#7201a8"
             ],
             [
              0.3333333333333333,
              "#9c179e"
             ],
             [
              0.4444444444444444,
              "#bd3786"
             ],
             [
              0.5555555555555556,
              "#d8576b"
             ],
             [
              0.6666666666666666,
              "#ed7953"
             ],
             [
              0.7777777777777778,
              "#fb9f3a"
             ],
             [
              0.8888888888888888,
              "#fdca26"
             ],
             [
              1,
              "#f0f921"
             ]
            ],
            "type": "histogram2d"
           }
          ],
          "histogram2dcontour": [
           {
            "colorbar": {
             "outlinewidth": 0,
             "ticks": ""
            },
            "colorscale": [
             [
              0,
              "#0d0887"
             ],
             [
              0.1111111111111111,
              "#46039f"
             ],
             [
              0.2222222222222222,
              "#7201a8"
             ],
             [
              0.3333333333333333,
              "#9c179e"
             ],
             [
              0.4444444444444444,
              "#bd3786"
             ],
             [
              0.5555555555555556,
              "#d8576b"
             ],
             [
              0.6666666666666666,
              "#ed7953"
             ],
             [
              0.7777777777777778,
              "#fb9f3a"
             ],
             [
              0.8888888888888888,
              "#fdca26"
             ],
             [
              1,
              "#f0f921"
             ]
            ],
            "type": "histogram2dcontour"
           }
          ],
          "mesh3d": [
           {
            "colorbar": {
             "outlinewidth": 0,
             "ticks": ""
            },
            "type": "mesh3d"
           }
          ],
          "parcoords": [
           {
            "line": {
             "colorbar": {
              "outlinewidth": 0,
              "ticks": ""
             }
            },
            "type": "parcoords"
           }
          ],
          "pie": [
           {
            "automargin": true,
            "type": "pie"
           }
          ],
          "scatter": [
           {
            "fillpattern": {
             "fillmode": "overlay",
             "size": 10,
             "solidity": 0.2
            },
            "type": "scatter"
           }
          ],
          "scatter3d": [
           {
            "line": {
             "colorbar": {
              "outlinewidth": 0,
              "ticks": ""
             }
            },
            "marker": {
             "colorbar": {
              "outlinewidth": 0,
              "ticks": ""
             }
            },
            "type": "scatter3d"
           }
          ],
          "scattercarpet": [
           {
            "marker": {
             "colorbar": {
              "outlinewidth": 0,
              "ticks": ""
             }
            },
            "type": "scattercarpet"
           }
          ],
          "scattergeo": [
           {
            "marker": {
             "colorbar": {
              "outlinewidth": 0,
              "ticks": ""
             }
            },
            "type": "scattergeo"
           }
          ],
          "scattergl": [
           {
            "marker": {
             "colorbar": {
              "outlinewidth": 0,
              "ticks": ""
             }
            },
            "type": "scattergl"
           }
          ],
          "scattermapbox": [
           {
            "marker": {
             "colorbar": {
              "outlinewidth": 0,
              "ticks": ""
             }
            },
            "type": "scattermapbox"
           }
          ],
          "scatterpolar": [
           {
            "marker": {
             "colorbar": {
              "outlinewidth": 0,
              "ticks": ""
             }
            },
            "type": "scatterpolar"
           }
          ],
          "scatterpolargl": [
           {
            "marker": {
             "colorbar": {
              "outlinewidth": 0,
              "ticks": ""
             }
            },
            "type": "scatterpolargl"
           }
          ],
          "scatterternary": [
           {
            "marker": {
             "colorbar": {
              "outlinewidth": 0,
              "ticks": ""
             }
            },
            "type": "scatterternary"
           }
          ],
          "surface": [
           {
            "colorbar": {
             "outlinewidth": 0,
             "ticks": ""
            },
            "colorscale": [
             [
              0,
              "#0d0887"
             ],
             [
              0.1111111111111111,
              "#46039f"
             ],
             [
              0.2222222222222222,
              "#7201a8"
             ],
             [
              0.3333333333333333,
              "#9c179e"
             ],
             [
              0.4444444444444444,
              "#bd3786"
             ],
             [
              0.5555555555555556,
              "#d8576b"
             ],
             [
              0.6666666666666666,
              "#ed7953"
             ],
             [
              0.7777777777777778,
              "#fb9f3a"
             ],
             [
              0.8888888888888888,
              "#fdca26"
             ],
             [
              1,
              "#f0f921"
             ]
            ],
            "type": "surface"
           }
          ],
          "table": [
           {
            "cells": {
             "fill": {
              "color": "#EBF0F8"
             },
             "line": {
              "color": "white"
             }
            },
            "header": {
             "fill": {
              "color": "#C8D4E3"
             },
             "line": {
              "color": "white"
             }
            },
            "type": "table"
           }
          ]
         },
         "layout": {
          "annotationdefaults": {
           "arrowcolor": "#2a3f5f",
           "arrowhead": 0,
           "arrowwidth": 1
          },
          "autotypenumbers": "strict",
          "coloraxis": {
           "colorbar": {
            "outlinewidth": 0,
            "ticks": ""
           }
          },
          "colorscale": {
           "diverging": [
            [
             0,
             "#8e0152"
            ],
            [
             0.1,
             "#c51b7d"
            ],
            [
             0.2,
             "#de77ae"
            ],
            [
             0.3,
             "#f1b6da"
            ],
            [
             0.4,
             "#fde0ef"
            ],
            [
             0.5,
             "#f7f7f7"
            ],
            [
             0.6,
             "#e6f5d0"
            ],
            [
             0.7,
             "#b8e186"
            ],
            [
             0.8,
             "#7fbc41"
            ],
            [
             0.9,
             "#4d9221"
            ],
            [
             1,
             "#276419"
            ]
           ],
           "sequential": [
            [
             0,
             "#0d0887"
            ],
            [
             0.1111111111111111,
             "#46039f"
            ],
            [
             0.2222222222222222,
             "#7201a8"
            ],
            [
             0.3333333333333333,
             "#9c179e"
            ],
            [
             0.4444444444444444,
             "#bd3786"
            ],
            [
             0.5555555555555556,
             "#d8576b"
            ],
            [
             0.6666666666666666,
             "#ed7953"
            ],
            [
             0.7777777777777778,
             "#fb9f3a"
            ],
            [
             0.8888888888888888,
             "#fdca26"
            ],
            [
             1,
             "#f0f921"
            ]
           ],
           "sequentialminus": [
            [
             0,
             "#0d0887"
            ],
            [
             0.1111111111111111,
             "#46039f"
            ],
            [
             0.2222222222222222,
             "#7201a8"
            ],
            [
             0.3333333333333333,
             "#9c179e"
            ],
            [
             0.4444444444444444,
             "#bd3786"
            ],
            [
             0.5555555555555556,
             "#d8576b"
            ],
            [
             0.6666666666666666,
             "#ed7953"
            ],
            [
             0.7777777777777778,
             "#fb9f3a"
            ],
            [
             0.8888888888888888,
             "#fdca26"
            ],
            [
             1,
             "#f0f921"
            ]
           ]
          },
          "colorway": [
           "#636efa",
           "#EF553B",
           "#00cc96",
           "#ab63fa",
           "#FFA15A",
           "#19d3f3",
           "#FF6692",
           "#B6E880",
           "#FF97FF",
           "#FECB52"
          ],
          "font": {
           "color": "#2a3f5f"
          },
          "geo": {
           "bgcolor": "white",
           "lakecolor": "white",
           "landcolor": "#E5ECF6",
           "showlakes": true,
           "showland": true,
           "subunitcolor": "white"
          },
          "hoverlabel": {
           "align": "left"
          },
          "hovermode": "closest",
          "mapbox": {
           "style": "light"
          },
          "paper_bgcolor": "white",
          "plot_bgcolor": "#E5ECF6",
          "polar": {
           "angularaxis": {
            "gridcolor": "white",
            "linecolor": "white",
            "ticks": ""
           },
           "bgcolor": "#E5ECF6",
           "radialaxis": {
            "gridcolor": "white",
            "linecolor": "white",
            "ticks": ""
           }
          },
          "scene": {
           "xaxis": {
            "backgroundcolor": "#E5ECF6",
            "gridcolor": "white",
            "gridwidth": 2,
            "linecolor": "white",
            "showbackground": true,
            "ticks": "",
            "zerolinecolor": "white"
           },
           "yaxis": {
            "backgroundcolor": "#E5ECF6",
            "gridcolor": "white",
            "gridwidth": 2,
            "linecolor": "white",
            "showbackground": true,
            "ticks": "",
            "zerolinecolor": "white"
           },
           "zaxis": {
            "backgroundcolor": "#E5ECF6",
            "gridcolor": "white",
            "gridwidth": 2,
            "linecolor": "white",
            "showbackground": true,
            "ticks": "",
            "zerolinecolor": "white"
           }
          },
          "shapedefaults": {
           "line": {
            "color": "#2a3f5f"
           }
          },
          "ternary": {
           "aaxis": {
            "gridcolor": "white",
            "linecolor": "white",
            "ticks": ""
           },
           "baxis": {
            "gridcolor": "white",
            "linecolor": "white",
            "ticks": ""
           },
           "bgcolor": "#E5ECF6",
           "caxis": {
            "gridcolor": "white",
            "linecolor": "white",
            "ticks": ""
           }
          },
          "title": {
           "x": 0.05
          },
          "xaxis": {
           "automargin": true,
           "gridcolor": "white",
           "linecolor": "white",
           "ticks": "",
           "title": {
            "standoff": 15
           },
           "zerolinecolor": "white",
           "zerolinewidth": 2
          },
          "yaxis": {
           "automargin": true,
           "gridcolor": "white",
           "linecolor": "white",
           "ticks": "",
           "title": {
            "standoff": 15
           },
           "zerolinecolor": "white",
           "zerolinewidth": 2
          }
         }
        },
        "title": {
         "text": "Taxa Total de Variancia Explicada por 2 PC: 71.70%"
        },
        "xaxis": {
         "anchor": "y",
         "domain": [
          0,
          1
         ],
         "title": {
          "text": "PC1"
         }
        },
        "yaxis": {
         "anchor": "x",
         "autorange": "reversed",
         "domain": [
          0,
          1
         ],
         "title": {
          "text": "PC2"
         }
        }
       }
      }
     },
     "metadata": {},
     "output_type": "display_data"
    },
    {
     "data": {
      "text/plain": [
       "' Foi utilizado a biblioteca Plotly para a visualização dos dados. Documentação do gráfico PCA: https://plotly.com/python/pca-visualization/'"
      ]
     },
     "execution_count": 291,
     "metadata": {},
     "output_type": "execute_result"
    }
   ],
   "source": [
    "total_var_2 = pca.explained_variance_ratio_[:2].sum() * 100\n",
    "total_var_2\n",
    "\n",
    "# Calculando as cargas dos componentes\n",
    "loadings = pca.components_.T * np.sqrt(pca.explained_variance_)\n",
    "\n",
    "# Plotando o gráfico de dispersão com os componentes principais\n",
    "fig = px.scatter(\n",
    "    components, x=0, y=1, color=df_pca.index,\n",
    "    labels={'0': 'PC1', '1': 'PC2', 'color': 'Município'},\n",
    "    title=f'Taxa Total de Variancia Explicada por 2 PC: {total_var_2:.2f}%')\n",
    "\n",
    "features = df_sample.columns\n",
    "\n",
    "# Adicionando os vetores de carga ao gráfico\n",
    "for i, feature in enumerate(features):\n",
    "    fig.add_annotation(\n",
    "        ax=0, ay=0,\n",
    "        axref=\"x\", ayref=\"y\",\n",
    "        x=loadings[i, 0],\n",
    "        y=loadings[i, 1],\n",
    "        showarrow=True,\n",
    "        arrowsize=2,\n",
    "        arrowhead=2,\n",
    "        xanchor=\"right\",\n",
    "        yanchor=\"top\"\n",
    "    )\n",
    "    \n",
    "    fig.add_annotation(\n",
    "        x=loadings[i, 0],\n",
    "        y=loadings[i, 1],\n",
    "        ax=0, ay=0,\n",
    "        xanchor=\"center\",\n",
    "        yanchor=\"bottom\",\n",
    "        text=feature,\n",
    "        yshift=5,\n",
    "    )\n",
    "# Invertendo o eixo y para que o gráfico fique na posição correta    \n",
    "fig.update_yaxes(autorange=\"reversed\")\n",
    "fig.show()\n",
    "\n",
    "\"\"\" Foi utilizado a biblioteca Plotly para a visualização dos dados. Documentação do gráfico PCA: https://plotly.com/python/pca-visualization/\"\"\""
   ]
  },
  {
   "cell_type": "code",
   "execution_count": 292,
   "metadata": {},
   "outputs": [
    {
     "data": {
      "text/plain": [
       "\" i, j = 0, 1 # which components\\nscale_arrow = s_ = 2\\ncomponents[:,1] *= -1\\npca.components_[1] *= -1 # flip the y-axis\\nfig, ax = plt.subplots(1, 1, figsize=(8, 8))\\nax.scatter(components[:,0], components[:,1])\\nax.set_xlabel('PC%d' % (i+1))\\nax.set_ylabel('PC%d' % (j+1))\\nfor k in range(pca.components_.shape[1]):\\n    ax.arrow(0, 0, s_*pca.components_[i,k], s_*pca.components_[j,k])\\n    ax.text(s_*pca.components_[i,k],\\n            s_*pca.components_[j,k],\\n            df_sample.columns[k]) \""
      ]
     },
     "execution_count": 292,
     "metadata": {},
     "output_type": "execute_result"
    }
   ],
   "source": [
    "\"\"\" i, j = 0, 1 # which components\n",
    "scale_arrow = s_ = 2\n",
    "components[:,1] *= -1\n",
    "pca.components_[1] *= -1 # flip the y-axis\n",
    "fig, ax = plt.subplots(1, 1, figsize=(8, 8))\n",
    "ax.scatter(components[:,0], components[:,1])\n",
    "ax.set_xlabel('PC%d' % (i+1))\n",
    "ax.set_ylabel('PC%d' % (j+1))\n",
    "for k in range(pca.components_.shape[1]):\n",
    "    ax.arrow(0, 0, s_*pca.components_[i,k], s_*pca.components_[j,k])\n",
    "    ax.text(s_*pca.components_[i,k],\n",
    "            s_*pca.components_[j,k],\n",
    "            df_sample.columns[k]) \"\"\""
   ]
  },
  {
   "cell_type": "markdown",
   "metadata": {},
   "source": [
    "## Sistema de Recomendação\n"
   ]
  },
  {
   "cell_type": "code",
   "execution_count": 310,
   "metadata": {},
   "outputs": [
    {
     "data": {
      "text/html": [
       "<div>\n",
       "<style scoped>\n",
       "    .dataframe tbody tr th:only-of-type {\n",
       "        vertical-align: middle;\n",
       "    }\n",
       "\n",
       "    .dataframe tbody tr th {\n",
       "        vertical-align: top;\n",
       "    }\n",
       "\n",
       "    .dataframe thead th {\n",
       "        text-align: right;\n",
       "    }\n",
       "</style>\n",
       "<table border=\"1\" class=\"dataframe\">\n",
       "  <thead>\n",
       "    <tr style=\"text-align: right;\">\n",
       "      <th></th>\n",
       "      <th>PC1</th>\n",
       "      <th>PC2</th>\n",
       "      <th>PC3</th>\n",
       "      <th>PC4</th>\n",
       "    </tr>\n",
       "    <tr>\n",
       "      <th>municipios</th>\n",
       "      <th></th>\n",
       "      <th></th>\n",
       "      <th></th>\n",
       "      <th></th>\n",
       "    </tr>\n",
       "  </thead>\n",
       "  <tbody>\n",
       "    <tr>\n",
       "      <th>hulha negra</th>\n",
       "      <td>-0.601557</td>\n",
       "      <td>0.075443</td>\n",
       "      <td>-0.145768</td>\n",
       "      <td>0.006247</td>\n",
       "    </tr>\n",
       "    <tr>\n",
       "      <th>sao valentim do sul</th>\n",
       "      <td>-0.682314</td>\n",
       "      <td>-0.512254</td>\n",
       "      <td>-0.072228</td>\n",
       "      <td>0.019699</td>\n",
       "    </tr>\n",
       "    <tr>\n",
       "      <th>xangri-la</th>\n",
       "      <td>0.044404</td>\n",
       "      <td>-0.434083</td>\n",
       "      <td>-0.035557</td>\n",
       "      <td>-0.017995</td>\n",
       "    </tr>\n",
       "    <tr>\n",
       "      <th>nova padua</th>\n",
       "      <td>-0.710398</td>\n",
       "      <td>-0.512442</td>\n",
       "      <td>-0.073661</td>\n",
       "      <td>0.017818</td>\n",
       "    </tr>\n",
       "    <tr>\n",
       "      <th>catuipe</th>\n",
       "      <td>-0.479446</td>\n",
       "      <td>-0.042584</td>\n",
       "      <td>-0.122929</td>\n",
       "      <td>0.173788</td>\n",
       "    </tr>\n",
       "    <tr>\n",
       "      <th>esmeralda</th>\n",
       "      <td>-0.586841</td>\n",
       "      <td>-0.436212</td>\n",
       "      <td>-0.077948</td>\n",
       "      <td>0.159723</td>\n",
       "    </tr>\n",
       "    <tr>\n",
       "      <th>lajeado do bugre</th>\n",
       "      <td>-0.681381</td>\n",
       "      <td>-0.509419</td>\n",
       "      <td>-0.073198</td>\n",
       "      <td>0.045610</td>\n",
       "    </tr>\n",
       "    <tr>\n",
       "      <th>cruz alta</th>\n",
       "      <td>1.669484</td>\n",
       "      <td>0.259451</td>\n",
       "      <td>-0.038734</td>\n",
       "      <td>1.027021</td>\n",
       "    </tr>\n",
       "    <tr>\n",
       "      <th>nova ramada</th>\n",
       "      <td>-0.680811</td>\n",
       "      <td>-0.443985</td>\n",
       "      <td>-0.081915</td>\n",
       "      <td>0.039932</td>\n",
       "    </tr>\n",
       "    <tr>\n",
       "      <th>jaguarao</th>\n",
       "      <td>0.159789</td>\n",
       "      <td>2.316469</td>\n",
       "      <td>-0.394150</td>\n",
       "      <td>-0.269782</td>\n",
       "    </tr>\n",
       "    <tr>\n",
       "      <th>nova petropolis</th>\n",
       "      <td>-0.170506</td>\n",
       "      <td>-0.477718</td>\n",
       "      <td>-0.039314</td>\n",
       "      <td>-0.023808</td>\n",
       "    </tr>\n",
       "    <tr>\n",
       "      <th>charqueadas</th>\n",
       "      <td>1.105608</td>\n",
       "      <td>-0.441893</td>\n",
       "      <td>0.034148</td>\n",
       "      <td>-0.954337</td>\n",
       "    </tr>\n",
       "    <tr>\n",
       "      <th>torres</th>\n",
       "      <td>1.087794</td>\n",
       "      <td>0.048693</td>\n",
       "      <td>-0.036304</td>\n",
       "      <td>-0.346325</td>\n",
       "    </tr>\n",
       "    <tr>\n",
       "      <th>sarandi</th>\n",
       "      <td>0.193174</td>\n",
       "      <td>-0.498759</td>\n",
       "      <td>-0.017767</td>\n",
       "      <td>-0.008377</td>\n",
       "    </tr>\n",
       "    <tr>\n",
       "      <th>fortaleza dos valos</th>\n",
       "      <td>-0.666416</td>\n",
       "      <td>-0.381867</td>\n",
       "      <td>-0.088402</td>\n",
       "      <td>0.030491</td>\n",
       "    </tr>\n",
       "    <tr>\n",
       "      <th>almirante tamandare do sul</th>\n",
       "      <td>-0.690690</td>\n",
       "      <td>-0.444790</td>\n",
       "      <td>-0.082311</td>\n",
       "      <td>0.034523</td>\n",
       "    </tr>\n",
       "    <tr>\n",
       "      <th>esteio</th>\n",
       "      <td>1.499243</td>\n",
       "      <td>-0.625562</td>\n",
       "      <td>0.080008</td>\n",
       "      <td>0.557246</td>\n",
       "    </tr>\n",
       "    <tr>\n",
       "      <th>frederico westphalen</th>\n",
       "      <td>0.549290</td>\n",
       "      <td>0.042027</td>\n",
       "      <td>-0.063342</td>\n",
       "      <td>-0.326968</td>\n",
       "    </tr>\n",
       "    <tr>\n",
       "      <th>canela</th>\n",
       "      <td>1.367336</td>\n",
       "      <td>-0.623974</td>\n",
       "      <td>0.074223</td>\n",
       "      <td>-0.438677</td>\n",
       "    </tr>\n",
       "    <tr>\n",
       "      <th>piratini</th>\n",
       "      <td>-0.169586</td>\n",
       "      <td>1.770383</td>\n",
       "      <td>-0.343729</td>\n",
       "      <td>0.056166</td>\n",
       "    </tr>\n",
       "    <tr>\n",
       "      <th>vale verde</th>\n",
       "      <td>-0.649219</td>\n",
       "      <td>-0.118952</td>\n",
       "      <td>-0.122235</td>\n",
       "      <td>0.019683</td>\n",
       "    </tr>\n",
       "    <tr>\n",
       "      <th>restinga seca</th>\n",
       "      <td>-0.368919</td>\n",
       "      <td>0.395720</td>\n",
       "      <td>-0.171252</td>\n",
       "      <td>0.038712</td>\n",
       "    </tr>\n",
       "    <tr>\n",
       "      <th>santo antonio da patrulha</th>\n",
       "      <td>0.334338</td>\n",
       "      <td>0.427480</td>\n",
       "      <td>-0.128230</td>\n",
       "      <td>0.152806</td>\n",
       "    </tr>\n",
       "    <tr>\n",
       "      <th>passo do sobrado</th>\n",
       "      <td>-0.498199</td>\n",
       "      <td>0.466022</td>\n",
       "      <td>-0.191622</td>\n",
       "      <td>-0.000622</td>\n",
       "    </tr>\n",
       "    <tr>\n",
       "      <th>sao sepe</th>\n",
       "      <td>-0.374178</td>\n",
       "      <td>0.702804</td>\n",
       "      <td>2.212216</td>\n",
       "      <td>0.007425</td>\n",
       "    </tr>\n",
       "  </tbody>\n",
       "</table>\n",
       "</div>"
      ],
      "text/plain": [
       "                                 PC1       PC2       PC3       PC4\n",
       "municipios                                                        \n",
       "hulha negra                -0.601557  0.075443 -0.145768  0.006247\n",
       "sao valentim do sul        -0.682314 -0.512254 -0.072228  0.019699\n",
       "xangri-la                   0.044404 -0.434083 -0.035557 -0.017995\n",
       "nova padua                 -0.710398 -0.512442 -0.073661  0.017818\n",
       "catuipe                    -0.479446 -0.042584 -0.122929  0.173788\n",
       "esmeralda                  -0.586841 -0.436212 -0.077948  0.159723\n",
       "lajeado do bugre           -0.681381 -0.509419 -0.073198  0.045610\n",
       "cruz alta                   1.669484  0.259451 -0.038734  1.027021\n",
       "nova ramada                -0.680811 -0.443985 -0.081915  0.039932\n",
       "jaguarao                    0.159789  2.316469 -0.394150 -0.269782\n",
       "nova petropolis            -0.170506 -0.477718 -0.039314 -0.023808\n",
       "charqueadas                 1.105608 -0.441893  0.034148 -0.954337\n",
       "torres                      1.087794  0.048693 -0.036304 -0.346325\n",
       "sarandi                     0.193174 -0.498759 -0.017767 -0.008377\n",
       "fortaleza dos valos        -0.666416 -0.381867 -0.088402  0.030491\n",
       "almirante tamandare do sul -0.690690 -0.444790 -0.082311  0.034523\n",
       "esteio                      1.499243 -0.625562  0.080008  0.557246\n",
       "frederico westphalen        0.549290  0.042027 -0.063342 -0.326968\n",
       "canela                      1.367336 -0.623974  0.074223 -0.438677\n",
       "piratini                   -0.169586  1.770383 -0.343729  0.056166\n",
       "vale verde                 -0.649219 -0.118952 -0.122235  0.019683\n",
       "restinga seca              -0.368919  0.395720 -0.171252  0.038712\n",
       "santo antonio da patrulha   0.334338  0.427480 -0.128230  0.152806\n",
       "passo do sobrado           -0.498199  0.466022 -0.191622 -0.000622\n",
       "sao sepe                   -0.374178  0.702804  2.212216  0.007425"
      ]
     },
     "execution_count": 310,
     "metadata": {},
     "output_type": "execute_result"
    }
   ],
   "source": [
    "df_recom = df_pca.drop(columns=['cluster'])\n",
    "\n",
    "df_recom"
   ]
  },
  {
   "cell_type": "code",
   "execution_count": 311,
   "metadata": {},
   "outputs": [],
   "source": [
    "from sklearn.metrics.pairwise import euclidean_distances"
   ]
  },
  {
   "cell_type": "code",
   "execution_count": 312,
   "metadata": {},
   "outputs": [
    {
     "data": {
      "text/plain": [
       "(25, 25)"
      ]
     },
     "execution_count": 312,
     "metadata": {},
     "output_type": "execute_result"
    }
   ],
   "source": [
    "# Calculando a distância euclidiana entre os componentes principais\n",
    "dist = euclidean_distances(df_recom)\n",
    "dist.shape\n"
   ]
  },
  {
   "cell_type": "code",
   "execution_count": 313,
   "metadata": {},
   "outputs": [
    {
     "data": {
      "text/plain": [
       "municipios\n",
       "hulha negra                    0\n",
       "sao valentim do sul            1\n",
       "xangri-la                      2\n",
       "nova padua                     3\n",
       "catuipe                        4\n",
       "esmeralda                      5\n",
       "lajeado do bugre               6\n",
       "cruz alta                      7\n",
       "nova ramada                    8\n",
       "jaguarao                       9\n",
       "nova petropolis               10\n",
       "charqueadas                   11\n",
       "torres                        12\n",
       "sarandi                       13\n",
       "fortaleza dos valos           14\n",
       "almirante tamandare do sul    15\n",
       "esteio                        16\n",
       "frederico westphalen          17\n",
       "canela                        18\n",
       "piratini                      19\n",
       "vale verde                    20\n",
       "restinga seca                 21\n",
       "santo antonio da patrulha     22\n",
       "passo do sobrado              23\n",
       "sao sepe                      24\n",
       "dtype: int64"
      ]
     },
     "execution_count": 313,
     "metadata": {},
     "output_type": "execute_result"
    }
   ],
   "source": [
    "df_recom = df_recom.reset_index()\n",
    "indices = pd.Series(df_recom.index, index=df_recom['municipios'])\n",
    "indices"
   ]
  },
  {
   "cell_type": "code",
   "execution_count": 314,
   "metadata": {},
   "outputs": [
    {
     "data": {
      "text/html": [
       "<div>\n",
       "<style scoped>\n",
       "    .dataframe tbody tr th:only-of-type {\n",
       "        vertical-align: middle;\n",
       "    }\n",
       "\n",
       "    .dataframe tbody tr th {\n",
       "        vertical-align: top;\n",
       "    }\n",
       "\n",
       "    .dataframe thead th {\n",
       "        text-align: right;\n",
       "    }\n",
       "</style>\n",
       "<table border=\"1\" class=\"dataframe\">\n",
       "  <thead>\n",
       "    <tr style=\"text-align: right;\">\n",
       "      <th>first_name</th>\n",
       "      <th>Angelita</th>\n",
       "      <th>Leland</th>\n",
       "      <th>Bartholomeus</th>\n",
       "      <th>Desdemona</th>\n",
       "      <th>Costanza</th>\n",
       "      <th>Christan</th>\n",
       "      <th>Malinde</th>\n",
       "      <th>Nikolaus</th>\n",
       "      <th>Myriam</th>\n",
       "      <th>Anallese</th>\n",
       "      <th>...</th>\n",
       "      <th>Lindie</th>\n",
       "      <th>Yalonda</th>\n",
       "      <th>Korie</th>\n",
       "      <th>Ronnie</th>\n",
       "      <th>Idelle</th>\n",
       "      <th>Jacquie</th>\n",
       "      <th>Nickolas</th>\n",
       "      <th>Niko</th>\n",
       "      <th>Bill</th>\n",
       "      <th>rating_mean</th>\n",
       "    </tr>\n",
       "  </thead>\n",
       "  <tbody>\n",
       "    <tr>\n",
       "      <th>hulha negra</th>\n",
       "      <td>NaN</td>\n",
       "      <td>NaN</td>\n",
       "      <td>NaN</td>\n",
       "      <td>NaN</td>\n",
       "      <td>NaN</td>\n",
       "      <td>NaN</td>\n",
       "      <td>NaN</td>\n",
       "      <td>NaN</td>\n",
       "      <td>NaN</td>\n",
       "      <td>NaN</td>\n",
       "      <td>...</td>\n",
       "      <td>NaN</td>\n",
       "      <td>NaN</td>\n",
       "      <td>NaN</td>\n",
       "      <td>NaN</td>\n",
       "      <td>NaN</td>\n",
       "      <td>NaN</td>\n",
       "      <td>NaN</td>\n",
       "      <td>NaN</td>\n",
       "      <td>NaN</td>\n",
       "      <td>NaN</td>\n",
       "    </tr>\n",
       "    <tr>\n",
       "      <th>sao valentim do sul</th>\n",
       "      <td>NaN</td>\n",
       "      <td>1.8</td>\n",
       "      <td>NaN</td>\n",
       "      <td>1.9</td>\n",
       "      <td>2.1</td>\n",
       "      <td>1.1</td>\n",
       "      <td>4.7</td>\n",
       "      <td>NaN</td>\n",
       "      <td>4.4</td>\n",
       "      <td>4.0</td>\n",
       "      <td>...</td>\n",
       "      <td>NaN</td>\n",
       "      <td>NaN</td>\n",
       "      <td>4.5</td>\n",
       "      <td>3.2</td>\n",
       "      <td>NaN</td>\n",
       "      <td>4.6</td>\n",
       "      <td>NaN</td>\n",
       "      <td>1.0</td>\n",
       "      <td>NaN</td>\n",
       "      <td>3.060000</td>\n",
       "    </tr>\n",
       "    <tr>\n",
       "      <th>xangri-la</th>\n",
       "      <td>NaN</td>\n",
       "      <td>1.9</td>\n",
       "      <td>NaN</td>\n",
       "      <td>NaN</td>\n",
       "      <td>4.8</td>\n",
       "      <td>1.0</td>\n",
       "      <td>2.1</td>\n",
       "      <td>4.5</td>\n",
       "      <td>4.0</td>\n",
       "      <td>4.4</td>\n",
       "      <td>...</td>\n",
       "      <td>NaN</td>\n",
       "      <td>1.0</td>\n",
       "      <td>1.2</td>\n",
       "      <td>2.4</td>\n",
       "      <td>1.6</td>\n",
       "      <td>2.3</td>\n",
       "      <td>4.0</td>\n",
       "      <td>4.6</td>\n",
       "      <td>1.6</td>\n",
       "      <td>2.461538</td>\n",
       "    </tr>\n",
       "    <tr>\n",
       "      <th>nova padua</th>\n",
       "      <td>NaN</td>\n",
       "      <td>1.8</td>\n",
       "      <td>3.7</td>\n",
       "      <td>4.7</td>\n",
       "      <td>1.2</td>\n",
       "      <td>NaN</td>\n",
       "      <td>NaN</td>\n",
       "      <td>1.6</td>\n",
       "      <td>NaN</td>\n",
       "      <td>NaN</td>\n",
       "      <td>...</td>\n",
       "      <td>4.8</td>\n",
       "      <td>3.7</td>\n",
       "      <td>2.7</td>\n",
       "      <td>1.3</td>\n",
       "      <td>3.6</td>\n",
       "      <td>NaN</td>\n",
       "      <td>2.1</td>\n",
       "      <td>NaN</td>\n",
       "      <td>4.0</td>\n",
       "      <td>2.797222</td>\n",
       "    </tr>\n",
       "    <tr>\n",
       "      <th>catuipe</th>\n",
       "      <td>NaN</td>\n",
       "      <td>NaN</td>\n",
       "      <td>NaN</td>\n",
       "      <td>1.8</td>\n",
       "      <td>NaN</td>\n",
       "      <td>NaN</td>\n",
       "      <td>NaN</td>\n",
       "      <td>4.2</td>\n",
       "      <td>NaN</td>\n",
       "      <td>NaN</td>\n",
       "      <td>...</td>\n",
       "      <td>3.4</td>\n",
       "      <td>NaN</td>\n",
       "      <td>NaN</td>\n",
       "      <td>NaN</td>\n",
       "      <td>NaN</td>\n",
       "      <td>NaN</td>\n",
       "      <td>NaN</td>\n",
       "      <td>2.9</td>\n",
       "      <td>NaN</td>\n",
       "      <td>2.733333</td>\n",
       "    </tr>\n",
       "  </tbody>\n",
       "</table>\n",
       "<p>5 rows × 51 columns</p>\n",
       "</div>"
      ],
      "text/plain": [
       "first_name           Angelita  Leland  Bartholomeus  Desdemona  Costanza  \\\n",
       "hulha negra               NaN     NaN           NaN        NaN       NaN   \n",
       "sao valentim do sul       NaN     1.8           NaN        1.9       2.1   \n",
       "xangri-la                 NaN     1.9           NaN        NaN       4.8   \n",
       "nova padua                NaN     1.8           3.7        4.7       1.2   \n",
       "catuipe                   NaN     NaN           NaN        1.8       NaN   \n",
       "\n",
       "first_name           Christan  Malinde  Nikolaus  Myriam  Anallese  ...  \\\n",
       "hulha negra               NaN      NaN       NaN     NaN       NaN  ...   \n",
       "sao valentim do sul       1.1      4.7       NaN     4.4       4.0  ...   \n",
       "xangri-la                 1.0      2.1       4.5     4.0       4.4  ...   \n",
       "nova padua                NaN      NaN       1.6     NaN       NaN  ...   \n",
       "catuipe                   NaN      NaN       4.2     NaN       NaN  ...   \n",
       "\n",
       "first_name           Lindie  Yalonda  Korie  Ronnie  Idelle  Jacquie  \\\n",
       "hulha negra             NaN      NaN    NaN     NaN     NaN      NaN   \n",
       "sao valentim do sul     NaN      NaN    4.5     3.2     NaN      4.6   \n",
       "xangri-la               NaN      1.0    1.2     2.4     1.6      2.3   \n",
       "nova padua              4.8      3.7    2.7     1.3     3.6      NaN   \n",
       "catuipe                 3.4      NaN    NaN     NaN     NaN      NaN   \n",
       "\n",
       "first_name           Nickolas  Niko  Bill  rating_mean  \n",
       "hulha negra               NaN   NaN   NaN          NaN  \n",
       "sao valentim do sul       NaN   1.0   NaN     3.060000  \n",
       "xangri-la                 4.0   4.6   1.6     2.461538  \n",
       "nova padua                2.1   NaN   4.0     2.797222  \n",
       "catuipe                   NaN   2.9   NaN     2.733333  \n",
       "\n",
       "[5 rows x 51 columns]"
      ]
     },
     "execution_count": 314,
     "metadata": {},
     "output_type": "execute_result"
    }
   ],
   "source": [
    "df_ratings = pd.read_csv('data\\\\tocsv\\\\ratings.csv', delimiter=',')\n",
    "\n",
    "df_ratings.set_index('first_name', inplace=True)\n",
    "\n",
    "for i in range (0, len(df_sample)):\n",
    "    df_ratings.rename(columns={f'rating_{i}': df_sample.index[i]}, inplace=True)\n",
    "\n",
    "df_ratings = df_ratings.T\n",
    "\n",
    "#somar os ratings de cada municipio\n",
    "df_ratings['rating_mean'] = df_ratings.mean(axis=1, numeric_only=True)\n",
    "\n",
    "\n",
    "\n",
    "df_ratings.head()"
   ]
  },
  {
   "cell_type": "code",
   "execution_count": 315,
   "metadata": {},
   "outputs": [],
   "source": [
    "def score_similar(user, indices, dist, num_recommend):\n",
    "\n",
    "  if len(user['municipios']) == 0:\n",
    "\n",
    "    # Recomendar uma lista de itens para um usuário novo (sem ratings)\n",
    "    if len(user['ratings']) == 0:\n",
    "\n",
    "      # Recomendar itens mais populares entre todos os usuários\n",
    "      score = df_ratings['rating_mean'].sort_values(ascending=False)\n",
    "\n",
    "      return indices[score[0:num_recommend].index]\n",
    "\n",
    "    elif len(user['ratings']) < 0:\n",
    "      return 'Erro, ranting sem municípios e negativo.'\n",
    "    else:\n",
    "      return 'Erro, ranting sem município.'\n",
    "\n",
    "  elif len(user['municipios']) > 0:\n",
    "\n",
    "    # Recomendar uma lista de itens para um usuário antigo de acordo com os próprios ratings\n",
    "    if len(user['ratings']) > 0:\n",
    "      \n",
    "      i=indices[user['municipios']]\n",
    "\n",
    "      res = pd.DataFrame(dist[i])\n",
    "      res = res.drop(i, axis='columns').T\n",
    "\n",
    "      # Realiza a multiplicação de matrizes entre res e os ratings do usuário, resultando em um vetor de scores.\n",
    "      score = res.dot(user['ratings']).sort_values(ascending=False)\n",
    "      \n",
    "\n",
    "      return indices[score[0:num_recommend].index]\n",
    "    \n",
    "    # Erro se o usuário tiver ratings negativos\n",
    "    elif len(user['ratings']) < 0:\n",
    "      return 'Erro, rating negativo.'\n",
    "    \n",
    "    # Sugerir avaliar os municipios visitados\n",
    "    elif len(user['ratings']) == 0:\n",
    "      return 'Que tal avaliar os municípios visitados?'\n",
    "\n",
    "  else:\n",
    "    return 'Erro.'\n",
    "  \n"
   ]
  },
  {
   "cell_type": "code",
   "execution_count": 322,
   "metadata": {},
   "outputs": [],
   "source": [
    "n_rec = 5\n",
    "\n",
    "usr1 = {\n",
    "  'municipios': ['canela','xangri-la','cruz alta'],\n",
    "  'ratings': [5,2,1]\n",
    "}\n",
    "\n",
    "usr2 = {\n",
    "  \"municipios\": [],\n",
    "  \"ratings\": []\n",
    "}\n",
    "\n",
    "usr3 = {\n",
    "  \"municipios\": ['canela','santo antonio da patrulha','cruz alta'],\n",
    "  \"ratings\": [1,2.9,5]\n",
    "}"
   ]
  },
  {
   "cell_type": "code",
   "execution_count": null,
   "metadata": {},
   "outputs": [],
   "source": [
    "print(score_similar(usr1, indices, dist, n_rec))"
   ]
  },
  {
   "cell_type": "code",
   "execution_count": null,
   "metadata": {},
   "outputs": [],
   "source": [
    "print(score_similar(usr2, indices, dist, n_rec))"
   ]
  },
  {
   "cell_type": "code",
   "execution_count": null,
   "metadata": {},
   "outputs": [],
   "source": [
    "print(score_similar(usr3, indices, dist, n_rec))"
   ]
  }
 ],
 "metadata": {
  "kernelspec": {
   "display_name": "Python 3",
   "language": "python",
   "name": "python3"
  },
  "language_info": {
   "codemirror_mode": {
    "name": "ipython",
    "version": 3
   },
   "file_extension": ".py",
   "mimetype": "text/x-python",
   "name": "python",
   "nbconvert_exporter": "python",
   "pygments_lexer": "ipython3",
   "version": "3.12.2"
  }
 },
 "nbformat": 4,
 "nbformat_minor": 2
}
